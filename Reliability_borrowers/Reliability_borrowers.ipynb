{
 "cells": [
  {
   "cell_type": "markdown",
   "id": "1cb963cd",
   "metadata": {},
   "source": [
    "# Исследование надежности заемщиков."
   ]
  },
  {
   "cell_type": "markdown",
   "id": "1f662210",
   "metadata": {},
   "source": [
    "Заказчиком исследования является кредитный отдел банка. Его целью является установление зависимости своевременного исполнения заемщиками кредитных обязательств от их семейного положения и количества детей. Для исследования банком представлена статистика о платёжеспособности клиентов.\n",
    "Результаты исследования будут учтены при построении модели кредитного скоринга. Статистической моделью, в которой будут представлены анализируемые категории изберем таблицы, в которых сопоставим общее количество заемщиков по заданным категориям (семейное положение, количество детей, уровень дохода, цель кредитования) с количеством имеющих факты несвоевременного возврата кредитов, и посчитаем долю. Для наглядности составим таблицу, в которой в абсолютном выражении будет показано количество заемщиков, имеющих долги по кредитам, с учетом семейного положения и количества детей в совокупности.\n",
    "    Перед построением таблиц проведем предобработку данных, включающую утранение аномальных значений, пропусков, дубликатов.   </div> "
   ]
  },
  {
   "cell_type": "markdown",
   "id": "93639e13",
   "metadata": {},
   "source": [
    "### Шаг 1. Обзор данных"
   ]
  },
  {
   "cell_type": "code",
   "execution_count": 1,
   "id": "77f00b82",
   "metadata": {},
   "outputs": [
    {
     "name": "stdout",
     "output_type": "stream",
     "text": [
      "<class 'pandas.core.frame.DataFrame'>\n",
      "RangeIndex: 21525 entries, 0 to 21524\n",
      "Data columns (total 12 columns):\n",
      " #   Column            Non-Null Count  Dtype  \n",
      "---  ------            --------------  -----  \n",
      " 0   children          21525 non-null  int64  \n",
      " 1   days_employed     19351 non-null  float64\n",
      " 2   dob_years         21525 non-null  int64  \n",
      " 3   education         21525 non-null  object \n",
      " 4   education_id      21525 non-null  int64  \n",
      " 5   family_status     21525 non-null  object \n",
      " 6   family_status_id  21525 non-null  int64  \n",
      " 7   gender            21525 non-null  object \n",
      " 8   income_type       21525 non-null  object \n",
      " 9   debt              21525 non-null  int64  \n",
      " 10  total_income      19351 non-null  float64\n",
      " 11  purpose           21525 non-null  object \n",
      "dtypes: float64(2), int64(5), object(5)\n",
      "memory usage: 2.0+ MB\n"
     ]
    }
   ],
   "source": [
    "import pandas as pd\n",
    "data = pd.read_csv('C:/Users/User/Downloads/data.csv')\n",
    "data.info()"
   ]
  },
  {
   "cell_type": "code",
   "execution_count": 2,
   "id": "8ddd3388",
   "metadata": {},
   "outputs": [
    {
     "name": "stdout",
     "output_type": "stream",
     "text": [
      "children               0\n",
      "days_employed       2174\n",
      "dob_years              0\n",
      "education              0\n",
      "education_id           0\n",
      "family_status          0\n",
      "family_status_id       0\n",
      "gender                 0\n",
      "income_type            0\n",
      "debt                   0\n",
      "total_income        2174\n",
      "purpose                0\n",
      "dtype: int64\n"
     ]
    }
   ],
   "source": [
    "print(data.isna().sum())"
   ]
  },
  {
   "cell_type": "markdown",
   "id": "663b3ca4",
   "metadata": {},
   "source": [
    "Пропущенные значения имеются только в данных по столбцам 'days_employed' и 'total_income',то есть об общем трудовом стаже и ежемесячном заработке.\n",
    "Количество пропущенных зачений одинаково по обоим параметрам, составляет 2174 и допущено скорее всего одними и теми же потенциальными заемщиками.\n",
    "Долю пропусков по столбцу 'days_employed' в процентах от общего количества можно вычислить следующим образом. Как мы узнали, по любому другому столбцу (за исключением двух указанных) пропущенные данные отсутствуют. Следовательно количество данных например по столбцу 'purpose' можно взять за 100 % и узнать какой % от них составляют пропущенные значения.\n",
    "Для подсчета данных в столбцах 'days_employed' и 'purpose' используем метод count(), результат сохраняем в переменной days_employed_part. Вычисляем соотношение количства данных по стомбцу 'days_employed' к данным по столбцу 'purpose'.\n",
    "Долю в процентах находим методом f', в котором указываем один знак после запятой. \n",
    "Результат выводим на экран.\n",
    "</div>"
   ]
  },
  {
   "cell_type": "code",
   "execution_count": 3,
   "id": "5d8a5dcd",
   "metadata": {},
   "outputs": [
    {
     "name": "stdout",
     "output_type": "stream",
     "text": [
      "89.9%\n"
     ]
    }
   ],
   "source": [
    "days_employed_part = (data['days_employed'].count())/(data['purpose'].count())\n",
    "print(f'{days_employed_part:.1%}') "
   ]
  },
  {
   "cell_type": "markdown",
   "id": "c3a9007a",
   "metadata": {},
   "source": [
    " Доля пропущенных значений в данных о трудовом стаже составляет 11 %. Скорее всего эти данные и о ежемесячном заработке потенциальные заемщики умышленно не указали по нескольким причинам. \n",
    "     В числе основных могут быть: \n",
    "    -отсутствие официально оформленных трудовых отношений, \n",
    "    -низкий доход (как боязнь отказа в выдаче кредита),\n",
    "    -реальное отсутствие стажа работы и заработка.\n",
    "    Логично предположить, что наибольшая часть потенциальных заемщиков, не указавших данные о заработке и стаже, находятся в неоформленных трудовых отношениях и получают ежемесячный доход. Поскольку данные о ежемесячном заработке являются комилественными переменными  пропущенные значения в столбце 'total_income' возможно заполнить медианным значением для поиска которого применяем метод median(). \n",
    "    Медианное значение показателя дохода предпочтительнее среднего, поскольку доход нескольких лиц может на порядок отличаться от остальных и среднее значение будет некорректно. Медиана же представляет собой значение, по отношению к которому половина больше него, а вторая половина меньше. Медианное  значение сохраняем в переменной total_income_median и выводим его на экран.\n",
    "   </div>"
   ]
  },
  {
   "cell_type": "code",
   "execution_count": 4,
   "id": "82281313",
   "metadata": {},
   "outputs": [
    {
     "name": "stdout",
     "output_type": "stream",
     "text": [
      "145017.93753253992\n"
     ]
    }
   ],
   "source": [
    "total_income_median = data['total_income'].median()\n",
    "print(total_income_median)"
   ]
  },
  {
   "cell_type": "markdown",
   "id": "669584fa",
   "metadata": {},
   "source": [
    "Медианное значение  составляет 145017.93753253992.\n",
    "    Заполнение пропусков осуществляем посредством метода fillna(). Для контроля корректности работы кода выводим на экран первые 20 строк по столбцу 'total_income' до его применения  и после. \n"
   ]
  },
  {
   "cell_type": "markdown",
   "id": "1111d48e",
   "metadata": {},
   "source": [
    "### Шаг 2.1 Заполнение пропусков"
   ]
  },
  {
   "cell_type": "code",
   "execution_count": 5,
   "id": "7e238d54",
   "metadata": {},
   "outputs": [
    {
     "name": "stdout",
     "output_type": "stream",
     "text": [
      "0     253875.639453\n",
      "1     112080.014102\n",
      "2     145885.952297\n",
      "3     267628.550329\n",
      "4     158616.077870\n",
      "5     255763.565419\n",
      "6     240525.971920\n",
      "7     135823.934197\n",
      "8      95856.832424\n",
      "9     144425.938277\n",
      "10    113943.491460\n",
      "11     77069.234271\n",
      "12              NaN\n",
      "13    130458.228857\n",
      "14    165127.911772\n",
      "15    116820.904450\n",
      "16    289202.704229\n",
      "17     90410.586745\n",
      "18     56823.777243\n",
      "19    242831.107982\n",
      "Name: total_income, dtype: float64\n"
     ]
    },
    {
     "data": {
      "text/plain": [
       "0     253875.639453\n",
       "1     112080.014102\n",
       "2     145885.952297\n",
       "3     267628.550329\n",
       "4     158616.077870\n",
       "5     255763.565419\n",
       "6     240525.971920\n",
       "7     135823.934197\n",
       "8      95856.832424\n",
       "9     144425.938277\n",
       "10    113943.491460\n",
       "11     77069.234271\n",
       "12    145017.937533\n",
       "13    130458.228857\n",
       "14    165127.911772\n",
       "15    116820.904450\n",
       "16    289202.704229\n",
       "17     90410.586745\n",
       "18     56823.777243\n",
       "19    242831.107982\n",
       "Name: total_income, dtype: float64"
      ]
     },
     "execution_count": 5,
     "metadata": {},
     "output_type": "execute_result"
    }
   ],
   "source": [
    "print(data['total_income'].head(20))\n",
    "data['total_income'] = data['total_income'].fillna(total_income_median)\n",
    "\n",
    "data['total_income'].head(20)\n"
   ]
  },
  {
   "cell_type": "markdown",
   "id": "47124cf0",
   "metadata": {},
   "source": [
    " Выведение на экран первых 20 строчек по столбцу ['total_income'] до и после применения метода fillna() подтвердило, что по строке 12 первоначальное значение NaN заменилось на медианное.\n",
    "Также проверяем по каким столбцам остались пропуски методами isna() и sum().  \n"
   ]
  },
  {
   "cell_type": "code",
   "execution_count": 6,
   "id": "b9e84c10",
   "metadata": {},
   "outputs": [
    {
     "name": "stdout",
     "output_type": "stream",
     "text": [
      "children               0\n",
      "days_employed       2174\n",
      "dob_years              0\n",
      "education              0\n",
      "education_id           0\n",
      "family_status          0\n",
      "family_status_id       0\n",
      "gender                 0\n",
      "income_type            0\n",
      "debt                   0\n",
      "total_income           0\n",
      "purpose                0\n",
      "dtype: int64\n"
     ]
    }
   ],
   "source": [
    "print(data.isna().sum())"
   ]
  },
  {
   "cell_type": "markdown",
   "id": "5de190c0",
   "metadata": {},
   "source": [
    "Проверка показала, что пропуски в столбце 'total_income' устранены и по условию задачи остались только в столбце 'days_employed'.  \n"
   ]
  },
  {
   "cell_type": "markdown",
   "id": "055ce078",
   "metadata": {},
   "source": [
    "### Шаг 2.2 Проверка данных на аномалии и исправления."
   ]
  },
  {
   "cell_type": "markdown",
   "id": "883efb5b",
   "metadata": {},
   "source": [
    "Для выявления иных аномалий в данных по столбцу 'days_employed' мы вывели на экран первые 20 строк.  \n",
    "\n"
   ]
  },
  {
   "cell_type": "code",
   "execution_count": 7,
   "id": "e8dc56b5",
   "metadata": {},
   "outputs": [
    {
     "data": {
      "text/plain": [
       "0      -8437.673028\n",
       "1      -4024.803754\n",
       "2      -5623.422610\n",
       "3      -4124.747207\n",
       "4     340266.072047\n",
       "5       -926.185831\n",
       "6      -2879.202052\n",
       "7       -152.779569\n",
       "8      -6929.865299\n",
       "9      -2188.756445\n",
       "10     -4171.483647\n",
       "11      -792.701887\n",
       "12              NaN\n",
       "13     -1846.641941\n",
       "14     -1844.956182\n",
       "15      -972.364419\n",
       "16     -1719.934226\n",
       "17     -2369.999720\n",
       "18    400281.136913\n",
       "19    -10038.818549\n",
       "Name: days_employed, dtype: float64"
      ]
     },
     "execution_count": 7,
     "metadata": {},
     "output_type": "execute_result"
    }
   ],
   "source": [
    "data['days_employed'].head(20)\n",
    "         "
   ]
  },
  {
   "cell_type": "markdown",
   "id": "61ad2bbc",
   "metadata": {},
   "source": [
    "\n",
    "Их изучение показало, что в столбце много значений со знаком минус (-). Здравый смысл подсказывает, что отрицательных значений по показателю стажа работы быть не может. По всей видимости знак минус перед количественными переменными появился либо ввиду программного сбоя, либо (с меньшей вероятностью) потенциальные заемщики, заполнявшие электронную форму ставили указанный знак в качестве тире перед указанием числового показателя.\n",
    "Для получения абсолютных значений (модуля) числовых данных по всему столбцу  'days_employed' используем функцию abs(). Первые 20 строк выводим на экран.</div>\n",
    "\n"
   ]
  },
  {
   "cell_type": "code",
   "execution_count": 8,
   "id": "efe689ac",
   "metadata": {},
   "outputs": [
    {
     "data": {
      "text/plain": [
       "0       8437.673028\n",
       "1       4024.803754\n",
       "2       5623.422610\n",
       "3       4124.747207\n",
       "4     340266.072047\n",
       "5        926.185831\n",
       "6       2879.202052\n",
       "7        152.779569\n",
       "8       6929.865299\n",
       "9       2188.756445\n",
       "10      4171.483647\n",
       "11       792.701887\n",
       "12              NaN\n",
       "13      1846.641941\n",
       "14      1844.956182\n",
       "15       972.364419\n",
       "16      1719.934226\n",
       "17      2369.999720\n",
       "18    400281.136913\n",
       "19     10038.818549\n",
       "Name: days_employed, dtype: float64"
      ]
     },
     "execution_count": 8,
     "metadata": {},
     "output_type": "execute_result"
    }
   ],
   "source": [
    "data['days_employed'] = abs(data['days_employed'])          \n",
    "data['days_employed'].head(20)           "
   ]
  },
  {
   "cell_type": "markdown",
   "id": "215a9280",
   "metadata": {},
   "source": [
    "Проверка показала, что значения по столбцу 'days_employed' перестали быть отрицательными. \n",
    "    Однако имеются пропуски данных, обозначенные как NaN которые заполняем медианным значением по аналогии с работой со столбцом 'total_income' и проверяем правильность работы кода путем контроля изменения значения по строке 12 столбца 'days_employed'.  \n"
   ]
  },
  {
   "cell_type": "code",
   "execution_count": 9,
   "id": "e65a4a7c",
   "metadata": {},
   "outputs": [
    {
     "name": "stdout",
     "output_type": "stream",
     "text": [
      "2194.220566878695\n"
     ]
    },
    {
     "data": {
      "text/plain": [
       "0       8437.673028\n",
       "1       4024.803754\n",
       "2       5623.422610\n",
       "3       4124.747207\n",
       "4     340266.072047\n",
       "5        926.185831\n",
       "6       2879.202052\n",
       "7        152.779569\n",
       "8       6929.865299\n",
       "9       2188.756445\n",
       "10      4171.483647\n",
       "11       792.701887\n",
       "12      2194.220567\n",
       "13      1846.641941\n",
       "14      1844.956182\n",
       "15       972.364419\n",
       "16      1719.934226\n",
       "17      2369.999720\n",
       "18    400281.136913\n",
       "19     10038.818549\n",
       "Name: days_employed, dtype: float64"
      ]
     },
     "execution_count": 9,
     "metadata": {},
     "output_type": "execute_result"
    }
   ],
   "source": [
    "days_employed_median = data['days_employed'].median()\n",
    "print(days_employed_median)\n",
    "data['days_employed'] = data['days_employed'].fillna(days_employed_median)\n",
    "data['days_employed'].head(20)"
   ]
  },
  {
   "cell_type": "code",
   "execution_count": 10,
   "id": "49843496",
   "metadata": {},
   "outputs": [
    {
     "data": {
      "text/plain": [
       "children            0\n",
       "days_employed       0\n",
       "dob_years           0\n",
       "education           0\n",
       "education_id        0\n",
       "family_status       0\n",
       "family_status_id    0\n",
       "gender              0\n",
       "income_type         0\n",
       "debt                0\n",
       "total_income        0\n",
       "purpose             0\n",
       "dtype: int64"
      ]
     },
     "execution_count": 10,
     "metadata": {},
     "output_type": "execute_result"
    }
   ],
   "source": [
    "data.isna().sum()"
   ]
  },
  {
   "cell_type": "markdown",
   "id": "1c242920",
   "metadata": {},
   "source": [
    "Столбцы 'children','education','family_status','gender','income_type', 'purpose' проверены далее и проведена их обработка. Не изученными и не оцененными были столбцы 'dob_years', 'total_income', 'debt', 'education_id', 'family_status_id'. Как было указано, пропущенных значений в эих столбцах не установлено. Изучим их на предмет наличия аномальных значений методом value_counts(). \n"
   ]
  },
  {
   "cell_type": "markdown",
   "id": "f7b07efa",
   "metadata": {},
   "source": [
    " Поскольку аномалии, как правило, встречаются ближе к концу данных по столбцу 'total_income' выведем последние 20 строк.</div>"
   ]
  },
  {
   "cell_type": "code",
   "execution_count": 11,
   "id": "4b055510",
   "metadata": {},
   "outputs": [
    {
     "name": "stdout",
     "output_type": "stream",
     "text": [
      "165029.871363    1\n",
      "152410.919231    1\n",
      "323466.323030    1\n",
      "111976.479710    1\n",
      "135607.236400    1\n",
      "204204.182683    1\n",
      "262517.623178    1\n",
      "155107.752145    1\n",
      "160528.666287    1\n",
      "160885.050715    1\n",
      "100180.178296    1\n",
      "155567.245644    1\n",
      "124357.256315    1\n",
      "175057.266090    1\n",
      "101516.604975    1\n",
      "239154.168013    1\n",
      "165009.733021    1\n",
      "94270.049769     1\n",
      "68166.012050     1\n",
      "189255.286637    1\n",
      "Name: total_income, dtype: int64\n"
     ]
    }
   ],
   "source": [
    "print(data['total_income'].value_counts().tail(20))"
   ]
  },
  {
   "cell_type": "code",
   "execution_count": 12,
   "id": "b98684fa",
   "metadata": {},
   "outputs": [
    {
     "data": {
      "text/plain": [
       "0    19784\n",
       "1     1741\n",
       "Name: debt, dtype: int64"
      ]
     },
     "execution_count": 12,
     "metadata": {},
     "output_type": "execute_result"
    }
   ],
   "source": [
    "data['debt'].value_counts()"
   ]
  },
  {
   "cell_type": "code",
   "execution_count": 13,
   "id": "0e63053f",
   "metadata": {},
   "outputs": [
    {
     "data": {
      "text/plain": [
       "1    15233\n",
       "0     5260\n",
       "2      744\n",
       "3      282\n",
       "4        6\n",
       "Name: education_id, dtype: int64"
      ]
     },
     "execution_count": 13,
     "metadata": {},
     "output_type": "execute_result"
    }
   ],
   "source": [
    "data['education_id'].value_counts()"
   ]
  },
  {
   "cell_type": "code",
   "execution_count": 14,
   "id": "302a5c8d",
   "metadata": {},
   "outputs": [
    {
     "data": {
      "text/plain": [
       "0    12380\n",
       "1     4177\n",
       "4     2813\n",
       "3     1195\n",
       "2      960\n",
       "Name: family_status_id, dtype: int64"
      ]
     },
     "execution_count": 14,
     "metadata": {},
     "output_type": "execute_result"
    }
   ],
   "source": [
    "data['family_status_id'].value_counts()"
   ]
  },
  {
   "cell_type": "code",
   "execution_count": 15,
   "id": "0d986ab8",
   "metadata": {},
   "outputs": [
    {
     "data": {
      "text/plain": [
       "35    617\n",
       "40    609\n",
       "41    607\n",
       "34    603\n",
       "38    598\n",
       "42    597\n",
       "33    581\n",
       "39    573\n",
       "31    560\n",
       "36    555\n",
       "44    547\n",
       "29    545\n",
       "30    540\n",
       "48    538\n",
       "37    537\n",
       "50    514\n",
       "43    513\n",
       "32    510\n",
       "49    508\n",
       "28    503\n",
       "45    497\n",
       "27    493\n",
       "56    487\n",
       "52    484\n",
       "47    480\n",
       "54    479\n",
       "46    475\n",
       "58    461\n",
       "57    460\n",
       "53    459\n",
       "51    448\n",
       "59    444\n",
       "55    443\n",
       "26    408\n",
       "60    377\n",
       "25    357\n",
       "61    355\n",
       "62    352\n",
       "63    269\n",
       "64    265\n",
       "24    264\n",
       "23    254\n",
       "65    194\n",
       "66    183\n",
       "22    183\n",
       "67    167\n",
       "21    111\n",
       "0     101\n",
       "68     99\n",
       "69     85\n",
       "70     65\n",
       "71     58\n",
       "20     51\n",
       "72     33\n",
       "19     14\n",
       "73      8\n",
       "74      6\n",
       "75      1\n",
       "Name: dob_years, dtype: int64"
      ]
     },
     "execution_count": 15,
     "metadata": {},
     "output_type": "execute_result"
    }
   ],
   "source": [
    "data['dob_years'].value_counts()"
   ]
  },
  {
   "cell_type": "markdown",
   "id": "b9a4ce12",
   "metadata": {},
   "source": [
    " В столбце 'dob_years' установлено, что возраст заемщиков 101 раз указан как 0, что несомненно является ошибкой. Однако, поскольку это не пропущенное значение и возраст не является анализируемой категорией, возможно это значение оставить в исходном виде, ничем не заменяя его и не удаляя. </div>"
   ]
  },
  {
   "cell_type": "markdown",
   "id": "763a2044",
   "metadata": {},
   "source": [
    "### Шаг 2.3. Изменение типов данных."
   ]
  },
  {
   "cell_type": "code",
   "execution_count": 16,
   "id": "9e0cbba3",
   "metadata": {},
   "outputs": [
    {
     "name": "stdout",
     "output_type": "stream",
     "text": [
      "<class 'pandas.core.frame.DataFrame'>\n",
      "RangeIndex: 21525 entries, 0 to 21524\n",
      "Data columns (total 12 columns):\n",
      " #   Column            Non-Null Count  Dtype  \n",
      "---  ------            --------------  -----  \n",
      " 0   children          21525 non-null  int64  \n",
      " 1   days_employed     21525 non-null  float64\n",
      " 2   dob_years         21525 non-null  int64  \n",
      " 3   education         21525 non-null  object \n",
      " 4   education_id      21525 non-null  int64  \n",
      " 5   family_status     21525 non-null  object \n",
      " 6   family_status_id  21525 non-null  int64  \n",
      " 7   gender            21525 non-null  object \n",
      " 8   income_type       21525 non-null  object \n",
      " 9   debt              21525 non-null  int64  \n",
      " 10  total_income      21525 non-null  int32  \n",
      " 11  purpose           21525 non-null  object \n",
      "dtypes: float64(1), int32(1), int64(5), object(5)\n",
      "memory usage: 1.9+ MB\n"
     ]
    }
   ],
   "source": [
    "\n",
    "data['total_income'] = data['total_income'].astype('int')#'\n",
    "data.info()"
   ]
  },
  {
   "cell_type": "markdown",
   "id": "a21fc6cc",
   "metadata": {},
   "source": [
    " Методом astype() мы изменили тип данных в столбце 'total_income' на integer и проверили полученный результат, вызвав метод info().Данные по этому столбцу изменились на цельночисленные."
   ]
  },
  {
   "cell_type": "markdown",
   "id": "bc85453e",
   "metadata": {},
   "source": [
    "### Шаг 2.4. Удаление дубликатов."
   ]
  },
  {
   "cell_type": "markdown",
   "id": "723d4b4b",
   "metadata": {},
   "source": [
    " Методом duplicated().sum() находим количество явных дубликатов - полностью повторяющихся строк."
   ]
  },
  {
   "cell_type": "code",
   "execution_count": 17,
   "id": "cca0fe4b",
   "metadata": {},
   "outputs": [
    {
     "data": {
      "text/plain": [
       "54"
      ]
     },
     "execution_count": 17,
     "metadata": {},
     "output_type": "execute_result"
    }
   ],
   "source": [
    "data.duplicated().sum()"
   ]
  },
  {
   "cell_type": "markdown",
   "id": "63b2dc5a",
   "metadata": {},
   "source": [
    " \n",
    "Проверяем наличие дубликатов в отдельных столбцах типа object."
   ]
  },
  {
   "cell_type": "code",
   "execution_count": 18,
   "id": "3deac090",
   "metadata": {},
   "outputs": [
    {
     "data": {
      "text/plain": [
       "среднее                13750\n",
       "высшее                  4718\n",
       "СРЕДНЕЕ                  772\n",
       "Среднее                  711\n",
       "неоконченное высшее      668\n",
       "ВЫСШЕЕ                   274\n",
       "Высшее                   268\n",
       "начальное                250\n",
       "Неоконченное высшее       47\n",
       "НЕОКОНЧЕННОЕ ВЫСШЕЕ       29\n",
       "НАЧАЛЬНОЕ                 17\n",
       "Начальное                 15\n",
       "ученая степень             4\n",
       "УЧЕНАЯ СТЕПЕНЬ             1\n",
       "Ученая степень             1\n",
       "Name: education, dtype: int64"
      ]
     },
     "execution_count": 18,
     "metadata": {},
     "output_type": "execute_result"
    }
   ],
   "source": [
    "data['education'].value_counts()"
   ]
  },
  {
   "cell_type": "markdown",
   "id": "4feda78b",
   "metadata": {},
   "source": [
    " В столбце 'education' имеются неявные дубликаты: одни и те же названия, записанные разным регистром, что является одной из причин появления неявных дубликатов. Приводим их к одному нижнему регистру методом str.lower()."
   ]
  },
  {
   "cell_type": "code",
   "execution_count": 19,
   "id": "2a86b136",
   "metadata": {},
   "outputs": [
    {
     "data": {
      "text/plain": [
       "среднее                15233\n",
       "высшее                  5260\n",
       "неоконченное высшее      744\n",
       "начальное                282\n",
       "ученая степень             6\n",
       "Name: education, dtype: int64"
      ]
     },
     "execution_count": 19,
     "metadata": {},
     "output_type": "execute_result"
    }
   ],
   "source": [
    "data['education'] = data['education'].str.lower()\n",
    "data['education'].value_counts()"
   ]
  },
  {
   "cell_type": "code",
   "execution_count": 20,
   "id": "7548bf0c",
   "metadata": {},
   "outputs": [
    {
     "data": {
      "text/plain": [
       "F      14236\n",
       "M       7288\n",
       "XNA        1\n",
       "Name: gender, dtype: int64"
      ]
     },
     "execution_count": 20,
     "metadata": {},
     "output_type": "execute_result"
    }
   ],
   "source": [
    "data['gender'].value_counts()"
   ]
  },
  {
   "cell_type": "markdown",
   "id": "68888635",
   "metadata": {},
   "source": [
    " В столбце 'gender' найдено значение  XNA, которое возможно является пропуском или какой-то аномалией. Это значение единственное, на статистику влияния не окажет, тем более то показатель гендерной принадлежности по условию задачи исследованию не подлежит. В этой связи его можно заменить наибольшим показателем в этом столбце c использованием атрибута loc."
   ]
  },
  {
   "cell_type": "code",
   "execution_count": 21,
   "id": "d3c4bf79",
   "metadata": {},
   "outputs": [],
   "source": [
    "for row in data['gender']:             \n",
    "    try:\n",
    "        data.loc[data['gender'] == 'XNA', 'gender'] = 'F' \n",
    "    except:    \n",
    "        print('Некорректные строки') "
   ]
  },
  {
   "cell_type": "code",
   "execution_count": 22,
   "id": "49f1c5b8",
   "metadata": {},
   "outputs": [
    {
     "name": "stdout",
     "output_type": "stream",
     "text": [
      "F    14237\n",
      "M     7288\n",
      "Name: gender, dtype: int64\n"
     ]
    }
   ],
   "source": [
    "print(data['gender'].value_counts())"
   ]
  },
  {
   "cell_type": "markdown",
   "id": "6ea97427",
   "metadata": {},
   "source": [
    " В столбце 'children' установлены аномальные значения: 47 заемшщиков, у которых количество детей указано с отрицательным знаком(-1), что в принципе быть не может и скорее всего потенциальные заемщики хотели указать по 1 ребенку. Еще 76 потенциальных заемщиков указали о наличии 20 детей, что также маловероятно и логично предположить, что имелось ввиду по 2 ребенка.   "
   ]
  },
  {
   "cell_type": "code",
   "execution_count": 23,
   "id": "db37a06a",
   "metadata": {
    "scrolled": true
   },
   "outputs": [
    {
     "name": "stdout",
     "output_type": "stream",
     "text": [
      " 0     14149\n",
      " 1      4818\n",
      " 2      2055\n",
      " 3       330\n",
      " 20       76\n",
      "-1        47\n",
      " 4        41\n",
      " 5         9\n",
      "Name: children, dtype: int64\n"
     ]
    }
   ],
   "source": [
    "print(data['children'].value_counts())"
   ]
  },
  {
   "cell_type": "markdown",
   "id": "5d605f79",
   "metadata": {},
   "source": [
    " Для изменения отрицательных значений на абсолютное применяем атрибут abs(), 20 детей заменяем на 2 атрибутом loc.   "
   ]
  },
  {
   "cell_type": "code",
   "execution_count": 24,
   "id": "caef63a3",
   "metadata": {},
   "outputs": [
    {
     "data": {
      "text/plain": [
       "0    14149\n",
       "1     4865\n",
       "2     2131\n",
       "3      330\n",
       "4       41\n",
       "5        9\n",
       "Name: children, dtype: int64"
      ]
     },
     "execution_count": 24,
     "metadata": {},
     "output_type": "execute_result"
    }
   ],
   "source": [
    "data['children'] = abs(data['children'])\n",
    "data.loc[data['children'] == 20,'children'] = 2\n",
    "data['children'].value_counts()\n"
   ]
  },
  {
   "cell_type": "code",
   "execution_count": 25,
   "id": "a2167586",
   "metadata": {},
   "outputs": [
    {
     "data": {
      "text/plain": [
       "сотрудник          11119\n",
       "компаньон           5085\n",
       "пенсионер           3856\n",
       "госслужащий         1459\n",
       "предприниматель        2\n",
       "безработный            2\n",
       "студент                1\n",
       "в декрете              1\n",
       "Name: income_type, dtype: int64"
      ]
     },
     "execution_count": 25,
     "metadata": {},
     "output_type": "execute_result"
    }
   ],
   "source": [
    "data['income_type'].value_counts()"
   ]
  },
  {
   "cell_type": "code",
   "execution_count": 26,
   "id": "3364f16b",
   "metadata": {},
   "outputs": [
    {
     "data": {
      "text/plain": [
       "женат / замужем          12380\n",
       "гражданский брак          4177\n",
       "Не женат / не замужем     2813\n",
       "в разводе                 1195\n",
       "вдовец / вдова             960\n",
       "Name: family_status, dtype: int64"
      ]
     },
     "execution_count": 26,
     "metadata": {},
     "output_type": "execute_result"
    }
   ],
   "source": [
    "data['family_status'].value_counts()"
   ]
  },
  {
   "cell_type": "markdown",
   "id": "81c13138",
   "metadata": {},
   "source": [
    " В столбце 'family_status' значение  Не женат / не замужем записано с применением разного регистра. Дубликатом оно здесь не является, но для единообразия также приведем все наименования в этом столбце к одному нижнему регистру методом str.lower()."
   ]
  },
  {
   "cell_type": "code",
   "execution_count": 27,
   "id": "9d7766fd",
   "metadata": {},
   "outputs": [
    {
     "data": {
      "text/plain": [
       "женат / замужем          12380\n",
       "гражданский брак          4177\n",
       "не женат / не замужем     2813\n",
       "в разводе                 1195\n",
       "вдовец / вдова             960\n",
       "Name: family_status, dtype: int64"
      ]
     },
     "execution_count": 27,
     "metadata": {},
     "output_type": "execute_result"
    }
   ],
   "source": [
    "data['family_status'] = data['family_status'].str.lower()\n",
    "data['family_status'].value_counts()"
   ]
  },
  {
   "cell_type": "code",
   "execution_count": 28,
   "id": "9bcd12f8",
   "metadata": {},
   "outputs": [
    {
     "data": {
      "text/plain": [
       "свадьба                                   797\n",
       "на проведение свадьбы                     777\n",
       "сыграть свадьбу                           774\n",
       "операции с недвижимостью                  676\n",
       "покупка коммерческой недвижимости         664\n",
       "покупка жилья для сдачи                   653\n",
       "операции с жильем                         653\n",
       "операции с коммерческой недвижимостью     651\n",
       "покупка жилья                             647\n",
       "жилье                                     647\n",
       "покупка жилья для семьи                   641\n",
       "строительство собственной недвижимости    635\n",
       "недвижимость                              634\n",
       "операции со своей недвижимостью           630\n",
       "строительство жилой недвижимости          626\n",
       "покупка недвижимости                      624\n",
       "покупка своего жилья                      620\n",
       "строительство недвижимости                620\n",
       "ремонт жилью                              612\n",
       "покупка жилой недвижимости                607\n",
       "на покупку своего автомобиля              505\n",
       "заняться высшим образованием              496\n",
       "автомобиль                                495\n",
       "сделка с подержанным автомобилем          489\n",
       "свой автомобиль                           480\n",
       "на покупку подержанного автомобиля        479\n",
       "автомобили                                478\n",
       "на покупку автомобиля                     472\n",
       "дополнительное образование                462\n",
       "приобретение автомобиля                   462\n",
       "сделка с автомобилем                      455\n",
       "высшее образование                        453\n",
       "образование                               447\n",
       "получение дополнительного образования     447\n",
       "получение образования                     443\n",
       "профильное образование                    436\n",
       "получение высшего образования             426\n",
       "заняться образованием                     412\n",
       "Name: purpose, dtype: int64"
      ]
     },
     "execution_count": 28,
     "metadata": {},
     "output_type": "execute_result"
    }
   ],
   "source": [
    "data['purpose'].value_counts()"
   ]
  },
  {
   "cell_type": "markdown",
   "id": "89d286d8",
   "metadata": {},
   "source": [
    " В столбцах 'income_type', 'family_status' пропусков, дубликатов и иных аномалий не обнаружено. \n",
    "В столбце 'purpose' встречается много значений, которые можно отнести к дубликатам, но поскольку это не количественные переменные, то их лучше категоризировать, что будет сделано по условию задачи в разделе 2.7. "
   ]
  },
  {
   "cell_type": "markdown",
   "id": "ab0149c2",
   "metadata": {},
   "source": [
    " Теперь еще раз посчитаем количество явных дубликатов.  "
   ]
  },
  {
   "cell_type": "code",
   "execution_count": 29,
   "id": "20414ad2",
   "metadata": {},
   "outputs": [
    {
     "data": {
      "text/plain": [
       "71"
      ]
     },
     "execution_count": 29,
     "metadata": {},
     "output_type": "execute_result"
    }
   ],
   "source": [
    "data.duplicated().sum()"
   ]
  },
  {
   "cell_type": "markdown",
   "id": "cc015f76",
   "metadata": {},
   "source": [
    " Избавляемся от дубликатов методом drop_duplicates().reset_index(drop=True) с заменой индексации и проверяем фактическое их устранение."
   ]
  },
  {
   "cell_type": "code",
   "execution_count": 30,
   "id": "6fc77dfb",
   "metadata": {},
   "outputs": [
    {
     "data": {
      "text/plain": [
       "0"
      ]
     },
     "execution_count": 30,
     "metadata": {},
     "output_type": "execute_result"
    }
   ],
   "source": [
    "data = data.drop_duplicates().reset_index(drop=True)\n",
    "data.duplicated().sum()"
   ]
  },
  {
   "cell_type": "markdown",
   "id": "a6485e36",
   "metadata": {},
   "source": [
    "### Шаг 2.5. Формирование дополнительных датафреймов словарей, декомпозиция исходного датафрейма."
   ]
  },
  {
   "cell_type": "code",
   "execution_count": 31,
   "id": "2c432c81",
   "metadata": {},
   "outputs": [
    {
     "name": "stdout",
     "output_type": "stream",
     "text": [
      "             education  education_id\n",
      "0               высшее             0\n",
      "1              среднее             1\n",
      "2  неоконченное высшее             2\n",
      "3            начальное             3\n",
      "4       ученая степень             4\n"
     ]
    }
   ],
   "source": [
    "data_education = data[['education','education_id']]\n",
    "data_education = data_education.drop_duplicates().reset_index(drop=True)\n",
    "print(data_education)"
   ]
  },
  {
   "cell_type": "code",
   "execution_count": 32,
   "id": "217a6195",
   "metadata": {},
   "outputs": [
    {
     "name": "stdout",
     "output_type": "stream",
     "text": [
      "           family_status  family_status_id\n",
      "0        женат / замужем                 0\n",
      "1       гражданский брак                 1\n",
      "2         вдовец / вдова                 2\n",
      "3              в разводе                 3\n",
      "4  не женат / не замужем                 4\n"
     ]
    }
   ],
   "source": [
    "data_family_status = data[['family_status','family_status_id']]\n",
    "data_family_status = data_family_status.drop_duplicates().reset_index(drop=True)\n",
    "print(data_family_status)"
   ]
  },
  {
   "cell_type": "markdown",
   "id": "92979005",
   "metadata": {},
   "source": [
    " На основе исходного датафрейма мы создали два других со столбцами 'education','education_id' и'family_status','family_status_id', сохранив их в переменных data_education и data_family_status. \n",
    "    В соответствии с условием задачи из исходного датафрейма удалили столбец 'education' методом drop(),axis со значением 1 указал на применение этого метода ко всем строкам. Столбец 'family_status' вопреки условию задачи оставили, так как в последующем, при построении таблицы зависимости своевременного возврата кредита от семейного положения и количества детей он представляется более наглядным, чем его оцифрованные значения."
   ]
  },
  {
   "cell_type": "code",
   "execution_count": 33,
   "id": "3f92e1b1",
   "metadata": {},
   "outputs": [
    {
     "name": "stdout",
     "output_type": "stream",
     "text": [
      "<class 'pandas.core.frame.DataFrame'>\n",
      "RangeIndex: 21454 entries, 0 to 21453\n",
      "Data columns (total 11 columns):\n",
      " #   Column            Non-Null Count  Dtype  \n",
      "---  ------            --------------  -----  \n",
      " 0   children          21454 non-null  int64  \n",
      " 1   days_employed     21454 non-null  float64\n",
      " 2   dob_years         21454 non-null  int64  \n",
      " 3   education_id      21454 non-null  int64  \n",
      " 4   family_status     21454 non-null  object \n",
      " 5   family_status_id  21454 non-null  int64  \n",
      " 6   gender            21454 non-null  object \n",
      " 7   income_type       21454 non-null  object \n",
      " 8   debt              21454 non-null  int64  \n",
      " 9   total_income      21454 non-null  int32  \n",
      " 10  purpose           21454 non-null  object \n",
      "dtypes: float64(1), int32(1), int64(5), object(4)\n",
      "memory usage: 1.7+ MB\n"
     ]
    }
   ],
   "source": [
    "data = data.drop(['education'],axis=1) \n",
    "data.info()"
   ]
  },
  {
   "cell_type": "markdown",
   "id": "18d91eb0",
   "metadata": {},
   "source": [
    "### Шаг 2.6. Категоризация дохода."
   ]
  },
  {
   "cell_type": "markdown",
   "id": "af60d1b6",
   "metadata": {},
   "source": [
    " Данные о доходах заемщиков многочисленны и разнообразны. Чтобы установить взаимосвязь между доходами заемщиков и их дисциплинированностью в плане своевременной оплаты кредитов необходимо сведения о доходах категоризировать в соответсвии с параметрами, установленными в условии задачи. Для этого мы создадим собственную функцию total_group в качестве аргумента которой передадим данные столбца 'total_income'. Указанная функция возвращает значение категории, определенное в теле функции в зависимости от дохода. Методом apply() создаем в data столбец 'total_income_category', в котором в результате работы функции total_group отобразится категория дохода в соответствии с заданными параметрами."
   ]
  },
  {
   "cell_type": "code",
   "execution_count": 34,
   "id": "299fe6ad",
   "metadata": {},
   "outputs": [
    {
     "name": "stdout",
     "output_type": "stream",
     "text": [
      "C    16016\n",
      "B     5041\n",
      "D      350\n",
      "A       25\n",
      "E       22\n",
      "Name: total_income_category, dtype: int64\n"
     ]
    }
   ],
   "source": [
    "def total_group(total_income):\n",
    "    if total_income <= 30000:\n",
    "        return 'E'\n",
    "    if 30001 <= total_income <= 50000: \n",
    "        return 'D'\n",
    "    if 50001 <= total_income <= 200000:\n",
    "        return 'C'\n",
    "    if  200001 <= total_income <= 1000000: \n",
    "        return 'B'\n",
    "    if total_income >= 1000001:\n",
    "        return 'A'\n",
    "data['total_income_category'] = data['total_income'].apply(total_group)\n",
    "print(data['total_income_category'].value_counts())"
   ]
  },
  {
   "cell_type": "markdown",
   "id": "30177247",
   "metadata": {},
   "source": [
    " Проверка показала, что функция работает. С помощью метода info() убедимся в появлении столбца 'total_income_category'."
   ]
  },
  {
   "cell_type": "code",
   "execution_count": 35,
   "id": "e0e7ee64",
   "metadata": {},
   "outputs": [
    {
     "name": "stdout",
     "output_type": "stream",
     "text": [
      "<class 'pandas.core.frame.DataFrame'>\n",
      "RangeIndex: 21454 entries, 0 to 21453\n",
      "Data columns (total 12 columns):\n",
      " #   Column                 Non-Null Count  Dtype  \n",
      "---  ------                 --------------  -----  \n",
      " 0   children               21454 non-null  int64  \n",
      " 1   days_employed          21454 non-null  float64\n",
      " 2   dob_years              21454 non-null  int64  \n",
      " 3   education_id           21454 non-null  int64  \n",
      " 4   family_status          21454 non-null  object \n",
      " 5   family_status_id       21454 non-null  int64  \n",
      " 6   gender                 21454 non-null  object \n",
      " 7   income_type            21454 non-null  object \n",
      " 8   debt                   21454 non-null  int64  \n",
      " 9   total_income           21454 non-null  int32  \n",
      " 10  purpose                21454 non-null  object \n",
      " 11  total_income_category  21454 non-null  object \n",
      "dtypes: float64(1), int32(1), int64(5), object(5)\n",
      "memory usage: 1.9+ MB\n"
     ]
    }
   ],
   "source": [
    "data.info()"
   ]
  },
  {
   "cell_type": "markdown",
   "id": "8b9a0be8",
   "metadata": {},
   "source": [
    "### Шаг 2.7. Категоризация целей кредита."
   ]
  },
  {
   "cell_type": "markdown",
   "id": "6b350abd",
   "metadata": {},
   "source": [
    " Для оптимизации анализа зависимости платежеспособности заемщиков от целей кредита последние также категоризируем. Для этой цели создадим функцию purpose_category, в качестве аргумента которой передадим данные столбца 'purpose'. В теле функции пропишем условие, согласно которому при наличии определенных сочетаний букв функция будет возвращать обобщенные наименования четырех категорий."
   ]
  },
  {
   "cell_type": "code",
   "execution_count": 36,
   "id": "2e252dfb",
   "metadata": {
    "scrolled": true
   },
   "outputs": [
    {
     "name": "stdout",
     "output_type": "stream",
     "text": [
      "операции с недвижимостью    10811\n",
      "операция с автомобилем       4306\n",
      "получение образования        4013\n",
      "проведение свадьбы           2324\n",
      "Name: purpose_category, dtype: int64\n"
     ]
    }
   ],
   "source": [
    "def purpose_category (purpose):\n",
    "    if 'авто' in purpose:\n",
    "        return 'операция с автомобилем'\n",
    "    if 'свадьб' in purpose:\n",
    "        return 'проведение свадьбы'\n",
    "    if 'образован' in purpose:\n",
    "        return 'получение образования'\n",
    "    if 'недвижим' or 'жиль' in purpose:\n",
    "        return 'операции с недвижимостью'\n",
    "data['purpose_category'] = data['purpose'].apply(purpose_category)\n",
    "print(data['purpose_category'].value_counts())"
   ]
  },
  {
   "cell_type": "markdown",
   "id": "b22e80f2",
   "metadata": {},
   "source": [
    " Результатом работы функции методом apply() мы дополнили исходный датафрейм в столбце 'purpose_category'. Проверим, вызвав метод info()"
   ]
  },
  {
   "cell_type": "code",
   "execution_count": 37,
   "id": "c2a155da",
   "metadata": {},
   "outputs": [
    {
     "name": "stdout",
     "output_type": "stream",
     "text": [
      "<class 'pandas.core.frame.DataFrame'>\n",
      "RangeIndex: 21454 entries, 0 to 21453\n",
      "Data columns (total 13 columns):\n",
      " #   Column                 Non-Null Count  Dtype  \n",
      "---  ------                 --------------  -----  \n",
      " 0   children               21454 non-null  int64  \n",
      " 1   days_employed          21454 non-null  float64\n",
      " 2   dob_years              21454 non-null  int64  \n",
      " 3   education_id           21454 non-null  int64  \n",
      " 4   family_status          21454 non-null  object \n",
      " 5   family_status_id       21454 non-null  int64  \n",
      " 6   gender                 21454 non-null  object \n",
      " 7   income_type            21454 non-null  object \n",
      " 8   debt                   21454 non-null  int64  \n",
      " 9   total_income           21454 non-null  int32  \n",
      " 10  purpose                21454 non-null  object \n",
      " 11  total_income_category  21454 non-null  object \n",
      " 12  purpose_category       21454 non-null  object \n",
      "dtypes: float64(1), int32(1), int64(5), object(6)\n",
      "memory usage: 2.0+ MB\n"
     ]
    }
   ],
   "source": [
    "data.info()"
   ]
  },
  {
   "cell_type": "markdown",
   "id": "d794158b",
   "metadata": {},
   "source": [
    "### Ответы на вопросы."
   ]
  },
  {
   "cell_type": "markdown",
   "id": "6f72e80b",
   "metadata": {},
   "source": [
    " Для вывода о зависимости возврата кредита в срок от таких параметров потенциальных заемщиков как количество детей, семейного положения, уровня дохода и целей кредита построим таблицы с применением комбинации методов groupby по столбцам 'children', 'family_status', 'total_income_category', 'purpose_category' с методом agg по столбцу 'debt' с агрегирующими функциями sum() и count(). Для наглядности в каждой из таблиц создадим столбец 'debt_share' в котором посчитаем долю невозвращенных кредитов от их общего числа по каждой анализируемой категории."
   ]
  },
  {
   "cell_type": "code",
   "execution_count": 38,
   "id": "d278de99",
   "metadata": {},
   "outputs": [
    {
     "data": {
      "text/html": [
       "<div>\n",
       "<style scoped>\n",
       "    .dataframe tbody tr th:only-of-type {\n",
       "        vertical-align: middle;\n",
       "    }\n",
       "\n",
       "    .dataframe tbody tr th {\n",
       "        vertical-align: top;\n",
       "    }\n",
       "\n",
       "    .dataframe thead tr th {\n",
       "        text-align: left;\n",
       "    }\n",
       "\n",
       "    .dataframe thead tr:last-of-type th {\n",
       "        text-align: right;\n",
       "    }\n",
       "</style>\n",
       "<table border=\"1\" class=\"dataframe\">\n",
       "  <thead>\n",
       "    <tr>\n",
       "      <th></th>\n",
       "      <th>sum</th>\n",
       "      <th>count</th>\n",
       "      <th>mean</th>\n",
       "    </tr>\n",
       "    <tr>\n",
       "      <th></th>\n",
       "      <th>debt</th>\n",
       "      <th>debt</th>\n",
       "      <th>debt</th>\n",
       "    </tr>\n",
       "    <tr>\n",
       "      <th>children</th>\n",
       "      <th></th>\n",
       "      <th></th>\n",
       "      <th></th>\n",
       "    </tr>\n",
       "  </thead>\n",
       "  <tbody>\n",
       "    <tr>\n",
       "      <th>0</th>\n",
       "      <td>1063</td>\n",
       "      <td>14091</td>\n",
       "      <td>0.075438</td>\n",
       "    </tr>\n",
       "    <tr>\n",
       "      <th>1</th>\n",
       "      <td>445</td>\n",
       "      <td>4855</td>\n",
       "      <td>0.091658</td>\n",
       "    </tr>\n",
       "    <tr>\n",
       "      <th>2</th>\n",
       "      <td>202</td>\n",
       "      <td>2128</td>\n",
       "      <td>0.094925</td>\n",
       "    </tr>\n",
       "    <tr>\n",
       "      <th>3</th>\n",
       "      <td>27</td>\n",
       "      <td>330</td>\n",
       "      <td>0.081818</td>\n",
       "    </tr>\n",
       "    <tr>\n",
       "      <th>4</th>\n",
       "      <td>4</td>\n",
       "      <td>41</td>\n",
       "      <td>0.097561</td>\n",
       "    </tr>\n",
       "    <tr>\n",
       "      <th>5</th>\n",
       "      <td>0</td>\n",
       "      <td>9</td>\n",
       "      <td>0.000000</td>\n",
       "    </tr>\n",
       "  </tbody>\n",
       "</table>\n",
       "</div>"
      ],
      "text/plain": [
       "           sum  count      mean\n",
       "          debt   debt      debt\n",
       "children                       \n",
       "0         1063  14091  0.075438\n",
       "1          445   4855  0.091658\n",
       "2          202   2128  0.094925\n",
       "3           27    330  0.081818\n",
       "4            4     41  0.097561\n",
       "5            0      9  0.000000"
      ]
     },
     "execution_count": 38,
     "metadata": {},
     "output_type": "execute_result"
    }
   ],
   "source": [
    "data.pivot_table(index=\"children\", values=\"debt\", aggfunc=['sum','count','mean'])"
   ]
  },
  {
   "cell_type": "markdown",
   "id": "197d484c",
   "metadata": {},
   "source": [
    "##### Вывод 1:\n",
    "Таблица в которой соотнесены количество фактов несвоевременного возврата кредитов и количества детей, имеющихся у потенциальных заемщиков свидетельствует о том, что отсутствуют факты просрочки по кредитным платежам у граждан с 5 детьми. Однако и случаи их обращения за кредитами единичны. \n",
    "Отсутствие детей, а также их наличие в семье в количестве от 1 до 4 незначительно влияют на своевременность воозврата кредитов. По каждой из указанных категорий несвоевременно возвращают кредиты от 7.5 % до 9.7 %. Наиболее благонадежными являются лица, не имеющие детей. Только 7.5 % из них не возвращают кредиты вовремя. Наименее дисциплинированы заемщики с 4 детьми. Доля их невозвратов составляет 9.7 %. Лица, имеющие от 1 до 3 детей несвоевременно возвращают кредиты в 8 - 9.5 % случаев. "
   ]
  },
  {
   "cell_type": "code",
   "execution_count": 39,
   "id": "a235141d",
   "metadata": {},
   "outputs": [
    {
     "data": {
      "text/html": [
       "<div>\n",
       "<style scoped>\n",
       "    .dataframe tbody tr th:only-of-type {\n",
       "        vertical-align: middle;\n",
       "    }\n",
       "\n",
       "    .dataframe tbody tr th {\n",
       "        vertical-align: top;\n",
       "    }\n",
       "\n",
       "    .dataframe thead tr th {\n",
       "        text-align: left;\n",
       "    }\n",
       "\n",
       "    .dataframe thead tr:last-of-type th {\n",
       "        text-align: right;\n",
       "    }\n",
       "</style>\n",
       "<table border=\"1\" class=\"dataframe\">\n",
       "  <thead>\n",
       "    <tr>\n",
       "      <th></th>\n",
       "      <th>sum</th>\n",
       "      <th>count</th>\n",
       "      <th>mean</th>\n",
       "    </tr>\n",
       "    <tr>\n",
       "      <th></th>\n",
       "      <th>debt</th>\n",
       "      <th>debt</th>\n",
       "      <th>debt</th>\n",
       "    </tr>\n",
       "    <tr>\n",
       "      <th>family_status</th>\n",
       "      <th></th>\n",
       "      <th></th>\n",
       "      <th></th>\n",
       "    </tr>\n",
       "  </thead>\n",
       "  <tbody>\n",
       "    <tr>\n",
       "      <th>в разводе</th>\n",
       "      <td>85</td>\n",
       "      <td>1195</td>\n",
       "      <td>0.071130</td>\n",
       "    </tr>\n",
       "    <tr>\n",
       "      <th>вдовец / вдова</th>\n",
       "      <td>63</td>\n",
       "      <td>959</td>\n",
       "      <td>0.065693</td>\n",
       "    </tr>\n",
       "    <tr>\n",
       "      <th>гражданский брак</th>\n",
       "      <td>388</td>\n",
       "      <td>4151</td>\n",
       "      <td>0.093471</td>\n",
       "    </tr>\n",
       "    <tr>\n",
       "      <th>женат / замужем</th>\n",
       "      <td>931</td>\n",
       "      <td>12339</td>\n",
       "      <td>0.075452</td>\n",
       "    </tr>\n",
       "    <tr>\n",
       "      <th>не женат / не замужем</th>\n",
       "      <td>274</td>\n",
       "      <td>2810</td>\n",
       "      <td>0.097509</td>\n",
       "    </tr>\n",
       "  </tbody>\n",
       "</table>\n",
       "</div>"
      ],
      "text/plain": [
       "                       sum  count      mean\n",
       "                      debt   debt      debt\n",
       "family_status                              \n",
       "в разводе               85   1195  0.071130\n",
       "вдовец / вдова          63    959  0.065693\n",
       "гражданский брак       388   4151  0.093471\n",
       "женат / замужем        931  12339  0.075452\n",
       "не женат / не замужем  274   2810  0.097509"
      ]
     },
     "execution_count": 39,
     "metadata": {},
     "output_type": "execute_result"
    }
   ],
   "source": [
    "data.pivot_table(index='family_status', values=\"debt\", aggfunc=['sum','count','mean'])"
   ]
  },
  {
   "cell_type": "markdown",
   "id": "6794c0dd",
   "metadata": {},
   "source": [
    " ##### Вывод 2:\n",
    "Таблица, в которой соотнесены семейное положение заемщиков и частота несвоевременного возврата ими кредитов демонстрирует, что наиболее дисциплинированны в финансовом отношении заемщики, являющиеся вдовцами/вдовами (6.5 %), а также разведенные и состоящие в официально зарегистрированных семейных отношениях (7.1 % и 7.5 % соответственно). Не связанные семейными обязательствами лица чаще других категорий опаздывают с платежами по кредитам. Доля неженатых (незамужних) составляет 9.7 %, состоящих в гражданском браке - 9.3 %."
   ]
  },
  {
   "cell_type": "markdown",
   "id": "c208929a",
   "metadata": {},
   "source": [
    " Увидеть в абсолютном выражении число заемщиков, имеющих факты несвоевременного возврата кредитов, в совокупности по их семейному положению и количеству детей можно в таблице, построенной с применением метода pivot_table, в котором сгруппируем данные по столбцу'children', в качестве столбца, по значениям которого произойдет группировка,  укажем 'family_status', значение, по которым будем смотреть таблицу возьмем 'debt' с функцией 'sum'."
   ]
  },
  {
   "cell_type": "code",
   "execution_count": 40,
   "id": "dfc7a9e3",
   "metadata": {},
   "outputs": [
    {
     "data": {
      "text/html": [
       "<div>\n",
       "<style scoped>\n",
       "    .dataframe tbody tr th:only-of-type {\n",
       "        vertical-align: middle;\n",
       "    }\n",
       "\n",
       "    .dataframe tbody tr th {\n",
       "        vertical-align: top;\n",
       "    }\n",
       "\n",
       "    .dataframe thead th {\n",
       "        text-align: right;\n",
       "    }\n",
       "</style>\n",
       "<table border=\"1\" class=\"dataframe\">\n",
       "  <thead>\n",
       "    <tr style=\"text-align: right;\">\n",
       "      <th>family_status</th>\n",
       "      <th>в разводе</th>\n",
       "      <th>вдовец / вдова</th>\n",
       "      <th>гражданский брак</th>\n",
       "      <th>женат / замужем</th>\n",
       "      <th>не женат / не замужем</th>\n",
       "    </tr>\n",
       "    <tr>\n",
       "      <th>children</th>\n",
       "      <th></th>\n",
       "      <th></th>\n",
       "      <th></th>\n",
       "      <th></th>\n",
       "      <th></th>\n",
       "    </tr>\n",
       "  </thead>\n",
       "  <tbody>\n",
       "    <tr>\n",
       "      <th>0</th>\n",
       "      <td>55.0</td>\n",
       "      <td>53.0</td>\n",
       "      <td>229.0</td>\n",
       "      <td>516.0</td>\n",
       "      <td>210.0</td>\n",
       "    </tr>\n",
       "    <tr>\n",
       "      <th>1</th>\n",
       "      <td>21.0</td>\n",
       "      <td>7.0</td>\n",
       "      <td>118.0</td>\n",
       "      <td>247.0</td>\n",
       "      <td>52.0</td>\n",
       "    </tr>\n",
       "    <tr>\n",
       "      <th>2</th>\n",
       "      <td>8.0</td>\n",
       "      <td>3.0</td>\n",
       "      <td>33.0</td>\n",
       "      <td>148.0</td>\n",
       "      <td>10.0</td>\n",
       "    </tr>\n",
       "    <tr>\n",
       "      <th>3</th>\n",
       "      <td>1.0</td>\n",
       "      <td>0.0</td>\n",
       "      <td>8.0</td>\n",
       "      <td>17.0</td>\n",
       "      <td>1.0</td>\n",
       "    </tr>\n",
       "    <tr>\n",
       "      <th>4</th>\n",
       "      <td>0.0</td>\n",
       "      <td>0.0</td>\n",
       "      <td>0.0</td>\n",
       "      <td>3.0</td>\n",
       "      <td>1.0</td>\n",
       "    </tr>\n",
       "    <tr>\n",
       "      <th>5</th>\n",
       "      <td>NaN</td>\n",
       "      <td>NaN</td>\n",
       "      <td>0.0</td>\n",
       "      <td>0.0</td>\n",
       "      <td>NaN</td>\n",
       "    </tr>\n",
       "  </tbody>\n",
       "</table>\n",
       "</div>"
      ],
      "text/plain": [
       "family_status  в разводе  вдовец / вдова  гражданский брак  женат / замужем  \\\n",
       "children                                                                      \n",
       "0                   55.0            53.0             229.0            516.0   \n",
       "1                   21.0             7.0             118.0            247.0   \n",
       "2                    8.0             3.0              33.0            148.0   \n",
       "3                    1.0             0.0               8.0             17.0   \n",
       "4                    0.0             0.0               0.0              3.0   \n",
       "5                    NaN             NaN               0.0              0.0   \n",
       "\n",
       "family_status  не женат / не замужем  \n",
       "children                              \n",
       "0                              210.0  \n",
       "1                               52.0  \n",
       "2                               10.0  \n",
       "3                                1.0  \n",
       "4                                1.0  \n",
       "5                                NaN  "
      ]
     },
     "metadata": {},
     "output_type": "display_data"
    }
   ],
   "source": [
    "data_pivot_children = data.pivot_table(index=['children'], columns= 'family_status', values='debt', aggfunc= sum) \n",
    "display(data_pivot_children)"
   ]
  },
  {
   "cell_type": "code",
   "execution_count": 41,
   "id": "2ab95f99",
   "metadata": {},
   "outputs": [
    {
     "data": {
      "text/html": [
       "<div>\n",
       "<style scoped>\n",
       "    .dataframe tbody tr th:only-of-type {\n",
       "        vertical-align: middle;\n",
       "    }\n",
       "\n",
       "    .dataframe tbody tr th {\n",
       "        vertical-align: top;\n",
       "    }\n",
       "\n",
       "    .dataframe thead tr th {\n",
       "        text-align: left;\n",
       "    }\n",
       "\n",
       "    .dataframe thead tr:last-of-type th {\n",
       "        text-align: right;\n",
       "    }\n",
       "</style>\n",
       "<table border=\"1\" class=\"dataframe\">\n",
       "  <thead>\n",
       "    <tr>\n",
       "      <th></th>\n",
       "      <th>sum</th>\n",
       "      <th>count</th>\n",
       "      <th>mean</th>\n",
       "    </tr>\n",
       "    <tr>\n",
       "      <th></th>\n",
       "      <th>debt</th>\n",
       "      <th>debt</th>\n",
       "      <th>debt</th>\n",
       "    </tr>\n",
       "    <tr>\n",
       "      <th>total_income_category</th>\n",
       "      <th></th>\n",
       "      <th></th>\n",
       "      <th></th>\n",
       "    </tr>\n",
       "  </thead>\n",
       "  <tbody>\n",
       "    <tr>\n",
       "      <th>A</th>\n",
       "      <td>2</td>\n",
       "      <td>25</td>\n",
       "      <td>0.080000</td>\n",
       "    </tr>\n",
       "    <tr>\n",
       "      <th>B</th>\n",
       "      <td>356</td>\n",
       "      <td>5041</td>\n",
       "      <td>0.070621</td>\n",
       "    </tr>\n",
       "    <tr>\n",
       "      <th>C</th>\n",
       "      <td>1360</td>\n",
       "      <td>16016</td>\n",
       "      <td>0.084915</td>\n",
       "    </tr>\n",
       "    <tr>\n",
       "      <th>D</th>\n",
       "      <td>21</td>\n",
       "      <td>350</td>\n",
       "      <td>0.060000</td>\n",
       "    </tr>\n",
       "    <tr>\n",
       "      <th>E</th>\n",
       "      <td>2</td>\n",
       "      <td>22</td>\n",
       "      <td>0.090909</td>\n",
       "    </tr>\n",
       "  </tbody>\n",
       "</table>\n",
       "</div>"
      ],
      "text/plain": [
       "                        sum  count      mean\n",
       "                       debt   debt      debt\n",
       "total_income_category                       \n",
       "A                         2     25  0.080000\n",
       "B                       356   5041  0.070621\n",
       "C                      1360  16016  0.084915\n",
       "D                        21    350  0.060000\n",
       "E                         2     22  0.090909"
      ]
     },
     "execution_count": 41,
     "metadata": {},
     "output_type": "execute_result"
    }
   ],
   "source": [
    "data.pivot_table(index='total_income_category', values=\"debt\", aggfunc=['sum','count','mean'])"
   ]
  },
  {
   "cell_type": "markdown",
   "id": "99e13a9b",
   "metadata": {},
   "source": [
    "##### Вывод 3:\n",
    "При анализе зависимости финансовой благонадежности клиентов от их дохода следует отметить, что при более высоком проценте должников среди заемщиков, имеющих самые высокие и самые низкие доходы (категории A и E соответственно) их абсолютное количество единично (по 2 в каждой категории), как и количество лиц, каждой из эих категорий, взявших кредиты (25 и 22 соответственно, что составляет 0.1 %). Статистика по таким лицам не представляется показательной.  В числе других категорий  наиболее часто (8.4 % случаев) несвоевременно возвращают кредиты заемщики из категории С (с суммой дохода от 50001 до 200000 руб.). Заемщики из категории B (с суммой дохода от 200001 до 1000000 руб.) являются вторыми по долгам, из них 7 % несвоевременно возвращают кредиты. Заемщики, отнесенные по сумме дохода к категории D ( от 30001 до 50000 руб) являются наиболее благонадежными (6 % несвоевременных кредитных платежей). \n",
    "       "
   ]
  },
  {
   "cell_type": "code",
   "execution_count": 42,
   "id": "971e720d",
   "metadata": {},
   "outputs": [
    {
     "data": {
      "text/html": [
       "<div>\n",
       "<style scoped>\n",
       "    .dataframe tbody tr th:only-of-type {\n",
       "        vertical-align: middle;\n",
       "    }\n",
       "\n",
       "    .dataframe tbody tr th {\n",
       "        vertical-align: top;\n",
       "    }\n",
       "\n",
       "    .dataframe thead tr th {\n",
       "        text-align: left;\n",
       "    }\n",
       "\n",
       "    .dataframe thead tr:last-of-type th {\n",
       "        text-align: right;\n",
       "    }\n",
       "</style>\n",
       "<table border=\"1\" class=\"dataframe\">\n",
       "  <thead>\n",
       "    <tr>\n",
       "      <th></th>\n",
       "      <th>sum</th>\n",
       "      <th>count</th>\n",
       "      <th>mean</th>\n",
       "    </tr>\n",
       "    <tr>\n",
       "      <th></th>\n",
       "      <th>debt</th>\n",
       "      <th>debt</th>\n",
       "      <th>debt</th>\n",
       "    </tr>\n",
       "    <tr>\n",
       "      <th>purpose_category</th>\n",
       "      <th></th>\n",
       "      <th></th>\n",
       "      <th></th>\n",
       "    </tr>\n",
       "  </thead>\n",
       "  <tbody>\n",
       "    <tr>\n",
       "      <th>операции с недвижимостью</th>\n",
       "      <td>782</td>\n",
       "      <td>10811</td>\n",
       "      <td>0.072334</td>\n",
       "    </tr>\n",
       "    <tr>\n",
       "      <th>операция с автомобилем</th>\n",
       "      <td>403</td>\n",
       "      <td>4306</td>\n",
       "      <td>0.093590</td>\n",
       "    </tr>\n",
       "    <tr>\n",
       "      <th>получение образования</th>\n",
       "      <td>370</td>\n",
       "      <td>4013</td>\n",
       "      <td>0.092200</td>\n",
       "    </tr>\n",
       "    <tr>\n",
       "      <th>проведение свадьбы</th>\n",
       "      <td>186</td>\n",
       "      <td>2324</td>\n",
       "      <td>0.080034</td>\n",
       "    </tr>\n",
       "  </tbody>\n",
       "</table>\n",
       "</div>"
      ],
      "text/plain": [
       "                          sum  count      mean\n",
       "                         debt   debt      debt\n",
       "purpose_category                              \n",
       "операции с недвижимостью  782  10811  0.072334\n",
       "операция с автомобилем    403   4306  0.093590\n",
       "получение образования     370   4013  0.092200\n",
       "проведение свадьбы        186   2324  0.080034"
      ]
     },
     "execution_count": 42,
     "metadata": {},
     "output_type": "execute_result"
    }
   ],
   "source": [
    "data.pivot_table(index='purpose_category', values=\"debt\", aggfunc=['sum','count','mean'])"
   ]
  },
  {
   "cell_type": "markdown",
   "id": "937c0808",
   "metadata": {},
   "source": [
    "##### Вывод 4:\n",
    "Из таблицы следует, что наиболее подвержены несвоевременной оплате кредита заемщики, чьей целью были операции с автомобилем и получение образования. Наименьшие риски невозврата у тех, кто брал кредиты на операции с недвижимостью и проведение свадьбы. "
   ]
  },
  {
   "cell_type": "markdown",
   "id": "2376ec13",
   "metadata": {},
   "source": [
    "## Общий вывод:"
   ]
  },
  {
   "cell_type": "markdown",
   "id": "2eb4ec04",
   "metadata": {},
   "source": [
    "\n",
    "   \n",
    "По заказу кредитного отдела банка мы провели исследование зависимости своевременного исполнения заемщиками кредитных обязательств от их семейного положения и количества детей.Результаты исследования необходимы для построения модели кредитного скоринга.Для исследования банком представлена статистика о платёжеспособности клиентов.\n",
    "\n",
    " Статистической моделью, в которой представлены анализируемые категории, избраны таблицы, в которых сопоставлно общее количество заемщиков по заданным категориям (семейное положение, количество детей, уровень дохода, цель кредитования) с количеством имеющих факты несвоевременного возврата кредитов, и посчитана доля. Для наглядности составлена таблица, в которой в абсолютном выражении показано количество заемщиков, имеющих долги по кредитам, с учетом семейного положения и количества детей в совокупности. \n",
    "    Перед построением таблиц проведены ознакомление с общей информацией о данных, их предобработка, включая устранение аномальных значений, пропусков, дубликатов.  \n",
    "    \n",
    "   Исследование зависимости семейного положения клиентов, а также количества детей на факт погашения кредитов в срок показало следующее. \n",
    "   \n",
    "   В базе данных, представленных банком имеются сведения о заемщиках с количеством детей от 0 до 5. Установлено, что отсутствие детей, а также их наличие в семье в количестве от 1 до 4 влияют на своевременность воозврата кредитов незначительно. По каждой из указанных категорий несвоевременно возвращают кредиты от 7.5 % до 9.7 %. Наиболее благонадежными являются лица, не имеющие детей ( 7.5 %), наименее - заемщики с 4 детьми (9.7 %).\n",
    "   \n",
    "   Своевременность платежей и семейное положение заемщиков немногим более взаимозависимы. Наиболее дисциплинированны в финансовом отношении заемщики, являющиеся вдовцами/вдовами (6.5 %), а также разведенные и состоящие в официально зарегистрированных семейных отношениях (7.1 % и 7.5 % соответственно). Доля связанных семейными обязательствами лиц превышает 9 % (неженатые (незамужние) - 9.7 %, состоящие в гражданском браке - 9.3 %).\n",
    "   \n",
    "   Наиболее часто (8.4 % случаев) несвоевременно возвращают кредиты заемщики с суммой дохода от 50001 до 200000 руб. Заемщики с доходом от 30001 до 50000 руб. являются более благонадежными (6 % просроченных возвратов).\n",
    "   Зависимость несвоевременной оплаты кредитов от их целей менее вариативна (в пределах 2 %). Наименьшие риски невозврата у тех, кто брал кредиты на операции с недвижимостью и проведение свадьбы.\n",
    "   \n",
    "   \n",
    "   На основании данных всех четырех таблиц статистическое лицо наиболее и наименее благонадежных заемщиков выглядит следующим образом:\n",
    "   \n",
    "   наименее благонадежный заемщик имеет доход не женат (не замужем), имеет детей, имеет доход от 50001 до 200000 руб. и берет кредит на автомобиль;\n",
    "   \n",
    "   наиболее благонадежный заемщик получает от 30001 до 50000 руб., берет кредит на сделки с недвижимостью является вдовцом и не имеет детей.\n",
    "   \n",
    "   При формировании модели кредитного скоринга заказчику следует больше обращать внимание на семейное положение потенциальных заемщиков как более вариативную категорию.В указанной связи предпочтение следует отдавать тем, кто состоит в официально зарегистрированных семейных отношениях, в разводе, либо является вдовцом (вдовой). Также следует принимать во внимание сумму дохода потенциальных заемщиков, которая не прямо пропорциональна их финансовой благонадежности. Наиболее благонадежными являются граждане, получающие доход в размере от от 30001 до 50000 руб. и от 200001 до 1000000 руб. Вариативность таких категорий как количество детей и цель кредитования незначительно влияет на платежеспособность клиентов банка и заслуживает меньшего по сравнению с указанными выше параметрами внимания."
   ]
  }
 ],
 "metadata": {
  "ExecuteTimeLog": [
   {
    "duration": 398,
    "start_time": "2022-05-09T09:32:25.211Z"
   },
   {
    "duration": 3,
    "start_time": "2022-05-09T09:34:43.240Z"
   },
   {
    "duration": 91,
    "start_time": "2022-05-09T09:39:07.713Z"
   },
   {
    "duration": 60,
    "start_time": "2022-05-09T09:40:21.093Z"
   },
   {
    "duration": 51,
    "start_time": "2022-05-09T09:40:24.972Z"
   },
   {
    "duration": 57,
    "start_time": "2022-05-09T09:41:03.835Z"
   },
   {
    "duration": 54,
    "start_time": "2022-05-09T09:41:23.153Z"
   },
   {
    "duration": 67,
    "start_time": "2022-05-09T09:46:41.649Z"
   },
   {
    "duration": 84,
    "start_time": "2022-05-09T09:48:12.589Z"
   },
   {
    "duration": 76,
    "start_time": "2022-05-09T09:50:06.256Z"
   },
   {
    "duration": 8,
    "start_time": "2022-05-09T09:57:16.724Z"
   },
   {
    "duration": 13,
    "start_time": "2022-05-09T09:57:52.094Z"
   },
   {
    "duration": 20,
    "start_time": "2022-05-09T10:21:55.193Z"
   },
   {
    "duration": 14,
    "start_time": "2022-05-09T10:22:29.165Z"
   },
   {
    "duration": 63,
    "start_time": "2022-05-09T10:23:16.617Z"
   },
   {
    "duration": 120,
    "start_time": "2022-05-09T10:30:52.193Z"
   },
   {
    "duration": 130,
    "start_time": "2022-05-09T10:31:47.113Z"
   },
   {
    "duration": 122,
    "start_time": "2022-05-09T10:32:09.247Z"
   },
   {
    "duration": 5,
    "start_time": "2022-05-09T10:32:32.889Z"
   },
   {
    "duration": 4,
    "start_time": "2022-05-09T10:32:44.048Z"
   },
   {
    "duration": 8,
    "start_time": "2022-05-09T10:33:30.057Z"
   },
   {
    "duration": 4,
    "start_time": "2022-05-09T10:34:22.394Z"
   },
   {
    "duration": 63,
    "start_time": "2022-05-09T10:34:55.840Z"
   },
   {
    "duration": 56,
    "start_time": "2022-05-09T10:35:12.839Z"
   },
   {
    "duration": 4,
    "start_time": "2022-05-09T10:38:28.129Z"
   },
   {
    "duration": 7,
    "start_time": "2022-05-09T10:39:02.034Z"
   },
   {
    "duration": 85,
    "start_time": "2022-05-09T10:39:58.270Z"
   },
   {
    "duration": 29,
    "start_time": "2022-05-09T10:40:11.816Z"
   },
   {
    "duration": 15,
    "start_time": "2022-05-09T10:40:46.557Z"
   },
   {
    "duration": 14,
    "start_time": "2022-05-09T10:41:07.907Z"
   },
   {
    "duration": 56,
    "start_time": "2022-05-09T10:41:14.549Z"
   },
   {
    "duration": 8,
    "start_time": "2022-05-09T10:41:34.913Z"
   },
   {
    "duration": 15,
    "start_time": "2022-05-09T10:43:26.963Z"
   },
   {
    "duration": 14,
    "start_time": "2022-05-09T10:43:52.954Z"
   },
   {
    "duration": 16,
    "start_time": "2022-05-09T10:44:00.209Z"
   },
   {
    "duration": 56,
    "start_time": "2022-05-09T10:44:19.577Z"
   },
   {
    "duration": 9,
    "start_time": "2022-05-09T10:44:19.635Z"
   },
   {
    "duration": 24,
    "start_time": "2022-05-09T10:47:57.113Z"
   },
   {
    "duration": 20,
    "start_time": "2022-05-09T10:48:07.317Z"
   },
   {
    "duration": 71,
    "start_time": "2022-05-09T10:48:17.892Z"
   },
   {
    "duration": 7,
    "start_time": "2022-05-09T10:48:17.965Z"
   },
   {
    "duration": 62,
    "start_time": "2022-05-09T10:48:34.312Z"
   },
   {
    "duration": 12,
    "start_time": "2022-05-09T10:48:34.376Z"
   },
   {
    "duration": 458,
    "start_time": "2022-05-09T18:20:05.649Z"
   },
   {
    "duration": 24,
    "start_time": "2022-05-09T18:20:06.114Z"
   },
   {
    "duration": 71,
    "start_time": "2022-05-09T18:33:01.367Z"
   },
   {
    "duration": 14,
    "start_time": "2022-05-09T18:33:01.440Z"
   },
   {
    "duration": 82,
    "start_time": "2022-05-09T18:34:50.793Z"
   },
   {
    "duration": 69,
    "start_time": "2022-05-09T18:34:58.176Z"
   },
   {
    "duration": 16,
    "start_time": "2022-05-09T18:34:58.247Z"
   },
   {
    "duration": 14,
    "start_time": "2022-05-09T18:35:25.726Z"
   },
   {
    "duration": 67,
    "start_time": "2022-05-09T18:35:28.743Z"
   },
   {
    "duration": 11,
    "start_time": "2022-05-09T18:35:28.813Z"
   },
   {
    "duration": 13,
    "start_time": "2022-05-09T18:37:09.423Z"
   },
   {
    "duration": 90,
    "start_time": "2022-05-09T18:37:14.079Z"
   },
   {
    "duration": 21,
    "start_time": "2022-05-09T18:37:14.171Z"
   },
   {
    "duration": 64,
    "start_time": "2022-05-09T18:43:34.725Z"
   },
   {
    "duration": 27,
    "start_time": "2022-05-09T18:43:34.791Z"
   },
   {
    "duration": 74,
    "start_time": "2022-05-09T18:50:57.871Z"
   },
   {
    "duration": 9,
    "start_time": "2022-05-09T18:50:57.947Z"
   },
   {
    "duration": 15,
    "start_time": "2022-05-09T18:51:31.474Z"
   },
   {
    "duration": 84,
    "start_time": "2022-05-09T18:51:34.268Z"
   },
   {
    "duration": 19,
    "start_time": "2022-05-09T18:51:34.354Z"
   },
   {
    "duration": 14,
    "start_time": "2022-05-09T18:52:24.254Z"
   },
   {
    "duration": 71,
    "start_time": "2022-05-09T18:52:27.199Z"
   },
   {
    "duration": 21,
    "start_time": "2022-05-09T18:52:27.272Z"
   },
   {
    "duration": 61,
    "start_time": "2022-05-09T18:54:39.936Z"
   },
   {
    "duration": 235,
    "start_time": "2022-05-09T18:54:39.999Z"
   },
   {
    "duration": 25,
    "start_time": "2022-05-09T18:54:53.632Z"
   },
   {
    "duration": 71,
    "start_time": "2022-05-09T18:57:05.423Z"
   },
   {
    "duration": 30,
    "start_time": "2022-05-09T18:58:26.420Z"
   },
   {
    "duration": 76,
    "start_time": "2022-05-09T18:58:59.138Z"
   },
   {
    "duration": 80,
    "start_time": "2022-05-09T18:59:48.862Z"
   },
   {
    "duration": 106,
    "start_time": "2022-05-09T19:00:56.218Z"
   },
   {
    "duration": 95,
    "start_time": "2022-05-09T19:01:04.222Z"
   },
   {
    "duration": 29,
    "start_time": "2022-05-09T19:01:04.319Z"
   },
   {
    "duration": 21,
    "start_time": "2022-05-09T19:01:42.022Z"
   },
   {
    "duration": 65,
    "start_time": "2022-05-09T19:01:45.515Z"
   },
   {
    "duration": 19,
    "start_time": "2022-05-09T19:01:45.582Z"
   },
   {
    "duration": 22,
    "start_time": "2022-05-09T19:04:25.658Z"
   },
   {
    "duration": 71,
    "start_time": "2022-05-09T19:04:29.017Z"
   },
   {
    "duration": 21,
    "start_time": "2022-05-09T19:04:29.091Z"
   },
   {
    "duration": 16,
    "start_time": "2022-05-09T19:04:59.311Z"
   },
   {
    "duration": 122,
    "start_time": "2022-05-09T19:05:17.546Z"
   },
   {
    "duration": 24,
    "start_time": "2022-05-09T19:05:22.170Z"
   },
   {
    "duration": 198,
    "start_time": "2022-05-09T19:24:56.122Z"
   },
   {
    "duration": 192,
    "start_time": "2022-05-09T19:25:44.239Z"
   },
   {
    "duration": 65,
    "start_time": "2022-05-09T19:28:18.108Z"
   },
   {
    "duration": 15,
    "start_time": "2022-05-09T19:28:18.175Z"
   },
   {
    "duration": 7,
    "start_time": "2022-05-09T19:29:14.778Z"
   },
   {
    "duration": 91,
    "start_time": "2022-05-09T19:29:53.651Z"
   },
   {
    "duration": 6,
    "start_time": "2022-05-09T19:29:53.744Z"
   },
   {
    "duration": 209,
    "start_time": "2022-05-09T19:29:53.752Z"
   },
   {
    "duration": 0,
    "start_time": "2022-05-09T19:29:53.962Z"
   },
   {
    "duration": 192,
    "start_time": "2022-05-09T19:30:07.249Z"
   },
   {
    "duration": 82,
    "start_time": "2022-05-09T19:30:17.882Z"
   },
   {
    "duration": 5,
    "start_time": "2022-05-09T19:30:17.966Z"
   },
   {
    "duration": 16,
    "start_time": "2022-05-09T19:30:17.972Z"
   },
   {
    "duration": 464,
    "start_time": "2022-05-10T07:26:32.420Z"
   },
   {
    "duration": 4,
    "start_time": "2022-05-10T07:26:32.886Z"
   },
   {
    "duration": 16,
    "start_time": "2022-05-10T07:26:32.891Z"
   },
   {
    "duration": 106,
    "start_time": "2022-05-10T07:49:28.372Z"
   },
   {
    "duration": 10,
    "start_time": "2022-05-10T07:51:31.642Z"
   },
   {
    "duration": 57,
    "start_time": "2022-05-10T07:51:37.716Z"
   },
   {
    "duration": 12,
    "start_time": "2022-05-10T07:51:37.776Z"
   },
   {
    "duration": 7,
    "start_time": "2022-05-10T07:51:37.790Z"
   },
   {
    "duration": 19,
    "start_time": "2022-05-10T07:51:37.798Z"
   },
   {
    "duration": 98,
    "start_time": "2022-05-10T07:51:37.819Z"
   },
   {
    "duration": 0,
    "start_time": "2022-05-10T07:51:37.918Z"
   },
   {
    "duration": 61,
    "start_time": "2022-05-10T07:56:48.967Z"
   },
   {
    "duration": 57,
    "start_time": "2022-05-10T07:56:56.251Z"
   },
   {
    "duration": 1106,
    "start_time": "2022-05-10T07:56:56.310Z"
   },
   {
    "duration": 0,
    "start_time": "2022-05-10T07:56:57.418Z"
   },
   {
    "duration": 0,
    "start_time": "2022-05-10T07:56:57.419Z"
   },
   {
    "duration": 0,
    "start_time": "2022-05-10T07:56:57.420Z"
   },
   {
    "duration": 0,
    "start_time": "2022-05-10T07:56:57.421Z"
   },
   {
    "duration": 0,
    "start_time": "2022-05-10T07:56:57.421Z"
   },
   {
    "duration": 0,
    "start_time": "2022-05-10T07:56:57.422Z"
   },
   {
    "duration": 0,
    "start_time": "2022-05-10T07:56:57.423Z"
   },
   {
    "duration": 0,
    "start_time": "2022-05-10T07:56:57.424Z"
   },
   {
    "duration": 9,
    "start_time": "2022-05-10T07:58:36.536Z"
   },
   {
    "duration": 106,
    "start_time": "2022-05-10T08:05:24.786Z"
   },
   {
    "duration": 4,
    "start_time": "2022-05-10T08:06:55.645Z"
   },
   {
    "duration": 11,
    "start_time": "2022-05-10T08:18:28.545Z"
   },
   {
    "duration": 107,
    "start_time": "2022-05-10T08:43:38.794Z"
   },
   {
    "duration": 59,
    "start_time": "2022-05-10T08:43:47.078Z"
   },
   {
    "duration": 9,
    "start_time": "2022-05-10T08:43:47.138Z"
   },
   {
    "duration": 97,
    "start_time": "2022-05-10T08:43:47.148Z"
   },
   {
    "duration": 0,
    "start_time": "2022-05-10T08:43:47.247Z"
   },
   {
    "duration": 0,
    "start_time": "2022-05-10T08:43:47.248Z"
   },
   {
    "duration": 0,
    "start_time": "2022-05-10T08:43:47.249Z"
   },
   {
    "duration": 0,
    "start_time": "2022-05-10T08:43:47.250Z"
   },
   {
    "duration": 4,
    "start_time": "2022-05-10T08:44:06.764Z"
   },
   {
    "duration": 4,
    "start_time": "2022-05-10T09:01:25.538Z"
   },
   {
    "duration": 12,
    "start_time": "2022-05-10T09:09:09.376Z"
   },
   {
    "duration": 4,
    "start_time": "2022-05-10T09:14:33.021Z"
   },
   {
    "duration": 4,
    "start_time": "2022-05-10T09:15:02.307Z"
   },
   {
    "duration": 61,
    "start_time": "2022-05-10T09:31:51.522Z"
   },
   {
    "duration": 62,
    "start_time": "2022-05-10T09:31:54.727Z"
   },
   {
    "duration": 8,
    "start_time": "2022-05-10T09:31:54.791Z"
   },
   {
    "duration": 6,
    "start_time": "2022-05-10T09:31:54.800Z"
   },
   {
    "duration": 5,
    "start_time": "2022-05-10T09:31:54.808Z"
   },
   {
    "duration": 33,
    "start_time": "2022-05-10T09:31:54.814Z"
   },
   {
    "duration": 7,
    "start_time": "2022-05-10T09:31:54.849Z"
   },
   {
    "duration": 8,
    "start_time": "2022-05-10T09:32:22.408Z"
   },
   {
    "duration": 59,
    "start_time": "2022-05-10T09:32:25.691Z"
   },
   {
    "duration": 7,
    "start_time": "2022-05-10T09:32:25.752Z"
   },
   {
    "duration": 4,
    "start_time": "2022-05-10T09:32:25.761Z"
   },
   {
    "duration": 4,
    "start_time": "2022-05-10T09:32:25.767Z"
   },
   {
    "duration": 12,
    "start_time": "2022-05-10T09:32:25.773Z"
   },
   {
    "duration": 7,
    "start_time": "2022-05-10T09:32:25.787Z"
   },
   {
    "duration": 101,
    "start_time": "2022-05-10T09:32:59.299Z"
   },
   {
    "duration": 97,
    "start_time": "2022-05-10T09:33:15.508Z"
   },
   {
    "duration": 62,
    "start_time": "2022-05-10T09:33:19.815Z"
   },
   {
    "duration": 9,
    "start_time": "2022-05-10T09:33:19.879Z"
   },
   {
    "duration": 7,
    "start_time": "2022-05-10T09:33:19.889Z"
   },
   {
    "duration": 6,
    "start_time": "2022-05-10T09:33:19.897Z"
   },
   {
    "duration": 14,
    "start_time": "2022-05-10T09:33:19.905Z"
   },
   {
    "duration": 107,
    "start_time": "2022-05-10T09:33:19.920Z"
   },
   {
    "duration": 4,
    "start_time": "2022-05-10T09:41:10.781Z"
   },
   {
    "duration": 56,
    "start_time": "2022-05-10T09:41:59.179Z"
   },
   {
    "duration": 60,
    "start_time": "2022-05-10T09:42:46.379Z"
   },
   {
    "duration": 3,
    "start_time": "2022-05-10T09:48:05.452Z"
   },
   {
    "duration": 3,
    "start_time": "2022-05-10T09:48:56.148Z"
   },
   {
    "duration": 3,
    "start_time": "2022-05-10T09:49:10.091Z"
   },
   {
    "duration": 99,
    "start_time": "2022-05-10T09:49:25.431Z"
   },
   {
    "duration": 3,
    "start_time": "2022-05-10T09:49:34.609Z"
   },
   {
    "duration": 7,
    "start_time": "2022-05-10T09:49:56.841Z"
   },
   {
    "duration": 64,
    "start_time": "2022-05-10T09:50:02.588Z"
   },
   {
    "duration": 10,
    "start_time": "2022-05-10T09:50:02.654Z"
   },
   {
    "duration": 5,
    "start_time": "2022-05-10T09:50:02.666Z"
   },
   {
    "duration": 5,
    "start_time": "2022-05-10T09:50:02.672Z"
   },
   {
    "duration": 11,
    "start_time": "2022-05-10T09:50:02.679Z"
   },
   {
    "duration": 7,
    "start_time": "2022-05-10T09:50:02.691Z"
   },
   {
    "duration": 64,
    "start_time": "2022-05-10T09:50:29.803Z"
   },
   {
    "duration": 8,
    "start_time": "2022-05-10T09:50:29.869Z"
   },
   {
    "duration": 3,
    "start_time": "2022-05-10T09:50:29.879Z"
   },
   {
    "duration": 4,
    "start_time": "2022-05-10T09:50:29.884Z"
   },
   {
    "duration": 11,
    "start_time": "2022-05-10T09:50:29.890Z"
   },
   {
    "duration": 6,
    "start_time": "2022-05-10T09:50:29.903Z"
   },
   {
    "duration": 4,
    "start_time": "2022-05-10T09:51:04.293Z"
   },
   {
    "duration": 6,
    "start_time": "2022-05-10T09:57:21.339Z"
   },
   {
    "duration": 7,
    "start_time": "2022-05-10T09:58:03.092Z"
   },
   {
    "duration": 2,
    "start_time": "2022-05-10T09:58:13.967Z"
   },
   {
    "duration": 11,
    "start_time": "2022-05-10T10:03:08.710Z"
   },
   {
    "duration": 64,
    "start_time": "2022-05-10T10:03:12.748Z"
   },
   {
    "duration": 8,
    "start_time": "2022-05-10T10:03:12.815Z"
   },
   {
    "duration": 5,
    "start_time": "2022-05-10T10:03:12.824Z"
   },
   {
    "duration": 4,
    "start_time": "2022-05-10T10:03:12.847Z"
   },
   {
    "duration": 12,
    "start_time": "2022-05-10T10:03:12.853Z"
   },
   {
    "duration": 4,
    "start_time": "2022-05-10T10:03:12.867Z"
   },
   {
    "duration": 4,
    "start_time": "2022-05-10T10:03:35.159Z"
   },
   {
    "duration": 4,
    "start_time": "2022-05-10T10:06:43.332Z"
   },
   {
    "duration": 103,
    "start_time": "2022-05-10T10:07:44.032Z"
   },
   {
    "duration": 58,
    "start_time": "2022-05-10T10:07:47.850Z"
   },
   {
    "duration": 7,
    "start_time": "2022-05-10T10:07:47.910Z"
   },
   {
    "duration": 5,
    "start_time": "2022-05-10T10:07:47.919Z"
   },
   {
    "duration": 7,
    "start_time": "2022-05-10T10:07:47.926Z"
   },
   {
    "duration": 12,
    "start_time": "2022-05-10T10:07:47.948Z"
   },
   {
    "duration": 105,
    "start_time": "2022-05-10T10:07:47.962Z"
   },
   {
    "duration": 6,
    "start_time": "2022-05-10T10:08:02.080Z"
   },
   {
    "duration": 111,
    "start_time": "2022-05-10T10:09:32.333Z"
   },
   {
    "duration": 58,
    "start_time": "2022-05-10T10:09:39.645Z"
   },
   {
    "duration": 9,
    "start_time": "2022-05-10T10:09:39.705Z"
   },
   {
    "duration": 5,
    "start_time": "2022-05-10T10:09:39.715Z"
   },
   {
    "duration": 4,
    "start_time": "2022-05-10T10:09:39.721Z"
   },
   {
    "duration": 30,
    "start_time": "2022-05-10T10:09:39.727Z"
   },
   {
    "duration": 106,
    "start_time": "2022-05-10T10:09:39.759Z"
   },
   {
    "duration": 102,
    "start_time": "2022-05-10T10:10:42.478Z"
   },
   {
    "duration": 119,
    "start_time": "2022-05-10T10:11:16.590Z"
   },
   {
    "duration": 62,
    "start_time": "2022-05-10T10:11:19.885Z"
   },
   {
    "duration": 9,
    "start_time": "2022-05-10T10:11:19.949Z"
   },
   {
    "duration": 5,
    "start_time": "2022-05-10T10:11:19.959Z"
   },
   {
    "duration": 4,
    "start_time": "2022-05-10T10:11:19.965Z"
   },
   {
    "duration": 12,
    "start_time": "2022-05-10T10:11:19.971Z"
   },
   {
    "duration": 97,
    "start_time": "2022-05-10T10:11:19.985Z"
   },
   {
    "duration": 5,
    "start_time": "2022-05-10T10:11:54.630Z"
   },
   {
    "duration": 100,
    "start_time": "2022-05-10T10:12:25.794Z"
   },
   {
    "duration": 59,
    "start_time": "2022-05-10T10:12:30.946Z"
   },
   {
    "duration": 9,
    "start_time": "2022-05-10T10:12:31.007Z"
   },
   {
    "duration": 9,
    "start_time": "2022-05-10T10:12:31.017Z"
   },
   {
    "duration": 7,
    "start_time": "2022-05-10T10:12:31.028Z"
   },
   {
    "duration": 11,
    "start_time": "2022-05-10T10:12:31.047Z"
   },
   {
    "duration": 112,
    "start_time": "2022-05-10T10:12:31.060Z"
   },
   {
    "duration": 99,
    "start_time": "2022-05-10T10:13:15.376Z"
   },
   {
    "duration": 4,
    "start_time": "2022-05-10T10:14:13.831Z"
   },
   {
    "duration": 100,
    "start_time": "2022-05-10T10:14:28.944Z"
   },
   {
    "duration": 61,
    "start_time": "2022-05-10T10:14:32.500Z"
   },
   {
    "duration": 8,
    "start_time": "2022-05-10T10:14:32.563Z"
   },
   {
    "duration": 4,
    "start_time": "2022-05-10T10:14:32.573Z"
   },
   {
    "duration": 5,
    "start_time": "2022-05-10T10:14:32.578Z"
   },
   {
    "duration": 12,
    "start_time": "2022-05-10T10:14:32.585Z"
   },
   {
    "duration": 109,
    "start_time": "2022-05-10T10:14:32.598Z"
   },
   {
    "duration": 6,
    "start_time": "2022-05-10T10:15:01.932Z"
   },
   {
    "duration": 6,
    "start_time": "2022-05-10T10:15:22.149Z"
   },
   {
    "duration": 6,
    "start_time": "2022-05-10T10:15:54.952Z"
   },
   {
    "duration": 11,
    "start_time": "2022-05-10T10:16:56.604Z"
   },
   {
    "duration": 12,
    "start_time": "2022-05-10T10:18:50.936Z"
   },
   {
    "duration": 11,
    "start_time": "2022-05-10T10:19:14.592Z"
   },
   {
    "duration": 58,
    "start_time": "2022-05-10T10:19:26.686Z"
   },
   {
    "duration": 9,
    "start_time": "2022-05-10T10:19:26.746Z"
   },
   {
    "duration": 8,
    "start_time": "2022-05-10T10:19:26.756Z"
   },
   {
    "duration": 5,
    "start_time": "2022-05-10T10:19:26.766Z"
   },
   {
    "duration": 9,
    "start_time": "2022-05-10T10:19:26.773Z"
   },
   {
    "duration": 10,
    "start_time": "2022-05-10T10:19:26.784Z"
   },
   {
    "duration": 465,
    "start_time": "2022-05-10T17:16:25.748Z"
   },
   {
    "duration": 9,
    "start_time": "2022-05-10T17:16:26.215Z"
   },
   {
    "duration": 101,
    "start_time": "2022-05-10T17:16:26.225Z"
   },
   {
    "duration": 0,
    "start_time": "2022-05-10T17:16:26.327Z"
   },
   {
    "duration": 0,
    "start_time": "2022-05-10T17:16:26.329Z"
   },
   {
    "duration": 0,
    "start_time": "2022-05-10T17:16:26.330Z"
   },
   {
    "duration": 106,
    "start_time": "2022-05-10T17:19:44.719Z"
   },
   {
    "duration": 96,
    "start_time": "2022-05-10T17:21:38.381Z"
   },
   {
    "duration": 64,
    "start_time": "2022-05-10T17:23:22.269Z"
   },
   {
    "duration": 8,
    "start_time": "2022-05-10T17:23:22.335Z"
   },
   {
    "duration": 101,
    "start_time": "2022-05-10T17:23:22.345Z"
   },
   {
    "duration": 0,
    "start_time": "2022-05-10T17:23:22.448Z"
   },
   {
    "duration": 0,
    "start_time": "2022-05-10T17:23:22.449Z"
   },
   {
    "duration": 0,
    "start_time": "2022-05-10T17:23:22.450Z"
   },
   {
    "duration": 107,
    "start_time": "2022-05-10T17:24:06.289Z"
   },
   {
    "duration": 92,
    "start_time": "2022-05-10T17:24:13.730Z"
   },
   {
    "duration": 97,
    "start_time": "2022-05-10T17:24:20.653Z"
   },
   {
    "duration": 5,
    "start_time": "2022-05-10T17:24:54.387Z"
   },
   {
    "duration": 6,
    "start_time": "2022-05-10T17:25:10.812Z"
   },
   {
    "duration": 4,
    "start_time": "2022-05-10T17:37:59.532Z"
   },
   {
    "duration": 4,
    "start_time": "2022-05-10T17:48:55.325Z"
   },
   {
    "duration": 92,
    "start_time": "2022-05-10T17:49:21.190Z"
   },
   {
    "duration": 91,
    "start_time": "2022-05-10T17:49:39.031Z"
   },
   {
    "duration": 66,
    "start_time": "2022-05-10T17:49:43.890Z"
   },
   {
    "duration": 7,
    "start_time": "2022-05-10T17:49:43.958Z"
   },
   {
    "duration": 90,
    "start_time": "2022-05-10T17:49:43.967Z"
   },
   {
    "duration": 0,
    "start_time": "2022-05-10T17:49:44.059Z"
   },
   {
    "duration": 0,
    "start_time": "2022-05-10T17:49:44.060Z"
   },
   {
    "duration": 0,
    "start_time": "2022-05-10T17:49:44.061Z"
   },
   {
    "duration": 5,
    "start_time": "2022-05-10T17:50:17.661Z"
   },
   {
    "duration": 96,
    "start_time": "2022-05-10T17:53:05.068Z"
   },
   {
    "duration": 5,
    "start_time": "2022-05-10T17:53:47.037Z"
   },
   {
    "duration": 65,
    "start_time": "2022-05-10T17:53:55.089Z"
   },
   {
    "duration": 9,
    "start_time": "2022-05-10T17:53:55.156Z"
   },
   {
    "duration": 4,
    "start_time": "2022-05-10T17:53:55.166Z"
   },
   {
    "duration": 4,
    "start_time": "2022-05-10T17:53:55.172Z"
   },
   {
    "duration": 9,
    "start_time": "2022-05-10T17:53:55.178Z"
   },
   {
    "duration": 11,
    "start_time": "2022-05-10T17:53:55.189Z"
   },
   {
    "duration": 4,
    "start_time": "2022-05-10T19:02:26.968Z"
   },
   {
    "duration": 6,
    "start_time": "2022-05-10T19:11:32.737Z"
   },
   {
    "duration": 4,
    "start_time": "2022-05-10T19:11:59.185Z"
   },
   {
    "duration": 64,
    "start_time": "2022-05-10T19:12:57.820Z"
   },
   {
    "duration": 9,
    "start_time": "2022-05-10T19:12:57.887Z"
   },
   {
    "duration": 6,
    "start_time": "2022-05-10T19:12:57.898Z"
   },
   {
    "duration": 6,
    "start_time": "2022-05-10T19:12:57.906Z"
   },
   {
    "duration": 35,
    "start_time": "2022-05-10T19:12:57.914Z"
   },
   {
    "duration": 11,
    "start_time": "2022-05-10T19:12:57.950Z"
   },
   {
    "duration": 4,
    "start_time": "2022-05-10T19:12:57.962Z"
   },
   {
    "duration": 7,
    "start_time": "2022-05-10T19:12:57.967Z"
   },
   {
    "duration": 5,
    "start_time": "2022-05-10T19:16:13.835Z"
   },
   {
    "duration": 97,
    "start_time": "2022-05-10T19:19:48.257Z"
   },
   {
    "duration": 60,
    "start_time": "2022-05-10T19:19:55.367Z"
   },
   {
    "duration": 8,
    "start_time": "2022-05-10T19:19:55.429Z"
   },
   {
    "duration": 4,
    "start_time": "2022-05-10T19:19:55.439Z"
   },
   {
    "duration": 8,
    "start_time": "2022-05-10T19:19:55.445Z"
   },
   {
    "duration": 10,
    "start_time": "2022-05-10T19:19:55.455Z"
   },
   {
    "duration": 4,
    "start_time": "2022-05-10T19:19:55.466Z"
   },
   {
    "duration": 94,
    "start_time": "2022-05-10T19:19:55.471Z"
   },
   {
    "duration": 0,
    "start_time": "2022-05-10T19:19:55.567Z"
   },
   {
    "duration": 0,
    "start_time": "2022-05-10T19:19:55.568Z"
   },
   {
    "duration": 66,
    "start_time": "2022-05-10T19:21:27.031Z"
   },
   {
    "duration": 9,
    "start_time": "2022-05-10T19:21:27.099Z"
   },
   {
    "duration": 4,
    "start_time": "2022-05-10T19:21:27.110Z"
   },
   {
    "duration": 4,
    "start_time": "2022-05-10T19:21:27.117Z"
   },
   {
    "duration": 34,
    "start_time": "2022-05-10T19:21:27.122Z"
   },
   {
    "duration": 4,
    "start_time": "2022-05-10T19:21:27.158Z"
   },
   {
    "duration": 97,
    "start_time": "2022-05-10T19:21:27.163Z"
   },
   {
    "duration": 0,
    "start_time": "2022-05-10T19:21:27.262Z"
   },
   {
    "duration": 0,
    "start_time": "2022-05-10T19:21:27.263Z"
   },
   {
    "duration": 6,
    "start_time": "2022-05-10T19:22:57.304Z"
   },
   {
    "duration": 11,
    "start_time": "2022-05-10T19:29:54.805Z"
   },
   {
    "duration": 15,
    "start_time": "2022-05-10T19:30:59.649Z"
   },
   {
    "duration": 10,
    "start_time": "2022-05-10T19:31:19.000Z"
   },
   {
    "duration": 11,
    "start_time": "2022-05-10T19:31:52.433Z"
   },
   {
    "duration": 12,
    "start_time": "2022-05-10T19:32:20.075Z"
   },
   {
    "duration": 10,
    "start_time": "2022-05-10T19:32:31.822Z"
   },
   {
    "duration": 65,
    "start_time": "2022-05-10T19:33:21.561Z"
   },
   {
    "duration": 77,
    "start_time": "2022-05-10T19:39:46.015Z"
   },
   {
    "duration": 4,
    "start_time": "2022-05-10T19:40:49.711Z"
   },
   {
    "duration": 4,
    "start_time": "2022-05-10T19:40:53.931Z"
   },
   {
    "duration": 4,
    "start_time": "2022-05-10T19:41:05.823Z"
   },
   {
    "duration": 18,
    "start_time": "2022-05-10T19:42:49.145Z"
   },
   {
    "duration": 8,
    "start_time": "2022-05-10T19:42:53.864Z"
   },
   {
    "duration": 15,
    "start_time": "2022-05-10T19:48:39.381Z"
   },
   {
    "duration": 60,
    "start_time": "2022-05-10T19:48:53.072Z"
   },
   {
    "duration": 8,
    "start_time": "2022-05-10T19:48:53.134Z"
   },
   {
    "duration": 14,
    "start_time": "2022-05-10T19:48:53.144Z"
   },
   {
    "duration": 13,
    "start_time": "2022-05-10T19:48:53.160Z"
   },
   {
    "duration": 6,
    "start_time": "2022-05-10T19:48:53.176Z"
   },
   {
    "duration": 10,
    "start_time": "2022-05-10T19:48:53.184Z"
   },
   {
    "duration": 4,
    "start_time": "2022-05-10T19:48:53.195Z"
   },
   {
    "duration": 8,
    "start_time": "2022-05-10T19:48:53.201Z"
   },
   {
    "duration": 40,
    "start_time": "2022-05-10T19:48:53.211Z"
   },
   {
    "duration": 4,
    "start_time": "2022-05-10T19:51:53.209Z"
   },
   {
    "duration": 99,
    "start_time": "2022-05-10T19:52:18.884Z"
   },
   {
    "duration": 8,
    "start_time": "2022-05-10T19:52:18.985Z"
   },
   {
    "duration": 7,
    "start_time": "2022-05-10T19:52:18.995Z"
   },
   {
    "duration": 7,
    "start_time": "2022-05-10T19:52:19.004Z"
   },
   {
    "duration": 6,
    "start_time": "2022-05-10T19:52:19.013Z"
   },
   {
    "duration": 17,
    "start_time": "2022-05-10T19:52:19.051Z"
   },
   {
    "duration": 5,
    "start_time": "2022-05-10T19:52:19.070Z"
   },
   {
    "duration": 7,
    "start_time": "2022-05-10T19:52:19.077Z"
   },
   {
    "duration": 13,
    "start_time": "2022-05-10T19:52:19.087Z"
   },
   {
    "duration": 5,
    "start_time": "2022-05-10T19:54:50.627Z"
   },
   {
    "duration": 4,
    "start_time": "2022-05-10T19:55:34.190Z"
   },
   {
    "duration": 5,
    "start_time": "2022-05-10T19:56:18.761Z"
   },
   {
    "duration": 71,
    "start_time": "2022-05-10T19:57:27.598Z"
   },
   {
    "duration": 9,
    "start_time": "2022-05-10T19:57:27.672Z"
   },
   {
    "duration": 11,
    "start_time": "2022-05-10T19:57:27.683Z"
   },
   {
    "duration": 7,
    "start_time": "2022-05-10T19:57:27.696Z"
   },
   {
    "duration": 9,
    "start_time": "2022-05-10T19:57:27.706Z"
   },
   {
    "duration": 32,
    "start_time": "2022-05-10T19:57:27.717Z"
   },
   {
    "duration": 6,
    "start_time": "2022-05-10T19:57:27.751Z"
   },
   {
    "duration": 12,
    "start_time": "2022-05-10T19:57:27.760Z"
   },
   {
    "duration": 13,
    "start_time": "2022-05-10T19:57:27.773Z"
   },
   {
    "duration": 9,
    "start_time": "2022-05-10T20:02:22.424Z"
   },
   {
    "duration": 6,
    "start_time": "2022-05-10T20:05:06.065Z"
   },
   {
    "duration": 12,
    "start_time": "2022-05-10T20:06:04.082Z"
   },
   {
    "duration": 82,
    "start_time": "2022-05-10T20:06:19.452Z"
   },
   {
    "duration": 13,
    "start_time": "2022-05-10T20:06:19.536Z"
   },
   {
    "duration": 9,
    "start_time": "2022-05-10T20:06:19.560Z"
   },
   {
    "duration": 6,
    "start_time": "2022-05-10T20:06:19.572Z"
   },
   {
    "duration": 6,
    "start_time": "2022-05-10T20:06:19.580Z"
   },
   {
    "duration": 11,
    "start_time": "2022-05-10T20:06:19.588Z"
   },
   {
    "duration": 20,
    "start_time": "2022-05-10T20:06:19.600Z"
   },
   {
    "duration": 29,
    "start_time": "2022-05-10T20:06:19.622Z"
   },
   {
    "duration": 15,
    "start_time": "2022-05-10T20:06:19.653Z"
   },
   {
    "duration": 11,
    "start_time": "2022-05-10T20:06:19.670Z"
   },
   {
    "duration": 61,
    "start_time": "2022-05-10T20:07:02.183Z"
   },
   {
    "duration": 23,
    "start_time": "2022-05-10T20:07:02.246Z"
   },
   {
    "duration": 6,
    "start_time": "2022-05-10T20:07:02.270Z"
   },
   {
    "duration": 6,
    "start_time": "2022-05-10T20:07:02.277Z"
   },
   {
    "duration": 6,
    "start_time": "2022-05-10T20:07:02.285Z"
   },
   {
    "duration": 9,
    "start_time": "2022-05-10T20:07:02.293Z"
   },
   {
    "duration": 4,
    "start_time": "2022-05-10T20:07:02.304Z"
   },
   {
    "duration": 49,
    "start_time": "2022-05-10T20:07:02.310Z"
   },
   {
    "duration": 10,
    "start_time": "2022-05-10T20:07:02.361Z"
   },
   {
    "duration": 12,
    "start_time": "2022-05-10T20:07:02.373Z"
   },
   {
    "duration": 7,
    "start_time": "2022-05-10T20:08:05.272Z"
   },
   {
    "duration": 5,
    "start_time": "2022-05-10T20:08:23.214Z"
   },
   {
    "duration": 5,
    "start_time": "2022-05-10T20:09:33.495Z"
   },
   {
    "duration": 83,
    "start_time": "2022-05-10T20:09:38.911Z"
   },
   {
    "duration": 9,
    "start_time": "2022-05-10T20:09:38.996Z"
   },
   {
    "duration": 5,
    "start_time": "2022-05-10T20:09:39.007Z"
   },
   {
    "duration": 4,
    "start_time": "2022-05-10T20:09:39.014Z"
   },
   {
    "duration": 7,
    "start_time": "2022-05-10T20:09:39.021Z"
   },
   {
    "duration": 25,
    "start_time": "2022-05-10T20:09:39.030Z"
   },
   {
    "duration": 15,
    "start_time": "2022-05-10T20:09:39.057Z"
   },
   {
    "duration": 8,
    "start_time": "2022-05-10T20:09:39.074Z"
   },
   {
    "duration": 8,
    "start_time": "2022-05-10T20:09:39.083Z"
   },
   {
    "duration": 9,
    "start_time": "2022-05-10T20:09:39.092Z"
   },
   {
    "duration": 99,
    "start_time": "2022-05-10T20:12:10.962Z"
   },
   {
    "duration": 1555,
    "start_time": "2022-05-10T20:12:32.332Z"
   },
   {
    "duration": 9,
    "start_time": "2022-05-10T20:12:33.889Z"
   },
   {
    "duration": 8,
    "start_time": "2022-05-10T20:12:33.899Z"
   },
   {
    "duration": 5,
    "start_time": "2022-05-10T20:12:33.909Z"
   },
   {
    "duration": 6,
    "start_time": "2022-05-10T20:12:33.917Z"
   },
   {
    "duration": 37,
    "start_time": "2022-05-10T20:12:33.925Z"
   },
   {
    "duration": 4,
    "start_time": "2022-05-10T20:12:33.963Z"
   },
   {
    "duration": 7,
    "start_time": "2022-05-10T20:12:33.968Z"
   },
   {
    "duration": 5,
    "start_time": "2022-05-10T20:12:33.976Z"
   },
   {
    "duration": 9,
    "start_time": "2022-05-10T20:12:33.983Z"
   },
   {
    "duration": 479,
    "start_time": "2022-05-12T10:02:52.001Z"
   },
   {
    "duration": 9,
    "start_time": "2022-05-12T10:02:52.482Z"
   },
   {
    "duration": 6,
    "start_time": "2022-05-12T10:02:52.492Z"
   },
   {
    "duration": 6,
    "start_time": "2022-05-12T10:02:52.500Z"
   },
   {
    "duration": 7,
    "start_time": "2022-05-12T10:02:52.507Z"
   },
   {
    "duration": 11,
    "start_time": "2022-05-12T10:02:52.515Z"
   },
   {
    "duration": 4,
    "start_time": "2022-05-12T10:02:52.528Z"
   },
   {
    "duration": 7,
    "start_time": "2022-05-12T10:02:52.533Z"
   },
   {
    "duration": 7,
    "start_time": "2022-05-12T10:02:52.541Z"
   },
   {
    "duration": 9,
    "start_time": "2022-05-12T10:02:52.549Z"
   },
   {
    "duration": 17,
    "start_time": "2022-05-12T10:03:52.842Z"
   },
   {
    "duration": 0,
    "start_time": "2022-05-12T10:08:22.149Z"
   },
   {
    "duration": 67,
    "start_time": "2022-05-12T10:08:39.556Z"
   },
   {
    "duration": 8,
    "start_time": "2022-05-12T10:08:39.624Z"
   },
   {
    "duration": 7,
    "start_time": "2022-05-12T10:08:39.633Z"
   },
   {
    "duration": 9,
    "start_time": "2022-05-12T10:08:39.641Z"
   },
   {
    "duration": 14,
    "start_time": "2022-05-12T10:08:39.652Z"
   },
   {
    "duration": 14,
    "start_time": "2022-05-12T10:08:39.667Z"
   },
   {
    "duration": 6,
    "start_time": "2022-05-12T10:08:39.683Z"
   },
   {
    "duration": 10,
    "start_time": "2022-05-12T10:08:39.690Z"
   },
   {
    "duration": 7,
    "start_time": "2022-05-12T10:08:39.702Z"
   },
   {
    "duration": 8,
    "start_time": "2022-05-12T10:08:39.710Z"
   },
   {
    "duration": 3276,
    "start_time": "2022-05-12T10:08:39.720Z"
   },
   {
    "duration": 3093,
    "start_time": "2022-05-12T10:09:22.484Z"
   },
   {
    "duration": 70,
    "start_time": "2022-05-12T10:09:27.683Z"
   },
   {
    "duration": 9,
    "start_time": "2022-05-12T10:09:27.754Z"
   },
   {
    "duration": 6,
    "start_time": "2022-05-12T10:09:27.764Z"
   },
   {
    "duration": 5,
    "start_time": "2022-05-12T10:09:27.772Z"
   },
   {
    "duration": 5,
    "start_time": "2022-05-12T10:09:27.779Z"
   },
   {
    "duration": 16,
    "start_time": "2022-05-12T10:09:27.785Z"
   },
   {
    "duration": 3,
    "start_time": "2022-05-12T10:09:27.802Z"
   },
   {
    "duration": 6,
    "start_time": "2022-05-12T10:09:27.807Z"
   },
   {
    "duration": 6,
    "start_time": "2022-05-12T10:09:27.814Z"
   },
   {
    "duration": 8,
    "start_time": "2022-05-12T10:09:27.821Z"
   },
   {
    "duration": 3150,
    "start_time": "2022-05-12T10:09:27.830Z"
   },
   {
    "duration": 67,
    "start_time": "2022-05-12T10:11:02.209Z"
   },
   {
    "duration": 8,
    "start_time": "2022-05-12T10:11:02.278Z"
   },
   {
    "duration": 28,
    "start_time": "2022-05-12T10:11:02.287Z"
   },
   {
    "duration": 12,
    "start_time": "2022-05-12T10:11:02.317Z"
   },
   {
    "duration": 8,
    "start_time": "2022-05-12T10:11:02.331Z"
   },
   {
    "duration": 12,
    "start_time": "2022-05-12T10:11:02.340Z"
   },
   {
    "duration": 9,
    "start_time": "2022-05-12T10:11:02.353Z"
   },
   {
    "duration": 8,
    "start_time": "2022-05-12T10:11:02.363Z"
   },
   {
    "duration": 7,
    "start_time": "2022-05-12T10:11:02.372Z"
   },
   {
    "duration": 10,
    "start_time": "2022-05-12T10:11:02.380Z"
   },
   {
    "duration": 24,
    "start_time": "2022-05-12T10:11:02.392Z"
   },
   {
    "duration": 68,
    "start_time": "2022-05-12T10:17:00.517Z"
   },
   {
    "duration": 9,
    "start_time": "2022-05-12T10:17:00.586Z"
   },
   {
    "duration": 20,
    "start_time": "2022-05-12T10:17:00.597Z"
   },
   {
    "duration": 23,
    "start_time": "2022-05-12T10:17:00.618Z"
   },
   {
    "duration": 11,
    "start_time": "2022-05-12T10:17:00.643Z"
   },
   {
    "duration": 19,
    "start_time": "2022-05-12T10:17:00.656Z"
   },
   {
    "duration": 11,
    "start_time": "2022-05-12T10:17:00.677Z"
   },
   {
    "duration": 24,
    "start_time": "2022-05-12T10:17:00.689Z"
   },
   {
    "duration": 29,
    "start_time": "2022-05-12T10:17:00.714Z"
   },
   {
    "duration": 34,
    "start_time": "2022-05-12T10:17:00.744Z"
   },
   {
    "duration": 65,
    "start_time": "2022-05-12T10:17:00.780Z"
   },
   {
    "duration": 17,
    "start_time": "2022-05-12T10:31:40.107Z"
   },
   {
    "duration": 15,
    "start_time": "2022-05-12T10:33:03.923Z"
   },
   {
    "duration": 14,
    "start_time": "2022-05-12T10:33:52.212Z"
   },
   {
    "duration": 19,
    "start_time": "2022-05-12T10:34:25.566Z"
   },
   {
    "duration": 10,
    "start_time": "2022-05-12T10:34:45.935Z"
   },
   {
    "duration": 7,
    "start_time": "2022-05-12T10:35:17.317Z"
   },
   {
    "duration": 7,
    "start_time": "2022-05-12T10:35:34.781Z"
   },
   {
    "duration": 9,
    "start_time": "2022-05-12T10:35:54.133Z"
   },
   {
    "duration": 3,
    "start_time": "2022-05-12T10:36:26.270Z"
   },
   {
    "duration": 5,
    "start_time": "2022-05-12T10:36:42.799Z"
   },
   {
    "duration": 4,
    "start_time": "2022-05-12T10:37:09.116Z"
   },
   {
    "duration": 68,
    "start_time": "2022-05-12T10:37:25.338Z"
   },
   {
    "duration": 8,
    "start_time": "2022-05-12T10:37:25.409Z"
   },
   {
    "duration": 5,
    "start_time": "2022-05-12T10:37:25.419Z"
   },
   {
    "duration": 5,
    "start_time": "2022-05-12T10:37:25.426Z"
   },
   {
    "duration": 7,
    "start_time": "2022-05-12T10:37:25.433Z"
   },
   {
    "duration": 10,
    "start_time": "2022-05-12T10:37:25.441Z"
   },
   {
    "duration": 4,
    "start_time": "2022-05-12T10:37:25.452Z"
   },
   {
    "duration": 46,
    "start_time": "2022-05-12T10:37:25.458Z"
   },
   {
    "duration": 8,
    "start_time": "2022-05-12T10:37:25.505Z"
   },
   {
    "duration": 8,
    "start_time": "2022-05-12T10:37:25.515Z"
   },
   {
    "duration": 15,
    "start_time": "2022-05-12T10:37:25.524Z"
   },
   {
    "duration": 16,
    "start_time": "2022-05-12T10:37:25.541Z"
   },
   {
    "duration": 5,
    "start_time": "2022-05-12T10:38:12.230Z"
   },
   {
    "duration": 65,
    "start_time": "2022-05-12T10:38:28.947Z"
   },
   {
    "duration": 7,
    "start_time": "2022-05-12T10:38:29.014Z"
   },
   {
    "duration": 7,
    "start_time": "2022-05-12T10:38:29.022Z"
   },
   {
    "duration": 8,
    "start_time": "2022-05-12T10:38:29.031Z"
   },
   {
    "duration": 10,
    "start_time": "2022-05-12T10:38:29.041Z"
   },
   {
    "duration": 12,
    "start_time": "2022-05-12T10:38:29.052Z"
   },
   {
    "duration": 9,
    "start_time": "2022-05-12T10:38:29.066Z"
   },
   {
    "duration": 7,
    "start_time": "2022-05-12T10:38:29.076Z"
   },
   {
    "duration": 16,
    "start_time": "2022-05-12T10:38:29.085Z"
   },
   {
    "duration": 8,
    "start_time": "2022-05-12T10:38:29.102Z"
   },
   {
    "duration": 14,
    "start_time": "2022-05-12T10:38:29.111Z"
   },
   {
    "duration": 16,
    "start_time": "2022-05-12T10:38:29.126Z"
   },
   {
    "duration": 6,
    "start_time": "2022-05-12T10:39:13.480Z"
   },
   {
    "duration": 83,
    "start_time": "2022-05-12T10:39:17.846Z"
   },
   {
    "duration": 12,
    "start_time": "2022-05-12T10:39:17.931Z"
   },
   {
    "duration": 10,
    "start_time": "2022-05-12T10:39:17.945Z"
   },
   {
    "duration": 5,
    "start_time": "2022-05-12T10:39:17.957Z"
   },
   {
    "duration": 8,
    "start_time": "2022-05-12T10:39:17.965Z"
   },
   {
    "duration": 29,
    "start_time": "2022-05-12T10:39:17.974Z"
   },
   {
    "duration": 10,
    "start_time": "2022-05-12T10:39:18.004Z"
   },
   {
    "duration": 11,
    "start_time": "2022-05-12T10:39:18.015Z"
   },
   {
    "duration": 10,
    "start_time": "2022-05-12T10:39:18.027Z"
   },
   {
    "duration": 9,
    "start_time": "2022-05-12T10:39:18.038Z"
   },
   {
    "duration": 15,
    "start_time": "2022-05-12T10:39:18.048Z"
   },
   {
    "duration": 15,
    "start_time": "2022-05-12T10:39:18.064Z"
   },
   {
    "duration": 7,
    "start_time": "2022-05-12T10:42:03.826Z"
   },
   {
    "duration": 20,
    "start_time": "2022-05-12T10:42:13.862Z"
   },
   {
    "duration": 21,
    "start_time": "2022-05-12T10:44:05.504Z"
   },
   {
    "duration": 22,
    "start_time": "2022-05-12T10:44:53.406Z"
   },
   {
    "duration": 17,
    "start_time": "2022-05-12T10:48:06.107Z"
   },
   {
    "duration": 31,
    "start_time": "2022-05-12T10:48:38.879Z"
   },
   {
    "duration": 15,
    "start_time": "2022-05-12T11:14:42.122Z"
   },
   {
    "duration": 16,
    "start_time": "2022-05-12T11:14:47.459Z"
   },
   {
    "duration": 17,
    "start_time": "2022-05-12T11:15:23.184Z"
   },
   {
    "duration": 32,
    "start_time": "2022-05-12T11:15:58.261Z"
   },
   {
    "duration": 31,
    "start_time": "2022-05-12T11:16:57.709Z"
   },
   {
    "duration": 30,
    "start_time": "2022-05-12T11:17:13.337Z"
   },
   {
    "duration": 17,
    "start_time": "2022-05-12T11:17:27.728Z"
   },
   {
    "duration": 66,
    "start_time": "2022-05-12T11:17:37.484Z"
   },
   {
    "duration": 8,
    "start_time": "2022-05-12T11:17:37.552Z"
   },
   {
    "duration": 4,
    "start_time": "2022-05-12T11:17:37.561Z"
   },
   {
    "duration": 6,
    "start_time": "2022-05-12T11:17:37.566Z"
   },
   {
    "duration": 6,
    "start_time": "2022-05-12T11:17:37.574Z"
   },
   {
    "duration": 26,
    "start_time": "2022-05-12T11:17:37.581Z"
   },
   {
    "duration": 4,
    "start_time": "2022-05-12T11:17:37.608Z"
   },
   {
    "duration": 7,
    "start_time": "2022-05-12T11:17:37.614Z"
   },
   {
    "duration": 7,
    "start_time": "2022-05-12T11:17:37.622Z"
   },
   {
    "duration": 9,
    "start_time": "2022-05-12T11:17:37.630Z"
   },
   {
    "duration": 13,
    "start_time": "2022-05-12T11:17:37.641Z"
   },
   {
    "duration": 50,
    "start_time": "2022-05-12T11:17:37.656Z"
   },
   {
    "duration": 20,
    "start_time": "2022-05-12T11:17:37.708Z"
   },
   {
    "duration": 27,
    "start_time": "2022-05-12T11:17:37.730Z"
   },
   {
    "duration": 4,
    "start_time": "2022-05-12T11:20:34.817Z"
   },
   {
    "duration": 6,
    "start_time": "2022-05-12T11:31:09.253Z"
   },
   {
    "duration": 620,
    "start_time": "2022-05-12T11:37:50.805Z"
   },
   {
    "duration": 1618,
    "start_time": "2022-05-12T11:38:28.100Z"
   },
   {
    "duration": 8,
    "start_time": "2022-05-12T11:38:29.720Z"
   },
   {
    "duration": 7,
    "start_time": "2022-05-12T11:38:29.730Z"
   },
   {
    "duration": 9,
    "start_time": "2022-05-12T11:38:29.738Z"
   },
   {
    "duration": 7,
    "start_time": "2022-05-12T11:38:29.749Z"
   },
   {
    "duration": 8,
    "start_time": "2022-05-12T11:38:29.757Z"
   },
   {
    "duration": 4,
    "start_time": "2022-05-12T11:38:29.767Z"
   },
   {
    "duration": 31,
    "start_time": "2022-05-12T11:38:29.772Z"
   },
   {
    "duration": 16,
    "start_time": "2022-05-12T11:38:29.805Z"
   },
   {
    "duration": 9,
    "start_time": "2022-05-12T11:38:29.823Z"
   },
   {
    "duration": 23,
    "start_time": "2022-05-12T11:38:29.834Z"
   },
   {
    "duration": 16,
    "start_time": "2022-05-12T11:38:29.858Z"
   },
   {
    "duration": 42,
    "start_time": "2022-05-12T11:38:29.875Z"
   },
   {
    "duration": 29,
    "start_time": "2022-05-12T11:38:29.920Z"
   },
   {
    "duration": 6,
    "start_time": "2022-05-12T11:38:29.950Z"
   },
   {
    "duration": 1222,
    "start_time": "2022-05-12T11:38:29.958Z"
   },
   {
    "duration": 197,
    "start_time": "2022-05-12T11:39:02.580Z"
   },
   {
    "duration": 1576,
    "start_time": "2022-05-12T11:39:16.541Z"
   },
   {
    "duration": 8,
    "start_time": "2022-05-12T11:39:18.119Z"
   },
   {
    "duration": 5,
    "start_time": "2022-05-12T11:39:18.129Z"
   },
   {
    "duration": 5,
    "start_time": "2022-05-12T11:39:18.136Z"
   },
   {
    "duration": 10,
    "start_time": "2022-05-12T11:39:18.143Z"
   },
   {
    "duration": 9,
    "start_time": "2022-05-12T11:39:18.154Z"
   },
   {
    "duration": 5,
    "start_time": "2022-05-12T11:39:18.164Z"
   },
   {
    "duration": 31,
    "start_time": "2022-05-12T11:39:18.170Z"
   },
   {
    "duration": 7,
    "start_time": "2022-05-12T11:39:18.203Z"
   },
   {
    "duration": 9,
    "start_time": "2022-05-12T11:39:18.211Z"
   },
   {
    "duration": 13,
    "start_time": "2022-05-12T11:39:18.221Z"
   },
   {
    "duration": 14,
    "start_time": "2022-05-12T11:39:18.236Z"
   },
   {
    "duration": 53,
    "start_time": "2022-05-12T11:39:18.251Z"
   },
   {
    "duration": 29,
    "start_time": "2022-05-12T11:39:18.306Z"
   },
   {
    "duration": 6,
    "start_time": "2022-05-12T11:39:18.336Z"
   },
   {
    "duration": 394,
    "start_time": "2022-05-12T11:39:18.343Z"
   },
   {
    "duration": 14,
    "start_time": "2022-05-12T11:40:02.986Z"
   },
   {
    "duration": 18,
    "start_time": "2022-05-12T11:40:26.777Z"
   },
   {
    "duration": 7,
    "start_time": "2022-05-12T11:45:53.085Z"
   },
   {
    "duration": 6,
    "start_time": "2022-05-12T11:48:05.155Z"
   },
   {
    "duration": 9,
    "start_time": "2022-05-12T12:05:54.896Z"
   },
   {
    "duration": 7,
    "start_time": "2022-05-12T12:07:17.720Z"
   },
   {
    "duration": 2648,
    "start_time": "2022-05-12T12:12:54.565Z"
   },
   {
    "duration": 1596,
    "start_time": "2022-05-12T12:13:25.977Z"
   },
   {
    "duration": 3387,
    "start_time": "2022-05-12T12:19:24.581Z"
   },
   {
    "duration": 3013,
    "start_time": "2022-05-12T12:19:50.731Z"
   },
   {
    "duration": 3092,
    "start_time": "2022-05-12T12:19:53.951Z"
   },
   {
    "duration": 0,
    "start_time": "2022-05-12T12:20:22.407Z"
   },
   {
    "duration": 0,
    "start_time": "2022-05-12T12:20:22.408Z"
   },
   {
    "duration": 0,
    "start_time": "2022-05-12T12:20:22.408Z"
   },
   {
    "duration": 0,
    "start_time": "2022-05-12T12:20:22.410Z"
   },
   {
    "duration": 0,
    "start_time": "2022-05-12T12:20:22.411Z"
   },
   {
    "duration": 0,
    "start_time": "2022-05-12T12:20:22.412Z"
   },
   {
    "duration": 0,
    "start_time": "2022-05-12T12:20:22.413Z"
   },
   {
    "duration": 0,
    "start_time": "2022-05-12T12:20:22.414Z"
   },
   {
    "duration": 0,
    "start_time": "2022-05-12T12:20:22.415Z"
   },
   {
    "duration": 0,
    "start_time": "2022-05-12T12:20:22.415Z"
   },
   {
    "duration": 0,
    "start_time": "2022-05-12T12:20:22.416Z"
   },
   {
    "duration": 0,
    "start_time": "2022-05-12T12:20:22.418Z"
   },
   {
    "duration": 0,
    "start_time": "2022-05-12T12:20:22.418Z"
   },
   {
    "duration": 0,
    "start_time": "2022-05-12T12:20:22.419Z"
   },
   {
    "duration": 0,
    "start_time": "2022-05-12T12:20:22.420Z"
   },
   {
    "duration": 0,
    "start_time": "2022-05-12T12:20:22.421Z"
   },
   {
    "duration": 0,
    "start_time": "2022-05-12T12:20:22.422Z"
   },
   {
    "duration": 0,
    "start_time": "2022-05-12T12:20:22.423Z"
   },
   {
    "duration": 0,
    "start_time": "2022-05-12T12:20:22.424Z"
   },
   {
    "duration": 75,
    "start_time": "2022-05-12T12:20:51.189Z"
   },
   {
    "duration": 9,
    "start_time": "2022-05-12T12:20:51.266Z"
   },
   {
    "duration": 6,
    "start_time": "2022-05-12T12:20:51.276Z"
   },
   {
    "duration": 5,
    "start_time": "2022-05-12T12:20:51.284Z"
   },
   {
    "duration": 10,
    "start_time": "2022-05-12T12:20:51.291Z"
   },
   {
    "duration": 8,
    "start_time": "2022-05-12T12:20:51.302Z"
   },
   {
    "duration": 5,
    "start_time": "2022-05-12T12:20:51.311Z"
   },
   {
    "duration": 6,
    "start_time": "2022-05-12T12:20:51.318Z"
   },
   {
    "duration": 6,
    "start_time": "2022-05-12T12:20:51.325Z"
   },
   {
    "duration": 8,
    "start_time": "2022-05-12T12:20:51.333Z"
   },
   {
    "duration": 13,
    "start_time": "2022-05-12T12:20:51.342Z"
   },
   {
    "duration": 50,
    "start_time": "2022-05-12T12:20:51.357Z"
   },
   {
    "duration": 20,
    "start_time": "2022-05-12T12:20:51.408Z"
   },
   {
    "duration": 29,
    "start_time": "2022-05-12T12:20:51.430Z"
   },
   {
    "duration": 6,
    "start_time": "2022-05-12T12:20:51.460Z"
   },
   {
    "duration": 39,
    "start_time": "2022-05-12T12:20:51.468Z"
   },
   {
    "duration": 3608,
    "start_time": "2022-05-12T12:20:51.508Z"
   },
   {
    "duration": 0,
    "start_time": "2022-05-12T12:20:55.118Z"
   },
   {
    "duration": 0,
    "start_time": "2022-05-12T12:20:55.119Z"
   },
   {
    "duration": 7,
    "start_time": "2022-05-12T12:21:58.068Z"
   },
   {
    "duration": 167,
    "start_time": "2022-05-12T12:22:41.066Z"
   },
   {
    "duration": 64,
    "start_time": "2022-05-12T12:22:49.292Z"
   },
   {
    "duration": 8,
    "start_time": "2022-05-12T12:22:49.358Z"
   },
   {
    "duration": 5,
    "start_time": "2022-05-12T12:22:49.367Z"
   },
   {
    "duration": 8,
    "start_time": "2022-05-12T12:22:49.373Z"
   },
   {
    "duration": 20,
    "start_time": "2022-05-12T12:22:49.382Z"
   },
   {
    "duration": 8,
    "start_time": "2022-05-12T12:22:49.403Z"
   },
   {
    "duration": 5,
    "start_time": "2022-05-12T12:22:49.413Z"
   },
   {
    "duration": 6,
    "start_time": "2022-05-12T12:22:49.420Z"
   },
   {
    "duration": 7,
    "start_time": "2022-05-12T12:22:49.427Z"
   },
   {
    "duration": 9,
    "start_time": "2022-05-12T12:22:49.436Z"
   },
   {
    "duration": 14,
    "start_time": "2022-05-12T12:22:49.447Z"
   },
   {
    "duration": 52,
    "start_time": "2022-05-12T12:22:49.462Z"
   },
   {
    "duration": 20,
    "start_time": "2022-05-12T12:22:49.516Z"
   },
   {
    "duration": 30,
    "start_time": "2022-05-12T12:22:49.539Z"
   },
   {
    "duration": 31,
    "start_time": "2022-05-12T12:22:49.571Z"
   },
   {
    "duration": 20,
    "start_time": "2022-05-12T12:22:49.603Z"
   },
   {
    "duration": 217,
    "start_time": "2022-05-12T12:22:49.624Z"
   },
   {
    "duration": 0,
    "start_time": "2022-05-12T12:22:49.843Z"
   },
   {
    "duration": 0,
    "start_time": "2022-05-12T12:22:49.844Z"
   },
   {
    "duration": 11,
    "start_time": "2022-05-12T12:23:17.877Z"
   },
   {
    "duration": 7,
    "start_time": "2022-05-12T12:23:40.701Z"
   },
   {
    "duration": 7,
    "start_time": "2022-05-12T12:23:46.301Z"
   },
   {
    "duration": 17,
    "start_time": "2022-05-12T12:32:24.507Z"
   },
   {
    "duration": 24,
    "start_time": "2022-05-12T12:32:52.606Z"
   },
   {
    "duration": 16,
    "start_time": "2022-05-12T12:33:46.110Z"
   },
   {
    "duration": 201,
    "start_time": "2022-05-12T12:49:51.679Z"
   },
   {
    "duration": 196,
    "start_time": "2022-05-12T12:50:20.832Z"
   },
   {
    "duration": 75,
    "start_time": "2022-05-12T12:50:24.824Z"
   },
   {
    "duration": 8,
    "start_time": "2022-05-12T12:50:24.901Z"
   },
   {
    "duration": 6,
    "start_time": "2022-05-12T12:50:24.910Z"
   },
   {
    "duration": 4,
    "start_time": "2022-05-12T12:50:24.918Z"
   },
   {
    "duration": 7,
    "start_time": "2022-05-12T12:50:24.924Z"
   },
   {
    "duration": 8,
    "start_time": "2022-05-12T12:50:24.932Z"
   },
   {
    "duration": 5,
    "start_time": "2022-05-12T12:50:24.942Z"
   },
   {
    "duration": 7,
    "start_time": "2022-05-12T12:50:24.948Z"
   },
   {
    "duration": 8,
    "start_time": "2022-05-12T12:50:24.956Z"
   },
   {
    "duration": 11,
    "start_time": "2022-05-12T12:50:25.001Z"
   },
   {
    "duration": 23,
    "start_time": "2022-05-12T12:50:25.014Z"
   },
   {
    "duration": 25,
    "start_time": "2022-05-12T12:50:25.039Z"
   },
   {
    "duration": 58,
    "start_time": "2022-05-12T12:50:25.066Z"
   },
   {
    "duration": 46,
    "start_time": "2022-05-12T12:50:25.126Z"
   },
   {
    "duration": 7,
    "start_time": "2022-05-12T12:50:25.174Z"
   },
   {
    "duration": 15,
    "start_time": "2022-05-12T12:50:25.199Z"
   },
   {
    "duration": 10,
    "start_time": "2022-05-12T12:50:25.215Z"
   },
   {
    "duration": 9,
    "start_time": "2022-05-12T12:50:25.226Z"
   },
   {
    "duration": 8,
    "start_time": "2022-05-12T12:50:25.236Z"
   },
   {
    "duration": 178,
    "start_time": "2022-05-12T12:50:25.245Z"
   },
   {
    "duration": 199,
    "start_time": "2022-05-12T12:51:35.166Z"
   },
   {
    "duration": 66,
    "start_time": "2022-05-12T12:51:39.170Z"
   },
   {
    "duration": 9,
    "start_time": "2022-05-12T12:51:39.238Z"
   },
   {
    "duration": 5,
    "start_time": "2022-05-12T12:51:39.249Z"
   },
   {
    "duration": 7,
    "start_time": "2022-05-12T12:51:39.255Z"
   },
   {
    "duration": 9,
    "start_time": "2022-05-12T12:51:39.264Z"
   },
   {
    "duration": 32,
    "start_time": "2022-05-12T12:51:39.275Z"
   },
   {
    "duration": 5,
    "start_time": "2022-05-12T12:51:39.308Z"
   },
   {
    "duration": 8,
    "start_time": "2022-05-12T12:51:39.314Z"
   },
   {
    "duration": 7,
    "start_time": "2022-05-12T12:51:39.323Z"
   },
   {
    "duration": 10,
    "start_time": "2022-05-12T12:51:39.331Z"
   },
   {
    "duration": 15,
    "start_time": "2022-05-12T12:51:39.343Z"
   },
   {
    "duration": 54,
    "start_time": "2022-05-12T12:51:39.360Z"
   },
   {
    "duration": 22,
    "start_time": "2022-05-12T12:51:39.415Z"
   },
   {
    "duration": 33,
    "start_time": "2022-05-12T12:51:39.440Z"
   },
   {
    "duration": 7,
    "start_time": "2022-05-12T12:51:39.474Z"
   },
   {
    "duration": 34,
    "start_time": "2022-05-12T12:51:39.482Z"
   },
   {
    "duration": 10,
    "start_time": "2022-05-12T12:51:39.517Z"
   },
   {
    "duration": 9,
    "start_time": "2022-05-12T12:51:39.528Z"
   },
   {
    "duration": 10,
    "start_time": "2022-05-12T12:51:39.538Z"
   },
   {
    "duration": 205,
    "start_time": "2022-05-12T12:51:39.549Z"
   },
   {
    "duration": 210,
    "start_time": "2022-05-12T12:59:51.854Z"
   },
   {
    "duration": 595,
    "start_time": "2022-05-12T13:00:08.759Z"
   },
   {
    "duration": 276,
    "start_time": "2022-05-12T13:00:24.025Z"
   },
   {
    "duration": 135,
    "start_time": "2022-05-12T13:00:27.197Z"
   },
   {
    "duration": 14,
    "start_time": "2022-05-12T13:00:27.337Z"
   },
   {
    "duration": 12,
    "start_time": "2022-05-12T13:00:27.353Z"
   },
   {
    "duration": 10,
    "start_time": "2022-05-12T13:00:27.366Z"
   },
   {
    "duration": 11,
    "start_time": "2022-05-12T13:00:27.379Z"
   },
   {
    "duration": 46,
    "start_time": "2022-05-12T13:00:27.392Z"
   },
   {
    "duration": 5,
    "start_time": "2022-05-12T13:00:27.440Z"
   },
   {
    "duration": 15,
    "start_time": "2022-05-12T13:00:27.447Z"
   },
   {
    "duration": 22,
    "start_time": "2022-05-12T13:00:27.464Z"
   },
   {
    "duration": 19,
    "start_time": "2022-05-12T13:00:27.488Z"
   },
   {
    "duration": 74,
    "start_time": "2022-05-12T13:00:27.509Z"
   },
   {
    "duration": 18,
    "start_time": "2022-05-12T13:00:27.585Z"
   },
   {
    "duration": 34,
    "start_time": "2022-05-12T13:00:27.607Z"
   },
   {
    "duration": 35,
    "start_time": "2022-05-12T13:00:27.643Z"
   },
   {
    "duration": 8,
    "start_time": "2022-05-12T13:00:27.680Z"
   },
   {
    "duration": 34,
    "start_time": "2022-05-12T13:00:27.717Z"
   },
   {
    "duration": 10,
    "start_time": "2022-05-12T13:00:27.754Z"
   },
   {
    "duration": 13,
    "start_time": "2022-05-12T13:00:27.766Z"
   },
   {
    "duration": 13,
    "start_time": "2022-05-12T13:00:27.781Z"
   },
   {
    "duration": 254,
    "start_time": "2022-05-12T13:00:27.796Z"
   },
   {
    "duration": 213,
    "start_time": "2022-05-12T13:01:14.216Z"
   },
   {
    "duration": 77,
    "start_time": "2022-05-12T13:01:18.950Z"
   },
   {
    "duration": 9,
    "start_time": "2022-05-12T13:01:19.029Z"
   },
   {
    "duration": 9,
    "start_time": "2022-05-12T13:01:19.040Z"
   },
   {
    "duration": 12,
    "start_time": "2022-05-12T13:01:19.050Z"
   },
   {
    "duration": 12,
    "start_time": "2022-05-12T13:01:19.064Z"
   },
   {
    "duration": 28,
    "start_time": "2022-05-12T13:01:19.078Z"
   },
   {
    "duration": 11,
    "start_time": "2022-05-12T13:01:19.108Z"
   },
   {
    "duration": 20,
    "start_time": "2022-05-12T13:01:19.121Z"
   },
   {
    "duration": 24,
    "start_time": "2022-05-12T13:01:19.143Z"
   },
   {
    "duration": 17,
    "start_time": "2022-05-12T13:01:19.169Z"
   },
   {
    "duration": 36,
    "start_time": "2022-05-12T13:01:19.187Z"
   },
   {
    "duration": 22,
    "start_time": "2022-05-12T13:01:19.225Z"
   },
   {
    "duration": 35,
    "start_time": "2022-05-12T13:01:19.249Z"
   },
   {
    "duration": 60,
    "start_time": "2022-05-12T13:01:19.299Z"
   },
   {
    "duration": 9,
    "start_time": "2022-05-12T13:01:19.362Z"
   },
   {
    "duration": 42,
    "start_time": "2022-05-12T13:01:19.373Z"
   },
   {
    "duration": 10,
    "start_time": "2022-05-12T13:01:19.417Z"
   },
   {
    "duration": 8,
    "start_time": "2022-05-12T13:01:19.429Z"
   },
   {
    "duration": 11,
    "start_time": "2022-05-12T13:01:19.439Z"
   },
   {
    "duration": 190,
    "start_time": "2022-05-12T13:01:19.452Z"
   },
   {
    "duration": 380,
    "start_time": "2022-05-12T13:51:30.798Z"
   },
   {
    "duration": 9,
    "start_time": "2022-05-12T13:51:31.180Z"
   },
   {
    "duration": 5,
    "start_time": "2022-05-12T13:51:31.191Z"
   },
   {
    "duration": 8,
    "start_time": "2022-05-12T13:51:31.198Z"
   },
   {
    "duration": 9,
    "start_time": "2022-05-12T13:51:31.208Z"
   },
   {
    "duration": 25,
    "start_time": "2022-05-12T13:51:31.219Z"
   },
   {
    "duration": 4,
    "start_time": "2022-05-12T13:51:31.246Z"
   },
   {
    "duration": 10,
    "start_time": "2022-05-12T13:51:31.252Z"
   },
   {
    "duration": 23,
    "start_time": "2022-05-12T13:51:31.263Z"
   },
   {
    "duration": 10,
    "start_time": "2022-05-12T13:51:31.287Z"
   },
   {
    "duration": 21,
    "start_time": "2022-05-12T13:51:31.298Z"
   },
   {
    "duration": 17,
    "start_time": "2022-05-12T13:51:31.320Z"
   },
   {
    "duration": 31,
    "start_time": "2022-05-12T13:51:31.339Z"
   },
   {
    "duration": 47,
    "start_time": "2022-05-12T13:51:31.373Z"
   },
   {
    "duration": 7,
    "start_time": "2022-05-12T13:51:31.422Z"
   },
   {
    "duration": 29,
    "start_time": "2022-05-12T13:51:31.430Z"
   },
   {
    "duration": 21,
    "start_time": "2022-05-12T13:51:31.461Z"
   },
   {
    "duration": 20,
    "start_time": "2022-05-12T13:51:31.483Z"
   },
   {
    "duration": 12,
    "start_time": "2022-05-12T13:51:31.504Z"
   },
   {
    "duration": 17,
    "start_time": "2022-05-12T13:52:17.940Z"
   },
   {
    "duration": 2,
    "start_time": "2022-05-12T13:52:54.093Z"
   },
   {
    "duration": 66,
    "start_time": "2022-05-12T13:52:57.364Z"
   },
   {
    "duration": 9,
    "start_time": "2022-05-12T13:52:57.433Z"
   },
   {
    "duration": 4,
    "start_time": "2022-05-12T13:52:57.445Z"
   },
   {
    "duration": 9,
    "start_time": "2022-05-12T13:52:57.450Z"
   },
   {
    "duration": 9,
    "start_time": "2022-05-12T13:52:57.461Z"
   },
   {
    "duration": 8,
    "start_time": "2022-05-12T13:52:57.471Z"
   },
   {
    "duration": 12,
    "start_time": "2022-05-12T13:52:57.500Z"
   },
   {
    "duration": 18,
    "start_time": "2022-05-12T13:52:57.513Z"
   },
   {
    "duration": 8,
    "start_time": "2022-05-12T13:52:57.532Z"
   },
   {
    "duration": 8,
    "start_time": "2022-05-12T13:52:57.542Z"
   },
   {
    "duration": 21,
    "start_time": "2022-05-12T13:52:57.551Z"
   },
   {
    "duration": 15,
    "start_time": "2022-05-12T13:52:57.573Z"
   },
   {
    "duration": 2,
    "start_time": "2022-05-12T13:52:57.600Z"
   },
   {
    "duration": 38,
    "start_time": "2022-05-12T13:52:57.605Z"
   },
   {
    "duration": 6,
    "start_time": "2022-05-12T13:52:57.645Z"
   },
   {
    "duration": 30,
    "start_time": "2022-05-12T13:52:57.652Z"
   },
   {
    "duration": 17,
    "start_time": "2022-05-12T13:52:57.684Z"
   },
   {
    "duration": 13,
    "start_time": "2022-05-12T13:52:57.703Z"
   },
   {
    "duration": 15,
    "start_time": "2022-05-12T13:52:57.718Z"
   },
   {
    "duration": 45,
    "start_time": "2022-05-13T07:56:38.478Z"
   },
   {
    "duration": 460,
    "start_time": "2022-05-13T07:56:42.079Z"
   },
   {
    "duration": 9,
    "start_time": "2022-05-13T07:56:42.541Z"
   },
   {
    "duration": 7,
    "start_time": "2022-05-13T07:56:42.552Z"
   },
   {
    "duration": 11,
    "start_time": "2022-05-13T07:56:42.562Z"
   },
   {
    "duration": 22,
    "start_time": "2022-05-13T07:56:42.575Z"
   },
   {
    "duration": 9,
    "start_time": "2022-05-13T07:56:42.599Z"
   },
   {
    "duration": 6,
    "start_time": "2022-05-13T07:56:42.609Z"
   },
   {
    "duration": 6,
    "start_time": "2022-05-13T07:56:42.616Z"
   },
   {
    "duration": 8,
    "start_time": "2022-05-13T07:56:42.624Z"
   },
   {
    "duration": 41,
    "start_time": "2022-05-13T07:56:42.633Z"
   },
   {
    "duration": 25,
    "start_time": "2022-05-13T07:56:42.676Z"
   },
   {
    "duration": 15,
    "start_time": "2022-05-13T07:56:42.704Z"
   },
   {
    "duration": 3,
    "start_time": "2022-05-13T07:56:42.720Z"
   },
   {
    "duration": 53,
    "start_time": "2022-05-13T07:56:42.725Z"
   },
   {
    "duration": 7,
    "start_time": "2022-05-13T07:56:42.782Z"
   },
   {
    "duration": 16,
    "start_time": "2022-05-13T07:56:42.790Z"
   },
   {
    "duration": 6,
    "start_time": "2022-05-13T07:56:42.808Z"
   },
   {
    "duration": 8,
    "start_time": "2022-05-13T07:56:42.815Z"
   },
   {
    "duration": 9,
    "start_time": "2022-05-13T07:56:42.825Z"
   },
   {
    "duration": 46,
    "start_time": "2022-05-13T07:56:42.836Z"
   },
   {
    "duration": 2,
    "start_time": "2022-05-13T07:58:58.735Z"
   },
   {
    "duration": 165,
    "start_time": "2022-05-13T08:19:59.171Z"
   },
   {
    "duration": 19,
    "start_time": "2022-05-13T08:20:07.185Z"
   },
   {
    "duration": 49,
    "start_time": "2022-05-13T08:27:39.258Z"
   },
   {
    "duration": 8,
    "start_time": "2022-05-13T08:27:58.090Z"
   },
   {
    "duration": 10,
    "start_time": "2022-05-13T08:30:14.083Z"
   },
   {
    "duration": 14,
    "start_time": "2022-05-13T08:31:07.984Z"
   },
   {
    "duration": 3,
    "start_time": "2022-05-13T08:32:10.145Z"
   },
   {
    "duration": 8,
    "start_time": "2022-05-13T08:34:46.843Z"
   },
   {
    "duration": 7,
    "start_time": "2022-05-13T08:35:12.124Z"
   },
   {
    "duration": 6,
    "start_time": "2022-05-13T08:36:49.237Z"
   },
   {
    "duration": 7,
    "start_time": "2022-05-13T08:37:03.086Z"
   },
   {
    "duration": 8,
    "start_time": "2022-05-13T08:40:00.919Z"
   },
   {
    "duration": 9,
    "start_time": "2022-05-13T08:45:28.386Z"
   },
   {
    "duration": 6,
    "start_time": "2022-05-13T08:45:32.044Z"
   },
   {
    "duration": 19,
    "start_time": "2022-05-13T08:45:36.770Z"
   },
   {
    "duration": 143,
    "start_time": "2022-05-13T09:20:17.755Z"
   },
   {
    "duration": 174,
    "start_time": "2022-05-13T09:28:42.437Z"
   },
   {
    "duration": 81,
    "start_time": "2022-05-13T09:28:49.263Z"
   },
   {
    "duration": 20,
    "start_time": "2022-05-13T09:28:49.346Z"
   },
   {
    "duration": 10,
    "start_time": "2022-05-13T09:28:49.367Z"
   },
   {
    "duration": 13,
    "start_time": "2022-05-13T09:28:49.380Z"
   },
   {
    "duration": 12,
    "start_time": "2022-05-13T09:28:49.395Z"
   },
   {
    "duration": 22,
    "start_time": "2022-05-13T09:28:49.410Z"
   },
   {
    "duration": 11,
    "start_time": "2022-05-13T09:28:49.433Z"
   },
   {
    "duration": 12,
    "start_time": "2022-05-13T09:28:49.463Z"
   },
   {
    "duration": 11,
    "start_time": "2022-05-13T09:28:49.477Z"
   },
   {
    "duration": 13,
    "start_time": "2022-05-13T09:28:49.490Z"
   },
   {
    "duration": 24,
    "start_time": "2022-05-13T09:28:49.505Z"
   },
   {
    "duration": 57,
    "start_time": "2022-05-13T09:28:49.532Z"
   },
   {
    "duration": 3,
    "start_time": "2022-05-13T09:28:49.590Z"
   },
   {
    "duration": 67,
    "start_time": "2022-05-13T09:28:49.596Z"
   },
   {
    "duration": 9,
    "start_time": "2022-05-13T09:28:49.666Z"
   },
   {
    "duration": 32,
    "start_time": "2022-05-13T09:28:49.677Z"
   },
   {
    "duration": 22,
    "start_time": "2022-05-13T09:28:49.711Z"
   },
   {
    "duration": 24,
    "start_time": "2022-05-13T09:28:49.738Z"
   },
   {
    "duration": 12,
    "start_time": "2022-05-13T09:28:49.765Z"
   },
   {
    "duration": 17,
    "start_time": "2022-05-13T09:28:49.779Z"
   },
   {
    "duration": 11,
    "start_time": "2022-05-13T09:28:49.799Z"
   },
   {
    "duration": 13,
    "start_time": "2022-05-13T09:28:49.812Z"
   },
   {
    "duration": 47,
    "start_time": "2022-05-13T09:28:49.827Z"
   },
   {
    "duration": 151,
    "start_time": "2022-05-13T09:28:49.876Z"
   },
   {
    "duration": 4,
    "start_time": "2022-05-13T09:39:24.034Z"
   },
   {
    "duration": 11,
    "start_time": "2022-05-13T09:41:00.303Z"
   },
   {
    "duration": 19,
    "start_time": "2022-05-13T09:41:18.168Z"
   },
   {
    "duration": 196,
    "start_time": "2022-05-13T09:45:36.932Z"
   },
   {
    "duration": 169,
    "start_time": "2022-05-13T09:45:55.583Z"
   },
   {
    "duration": 163,
    "start_time": "2022-05-13T09:47:07.207Z"
   },
   {
    "duration": 175,
    "start_time": "2022-05-13T09:47:52.922Z"
   },
   {
    "duration": 227,
    "start_time": "2022-05-13T09:48:04.015Z"
   },
   {
    "duration": 9,
    "start_time": "2022-05-13T09:49:04.403Z"
   },
   {
    "duration": 151,
    "start_time": "2022-05-13T09:49:25.507Z"
   },
   {
    "duration": 164,
    "start_time": "2022-05-13T09:49:40.183Z"
   },
   {
    "duration": 0,
    "start_time": "2022-05-13T09:50:14.582Z"
   },
   {
    "duration": 174,
    "start_time": "2022-05-13T09:50:22.761Z"
   },
   {
    "duration": 8,
    "start_time": "2022-05-13T09:50:22.937Z"
   },
   {
    "duration": 5,
    "start_time": "2022-05-13T09:50:22.946Z"
   },
   {
    "duration": 4,
    "start_time": "2022-05-13T09:50:22.953Z"
   },
   {
    "duration": 27,
    "start_time": "2022-05-13T09:50:22.959Z"
   },
   {
    "duration": 30,
    "start_time": "2022-05-13T09:50:22.987Z"
   },
   {
    "duration": 6,
    "start_time": "2022-05-13T09:50:23.019Z"
   },
   {
    "duration": 8,
    "start_time": "2022-05-13T09:50:23.027Z"
   },
   {
    "duration": 7,
    "start_time": "2022-05-13T09:50:23.036Z"
   },
   {
    "duration": 11,
    "start_time": "2022-05-13T09:50:23.044Z"
   },
   {
    "duration": 34,
    "start_time": "2022-05-13T09:50:23.057Z"
   },
   {
    "duration": 34,
    "start_time": "2022-05-13T09:50:23.092Z"
   },
   {
    "duration": 3,
    "start_time": "2022-05-13T09:50:23.128Z"
   },
   {
    "duration": 40,
    "start_time": "2022-05-13T09:50:23.134Z"
   },
   {
    "duration": 13,
    "start_time": "2022-05-13T09:50:23.176Z"
   },
   {
    "duration": 36,
    "start_time": "2022-05-13T09:50:23.191Z"
   },
   {
    "duration": 13,
    "start_time": "2022-05-13T09:50:23.229Z"
   },
   {
    "duration": 21,
    "start_time": "2022-05-13T09:50:23.244Z"
   },
   {
    "duration": 40,
    "start_time": "2022-05-13T09:50:23.269Z"
   },
   {
    "duration": 9,
    "start_time": "2022-05-13T09:50:23.311Z"
   },
   {
    "duration": 7,
    "start_time": "2022-05-13T09:50:23.322Z"
   },
   {
    "duration": 7,
    "start_time": "2022-05-13T09:50:23.331Z"
   },
   {
    "duration": 14,
    "start_time": "2022-05-13T09:50:23.339Z"
   },
   {
    "duration": 2896,
    "start_time": "2022-05-13T09:50:23.355Z"
   },
   {
    "duration": 90,
    "start_time": "2022-05-13T09:50:56.443Z"
   },
   {
    "duration": 8,
    "start_time": "2022-05-13T09:50:56.535Z"
   },
   {
    "duration": 6,
    "start_time": "2022-05-13T09:50:56.545Z"
   },
   {
    "duration": 20,
    "start_time": "2022-05-13T09:50:56.552Z"
   },
   {
    "duration": 49,
    "start_time": "2022-05-13T09:50:56.575Z"
   },
   {
    "duration": 9,
    "start_time": "2022-05-13T09:50:56.625Z"
   },
   {
    "duration": 4,
    "start_time": "2022-05-13T09:50:56.636Z"
   },
   {
    "duration": 8,
    "start_time": "2022-05-13T09:50:56.641Z"
   },
   {
    "duration": 7,
    "start_time": "2022-05-13T09:50:56.651Z"
   },
   {
    "duration": 28,
    "start_time": "2022-05-13T09:50:56.659Z"
   },
   {
    "duration": 35,
    "start_time": "2022-05-13T09:50:56.688Z"
   },
   {
    "duration": 15,
    "start_time": "2022-05-13T09:50:56.725Z"
   },
   {
    "duration": 2,
    "start_time": "2022-05-13T09:50:56.742Z"
   },
   {
    "duration": 54,
    "start_time": "2022-05-13T09:50:56.746Z"
   },
   {
    "duration": 11,
    "start_time": "2022-05-13T09:50:56.802Z"
   },
   {
    "duration": 19,
    "start_time": "2022-05-13T09:50:56.814Z"
   },
   {
    "duration": 8,
    "start_time": "2022-05-13T09:50:56.835Z"
   },
   {
    "duration": 9,
    "start_time": "2022-05-13T09:50:56.844Z"
   },
   {
    "duration": 20,
    "start_time": "2022-05-13T09:50:56.854Z"
   },
   {
    "duration": 39,
    "start_time": "2022-05-13T09:50:56.875Z"
   },
   {
    "duration": 8,
    "start_time": "2022-05-13T09:50:56.915Z"
   },
   {
    "duration": 6,
    "start_time": "2022-05-13T09:50:56.925Z"
   },
   {
    "duration": 13,
    "start_time": "2022-05-13T09:50:56.933Z"
   },
   {
    "duration": 11,
    "start_time": "2022-05-13T09:50:56.948Z"
   },
   {
    "duration": 125,
    "start_time": "2022-05-13T09:51:36.600Z"
   },
   {
    "duration": 9,
    "start_time": "2022-05-13T09:51:36.727Z"
   },
   {
    "duration": 6,
    "start_time": "2022-05-13T09:51:36.737Z"
   },
   {
    "duration": 4,
    "start_time": "2022-05-13T09:51:36.745Z"
   },
   {
    "duration": 37,
    "start_time": "2022-05-13T09:51:36.767Z"
   },
   {
    "duration": 22,
    "start_time": "2022-05-13T09:51:36.806Z"
   },
   {
    "duration": 8,
    "start_time": "2022-05-13T09:51:36.830Z"
   },
   {
    "duration": 11,
    "start_time": "2022-05-13T09:51:36.839Z"
   },
   {
    "duration": 20,
    "start_time": "2022-05-13T09:51:36.851Z"
   },
   {
    "duration": 46,
    "start_time": "2022-05-13T09:51:36.876Z"
   },
   {
    "duration": 15,
    "start_time": "2022-05-13T09:51:36.924Z"
   },
   {
    "duration": 16,
    "start_time": "2022-05-13T09:51:36.940Z"
   },
   {
    "duration": 2,
    "start_time": "2022-05-13T09:51:36.958Z"
   },
   {
    "duration": 71,
    "start_time": "2022-05-13T09:51:36.967Z"
   },
   {
    "duration": 7,
    "start_time": "2022-05-13T09:51:37.040Z"
   },
   {
    "duration": 35,
    "start_time": "2022-05-13T09:51:37.049Z"
   },
   {
    "duration": 36,
    "start_time": "2022-05-13T09:51:37.085Z"
   },
   {
    "duration": 8,
    "start_time": "2022-05-13T09:51:37.122Z"
   },
   {
    "duration": 11,
    "start_time": "2022-05-13T09:51:37.132Z"
   },
   {
    "duration": 10,
    "start_time": "2022-05-13T09:51:37.145Z"
   },
   {
    "duration": 24,
    "start_time": "2022-05-13T09:51:37.157Z"
   },
   {
    "duration": 26,
    "start_time": "2022-05-13T09:51:37.186Z"
   },
   {
    "duration": 17,
    "start_time": "2022-05-13T09:51:37.214Z"
   },
   {
    "duration": 12,
    "start_time": "2022-05-13T09:51:37.233Z"
   },
   {
    "duration": 94,
    "start_time": "2022-05-13T09:52:31.420Z"
   },
   {
    "duration": 8,
    "start_time": "2022-05-13T09:52:31.517Z"
   },
   {
    "duration": 13,
    "start_time": "2022-05-13T09:52:31.526Z"
   },
   {
    "duration": 12,
    "start_time": "2022-05-13T09:52:31.540Z"
   },
   {
    "duration": 15,
    "start_time": "2022-05-13T09:52:31.554Z"
   },
   {
    "duration": 46,
    "start_time": "2022-05-13T09:52:31.571Z"
   },
   {
    "duration": 14,
    "start_time": "2022-05-13T09:52:31.618Z"
   },
   {
    "duration": 8,
    "start_time": "2022-05-13T09:52:31.633Z"
   },
   {
    "duration": 10,
    "start_time": "2022-05-13T09:52:31.642Z"
   },
   {
    "duration": 58,
    "start_time": "2022-05-13T09:52:31.653Z"
   },
   {
    "duration": 23,
    "start_time": "2022-05-13T09:52:31.712Z"
   },
   {
    "duration": 14,
    "start_time": "2022-05-13T09:52:31.737Z"
   },
   {
    "duration": 7,
    "start_time": "2022-05-13T09:52:31.753Z"
   },
   {
    "duration": 90,
    "start_time": "2022-05-13T09:52:31.763Z"
   },
   {
    "duration": 12,
    "start_time": "2022-05-13T09:52:31.855Z"
   },
   {
    "duration": 45,
    "start_time": "2022-05-13T09:52:31.869Z"
   },
   {
    "duration": 9,
    "start_time": "2022-05-13T09:52:31.915Z"
   },
   {
    "duration": 8,
    "start_time": "2022-05-13T09:52:31.926Z"
   },
   {
    "duration": 8,
    "start_time": "2022-05-13T09:52:31.936Z"
   },
   {
    "duration": 10,
    "start_time": "2022-05-13T09:52:31.945Z"
   },
   {
    "duration": 17,
    "start_time": "2022-05-13T09:52:31.956Z"
   },
   {
    "duration": 37,
    "start_time": "2022-05-13T09:52:31.976Z"
   },
   {
    "duration": 16,
    "start_time": "2022-05-13T09:52:32.015Z"
   },
   {
    "duration": 13,
    "start_time": "2022-05-13T09:52:32.033Z"
   },
   {
    "duration": 21,
    "start_time": "2022-05-13T09:53:40.195Z"
   },
   {
    "duration": 21,
    "start_time": "2022-05-13T09:54:12.372Z"
   },
   {
    "duration": 10,
    "start_time": "2022-05-13T09:55:16.445Z"
   },
   {
    "duration": 93,
    "start_time": "2022-05-13T09:55:30.466Z"
   },
   {
    "duration": 19,
    "start_time": "2022-05-13T09:55:30.561Z"
   },
   {
    "duration": 42,
    "start_time": "2022-05-13T09:55:30.584Z"
   },
   {
    "duration": 21,
    "start_time": "2022-05-13T09:55:30.629Z"
   },
   {
    "duration": 16,
    "start_time": "2022-05-13T09:55:30.652Z"
   },
   {
    "duration": 46,
    "start_time": "2022-05-13T09:55:30.672Z"
   },
   {
    "duration": 10,
    "start_time": "2022-05-13T09:55:30.719Z"
   },
   {
    "duration": 15,
    "start_time": "2022-05-13T09:55:30.730Z"
   },
   {
    "duration": 37,
    "start_time": "2022-05-13T09:55:30.746Z"
   },
   {
    "duration": 35,
    "start_time": "2022-05-13T09:55:30.786Z"
   },
   {
    "duration": 18,
    "start_time": "2022-05-13T09:55:30.822Z"
   },
   {
    "duration": 23,
    "start_time": "2022-05-13T09:55:30.842Z"
   },
   {
    "duration": 5,
    "start_time": "2022-05-13T09:55:30.867Z"
   },
   {
    "duration": 69,
    "start_time": "2022-05-13T09:55:30.888Z"
   },
   {
    "duration": 18,
    "start_time": "2022-05-13T09:55:30.959Z"
   },
   {
    "duration": 60,
    "start_time": "2022-05-13T09:55:30.979Z"
   },
   {
    "duration": 19,
    "start_time": "2022-05-13T09:55:31.041Z"
   },
   {
    "duration": 52,
    "start_time": "2022-05-13T09:55:31.061Z"
   },
   {
    "duration": 26,
    "start_time": "2022-05-13T09:55:31.115Z"
   },
   {
    "duration": 32,
    "start_time": "2022-05-13T09:55:31.143Z"
   },
   {
    "duration": 52,
    "start_time": "2022-05-13T09:55:31.181Z"
   },
   {
    "duration": 56,
    "start_time": "2022-05-13T09:55:31.234Z"
   },
   {
    "duration": 50,
    "start_time": "2022-05-13T09:55:31.292Z"
   },
   {
    "duration": 49,
    "start_time": "2022-05-13T09:55:31.344Z"
   },
   {
    "duration": 57,
    "start_time": "2022-05-13T10:13:54.637Z"
   },
   {
    "duration": 96,
    "start_time": "2022-05-13T10:14:45.680Z"
   },
   {
    "duration": 15,
    "start_time": "2022-05-13T10:14:45.782Z"
   },
   {
    "duration": 19,
    "start_time": "2022-05-13T10:14:45.801Z"
   },
   {
    "duration": 7,
    "start_time": "2022-05-13T10:14:45.821Z"
   },
   {
    "duration": 17,
    "start_time": "2022-05-13T10:14:45.830Z"
   },
   {
    "duration": 9,
    "start_time": "2022-05-13T10:14:45.849Z"
   },
   {
    "duration": 20,
    "start_time": "2022-05-13T10:14:45.875Z"
   },
   {
    "duration": 24,
    "start_time": "2022-05-13T10:14:45.898Z"
   },
   {
    "duration": 10,
    "start_time": "2022-05-13T10:14:45.924Z"
   },
   {
    "duration": 11,
    "start_time": "2022-05-13T10:14:45.936Z"
   },
   {
    "duration": 20,
    "start_time": "2022-05-13T10:14:45.949Z"
   },
   {
    "duration": 22,
    "start_time": "2022-05-13T10:14:45.971Z"
   },
   {
    "duration": 27,
    "start_time": "2022-05-13T10:14:45.996Z"
   },
   {
    "duration": 50,
    "start_time": "2022-05-13T10:14:46.027Z"
   },
   {
    "duration": 9,
    "start_time": "2022-05-13T10:14:46.079Z"
   },
   {
    "duration": 45,
    "start_time": "2022-05-13T10:14:46.091Z"
   },
   {
    "duration": 9,
    "start_time": "2022-05-13T10:14:46.138Z"
   },
   {
    "duration": 9,
    "start_time": "2022-05-13T10:14:46.148Z"
   },
   {
    "duration": 30,
    "start_time": "2022-05-13T10:14:46.159Z"
   },
   {
    "duration": 31,
    "start_time": "2022-05-13T10:14:46.190Z"
   },
   {
    "duration": 12,
    "start_time": "2022-05-13T10:14:46.223Z"
   },
   {
    "duration": 12,
    "start_time": "2022-05-13T10:14:46.237Z"
   },
   {
    "duration": 18,
    "start_time": "2022-05-13T10:14:46.251Z"
   },
   {
    "duration": 52,
    "start_time": "2022-05-13T10:14:46.275Z"
   },
   {
    "duration": 92,
    "start_time": "2022-05-13T10:19:49.844Z"
   },
   {
    "duration": 9,
    "start_time": "2022-05-13T10:19:49.938Z"
   },
   {
    "duration": 22,
    "start_time": "2022-05-13T10:19:49.948Z"
   },
   {
    "duration": 19,
    "start_time": "2022-05-13T10:19:49.975Z"
   },
   {
    "duration": 23,
    "start_time": "2022-05-13T10:19:49.996Z"
   },
   {
    "duration": 14,
    "start_time": "2022-05-13T10:19:50.021Z"
   },
   {
    "duration": 11,
    "start_time": "2022-05-13T10:19:50.037Z"
   },
   {
    "duration": 17,
    "start_time": "2022-05-13T10:19:50.051Z"
   },
   {
    "duration": 42,
    "start_time": "2022-05-13T10:19:50.075Z"
   },
   {
    "duration": 13,
    "start_time": "2022-05-13T10:19:50.119Z"
   },
   {
    "duration": 19,
    "start_time": "2022-05-13T10:19:50.134Z"
   },
   {
    "duration": 28,
    "start_time": "2022-05-13T10:19:50.155Z"
   },
   {
    "duration": 19,
    "start_time": "2022-05-13T10:19:50.187Z"
   },
   {
    "duration": 43,
    "start_time": "2022-05-13T10:19:50.210Z"
   },
   {
    "duration": 7,
    "start_time": "2022-05-13T10:19:50.254Z"
   },
   {
    "duration": 63,
    "start_time": "2022-05-13T10:19:50.262Z"
   },
   {
    "duration": 10,
    "start_time": "2022-05-13T10:19:50.327Z"
   },
   {
    "duration": 12,
    "start_time": "2022-05-13T10:19:50.339Z"
   },
   {
    "duration": 18,
    "start_time": "2022-05-13T10:19:50.353Z"
   },
   {
    "duration": 31,
    "start_time": "2022-05-13T10:19:50.373Z"
   },
   {
    "duration": 14,
    "start_time": "2022-05-13T10:19:50.406Z"
   },
   {
    "duration": 11,
    "start_time": "2022-05-13T10:19:50.422Z"
   },
   {
    "duration": 17,
    "start_time": "2022-05-13T10:19:50.435Z"
   },
   {
    "duration": 12,
    "start_time": "2022-05-13T10:19:50.455Z"
   },
   {
    "duration": 4,
    "start_time": "2022-05-13T10:46:28.497Z"
   },
   {
    "duration": 11,
    "start_time": "2022-05-13T10:46:45.920Z"
   },
   {
    "duration": 5,
    "start_time": "2022-05-13T10:47:40.225Z"
   },
   {
    "duration": 10,
    "start_time": "2022-05-13T10:47:49.643Z"
   },
   {
    "duration": 11,
    "start_time": "2022-05-13T10:48:09.089Z"
   },
   {
    "duration": 9,
    "start_time": "2022-05-13T10:48:26.048Z"
   },
   {
    "duration": 19,
    "start_time": "2022-05-13T10:49:27.877Z"
   },
   {
    "duration": 236,
    "start_time": "2022-05-13T11:00:25.684Z"
   },
   {
    "duration": 16,
    "start_time": "2022-05-13T11:00:37.179Z"
   },
   {
    "duration": 14,
    "start_time": "2022-05-13T11:20:00.851Z"
   },
   {
    "duration": 10,
    "start_time": "2022-05-13T11:20:34.905Z"
   },
   {
    "duration": 98,
    "start_time": "2022-05-13T11:20:39.044Z"
   },
   {
    "duration": 11,
    "start_time": "2022-05-13T11:20:39.144Z"
   },
   {
    "duration": 50,
    "start_time": "2022-05-13T11:20:39.156Z"
   },
   {
    "duration": 12,
    "start_time": "2022-05-13T11:20:39.208Z"
   },
   {
    "duration": 17,
    "start_time": "2022-05-13T11:20:39.222Z"
   },
   {
    "duration": 62,
    "start_time": "2022-05-13T11:20:39.241Z"
   },
   {
    "duration": 15,
    "start_time": "2022-05-13T11:20:39.306Z"
   },
   {
    "duration": 16,
    "start_time": "2022-05-13T11:20:39.322Z"
   },
   {
    "duration": 37,
    "start_time": "2022-05-13T11:20:39.339Z"
   },
   {
    "duration": 34,
    "start_time": "2022-05-13T11:20:39.379Z"
   },
   {
    "duration": 16,
    "start_time": "2022-05-13T11:20:39.415Z"
   },
   {
    "duration": 17,
    "start_time": "2022-05-13T11:20:39.433Z"
   },
   {
    "duration": 2,
    "start_time": "2022-05-13T11:20:39.452Z"
   },
   {
    "duration": 63,
    "start_time": "2022-05-13T11:20:39.455Z"
   },
   {
    "duration": 7,
    "start_time": "2022-05-13T11:20:39.520Z"
   },
   {
    "duration": 17,
    "start_time": "2022-05-13T11:20:39.529Z"
   },
   {
    "duration": 8,
    "start_time": "2022-05-13T11:20:39.548Z"
   },
   {
    "duration": 47,
    "start_time": "2022-05-13T11:20:39.558Z"
   },
   {
    "duration": 11,
    "start_time": "2022-05-13T11:20:39.608Z"
   },
   {
    "duration": 9,
    "start_time": "2022-05-13T11:20:39.621Z"
   },
   {
    "duration": 9,
    "start_time": "2022-05-13T11:20:39.632Z"
   },
   {
    "duration": 65,
    "start_time": "2022-05-13T11:20:39.643Z"
   },
   {
    "duration": 21,
    "start_time": "2022-05-13T11:20:39.710Z"
   },
   {
    "duration": 12,
    "start_time": "2022-05-13T11:20:39.732Z"
   },
   {
    "duration": 13,
    "start_time": "2022-05-13T11:27:29.803Z"
   },
   {
    "duration": 11,
    "start_time": "2022-05-13T11:28:52.397Z"
   },
   {
    "duration": 13,
    "start_time": "2022-05-13T11:29:14.384Z"
   },
   {
    "duration": 11,
    "start_time": "2022-05-13T11:30:57.613Z"
   },
   {
    "duration": 157,
    "start_time": "2022-05-13T11:53:48.249Z"
   },
   {
    "duration": 20,
    "start_time": "2022-05-13T11:56:27.654Z"
   },
   {
    "duration": 76,
    "start_time": "2022-05-13T11:57:01.335Z"
   },
   {
    "duration": 9,
    "start_time": "2022-05-13T11:57:01.413Z"
   },
   {
    "duration": 15,
    "start_time": "2022-05-13T11:57:01.423Z"
   },
   {
    "duration": 11,
    "start_time": "2022-05-13T11:57:01.440Z"
   },
   {
    "duration": 20,
    "start_time": "2022-05-13T11:57:01.453Z"
   },
   {
    "duration": 24,
    "start_time": "2022-05-13T11:57:01.475Z"
   },
   {
    "duration": 8,
    "start_time": "2022-05-13T11:57:01.500Z"
   },
   {
    "duration": 19,
    "start_time": "2022-05-13T11:57:01.510Z"
   },
   {
    "duration": 15,
    "start_time": "2022-05-13T11:57:01.531Z"
   },
   {
    "duration": 22,
    "start_time": "2022-05-13T11:57:01.549Z"
   },
   {
    "duration": 28,
    "start_time": "2022-05-13T11:57:01.574Z"
   },
   {
    "duration": 17,
    "start_time": "2022-05-13T11:57:01.604Z"
   },
   {
    "duration": 2,
    "start_time": "2022-05-13T11:57:01.623Z"
   },
   {
    "duration": 53,
    "start_time": "2022-05-13T11:57:01.627Z"
   },
   {
    "duration": 6,
    "start_time": "2022-05-13T11:57:01.683Z"
   },
   {
    "duration": 28,
    "start_time": "2022-05-13T11:57:01.690Z"
   },
   {
    "duration": 11,
    "start_time": "2022-05-13T11:57:01.720Z"
   },
   {
    "duration": 12,
    "start_time": "2022-05-13T11:57:01.733Z"
   },
   {
    "duration": 20,
    "start_time": "2022-05-13T11:57:01.747Z"
   },
   {
    "duration": 22,
    "start_time": "2022-05-13T11:57:01.770Z"
   },
   {
    "duration": 13,
    "start_time": "2022-05-13T11:57:01.794Z"
   },
   {
    "duration": 11,
    "start_time": "2022-05-13T11:57:01.809Z"
   },
   {
    "duration": 14,
    "start_time": "2022-05-13T11:57:01.821Z"
   },
   {
    "duration": 43,
    "start_time": "2022-05-13T11:57:01.837Z"
   },
   {
    "duration": 15,
    "start_time": "2022-05-13T11:57:51.700Z"
   },
   {
    "duration": 13,
    "start_time": "2022-05-13T11:58:26.925Z"
   },
   {
    "duration": 11,
    "start_time": "2022-05-13T11:58:49.836Z"
   },
   {
    "duration": 11,
    "start_time": "2022-05-13T11:59:41.924Z"
   },
   {
    "duration": 20,
    "start_time": "2022-05-13T12:00:11.164Z"
   },
   {
    "duration": 84,
    "start_time": "2022-05-13T12:09:17.123Z"
   },
   {
    "duration": 17,
    "start_time": "2022-05-13T12:09:17.211Z"
   },
   {
    "duration": 6,
    "start_time": "2022-05-13T12:09:17.230Z"
   },
   {
    "duration": 24,
    "start_time": "2022-05-13T12:09:17.238Z"
   },
   {
    "duration": 9,
    "start_time": "2022-05-13T12:09:17.264Z"
   },
   {
    "duration": 17,
    "start_time": "2022-05-13T12:09:17.274Z"
   },
   {
    "duration": 6,
    "start_time": "2022-05-13T12:09:17.293Z"
   },
   {
    "duration": 7,
    "start_time": "2022-05-13T12:09:17.301Z"
   },
   {
    "duration": 8,
    "start_time": "2022-05-13T12:09:17.310Z"
   },
   {
    "duration": 49,
    "start_time": "2022-05-13T12:09:17.320Z"
   },
   {
    "duration": 22,
    "start_time": "2022-05-13T12:09:17.372Z"
   },
   {
    "duration": 24,
    "start_time": "2022-05-13T12:09:17.396Z"
   },
   {
    "duration": 3,
    "start_time": "2022-05-13T12:09:17.422Z"
   },
   {
    "duration": 46,
    "start_time": "2022-05-13T12:09:17.461Z"
   },
   {
    "duration": 9,
    "start_time": "2022-05-13T12:09:17.509Z"
   },
   {
    "duration": 45,
    "start_time": "2022-05-13T12:09:17.520Z"
   },
   {
    "duration": 12,
    "start_time": "2022-05-13T12:09:17.567Z"
   },
   {
    "duration": 11,
    "start_time": "2022-05-13T12:09:17.584Z"
   },
   {
    "duration": 12,
    "start_time": "2022-05-13T12:09:17.597Z"
   },
   {
    "duration": 11,
    "start_time": "2022-05-13T12:09:17.610Z"
   },
   {
    "duration": 40,
    "start_time": "2022-05-13T12:09:17.622Z"
   },
   {
    "duration": 20,
    "start_time": "2022-05-13T12:09:17.664Z"
   },
   {
    "duration": 25,
    "start_time": "2022-05-13T12:09:17.686Z"
   },
   {
    "duration": 31,
    "start_time": "2022-05-13T12:09:17.713Z"
   },
   {
    "duration": 158,
    "start_time": "2022-05-13T12:10:29.837Z"
   },
   {
    "duration": 9,
    "start_time": "2022-05-13T12:12:46.128Z"
   },
   {
    "duration": 9,
    "start_time": "2022-05-13T12:13:42.217Z"
   },
   {
    "duration": 16,
    "start_time": "2022-05-13T12:14:26.524Z"
   },
   {
    "duration": 480,
    "start_time": "2022-05-13T18:36:49.491Z"
   },
   {
    "duration": 12,
    "start_time": "2022-05-13T18:36:49.974Z"
   },
   {
    "duration": 16,
    "start_time": "2022-05-13T18:36:49.988Z"
   },
   {
    "duration": 5,
    "start_time": "2022-05-13T18:36:50.007Z"
   },
   {
    "duration": 12,
    "start_time": "2022-05-13T18:36:50.015Z"
   },
   {
    "duration": 9,
    "start_time": "2022-05-13T18:36:50.028Z"
   },
   {
    "duration": 32,
    "start_time": "2022-05-13T18:36:50.038Z"
   },
   {
    "duration": 18,
    "start_time": "2022-05-13T18:36:50.073Z"
   },
   {
    "duration": 8,
    "start_time": "2022-05-13T18:36:50.095Z"
   },
   {
    "duration": 14,
    "start_time": "2022-05-13T18:36:50.105Z"
   },
   {
    "duration": 14,
    "start_time": "2022-05-13T18:36:50.120Z"
   },
   {
    "duration": 34,
    "start_time": "2022-05-13T18:36:50.136Z"
   },
   {
    "duration": 2,
    "start_time": "2022-05-13T18:36:50.172Z"
   },
   {
    "duration": 52,
    "start_time": "2022-05-13T18:36:50.178Z"
   },
   {
    "duration": 9,
    "start_time": "2022-05-13T18:36:50.232Z"
   },
   {
    "duration": 40,
    "start_time": "2022-05-13T18:36:50.243Z"
   },
   {
    "duration": 8,
    "start_time": "2022-05-13T18:36:50.289Z"
   },
   {
    "duration": 8,
    "start_time": "2022-05-13T18:36:50.299Z"
   },
   {
    "duration": 8,
    "start_time": "2022-05-13T18:36:50.308Z"
   },
   {
    "duration": 8,
    "start_time": "2022-05-13T18:36:50.318Z"
   },
   {
    "duration": 45,
    "start_time": "2022-05-13T18:36:50.328Z"
   },
   {
    "duration": 28,
    "start_time": "2022-05-13T18:36:50.374Z"
   },
   {
    "duration": 15,
    "start_time": "2022-05-13T18:36:50.404Z"
   },
   {
    "duration": 19,
    "start_time": "2022-05-13T18:36:50.421Z"
   },
   {
    "duration": 67,
    "start_time": "2022-05-13T18:46:32.634Z"
   },
   {
    "duration": 6,
    "start_time": "2022-05-13T18:47:02.012Z"
   },
   {
    "duration": 73,
    "start_time": "2022-05-13T18:47:05.083Z"
   },
   {
    "duration": 15,
    "start_time": "2022-05-13T18:47:05.158Z"
   },
   {
    "duration": 26,
    "start_time": "2022-05-13T18:47:05.174Z"
   },
   {
    "duration": 6,
    "start_time": "2022-05-13T18:47:05.202Z"
   },
   {
    "duration": 6,
    "start_time": "2022-05-13T18:47:05.210Z"
   },
   {
    "duration": 9,
    "start_time": "2022-05-13T18:47:05.218Z"
   },
   {
    "duration": 6,
    "start_time": "2022-05-13T18:47:05.228Z"
   },
   {
    "duration": 8,
    "start_time": "2022-05-13T18:47:05.235Z"
   },
   {
    "duration": 22,
    "start_time": "2022-05-13T18:47:05.244Z"
   },
   {
    "duration": 40,
    "start_time": "2022-05-13T18:47:05.268Z"
   },
   {
    "duration": 14,
    "start_time": "2022-05-13T18:47:05.310Z"
   },
   {
    "duration": 15,
    "start_time": "2022-05-13T18:47:05.326Z"
   },
   {
    "duration": 3,
    "start_time": "2022-05-13T18:47:05.342Z"
   },
   {
    "duration": 44,
    "start_time": "2022-05-13T18:47:05.347Z"
   },
   {
    "duration": 8,
    "start_time": "2022-05-13T18:47:05.392Z"
   },
   {
    "duration": 16,
    "start_time": "2022-05-13T18:47:05.401Z"
   },
   {
    "duration": 8,
    "start_time": "2022-05-13T18:47:05.418Z"
   },
   {
    "duration": 7,
    "start_time": "2022-05-13T18:47:05.427Z"
   },
   {
    "duration": 32,
    "start_time": "2022-05-13T18:47:05.436Z"
   },
   {
    "duration": 30,
    "start_time": "2022-05-13T18:47:05.469Z"
   },
   {
    "duration": 16,
    "start_time": "2022-05-13T18:47:05.501Z"
   },
   {
    "duration": 10,
    "start_time": "2022-05-13T18:47:05.519Z"
   },
   {
    "duration": 13,
    "start_time": "2022-05-13T18:47:05.531Z"
   },
   {
    "duration": 40,
    "start_time": "2022-05-13T18:47:05.546Z"
   },
   {
    "duration": 18,
    "start_time": "2022-05-13T18:47:05.587Z"
   },
   {
    "duration": 7,
    "start_time": "2022-05-13T18:47:54.854Z"
   },
   {
    "duration": 10,
    "start_time": "2022-05-13T18:48:15.807Z"
   },
   {
    "duration": 10,
    "start_time": "2022-05-13T18:49:16.098Z"
   },
   {
    "duration": 1731,
    "start_time": "2022-05-13T18:49:40.636Z"
   },
   {
    "duration": 75,
    "start_time": "2022-05-13T18:50:02.845Z"
   },
   {
    "duration": 8,
    "start_time": "2022-05-13T18:50:02.922Z"
   },
   {
    "duration": 8,
    "start_time": "2022-05-13T18:50:02.932Z"
   },
   {
    "duration": 5,
    "start_time": "2022-05-13T18:50:02.941Z"
   },
   {
    "duration": 21,
    "start_time": "2022-05-13T18:50:02.948Z"
   },
   {
    "duration": 18,
    "start_time": "2022-05-13T18:50:02.970Z"
   },
   {
    "duration": 5,
    "start_time": "2022-05-13T18:50:02.990Z"
   },
   {
    "duration": 7,
    "start_time": "2022-05-13T18:50:02.997Z"
   },
   {
    "duration": 8,
    "start_time": "2022-05-13T18:50:03.006Z"
   },
   {
    "duration": 14,
    "start_time": "2022-05-13T18:50:03.015Z"
   },
   {
    "duration": 40,
    "start_time": "2022-05-13T18:50:03.030Z"
   },
   {
    "duration": 20,
    "start_time": "2022-05-13T18:50:03.071Z"
   },
   {
    "duration": 3,
    "start_time": "2022-05-13T18:50:03.093Z"
   },
   {
    "duration": 30,
    "start_time": "2022-05-13T18:50:03.098Z"
   },
   {
    "duration": 6,
    "start_time": "2022-05-13T18:50:03.130Z"
   },
   {
    "duration": 20,
    "start_time": "2022-05-13T18:50:03.162Z"
   },
   {
    "duration": 7,
    "start_time": "2022-05-13T18:50:03.184Z"
   },
   {
    "duration": 11,
    "start_time": "2022-05-13T18:50:03.193Z"
   },
   {
    "duration": 9,
    "start_time": "2022-05-13T18:50:03.205Z"
   },
   {
    "duration": 10,
    "start_time": "2022-05-13T18:50:03.216Z"
   },
   {
    "duration": 13,
    "start_time": "2022-05-13T18:50:03.227Z"
   },
   {
    "duration": 29,
    "start_time": "2022-05-13T18:50:03.242Z"
   },
   {
    "duration": 25,
    "start_time": "2022-05-13T18:50:03.273Z"
   },
   {
    "duration": 21,
    "start_time": "2022-05-13T18:50:03.299Z"
   },
   {
    "duration": 2110,
    "start_time": "2022-05-13T18:50:03.322Z"
   },
   {
    "duration": 1331,
    "start_time": "2022-05-13T18:50:36.564Z"
   },
   {
    "duration": 21,
    "start_time": "2022-05-13T18:52:31.712Z"
   },
   {
    "duration": 13,
    "start_time": "2022-05-13T18:53:38.605Z"
   },
   {
    "duration": 11,
    "start_time": "2022-05-13T18:54:42.827Z"
   },
   {
    "duration": 69,
    "start_time": "2022-05-13T18:57:35.914Z"
   },
   {
    "duration": 8,
    "start_time": "2022-05-13T18:57:35.984Z"
   },
   {
    "duration": 12,
    "start_time": "2022-05-13T18:57:35.993Z"
   },
   {
    "duration": 19,
    "start_time": "2022-05-13T18:57:36.006Z"
   },
   {
    "duration": 18,
    "start_time": "2022-05-13T18:57:36.027Z"
   },
   {
    "duration": 34,
    "start_time": "2022-05-13T18:57:36.046Z"
   },
   {
    "duration": 13,
    "start_time": "2022-05-13T18:57:36.082Z"
   },
   {
    "duration": 21,
    "start_time": "2022-05-13T18:57:36.096Z"
   },
   {
    "duration": 18,
    "start_time": "2022-05-13T18:57:36.118Z"
   },
   {
    "duration": 17,
    "start_time": "2022-05-13T18:57:36.138Z"
   },
   {
    "duration": 22,
    "start_time": "2022-05-13T18:57:36.156Z"
   },
   {
    "duration": 19,
    "start_time": "2022-05-13T18:57:36.179Z"
   },
   {
    "duration": 2,
    "start_time": "2022-05-13T18:57:36.199Z"
   },
   {
    "duration": 36,
    "start_time": "2022-05-13T18:57:36.204Z"
   },
   {
    "duration": 28,
    "start_time": "2022-05-13T18:57:36.242Z"
   },
   {
    "duration": 17,
    "start_time": "2022-05-13T18:57:36.272Z"
   },
   {
    "duration": 24,
    "start_time": "2022-05-13T18:57:36.291Z"
   },
   {
    "duration": 24,
    "start_time": "2022-05-13T18:57:36.316Z"
   },
   {
    "duration": 19,
    "start_time": "2022-05-13T18:57:36.342Z"
   },
   {
    "duration": 27,
    "start_time": "2022-05-13T18:57:36.363Z"
   },
   {
    "duration": 35,
    "start_time": "2022-05-13T18:57:36.391Z"
   },
   {
    "duration": 16,
    "start_time": "2022-05-13T18:57:36.427Z"
   },
   {
    "duration": 43,
    "start_time": "2022-05-13T18:57:36.445Z"
   },
   {
    "duration": 20,
    "start_time": "2022-05-13T18:57:36.489Z"
   },
   {
    "duration": 17,
    "start_time": "2022-05-13T19:06:21.584Z"
   },
   {
    "duration": 9,
    "start_time": "2022-05-13T19:07:19.947Z"
   },
   {
    "duration": 19,
    "start_time": "2022-05-13T19:07:26.529Z"
   },
   {
    "duration": 15,
    "start_time": "2022-05-13T19:56:28.138Z"
   },
   {
    "duration": 13,
    "start_time": "2022-05-13T20:01:26.222Z"
   },
   {
    "duration": 13,
    "start_time": "2022-05-13T20:02:12.275Z"
   },
   {
    "duration": 13,
    "start_time": "2022-05-13T20:02:45.550Z"
   },
   {
    "duration": 12,
    "start_time": "2022-05-13T20:22:41.310Z"
   },
   {
    "duration": 6,
    "start_time": "2022-05-13T20:23:05.718Z"
   },
   {
    "duration": 8,
    "start_time": "2022-05-13T20:23:25.453Z"
   },
   {
    "duration": 64,
    "start_time": "2022-05-13T20:23:47.380Z"
   },
   {
    "duration": 8,
    "start_time": "2022-05-13T20:23:47.446Z"
   },
   {
    "duration": 6,
    "start_time": "2022-05-13T20:23:47.456Z"
   },
   {
    "duration": 19,
    "start_time": "2022-05-13T20:23:47.464Z"
   },
   {
    "duration": 8,
    "start_time": "2022-05-13T20:23:47.485Z"
   },
   {
    "duration": 8,
    "start_time": "2022-05-13T20:23:47.494Z"
   },
   {
    "duration": 6,
    "start_time": "2022-05-13T20:23:47.503Z"
   },
   {
    "duration": 7,
    "start_time": "2022-05-13T20:23:47.511Z"
   },
   {
    "duration": 7,
    "start_time": "2022-05-13T20:23:47.519Z"
   },
   {
    "duration": 9,
    "start_time": "2022-05-13T20:23:47.528Z"
   },
   {
    "duration": 46,
    "start_time": "2022-05-13T20:23:47.538Z"
   },
   {
    "duration": 15,
    "start_time": "2022-05-13T20:23:47.586Z"
   },
   {
    "duration": 2,
    "start_time": "2022-05-13T20:23:47.603Z"
   },
   {
    "duration": 32,
    "start_time": "2022-05-13T20:23:47.608Z"
   },
   {
    "duration": 28,
    "start_time": "2022-05-13T20:23:47.642Z"
   },
   {
    "duration": 22,
    "start_time": "2022-05-13T20:23:47.673Z"
   },
   {
    "duration": 10,
    "start_time": "2022-05-13T20:23:47.696Z"
   },
   {
    "duration": 11,
    "start_time": "2022-05-13T20:23:47.708Z"
   },
   {
    "duration": 8,
    "start_time": "2022-05-13T20:23:47.720Z"
   },
   {
    "duration": 10,
    "start_time": "2022-05-13T20:23:47.729Z"
   },
   {
    "duration": 13,
    "start_time": "2022-05-13T20:23:47.741Z"
   },
   {
    "duration": 12,
    "start_time": "2022-05-13T20:23:47.761Z"
   },
   {
    "duration": 17,
    "start_time": "2022-05-13T20:23:47.774Z"
   },
   {
    "duration": 21,
    "start_time": "2022-05-13T20:23:47.792Z"
   },
   {
    "duration": 620,
    "start_time": "2022-05-14T08:26:05.349Z"
   },
   {
    "duration": 14,
    "start_time": "2022-05-14T08:26:05.971Z"
   },
   {
    "duration": 14,
    "start_time": "2022-05-14T08:26:05.987Z"
   },
   {
    "duration": 9,
    "start_time": "2022-05-14T08:26:06.005Z"
   },
   {
    "duration": 39,
    "start_time": "2022-05-14T08:26:06.016Z"
   },
   {
    "duration": 11,
    "start_time": "2022-05-14T08:26:06.058Z"
   },
   {
    "duration": 8,
    "start_time": "2022-05-14T08:26:06.071Z"
   },
   {
    "duration": 16,
    "start_time": "2022-05-14T08:26:06.081Z"
   },
   {
    "duration": 12,
    "start_time": "2022-05-14T08:26:06.100Z"
   },
   {
    "duration": 14,
    "start_time": "2022-05-14T08:26:06.154Z"
   },
   {
    "duration": 24,
    "start_time": "2022-05-14T08:26:06.170Z"
   },
   {
    "duration": 56,
    "start_time": "2022-05-14T08:26:06.196Z"
   },
   {
    "duration": 3,
    "start_time": "2022-05-14T08:26:06.254Z"
   },
   {
    "duration": 55,
    "start_time": "2022-05-14T08:26:06.259Z"
   },
   {
    "duration": 9,
    "start_time": "2022-05-14T08:26:06.316Z"
   },
   {
    "duration": 22,
    "start_time": "2022-05-14T08:26:06.351Z"
   },
   {
    "duration": 12,
    "start_time": "2022-05-14T08:26:06.376Z"
   },
   {
    "duration": 11,
    "start_time": "2022-05-14T08:26:06.391Z"
   },
   {
    "duration": 10,
    "start_time": "2022-05-14T08:26:06.404Z"
   },
   {
    "duration": 40,
    "start_time": "2022-05-14T08:26:06.416Z"
   },
   {
    "duration": 20,
    "start_time": "2022-05-14T08:26:06.458Z"
   },
   {
    "duration": 12,
    "start_time": "2022-05-14T08:26:06.481Z"
   },
   {
    "duration": 59,
    "start_time": "2022-05-14T08:26:06.495Z"
   },
   {
    "duration": 30,
    "start_time": "2022-05-14T08:26:06.556Z"
   },
   {
    "duration": 88,
    "start_time": "2022-05-14T08:32:18.834Z"
   },
   {
    "duration": 11,
    "start_time": "2022-05-14T08:32:18.924Z"
   },
   {
    "duration": 18,
    "start_time": "2022-05-14T08:32:18.937Z"
   },
   {
    "duration": 20,
    "start_time": "2022-05-14T08:32:18.957Z"
   },
   {
    "duration": 14,
    "start_time": "2022-05-14T08:32:18.981Z"
   },
   {
    "duration": 18,
    "start_time": "2022-05-14T08:32:18.997Z"
   },
   {
    "duration": 21,
    "start_time": "2022-05-14T08:32:19.018Z"
   },
   {
    "duration": 18,
    "start_time": "2022-05-14T08:32:19.042Z"
   },
   {
    "duration": 11,
    "start_time": "2022-05-14T08:32:19.062Z"
   },
   {
    "duration": 19,
    "start_time": "2022-05-14T08:32:19.076Z"
   },
   {
    "duration": 25,
    "start_time": "2022-05-14T08:32:19.097Z"
   },
   {
    "duration": 25,
    "start_time": "2022-05-14T08:32:19.152Z"
   },
   {
    "duration": 3,
    "start_time": "2022-05-14T08:32:19.179Z"
   },
   {
    "duration": 73,
    "start_time": "2022-05-14T08:32:19.186Z"
   },
   {
    "duration": 9,
    "start_time": "2022-05-14T08:32:19.261Z"
   },
   {
    "duration": 31,
    "start_time": "2022-05-14T08:32:19.272Z"
   },
   {
    "duration": 10,
    "start_time": "2022-05-14T08:32:19.305Z"
   },
   {
    "duration": 37,
    "start_time": "2022-05-14T08:32:19.317Z"
   },
   {
    "duration": 12,
    "start_time": "2022-05-14T08:32:19.356Z"
   },
   {
    "duration": 13,
    "start_time": "2022-05-14T08:32:19.371Z"
   },
   {
    "duration": 18,
    "start_time": "2022-05-14T08:32:19.387Z"
   },
   {
    "duration": 45,
    "start_time": "2022-05-14T08:32:19.408Z"
   },
   {
    "duration": 23,
    "start_time": "2022-05-14T08:32:19.456Z"
   },
   {
    "duration": 31,
    "start_time": "2022-05-14T08:32:19.482Z"
   },
   {
    "duration": 37,
    "start_time": "2022-05-14T08:32:19.516Z"
   },
   {
    "duration": 11,
    "start_time": "2022-05-14T08:32:52.948Z"
   },
   {
    "duration": 5,
    "start_time": "2022-05-14T08:51:42.577Z"
   },
   {
    "duration": 5,
    "start_time": "2022-05-14T08:52:15.891Z"
   },
   {
    "duration": 5,
    "start_time": "2022-05-14T08:52:41.047Z"
   },
   {
    "duration": 82,
    "start_time": "2022-05-14T08:52:45.189Z"
   },
   {
    "duration": 11,
    "start_time": "2022-05-14T08:52:45.273Z"
   },
   {
    "duration": 12,
    "start_time": "2022-05-14T08:52:45.286Z"
   },
   {
    "duration": 19,
    "start_time": "2022-05-14T08:52:45.300Z"
   },
   {
    "duration": 31,
    "start_time": "2022-05-14T08:52:45.322Z"
   },
   {
    "duration": 18,
    "start_time": "2022-05-14T08:52:45.355Z"
   },
   {
    "duration": 21,
    "start_time": "2022-05-14T08:52:45.375Z"
   },
   {
    "duration": 13,
    "start_time": "2022-05-14T08:52:45.398Z"
   },
   {
    "duration": 10,
    "start_time": "2022-05-14T08:52:45.413Z"
   },
   {
    "duration": 30,
    "start_time": "2022-05-14T08:52:45.425Z"
   },
   {
    "duration": 25,
    "start_time": "2022-05-14T08:52:45.458Z"
   },
   {
    "duration": 26,
    "start_time": "2022-05-14T08:52:45.485Z"
   },
   {
    "duration": 3,
    "start_time": "2022-05-14T08:52:45.514Z"
   },
   {
    "duration": 53,
    "start_time": "2022-05-14T08:52:45.553Z"
   },
   {
    "duration": 11,
    "start_time": "2022-05-14T08:52:45.608Z"
   },
   {
    "duration": 49,
    "start_time": "2022-05-14T08:52:45.622Z"
   },
   {
    "duration": 13,
    "start_time": "2022-05-14T08:52:45.673Z"
   },
   {
    "duration": 17,
    "start_time": "2022-05-14T08:52:45.688Z"
   },
   {
    "duration": 14,
    "start_time": "2022-05-14T08:52:45.708Z"
   },
   {
    "duration": 35,
    "start_time": "2022-05-14T08:52:45.725Z"
   },
   {
    "duration": 23,
    "start_time": "2022-05-14T08:52:45.762Z"
   },
   {
    "duration": 13,
    "start_time": "2022-05-14T08:52:45.788Z"
   },
   {
    "duration": 48,
    "start_time": "2022-05-14T08:52:45.804Z"
   },
   {
    "duration": 32,
    "start_time": "2022-05-14T08:52:45.854Z"
   },
   {
    "duration": 9,
    "start_time": "2022-05-14T08:52:45.888Z"
   },
   {
    "duration": 15,
    "start_time": "2022-05-14T08:52:45.899Z"
   },
   {
    "duration": 19,
    "start_time": "2022-05-14T08:53:15.480Z"
   },
   {
    "duration": 34,
    "start_time": "2022-05-14T09:10:44.336Z"
   },
   {
    "duration": 36,
    "start_time": "2022-05-14T09:14:46.255Z"
   },
   {
    "duration": 40,
    "start_time": "2022-05-14T09:19:47.653Z"
   },
   {
    "duration": 132,
    "start_time": "2022-05-14T09:20:50.885Z"
   },
   {
    "duration": 20,
    "start_time": "2022-05-14T09:20:51.021Z"
   },
   {
    "duration": 12,
    "start_time": "2022-05-14T09:20:51.043Z"
   },
   {
    "duration": 13,
    "start_time": "2022-05-14T09:20:51.057Z"
   },
   {
    "duration": 12,
    "start_time": "2022-05-14T09:20:51.074Z"
   },
   {
    "duration": 14,
    "start_time": "2022-05-14T09:20:51.088Z"
   },
   {
    "duration": 49,
    "start_time": "2022-05-14T09:20:51.104Z"
   },
   {
    "duration": 10,
    "start_time": "2022-05-14T09:20:51.155Z"
   },
   {
    "duration": 11,
    "start_time": "2022-05-14T09:20:51.167Z"
   },
   {
    "duration": 14,
    "start_time": "2022-05-14T09:20:51.180Z"
   },
   {
    "duration": 66,
    "start_time": "2022-05-14T09:20:51.196Z"
   },
   {
    "duration": 25,
    "start_time": "2022-05-14T09:20:51.264Z"
   },
   {
    "duration": 5,
    "start_time": "2022-05-14T09:20:51.291Z"
   },
   {
    "duration": 76,
    "start_time": "2022-05-14T09:20:51.300Z"
   },
   {
    "duration": 9,
    "start_time": "2022-05-14T09:20:51.378Z"
   },
   {
    "duration": 33,
    "start_time": "2022-05-14T09:20:51.389Z"
   },
   {
    "duration": 29,
    "start_time": "2022-05-14T09:20:51.424Z"
   },
   {
    "duration": 14,
    "start_time": "2022-05-14T09:20:51.455Z"
   },
   {
    "duration": 16,
    "start_time": "2022-05-14T09:20:51.471Z"
   },
   {
    "duration": 15,
    "start_time": "2022-05-14T09:20:51.490Z"
   },
   {
    "duration": 19,
    "start_time": "2022-05-14T09:20:51.507Z"
   },
   {
    "duration": 34,
    "start_time": "2022-05-14T09:20:51.528Z"
   },
   {
    "duration": 29,
    "start_time": "2022-05-14T09:20:51.564Z"
   },
   {
    "duration": 72,
    "start_time": "2022-05-14T09:20:51.596Z"
   },
   {
    "duration": 81,
    "start_time": "2022-05-14T09:20:51.672Z"
   },
   {
    "duration": 122,
    "start_time": "2022-05-14T09:27:11.798Z"
   },
   {
    "duration": 492,
    "start_time": "2022-05-14T09:27:22.531Z"
   },
   {
    "duration": 89,
    "start_time": "2022-05-14T09:27:35.812Z"
   },
   {
    "duration": 11,
    "start_time": "2022-05-14T09:27:35.904Z"
   },
   {
    "duration": 31,
    "start_time": "2022-05-14T09:27:35.917Z"
   },
   {
    "duration": 31,
    "start_time": "2022-05-14T09:27:35.951Z"
   },
   {
    "duration": 17,
    "start_time": "2022-05-14T09:27:35.984Z"
   },
   {
    "duration": 19,
    "start_time": "2022-05-14T09:27:36.003Z"
   },
   {
    "duration": 26,
    "start_time": "2022-05-14T09:27:36.024Z"
   },
   {
    "duration": 23,
    "start_time": "2022-05-14T09:27:36.052Z"
   },
   {
    "duration": 48,
    "start_time": "2022-05-14T09:27:36.077Z"
   },
   {
    "duration": 29,
    "start_time": "2022-05-14T09:27:36.129Z"
   },
   {
    "duration": 24,
    "start_time": "2022-05-14T09:27:36.161Z"
   },
   {
    "duration": 26,
    "start_time": "2022-05-14T09:27:36.189Z"
   },
   {
    "duration": 16,
    "start_time": "2022-05-14T09:27:36.218Z"
   },
   {
    "duration": 54,
    "start_time": "2022-05-14T09:27:36.251Z"
   },
   {
    "duration": 9,
    "start_time": "2022-05-14T09:27:36.307Z"
   },
   {
    "duration": 42,
    "start_time": "2022-05-14T09:27:36.318Z"
   },
   {
    "duration": 18,
    "start_time": "2022-05-14T09:27:36.362Z"
   },
   {
    "duration": 34,
    "start_time": "2022-05-14T09:27:36.382Z"
   },
   {
    "duration": 26,
    "start_time": "2022-05-14T09:27:36.418Z"
   },
   {
    "duration": 33,
    "start_time": "2022-05-14T09:27:36.446Z"
   },
   {
    "duration": 37,
    "start_time": "2022-05-14T09:27:36.481Z"
   },
   {
    "duration": 27,
    "start_time": "2022-05-14T09:27:36.520Z"
   },
   {
    "duration": 33,
    "start_time": "2022-05-14T09:27:36.549Z"
   },
   {
    "duration": 41,
    "start_time": "2022-05-14T09:27:36.584Z"
   },
   {
    "duration": 71,
    "start_time": "2022-05-14T09:27:36.627Z"
   },
   {
    "duration": 494,
    "start_time": "2022-05-14T09:27:36.701Z"
   },
   {
    "duration": 19,
    "start_time": "2022-05-14T09:31:37.982Z"
   },
   {
    "duration": 10,
    "start_time": "2022-05-14T09:32:24.596Z"
   },
   {
    "duration": 12,
    "start_time": "2022-05-14T09:33:56.373Z"
   },
   {
    "duration": 585,
    "start_time": "2022-05-14T09:37:09.898Z"
   },
   {
    "duration": 83,
    "start_time": "2022-05-14T09:38:32.568Z"
   },
   {
    "duration": 11,
    "start_time": "2022-05-14T09:38:32.654Z"
   },
   {
    "duration": 8,
    "start_time": "2022-05-14T09:38:32.667Z"
   },
   {
    "duration": 5,
    "start_time": "2022-05-14T09:38:32.678Z"
   },
   {
    "duration": 11,
    "start_time": "2022-05-14T09:38:32.685Z"
   },
   {
    "duration": 57,
    "start_time": "2022-05-14T09:38:32.697Z"
   },
   {
    "duration": 7,
    "start_time": "2022-05-14T09:38:32.756Z"
   },
   {
    "duration": 11,
    "start_time": "2022-05-14T09:38:32.764Z"
   },
   {
    "duration": 15,
    "start_time": "2022-05-14T09:38:32.777Z"
   },
   {
    "duration": 13,
    "start_time": "2022-05-14T09:38:32.796Z"
   },
   {
    "duration": 52,
    "start_time": "2022-05-14T09:38:32.811Z"
   },
   {
    "duration": 27,
    "start_time": "2022-05-14T09:38:32.866Z"
   },
   {
    "duration": 3,
    "start_time": "2022-05-14T09:38:32.895Z"
   },
   {
    "duration": 81,
    "start_time": "2022-05-14T09:38:32.900Z"
   },
   {
    "duration": 10,
    "start_time": "2022-05-14T09:38:32.983Z"
   },
   {
    "duration": 24,
    "start_time": "2022-05-14T09:38:32.995Z"
   },
   {
    "duration": 32,
    "start_time": "2022-05-14T09:38:33.021Z"
   },
   {
    "duration": 15,
    "start_time": "2022-05-14T09:38:33.055Z"
   },
   {
    "duration": 18,
    "start_time": "2022-05-14T09:38:33.073Z"
   },
   {
    "duration": 15,
    "start_time": "2022-05-14T09:38:33.093Z"
   },
   {
    "duration": 42,
    "start_time": "2022-05-14T09:38:33.110Z"
   },
   {
    "duration": 16,
    "start_time": "2022-05-14T09:38:33.154Z"
   },
   {
    "duration": 24,
    "start_time": "2022-05-14T09:38:33.172Z"
   },
   {
    "duration": 65,
    "start_time": "2022-05-14T09:38:33.199Z"
   },
   {
    "duration": 46,
    "start_time": "2022-05-14T09:38:33.266Z"
   },
   {
    "duration": 389,
    "start_time": "2022-05-14T09:38:33.314Z"
   },
   {
    "duration": 10,
    "start_time": "2022-05-14T09:55:33.701Z"
   },
   {
    "duration": 363,
    "start_time": "2022-05-14T09:58:30.611Z"
   },
   {
    "duration": 37,
    "start_time": "2022-05-14T09:58:46.980Z"
   },
   {
    "duration": 898,
    "start_time": "2022-05-14T10:03:50.897Z"
   },
   {
    "duration": 465,
    "start_time": "2022-05-14T10:04:08.267Z"
   },
   {
    "duration": 15,
    "start_time": "2022-05-14T10:04:59.737Z"
   },
   {
    "duration": 80,
    "start_time": "2022-05-14T10:05:16.164Z"
   },
   {
    "duration": 11,
    "start_time": "2022-05-14T10:05:16.253Z"
   },
   {
    "duration": 11,
    "start_time": "2022-05-14T10:05:16.266Z"
   },
   {
    "duration": 6,
    "start_time": "2022-05-14T10:05:16.280Z"
   },
   {
    "duration": 10,
    "start_time": "2022-05-14T10:05:16.288Z"
   },
   {
    "duration": 57,
    "start_time": "2022-05-14T10:05:16.300Z"
   },
   {
    "duration": 8,
    "start_time": "2022-05-14T10:05:16.360Z"
   },
   {
    "duration": 10,
    "start_time": "2022-05-14T10:05:16.371Z"
   },
   {
    "duration": 12,
    "start_time": "2022-05-14T10:05:16.384Z"
   },
   {
    "duration": 62,
    "start_time": "2022-05-14T10:05:16.402Z"
   },
   {
    "duration": 21,
    "start_time": "2022-05-14T10:05:16.466Z"
   },
   {
    "duration": 24,
    "start_time": "2022-05-14T10:05:16.489Z"
   },
   {
    "duration": 38,
    "start_time": "2022-05-14T10:05:16.515Z"
   },
   {
    "duration": 53,
    "start_time": "2022-05-14T10:05:16.556Z"
   },
   {
    "duration": 10,
    "start_time": "2022-05-14T10:05:16.611Z"
   },
   {
    "duration": 31,
    "start_time": "2022-05-14T10:05:16.651Z"
   },
   {
    "duration": 9,
    "start_time": "2022-05-14T10:05:16.684Z"
   },
   {
    "duration": 14,
    "start_time": "2022-05-14T10:05:16.695Z"
   },
   {
    "duration": 11,
    "start_time": "2022-05-14T10:05:16.711Z"
   },
   {
    "duration": 30,
    "start_time": "2022-05-14T10:05:16.725Z"
   },
   {
    "duration": 24,
    "start_time": "2022-05-14T10:05:16.758Z"
   },
   {
    "duration": 14,
    "start_time": "2022-05-14T10:05:16.785Z"
   },
   {
    "duration": 55,
    "start_time": "2022-05-14T10:05:16.801Z"
   },
   {
    "duration": 30,
    "start_time": "2022-05-14T10:05:16.858Z"
   },
   {
    "duration": 71,
    "start_time": "2022-05-14T10:05:16.890Z"
   },
   {
    "duration": 15,
    "start_time": "2022-05-14T10:05:16.963Z"
   },
   {
    "duration": 43,
    "start_time": "2022-05-14T10:07:06.939Z"
   },
   {
    "duration": 4,
    "start_time": "2022-05-14T10:09:45.790Z"
   },
   {
    "duration": 15,
    "start_time": "2022-05-14T10:12:35.405Z"
   },
   {
    "duration": 1736,
    "start_time": "2022-05-14T10:12:57.899Z"
   },
   {
    "duration": 19,
    "start_time": "2022-05-14T10:13:32.488Z"
   },
   {
    "duration": 16,
    "start_time": "2022-05-14T10:14:06.288Z"
   },
   {
    "duration": 43,
    "start_time": "2022-05-14T10:16:39.151Z"
   },
   {
    "duration": 90,
    "start_time": "2022-05-14T10:19:14.212Z"
   },
   {
    "duration": 15,
    "start_time": "2022-05-14T10:19:35.769Z"
   },
   {
    "duration": 102,
    "start_time": "2022-05-14T10:19:45.714Z"
   },
   {
    "duration": 11,
    "start_time": "2022-05-14T10:19:45.819Z"
   },
   {
    "duration": 6,
    "start_time": "2022-05-14T10:19:45.833Z"
   },
   {
    "duration": 7,
    "start_time": "2022-05-14T10:19:45.857Z"
   },
   {
    "duration": 12,
    "start_time": "2022-05-14T10:19:45.868Z"
   },
   {
    "duration": 19,
    "start_time": "2022-05-14T10:19:45.883Z"
   },
   {
    "duration": 8,
    "start_time": "2022-05-14T10:19:45.905Z"
   },
   {
    "duration": 11,
    "start_time": "2022-05-14T10:19:45.958Z"
   },
   {
    "duration": 19,
    "start_time": "2022-05-14T10:19:45.971Z"
   },
   {
    "duration": 16,
    "start_time": "2022-05-14T10:19:45.992Z"
   },
   {
    "duration": 57,
    "start_time": "2022-05-14T10:19:46.010Z"
   },
   {
    "duration": 26,
    "start_time": "2022-05-14T10:19:46.069Z"
   },
   {
    "duration": 3,
    "start_time": "2022-05-14T10:19:46.097Z"
   },
   {
    "duration": 74,
    "start_time": "2022-05-14T10:19:46.104Z"
   },
   {
    "duration": 11,
    "start_time": "2022-05-14T10:19:46.181Z"
   },
   {
    "duration": 60,
    "start_time": "2022-05-14T10:19:46.195Z"
   },
   {
    "duration": 13,
    "start_time": "2022-05-14T10:19:46.258Z"
   },
   {
    "duration": 21,
    "start_time": "2022-05-14T10:19:46.273Z"
   },
   {
    "duration": 17,
    "start_time": "2022-05-14T10:19:46.297Z"
   },
   {
    "duration": 15,
    "start_time": "2022-05-14T10:19:46.316Z"
   },
   {
    "duration": 53,
    "start_time": "2022-05-14T10:19:46.334Z"
   },
   {
    "duration": 16,
    "start_time": "2022-05-14T10:19:46.390Z"
   },
   {
    "duration": 25,
    "start_time": "2022-05-14T10:19:46.409Z"
   },
   {
    "duration": 39,
    "start_time": "2022-05-14T10:19:46.455Z"
   },
   {
    "duration": 78,
    "start_time": "2022-05-14T10:19:46.497Z"
   },
   {
    "duration": 16,
    "start_time": "2022-05-14T10:19:46.578Z"
   },
   {
    "duration": 44,
    "start_time": "2022-05-14T10:20:56.596Z"
   },
   {
    "duration": 89,
    "start_time": "2022-05-14T10:21:16.073Z"
   },
   {
    "duration": 21,
    "start_time": "2022-05-14T10:21:16.165Z"
   },
   {
    "duration": 28,
    "start_time": "2022-05-14T10:21:16.189Z"
   },
   {
    "duration": 22,
    "start_time": "2022-05-14T10:21:16.219Z"
   },
   {
    "duration": 28,
    "start_time": "2022-05-14T10:21:16.244Z"
   },
   {
    "duration": 33,
    "start_time": "2022-05-14T10:21:16.274Z"
   },
   {
    "duration": 17,
    "start_time": "2022-05-14T10:21:16.309Z"
   },
   {
    "duration": 29,
    "start_time": "2022-05-14T10:21:16.328Z"
   },
   {
    "duration": 32,
    "start_time": "2022-05-14T10:21:16.360Z"
   },
   {
    "duration": 15,
    "start_time": "2022-05-14T10:21:16.396Z"
   },
   {
    "duration": 52,
    "start_time": "2022-05-14T10:21:16.413Z"
   },
   {
    "duration": 31,
    "start_time": "2022-05-14T10:21:16.467Z"
   },
   {
    "duration": 3,
    "start_time": "2022-05-14T10:21:16.500Z"
   },
   {
    "duration": 77,
    "start_time": "2022-05-14T10:21:16.506Z"
   },
   {
    "duration": 14,
    "start_time": "2022-05-14T10:21:16.585Z"
   },
   {
    "duration": 29,
    "start_time": "2022-05-14T10:21:16.601Z"
   },
   {
    "duration": 25,
    "start_time": "2022-05-14T10:21:16.632Z"
   },
   {
    "duration": 21,
    "start_time": "2022-05-14T10:21:16.660Z"
   },
   {
    "duration": 22,
    "start_time": "2022-05-14T10:21:16.684Z"
   },
   {
    "duration": 24,
    "start_time": "2022-05-14T10:21:16.708Z"
   },
   {
    "duration": 30,
    "start_time": "2022-05-14T10:21:16.734Z"
   },
   {
    "duration": 22,
    "start_time": "2022-05-14T10:21:16.766Z"
   },
   {
    "duration": 26,
    "start_time": "2022-05-14T10:21:16.790Z"
   },
   {
    "duration": 58,
    "start_time": "2022-05-14T10:21:16.818Z"
   },
   {
    "duration": 121,
    "start_time": "2022-05-14T10:21:16.879Z"
   },
   {
    "duration": 16,
    "start_time": "2022-05-14T10:21:17.002Z"
   },
   {
    "duration": 102,
    "start_time": "2022-05-14T10:22:36.946Z"
   },
   {
    "duration": 24,
    "start_time": "2022-05-14T10:22:37.051Z"
   },
   {
    "duration": 7,
    "start_time": "2022-05-14T10:22:37.077Z"
   },
   {
    "duration": 8,
    "start_time": "2022-05-14T10:22:37.087Z"
   },
   {
    "duration": 11,
    "start_time": "2022-05-14T10:22:37.097Z"
   },
   {
    "duration": 69,
    "start_time": "2022-05-14T10:22:37.110Z"
   },
   {
    "duration": 9,
    "start_time": "2022-05-14T10:22:37.183Z"
   },
   {
    "duration": 11,
    "start_time": "2022-05-14T10:22:37.194Z"
   },
   {
    "duration": 10,
    "start_time": "2022-05-14T10:22:37.207Z"
   },
   {
    "duration": 24,
    "start_time": "2022-05-14T10:22:37.263Z"
   },
   {
    "duration": 31,
    "start_time": "2022-05-14T10:22:37.289Z"
   },
   {
    "duration": 58,
    "start_time": "2022-05-14T10:22:37.322Z"
   },
   {
    "duration": 3,
    "start_time": "2022-05-14T10:22:37.383Z"
   },
   {
    "duration": 80,
    "start_time": "2022-05-14T10:22:37.389Z"
   },
   {
    "duration": 13,
    "start_time": "2022-05-14T10:22:37.472Z"
   },
   {
    "duration": 22,
    "start_time": "2022-05-14T10:22:37.487Z"
   },
   {
    "duration": 25,
    "start_time": "2022-05-14T10:22:37.511Z"
   },
   {
    "duration": 44,
    "start_time": "2022-05-14T10:22:37.556Z"
   },
   {
    "duration": 32,
    "start_time": "2022-05-14T10:22:37.603Z"
   },
   {
    "duration": 39,
    "start_time": "2022-05-14T10:22:37.637Z"
   },
   {
    "duration": 15,
    "start_time": "2022-05-14T10:22:37.679Z"
   },
   {
    "duration": 14,
    "start_time": "2022-05-14T10:22:37.697Z"
   },
   {
    "duration": 41,
    "start_time": "2022-05-14T10:22:37.714Z"
   },
   {
    "duration": 38,
    "start_time": "2022-05-14T10:22:37.758Z"
   },
   {
    "duration": 84,
    "start_time": "2022-05-14T10:22:37.801Z"
   },
   {
    "duration": 20,
    "start_time": "2022-05-14T10:22:37.888Z"
   },
   {
    "duration": 123,
    "start_time": "2022-05-14T10:29:34.430Z"
   },
   {
    "duration": 40,
    "start_time": "2022-05-14T10:29:47.177Z"
   },
   {
    "duration": 86,
    "start_time": "2022-05-14T10:29:57.895Z"
   },
   {
    "duration": 11,
    "start_time": "2022-05-14T10:29:57.983Z"
   },
   {
    "duration": 11,
    "start_time": "2022-05-14T10:29:57.996Z"
   },
   {
    "duration": 9,
    "start_time": "2022-05-14T10:29:58.009Z"
   },
   {
    "duration": 11,
    "start_time": "2022-05-14T10:29:58.051Z"
   },
   {
    "duration": 17,
    "start_time": "2022-05-14T10:29:58.064Z"
   },
   {
    "duration": 7,
    "start_time": "2022-05-14T10:29:58.084Z"
   },
   {
    "duration": 9,
    "start_time": "2022-05-14T10:29:58.093Z"
   },
   {
    "duration": 49,
    "start_time": "2022-05-14T10:29:58.104Z"
   },
   {
    "duration": 13,
    "start_time": "2022-05-14T10:29:58.155Z"
   },
   {
    "duration": 21,
    "start_time": "2022-05-14T10:29:58.171Z"
   },
   {
    "duration": 58,
    "start_time": "2022-05-14T10:29:58.195Z"
   },
   {
    "duration": 3,
    "start_time": "2022-05-14T10:29:58.256Z"
   },
   {
    "duration": 52,
    "start_time": "2022-05-14T10:29:58.263Z"
   },
   {
    "duration": 9,
    "start_time": "2022-05-14T10:29:58.317Z"
   },
   {
    "duration": 50,
    "start_time": "2022-05-14T10:29:58.328Z"
   },
   {
    "duration": 12,
    "start_time": "2022-05-14T10:29:58.381Z"
   },
   {
    "duration": 13,
    "start_time": "2022-05-14T10:29:58.395Z"
   },
   {
    "duration": 43,
    "start_time": "2022-05-14T10:29:58.410Z"
   },
   {
    "duration": 11,
    "start_time": "2022-05-14T10:29:58.456Z"
   },
   {
    "duration": 13,
    "start_time": "2022-05-14T10:29:58.469Z"
   },
   {
    "duration": 13,
    "start_time": "2022-05-14T10:29:58.484Z"
   },
   {
    "duration": 59,
    "start_time": "2022-05-14T10:29:58.500Z"
   },
   {
    "duration": 32,
    "start_time": "2022-05-14T10:29:58.561Z"
   },
   {
    "duration": 81,
    "start_time": "2022-05-14T10:29:58.596Z"
   },
   {
    "duration": 89,
    "start_time": "2022-05-14T10:29:58.679Z"
   },
   {
    "duration": 85,
    "start_time": "2022-05-14T10:30:19.895Z"
   },
   {
    "duration": 12,
    "start_time": "2022-05-14T10:30:19.982Z"
   },
   {
    "duration": 7,
    "start_time": "2022-05-14T10:30:19.996Z"
   },
   {
    "duration": 17,
    "start_time": "2022-05-14T10:30:20.005Z"
   },
   {
    "duration": 34,
    "start_time": "2022-05-14T10:30:20.025Z"
   },
   {
    "duration": 12,
    "start_time": "2022-05-14T10:30:20.061Z"
   },
   {
    "duration": 9,
    "start_time": "2022-05-14T10:30:20.076Z"
   },
   {
    "duration": 10,
    "start_time": "2022-05-14T10:30:20.087Z"
   },
   {
    "duration": 56,
    "start_time": "2022-05-14T10:30:20.100Z"
   },
   {
    "duration": 15,
    "start_time": "2022-05-14T10:30:20.159Z"
   },
   {
    "duration": 28,
    "start_time": "2022-05-14T10:30:20.176Z"
   },
   {
    "duration": 52,
    "start_time": "2022-05-14T10:30:20.207Z"
   },
   {
    "duration": 4,
    "start_time": "2022-05-14T10:30:20.261Z"
   },
   {
    "duration": 55,
    "start_time": "2022-05-14T10:30:20.269Z"
   },
   {
    "duration": 28,
    "start_time": "2022-05-14T10:30:20.326Z"
   },
   {
    "duration": 25,
    "start_time": "2022-05-14T10:30:20.356Z"
   },
   {
    "duration": 9,
    "start_time": "2022-05-14T10:30:20.383Z"
   },
   {
    "duration": 10,
    "start_time": "2022-05-14T10:30:20.395Z"
   },
   {
    "duration": 47,
    "start_time": "2022-05-14T10:30:20.407Z"
   },
   {
    "duration": 14,
    "start_time": "2022-05-14T10:30:20.456Z"
   },
   {
    "duration": 26,
    "start_time": "2022-05-14T10:30:20.472Z"
   },
   {
    "duration": 14,
    "start_time": "2022-05-14T10:30:20.501Z"
   },
   {
    "duration": 55,
    "start_time": "2022-05-14T10:30:20.517Z"
   },
   {
    "duration": 30,
    "start_time": "2022-05-14T10:30:20.574Z"
   },
   {
    "duration": 4,
    "start_time": "2022-05-14T10:30:20.607Z"
   },
   {
    "duration": 96,
    "start_time": "2022-05-14T10:30:20.613Z"
   },
   {
    "duration": 3,
    "start_time": "2022-05-14T10:30:41.041Z"
   },
   {
    "duration": 10,
    "start_time": "2022-05-14T10:31:26.740Z"
   },
   {
    "duration": 109,
    "start_time": "2022-05-14T10:32:04.554Z"
   },
   {
    "duration": 13,
    "start_time": "2022-05-14T10:32:04.666Z"
   },
   {
    "duration": 8,
    "start_time": "2022-05-14T10:32:04.682Z"
   },
   {
    "duration": 6,
    "start_time": "2022-05-14T10:32:04.693Z"
   },
   {
    "duration": 13,
    "start_time": "2022-05-14T10:32:04.703Z"
   },
   {
    "duration": 12,
    "start_time": "2022-05-14T10:32:04.752Z"
   },
   {
    "duration": 10,
    "start_time": "2022-05-14T10:32:04.766Z"
   },
   {
    "duration": 10,
    "start_time": "2022-05-14T10:32:04.778Z"
   },
   {
    "duration": 12,
    "start_time": "2022-05-14T10:32:04.791Z"
   },
   {
    "duration": 55,
    "start_time": "2022-05-14T10:32:04.805Z"
   },
   {
    "duration": 23,
    "start_time": "2022-05-14T10:32:04.863Z"
   },
   {
    "duration": 26,
    "start_time": "2022-05-14T10:32:04.888Z"
   },
   {
    "duration": 35,
    "start_time": "2022-05-14T10:32:04.917Z"
   },
   {
    "duration": 52,
    "start_time": "2022-05-14T10:32:04.958Z"
   },
   {
    "duration": 9,
    "start_time": "2022-05-14T10:32:05.013Z"
   },
   {
    "duration": 21,
    "start_time": "2022-05-14T10:32:05.052Z"
   },
   {
    "duration": 9,
    "start_time": "2022-05-14T10:32:05.076Z"
   },
   {
    "duration": 13,
    "start_time": "2022-05-14T10:32:05.088Z"
   },
   {
    "duration": 13,
    "start_time": "2022-05-14T10:32:05.104Z"
   },
   {
    "duration": 11,
    "start_time": "2022-05-14T10:32:05.152Z"
   },
   {
    "duration": 16,
    "start_time": "2022-05-14T10:32:05.166Z"
   },
   {
    "duration": 14,
    "start_time": "2022-05-14T10:32:05.184Z"
   },
   {
    "duration": 58,
    "start_time": "2022-05-14T10:32:05.200Z"
   },
   {
    "duration": 32,
    "start_time": "2022-05-14T10:32:05.261Z"
   },
   {
    "duration": 4,
    "start_time": "2022-05-14T10:32:05.295Z"
   },
   {
    "duration": 18,
    "start_time": "2022-05-14T10:32:05.301Z"
   },
   {
    "duration": 11,
    "start_time": "2022-05-14T10:49:55.372Z"
   },
   {
    "duration": 84,
    "start_time": "2022-05-14T10:50:06.325Z"
   },
   {
    "duration": 16,
    "start_time": "2022-05-14T10:50:06.412Z"
   },
   {
    "duration": 22,
    "start_time": "2022-05-14T10:50:06.431Z"
   },
   {
    "duration": 5,
    "start_time": "2022-05-14T10:50:06.456Z"
   },
   {
    "duration": 10,
    "start_time": "2022-05-14T10:50:06.465Z"
   },
   {
    "duration": 13,
    "start_time": "2022-05-14T10:50:06.477Z"
   },
   {
    "duration": 8,
    "start_time": "2022-05-14T10:50:06.494Z"
   },
   {
    "duration": 48,
    "start_time": "2022-05-14T10:50:06.505Z"
   },
   {
    "duration": 14,
    "start_time": "2022-05-14T10:50:06.556Z"
   },
   {
    "duration": 14,
    "start_time": "2022-05-14T10:50:06.572Z"
   },
   {
    "duration": 77,
    "start_time": "2022-05-14T10:50:06.589Z"
   },
   {
    "duration": 38,
    "start_time": "2022-05-14T10:50:06.669Z"
   },
   {
    "duration": 3,
    "start_time": "2022-05-14T10:50:06.710Z"
   },
   {
    "duration": 103,
    "start_time": "2022-05-14T10:50:06.720Z"
   },
   {
    "duration": 10,
    "start_time": "2022-05-14T10:50:06.825Z"
   },
   {
    "duration": 28,
    "start_time": "2022-05-14T10:50:06.852Z"
   },
   {
    "duration": 12,
    "start_time": "2022-05-14T10:50:06.883Z"
   },
   {
    "duration": 10,
    "start_time": "2022-05-14T10:50:06.897Z"
   },
   {
    "duration": 48,
    "start_time": "2022-05-14T10:50:06.910Z"
   },
   {
    "duration": 12,
    "start_time": "2022-05-14T10:50:06.961Z"
   },
   {
    "duration": 16,
    "start_time": "2022-05-14T10:50:06.975Z"
   },
   {
    "duration": 12,
    "start_time": "2022-05-14T10:50:06.993Z"
   },
   {
    "duration": 62,
    "start_time": "2022-05-14T10:50:07.007Z"
   },
   {
    "duration": 30,
    "start_time": "2022-05-14T10:50:07.071Z"
   },
   {
    "duration": 3,
    "start_time": "2022-05-14T10:50:07.104Z"
   },
   {
    "duration": 43,
    "start_time": "2022-05-14T10:50:07.110Z"
   },
   {
    "duration": 25,
    "start_time": "2022-05-14T10:50:37.889Z"
   },
   {
    "duration": 83,
    "start_time": "2022-05-14T10:50:42.349Z"
   },
   {
    "duration": 17,
    "start_time": "2022-05-14T10:50:42.451Z"
   },
   {
    "duration": 8,
    "start_time": "2022-05-14T10:50:42.470Z"
   },
   {
    "duration": 14,
    "start_time": "2022-05-14T10:50:42.482Z"
   },
   {
    "duration": 15,
    "start_time": "2022-05-14T10:50:42.499Z"
   },
   {
    "duration": 12,
    "start_time": "2022-05-14T10:50:42.552Z"
   },
   {
    "duration": 7,
    "start_time": "2022-05-14T10:50:42.566Z"
   },
   {
    "duration": 8,
    "start_time": "2022-05-14T10:50:42.575Z"
   },
   {
    "duration": 12,
    "start_time": "2022-05-14T10:50:42.585Z"
   },
   {
    "duration": 58,
    "start_time": "2022-05-14T10:50:42.600Z"
   },
   {
    "duration": 23,
    "start_time": "2022-05-14T10:50:42.660Z"
   },
   {
    "duration": 29,
    "start_time": "2022-05-14T10:50:42.685Z"
   },
   {
    "duration": 4,
    "start_time": "2022-05-14T10:50:42.751Z"
   },
   {
    "duration": 60,
    "start_time": "2022-05-14T10:50:42.757Z"
   },
   {
    "duration": 10,
    "start_time": "2022-05-14T10:50:42.819Z"
   },
   {
    "duration": 25,
    "start_time": "2022-05-14T10:50:42.853Z"
   },
   {
    "duration": 14,
    "start_time": "2022-05-14T10:50:42.880Z"
   },
   {
    "duration": 15,
    "start_time": "2022-05-14T10:50:42.896Z"
   },
   {
    "duration": 15,
    "start_time": "2022-05-14T10:50:42.913Z"
   },
   {
    "duration": 15,
    "start_time": "2022-05-14T10:50:42.953Z"
   },
   {
    "duration": 17,
    "start_time": "2022-05-14T10:50:42.970Z"
   },
   {
    "duration": 13,
    "start_time": "2022-05-14T10:50:42.989Z"
   },
   {
    "duration": 57,
    "start_time": "2022-05-14T10:50:43.004Z"
   },
   {
    "duration": 45,
    "start_time": "2022-05-14T10:50:43.063Z"
   },
   {
    "duration": 5,
    "start_time": "2022-05-14T10:50:43.110Z"
   },
   {
    "duration": 49,
    "start_time": "2022-05-14T10:50:43.117Z"
   },
   {
    "duration": 362,
    "start_time": "2022-05-14T10:51:28.206Z"
   },
   {
    "duration": 12,
    "start_time": "2022-05-14T10:52:36.504Z"
   },
   {
    "duration": 428,
    "start_time": "2022-05-14T10:59:20.507Z"
   },
   {
    "duration": 43,
    "start_time": "2022-05-14T10:59:34.869Z"
   },
   {
    "duration": 71,
    "start_time": "2022-05-14T11:07:50.085Z"
   },
   {
    "duration": 91,
    "start_time": "2022-05-14T11:08:08.340Z"
   },
   {
    "duration": 23,
    "start_time": "2022-05-14T11:08:08.434Z"
   },
   {
    "duration": 17,
    "start_time": "2022-05-14T11:08:08.460Z"
   },
   {
    "duration": 9,
    "start_time": "2022-05-14T11:08:08.479Z"
   },
   {
    "duration": 10,
    "start_time": "2022-05-14T11:08:08.492Z"
   },
   {
    "duration": 60,
    "start_time": "2022-05-14T11:08:08.504Z"
   },
   {
    "duration": 8,
    "start_time": "2022-05-14T11:08:08.567Z"
   },
   {
    "duration": 10,
    "start_time": "2022-05-14T11:08:08.577Z"
   },
   {
    "duration": 10,
    "start_time": "2022-05-14T11:08:08.589Z"
   },
   {
    "duration": 13,
    "start_time": "2022-05-14T11:08:08.601Z"
   },
   {
    "duration": 27,
    "start_time": "2022-05-14T11:08:08.655Z"
   },
   {
    "duration": 26,
    "start_time": "2022-05-14T11:08:08.684Z"
   },
   {
    "duration": 4,
    "start_time": "2022-05-14T11:08:08.712Z"
   },
   {
    "duration": 84,
    "start_time": "2022-05-14T11:08:08.720Z"
   },
   {
    "duration": 9,
    "start_time": "2022-05-14T11:08:08.807Z"
   },
   {
    "duration": 45,
    "start_time": "2022-05-14T11:08:08.819Z"
   },
   {
    "duration": 9,
    "start_time": "2022-05-14T11:08:08.866Z"
   },
   {
    "duration": 12,
    "start_time": "2022-05-14T11:08:08.877Z"
   },
   {
    "duration": 13,
    "start_time": "2022-05-14T11:08:08.891Z"
   },
   {
    "duration": 51,
    "start_time": "2022-05-14T11:08:08.906Z"
   },
   {
    "duration": 23,
    "start_time": "2022-05-14T11:08:08.959Z"
   },
   {
    "duration": 12,
    "start_time": "2022-05-14T11:08:08.984Z"
   },
   {
    "duration": 22,
    "start_time": "2022-05-14T11:08:08.999Z"
   },
   {
    "duration": 62,
    "start_time": "2022-05-14T11:08:09.023Z"
   },
   {
    "duration": 74,
    "start_time": "2022-05-14T11:08:09.088Z"
   },
   {
    "duration": 11,
    "start_time": "2022-05-14T11:08:09.170Z"
   },
   {
    "duration": 58,
    "start_time": "2022-05-14T11:09:00.662Z"
   },
   {
    "duration": 92,
    "start_time": "2022-05-14T11:10:15.099Z"
   },
   {
    "duration": 13,
    "start_time": "2022-05-14T11:10:15.193Z"
   },
   {
    "duration": 7,
    "start_time": "2022-05-14T11:10:15.208Z"
   },
   {
    "duration": 44,
    "start_time": "2022-05-14T11:10:15.218Z"
   },
   {
    "duration": 20,
    "start_time": "2022-05-14T11:10:15.265Z"
   },
   {
    "duration": 17,
    "start_time": "2022-05-14T11:10:15.287Z"
   },
   {
    "duration": 7,
    "start_time": "2022-05-14T11:10:15.307Z"
   },
   {
    "duration": 40,
    "start_time": "2022-05-14T11:10:15.317Z"
   },
   {
    "duration": 14,
    "start_time": "2022-05-14T11:10:15.360Z"
   },
   {
    "duration": 15,
    "start_time": "2022-05-14T11:10:15.378Z"
   },
   {
    "duration": 24,
    "start_time": "2022-05-14T11:10:15.396Z"
   },
   {
    "duration": 26,
    "start_time": "2022-05-14T11:10:15.459Z"
   },
   {
    "duration": 3,
    "start_time": "2022-05-14T11:10:15.487Z"
   },
   {
    "duration": 71,
    "start_time": "2022-05-14T11:10:15.492Z"
   },
   {
    "duration": 10,
    "start_time": "2022-05-14T11:10:15.569Z"
   },
   {
    "duration": 26,
    "start_time": "2022-05-14T11:10:15.581Z"
   },
   {
    "duration": 12,
    "start_time": "2022-05-14T11:10:15.609Z"
   },
   {
    "duration": 36,
    "start_time": "2022-05-14T11:10:15.623Z"
   },
   {
    "duration": 22,
    "start_time": "2022-05-14T11:10:15.661Z"
   },
   {
    "duration": 14,
    "start_time": "2022-05-14T11:10:15.685Z"
   },
   {
    "duration": 15,
    "start_time": "2022-05-14T11:10:15.701Z"
   },
   {
    "duration": 38,
    "start_time": "2022-05-14T11:10:15.718Z"
   },
   {
    "duration": 25,
    "start_time": "2022-05-14T11:10:15.759Z"
   },
   {
    "duration": 31,
    "start_time": "2022-05-14T11:10:15.786Z"
   },
   {
    "duration": 98,
    "start_time": "2022-05-14T11:10:15.819Z"
   },
   {
    "duration": 11,
    "start_time": "2022-05-14T11:10:15.919Z"
   },
   {
    "duration": 121,
    "start_time": "2022-05-14T11:10:41.302Z"
   },
   {
    "duration": 26,
    "start_time": "2022-05-14T11:10:41.427Z"
   },
   {
    "duration": 9,
    "start_time": "2022-05-14T11:10:41.455Z"
   },
   {
    "duration": 14,
    "start_time": "2022-05-14T11:10:41.468Z"
   },
   {
    "duration": 11,
    "start_time": "2022-05-14T11:10:41.485Z"
   },
   {
    "duration": 14,
    "start_time": "2022-05-14T11:10:41.499Z"
   },
   {
    "duration": 10,
    "start_time": "2022-05-14T11:10:41.557Z"
   },
   {
    "duration": 26,
    "start_time": "2022-05-14T11:10:41.570Z"
   },
   {
    "duration": 28,
    "start_time": "2022-05-14T11:10:41.600Z"
   },
   {
    "duration": 21,
    "start_time": "2022-05-14T11:10:41.633Z"
   },
   {
    "duration": 36,
    "start_time": "2022-05-14T11:10:41.656Z"
   },
   {
    "duration": 24,
    "start_time": "2022-05-14T11:10:41.694Z"
   },
   {
    "duration": 3,
    "start_time": "2022-05-14T11:10:41.720Z"
   },
   {
    "duration": 72,
    "start_time": "2022-05-14T11:10:41.725Z"
   },
   {
    "duration": 9,
    "start_time": "2022-05-14T11:10:41.800Z"
   },
   {
    "duration": 57,
    "start_time": "2022-05-14T11:10:41.811Z"
   },
   {
    "duration": 9,
    "start_time": "2022-05-14T11:10:41.871Z"
   },
   {
    "duration": 12,
    "start_time": "2022-05-14T11:10:41.882Z"
   },
   {
    "duration": 10,
    "start_time": "2022-05-14T11:10:41.896Z"
   },
   {
    "duration": 10,
    "start_time": "2022-05-14T11:10:41.908Z"
   },
   {
    "duration": 51,
    "start_time": "2022-05-14T11:10:41.920Z"
   },
   {
    "duration": 13,
    "start_time": "2022-05-14T11:10:41.973Z"
   },
   {
    "duration": 21,
    "start_time": "2022-05-14T11:10:41.988Z"
   },
   {
    "duration": 61,
    "start_time": "2022-05-14T11:10:42.011Z"
   },
   {
    "duration": 86,
    "start_time": "2022-05-14T11:10:42.075Z"
   },
   {
    "duration": 481,
    "start_time": "2022-05-14T11:10:42.163Z"
   },
   {
    "duration": 95,
    "start_time": "2022-05-14T11:11:16.697Z"
   },
   {
    "duration": 13,
    "start_time": "2022-05-14T11:11:16.795Z"
   },
   {
    "duration": 12,
    "start_time": "2022-05-14T11:11:16.810Z"
   },
   {
    "duration": 34,
    "start_time": "2022-05-14T11:11:16.825Z"
   },
   {
    "duration": 29,
    "start_time": "2022-05-14T11:11:16.863Z"
   },
   {
    "duration": 19,
    "start_time": "2022-05-14T11:11:16.894Z"
   },
   {
    "duration": 27,
    "start_time": "2022-05-14T11:11:16.916Z"
   },
   {
    "duration": 35,
    "start_time": "2022-05-14T11:11:16.945Z"
   },
   {
    "duration": 26,
    "start_time": "2022-05-14T11:11:16.982Z"
   },
   {
    "duration": 17,
    "start_time": "2022-05-14T11:11:17.010Z"
   },
   {
    "duration": 36,
    "start_time": "2022-05-14T11:11:17.029Z"
   },
   {
    "duration": 29,
    "start_time": "2022-05-14T11:11:17.067Z"
   },
   {
    "duration": 12,
    "start_time": "2022-05-14T11:11:17.099Z"
   },
   {
    "duration": 74,
    "start_time": "2022-05-14T11:11:17.116Z"
   },
   {
    "duration": 13,
    "start_time": "2022-05-14T11:11:17.193Z"
   },
   {
    "duration": 58,
    "start_time": "2022-05-14T11:11:17.210Z"
   },
   {
    "duration": 17,
    "start_time": "2022-05-14T11:11:17.271Z"
   },
   {
    "duration": 43,
    "start_time": "2022-05-14T11:11:17.291Z"
   },
   {
    "duration": 26,
    "start_time": "2022-05-14T11:11:17.336Z"
   },
   {
    "duration": 27,
    "start_time": "2022-05-14T11:11:17.364Z"
   },
   {
    "duration": 27,
    "start_time": "2022-05-14T11:11:17.393Z"
   },
   {
    "duration": 30,
    "start_time": "2022-05-14T11:11:17.423Z"
   },
   {
    "duration": 28,
    "start_time": "2022-05-14T11:11:17.461Z"
   },
   {
    "duration": 41,
    "start_time": "2022-05-14T11:11:17.491Z"
   },
   {
    "duration": 93,
    "start_time": "2022-05-14T11:11:17.534Z"
   },
   {
    "duration": 12,
    "start_time": "2022-05-14T11:11:17.629Z"
   },
   {
    "duration": 21,
    "start_time": "2022-05-14T11:13:07.359Z"
   },
   {
    "duration": 393,
    "start_time": "2022-05-14T11:13:34.485Z"
   },
   {
    "duration": 15,
    "start_time": "2022-05-14T11:14:20.174Z"
   },
   {
    "duration": 401,
    "start_time": "2022-05-14T11:14:43.461Z"
   },
   {
    "duration": 43,
    "start_time": "2022-05-14T11:17:34.465Z"
   },
   {
    "duration": 962,
    "start_time": "2022-05-14T11:21:33.105Z"
   },
   {
    "duration": 11,
    "start_time": "2022-05-14T11:21:45.720Z"
   },
   {
    "duration": 90,
    "start_time": "2022-05-14T11:22:43.953Z"
   },
   {
    "duration": 169,
    "start_time": "2022-05-14T11:23:06.770Z"
   },
   {
    "duration": 15,
    "start_time": "2022-05-14T11:23:17.095Z"
   },
   {
    "duration": 81,
    "start_time": "2022-05-14T11:23:46.305Z"
   },
   {
    "duration": 12,
    "start_time": "2022-05-14T11:23:46.389Z"
   },
   {
    "duration": 8,
    "start_time": "2022-05-14T11:23:46.403Z"
   },
   {
    "duration": 9,
    "start_time": "2022-05-14T11:23:46.414Z"
   },
   {
    "duration": 12,
    "start_time": "2022-05-14T11:23:46.454Z"
   },
   {
    "duration": 12,
    "start_time": "2022-05-14T11:23:46.469Z"
   },
   {
    "duration": 6,
    "start_time": "2022-05-14T11:23:46.483Z"
   },
   {
    "duration": 10,
    "start_time": "2022-05-14T11:23:46.491Z"
   },
   {
    "duration": 55,
    "start_time": "2022-05-14T11:23:46.503Z"
   },
   {
    "duration": 15,
    "start_time": "2022-05-14T11:23:46.561Z"
   },
   {
    "duration": 23,
    "start_time": "2022-05-14T11:23:46.579Z"
   },
   {
    "duration": 68,
    "start_time": "2022-05-14T11:23:46.605Z"
   },
   {
    "duration": 4,
    "start_time": "2022-05-14T11:23:46.675Z"
   },
   {
    "duration": 75,
    "start_time": "2022-05-14T11:23:46.684Z"
   },
   {
    "duration": 10,
    "start_time": "2022-05-14T11:23:46.762Z"
   },
   {
    "duration": 22,
    "start_time": "2022-05-14T11:23:46.774Z"
   },
   {
    "duration": 8,
    "start_time": "2022-05-14T11:23:46.798Z"
   },
   {
    "duration": 49,
    "start_time": "2022-05-14T11:23:46.809Z"
   },
   {
    "duration": 11,
    "start_time": "2022-05-14T11:23:46.860Z"
   },
   {
    "duration": 13,
    "start_time": "2022-05-14T11:23:46.873Z"
   },
   {
    "duration": 16,
    "start_time": "2022-05-14T11:23:46.888Z"
   },
   {
    "duration": 52,
    "start_time": "2022-05-14T11:23:46.906Z"
   },
   {
    "duration": 21,
    "start_time": "2022-05-14T11:23:46.960Z"
   },
   {
    "duration": 31,
    "start_time": "2022-05-14T11:23:46.983Z"
   },
   {
    "duration": 85,
    "start_time": "2022-05-14T11:23:47.017Z"
   },
   {
    "duration": 20,
    "start_time": "2022-05-14T11:23:47.104Z"
   },
   {
    "duration": 81,
    "start_time": "2022-05-14T11:31:19.691Z"
   },
   {
    "duration": 13,
    "start_time": "2022-05-14T11:31:19.776Z"
   },
   {
    "duration": 15,
    "start_time": "2022-05-14T11:31:19.791Z"
   },
   {
    "duration": 20,
    "start_time": "2022-05-14T11:31:19.808Z"
   },
   {
    "duration": 25,
    "start_time": "2022-05-14T11:31:19.832Z"
   },
   {
    "duration": 14,
    "start_time": "2022-05-14T11:31:19.860Z"
   },
   {
    "duration": 9,
    "start_time": "2022-05-14T11:31:19.876Z"
   },
   {
    "duration": 8,
    "start_time": "2022-05-14T11:31:19.887Z"
   },
   {
    "duration": 56,
    "start_time": "2022-05-14T11:31:19.897Z"
   },
   {
    "duration": 15,
    "start_time": "2022-05-14T11:31:19.956Z"
   },
   {
    "duration": 24,
    "start_time": "2022-05-14T11:31:19.974Z"
   },
   {
    "duration": 62,
    "start_time": "2022-05-14T11:31:20.000Z"
   },
   {
    "duration": 3,
    "start_time": "2022-05-14T11:31:20.065Z"
   },
   {
    "duration": 53,
    "start_time": "2022-05-14T11:31:20.071Z"
   },
   {
    "duration": 30,
    "start_time": "2022-05-14T11:31:20.126Z"
   },
   {
    "duration": 23,
    "start_time": "2022-05-14T11:31:20.159Z"
   },
   {
    "duration": 9,
    "start_time": "2022-05-14T11:31:20.184Z"
   },
   {
    "duration": 11,
    "start_time": "2022-05-14T11:31:20.195Z"
   },
   {
    "duration": 47,
    "start_time": "2022-05-14T11:31:20.208Z"
   },
   {
    "duration": 17,
    "start_time": "2022-05-14T11:31:20.257Z"
   },
   {
    "duration": 18,
    "start_time": "2022-05-14T11:31:20.276Z"
   },
   {
    "duration": 14,
    "start_time": "2022-05-14T11:31:20.296Z"
   },
   {
    "duration": 48,
    "start_time": "2022-05-14T11:31:20.313Z"
   },
   {
    "duration": 34,
    "start_time": "2022-05-14T11:31:20.364Z"
   },
   {
    "duration": 82,
    "start_time": "2022-05-14T11:31:20.401Z"
   },
   {
    "duration": 20,
    "start_time": "2022-05-14T11:31:20.487Z"
   },
   {
    "duration": 7,
    "start_time": "2022-05-14T11:33:14.661Z"
   },
   {
    "duration": 82,
    "start_time": "2022-05-14T11:40:39.041Z"
   },
   {
    "duration": 32,
    "start_time": "2022-05-14T11:40:39.126Z"
   },
   {
    "duration": 6,
    "start_time": "2022-05-14T11:40:39.160Z"
   },
   {
    "duration": 11,
    "start_time": "2022-05-14T11:40:39.168Z"
   },
   {
    "duration": 11,
    "start_time": "2022-05-14T11:40:39.181Z"
   },
   {
    "duration": 16,
    "start_time": "2022-05-14T11:40:39.194Z"
   },
   {
    "duration": 41,
    "start_time": "2022-05-14T11:40:39.212Z"
   },
   {
    "duration": 11,
    "start_time": "2022-05-14T11:40:39.255Z"
   },
   {
    "duration": 11,
    "start_time": "2022-05-14T11:40:39.268Z"
   },
   {
    "duration": 13,
    "start_time": "2022-05-14T11:40:39.282Z"
   },
   {
    "duration": 59,
    "start_time": "2022-05-14T11:40:39.297Z"
   },
   {
    "duration": 25,
    "start_time": "2022-05-14T11:40:39.358Z"
   },
   {
    "duration": 3,
    "start_time": "2022-05-14T11:40:39.385Z"
   },
   {
    "duration": 80,
    "start_time": "2022-05-14T11:40:39.390Z"
   },
   {
    "duration": 9,
    "start_time": "2022-05-14T11:40:39.472Z"
   },
   {
    "duration": 23,
    "start_time": "2022-05-14T11:40:39.484Z"
   },
   {
    "duration": 9,
    "start_time": "2022-05-14T11:40:39.509Z"
   },
   {
    "duration": 10,
    "start_time": "2022-05-14T11:40:39.551Z"
   },
   {
    "duration": 19,
    "start_time": "2022-05-14T11:40:39.563Z"
   },
   {
    "duration": 11,
    "start_time": "2022-05-14T11:40:39.584Z"
   },
   {
    "duration": 17,
    "start_time": "2022-05-14T11:40:39.597Z"
   },
   {
    "duration": 37,
    "start_time": "2022-05-14T11:40:39.617Z"
   },
   {
    "duration": 26,
    "start_time": "2022-05-14T11:40:39.656Z"
   },
   {
    "duration": 30,
    "start_time": "2022-05-14T11:40:39.684Z"
   },
   {
    "duration": 79,
    "start_time": "2022-05-14T11:40:39.716Z"
   },
   {
    "duration": 7,
    "start_time": "2022-05-14T11:40:39.797Z"
   },
   {
    "duration": 23,
    "start_time": "2022-05-14T11:40:39.806Z"
   },
   {
    "duration": 15,
    "start_time": "2022-05-14T11:44:11.761Z"
   },
   {
    "duration": 87,
    "start_time": "2022-05-14T11:49:41.582Z"
   },
   {
    "duration": 13,
    "start_time": "2022-05-14T11:49:41.674Z"
   },
   {
    "duration": 8,
    "start_time": "2022-05-14T11:49:41.689Z"
   },
   {
    "duration": 8,
    "start_time": "2022-05-14T11:49:41.700Z"
   },
   {
    "duration": 48,
    "start_time": "2022-05-14T11:49:41.713Z"
   },
   {
    "duration": 13,
    "start_time": "2022-05-14T11:49:41.763Z"
   },
   {
    "duration": 8,
    "start_time": "2022-05-14T11:49:41.778Z"
   },
   {
    "duration": 8,
    "start_time": "2022-05-14T11:49:41.788Z"
   },
   {
    "duration": 10,
    "start_time": "2022-05-14T11:49:41.798Z"
   },
   {
    "duration": 15,
    "start_time": "2022-05-14T11:49:41.853Z"
   },
   {
    "duration": 20,
    "start_time": "2022-05-14T11:49:41.871Z"
   },
   {
    "duration": 24,
    "start_time": "2022-05-14T11:49:41.893Z"
   },
   {
    "duration": 4,
    "start_time": "2022-05-14T11:49:41.952Z"
   },
   {
    "duration": 51,
    "start_time": "2022-05-14T11:49:41.960Z"
   },
   {
    "duration": 9,
    "start_time": "2022-05-14T11:49:42.013Z"
   },
   {
    "duration": 46,
    "start_time": "2022-05-14T11:49:42.024Z"
   },
   {
    "duration": 11,
    "start_time": "2022-05-14T11:49:42.073Z"
   },
   {
    "duration": 37,
    "start_time": "2022-05-14T11:49:42.086Z"
   },
   {
    "duration": 17,
    "start_time": "2022-05-14T11:49:42.125Z"
   },
   {
    "duration": 14,
    "start_time": "2022-05-14T11:49:42.144Z"
   },
   {
    "duration": 15,
    "start_time": "2022-05-14T11:49:42.160Z"
   },
   {
    "duration": 12,
    "start_time": "2022-05-14T11:49:42.177Z"
   },
   {
    "duration": 22,
    "start_time": "2022-05-14T11:49:42.191Z"
   },
   {
    "duration": 65,
    "start_time": "2022-05-14T11:49:42.216Z"
   },
   {
    "duration": 49,
    "start_time": "2022-05-14T11:49:42.284Z"
   },
   {
    "duration": 10,
    "start_time": "2022-05-14T11:49:42.352Z"
   },
   {
    "duration": 19,
    "start_time": "2022-05-14T11:49:42.365Z"
   },
   {
    "duration": 13,
    "start_time": "2022-05-14T11:50:44.115Z"
   },
   {
    "duration": 10,
    "start_time": "2022-05-14T11:51:03.700Z"
   },
   {
    "duration": 378,
    "start_time": "2022-05-14T12:11:56.173Z"
   },
   {
    "duration": 105,
    "start_time": "2022-05-14T12:12:00.633Z"
   },
   {
    "duration": 23,
    "start_time": "2022-05-14T12:12:00.742Z"
   },
   {
    "duration": 22,
    "start_time": "2022-05-14T12:12:00.768Z"
   },
   {
    "duration": 20,
    "start_time": "2022-05-14T12:12:00.792Z"
   },
   {
    "duration": 12,
    "start_time": "2022-05-14T12:12:00.815Z"
   },
   {
    "duration": 31,
    "start_time": "2022-05-14T12:12:00.829Z"
   },
   {
    "duration": 36,
    "start_time": "2022-05-14T12:12:00.862Z"
   },
   {
    "duration": 13,
    "start_time": "2022-05-14T12:12:00.901Z"
   },
   {
    "duration": 13,
    "start_time": "2022-05-14T12:12:00.918Z"
   },
   {
    "duration": 21,
    "start_time": "2022-05-14T12:12:00.934Z"
   },
   {
    "duration": 47,
    "start_time": "2022-05-14T12:12:00.958Z"
   },
   {
    "duration": 26,
    "start_time": "2022-05-14T12:12:01.007Z"
   },
   {
    "duration": 3,
    "start_time": "2022-05-14T12:12:01.035Z"
   },
   {
    "duration": 61,
    "start_time": "2022-05-14T12:12:01.067Z"
   },
   {
    "duration": 9,
    "start_time": "2022-05-14T12:12:01.131Z"
   },
   {
    "duration": 51,
    "start_time": "2022-05-14T12:12:01.160Z"
   },
   {
    "duration": 10,
    "start_time": "2022-05-14T12:12:01.214Z"
   },
   {
    "duration": 13,
    "start_time": "2022-05-14T12:12:01.227Z"
   },
   {
    "duration": 16,
    "start_time": "2022-05-14T12:12:01.242Z"
   },
   {
    "duration": 44,
    "start_time": "2022-05-14T12:12:01.265Z"
   },
   {
    "duration": 35,
    "start_time": "2022-05-14T12:12:01.312Z"
   },
   {
    "duration": 48,
    "start_time": "2022-05-14T12:12:01.350Z"
   },
   {
    "duration": 43,
    "start_time": "2022-05-14T12:12:01.401Z"
   },
   {
    "duration": 65,
    "start_time": "2022-05-14T12:12:01.447Z"
   },
   {
    "duration": 59,
    "start_time": "2022-05-14T12:12:01.514Z"
   },
   {
    "duration": 22,
    "start_time": "2022-05-14T12:12:01.576Z"
   },
   {
    "duration": 526,
    "start_time": "2022-05-14T12:12:01.601Z"
   },
   {
    "duration": 94,
    "start_time": "2022-05-14T12:13:46.513Z"
   },
   {
    "duration": 484,
    "start_time": "2022-05-14T12:14:26.927Z"
   },
   {
    "duration": 10,
    "start_time": "2022-05-14T12:20:47.843Z"
   },
   {
    "duration": 114,
    "start_time": "2022-05-14T12:20:57.420Z"
   },
   {
    "duration": 11,
    "start_time": "2022-05-14T12:20:57.537Z"
   },
   {
    "duration": 34,
    "start_time": "2022-05-14T12:20:57.550Z"
   },
   {
    "duration": 8,
    "start_time": "2022-05-14T12:20:57.587Z"
   },
   {
    "duration": 10,
    "start_time": "2022-05-14T12:20:57.598Z"
   },
   {
    "duration": 14,
    "start_time": "2022-05-14T12:20:57.611Z"
   },
   {
    "duration": 36,
    "start_time": "2022-05-14T12:20:57.628Z"
   },
   {
    "duration": 26,
    "start_time": "2022-05-14T12:20:57.667Z"
   },
   {
    "duration": 12,
    "start_time": "2022-05-14T12:20:57.695Z"
   },
   {
    "duration": 14,
    "start_time": "2022-05-14T12:20:57.710Z"
   },
   {
    "duration": 58,
    "start_time": "2022-05-14T12:20:57.727Z"
   },
   {
    "duration": 24,
    "start_time": "2022-05-14T12:20:57.788Z"
   },
   {
    "duration": 3,
    "start_time": "2022-05-14T12:20:57.815Z"
   },
   {
    "duration": 85,
    "start_time": "2022-05-14T12:20:57.822Z"
   },
   {
    "duration": 9,
    "start_time": "2022-05-14T12:20:57.910Z"
   },
   {
    "duration": 39,
    "start_time": "2022-05-14T12:20:57.922Z"
   },
   {
    "duration": 13,
    "start_time": "2022-05-14T12:20:57.964Z"
   },
   {
    "duration": 19,
    "start_time": "2022-05-14T12:20:57.982Z"
   },
   {
    "duration": 12,
    "start_time": "2022-05-14T12:20:58.003Z"
   },
   {
    "duration": 35,
    "start_time": "2022-05-14T12:20:58.018Z"
   },
   {
    "duration": 18,
    "start_time": "2022-05-14T12:20:58.060Z"
   },
   {
    "duration": 25,
    "start_time": "2022-05-14T12:20:58.081Z"
   },
   {
    "duration": 20,
    "start_time": "2022-05-14T12:20:58.108Z"
   },
   {
    "duration": 63,
    "start_time": "2022-05-14T12:20:58.152Z"
   },
   {
    "duration": 77,
    "start_time": "2022-05-14T12:20:58.218Z"
   },
   {
    "duration": 11,
    "start_time": "2022-05-14T12:20:58.298Z"
   },
   {
    "duration": 509,
    "start_time": "2022-05-14T12:20:58.311Z"
   },
   {
    "duration": 11,
    "start_time": "2022-05-14T12:21:25.177Z"
   },
   {
    "duration": 47,
    "start_time": "2022-05-14T17:40:34.633Z"
   },
   {
    "duration": 440,
    "start_time": "2022-05-14T17:40:45.984Z"
   },
   {
    "duration": 10,
    "start_time": "2022-05-14T17:40:46.426Z"
   },
   {
    "duration": 6,
    "start_time": "2022-05-14T17:40:46.438Z"
   },
   {
    "duration": 5,
    "start_time": "2022-05-14T17:40:46.447Z"
   },
   {
    "duration": 12,
    "start_time": "2022-05-14T17:40:46.454Z"
   },
   {
    "duration": 9,
    "start_time": "2022-05-14T17:40:46.467Z"
   },
   {
    "duration": 4,
    "start_time": "2022-05-14T17:40:46.478Z"
   },
   {
    "duration": 6,
    "start_time": "2022-05-14T17:40:46.483Z"
   },
   {
    "duration": 7,
    "start_time": "2022-05-14T17:40:46.491Z"
   },
   {
    "duration": 10,
    "start_time": "2022-05-14T17:40:46.542Z"
   },
   {
    "duration": 18,
    "start_time": "2022-05-14T17:40:46.553Z"
   },
   {
    "duration": 16,
    "start_time": "2022-05-14T17:40:46.573Z"
   },
   {
    "duration": 3,
    "start_time": "2022-05-14T17:40:46.590Z"
   },
   {
    "duration": 56,
    "start_time": "2022-05-14T17:40:46.594Z"
   },
   {
    "duration": 7,
    "start_time": "2022-05-14T17:40:46.652Z"
   },
   {
    "duration": 21,
    "start_time": "2022-05-14T17:40:46.660Z"
   },
   {
    "duration": 8,
    "start_time": "2022-05-14T17:40:46.683Z"
   },
   {
    "duration": 8,
    "start_time": "2022-05-14T17:40:46.693Z"
   },
   {
    "duration": 8,
    "start_time": "2022-05-14T17:40:46.703Z"
   },
   {
    "duration": 31,
    "start_time": "2022-05-14T17:40:46.713Z"
   },
   {
    "duration": 12,
    "start_time": "2022-05-14T17:40:46.746Z"
   },
   {
    "duration": 15,
    "start_time": "2022-05-14T17:40:46.760Z"
   },
   {
    "duration": 17,
    "start_time": "2022-05-14T17:40:46.777Z"
   },
   {
    "duration": 48,
    "start_time": "2022-05-14T17:40:46.795Z"
   },
   {
    "duration": 33,
    "start_time": "2022-05-14T17:40:46.845Z"
   },
   {
    "duration": 8,
    "start_time": "2022-05-14T17:40:46.880Z"
   },
   {
    "duration": 590,
    "start_time": "2022-05-14T17:40:46.890Z"
   },
   {
    "duration": 76,
    "start_time": "2022-05-14T17:41:39.959Z"
   },
   {
    "duration": 11,
    "start_time": "2022-05-14T17:41:40.037Z"
   },
   {
    "duration": 9,
    "start_time": "2022-05-14T17:41:40.049Z"
   },
   {
    "duration": 5,
    "start_time": "2022-05-14T17:41:40.060Z"
   },
   {
    "duration": 8,
    "start_time": "2022-05-14T17:41:40.067Z"
   },
   {
    "duration": 9,
    "start_time": "2022-05-14T17:41:40.077Z"
   },
   {
    "duration": 8,
    "start_time": "2022-05-14T17:41:40.088Z"
   },
   {
    "duration": 7,
    "start_time": "2022-05-14T17:41:40.098Z"
   },
   {
    "duration": 41,
    "start_time": "2022-05-14T17:41:40.106Z"
   },
   {
    "duration": 10,
    "start_time": "2022-05-14T17:41:40.148Z"
   },
   {
    "duration": 16,
    "start_time": "2022-05-14T17:41:40.160Z"
   },
   {
    "duration": 17,
    "start_time": "2022-05-14T17:41:40.177Z"
   },
   {
    "duration": 2,
    "start_time": "2022-05-14T17:41:40.195Z"
   },
   {
    "duration": 71,
    "start_time": "2022-05-14T17:41:40.200Z"
   },
   {
    "duration": 7,
    "start_time": "2022-05-14T17:41:40.273Z"
   },
   {
    "duration": 20,
    "start_time": "2022-05-14T17:41:40.281Z"
   },
   {
    "duration": 7,
    "start_time": "2022-05-14T17:41:40.302Z"
   },
   {
    "duration": 7,
    "start_time": "2022-05-14T17:41:40.311Z"
   },
   {
    "duration": 7,
    "start_time": "2022-05-14T17:41:40.344Z"
   },
   {
    "duration": 9,
    "start_time": "2022-05-14T17:41:40.352Z"
   },
   {
    "duration": 12,
    "start_time": "2022-05-14T17:41:40.362Z"
   },
   {
    "duration": 9,
    "start_time": "2022-05-14T17:41:40.376Z"
   },
   {
    "duration": 15,
    "start_time": "2022-05-14T17:41:40.386Z"
   },
   {
    "duration": 54,
    "start_time": "2022-05-14T17:41:40.402Z"
   },
   {
    "duration": 35,
    "start_time": "2022-05-14T17:41:40.458Z"
   },
   {
    "duration": 7,
    "start_time": "2022-05-14T17:41:40.495Z"
   },
   {
    "duration": 132,
    "start_time": "2022-05-14T17:41:40.503Z"
   },
   {
    "duration": 66,
    "start_time": "2022-05-14T17:42:23.623Z"
   },
   {
    "duration": 9,
    "start_time": "2022-05-14T17:42:23.691Z"
   },
   {
    "duration": 8,
    "start_time": "2022-05-14T17:42:23.701Z"
   },
   {
    "duration": 11,
    "start_time": "2022-05-14T17:42:23.711Z"
   },
   {
    "duration": 8,
    "start_time": "2022-05-14T17:42:23.724Z"
   },
   {
    "duration": 10,
    "start_time": "2022-05-14T17:42:23.742Z"
   },
   {
    "duration": 8,
    "start_time": "2022-05-14T17:42:23.753Z"
   },
   {
    "duration": 7,
    "start_time": "2022-05-14T17:42:23.762Z"
   },
   {
    "duration": 9,
    "start_time": "2022-05-14T17:42:23.771Z"
   },
   {
    "duration": 10,
    "start_time": "2022-05-14T17:42:23.782Z"
   },
   {
    "duration": 15,
    "start_time": "2022-05-14T17:42:23.793Z"
   },
   {
    "duration": 48,
    "start_time": "2022-05-14T17:42:23.809Z"
   },
   {
    "duration": 3,
    "start_time": "2022-05-14T17:42:23.858Z"
   },
   {
    "duration": 58,
    "start_time": "2022-05-14T17:42:23.863Z"
   },
   {
    "duration": 7,
    "start_time": "2022-05-14T17:42:23.922Z"
   },
   {
    "duration": 18,
    "start_time": "2022-05-14T17:42:23.930Z"
   },
   {
    "duration": 9,
    "start_time": "2022-05-14T17:42:23.950Z"
   },
   {
    "duration": 12,
    "start_time": "2022-05-14T17:42:23.960Z"
   },
   {
    "duration": 11,
    "start_time": "2022-05-14T17:42:23.973Z"
   },
   {
    "duration": 15,
    "start_time": "2022-05-14T17:42:23.986Z"
   },
   {
    "duration": 27,
    "start_time": "2022-05-14T17:42:24.002Z"
   },
   {
    "duration": 28,
    "start_time": "2022-05-14T17:42:24.031Z"
   },
   {
    "duration": 17,
    "start_time": "2022-05-14T17:42:24.060Z"
   },
   {
    "duration": 19,
    "start_time": "2022-05-14T17:42:24.078Z"
   },
   {
    "duration": 31,
    "start_time": "2022-05-14T17:42:24.099Z"
   },
   {
    "duration": 7,
    "start_time": "2022-05-14T17:42:24.142Z"
   },
   {
    "duration": 9,
    "start_time": "2022-05-14T17:42:24.151Z"
   },
   {
    "duration": 13,
    "start_time": "2022-05-14T17:56:15.661Z"
   },
   {
    "duration": 16,
    "start_time": "2022-05-14T17:56:42.810Z"
   },
   {
    "duration": 9,
    "start_time": "2022-05-14T17:58:25.080Z"
   },
   {
    "duration": 67,
    "start_time": "2022-05-14T17:58:31.624Z"
   },
   {
    "duration": 10,
    "start_time": "2022-05-14T17:58:31.693Z"
   },
   {
    "duration": 19,
    "start_time": "2022-05-14T17:58:31.704Z"
   },
   {
    "duration": 20,
    "start_time": "2022-05-14T17:58:31.725Z"
   },
   {
    "duration": 24,
    "start_time": "2022-05-14T17:58:31.747Z"
   },
   {
    "duration": 17,
    "start_time": "2022-05-14T17:58:31.773Z"
   },
   {
    "duration": 24,
    "start_time": "2022-05-14T17:58:31.791Z"
   },
   {
    "duration": 20,
    "start_time": "2022-05-14T17:58:31.817Z"
   },
   {
    "duration": 29,
    "start_time": "2022-05-14T17:58:31.838Z"
   },
   {
    "duration": 21,
    "start_time": "2022-05-14T17:58:31.869Z"
   },
   {
    "duration": 34,
    "start_time": "2022-05-14T17:58:31.892Z"
   },
   {
    "duration": 20,
    "start_time": "2022-05-14T17:58:31.928Z"
   },
   {
    "duration": 5,
    "start_time": "2022-05-14T17:58:31.950Z"
   },
   {
    "duration": 65,
    "start_time": "2022-05-14T17:58:31.958Z"
   },
   {
    "duration": 9,
    "start_time": "2022-05-14T17:58:32.025Z"
   },
   {
    "duration": 30,
    "start_time": "2022-05-14T17:58:32.035Z"
   },
   {
    "duration": 14,
    "start_time": "2022-05-14T17:58:32.067Z"
   },
   {
    "duration": 24,
    "start_time": "2022-05-14T17:58:32.083Z"
   },
   {
    "duration": 12,
    "start_time": "2022-05-14T17:58:32.109Z"
   },
   {
    "duration": 22,
    "start_time": "2022-05-14T17:58:32.123Z"
   },
   {
    "duration": 20,
    "start_time": "2022-05-14T17:58:32.147Z"
   },
   {
    "duration": 16,
    "start_time": "2022-05-14T17:58:32.169Z"
   },
   {
    "duration": 31,
    "start_time": "2022-05-14T17:58:32.187Z"
   },
   {
    "duration": 20,
    "start_time": "2022-05-14T17:58:32.220Z"
   },
   {
    "duration": 43,
    "start_time": "2022-05-14T17:58:32.241Z"
   },
   {
    "duration": 8,
    "start_time": "2022-05-14T17:58:32.285Z"
   },
   {
    "duration": 18,
    "start_time": "2022-05-14T17:58:32.294Z"
   },
   {
    "duration": 10,
    "start_time": "2022-05-14T17:59:16.759Z"
   },
   {
    "duration": 9,
    "start_time": "2022-05-14T17:59:49.157Z"
   },
   {
    "duration": 9,
    "start_time": "2022-05-14T18:00:17.225Z"
   },
   {
    "duration": 66,
    "start_time": "2022-05-14T18:00:25.934Z"
   },
   {
    "duration": 10,
    "start_time": "2022-05-14T18:00:26.002Z"
   },
   {
    "duration": 32,
    "start_time": "2022-05-14T18:00:26.014Z"
   },
   {
    "duration": 6,
    "start_time": "2022-05-14T18:00:26.049Z"
   },
   {
    "duration": 16,
    "start_time": "2022-05-14T18:00:26.057Z"
   },
   {
    "duration": 16,
    "start_time": "2022-05-14T18:00:26.075Z"
   },
   {
    "duration": 12,
    "start_time": "2022-05-14T18:00:26.093Z"
   },
   {
    "duration": 37,
    "start_time": "2022-05-14T18:00:26.107Z"
   },
   {
    "duration": 9,
    "start_time": "2022-05-14T18:00:26.146Z"
   },
   {
    "duration": 10,
    "start_time": "2022-05-14T18:00:26.158Z"
   },
   {
    "duration": 16,
    "start_time": "2022-05-14T18:00:26.170Z"
   },
   {
    "duration": 18,
    "start_time": "2022-05-14T18:00:26.188Z"
   },
   {
    "duration": 3,
    "start_time": "2022-05-14T18:00:26.242Z"
   },
   {
    "duration": 38,
    "start_time": "2022-05-14T18:00:26.247Z"
   },
   {
    "duration": 7,
    "start_time": "2022-05-14T18:00:26.287Z"
   },
   {
    "duration": 18,
    "start_time": "2022-05-14T18:00:26.296Z"
   },
   {
    "duration": 31,
    "start_time": "2022-05-14T18:00:26.315Z"
   },
   {
    "duration": 15,
    "start_time": "2022-05-14T18:00:26.347Z"
   },
   {
    "duration": 12,
    "start_time": "2022-05-14T18:00:26.364Z"
   },
   {
    "duration": 11,
    "start_time": "2022-05-14T18:00:26.378Z"
   },
   {
    "duration": 13,
    "start_time": "2022-05-14T18:00:26.391Z"
   },
   {
    "duration": 10,
    "start_time": "2022-05-14T18:00:26.405Z"
   },
   {
    "duration": 15,
    "start_time": "2022-05-14T18:00:26.443Z"
   },
   {
    "duration": 22,
    "start_time": "2022-05-14T18:00:26.460Z"
   },
   {
    "duration": 33,
    "start_time": "2022-05-14T18:00:26.484Z"
   },
   {
    "duration": 32,
    "start_time": "2022-05-14T18:00:26.518Z"
   },
   {
    "duration": 0,
    "start_time": "2022-05-14T18:00:26.552Z"
   },
   {
    "duration": 7,
    "start_time": "2022-05-14T18:00:42.960Z"
   },
   {
    "duration": 11,
    "start_time": "2022-05-14T18:04:41.025Z"
   },
   {
    "duration": 65,
    "start_time": "2022-05-14T18:04:57.255Z"
   },
   {
    "duration": 9,
    "start_time": "2022-05-14T18:04:57.322Z"
   },
   {
    "duration": 11,
    "start_time": "2022-05-14T18:04:57.332Z"
   },
   {
    "duration": 5,
    "start_time": "2022-05-14T18:04:57.344Z"
   },
   {
    "duration": 7,
    "start_time": "2022-05-14T18:04:57.351Z"
   },
   {
    "duration": 10,
    "start_time": "2022-05-14T18:04:57.359Z"
   },
   {
    "duration": 6,
    "start_time": "2022-05-14T18:04:57.371Z"
   },
   {
    "duration": 13,
    "start_time": "2022-05-14T18:04:57.378Z"
   },
   {
    "duration": 10,
    "start_time": "2022-05-14T18:04:57.392Z"
   },
   {
    "duration": 12,
    "start_time": "2022-05-14T18:04:57.403Z"
   },
   {
    "duration": 15,
    "start_time": "2022-05-14T18:04:57.444Z"
   },
   {
    "duration": 16,
    "start_time": "2022-05-14T18:04:57.461Z"
   },
   {
    "duration": 2,
    "start_time": "2022-05-14T18:04:57.479Z"
   },
   {
    "duration": 34,
    "start_time": "2022-05-14T18:04:57.483Z"
   },
   {
    "duration": 7,
    "start_time": "2022-05-14T18:04:57.542Z"
   },
   {
    "duration": 20,
    "start_time": "2022-05-14T18:04:57.550Z"
   },
   {
    "duration": 6,
    "start_time": "2022-05-14T18:04:57.572Z"
   },
   {
    "duration": 9,
    "start_time": "2022-05-14T18:04:57.579Z"
   },
   {
    "duration": 8,
    "start_time": "2022-05-14T18:04:57.589Z"
   },
   {
    "duration": 9,
    "start_time": "2022-05-14T18:04:57.599Z"
   },
   {
    "duration": 36,
    "start_time": "2022-05-14T18:04:57.609Z"
   },
   {
    "duration": 9,
    "start_time": "2022-05-14T18:04:57.646Z"
   },
   {
    "duration": 16,
    "start_time": "2022-05-14T18:04:57.656Z"
   },
   {
    "duration": 19,
    "start_time": "2022-05-14T18:04:57.674Z"
   },
   {
    "duration": 53,
    "start_time": "2022-05-14T18:04:57.694Z"
   },
   {
    "duration": 8,
    "start_time": "2022-05-14T18:04:57.748Z"
   },
   {
    "duration": 0,
    "start_time": "2022-05-14T18:04:57.758Z"
   },
   {
    "duration": 36,
    "start_time": "2022-05-14T18:05:59.475Z"
   },
   {
    "duration": 7,
    "start_time": "2022-05-14T18:06:20.645Z"
   },
   {
    "duration": 8,
    "start_time": "2022-05-14T18:11:20.267Z"
   },
   {
    "duration": 381,
    "start_time": "2022-05-14T18:12:22.031Z"
   },
   {
    "duration": 10,
    "start_time": "2022-05-14T18:12:52.088Z"
   },
   {
    "duration": 3,
    "start_time": "2022-05-14T18:13:20.017Z"
   },
   {
    "duration": 66,
    "start_time": "2022-05-14T18:22:17.356Z"
   },
   {
    "duration": 9,
    "start_time": "2022-05-14T18:22:17.424Z"
   },
   {
    "duration": 4,
    "start_time": "2022-05-14T18:22:17.443Z"
   },
   {
    "duration": 21,
    "start_time": "2022-05-14T18:22:17.449Z"
   },
   {
    "duration": 12,
    "start_time": "2022-05-14T18:22:17.471Z"
   },
   {
    "duration": 24,
    "start_time": "2022-05-14T18:22:17.484Z"
   },
   {
    "duration": 11,
    "start_time": "2022-05-14T18:22:17.510Z"
   },
   {
    "duration": 14,
    "start_time": "2022-05-14T18:22:17.522Z"
   },
   {
    "duration": 21,
    "start_time": "2022-05-14T18:22:17.537Z"
   },
   {
    "duration": 9,
    "start_time": "2022-05-14T18:22:17.560Z"
   },
   {
    "duration": 24,
    "start_time": "2022-05-14T18:22:17.571Z"
   },
   {
    "duration": 16,
    "start_time": "2022-05-14T18:22:17.596Z"
   },
   {
    "duration": 2,
    "start_time": "2022-05-14T18:22:17.613Z"
   },
   {
    "duration": 47,
    "start_time": "2022-05-14T18:22:17.616Z"
   },
   {
    "duration": 6,
    "start_time": "2022-05-14T18:22:17.665Z"
   },
   {
    "duration": 30,
    "start_time": "2022-05-14T18:22:17.673Z"
   },
   {
    "duration": 12,
    "start_time": "2022-05-14T18:22:17.704Z"
   },
   {
    "duration": 19,
    "start_time": "2022-05-14T18:22:17.717Z"
   },
   {
    "duration": 20,
    "start_time": "2022-05-14T18:22:17.738Z"
   },
   {
    "duration": 16,
    "start_time": "2022-05-14T18:22:17.760Z"
   },
   {
    "duration": 26,
    "start_time": "2022-05-14T18:22:17.778Z"
   },
   {
    "duration": 13,
    "start_time": "2022-05-14T18:22:17.806Z"
   },
   {
    "duration": 23,
    "start_time": "2022-05-14T18:22:17.820Z"
   },
   {
    "duration": 21,
    "start_time": "2022-05-14T18:22:17.844Z"
   },
   {
    "duration": 36,
    "start_time": "2022-05-14T18:22:17.867Z"
   },
   {
    "duration": 2,
    "start_time": "2022-05-14T18:22:17.905Z"
   },
   {
    "duration": 21,
    "start_time": "2022-05-14T18:22:17.908Z"
   },
   {
    "duration": 7,
    "start_time": "2022-05-14T18:24:00.775Z"
   },
   {
    "duration": 7,
    "start_time": "2022-05-14T18:24:23.735Z"
   },
   {
    "duration": 11,
    "start_time": "2022-05-14T18:24:46.162Z"
   },
   {
    "duration": 9,
    "start_time": "2022-05-14T18:25:15.315Z"
   },
   {
    "duration": 6,
    "start_time": "2022-05-14T18:32:06.628Z"
   },
   {
    "duration": 14,
    "start_time": "2022-05-14T18:33:48.530Z"
   },
   {
    "duration": 68,
    "start_time": "2022-05-14T18:34:04.427Z"
   },
   {
    "duration": 8,
    "start_time": "2022-05-14T18:34:04.497Z"
   },
   {
    "duration": 14,
    "start_time": "2022-05-14T18:34:04.507Z"
   },
   {
    "duration": 20,
    "start_time": "2022-05-14T18:34:04.522Z"
   },
   {
    "duration": 27,
    "start_time": "2022-05-14T18:34:04.544Z"
   },
   {
    "duration": 25,
    "start_time": "2022-05-14T18:34:04.572Z"
   },
   {
    "duration": 22,
    "start_time": "2022-05-14T18:34:04.599Z"
   },
   {
    "duration": 40,
    "start_time": "2022-05-14T18:34:04.622Z"
   },
   {
    "duration": 27,
    "start_time": "2022-05-14T18:34:04.665Z"
   },
   {
    "duration": 25,
    "start_time": "2022-05-14T18:34:04.694Z"
   },
   {
    "duration": 30,
    "start_time": "2022-05-14T18:34:04.721Z"
   },
   {
    "duration": 30,
    "start_time": "2022-05-14T18:34:04.753Z"
   },
   {
    "duration": 10,
    "start_time": "2022-05-14T18:34:04.785Z"
   },
   {
    "duration": 56,
    "start_time": "2022-05-14T18:34:04.798Z"
   },
   {
    "duration": 9,
    "start_time": "2022-05-14T18:34:04.856Z"
   },
   {
    "duration": 29,
    "start_time": "2022-05-14T18:34:04.867Z"
   },
   {
    "duration": 29,
    "start_time": "2022-05-14T18:34:04.898Z"
   },
   {
    "duration": 34,
    "start_time": "2022-05-14T18:34:04.929Z"
   },
   {
    "duration": 27,
    "start_time": "2022-05-14T18:34:04.965Z"
   },
   {
    "duration": 31,
    "start_time": "2022-05-14T18:34:04.993Z"
   },
   {
    "duration": 22,
    "start_time": "2022-05-14T18:34:05.026Z"
   },
   {
    "duration": 14,
    "start_time": "2022-05-14T18:34:05.051Z"
   },
   {
    "duration": 39,
    "start_time": "2022-05-14T18:34:05.067Z"
   },
   {
    "duration": 70,
    "start_time": "2022-05-14T18:34:05.108Z"
   },
   {
    "duration": 68,
    "start_time": "2022-05-14T18:34:05.180Z"
   },
   {
    "duration": 10,
    "start_time": "2022-05-14T18:34:05.250Z"
   },
   {
    "duration": 22,
    "start_time": "2022-05-14T18:34:05.262Z"
   },
   {
    "duration": 40,
    "start_time": "2022-05-14T18:34:05.286Z"
   },
   {
    "duration": 0,
    "start_time": "2022-05-14T18:34:05.328Z"
   },
   {
    "duration": 5,
    "start_time": "2022-05-14T18:34:49.126Z"
   },
   {
    "duration": 5,
    "start_time": "2022-05-14T18:36:32.925Z"
   },
   {
    "duration": 6,
    "start_time": "2022-05-14T18:40:17.622Z"
   },
   {
    "duration": 71,
    "start_time": "2022-05-14T18:47:35.400Z"
   },
   {
    "duration": 8,
    "start_time": "2022-05-14T18:47:35.473Z"
   },
   {
    "duration": 8,
    "start_time": "2022-05-14T18:47:35.482Z"
   },
   {
    "duration": 14,
    "start_time": "2022-05-14T18:47:35.492Z"
   },
   {
    "duration": 7,
    "start_time": "2022-05-14T18:47:35.508Z"
   },
   {
    "duration": 10,
    "start_time": "2022-05-14T18:47:35.517Z"
   },
   {
    "duration": 4,
    "start_time": "2022-05-14T18:47:35.543Z"
   },
   {
    "duration": 7,
    "start_time": "2022-05-14T18:47:35.549Z"
   },
   {
    "duration": 9,
    "start_time": "2022-05-14T18:47:35.557Z"
   },
   {
    "duration": 9,
    "start_time": "2022-05-14T18:47:35.569Z"
   },
   {
    "duration": 15,
    "start_time": "2022-05-14T18:47:35.579Z"
   },
   {
    "duration": 49,
    "start_time": "2022-05-14T18:47:35.595Z"
   },
   {
    "duration": 3,
    "start_time": "2022-05-14T18:47:35.645Z"
   },
   {
    "duration": 33,
    "start_time": "2022-05-14T18:47:35.649Z"
   },
   {
    "duration": 7,
    "start_time": "2022-05-14T18:47:35.684Z"
   },
   {
    "duration": 17,
    "start_time": "2022-05-14T18:47:35.693Z"
   },
   {
    "duration": 31,
    "start_time": "2022-05-14T18:47:35.712Z"
   },
   {
    "duration": 6,
    "start_time": "2022-05-14T18:47:35.745Z"
   },
   {
    "duration": 8,
    "start_time": "2022-05-14T18:47:35.753Z"
   },
   {
    "duration": 8,
    "start_time": "2022-05-14T18:47:35.763Z"
   },
   {
    "duration": 12,
    "start_time": "2022-05-14T18:47:35.772Z"
   },
   {
    "duration": 9,
    "start_time": "2022-05-14T18:47:35.786Z"
   },
   {
    "duration": 49,
    "start_time": "2022-05-14T18:47:35.797Z"
   },
   {
    "duration": 21,
    "start_time": "2022-05-14T18:47:35.847Z"
   },
   {
    "duration": 6,
    "start_time": "2022-05-14T18:47:35.870Z"
   },
   {
    "duration": 7,
    "start_time": "2022-05-14T18:47:35.878Z"
   },
   {
    "duration": 60,
    "start_time": "2022-05-14T18:47:35.886Z"
   },
   {
    "duration": 9,
    "start_time": "2022-05-14T18:47:35.950Z"
   },
   {
    "duration": 9,
    "start_time": "2022-05-14T18:47:35.960Z"
   },
   {
    "duration": 8,
    "start_time": "2022-05-14T18:47:35.970Z"
   },
   {
    "duration": 6,
    "start_time": "2022-05-14T18:47:35.979Z"
   },
   {
    "duration": 562,
    "start_time": "2022-05-14T18:51:01.873Z"
   },
   {
    "duration": 67,
    "start_time": "2022-05-14T18:51:34.066Z"
   },
   {
    "duration": 9,
    "start_time": "2022-05-14T18:51:34.136Z"
   },
   {
    "duration": 5,
    "start_time": "2022-05-14T18:51:34.146Z"
   },
   {
    "duration": 5,
    "start_time": "2022-05-14T18:51:34.153Z"
   },
   {
    "duration": 8,
    "start_time": "2022-05-14T18:51:34.159Z"
   },
   {
    "duration": 10,
    "start_time": "2022-05-14T18:51:34.169Z"
   },
   {
    "duration": 5,
    "start_time": "2022-05-14T18:51:34.180Z"
   },
   {
    "duration": 7,
    "start_time": "2022-05-14T18:51:34.187Z"
   },
   {
    "duration": 49,
    "start_time": "2022-05-14T18:51:34.195Z"
   },
   {
    "duration": 12,
    "start_time": "2022-05-14T18:51:34.247Z"
   },
   {
    "duration": 15,
    "start_time": "2022-05-14T18:51:34.260Z"
   },
   {
    "duration": 17,
    "start_time": "2022-05-14T18:51:34.277Z"
   },
   {
    "duration": 2,
    "start_time": "2022-05-14T18:51:34.296Z"
   },
   {
    "duration": 66,
    "start_time": "2022-05-14T18:51:34.300Z"
   },
   {
    "duration": 7,
    "start_time": "2022-05-14T18:51:34.368Z"
   },
   {
    "duration": 16,
    "start_time": "2022-05-14T18:51:34.376Z"
   },
   {
    "duration": 8,
    "start_time": "2022-05-14T18:51:34.394Z"
   },
   {
    "duration": 9,
    "start_time": "2022-05-14T18:51:34.403Z"
   },
   {
    "duration": 30,
    "start_time": "2022-05-14T18:51:34.414Z"
   },
   {
    "duration": 8,
    "start_time": "2022-05-14T18:51:34.445Z"
   },
   {
    "duration": 13,
    "start_time": "2022-05-14T18:51:34.454Z"
   },
   {
    "duration": 9,
    "start_time": "2022-05-14T18:51:34.469Z"
   },
   {
    "duration": 15,
    "start_time": "2022-05-14T18:51:34.479Z"
   },
   {
    "duration": 53,
    "start_time": "2022-05-14T18:51:34.495Z"
   },
   {
    "duration": 4,
    "start_time": "2022-05-14T18:51:34.550Z"
   },
   {
    "duration": 6,
    "start_time": "2022-05-14T18:51:34.555Z"
   },
   {
    "duration": 545,
    "start_time": "2022-05-14T18:51:34.562Z"
   },
   {
    "duration": 0,
    "start_time": "2022-05-14T18:51:35.109Z"
   },
   {
    "duration": 0,
    "start_time": "2022-05-14T18:51:35.111Z"
   },
   {
    "duration": 0,
    "start_time": "2022-05-14T18:51:35.112Z"
   },
   {
    "duration": 0,
    "start_time": "2022-05-14T18:51:35.113Z"
   },
   {
    "duration": 0,
    "start_time": "2022-05-14T18:51:35.114Z"
   },
   {
    "duration": 9,
    "start_time": "2022-05-14T18:52:25.110Z"
   },
   {
    "duration": 24,
    "start_time": "2022-05-14T18:53:10.157Z"
   },
   {
    "duration": 22,
    "start_time": "2022-05-14T18:54:35.530Z"
   },
   {
    "duration": 20,
    "start_time": "2022-05-14T18:55:18.879Z"
   },
   {
    "duration": 20,
    "start_time": "2022-05-14T18:55:51.900Z"
   },
   {
    "duration": 68,
    "start_time": "2022-05-14T18:56:13.292Z"
   },
   {
    "duration": 9,
    "start_time": "2022-05-14T18:56:13.362Z"
   },
   {
    "duration": 9,
    "start_time": "2022-05-14T18:56:13.373Z"
   },
   {
    "duration": 6,
    "start_time": "2022-05-14T18:56:13.384Z"
   },
   {
    "duration": 9,
    "start_time": "2022-05-14T18:56:13.391Z"
   },
   {
    "duration": 10,
    "start_time": "2022-05-14T18:56:13.401Z"
   },
   {
    "duration": 8,
    "start_time": "2022-05-14T18:56:13.412Z"
   },
   {
    "duration": 27,
    "start_time": "2022-05-14T18:56:13.421Z"
   },
   {
    "duration": 11,
    "start_time": "2022-05-14T18:56:13.450Z"
   },
   {
    "duration": 11,
    "start_time": "2022-05-14T18:56:13.464Z"
   },
   {
    "duration": 16,
    "start_time": "2022-05-14T18:56:13.476Z"
   },
   {
    "duration": 16,
    "start_time": "2022-05-14T18:56:13.494Z"
   },
   {
    "duration": 31,
    "start_time": "2022-05-14T18:56:13.512Z"
   },
   {
    "duration": 36,
    "start_time": "2022-05-14T18:56:13.545Z"
   },
   {
    "duration": 7,
    "start_time": "2022-05-14T18:56:13.582Z"
   },
   {
    "duration": 20,
    "start_time": "2022-05-14T18:56:13.591Z"
   },
   {
    "duration": 31,
    "start_time": "2022-05-14T18:56:13.613Z"
   },
   {
    "duration": 12,
    "start_time": "2022-05-14T18:56:13.646Z"
   },
   {
    "duration": 9,
    "start_time": "2022-05-14T18:56:13.660Z"
   },
   {
    "duration": 9,
    "start_time": "2022-05-14T18:56:13.671Z"
   },
   {
    "duration": 13,
    "start_time": "2022-05-14T18:56:13.682Z"
   },
   {
    "duration": 11,
    "start_time": "2022-05-14T18:56:13.697Z"
   },
   {
    "duration": 17,
    "start_time": "2022-05-14T18:56:13.743Z"
   },
   {
    "duration": 21,
    "start_time": "2022-05-14T18:56:13.762Z"
   },
   {
    "duration": 4,
    "start_time": "2022-05-14T18:56:13.786Z"
   },
   {
    "duration": 8,
    "start_time": "2022-05-14T18:56:13.791Z"
   },
   {
    "duration": 55,
    "start_time": "2022-05-14T18:56:13.800Z"
   },
   {
    "duration": 9,
    "start_time": "2022-05-14T18:56:13.858Z"
   },
   {
    "duration": 6,
    "start_time": "2022-05-14T18:56:13.869Z"
   },
   {
    "duration": 6,
    "start_time": "2022-05-14T18:56:13.877Z"
   },
   {
    "duration": 44,
    "start_time": "2022-05-15T07:43:05.743Z"
   },
   {
    "duration": 463,
    "start_time": "2022-05-15T07:43:13.408Z"
   },
   {
    "duration": 8,
    "start_time": "2022-05-15T07:43:13.873Z"
   },
   {
    "duration": 10,
    "start_time": "2022-05-15T07:43:13.882Z"
   },
   {
    "duration": 6,
    "start_time": "2022-05-15T07:43:13.894Z"
   },
   {
    "duration": 12,
    "start_time": "2022-05-15T07:43:13.902Z"
   },
   {
    "duration": 9,
    "start_time": "2022-05-15T07:43:13.915Z"
   },
   {
    "duration": 5,
    "start_time": "2022-05-15T07:43:13.925Z"
   },
   {
    "duration": 7,
    "start_time": "2022-05-15T07:43:13.931Z"
   },
   {
    "duration": 8,
    "start_time": "2022-05-15T07:43:13.940Z"
   },
   {
    "duration": 40,
    "start_time": "2022-05-15T07:43:13.949Z"
   },
   {
    "duration": 15,
    "start_time": "2022-05-15T07:43:13.990Z"
   },
   {
    "duration": 17,
    "start_time": "2022-05-15T07:43:14.006Z"
   },
   {
    "duration": 3,
    "start_time": "2022-05-15T07:43:14.024Z"
   },
   {
    "duration": 60,
    "start_time": "2022-05-15T07:43:14.029Z"
   },
   {
    "duration": 7,
    "start_time": "2022-05-15T07:43:14.090Z"
   },
   {
    "duration": 23,
    "start_time": "2022-05-15T07:43:14.099Z"
   },
   {
    "duration": 16,
    "start_time": "2022-05-15T07:43:14.124Z"
   },
   {
    "duration": 9,
    "start_time": "2022-05-15T07:43:14.141Z"
   },
   {
    "duration": 12,
    "start_time": "2022-05-15T07:43:14.152Z"
   },
   {
    "duration": 23,
    "start_time": "2022-05-15T07:43:14.166Z"
   },
   {
    "duration": 13,
    "start_time": "2022-05-15T07:43:14.191Z"
   },
   {
    "duration": 11,
    "start_time": "2022-05-15T07:43:14.205Z"
   },
   {
    "duration": 18,
    "start_time": "2022-05-15T07:43:14.218Z"
   },
   {
    "duration": 52,
    "start_time": "2022-05-15T07:43:14.238Z"
   },
   {
    "duration": 5,
    "start_time": "2022-05-15T07:43:14.292Z"
   },
   {
    "duration": 7,
    "start_time": "2022-05-15T07:43:14.299Z"
   },
   {
    "duration": 22,
    "start_time": "2022-05-15T07:43:14.307Z"
   },
   {
    "duration": 9,
    "start_time": "2022-05-15T07:43:14.331Z"
   },
   {
    "duration": 6,
    "start_time": "2022-05-15T07:43:14.342Z"
   },
   {
    "duration": 7,
    "start_time": "2022-05-15T07:43:14.388Z"
   },
   {
    "duration": 38,
    "start_time": "2022-05-15T07:45:38.386Z"
   },
   {
    "duration": 17,
    "start_time": "2022-05-15T07:49:05.763Z"
   },
   {
    "duration": 21,
    "start_time": "2022-05-15T08:01:42.671Z"
   },
   {
    "duration": 70,
    "start_time": "2022-05-15T08:02:00.314Z"
   },
   {
    "duration": 9,
    "start_time": "2022-05-15T08:02:00.386Z"
   },
   {
    "duration": 15,
    "start_time": "2022-05-15T08:02:00.396Z"
   },
   {
    "duration": 17,
    "start_time": "2022-05-15T08:02:00.412Z"
   },
   {
    "duration": 20,
    "start_time": "2022-05-15T08:02:00.432Z"
   },
   {
    "duration": 23,
    "start_time": "2022-05-15T08:02:00.454Z"
   },
   {
    "duration": 32,
    "start_time": "2022-05-15T08:02:00.479Z"
   },
   {
    "duration": 17,
    "start_time": "2022-05-15T08:02:00.512Z"
   },
   {
    "duration": 18,
    "start_time": "2022-05-15T08:02:00.530Z"
   },
   {
    "duration": 12,
    "start_time": "2022-05-15T08:02:00.550Z"
   },
   {
    "duration": 41,
    "start_time": "2022-05-15T08:02:00.564Z"
   },
   {
    "duration": 27,
    "start_time": "2022-05-15T08:02:00.607Z"
   },
   {
    "duration": 32,
    "start_time": "2022-05-15T08:02:00.636Z"
   },
   {
    "duration": 7,
    "start_time": "2022-05-15T08:02:00.670Z"
   },
   {
    "duration": 18,
    "start_time": "2022-05-15T08:02:00.678Z"
   },
   {
    "duration": 10,
    "start_time": "2022-05-15T08:02:00.697Z"
   },
   {
    "duration": 15,
    "start_time": "2022-05-15T08:02:00.708Z"
   },
   {
    "duration": 14,
    "start_time": "2022-05-15T08:02:00.725Z"
   },
   {
    "duration": 17,
    "start_time": "2022-05-15T08:02:00.741Z"
   },
   {
    "duration": 14,
    "start_time": "2022-05-15T08:02:00.759Z"
   },
   {
    "duration": 15,
    "start_time": "2022-05-15T08:02:00.774Z"
   },
   {
    "duration": 20,
    "start_time": "2022-05-15T08:02:00.791Z"
   },
   {
    "duration": 20,
    "start_time": "2022-05-15T08:02:00.813Z"
   },
   {
    "duration": 20,
    "start_time": "2022-05-15T08:02:00.835Z"
   },
   {
    "duration": 3,
    "start_time": "2022-05-15T08:02:00.857Z"
   },
   {
    "duration": 5,
    "start_time": "2022-05-15T08:02:00.889Z"
   },
   {
    "duration": 19,
    "start_time": "2022-05-15T08:02:00.896Z"
   },
   {
    "duration": 10,
    "start_time": "2022-05-15T08:02:00.916Z"
   },
   {
    "duration": 21,
    "start_time": "2022-05-15T08:02:00.928Z"
   },
   {
    "duration": 29,
    "start_time": "2022-05-15T08:13:03.901Z"
   },
   {
    "duration": 68,
    "start_time": "2022-05-15T08:13:20.523Z"
   },
   {
    "duration": 9,
    "start_time": "2022-05-15T08:13:20.594Z"
   },
   {
    "duration": 6,
    "start_time": "2022-05-15T08:13:20.605Z"
   },
   {
    "duration": 6,
    "start_time": "2022-05-15T08:13:20.613Z"
   },
   {
    "duration": 7,
    "start_time": "2022-05-15T08:13:20.621Z"
   },
   {
    "duration": 8,
    "start_time": "2022-05-15T08:13:20.630Z"
   },
   {
    "duration": 8,
    "start_time": "2022-05-15T08:13:20.639Z"
   },
   {
    "duration": 41,
    "start_time": "2022-05-15T08:13:20.648Z"
   },
   {
    "duration": 8,
    "start_time": "2022-05-15T08:13:20.691Z"
   },
   {
    "duration": 9,
    "start_time": "2022-05-15T08:13:20.701Z"
   },
   {
    "duration": 15,
    "start_time": "2022-05-15T08:13:20.711Z"
   },
   {
    "duration": 15,
    "start_time": "2022-05-15T08:13:20.727Z"
   },
   {
    "duration": 64,
    "start_time": "2022-05-15T08:13:20.744Z"
   },
   {
    "duration": 6,
    "start_time": "2022-05-15T08:13:20.812Z"
   },
   {
    "duration": 19,
    "start_time": "2022-05-15T08:13:20.820Z"
   },
   {
    "duration": 8,
    "start_time": "2022-05-15T08:13:20.841Z"
   },
   {
    "duration": 123,
    "start_time": "2022-05-15T08:13:20.851Z"
   },
   {
    "duration": 0,
    "start_time": "2022-05-15T08:13:20.976Z"
   },
   {
    "duration": 0,
    "start_time": "2022-05-15T08:13:20.977Z"
   },
   {
    "duration": 0,
    "start_time": "2022-05-15T08:13:20.978Z"
   },
   {
    "duration": 0,
    "start_time": "2022-05-15T08:13:20.979Z"
   },
   {
    "duration": 0,
    "start_time": "2022-05-15T08:13:20.980Z"
   },
   {
    "duration": 0,
    "start_time": "2022-05-15T08:13:20.980Z"
   },
   {
    "duration": 0,
    "start_time": "2022-05-15T08:13:20.981Z"
   },
   {
    "duration": 0,
    "start_time": "2022-05-15T08:13:20.983Z"
   },
   {
    "duration": 0,
    "start_time": "2022-05-15T08:13:20.983Z"
   },
   {
    "duration": 0,
    "start_time": "2022-05-15T08:13:20.984Z"
   },
   {
    "duration": 0,
    "start_time": "2022-05-15T08:13:20.985Z"
   },
   {
    "duration": 0,
    "start_time": "2022-05-15T08:13:20.986Z"
   },
   {
    "duration": 0,
    "start_time": "2022-05-15T08:13:20.987Z"
   },
   {
    "duration": 0,
    "start_time": "2022-05-15T08:13:20.987Z"
   },
   {
    "duration": 8,
    "start_time": "2022-05-15T08:14:02.027Z"
   },
   {
    "duration": 64,
    "start_time": "2022-05-15T08:14:07.472Z"
   },
   {
    "duration": 10,
    "start_time": "2022-05-15T08:14:07.538Z"
   },
   {
    "duration": 7,
    "start_time": "2022-05-15T08:14:07.550Z"
   },
   {
    "duration": 7,
    "start_time": "2022-05-15T08:14:07.559Z"
   },
   {
    "duration": 28,
    "start_time": "2022-05-15T08:14:07.567Z"
   },
   {
    "duration": 11,
    "start_time": "2022-05-15T08:14:07.596Z"
   },
   {
    "duration": 6,
    "start_time": "2022-05-15T08:14:07.609Z"
   },
   {
    "duration": 9,
    "start_time": "2022-05-15T08:14:07.616Z"
   },
   {
    "duration": 8,
    "start_time": "2022-05-15T08:14:07.626Z"
   },
   {
    "duration": 10,
    "start_time": "2022-05-15T08:14:07.636Z"
   },
   {
    "duration": 50,
    "start_time": "2022-05-15T08:14:07.648Z"
   },
   {
    "duration": 16,
    "start_time": "2022-05-15T08:14:07.700Z"
   },
   {
    "duration": 31,
    "start_time": "2022-05-15T08:14:07.717Z"
   },
   {
    "duration": 7,
    "start_time": "2022-05-15T08:14:07.750Z"
   },
   {
    "duration": 41,
    "start_time": "2022-05-15T08:14:07.758Z"
   },
   {
    "duration": 10,
    "start_time": "2022-05-15T08:14:07.800Z"
   },
   {
    "duration": 13,
    "start_time": "2022-05-15T08:14:07.811Z"
   },
   {
    "duration": 0,
    "start_time": "2022-05-15T08:14:07.826Z"
   },
   {
    "duration": 0,
    "start_time": "2022-05-15T08:14:07.827Z"
   },
   {
    "duration": 0,
    "start_time": "2022-05-15T08:14:07.828Z"
   },
   {
    "duration": 0,
    "start_time": "2022-05-15T08:14:07.829Z"
   },
   {
    "duration": 0,
    "start_time": "2022-05-15T08:14:07.830Z"
   },
   {
    "duration": 0,
    "start_time": "2022-05-15T08:14:07.831Z"
   },
   {
    "duration": 0,
    "start_time": "2022-05-15T08:14:07.832Z"
   },
   {
    "duration": 0,
    "start_time": "2022-05-15T08:14:07.833Z"
   },
   {
    "duration": 0,
    "start_time": "2022-05-15T08:14:07.834Z"
   },
   {
    "duration": 0,
    "start_time": "2022-05-15T08:14:07.835Z"
   },
   {
    "duration": 0,
    "start_time": "2022-05-15T08:14:07.836Z"
   },
   {
    "duration": 0,
    "start_time": "2022-05-15T08:14:07.837Z"
   },
   {
    "duration": 0,
    "start_time": "2022-05-15T08:14:07.838Z"
   },
   {
    "duration": 7,
    "start_time": "2022-05-15T08:20:52.054Z"
   },
   {
    "duration": 70,
    "start_time": "2022-05-15T08:21:13.160Z"
   },
   {
    "duration": 9,
    "start_time": "2022-05-15T08:21:13.232Z"
   },
   {
    "duration": 7,
    "start_time": "2022-05-15T08:21:13.242Z"
   },
   {
    "duration": 6,
    "start_time": "2022-05-15T08:21:13.250Z"
   },
   {
    "duration": 9,
    "start_time": "2022-05-15T08:21:13.258Z"
   },
   {
    "duration": 11,
    "start_time": "2022-05-15T08:21:13.287Z"
   },
   {
    "duration": 9,
    "start_time": "2022-05-15T08:21:13.300Z"
   },
   {
    "duration": 8,
    "start_time": "2022-05-15T08:21:13.311Z"
   },
   {
    "duration": 7,
    "start_time": "2022-05-15T08:21:13.320Z"
   },
   {
    "duration": 9,
    "start_time": "2022-05-15T08:21:13.329Z"
   },
   {
    "duration": 50,
    "start_time": "2022-05-15T08:21:13.339Z"
   },
   {
    "duration": 15,
    "start_time": "2022-05-15T08:21:13.391Z"
   },
   {
    "duration": 28,
    "start_time": "2022-05-15T08:21:13.408Z"
   },
   {
    "duration": 7,
    "start_time": "2022-05-15T08:21:13.439Z"
   },
   {
    "duration": 41,
    "start_time": "2022-05-15T08:21:13.448Z"
   },
   {
    "duration": 12,
    "start_time": "2022-05-15T08:21:13.491Z"
   },
   {
    "duration": 10,
    "start_time": "2022-05-15T08:21:13.505Z"
   },
   {
    "duration": 0,
    "start_time": "2022-05-15T08:21:13.516Z"
   },
   {
    "duration": 0,
    "start_time": "2022-05-15T08:21:13.518Z"
   },
   {
    "duration": 0,
    "start_time": "2022-05-15T08:21:13.519Z"
   },
   {
    "duration": 0,
    "start_time": "2022-05-15T08:21:13.520Z"
   },
   {
    "duration": 0,
    "start_time": "2022-05-15T08:21:13.521Z"
   },
   {
    "duration": 0,
    "start_time": "2022-05-15T08:21:13.522Z"
   },
   {
    "duration": 0,
    "start_time": "2022-05-15T08:21:13.523Z"
   },
   {
    "duration": 0,
    "start_time": "2022-05-15T08:21:13.524Z"
   },
   {
    "duration": 0,
    "start_time": "2022-05-15T08:21:13.525Z"
   },
   {
    "duration": 0,
    "start_time": "2022-05-15T08:21:13.526Z"
   },
   {
    "duration": 1,
    "start_time": "2022-05-15T08:21:13.527Z"
   },
   {
    "duration": 0,
    "start_time": "2022-05-15T08:21:13.529Z"
   },
   {
    "duration": 0,
    "start_time": "2022-05-15T08:21:13.530Z"
   },
   {
    "duration": 0,
    "start_time": "2022-05-15T08:21:13.531Z"
   },
   {
    "duration": 7,
    "start_time": "2022-05-15T08:21:36.982Z"
   },
   {
    "duration": 6,
    "start_time": "2022-05-15T08:22:34.719Z"
   },
   {
    "duration": 6,
    "start_time": "2022-05-15T08:27:24.521Z"
   },
   {
    "duration": 7,
    "start_time": "2022-05-15T08:28:09.758Z"
   },
   {
    "duration": 5,
    "start_time": "2022-05-15T08:33:17.216Z"
   },
   {
    "duration": 9,
    "start_time": "2022-05-15T08:33:35.368Z"
   },
   {
    "duration": 63,
    "start_time": "2022-05-15T08:43:07.426Z"
   },
   {
    "duration": 9,
    "start_time": "2022-05-15T08:43:07.491Z"
   },
   {
    "duration": 5,
    "start_time": "2022-05-15T08:43:07.501Z"
   },
   {
    "duration": 9,
    "start_time": "2022-05-15T08:43:07.508Z"
   },
   {
    "duration": 12,
    "start_time": "2022-05-15T08:43:07.519Z"
   },
   {
    "duration": 8,
    "start_time": "2022-05-15T08:43:07.533Z"
   },
   {
    "duration": 4,
    "start_time": "2022-05-15T08:43:07.543Z"
   },
   {
    "duration": 7,
    "start_time": "2022-05-15T08:43:07.549Z"
   },
   {
    "duration": 37,
    "start_time": "2022-05-15T08:43:07.558Z"
   },
   {
    "duration": 9,
    "start_time": "2022-05-15T08:43:07.598Z"
   },
   {
    "duration": 17,
    "start_time": "2022-05-15T08:43:07.608Z"
   },
   {
    "duration": 15,
    "start_time": "2022-05-15T08:43:07.627Z"
   },
   {
    "duration": 58,
    "start_time": "2022-05-15T08:43:07.643Z"
   },
   {
    "duration": 6,
    "start_time": "2022-05-15T08:43:07.703Z"
   },
   {
    "duration": 18,
    "start_time": "2022-05-15T08:43:07.710Z"
   },
   {
    "duration": 6,
    "start_time": "2022-05-15T08:43:07.729Z"
   },
   {
    "duration": 10,
    "start_time": "2022-05-15T08:43:07.737Z"
   },
   {
    "duration": 9,
    "start_time": "2022-05-15T08:43:07.748Z"
   },
   {
    "duration": 36,
    "start_time": "2022-05-15T08:43:07.759Z"
   },
   {
    "duration": 12,
    "start_time": "2022-05-15T08:43:07.796Z"
   },
   {
    "duration": 13,
    "start_time": "2022-05-15T08:43:07.810Z"
   },
   {
    "duration": 10,
    "start_time": "2022-05-15T08:43:07.824Z"
   },
   {
    "duration": 15,
    "start_time": "2022-05-15T08:43:07.835Z"
   },
   {
    "duration": 45,
    "start_time": "2022-05-15T08:43:07.851Z"
   },
   {
    "duration": 22,
    "start_time": "2022-05-15T08:43:07.898Z"
   },
   {
    "duration": 5,
    "start_time": "2022-05-15T08:43:07.922Z"
   },
   {
    "duration": 6,
    "start_time": "2022-05-15T08:43:07.928Z"
   },
   {
    "duration": 9,
    "start_time": "2022-05-15T08:43:07.938Z"
   },
   {
    "duration": 40,
    "start_time": "2022-05-15T08:43:07.949Z"
   },
   {
    "duration": 8,
    "start_time": "2022-05-15T08:43:07.991Z"
   },
   {
    "duration": 1740,
    "start_time": "2022-05-15T08:49:52.412Z"
   },
   {
    "duration": 63,
    "start_time": "2022-05-15T08:49:59.415Z"
   },
   {
    "duration": 8,
    "start_time": "2022-05-15T08:49:59.480Z"
   },
   {
    "duration": 7,
    "start_time": "2022-05-15T08:49:59.490Z"
   },
   {
    "duration": 10,
    "start_time": "2022-05-15T08:49:59.498Z"
   },
   {
    "duration": 8,
    "start_time": "2022-05-15T08:49:59.510Z"
   },
   {
    "duration": 8,
    "start_time": "2022-05-15T08:49:59.519Z"
   },
   {
    "duration": 5,
    "start_time": "2022-05-15T08:49:59.529Z"
   },
   {
    "duration": 7,
    "start_time": "2022-05-15T08:49:59.535Z"
   },
   {
    "duration": 7,
    "start_time": "2022-05-15T08:49:59.543Z"
   },
   {
    "duration": 10,
    "start_time": "2022-05-15T08:49:59.588Z"
   },
   {
    "duration": 17,
    "start_time": "2022-05-15T08:49:59.600Z"
   },
   {
    "duration": 16,
    "start_time": "2022-05-15T08:49:59.619Z"
   },
   {
    "duration": 62,
    "start_time": "2022-05-15T08:49:59.636Z"
   },
   {
    "duration": 7,
    "start_time": "2022-05-15T08:49:59.700Z"
   },
   {
    "duration": 18,
    "start_time": "2022-05-15T08:49:59.708Z"
   },
   {
    "duration": 12,
    "start_time": "2022-05-15T08:49:59.727Z"
   },
   {
    "duration": 12,
    "start_time": "2022-05-15T08:49:59.740Z"
   },
   {
    "duration": 106,
    "start_time": "2022-05-15T08:49:59.754Z"
   },
   {
    "duration": 0,
    "start_time": "2022-05-15T08:49:59.861Z"
   },
   {
    "duration": 0,
    "start_time": "2022-05-15T08:49:59.863Z"
   },
   {
    "duration": 0,
    "start_time": "2022-05-15T08:49:59.863Z"
   },
   {
    "duration": 0,
    "start_time": "2022-05-15T08:49:59.865Z"
   },
   {
    "duration": 0,
    "start_time": "2022-05-15T08:49:59.866Z"
   },
   {
    "duration": 0,
    "start_time": "2022-05-15T08:49:59.867Z"
   },
   {
    "duration": 0,
    "start_time": "2022-05-15T08:49:59.867Z"
   },
   {
    "duration": 0,
    "start_time": "2022-05-15T08:49:59.869Z"
   },
   {
    "duration": 0,
    "start_time": "2022-05-15T08:49:59.869Z"
   },
   {
    "duration": 0,
    "start_time": "2022-05-15T08:49:59.871Z"
   },
   {
    "duration": 0,
    "start_time": "2022-05-15T08:49:59.872Z"
   },
   {
    "duration": 0,
    "start_time": "2022-05-15T08:49:59.872Z"
   },
   {
    "duration": 0,
    "start_time": "2022-05-15T08:49:59.873Z"
   },
   {
    "duration": 66,
    "start_time": "2022-05-15T08:50:27.428Z"
   },
   {
    "duration": 9,
    "start_time": "2022-05-15T08:50:27.496Z"
   },
   {
    "duration": 7,
    "start_time": "2022-05-15T08:50:27.507Z"
   },
   {
    "duration": 6,
    "start_time": "2022-05-15T08:50:27.516Z"
   },
   {
    "duration": 14,
    "start_time": "2022-05-15T08:50:27.524Z"
   },
   {
    "duration": 10,
    "start_time": "2022-05-15T08:50:27.540Z"
   },
   {
    "duration": 6,
    "start_time": "2022-05-15T08:50:27.551Z"
   },
   {
    "duration": 6,
    "start_time": "2022-05-15T08:50:27.589Z"
   },
   {
    "duration": 12,
    "start_time": "2022-05-15T08:50:27.597Z"
   },
   {
    "duration": 10,
    "start_time": "2022-05-15T08:50:27.612Z"
   },
   {
    "duration": 16,
    "start_time": "2022-05-15T08:50:27.623Z"
   },
   {
    "duration": 48,
    "start_time": "2022-05-15T08:50:27.641Z"
   },
   {
    "duration": 30,
    "start_time": "2022-05-15T08:50:27.691Z"
   },
   {
    "duration": 7,
    "start_time": "2022-05-15T08:50:27.722Z"
   },
   {
    "duration": 22,
    "start_time": "2022-05-15T08:50:27.731Z"
   },
   {
    "duration": 35,
    "start_time": "2022-05-15T08:50:27.755Z"
   },
   {
    "duration": 11,
    "start_time": "2022-05-15T08:50:27.791Z"
   },
   {
    "duration": 8,
    "start_time": "2022-05-15T08:50:27.804Z"
   },
   {
    "duration": 9,
    "start_time": "2022-05-15T08:50:27.813Z"
   },
   {
    "duration": 9,
    "start_time": "2022-05-15T08:50:27.823Z"
   },
   {
    "duration": 13,
    "start_time": "2022-05-15T08:50:27.833Z"
   },
   {
    "duration": 47,
    "start_time": "2022-05-15T08:50:27.847Z"
   },
   {
    "duration": 14,
    "start_time": "2022-05-15T08:50:27.896Z"
   },
   {
    "duration": 21,
    "start_time": "2022-05-15T08:50:27.911Z"
   },
   {
    "duration": 54,
    "start_time": "2022-05-15T08:50:27.934Z"
   },
   {
    "duration": 5,
    "start_time": "2022-05-15T08:50:27.990Z"
   },
   {
    "duration": 9,
    "start_time": "2022-05-15T08:50:27.996Z"
   },
   {
    "duration": 12,
    "start_time": "2022-05-15T08:50:28.008Z"
   },
   {
    "duration": 6,
    "start_time": "2022-05-15T08:50:28.022Z"
   },
   {
    "duration": 5,
    "start_time": "2022-05-15T08:50:28.029Z"
   },
   {
    "duration": 20,
    "start_time": "2022-05-15T08:51:06.525Z"
   },
   {
    "duration": 23,
    "start_time": "2022-05-15T08:52:11.487Z"
   },
   {
    "duration": 24,
    "start_time": "2022-05-15T08:52:54.463Z"
   },
   {
    "duration": 12,
    "start_time": "2022-05-15T08:53:22.084Z"
   },
   {
    "duration": 12,
    "start_time": "2022-05-15T08:54:56.107Z"
   },
   {
    "duration": 5,
    "start_time": "2022-05-15T08:56:44.461Z"
   },
   {
    "duration": 10,
    "start_time": "2022-05-15T09:15:40.404Z"
   },
   {
    "duration": 10,
    "start_time": "2022-05-15T09:16:32.970Z"
   },
   {
    "duration": 12,
    "start_time": "2022-05-15T09:20:59.855Z"
   },
   {
    "duration": 8,
    "start_time": "2022-05-15T09:21:44.134Z"
   },
   {
    "duration": 7,
    "start_time": "2022-05-15T09:22:07.447Z"
   },
   {
    "duration": 11,
    "start_time": "2022-05-15T09:22:23.183Z"
   },
   {
    "duration": 6,
    "start_time": "2022-05-15T09:23:12.266Z"
   },
   {
    "duration": 10,
    "start_time": "2022-05-15T09:32:33.162Z"
   },
   {
    "duration": 69,
    "start_time": "2022-05-15T09:32:42.789Z"
   },
   {
    "duration": 9,
    "start_time": "2022-05-15T09:32:42.859Z"
   },
   {
    "duration": 20,
    "start_time": "2022-05-15T09:32:42.869Z"
   },
   {
    "duration": 4,
    "start_time": "2022-05-15T09:32:42.890Z"
   },
   {
    "duration": 16,
    "start_time": "2022-05-15T09:32:42.896Z"
   },
   {
    "duration": 9,
    "start_time": "2022-05-15T09:32:42.913Z"
   },
   {
    "duration": 8,
    "start_time": "2022-05-15T09:32:42.923Z"
   },
   {
    "duration": 8,
    "start_time": "2022-05-15T09:32:42.932Z"
   },
   {
    "duration": 8,
    "start_time": "2022-05-15T09:32:42.941Z"
   },
   {
    "duration": 38,
    "start_time": "2022-05-15T09:32:42.951Z"
   },
   {
    "duration": 19,
    "start_time": "2022-05-15T09:32:42.991Z"
   },
   {
    "duration": 21,
    "start_time": "2022-05-15T09:32:43.012Z"
   },
   {
    "duration": 57,
    "start_time": "2022-05-15T09:32:43.035Z"
   },
   {
    "duration": 7,
    "start_time": "2022-05-15T09:32:43.096Z"
   },
   {
    "duration": 19,
    "start_time": "2022-05-15T09:32:43.105Z"
   },
   {
    "duration": 12,
    "start_time": "2022-05-15T09:32:43.126Z"
   },
   {
    "duration": 13,
    "start_time": "2022-05-15T09:32:43.139Z"
   },
   {
    "duration": 6,
    "start_time": "2022-05-15T09:32:43.153Z"
   },
   {
    "duration": 73,
    "start_time": "2022-05-15T09:32:43.160Z"
   },
   {
    "duration": 103,
    "start_time": "2022-05-15T09:32:43.234Z"
   },
   {
    "duration": 0,
    "start_time": "2022-05-15T09:32:43.339Z"
   },
   {
    "duration": 0,
    "start_time": "2022-05-15T09:32:43.340Z"
   },
   {
    "duration": 0,
    "start_time": "2022-05-15T09:32:43.342Z"
   },
   {
    "duration": 0,
    "start_time": "2022-05-15T09:32:43.343Z"
   },
   {
    "duration": 0,
    "start_time": "2022-05-15T09:32:43.345Z"
   },
   {
    "duration": 0,
    "start_time": "2022-05-15T09:32:43.346Z"
   },
   {
    "duration": 0,
    "start_time": "2022-05-15T09:32:43.348Z"
   },
   {
    "duration": 0,
    "start_time": "2022-05-15T09:32:43.349Z"
   },
   {
    "duration": 0,
    "start_time": "2022-05-15T09:32:43.350Z"
   },
   {
    "duration": 0,
    "start_time": "2022-05-15T09:32:43.351Z"
   },
   {
    "duration": 0,
    "start_time": "2022-05-15T09:32:43.352Z"
   },
   {
    "duration": 0,
    "start_time": "2022-05-15T09:32:43.353Z"
   },
   {
    "duration": 11,
    "start_time": "2022-05-15T09:45:29.914Z"
   },
   {
    "duration": 10,
    "start_time": "2022-05-15T09:45:41.069Z"
   },
   {
    "duration": 111,
    "start_time": "2022-05-15T09:47:56.110Z"
   },
   {
    "duration": 12,
    "start_time": "2022-05-15T09:51:04.025Z"
   },
   {
    "duration": 7,
    "start_time": "2022-05-15T09:51:50.965Z"
   },
   {
    "duration": 8,
    "start_time": "2022-05-15T09:51:57.770Z"
   },
   {
    "duration": 8,
    "start_time": "2022-05-15T09:52:09.180Z"
   },
   {
    "duration": 7,
    "start_time": "2022-05-15T09:52:58.873Z"
   },
   {
    "duration": 12,
    "start_time": "2022-05-15T09:53:38.900Z"
   },
   {
    "duration": 8,
    "start_time": "2022-05-15T09:59:58.527Z"
   },
   {
    "duration": 10,
    "start_time": "2022-05-15T10:00:13.382Z"
   },
   {
    "duration": 63,
    "start_time": "2022-05-15T10:00:20.610Z"
   },
   {
    "duration": 9,
    "start_time": "2022-05-15T10:00:20.675Z"
   },
   {
    "duration": 5,
    "start_time": "2022-05-15T10:00:20.685Z"
   },
   {
    "duration": 6,
    "start_time": "2022-05-15T10:00:20.692Z"
   },
   {
    "duration": 9,
    "start_time": "2022-05-15T10:00:20.700Z"
   },
   {
    "duration": 8,
    "start_time": "2022-05-15T10:00:20.711Z"
   },
   {
    "duration": 13,
    "start_time": "2022-05-15T10:00:20.720Z"
   },
   {
    "duration": 19,
    "start_time": "2022-05-15T10:00:20.735Z"
   },
   {
    "duration": 15,
    "start_time": "2022-05-15T10:00:20.756Z"
   },
   {
    "duration": 18,
    "start_time": "2022-05-15T10:00:20.773Z"
   },
   {
    "duration": 15,
    "start_time": "2022-05-15T10:00:20.792Z"
   },
   {
    "duration": 16,
    "start_time": "2022-05-15T10:00:20.808Z"
   },
   {
    "duration": 31,
    "start_time": "2022-05-15T10:00:20.826Z"
   },
   {
    "duration": 7,
    "start_time": "2022-05-15T10:00:20.888Z"
   },
   {
    "duration": 18,
    "start_time": "2022-05-15T10:00:20.897Z"
   },
   {
    "duration": 9,
    "start_time": "2022-05-15T10:00:20.916Z"
   },
   {
    "duration": 12,
    "start_time": "2022-05-15T10:00:20.927Z"
   },
   {
    "duration": 6,
    "start_time": "2022-05-15T10:00:20.940Z"
   },
   {
    "duration": 108,
    "start_time": "2022-05-15T10:00:20.947Z"
   },
   {
    "duration": 0,
    "start_time": "2022-05-15T10:00:21.057Z"
   },
   {
    "duration": 0,
    "start_time": "2022-05-15T10:00:21.058Z"
   },
   {
    "duration": 0,
    "start_time": "2022-05-15T10:00:21.059Z"
   },
   {
    "duration": 0,
    "start_time": "2022-05-15T10:00:21.060Z"
   },
   {
    "duration": 0,
    "start_time": "2022-05-15T10:00:21.061Z"
   },
   {
    "duration": 0,
    "start_time": "2022-05-15T10:00:21.062Z"
   },
   {
    "duration": 0,
    "start_time": "2022-05-15T10:00:21.063Z"
   },
   {
    "duration": 0,
    "start_time": "2022-05-15T10:00:21.064Z"
   },
   {
    "duration": 0,
    "start_time": "2022-05-15T10:00:21.065Z"
   },
   {
    "duration": 0,
    "start_time": "2022-05-15T10:00:21.066Z"
   },
   {
    "duration": 0,
    "start_time": "2022-05-15T10:00:21.067Z"
   },
   {
    "duration": 0,
    "start_time": "2022-05-15T10:00:21.068Z"
   },
   {
    "duration": 0,
    "start_time": "2022-05-15T10:00:21.069Z"
   },
   {
    "duration": 64,
    "start_time": "2022-05-15T10:00:33.734Z"
   },
   {
    "duration": 10,
    "start_time": "2022-05-15T10:00:33.800Z"
   },
   {
    "duration": 9,
    "start_time": "2022-05-15T10:00:33.812Z"
   },
   {
    "duration": 16,
    "start_time": "2022-05-15T10:00:33.823Z"
   },
   {
    "duration": 10,
    "start_time": "2022-05-15T10:00:33.841Z"
   },
   {
    "duration": 14,
    "start_time": "2022-05-15T10:00:33.852Z"
   },
   {
    "duration": 21,
    "start_time": "2022-05-15T10:00:33.868Z"
   },
   {
    "duration": 13,
    "start_time": "2022-05-15T10:00:33.891Z"
   },
   {
    "duration": 15,
    "start_time": "2022-05-15T10:00:33.906Z"
   },
   {
    "duration": 14,
    "start_time": "2022-05-15T10:00:33.923Z"
   },
   {
    "duration": 17,
    "start_time": "2022-05-15T10:00:33.939Z"
   },
   {
    "duration": 33,
    "start_time": "2022-05-15T10:00:33.959Z"
   },
   {
    "duration": 33,
    "start_time": "2022-05-15T10:00:33.993Z"
   },
   {
    "duration": 7,
    "start_time": "2022-05-15T10:00:34.029Z"
   },
   {
    "duration": 21,
    "start_time": "2022-05-15T10:00:34.038Z"
   },
   {
    "duration": 33,
    "start_time": "2022-05-15T10:00:34.060Z"
   },
   {
    "duration": 19,
    "start_time": "2022-05-15T10:00:34.094Z"
   },
   {
    "duration": 7,
    "start_time": "2022-05-15T10:00:34.115Z"
   },
   {
    "duration": 109,
    "start_time": "2022-05-15T10:00:34.124Z"
   },
   {
    "duration": 0,
    "start_time": "2022-05-15T10:00:34.234Z"
   },
   {
    "duration": 0,
    "start_time": "2022-05-15T10:00:34.236Z"
   },
   {
    "duration": 0,
    "start_time": "2022-05-15T10:00:34.237Z"
   },
   {
    "duration": 0,
    "start_time": "2022-05-15T10:00:34.238Z"
   },
   {
    "duration": 0,
    "start_time": "2022-05-15T10:00:34.239Z"
   },
   {
    "duration": 0,
    "start_time": "2022-05-15T10:00:34.239Z"
   },
   {
    "duration": 0,
    "start_time": "2022-05-15T10:00:34.240Z"
   },
   {
    "duration": 0,
    "start_time": "2022-05-15T10:00:34.241Z"
   },
   {
    "duration": 0,
    "start_time": "2022-05-15T10:00:34.242Z"
   },
   {
    "duration": 0,
    "start_time": "2022-05-15T10:00:34.243Z"
   },
   {
    "duration": 0,
    "start_time": "2022-05-15T10:00:34.244Z"
   },
   {
    "duration": 0,
    "start_time": "2022-05-15T10:00:34.245Z"
   },
   {
    "duration": 0,
    "start_time": "2022-05-15T10:00:34.246Z"
   },
   {
    "duration": 6,
    "start_time": "2022-05-15T10:00:47.512Z"
   },
   {
    "duration": 10,
    "start_time": "2022-05-15T10:00:53.260Z"
   },
   {
    "duration": 10,
    "start_time": "2022-05-15T10:01:16.507Z"
   },
   {
    "duration": 6,
    "start_time": "2022-05-15T10:01:18.593Z"
   },
   {
    "duration": 77,
    "start_time": "2022-05-15T10:01:27.108Z"
   },
   {
    "duration": 10,
    "start_time": "2022-05-15T10:01:27.187Z"
   },
   {
    "duration": 6,
    "start_time": "2022-05-15T10:01:27.199Z"
   },
   {
    "duration": 6,
    "start_time": "2022-05-15T10:01:27.207Z"
   },
   {
    "duration": 37,
    "start_time": "2022-05-15T10:01:27.215Z"
   },
   {
    "duration": 10,
    "start_time": "2022-05-15T10:01:27.253Z"
   },
   {
    "duration": 5,
    "start_time": "2022-05-15T10:01:27.265Z"
   },
   {
    "duration": 17,
    "start_time": "2022-05-15T10:01:27.272Z"
   },
   {
    "duration": 9,
    "start_time": "2022-05-15T10:01:27.291Z"
   },
   {
    "duration": 11,
    "start_time": "2022-05-15T10:01:27.303Z"
   },
   {
    "duration": 14,
    "start_time": "2022-05-15T10:01:27.316Z"
   },
   {
    "duration": 17,
    "start_time": "2022-05-15T10:01:27.332Z"
   },
   {
    "duration": 66,
    "start_time": "2022-05-15T10:01:27.351Z"
   },
   {
    "duration": 6,
    "start_time": "2022-05-15T10:01:27.419Z"
   },
   {
    "duration": 37,
    "start_time": "2022-05-15T10:01:27.426Z"
   },
   {
    "duration": 12,
    "start_time": "2022-05-15T10:01:27.465Z"
   },
   {
    "duration": 15,
    "start_time": "2022-05-15T10:01:27.479Z"
   },
   {
    "duration": 11,
    "start_time": "2022-05-15T10:01:27.496Z"
   },
   {
    "duration": 123,
    "start_time": "2022-05-15T10:01:27.508Z"
   },
   {
    "duration": 0,
    "start_time": "2022-05-15T10:01:27.632Z"
   },
   {
    "duration": 0,
    "start_time": "2022-05-15T10:01:27.634Z"
   },
   {
    "duration": 0,
    "start_time": "2022-05-15T10:01:27.635Z"
   },
   {
    "duration": 0,
    "start_time": "2022-05-15T10:01:27.636Z"
   },
   {
    "duration": 0,
    "start_time": "2022-05-15T10:01:27.637Z"
   },
   {
    "duration": 0,
    "start_time": "2022-05-15T10:01:27.638Z"
   },
   {
    "duration": 0,
    "start_time": "2022-05-15T10:01:27.639Z"
   },
   {
    "duration": 0,
    "start_time": "2022-05-15T10:01:27.640Z"
   },
   {
    "duration": 0,
    "start_time": "2022-05-15T10:01:27.641Z"
   },
   {
    "duration": 0,
    "start_time": "2022-05-15T10:01:27.643Z"
   },
   {
    "duration": 0,
    "start_time": "2022-05-15T10:01:27.644Z"
   },
   {
    "duration": 0,
    "start_time": "2022-05-15T10:01:27.644Z"
   },
   {
    "duration": 0,
    "start_time": "2022-05-15T10:01:27.645Z"
   },
   {
    "duration": 9,
    "start_time": "2022-05-15T10:01:40.168Z"
   },
   {
    "duration": 6,
    "start_time": "2022-05-15T10:01:51.074Z"
   },
   {
    "duration": 10,
    "start_time": "2022-05-15T10:04:00.576Z"
   },
   {
    "duration": 25,
    "start_time": "2022-05-15T10:04:18.005Z"
   },
   {
    "duration": 8,
    "start_time": "2022-05-15T10:04:28.973Z"
   },
   {
    "duration": 7,
    "start_time": "2022-05-15T10:05:03.436Z"
   },
   {
    "duration": 14,
    "start_time": "2022-05-15T10:06:01.991Z"
   },
   {
    "duration": 11,
    "start_time": "2022-05-15T10:06:18.328Z"
   },
   {
    "duration": 67,
    "start_time": "2022-05-15T10:06:27.959Z"
   },
   {
    "duration": 9,
    "start_time": "2022-05-15T10:06:28.028Z"
   },
   {
    "duration": 16,
    "start_time": "2022-05-15T10:06:28.038Z"
   },
   {
    "duration": 11,
    "start_time": "2022-05-15T10:06:28.056Z"
   },
   {
    "duration": 13,
    "start_time": "2022-05-15T10:06:28.070Z"
   },
   {
    "duration": 10,
    "start_time": "2022-05-15T10:06:28.088Z"
   },
   {
    "duration": 5,
    "start_time": "2022-05-15T10:06:28.099Z"
   },
   {
    "duration": 10,
    "start_time": "2022-05-15T10:06:28.105Z"
   },
   {
    "duration": 9,
    "start_time": "2022-05-15T10:06:28.116Z"
   },
   {
    "duration": 15,
    "start_time": "2022-05-15T10:06:28.127Z"
   },
   {
    "duration": 45,
    "start_time": "2022-05-15T10:06:28.144Z"
   },
   {
    "duration": 18,
    "start_time": "2022-05-15T10:06:28.190Z"
   },
   {
    "duration": 35,
    "start_time": "2022-05-15T10:06:28.210Z"
   },
   {
    "duration": 7,
    "start_time": "2022-05-15T10:06:28.247Z"
   },
   {
    "duration": 43,
    "start_time": "2022-05-15T10:06:28.256Z"
   },
   {
    "duration": 10,
    "start_time": "2022-05-15T10:06:28.300Z"
   },
   {
    "duration": 11,
    "start_time": "2022-05-15T10:06:28.311Z"
   },
   {
    "duration": 6,
    "start_time": "2022-05-15T10:06:28.324Z"
   },
   {
    "duration": 9,
    "start_time": "2022-05-15T10:06:28.332Z"
   },
   {
    "duration": 6,
    "start_time": "2022-05-15T10:06:28.343Z"
   },
   {
    "duration": 8,
    "start_time": "2022-05-15T10:06:28.350Z"
   },
   {
    "duration": 30,
    "start_time": "2022-05-15T10:06:28.359Z"
   },
   {
    "duration": 11,
    "start_time": "2022-05-15T10:06:28.391Z"
   },
   {
    "duration": 9,
    "start_time": "2022-05-15T10:06:28.404Z"
   },
   {
    "duration": 15,
    "start_time": "2022-05-15T10:06:28.414Z"
   },
   {
    "duration": 21,
    "start_time": "2022-05-15T10:06:28.431Z"
   },
   {
    "duration": 6,
    "start_time": "2022-05-15T10:06:28.488Z"
   },
   {
    "duration": 13,
    "start_time": "2022-05-15T10:06:28.496Z"
   },
   {
    "duration": 0,
    "start_time": "2022-05-15T10:06:28.510Z"
   },
   {
    "duration": 0,
    "start_time": "2022-05-15T10:06:28.511Z"
   },
   {
    "duration": 0,
    "start_time": "2022-05-15T10:06:28.512Z"
   },
   {
    "duration": 6,
    "start_time": "2022-05-15T10:07:42.231Z"
   },
   {
    "duration": 12,
    "start_time": "2022-05-15T10:08:24.594Z"
   },
   {
    "duration": 65,
    "start_time": "2022-05-15T10:08:29.841Z"
   },
   {
    "duration": 9,
    "start_time": "2022-05-15T10:08:29.908Z"
   },
   {
    "duration": 7,
    "start_time": "2022-05-15T10:08:29.918Z"
   },
   {
    "duration": 7,
    "start_time": "2022-05-15T10:08:29.927Z"
   },
   {
    "duration": 14,
    "start_time": "2022-05-15T10:08:29.936Z"
   },
   {
    "duration": 10,
    "start_time": "2022-05-15T10:08:29.951Z"
   },
   {
    "duration": 27,
    "start_time": "2022-05-15T10:08:29.963Z"
   },
   {
    "duration": 11,
    "start_time": "2022-05-15T10:08:29.992Z"
   },
   {
    "duration": 12,
    "start_time": "2022-05-15T10:08:30.005Z"
   },
   {
    "duration": 28,
    "start_time": "2022-05-15T10:08:30.019Z"
   },
   {
    "duration": 20,
    "start_time": "2022-05-15T10:08:30.049Z"
   },
   {
    "duration": 30,
    "start_time": "2022-05-15T10:08:30.071Z"
   },
   {
    "duration": 36,
    "start_time": "2022-05-15T10:08:30.103Z"
   },
   {
    "duration": 7,
    "start_time": "2022-05-15T10:08:30.142Z"
   },
   {
    "duration": 38,
    "start_time": "2022-05-15T10:08:30.151Z"
   },
   {
    "duration": 14,
    "start_time": "2022-05-15T10:08:30.191Z"
   },
   {
    "duration": 16,
    "start_time": "2022-05-15T10:08:30.207Z"
   },
   {
    "duration": 28,
    "start_time": "2022-05-15T10:08:30.225Z"
   },
   {
    "duration": 13,
    "start_time": "2022-05-15T10:08:30.255Z"
   },
   {
    "duration": 9,
    "start_time": "2022-05-15T10:08:30.270Z"
   },
   {
    "duration": 11,
    "start_time": "2022-05-15T10:08:30.281Z"
   },
   {
    "duration": 40,
    "start_time": "2022-05-15T10:08:30.294Z"
   },
   {
    "duration": 17,
    "start_time": "2022-05-15T10:08:30.336Z"
   },
   {
    "duration": 20,
    "start_time": "2022-05-15T10:08:30.355Z"
   },
   {
    "duration": 18,
    "start_time": "2022-05-15T10:08:30.377Z"
   },
   {
    "duration": 32,
    "start_time": "2022-05-15T10:08:30.397Z"
   },
   {
    "duration": 14,
    "start_time": "2022-05-15T10:08:30.431Z"
   },
   {
    "duration": 0,
    "start_time": "2022-05-15T10:08:30.446Z"
   },
   {
    "duration": 0,
    "start_time": "2022-05-15T10:08:30.447Z"
   },
   {
    "duration": 0,
    "start_time": "2022-05-15T10:08:30.448Z"
   },
   {
    "duration": 0,
    "start_time": "2022-05-15T10:08:30.449Z"
   },
   {
    "duration": 0,
    "start_time": "2022-05-15T10:08:30.450Z"
   },
   {
    "duration": 12,
    "start_time": "2022-05-15T10:08:35.829Z"
   },
   {
    "duration": 7,
    "start_time": "2022-05-15T10:08:52.461Z"
   },
   {
    "duration": 6,
    "start_time": "2022-05-15T10:10:10.347Z"
   },
   {
    "duration": 6,
    "start_time": "2022-05-15T10:10:28.605Z"
   },
   {
    "duration": 13,
    "start_time": "2022-05-15T10:10:35.737Z"
   },
   {
    "duration": 63,
    "start_time": "2022-05-15T10:10:56.819Z"
   },
   {
    "duration": 9,
    "start_time": "2022-05-15T10:10:56.884Z"
   },
   {
    "duration": 9,
    "start_time": "2022-05-15T10:10:56.894Z"
   },
   {
    "duration": 8,
    "start_time": "2022-05-15T10:10:56.904Z"
   },
   {
    "duration": 10,
    "start_time": "2022-05-15T10:10:56.914Z"
   },
   {
    "duration": 10,
    "start_time": "2022-05-15T10:10:56.925Z"
   },
   {
    "duration": 4,
    "start_time": "2022-05-15T10:10:56.937Z"
   },
   {
    "duration": 8,
    "start_time": "2022-05-15T10:10:56.943Z"
   },
   {
    "duration": 8,
    "start_time": "2022-05-15T10:10:56.953Z"
   },
   {
    "duration": 34,
    "start_time": "2022-05-15T10:10:56.962Z"
   },
   {
    "duration": 17,
    "start_time": "2022-05-15T10:10:56.998Z"
   },
   {
    "duration": 17,
    "start_time": "2022-05-15T10:10:57.016Z"
   },
   {
    "duration": 30,
    "start_time": "2022-05-15T10:10:57.034Z"
   },
   {
    "duration": 6,
    "start_time": "2022-05-15T10:10:57.090Z"
   },
   {
    "duration": 17,
    "start_time": "2022-05-15T10:10:57.098Z"
   },
   {
    "duration": 6,
    "start_time": "2022-05-15T10:10:57.116Z"
   },
   {
    "duration": 10,
    "start_time": "2022-05-15T10:10:57.123Z"
   },
   {
    "duration": 4,
    "start_time": "2022-05-15T10:10:57.134Z"
   },
   {
    "duration": 8,
    "start_time": "2022-05-15T10:10:57.140Z"
   },
   {
    "duration": 40,
    "start_time": "2022-05-15T10:10:57.149Z"
   },
   {
    "duration": 9,
    "start_time": "2022-05-15T10:10:57.191Z"
   },
   {
    "duration": 9,
    "start_time": "2022-05-15T10:10:57.201Z"
   },
   {
    "duration": 12,
    "start_time": "2022-05-15T10:10:57.211Z"
   },
   {
    "duration": 8,
    "start_time": "2022-05-15T10:10:57.224Z"
   },
   {
    "duration": 16,
    "start_time": "2022-05-15T10:10:57.234Z"
   },
   {
    "duration": 49,
    "start_time": "2022-05-15T10:10:57.252Z"
   },
   {
    "duration": 11,
    "start_time": "2022-05-15T10:10:57.303Z"
   },
   {
    "duration": 9,
    "start_time": "2022-05-15T10:10:57.315Z"
   },
   {
    "duration": 6,
    "start_time": "2022-05-15T10:10:57.325Z"
   },
   {
    "duration": 5,
    "start_time": "2022-05-15T10:10:57.332Z"
   },
   {
    "duration": 9,
    "start_time": "2022-05-15T10:10:57.339Z"
   },
   {
    "duration": 7,
    "start_time": "2022-05-15T10:12:13.697Z"
   },
   {
    "duration": 260,
    "start_time": "2022-05-15T10:29:03.193Z"
   },
   {
    "duration": 19,
    "start_time": "2022-05-15T10:30:29.384Z"
   },
   {
    "duration": 20,
    "start_time": "2022-05-15T10:31:17.759Z"
   },
   {
    "duration": 11,
    "start_time": "2022-05-15T10:33:02.348Z"
   },
   {
    "duration": 7,
    "start_time": "2022-05-15T10:33:27.557Z"
   },
   {
    "duration": 2,
    "start_time": "2022-05-15T10:33:35.926Z"
   },
   {
    "duration": 20,
    "start_time": "2022-05-15T10:35:39.785Z"
   },
   {
    "duration": 62,
    "start_time": "2022-05-15T10:36:06.360Z"
   },
   {
    "duration": 8,
    "start_time": "2022-05-15T10:36:06.424Z"
   },
   {
    "duration": 9,
    "start_time": "2022-05-15T10:36:06.434Z"
   },
   {
    "duration": 11,
    "start_time": "2022-05-15T10:36:06.445Z"
   },
   {
    "duration": 13,
    "start_time": "2022-05-15T10:36:06.459Z"
   },
   {
    "duration": 21,
    "start_time": "2022-05-15T10:36:06.474Z"
   },
   {
    "duration": 7,
    "start_time": "2022-05-15T10:36:06.497Z"
   },
   {
    "duration": 11,
    "start_time": "2022-05-15T10:36:06.506Z"
   },
   {
    "duration": 9,
    "start_time": "2022-05-15T10:36:06.519Z"
   },
   {
    "duration": 11,
    "start_time": "2022-05-15T10:36:06.530Z"
   },
   {
    "duration": 19,
    "start_time": "2022-05-15T10:36:06.542Z"
   },
   {
    "duration": 38,
    "start_time": "2022-05-15T10:36:06.563Z"
   },
   {
    "duration": 31,
    "start_time": "2022-05-15T10:36:06.603Z"
   },
   {
    "duration": 7,
    "start_time": "2022-05-15T10:36:06.637Z"
   },
   {
    "duration": 21,
    "start_time": "2022-05-15T10:36:06.645Z"
   },
   {
    "duration": 31,
    "start_time": "2022-05-15T10:36:06.667Z"
   },
   {
    "duration": 18,
    "start_time": "2022-05-15T10:36:06.700Z"
   },
   {
    "duration": 10,
    "start_time": "2022-05-15T10:36:06.720Z"
   },
   {
    "duration": 10,
    "start_time": "2022-05-15T10:36:06.732Z"
   },
   {
    "duration": 11,
    "start_time": "2022-05-15T10:36:06.743Z"
   },
   {
    "duration": 10,
    "start_time": "2022-05-15T10:36:06.756Z"
   },
   {
    "duration": 10,
    "start_time": "2022-05-15T10:36:06.768Z"
   },
   {
    "duration": 17,
    "start_time": "2022-05-15T10:36:06.780Z"
   },
   {
    "duration": 10,
    "start_time": "2022-05-15T10:36:06.799Z"
   },
   {
    "duration": 16,
    "start_time": "2022-05-15T10:36:06.812Z"
   },
   {
    "duration": 21,
    "start_time": "2022-05-15T10:36:06.830Z"
   },
   {
    "duration": 48,
    "start_time": "2022-05-15T10:36:06.852Z"
   },
   {
    "duration": 6,
    "start_time": "2022-05-15T10:36:06.901Z"
   },
   {
    "duration": 32,
    "start_time": "2022-05-15T10:36:06.908Z"
   },
   {
    "duration": 20,
    "start_time": "2022-05-15T10:36:06.942Z"
   },
   {
    "duration": 24,
    "start_time": "2022-05-15T10:36:06.964Z"
   },
   {
    "duration": 8,
    "start_time": "2022-05-15T10:36:06.990Z"
   },
   {
    "duration": 10,
    "start_time": "2022-05-15T10:36:07.000Z"
   },
   {
    "duration": 27,
    "start_time": "2022-05-15T10:36:07.012Z"
   },
   {
    "duration": 20,
    "start_time": "2022-05-15T10:36:43.598Z"
   },
   {
    "duration": 64,
    "start_time": "2022-05-15T10:37:03.131Z"
   },
   {
    "duration": 8,
    "start_time": "2022-05-15T10:37:03.197Z"
   },
   {
    "duration": 5,
    "start_time": "2022-05-15T10:37:03.207Z"
   },
   {
    "duration": 9,
    "start_time": "2022-05-15T10:37:03.214Z"
   },
   {
    "duration": 13,
    "start_time": "2022-05-15T10:37:03.226Z"
   },
   {
    "duration": 9,
    "start_time": "2022-05-15T10:37:03.241Z"
   },
   {
    "duration": 9,
    "start_time": "2022-05-15T10:37:03.252Z"
   },
   {
    "duration": 26,
    "start_time": "2022-05-15T10:37:03.263Z"
   },
   {
    "duration": 15,
    "start_time": "2022-05-15T10:37:03.291Z"
   },
   {
    "duration": 9,
    "start_time": "2022-05-15T10:37:03.308Z"
   },
   {
    "duration": 24,
    "start_time": "2022-05-15T10:37:03.319Z"
   },
   {
    "duration": 16,
    "start_time": "2022-05-15T10:37:03.345Z"
   },
   {
    "duration": 54,
    "start_time": "2022-05-15T10:37:03.363Z"
   },
   {
    "duration": 7,
    "start_time": "2022-05-15T10:37:03.420Z"
   },
   {
    "duration": 17,
    "start_time": "2022-05-15T10:37:03.428Z"
   },
   {
    "duration": 8,
    "start_time": "2022-05-15T10:37:03.447Z"
   },
   {
    "duration": 32,
    "start_time": "2022-05-15T10:37:03.457Z"
   },
   {
    "duration": 5,
    "start_time": "2022-05-15T10:37:03.491Z"
   },
   {
    "duration": 10,
    "start_time": "2022-05-15T10:37:03.497Z"
   },
   {
    "duration": 6,
    "start_time": "2022-05-15T10:37:03.508Z"
   },
   {
    "duration": 8,
    "start_time": "2022-05-15T10:37:03.516Z"
   },
   {
    "duration": 8,
    "start_time": "2022-05-15T10:37:03.526Z"
   },
   {
    "duration": 12,
    "start_time": "2022-05-15T10:37:03.536Z"
   },
   {
    "duration": 41,
    "start_time": "2022-05-15T10:37:03.549Z"
   },
   {
    "duration": 16,
    "start_time": "2022-05-15T10:37:03.591Z"
   },
   {
    "duration": 18,
    "start_time": "2022-05-15T10:37:03.609Z"
   },
   {
    "duration": 11,
    "start_time": "2022-05-15T10:37:03.629Z"
   },
   {
    "duration": 8,
    "start_time": "2022-05-15T10:37:03.642Z"
   },
   {
    "duration": 43,
    "start_time": "2022-05-15T10:37:03.651Z"
   },
   {
    "duration": 18,
    "start_time": "2022-05-15T10:37:03.695Z"
   },
   {
    "duration": 5,
    "start_time": "2022-05-15T10:37:03.714Z"
   },
   {
    "duration": 6,
    "start_time": "2022-05-15T10:37:03.721Z"
   },
   {
    "duration": 5,
    "start_time": "2022-05-15T10:37:03.728Z"
   },
   {
    "duration": 8,
    "start_time": "2022-05-15T10:37:03.734Z"
   },
   {
    "duration": 66,
    "start_time": "2022-05-15T10:37:39.305Z"
   },
   {
    "duration": 8,
    "start_time": "2022-05-15T10:37:39.373Z"
   },
   {
    "duration": 4,
    "start_time": "2022-05-15T10:37:39.388Z"
   },
   {
    "duration": 8,
    "start_time": "2022-05-15T10:37:39.394Z"
   },
   {
    "duration": 9,
    "start_time": "2022-05-15T10:37:39.404Z"
   },
   {
    "duration": 9,
    "start_time": "2022-05-15T10:37:39.415Z"
   },
   {
    "duration": 8,
    "start_time": "2022-05-15T10:37:39.426Z"
   },
   {
    "duration": 10,
    "start_time": "2022-05-15T10:37:39.435Z"
   },
   {
    "duration": 9,
    "start_time": "2022-05-15T10:37:39.446Z"
   },
   {
    "duration": 36,
    "start_time": "2022-05-15T10:37:39.456Z"
   },
   {
    "duration": 14,
    "start_time": "2022-05-15T10:37:39.494Z"
   },
   {
    "duration": 15,
    "start_time": "2022-05-15T10:37:39.509Z"
   },
   {
    "duration": 30,
    "start_time": "2022-05-15T10:37:39.525Z"
   },
   {
    "duration": 32,
    "start_time": "2022-05-15T10:37:39.558Z"
   },
   {
    "duration": 19,
    "start_time": "2022-05-15T10:37:39.591Z"
   },
   {
    "duration": 14,
    "start_time": "2022-05-15T10:37:39.611Z"
   },
   {
    "duration": 23,
    "start_time": "2022-05-15T10:37:39.626Z"
   },
   {
    "duration": 27,
    "start_time": "2022-05-15T10:37:39.650Z"
   },
   {
    "duration": 18,
    "start_time": "2022-05-15T10:37:39.678Z"
   },
   {
    "duration": 24,
    "start_time": "2022-05-15T10:37:39.697Z"
   },
   {
    "duration": 21,
    "start_time": "2022-05-15T10:37:39.723Z"
   },
   {
    "duration": 17,
    "start_time": "2022-05-15T10:37:39.745Z"
   },
   {
    "duration": 13,
    "start_time": "2022-05-15T10:37:39.763Z"
   },
   {
    "duration": 11,
    "start_time": "2022-05-15T10:37:39.777Z"
   },
   {
    "duration": 24,
    "start_time": "2022-05-15T10:37:39.790Z"
   },
   {
    "duration": 19,
    "start_time": "2022-05-15T10:37:39.815Z"
   },
   {
    "duration": 29,
    "start_time": "2022-05-15T10:37:39.835Z"
   },
   {
    "duration": 11,
    "start_time": "2022-05-15T10:37:39.866Z"
   },
   {
    "duration": 11,
    "start_time": "2022-05-15T10:37:39.878Z"
   },
   {
    "duration": 39,
    "start_time": "2022-05-15T10:37:39.890Z"
   },
   {
    "duration": 5,
    "start_time": "2022-05-15T10:37:39.930Z"
   },
   {
    "duration": 18,
    "start_time": "2022-05-15T10:37:39.937Z"
   },
   {
    "duration": 15,
    "start_time": "2022-05-15T10:37:39.957Z"
   },
   {
    "duration": 13,
    "start_time": "2022-05-15T10:37:39.974Z"
   },
   {
    "duration": 19,
    "start_time": "2022-05-15T10:38:11.250Z"
   },
   {
    "duration": 19,
    "start_time": "2022-05-15T10:39:12.439Z"
   },
   {
    "duration": 111,
    "start_time": "2022-05-15T10:39:16.065Z"
   },
   {
    "duration": 126,
    "start_time": "2022-05-15T10:39:32.207Z"
   },
   {
    "duration": 63,
    "start_time": "2022-05-15T10:39:35.185Z"
   },
   {
    "duration": 9,
    "start_time": "2022-05-15T10:39:35.249Z"
   },
   {
    "duration": 9,
    "start_time": "2022-05-15T10:39:35.260Z"
   },
   {
    "duration": 23,
    "start_time": "2022-05-15T10:39:35.270Z"
   },
   {
    "duration": 8,
    "start_time": "2022-05-15T10:39:35.295Z"
   },
   {
    "duration": 9,
    "start_time": "2022-05-15T10:39:35.304Z"
   },
   {
    "duration": 9,
    "start_time": "2022-05-15T10:39:35.315Z"
   },
   {
    "duration": 12,
    "start_time": "2022-05-15T10:39:35.326Z"
   },
   {
    "duration": 10,
    "start_time": "2022-05-15T10:39:35.340Z"
   },
   {
    "duration": 38,
    "start_time": "2022-05-15T10:39:35.352Z"
   },
   {
    "duration": 15,
    "start_time": "2022-05-15T10:39:35.392Z"
   },
   {
    "duration": 15,
    "start_time": "2022-05-15T10:39:35.409Z"
   },
   {
    "duration": 30,
    "start_time": "2022-05-15T10:39:35.425Z"
   },
   {
    "duration": 33,
    "start_time": "2022-05-15T10:39:35.458Z"
   },
   {
    "duration": 17,
    "start_time": "2022-05-15T10:39:35.493Z"
   },
   {
    "duration": 8,
    "start_time": "2022-05-15T10:39:35.511Z"
   },
   {
    "duration": 12,
    "start_time": "2022-05-15T10:39:35.520Z"
   },
   {
    "duration": 6,
    "start_time": "2022-05-15T10:39:35.534Z"
   },
   {
    "duration": 8,
    "start_time": "2022-05-15T10:39:35.541Z"
   },
   {
    "duration": 42,
    "start_time": "2022-05-15T10:39:35.551Z"
   },
   {
    "duration": 12,
    "start_time": "2022-05-15T10:39:35.594Z"
   },
   {
    "duration": 8,
    "start_time": "2022-05-15T10:39:35.608Z"
   },
   {
    "duration": 15,
    "start_time": "2022-05-15T10:39:35.618Z"
   },
   {
    "duration": 9,
    "start_time": "2022-05-15T10:39:35.635Z"
   },
   {
    "duration": 42,
    "start_time": "2022-05-15T10:39:35.646Z"
   },
   {
    "duration": 21,
    "start_time": "2022-05-15T10:39:35.690Z"
   },
   {
    "duration": 12,
    "start_time": "2022-05-15T10:39:35.713Z"
   },
   {
    "duration": 6,
    "start_time": "2022-05-15T10:39:35.727Z"
   },
   {
    "duration": 107,
    "start_time": "2022-05-15T10:39:35.735Z"
   },
   {
    "duration": 0,
    "start_time": "2022-05-15T10:39:35.843Z"
   },
   {
    "duration": 0,
    "start_time": "2022-05-15T10:39:35.845Z"
   },
   {
    "duration": 0,
    "start_time": "2022-05-15T10:39:35.846Z"
   },
   {
    "duration": 0,
    "start_time": "2022-05-15T10:39:35.847Z"
   },
   {
    "duration": 0,
    "start_time": "2022-05-15T10:39:35.848Z"
   },
   {
    "duration": 24,
    "start_time": "2022-05-15T10:40:00.995Z"
   },
   {
    "duration": 19,
    "start_time": "2022-05-15T10:40:04.004Z"
   },
   {
    "duration": 7,
    "start_time": "2022-05-15T10:40:43.077Z"
   },
   {
    "duration": 7,
    "start_time": "2022-05-15T10:41:56.722Z"
   },
   {
    "duration": 26,
    "start_time": "2022-05-15T10:44:49.093Z"
   },
   {
    "duration": 20,
    "start_time": "2022-05-15T10:45:17.907Z"
   },
   {
    "duration": 25,
    "start_time": "2022-05-15T10:48:31.772Z"
   },
   {
    "duration": 21,
    "start_time": "2022-05-15T10:51:52.360Z"
   },
   {
    "duration": 14,
    "start_time": "2022-05-15T10:53:01.758Z"
   },
   {
    "duration": 62,
    "start_time": "2022-05-15T10:53:13.904Z"
   },
   {
    "duration": 9,
    "start_time": "2022-05-15T10:53:13.968Z"
   },
   {
    "duration": 14,
    "start_time": "2022-05-15T10:53:13.978Z"
   },
   {
    "duration": 8,
    "start_time": "2022-05-15T10:53:13.993Z"
   },
   {
    "duration": 13,
    "start_time": "2022-05-15T10:53:14.003Z"
   },
   {
    "duration": 8,
    "start_time": "2022-05-15T10:53:14.017Z"
   },
   {
    "duration": 9,
    "start_time": "2022-05-15T10:53:14.026Z"
   },
   {
    "duration": 9,
    "start_time": "2022-05-15T10:53:14.037Z"
   },
   {
    "duration": 8,
    "start_time": "2022-05-15T10:53:14.048Z"
   },
   {
    "duration": 32,
    "start_time": "2022-05-15T10:53:14.057Z"
   },
   {
    "duration": 17,
    "start_time": "2022-05-15T10:53:14.090Z"
   },
   {
    "duration": 17,
    "start_time": "2022-05-15T10:53:14.108Z"
   },
   {
    "duration": 32,
    "start_time": "2022-05-15T10:53:14.126Z"
   },
   {
    "duration": 8,
    "start_time": "2022-05-15T10:53:14.187Z"
   },
   {
    "duration": 21,
    "start_time": "2022-05-15T10:53:14.197Z"
   },
   {
    "duration": 8,
    "start_time": "2022-05-15T10:53:14.220Z"
   },
   {
    "duration": 11,
    "start_time": "2022-05-15T10:53:14.230Z"
   },
   {
    "duration": 6,
    "start_time": "2022-05-15T10:53:14.243Z"
   },
   {
    "duration": 7,
    "start_time": "2022-05-15T10:53:14.251Z"
   },
   {
    "duration": 31,
    "start_time": "2022-05-15T10:53:14.260Z"
   },
   {
    "duration": 11,
    "start_time": "2022-05-15T10:53:14.293Z"
   },
   {
    "duration": 9,
    "start_time": "2022-05-15T10:53:14.306Z"
   },
   {
    "duration": 13,
    "start_time": "2022-05-15T10:53:14.316Z"
   },
   {
    "duration": 9,
    "start_time": "2022-05-15T10:53:14.330Z"
   },
   {
    "duration": 14,
    "start_time": "2022-05-15T10:53:14.340Z"
   },
   {
    "duration": 49,
    "start_time": "2022-05-15T10:53:14.356Z"
   },
   {
    "duration": 12,
    "start_time": "2022-05-15T10:53:14.407Z"
   },
   {
    "duration": 8,
    "start_time": "2022-05-15T10:53:14.420Z"
   },
   {
    "duration": 25,
    "start_time": "2022-05-15T10:53:14.430Z"
   },
   {
    "duration": 35,
    "start_time": "2022-05-15T10:53:14.456Z"
   },
   {
    "duration": 12,
    "start_time": "2022-05-15T10:53:14.492Z"
   },
   {
    "duration": 0,
    "start_time": "2022-05-15T10:53:14.506Z"
   },
   {
    "duration": 0,
    "start_time": "2022-05-15T10:53:14.507Z"
   },
   {
    "duration": 0,
    "start_time": "2022-05-15T10:53:14.508Z"
   },
   {
    "duration": 0,
    "start_time": "2022-05-15T10:53:14.509Z"
   },
   {
    "duration": 7,
    "start_time": "2022-05-15T10:57:17.182Z"
   },
   {
    "duration": 3,
    "start_time": "2022-05-15T10:57:27.245Z"
   },
   {
    "duration": 11,
    "start_time": "2022-05-15T11:00:50.125Z"
   },
   {
    "duration": 13,
    "start_time": "2022-05-15T11:01:26.219Z"
   },
   {
    "duration": 3,
    "start_time": "2022-05-15T11:02:28.649Z"
   },
   {
    "duration": 12,
    "start_time": "2022-05-15T11:07:31.226Z"
   },
   {
    "duration": 21,
    "start_time": "2022-05-15T11:09:28.575Z"
   },
   {
    "duration": 21,
    "start_time": "2022-05-15T11:10:53.534Z"
   },
   {
    "duration": 21,
    "start_time": "2022-05-15T11:13:19.623Z"
   },
   {
    "duration": 19,
    "start_time": "2022-05-15T11:15:05.057Z"
   },
   {
    "duration": 14,
    "start_time": "2022-05-15T11:16:07.680Z"
   },
   {
    "duration": 16,
    "start_time": "2022-05-15T11:18:25.388Z"
   },
   {
    "duration": 25,
    "start_time": "2022-05-15T11:19:43.580Z"
   },
   {
    "duration": 28,
    "start_time": "2022-05-15T11:20:09.927Z"
   },
   {
    "duration": 22,
    "start_time": "2022-05-15T11:20:29.177Z"
   },
   {
    "duration": 21,
    "start_time": "2022-05-15T11:21:37.542Z"
   },
   {
    "duration": 19,
    "start_time": "2022-05-15T11:25:43.035Z"
   },
   {
    "duration": 20,
    "start_time": "2022-05-15T11:27:11.456Z"
   },
   {
    "duration": 70,
    "start_time": "2022-05-15T11:29:06.860Z"
   },
   {
    "duration": 10,
    "start_time": "2022-05-15T11:29:06.932Z"
   },
   {
    "duration": 9,
    "start_time": "2022-05-15T11:29:06.944Z"
   },
   {
    "duration": 6,
    "start_time": "2022-05-15T11:29:06.955Z"
   },
   {
    "duration": 30,
    "start_time": "2022-05-15T11:29:06.963Z"
   },
   {
    "duration": 9,
    "start_time": "2022-05-15T11:29:06.994Z"
   },
   {
    "duration": 9,
    "start_time": "2022-05-15T11:29:07.004Z"
   },
   {
    "duration": 8,
    "start_time": "2022-05-15T11:29:07.014Z"
   },
   {
    "duration": 7,
    "start_time": "2022-05-15T11:29:07.024Z"
   },
   {
    "duration": 9,
    "start_time": "2022-05-15T11:29:07.033Z"
   },
   {
    "duration": 52,
    "start_time": "2022-05-15T11:29:07.044Z"
   },
   {
    "duration": 16,
    "start_time": "2022-05-15T11:29:07.098Z"
   },
   {
    "duration": 31,
    "start_time": "2022-05-15T11:29:07.115Z"
   },
   {
    "duration": 6,
    "start_time": "2022-05-15T11:29:07.150Z"
   },
   {
    "duration": 46,
    "start_time": "2022-05-15T11:29:07.158Z"
   },
   {
    "duration": 9,
    "start_time": "2022-05-15T11:29:07.206Z"
   },
   {
    "duration": 10,
    "start_time": "2022-05-15T11:29:07.217Z"
   },
   {
    "duration": 5,
    "start_time": "2022-05-15T11:29:07.229Z"
   },
   {
    "duration": 12,
    "start_time": "2022-05-15T11:29:07.236Z"
   },
   {
    "duration": 7,
    "start_time": "2022-05-15T11:29:07.250Z"
   },
   {
    "duration": 30,
    "start_time": "2022-05-15T11:29:07.259Z"
   },
   {
    "duration": 8,
    "start_time": "2022-05-15T11:29:07.291Z"
   },
   {
    "duration": 13,
    "start_time": "2022-05-15T11:29:07.300Z"
   },
   {
    "duration": 8,
    "start_time": "2022-05-15T11:29:07.314Z"
   },
   {
    "duration": 14,
    "start_time": "2022-05-15T11:29:07.324Z"
   },
   {
    "duration": 57,
    "start_time": "2022-05-15T11:29:07.339Z"
   },
   {
    "duration": 12,
    "start_time": "2022-05-15T11:29:07.397Z"
   },
   {
    "duration": 17,
    "start_time": "2022-05-15T11:29:07.410Z"
   },
   {
    "duration": 36,
    "start_time": "2022-05-15T11:29:07.429Z"
   },
   {
    "duration": 18,
    "start_time": "2022-05-15T11:29:07.466Z"
   },
   {
    "duration": 2,
    "start_time": "2022-05-15T11:29:07.486Z"
   },
   {
    "duration": 24,
    "start_time": "2022-05-15T11:29:07.489Z"
   },
   {
    "duration": 5,
    "start_time": "2022-05-15T11:29:07.514Z"
   },
   {
    "duration": 9,
    "start_time": "2022-05-15T11:29:07.521Z"
   },
   {
    "duration": 7,
    "start_time": "2022-05-15T11:29:07.531Z"
   },
   {
    "duration": 10,
    "start_time": "2022-05-15T11:29:07.540Z"
   },
   {
    "duration": 12,
    "start_time": "2022-05-15T11:30:20.853Z"
   },
   {
    "duration": 63,
    "start_time": "2022-05-15T11:30:42.033Z"
   },
   {
    "duration": 10,
    "start_time": "2022-05-15T11:30:42.098Z"
   },
   {
    "duration": 6,
    "start_time": "2022-05-15T11:30:42.109Z"
   },
   {
    "duration": 8,
    "start_time": "2022-05-15T11:30:42.117Z"
   },
   {
    "duration": 9,
    "start_time": "2022-05-15T11:30:42.126Z"
   },
   {
    "duration": 10,
    "start_time": "2022-05-15T11:30:42.136Z"
   },
   {
    "duration": 40,
    "start_time": "2022-05-15T11:30:42.148Z"
   },
   {
    "duration": 7,
    "start_time": "2022-05-15T11:30:42.190Z"
   },
   {
    "duration": 13,
    "start_time": "2022-05-15T11:30:42.198Z"
   },
   {
    "duration": 10,
    "start_time": "2022-05-15T11:30:42.214Z"
   },
   {
    "duration": 16,
    "start_time": "2022-05-15T11:30:42.226Z"
   },
   {
    "duration": 49,
    "start_time": "2022-05-15T11:30:42.243Z"
   },
   {
    "duration": 35,
    "start_time": "2022-05-15T11:30:42.294Z"
   },
   {
    "duration": 6,
    "start_time": "2022-05-15T11:30:42.331Z"
   },
   {
    "duration": 20,
    "start_time": "2022-05-15T11:30:42.339Z"
   },
   {
    "duration": 33,
    "start_time": "2022-05-15T11:30:42.361Z"
   },
   {
    "duration": 13,
    "start_time": "2022-05-15T11:30:42.395Z"
   },
   {
    "duration": 15,
    "start_time": "2022-05-15T11:30:42.410Z"
   },
   {
    "duration": 8,
    "start_time": "2022-05-15T11:30:42.427Z"
   },
   {
    "duration": 7,
    "start_time": "2022-05-15T11:30:42.437Z"
   },
   {
    "duration": 44,
    "start_time": "2022-05-15T11:30:42.445Z"
   },
   {
    "duration": 12,
    "start_time": "2022-05-15T11:30:42.491Z"
   },
   {
    "duration": 15,
    "start_time": "2022-05-15T11:30:42.504Z"
   },
   {
    "duration": 10,
    "start_time": "2022-05-15T11:30:42.521Z"
   },
   {
    "duration": 19,
    "start_time": "2022-05-15T11:30:42.533Z"
   },
   {
    "duration": 49,
    "start_time": "2022-05-15T11:30:42.554Z"
   },
   {
    "duration": 13,
    "start_time": "2022-05-15T11:30:42.605Z"
   },
   {
    "duration": 4,
    "start_time": "2022-05-15T11:30:42.622Z"
   },
   {
    "duration": 24,
    "start_time": "2022-05-15T11:30:42.628Z"
   },
   {
    "duration": 45,
    "start_time": "2022-05-15T11:30:42.654Z"
   },
   {
    "duration": 12,
    "start_time": "2022-05-15T11:30:42.701Z"
   },
   {
    "duration": 22,
    "start_time": "2022-05-15T11:30:42.715Z"
   },
   {
    "duration": 5,
    "start_time": "2022-05-15T11:30:42.739Z"
   },
   {
    "duration": 42,
    "start_time": "2022-05-15T11:30:42.746Z"
   },
   {
    "duration": 7,
    "start_time": "2022-05-15T11:30:42.790Z"
   },
   {
    "duration": 15,
    "start_time": "2022-05-15T11:30:42.798Z"
   },
   {
    "duration": 68,
    "start_time": "2022-05-15T20:14:40.051Z"
   },
   {
    "duration": 709,
    "start_time": "2022-05-15T20:14:50.549Z"
   },
   {
    "duration": 14,
    "start_time": "2022-05-15T20:14:51.261Z"
   },
   {
    "duration": 8,
    "start_time": "2022-05-15T20:14:51.277Z"
   },
   {
    "duration": 7,
    "start_time": "2022-05-15T20:14:51.288Z"
   },
   {
    "duration": 59,
    "start_time": "2022-05-15T20:14:51.300Z"
   },
   {
    "duration": 13,
    "start_time": "2022-05-15T20:14:51.361Z"
   },
   {
    "duration": 10,
    "start_time": "2022-05-15T20:14:51.377Z"
   },
   {
    "duration": 11,
    "start_time": "2022-05-15T20:14:51.389Z"
   },
   {
    "duration": 12,
    "start_time": "2022-05-15T20:14:51.402Z"
   },
   {
    "duration": 15,
    "start_time": "2022-05-15T20:14:51.457Z"
   },
   {
    "duration": 28,
    "start_time": "2022-05-15T20:14:51.474Z"
   },
   {
    "duration": 54,
    "start_time": "2022-05-15T20:14:51.504Z"
   },
   {
    "duration": 51,
    "start_time": "2022-05-15T20:14:51.560Z"
   },
   {
    "duration": 10,
    "start_time": "2022-05-15T20:14:51.616Z"
   },
   {
    "duration": 49,
    "start_time": "2022-05-15T20:14:51.628Z"
   },
   {
    "duration": 8,
    "start_time": "2022-05-15T20:14:51.679Z"
   },
   {
    "duration": 13,
    "start_time": "2022-05-15T20:14:51.690Z"
   },
   {
    "duration": 12,
    "start_time": "2022-05-15T20:14:51.705Z"
   },
   {
    "duration": 44,
    "start_time": "2022-05-15T20:14:51.719Z"
   },
   {
    "duration": 21,
    "start_time": "2022-05-15T20:14:51.765Z"
   },
   {
    "duration": 11,
    "start_time": "2022-05-15T20:14:51.788Z"
   },
   {
    "duration": 24,
    "start_time": "2022-05-15T20:14:51.801Z"
   },
   {
    "duration": 41,
    "start_time": "2022-05-15T20:14:51.828Z"
   },
   {
    "duration": 13,
    "start_time": "2022-05-15T20:14:51.871Z"
   },
   {
    "duration": 25,
    "start_time": "2022-05-15T20:14:51.886Z"
   },
   {
    "duration": 57,
    "start_time": "2022-05-15T20:14:51.913Z"
   },
   {
    "duration": 18,
    "start_time": "2022-05-15T20:14:51.972Z"
   },
   {
    "duration": 29,
    "start_time": "2022-05-15T20:14:51.992Z"
   },
   {
    "duration": 46,
    "start_time": "2022-05-15T20:14:52.023Z"
   },
   {
    "duration": 28,
    "start_time": "2022-05-15T20:14:52.071Z"
   },
   {
    "duration": 17,
    "start_time": "2022-05-15T20:14:52.101Z"
   },
   {
    "duration": 64,
    "start_time": "2022-05-15T20:14:52.120Z"
   },
   {
    "duration": 9,
    "start_time": "2022-05-15T20:14:52.186Z"
   },
   {
    "duration": 20,
    "start_time": "2022-05-15T20:14:52.198Z"
   },
   {
    "duration": 24,
    "start_time": "2022-05-15T20:14:52.220Z"
   },
   {
    "duration": 22,
    "start_time": "2022-05-15T20:14:52.247Z"
   },
   {
    "duration": 59,
    "start_time": "2022-05-15T20:14:52.272Z"
   },
   {
    "duration": 9,
    "start_time": "2022-05-15T20:15:06.608Z"
   },
   {
    "duration": 22,
    "start_time": "2022-05-15T20:22:09.435Z"
   },
   {
    "duration": 88,
    "start_time": "2022-05-15T20:22:12.978Z"
   },
   {
    "duration": 12,
    "start_time": "2022-05-15T20:22:13.068Z"
   },
   {
    "duration": 7,
    "start_time": "2022-05-15T20:22:13.083Z"
   },
   {
    "duration": 6,
    "start_time": "2022-05-15T20:22:13.093Z"
   },
   {
    "duration": 56,
    "start_time": "2022-05-15T20:22:13.101Z"
   },
   {
    "duration": 12,
    "start_time": "2022-05-15T20:22:13.159Z"
   },
   {
    "duration": 8,
    "start_time": "2022-05-15T20:22:13.173Z"
   },
   {
    "duration": 17,
    "start_time": "2022-05-15T20:22:13.183Z"
   },
   {
    "duration": 12,
    "start_time": "2022-05-15T20:22:13.201Z"
   },
   {
    "duration": 50,
    "start_time": "2022-05-15T20:22:13.217Z"
   },
   {
    "duration": 22,
    "start_time": "2022-05-15T20:22:13.269Z"
   },
   {
    "duration": 24,
    "start_time": "2022-05-15T20:22:13.293Z"
   },
   {
    "duration": 82,
    "start_time": "2022-05-15T20:22:13.319Z"
   },
   {
    "duration": 9,
    "start_time": "2022-05-15T20:22:13.403Z"
   },
   {
    "duration": 44,
    "start_time": "2022-05-15T20:22:13.415Z"
   },
   {
    "duration": 9,
    "start_time": "2022-05-15T20:22:13.462Z"
   },
   {
    "duration": 12,
    "start_time": "2022-05-15T20:22:13.473Z"
   },
   {
    "duration": 5,
    "start_time": "2022-05-15T20:22:13.488Z"
   },
   {
    "duration": 10,
    "start_time": "2022-05-15T20:22:13.496Z"
   },
   {
    "duration": 54,
    "start_time": "2022-05-15T20:22:13.508Z"
   },
   {
    "duration": 14,
    "start_time": "2022-05-15T20:22:13.564Z"
   },
   {
    "duration": 10,
    "start_time": "2022-05-15T20:22:13.580Z"
   },
   {
    "duration": 14,
    "start_time": "2022-05-15T20:22:13.592Z"
   },
   {
    "duration": 12,
    "start_time": "2022-05-15T20:22:13.608Z"
   },
   {
    "duration": 23,
    "start_time": "2022-05-15T20:22:13.657Z"
   },
   {
    "duration": 29,
    "start_time": "2022-05-15T20:22:13.682Z"
   },
   {
    "duration": 55,
    "start_time": "2022-05-15T20:22:13.713Z"
   },
   {
    "duration": 5,
    "start_time": "2022-05-15T20:22:13.774Z"
   },
   {
    "duration": 41,
    "start_time": "2022-05-15T20:22:13.781Z"
   },
   {
    "duration": 61,
    "start_time": "2022-05-15T20:22:13.825Z"
   },
   {
    "duration": 21,
    "start_time": "2022-05-15T20:22:13.888Z"
   },
   {
    "duration": 65,
    "start_time": "2022-05-15T20:22:13.912Z"
   },
   {
    "duration": 9,
    "start_time": "2022-05-15T20:22:13.979Z"
   },
   {
    "duration": 11,
    "start_time": "2022-05-15T20:22:13.990Z"
   },
   {
    "duration": 12,
    "start_time": "2022-05-15T20:22:14.004Z"
   },
   {
    "duration": 47,
    "start_time": "2022-05-15T20:22:14.018Z"
   },
   {
    "duration": 22,
    "start_time": "2022-05-15T20:22:14.067Z"
   },
   {
    "duration": 30,
    "start_time": "2022-05-15T20:24:32.894Z"
   },
   {
    "duration": 105,
    "start_time": "2022-05-15T20:26:55.462Z"
   },
   {
    "duration": 11,
    "start_time": "2022-05-15T20:26:55.570Z"
   },
   {
    "duration": 9,
    "start_time": "2022-05-15T20:26:55.583Z"
   },
   {
    "duration": 8,
    "start_time": "2022-05-15T20:26:55.595Z"
   },
   {
    "duration": 50,
    "start_time": "2022-05-15T20:26:55.608Z"
   },
   {
    "duration": 18,
    "start_time": "2022-05-15T20:26:55.660Z"
   },
   {
    "duration": 9,
    "start_time": "2022-05-15T20:26:55.681Z"
   },
   {
    "duration": 11,
    "start_time": "2022-05-15T20:26:55.693Z"
   },
   {
    "duration": 57,
    "start_time": "2022-05-15T20:26:55.707Z"
   },
   {
    "duration": 20,
    "start_time": "2022-05-15T20:26:55.767Z"
   },
   {
    "duration": 35,
    "start_time": "2022-05-15T20:26:55.790Z"
   },
   {
    "duration": 65,
    "start_time": "2022-05-15T20:26:55.827Z"
   },
   {
    "duration": 95,
    "start_time": "2022-05-15T20:26:55.894Z"
   },
   {
    "duration": 13,
    "start_time": "2022-05-15T20:26:55.997Z"
   },
   {
    "duration": 53,
    "start_time": "2022-05-15T20:26:56.012Z"
   },
   {
    "duration": 11,
    "start_time": "2022-05-15T20:26:56.068Z"
   },
   {
    "duration": 15,
    "start_time": "2022-05-15T20:26:56.081Z"
   },
   {
    "duration": 6,
    "start_time": "2022-05-15T20:26:56.098Z"
   },
   {
    "duration": 51,
    "start_time": "2022-05-15T20:26:56.107Z"
   },
   {
    "duration": 10,
    "start_time": "2022-05-15T20:26:56.160Z"
   },
   {
    "duration": 11,
    "start_time": "2022-05-15T20:26:56.172Z"
   },
   {
    "duration": 11,
    "start_time": "2022-05-15T20:26:56.186Z"
   },
   {
    "duration": 57,
    "start_time": "2022-05-15T20:26:56.200Z"
   },
   {
    "duration": 14,
    "start_time": "2022-05-15T20:26:56.259Z"
   },
   {
    "duration": 22,
    "start_time": "2022-05-15T20:26:56.275Z"
   },
   {
    "duration": 62,
    "start_time": "2022-05-15T20:26:56.300Z"
   },
   {
    "duration": 18,
    "start_time": "2022-05-15T20:26:56.365Z"
   },
   {
    "duration": 3,
    "start_time": "2022-05-15T20:26:56.385Z"
   },
   {
    "duration": 70,
    "start_time": "2022-05-15T20:26:56.390Z"
   },
   {
    "duration": 28,
    "start_time": "2022-05-15T20:26:56.462Z"
   },
   {
    "duration": 16,
    "start_time": "2022-05-15T20:26:56.492Z"
   },
   {
    "duration": 61,
    "start_time": "2022-05-15T20:26:56.510Z"
   },
   {
    "duration": 7,
    "start_time": "2022-05-15T20:26:56.573Z"
   },
   {
    "duration": 13,
    "start_time": "2022-05-15T20:26:56.582Z"
   },
   {
    "duration": 7,
    "start_time": "2022-05-15T20:26:56.597Z"
   },
   {
    "duration": 12,
    "start_time": "2022-05-15T20:26:56.606Z"
   },
   {
    "duration": 3,
    "start_time": "2022-05-15T20:26:56.657Z"
   },
   {
    "duration": 18,
    "start_time": "2022-05-15T20:29:20.720Z"
   },
   {
    "duration": 81,
    "start_time": "2022-05-15T20:29:24.517Z"
   },
   {
    "duration": 11,
    "start_time": "2022-05-15T20:29:24.601Z"
   },
   {
    "duration": 42,
    "start_time": "2022-05-15T20:29:24.614Z"
   },
   {
    "duration": 6,
    "start_time": "2022-05-15T20:29:24.659Z"
   },
   {
    "duration": 10,
    "start_time": "2022-05-15T20:29:24.667Z"
   },
   {
    "duration": 12,
    "start_time": "2022-05-15T20:29:24.679Z"
   },
   {
    "duration": 67,
    "start_time": "2022-05-15T20:29:24.694Z"
   },
   {
    "duration": 11,
    "start_time": "2022-05-15T20:29:24.764Z"
   },
   {
    "duration": 11,
    "start_time": "2022-05-15T20:29:24.778Z"
   },
   {
    "duration": 13,
    "start_time": "2022-05-15T20:29:24.793Z"
   },
   {
    "duration": 71,
    "start_time": "2022-05-15T20:29:24.809Z"
   },
   {
    "duration": 35,
    "start_time": "2022-05-15T20:29:24.883Z"
   },
   {
    "duration": 96,
    "start_time": "2022-05-15T20:29:24.921Z"
   },
   {
    "duration": 13,
    "start_time": "2022-05-15T20:29:25.020Z"
   },
   {
    "duration": 53,
    "start_time": "2022-05-15T20:29:25.036Z"
   },
   {
    "duration": 11,
    "start_time": "2022-05-15T20:29:25.093Z"
   },
   {
    "duration": 18,
    "start_time": "2022-05-15T20:29:25.107Z"
   },
   {
    "duration": 32,
    "start_time": "2022-05-15T20:29:25.128Z"
   },
   {
    "duration": 12,
    "start_time": "2022-05-15T20:29:25.162Z"
   },
   {
    "duration": 10,
    "start_time": "2022-05-15T20:29:25.176Z"
   },
   {
    "duration": 11,
    "start_time": "2022-05-15T20:29:25.189Z"
   },
   {
    "duration": 63,
    "start_time": "2022-05-15T20:29:25.202Z"
   },
   {
    "duration": 16,
    "start_time": "2022-05-15T20:29:25.267Z"
   },
   {
    "duration": 18,
    "start_time": "2022-05-15T20:29:25.286Z"
   },
   {
    "duration": 3,
    "start_time": "2022-05-15T20:29:25.307Z"
   },
   {
    "duration": 67,
    "start_time": "2022-05-15T20:29:25.313Z"
   },
   {
    "duration": 0,
    "start_time": "2022-05-15T20:29:25.384Z"
   },
   {
    "duration": 0,
    "start_time": "2022-05-15T20:29:25.385Z"
   },
   {
    "duration": 0,
    "start_time": "2022-05-15T20:29:25.388Z"
   },
   {
    "duration": 0,
    "start_time": "2022-05-15T20:29:25.390Z"
   },
   {
    "duration": 0,
    "start_time": "2022-05-15T20:29:25.392Z"
   },
   {
    "duration": 0,
    "start_time": "2022-05-15T20:29:25.393Z"
   },
   {
    "duration": 0,
    "start_time": "2022-05-15T20:29:25.395Z"
   },
   {
    "duration": 0,
    "start_time": "2022-05-15T20:29:25.397Z"
   },
   {
    "duration": 0,
    "start_time": "2022-05-15T20:29:25.398Z"
   },
   {
    "duration": 0,
    "start_time": "2022-05-15T20:29:25.400Z"
   },
   {
    "duration": 0,
    "start_time": "2022-05-15T20:29:25.401Z"
   },
   {
    "duration": 0,
    "start_time": "2022-05-15T20:29:25.403Z"
   },
   {
    "duration": 28,
    "start_time": "2022-05-15T20:29:57.629Z"
   },
   {
    "duration": 21,
    "start_time": "2022-05-15T20:30:29.574Z"
   },
   {
    "duration": 150,
    "start_time": "2022-05-15T20:30:32.843Z"
   },
   {
    "duration": 12,
    "start_time": "2022-05-15T20:30:32.996Z"
   },
   {
    "duration": 12,
    "start_time": "2022-05-15T20:30:33.010Z"
   },
   {
    "duration": 34,
    "start_time": "2022-05-15T20:30:33.025Z"
   },
   {
    "duration": 22,
    "start_time": "2022-05-15T20:30:33.061Z"
   },
   {
    "duration": 15,
    "start_time": "2022-05-15T20:30:33.085Z"
   },
   {
    "duration": 10,
    "start_time": "2022-05-15T20:30:33.102Z"
   },
   {
    "duration": 9,
    "start_time": "2022-05-15T20:30:33.114Z"
   },
   {
    "duration": 14,
    "start_time": "2022-05-15T20:30:33.156Z"
   },
   {
    "duration": 22,
    "start_time": "2022-05-15T20:30:33.177Z"
   },
   {
    "duration": 72,
    "start_time": "2022-05-15T20:30:33.201Z"
   },
   {
    "duration": 34,
    "start_time": "2022-05-15T20:30:33.275Z"
   },
   {
    "duration": 77,
    "start_time": "2022-05-15T20:30:33.312Z"
   },
   {
    "duration": 9,
    "start_time": "2022-05-15T20:30:33.392Z"
   },
   {
    "duration": 55,
    "start_time": "2022-05-15T20:30:33.403Z"
   },
   {
    "duration": 10,
    "start_time": "2022-05-15T20:30:33.461Z"
   },
   {
    "duration": 17,
    "start_time": "2022-05-15T20:30:33.473Z"
   },
   {
    "duration": 10,
    "start_time": "2022-05-15T20:30:33.493Z"
   },
   {
    "duration": 13,
    "start_time": "2022-05-15T20:30:33.505Z"
   },
   {
    "duration": 13,
    "start_time": "2022-05-15T20:30:33.557Z"
   },
   {
    "duration": 17,
    "start_time": "2022-05-15T20:30:33.572Z"
   },
   {
    "duration": 10,
    "start_time": "2022-05-15T20:30:33.591Z"
   },
   {
    "duration": 17,
    "start_time": "2022-05-15T20:30:33.603Z"
   },
   {
    "duration": 46,
    "start_time": "2022-05-15T20:30:33.622Z"
   },
   {
    "duration": 4,
    "start_time": "2022-05-15T20:30:33.671Z"
   },
   {
    "duration": 24,
    "start_time": "2022-05-15T20:30:33.677Z"
   },
   {
    "duration": 66,
    "start_time": "2022-05-15T20:30:33.706Z"
   },
   {
    "duration": 29,
    "start_time": "2022-05-15T20:30:33.778Z"
   },
   {
    "duration": 4,
    "start_time": "2022-05-15T20:30:33.809Z"
   },
   {
    "duration": 68,
    "start_time": "2022-05-15T20:30:33.815Z"
   },
   {
    "duration": 27,
    "start_time": "2022-05-15T20:30:33.885Z"
   },
   {
    "duration": 44,
    "start_time": "2022-05-15T20:30:33.914Z"
   },
   {
    "duration": 29,
    "start_time": "2022-05-15T20:30:33.960Z"
   },
   {
    "duration": 7,
    "start_time": "2022-05-15T20:30:33.992Z"
   },
   {
    "duration": 11,
    "start_time": "2022-05-15T20:30:34.001Z"
   },
   {
    "duration": 44,
    "start_time": "2022-05-15T20:30:34.014Z"
   },
   {
    "duration": 11,
    "start_time": "2022-05-15T20:30:34.060Z"
   },
   {
    "duration": 5,
    "start_time": "2022-05-15T20:30:34.073Z"
   },
   {
    "duration": 9,
    "start_time": "2022-05-15T20:31:41.550Z"
   },
   {
    "duration": 9,
    "start_time": "2022-05-15T20:31:58.395Z"
   },
   {
    "duration": 25,
    "start_time": "2022-05-15T20:32:07.401Z"
   },
   {
    "duration": 101,
    "start_time": "2022-05-15T20:33:07.726Z"
   },
   {
    "duration": 12,
    "start_time": "2022-05-15T20:33:07.858Z"
   },
   {
    "duration": 12,
    "start_time": "2022-05-15T20:33:07.872Z"
   },
   {
    "duration": 12,
    "start_time": "2022-05-15T20:33:07.887Z"
   },
   {
    "duration": 22,
    "start_time": "2022-05-15T20:33:07.902Z"
   },
   {
    "duration": 36,
    "start_time": "2022-05-15T20:33:07.926Z"
   },
   {
    "duration": 40,
    "start_time": "2022-05-15T20:33:07.964Z"
   },
   {
    "duration": 21,
    "start_time": "2022-05-15T20:33:08.007Z"
   },
   {
    "duration": 24,
    "start_time": "2022-05-15T20:33:08.030Z"
   },
   {
    "duration": 19,
    "start_time": "2022-05-15T20:33:08.059Z"
   },
   {
    "duration": 46,
    "start_time": "2022-05-15T20:33:08.081Z"
   },
   {
    "duration": 34,
    "start_time": "2022-05-15T20:33:08.130Z"
   },
   {
    "duration": 52,
    "start_time": "2022-05-15T20:33:08.167Z"
   },
   {
    "duration": 10,
    "start_time": "2022-05-15T20:33:08.221Z"
   },
   {
    "duration": 42,
    "start_time": "2022-05-15T20:33:08.233Z"
   },
   {
    "duration": 19,
    "start_time": "2022-05-15T20:33:08.277Z"
   },
   {
    "duration": 23,
    "start_time": "2022-05-15T20:33:08.299Z"
   },
   {
    "duration": 16,
    "start_time": "2022-05-15T20:33:08.324Z"
   },
   {
    "duration": 23,
    "start_time": "2022-05-15T20:33:08.342Z"
   },
   {
    "duration": 23,
    "start_time": "2022-05-15T20:33:08.367Z"
   },
   {
    "duration": 30,
    "start_time": "2022-05-15T20:33:08.392Z"
   },
   {
    "duration": 28,
    "start_time": "2022-05-15T20:33:08.424Z"
   },
   {
    "duration": 31,
    "start_time": "2022-05-15T20:33:08.454Z"
   },
   {
    "duration": 13,
    "start_time": "2022-05-15T20:33:08.487Z"
   },
   {
    "duration": 40,
    "start_time": "2022-05-15T20:33:08.501Z"
   },
   {
    "duration": 36,
    "start_time": "2022-05-15T20:33:08.543Z"
   },
   {
    "duration": 18,
    "start_time": "2022-05-15T20:33:08.581Z"
   },
   {
    "duration": 7,
    "start_time": "2022-05-15T20:33:08.603Z"
   },
   {
    "duration": 48,
    "start_time": "2022-05-15T20:33:08.612Z"
   },
   {
    "duration": 27,
    "start_time": "2022-05-15T20:33:08.662Z"
   },
   {
    "duration": 26,
    "start_time": "2022-05-15T20:33:08.691Z"
   },
   {
    "duration": 74,
    "start_time": "2022-05-15T20:33:08.720Z"
   },
   {
    "duration": 9,
    "start_time": "2022-05-15T20:33:08.797Z"
   },
   {
    "duration": 29,
    "start_time": "2022-05-15T20:33:08.809Z"
   },
   {
    "duration": 29,
    "start_time": "2022-05-15T20:33:08.841Z"
   },
   {
    "duration": 13,
    "start_time": "2022-05-15T20:33:08.872Z"
   },
   {
    "duration": 3,
    "start_time": "2022-05-15T20:33:08.887Z"
   },
   {
    "duration": 576,
    "start_time": "2022-05-16T07:01:05.871Z"
   },
   {
    "duration": 12,
    "start_time": "2022-05-16T07:01:06.450Z"
   },
   {
    "duration": 7,
    "start_time": "2022-05-16T07:01:06.465Z"
   },
   {
    "duration": 8,
    "start_time": "2022-05-16T07:01:06.475Z"
   },
   {
    "duration": 21,
    "start_time": "2022-05-16T07:01:06.485Z"
   },
   {
    "duration": 47,
    "start_time": "2022-05-16T07:01:06.509Z"
   },
   {
    "duration": 9,
    "start_time": "2022-05-16T07:01:06.559Z"
   },
   {
    "duration": 9,
    "start_time": "2022-05-16T07:01:06.571Z"
   },
   {
    "duration": 12,
    "start_time": "2022-05-16T07:01:06.583Z"
   },
   {
    "duration": 13,
    "start_time": "2022-05-16T07:01:06.653Z"
   },
   {
    "duration": 26,
    "start_time": "2022-05-16T07:01:06.668Z"
   },
   {
    "duration": 27,
    "start_time": "2022-05-16T07:01:06.696Z"
   },
   {
    "duration": 75,
    "start_time": "2022-05-16T07:01:06.726Z"
   },
   {
    "duration": 10,
    "start_time": "2022-05-16T07:01:06.804Z"
   },
   {
    "duration": 54,
    "start_time": "2022-05-16T07:01:06.817Z"
   },
   {
    "duration": 21,
    "start_time": "2022-05-16T07:01:06.873Z"
   },
   {
    "duration": 23,
    "start_time": "2022-05-16T07:01:06.897Z"
   },
   {
    "duration": 15,
    "start_time": "2022-05-16T07:01:06.923Z"
   },
   {
    "duration": 24,
    "start_time": "2022-05-16T07:01:06.940Z"
   },
   {
    "duration": 17,
    "start_time": "2022-05-16T07:01:06.966Z"
   },
   {
    "duration": 11,
    "start_time": "2022-05-16T07:01:06.985Z"
   },
   {
    "duration": 19,
    "start_time": "2022-05-16T07:01:06.999Z"
   },
   {
    "duration": 34,
    "start_time": "2022-05-16T07:01:07.020Z"
   },
   {
    "duration": 12,
    "start_time": "2022-05-16T07:01:07.057Z"
   },
   {
    "duration": 27,
    "start_time": "2022-05-16T07:01:07.071Z"
   },
   {
    "duration": 53,
    "start_time": "2022-05-16T07:01:07.101Z"
   },
   {
    "duration": 17,
    "start_time": "2022-05-16T07:01:07.156Z"
   },
   {
    "duration": 17,
    "start_time": "2022-05-16T07:01:07.178Z"
   },
   {
    "duration": 44,
    "start_time": "2022-05-16T07:01:07.197Z"
   },
   {
    "duration": 30,
    "start_time": "2022-05-16T07:01:07.244Z"
   },
   {
    "duration": 34,
    "start_time": "2022-05-16T07:01:07.276Z"
   },
   {
    "duration": 38,
    "start_time": "2022-05-16T07:01:07.313Z"
   },
   {
    "duration": 8,
    "start_time": "2022-05-16T07:01:07.354Z"
   },
   {
    "duration": 33,
    "start_time": "2022-05-16T07:01:07.364Z"
   },
   {
    "duration": 15,
    "start_time": "2022-05-16T07:01:07.400Z"
   },
   {
    "duration": 22,
    "start_time": "2022-05-16T07:01:07.417Z"
   },
   {
    "duration": 3,
    "start_time": "2022-05-16T07:01:07.441Z"
   },
   {
    "duration": 28,
    "start_time": "2022-05-16T07:18:14.419Z"
   },
   {
    "duration": 3,
    "start_time": "2022-05-16T07:20:23.599Z"
   },
   {
    "duration": 95,
    "start_time": "2022-05-16T07:22:25.608Z"
   },
   {
    "duration": 85,
    "start_time": "2022-05-16T07:22:53.296Z"
   },
   {
    "duration": 11,
    "start_time": "2022-05-16T07:22:53.384Z"
   },
   {
    "duration": 9,
    "start_time": "2022-05-16T07:22:53.397Z"
   },
   {
    "duration": 11,
    "start_time": "2022-05-16T07:22:53.409Z"
   },
   {
    "duration": 35,
    "start_time": "2022-05-16T07:22:53.422Z"
   },
   {
    "duration": 13,
    "start_time": "2022-05-16T07:22:53.460Z"
   },
   {
    "duration": 17,
    "start_time": "2022-05-16T07:22:53.475Z"
   },
   {
    "duration": 10,
    "start_time": "2022-05-16T07:22:53.494Z"
   },
   {
    "duration": 11,
    "start_time": "2022-05-16T07:22:53.506Z"
   },
   {
    "duration": 12,
    "start_time": "2022-05-16T07:22:53.553Z"
   },
   {
    "duration": 21,
    "start_time": "2022-05-16T07:22:53.567Z"
   },
   {
    "duration": 24,
    "start_time": "2022-05-16T07:22:53.590Z"
   },
   {
    "duration": 51,
    "start_time": "2022-05-16T07:22:53.652Z"
   },
   {
    "duration": 9,
    "start_time": "2022-05-16T07:22:53.706Z"
   },
   {
    "duration": 45,
    "start_time": "2022-05-16T07:22:53.718Z"
   },
   {
    "duration": 10,
    "start_time": "2022-05-16T07:22:53.765Z"
   },
   {
    "duration": 18,
    "start_time": "2022-05-16T07:22:53.777Z"
   },
   {
    "duration": 7,
    "start_time": "2022-05-16T07:22:53.798Z"
   },
   {
    "duration": 46,
    "start_time": "2022-05-16T07:22:53.807Z"
   },
   {
    "duration": 10,
    "start_time": "2022-05-16T07:22:53.855Z"
   },
   {
    "duration": 9,
    "start_time": "2022-05-16T07:22:53.867Z"
   },
   {
    "duration": 12,
    "start_time": "2022-05-16T07:22:53.878Z"
   },
   {
    "duration": 16,
    "start_time": "2022-05-16T07:22:53.892Z"
   },
   {
    "duration": 50,
    "start_time": "2022-05-16T07:22:53.910Z"
   },
   {
    "duration": 21,
    "start_time": "2022-05-16T07:22:53.962Z"
   },
   {
    "duration": 29,
    "start_time": "2022-05-16T07:22:53.985Z"
   },
   {
    "duration": 51,
    "start_time": "2022-05-16T07:22:54.016Z"
   },
   {
    "duration": 5,
    "start_time": "2022-05-16T07:22:54.071Z"
   },
   {
    "duration": 31,
    "start_time": "2022-05-16T07:22:54.079Z"
   },
   {
    "duration": 60,
    "start_time": "2022-05-16T07:22:54.112Z"
   },
   {
    "duration": 90,
    "start_time": "2022-05-16T07:22:54.174Z"
   },
   {
    "duration": 0,
    "start_time": "2022-05-16T07:22:54.266Z"
   },
   {
    "duration": 0,
    "start_time": "2022-05-16T07:22:54.268Z"
   },
   {
    "duration": 0,
    "start_time": "2022-05-16T07:22:54.269Z"
   },
   {
    "duration": 0,
    "start_time": "2022-05-16T07:22:54.271Z"
   },
   {
    "duration": 0,
    "start_time": "2022-05-16T07:22:54.272Z"
   },
   {
    "duration": 0,
    "start_time": "2022-05-16T07:22:54.274Z"
   },
   {
    "duration": 143,
    "start_time": "2022-05-16T07:24:08.739Z"
   },
   {
    "duration": 84,
    "start_time": "2022-05-16T07:24:16.305Z"
   },
   {
    "duration": 11,
    "start_time": "2022-05-16T07:24:16.392Z"
   },
   {
    "duration": 15,
    "start_time": "2022-05-16T07:24:16.405Z"
   },
   {
    "duration": 7,
    "start_time": "2022-05-16T07:24:16.422Z"
   },
   {
    "duration": 27,
    "start_time": "2022-05-16T07:24:16.432Z"
   },
   {
    "duration": 18,
    "start_time": "2022-05-16T07:24:16.461Z"
   },
   {
    "duration": 7,
    "start_time": "2022-05-16T07:24:16.481Z"
   },
   {
    "duration": 10,
    "start_time": "2022-05-16T07:24:16.490Z"
   },
   {
    "duration": 9,
    "start_time": "2022-05-16T07:24:16.502Z"
   },
   {
    "duration": 49,
    "start_time": "2022-05-16T07:24:16.513Z"
   },
   {
    "duration": 21,
    "start_time": "2022-05-16T07:24:16.564Z"
   },
   {
    "duration": 23,
    "start_time": "2022-05-16T07:24:16.587Z"
   },
   {
    "duration": 78,
    "start_time": "2022-05-16T07:24:16.612Z"
   },
   {
    "duration": 9,
    "start_time": "2022-05-16T07:24:16.694Z"
   },
   {
    "duration": 22,
    "start_time": "2022-05-16T07:24:16.705Z"
   },
   {
    "duration": 30,
    "start_time": "2022-05-16T07:24:16.728Z"
   },
   {
    "duration": 12,
    "start_time": "2022-05-16T07:24:16.760Z"
   },
   {
    "duration": 6,
    "start_time": "2022-05-16T07:24:16.774Z"
   },
   {
    "duration": 10,
    "start_time": "2022-05-16T07:24:16.782Z"
   },
   {
    "duration": 9,
    "start_time": "2022-05-16T07:24:16.794Z"
   },
   {
    "duration": 54,
    "start_time": "2022-05-16T07:24:16.805Z"
   },
   {
    "duration": 10,
    "start_time": "2022-05-16T07:24:16.861Z"
   },
   {
    "duration": 16,
    "start_time": "2022-05-16T07:24:16.873Z"
   },
   {
    "duration": 11,
    "start_time": "2022-05-16T07:24:16.891Z"
   },
   {
    "duration": 58,
    "start_time": "2022-05-16T07:24:16.904Z"
   },
   {
    "duration": 28,
    "start_time": "2022-05-16T07:24:16.964Z"
   },
   {
    "duration": 18,
    "start_time": "2022-05-16T07:24:16.994Z"
   },
   {
    "duration": 17,
    "start_time": "2022-05-16T07:24:17.014Z"
   },
   {
    "duration": 45,
    "start_time": "2022-05-16T07:24:17.033Z"
   },
   {
    "duration": 26,
    "start_time": "2022-05-16T07:24:17.081Z"
   },
   {
    "duration": 85,
    "start_time": "2022-05-16T07:24:17.110Z"
   },
   {
    "duration": 0,
    "start_time": "2022-05-16T07:24:17.197Z"
   },
   {
    "duration": 0,
    "start_time": "2022-05-16T07:24:17.199Z"
   },
   {
    "duration": 0,
    "start_time": "2022-05-16T07:24:17.201Z"
   },
   {
    "duration": 0,
    "start_time": "2022-05-16T07:24:17.202Z"
   },
   {
    "duration": 0,
    "start_time": "2022-05-16T07:24:17.204Z"
   },
   {
    "duration": 0,
    "start_time": "2022-05-16T07:24:17.206Z"
   },
   {
    "duration": 23,
    "start_time": "2022-05-16T07:24:35.126Z"
   },
   {
    "duration": 3,
    "start_time": "2022-05-16T07:25:01.190Z"
   },
   {
    "duration": 109,
    "start_time": "2022-05-16T07:27:18.260Z"
   },
   {
    "duration": 81,
    "start_time": "2022-05-16T07:27:25.603Z"
   },
   {
    "duration": 11,
    "start_time": "2022-05-16T07:27:25.687Z"
   },
   {
    "duration": 6,
    "start_time": "2022-05-16T07:27:25.700Z"
   },
   {
    "duration": 6,
    "start_time": "2022-05-16T07:27:25.708Z"
   },
   {
    "duration": 42,
    "start_time": "2022-05-16T07:27:25.717Z"
   },
   {
    "duration": 14,
    "start_time": "2022-05-16T07:27:25.761Z"
   },
   {
    "duration": 7,
    "start_time": "2022-05-16T07:27:25.777Z"
   },
   {
    "duration": 8,
    "start_time": "2022-05-16T07:27:25.787Z"
   },
   {
    "duration": 57,
    "start_time": "2022-05-16T07:27:25.797Z"
   },
   {
    "duration": 14,
    "start_time": "2022-05-16T07:27:25.856Z"
   },
   {
    "duration": 20,
    "start_time": "2022-05-16T07:27:25.873Z"
   },
   {
    "duration": 57,
    "start_time": "2022-05-16T07:27:25.896Z"
   },
   {
    "duration": 50,
    "start_time": "2022-05-16T07:27:25.955Z"
   },
   {
    "duration": 10,
    "start_time": "2022-05-16T07:27:26.009Z"
   },
   {
    "duration": 46,
    "start_time": "2022-05-16T07:27:26.021Z"
   },
   {
    "duration": 17,
    "start_time": "2022-05-16T07:27:26.069Z"
   },
   {
    "duration": 20,
    "start_time": "2022-05-16T07:27:26.088Z"
   },
   {
    "duration": 7,
    "start_time": "2022-05-16T07:27:26.110Z"
   },
   {
    "duration": 36,
    "start_time": "2022-05-16T07:27:26.119Z"
   },
   {
    "duration": 18,
    "start_time": "2022-05-16T07:27:26.157Z"
   },
   {
    "duration": 13,
    "start_time": "2022-05-16T07:27:26.177Z"
   },
   {
    "duration": 12,
    "start_time": "2022-05-16T07:27:26.193Z"
   },
   {
    "duration": 48,
    "start_time": "2022-05-16T07:27:26.208Z"
   },
   {
    "duration": 13,
    "start_time": "2022-05-16T07:27:26.258Z"
   },
   {
    "duration": 21,
    "start_time": "2022-05-16T07:27:26.274Z"
   },
   {
    "duration": 61,
    "start_time": "2022-05-16T07:27:26.297Z"
   },
   {
    "duration": 18,
    "start_time": "2022-05-16T07:27:26.361Z"
   },
   {
    "duration": 8,
    "start_time": "2022-05-16T07:27:26.381Z"
   },
   {
    "duration": 34,
    "start_time": "2022-05-16T07:27:26.392Z"
   },
   {
    "duration": 41,
    "start_time": "2022-05-16T07:27:26.429Z"
   },
   {
    "duration": 0,
    "start_time": "2022-05-16T07:27:26.473Z"
   },
   {
    "duration": 0,
    "start_time": "2022-05-16T07:27:26.475Z"
   },
   {
    "duration": 0,
    "start_time": "2022-05-16T07:27:26.476Z"
   },
   {
    "duration": 0,
    "start_time": "2022-05-16T07:27:26.478Z"
   },
   {
    "duration": 0,
    "start_time": "2022-05-16T07:27:26.480Z"
   },
   {
    "duration": 0,
    "start_time": "2022-05-16T07:27:26.482Z"
   },
   {
    "duration": 0,
    "start_time": "2022-05-16T07:27:26.483Z"
   },
   {
    "duration": 29,
    "start_time": "2022-05-16T07:27:53.548Z"
   },
   {
    "duration": 31,
    "start_time": "2022-05-16T07:46:34.208Z"
   },
   {
    "duration": 81,
    "start_time": "2022-05-16T07:46:55.315Z"
   },
   {
    "duration": 11,
    "start_time": "2022-05-16T07:46:55.398Z"
   },
   {
    "duration": 7,
    "start_time": "2022-05-16T07:46:55.412Z"
   },
   {
    "duration": 31,
    "start_time": "2022-05-16T07:46:55.422Z"
   },
   {
    "duration": 10,
    "start_time": "2022-05-16T07:46:55.455Z"
   },
   {
    "duration": 13,
    "start_time": "2022-05-16T07:46:55.467Z"
   },
   {
    "duration": 7,
    "start_time": "2022-05-16T07:46:55.482Z"
   },
   {
    "duration": 10,
    "start_time": "2022-05-16T07:46:55.491Z"
   },
   {
    "duration": 56,
    "start_time": "2022-05-16T07:46:55.503Z"
   },
   {
    "duration": 13,
    "start_time": "2022-05-16T07:46:55.564Z"
   },
   {
    "duration": 22,
    "start_time": "2022-05-16T07:46:55.579Z"
   },
   {
    "duration": 62,
    "start_time": "2022-05-16T07:46:55.603Z"
   },
   {
    "duration": 48,
    "start_time": "2022-05-16T07:46:55.667Z"
   },
   {
    "duration": 9,
    "start_time": "2022-05-16T07:46:55.717Z"
   },
   {
    "duration": 49,
    "start_time": "2022-05-16T07:46:55.728Z"
   },
   {
    "duration": 9,
    "start_time": "2022-05-16T07:46:55.780Z"
   },
   {
    "duration": 15,
    "start_time": "2022-05-16T07:46:55.791Z"
   },
   {
    "duration": 44,
    "start_time": "2022-05-16T07:46:55.808Z"
   },
   {
    "duration": 10,
    "start_time": "2022-05-16T07:46:55.854Z"
   },
   {
    "duration": 9,
    "start_time": "2022-05-16T07:46:55.867Z"
   },
   {
    "duration": 9,
    "start_time": "2022-05-16T07:46:55.878Z"
   },
   {
    "duration": 11,
    "start_time": "2022-05-16T07:46:55.889Z"
   },
   {
    "duration": 61,
    "start_time": "2022-05-16T07:46:55.902Z"
   },
   {
    "duration": 12,
    "start_time": "2022-05-16T07:46:55.965Z"
   },
   {
    "duration": 21,
    "start_time": "2022-05-16T07:46:55.980Z"
   },
   {
    "duration": 59,
    "start_time": "2022-05-16T07:46:56.004Z"
   },
   {
    "duration": 12,
    "start_time": "2022-05-16T07:46:56.065Z"
   },
   {
    "duration": 0,
    "start_time": "2022-05-16T07:46:56.079Z"
   },
   {
    "duration": 0,
    "start_time": "2022-05-16T07:46:56.081Z"
   },
   {
    "duration": 0,
    "start_time": "2022-05-16T07:46:56.083Z"
   },
   {
    "duration": 0,
    "start_time": "2022-05-16T07:46:56.086Z"
   },
   {
    "duration": 0,
    "start_time": "2022-05-16T07:46:56.088Z"
   },
   {
    "duration": 0,
    "start_time": "2022-05-16T07:46:56.089Z"
   },
   {
    "duration": 0,
    "start_time": "2022-05-16T07:46:56.091Z"
   },
   {
    "duration": 0,
    "start_time": "2022-05-16T07:46:56.092Z"
   },
   {
    "duration": 0,
    "start_time": "2022-05-16T07:46:56.093Z"
   },
   {
    "duration": 0,
    "start_time": "2022-05-16T07:46:56.095Z"
   },
   {
    "duration": 0,
    "start_time": "2022-05-16T07:46:56.096Z"
   },
   {
    "duration": 12,
    "start_time": "2022-05-16T07:47:36.580Z"
   },
   {
    "duration": 7,
    "start_time": "2022-05-16T07:55:51.825Z"
   },
   {
    "duration": 8,
    "start_time": "2022-05-16T07:56:38.628Z"
   },
   {
    "duration": 17,
    "start_time": "2022-05-16T08:21:01.655Z"
   },
   {
    "duration": 31,
    "start_time": "2022-05-16T08:22:34.008Z"
   },
   {
    "duration": 19,
    "start_time": "2022-05-16T08:22:56.494Z"
   },
   {
    "duration": 83,
    "start_time": "2022-05-16T08:23:09.784Z"
   },
   {
    "duration": 13,
    "start_time": "2022-05-16T08:23:09.870Z"
   },
   {
    "duration": 6,
    "start_time": "2022-05-16T08:23:09.886Z"
   },
   {
    "duration": 7,
    "start_time": "2022-05-16T08:23:09.897Z"
   },
   {
    "duration": 48,
    "start_time": "2022-05-16T08:23:09.906Z"
   },
   {
    "duration": 12,
    "start_time": "2022-05-16T08:23:09.957Z"
   },
   {
    "duration": 7,
    "start_time": "2022-05-16T08:23:09.971Z"
   },
   {
    "duration": 9,
    "start_time": "2022-05-16T08:23:09.980Z"
   },
   {
    "duration": 61,
    "start_time": "2022-05-16T08:23:09.991Z"
   },
   {
    "duration": 66,
    "start_time": "2022-05-16T08:23:10.056Z"
   },
   {
    "duration": 56,
    "start_time": "2022-05-16T08:23:10.124Z"
   },
   {
    "duration": 35,
    "start_time": "2022-05-16T08:23:10.182Z"
   },
   {
    "duration": 92,
    "start_time": "2022-05-16T08:23:10.219Z"
   },
   {
    "duration": 13,
    "start_time": "2022-05-16T08:23:10.314Z"
   },
   {
    "duration": 39,
    "start_time": "2022-05-16T08:23:10.330Z"
   },
   {
    "duration": 9,
    "start_time": "2022-05-16T08:23:10.371Z"
   },
   {
    "duration": 18,
    "start_time": "2022-05-16T08:23:10.382Z"
   },
   {
    "duration": 7,
    "start_time": "2022-05-16T08:23:10.403Z"
   },
   {
    "duration": 45,
    "start_time": "2022-05-16T08:23:10.413Z"
   },
   {
    "duration": 9,
    "start_time": "2022-05-16T08:23:10.461Z"
   },
   {
    "duration": 12,
    "start_time": "2022-05-16T08:23:10.472Z"
   },
   {
    "duration": 20,
    "start_time": "2022-05-16T08:23:10.486Z"
   },
   {
    "duration": 56,
    "start_time": "2022-05-16T08:23:10.509Z"
   },
   {
    "duration": 13,
    "start_time": "2022-05-16T08:23:10.568Z"
   },
   {
    "duration": 23,
    "start_time": "2022-05-16T08:23:10.583Z"
   },
   {
    "duration": 61,
    "start_time": "2022-05-16T08:23:10.608Z"
   },
   {
    "duration": 18,
    "start_time": "2022-05-16T08:23:10.671Z"
   },
   {
    "duration": 7,
    "start_time": "2022-05-16T08:23:10.695Z"
   },
   {
    "duration": 79,
    "start_time": "2022-05-16T08:23:10.704Z"
   },
   {
    "duration": 38,
    "start_time": "2022-05-16T08:23:10.786Z"
   },
   {
    "duration": 39,
    "start_time": "2022-05-16T08:23:10.828Z"
   },
   {
    "duration": 21,
    "start_time": "2022-05-16T08:23:10.870Z"
   },
   {
    "duration": 0,
    "start_time": "2022-05-16T08:23:10.894Z"
   },
   {
    "duration": 0,
    "start_time": "2022-05-16T08:23:10.895Z"
   },
   {
    "duration": 0,
    "start_time": "2022-05-16T08:23:10.897Z"
   },
   {
    "duration": 0,
    "start_time": "2022-05-16T08:23:10.898Z"
   },
   {
    "duration": 0,
    "start_time": "2022-05-16T08:23:10.899Z"
   },
   {
    "duration": 30,
    "start_time": "2022-05-16T08:23:24.580Z"
   },
   {
    "duration": 27,
    "start_time": "2022-05-16T08:29:35.272Z"
   },
   {
    "duration": 29,
    "start_time": "2022-05-16T08:31:42.159Z"
   },
   {
    "duration": 30,
    "start_time": "2022-05-16T08:36:22.767Z"
   },
   {
    "duration": 44,
    "start_time": "2022-05-16T08:37:41.119Z"
   },
   {
    "duration": 41,
    "start_time": "2022-05-16T08:41:47.386Z"
   },
   {
    "duration": 28,
    "start_time": "2022-05-16T08:42:37.028Z"
   },
   {
    "duration": 18,
    "start_time": "2022-05-16T08:43:04.709Z"
   },
   {
    "duration": 15,
    "start_time": "2022-05-16T08:51:11.965Z"
   },
   {
    "duration": 19,
    "start_time": "2022-05-16T08:52:20.997Z"
   },
   {
    "duration": 90,
    "start_time": "2022-05-16T08:52:27.519Z"
   },
   {
    "duration": 12,
    "start_time": "2022-05-16T08:52:27.612Z"
   },
   {
    "duration": 28,
    "start_time": "2022-05-16T08:52:27.626Z"
   },
   {
    "duration": 11,
    "start_time": "2022-05-16T08:52:27.658Z"
   },
   {
    "duration": 10,
    "start_time": "2022-05-16T08:52:27.673Z"
   },
   {
    "duration": 12,
    "start_time": "2022-05-16T08:52:27.686Z"
   },
   {
    "duration": 8,
    "start_time": "2022-05-16T08:52:27.701Z"
   },
   {
    "duration": 47,
    "start_time": "2022-05-16T08:52:27.711Z"
   },
   {
    "duration": 19,
    "start_time": "2022-05-16T08:52:27.760Z"
   },
   {
    "duration": 13,
    "start_time": "2022-05-16T08:52:27.782Z"
   },
   {
    "duration": 23,
    "start_time": "2022-05-16T08:52:27.798Z"
   },
   {
    "duration": 26,
    "start_time": "2022-05-16T08:52:27.860Z"
   },
   {
    "duration": 63,
    "start_time": "2022-05-16T08:52:27.889Z"
   },
   {
    "duration": 13,
    "start_time": "2022-05-16T08:52:27.957Z"
   },
   {
    "duration": 24,
    "start_time": "2022-05-16T08:52:27.972Z"
   },
   {
    "duration": 9,
    "start_time": "2022-05-16T08:52:27.998Z"
   },
   {
    "duration": 44,
    "start_time": "2022-05-16T08:52:28.009Z"
   },
   {
    "duration": 16,
    "start_time": "2022-05-16T08:52:28.060Z"
   },
   {
    "duration": 15,
    "start_time": "2022-05-16T08:52:28.078Z"
   },
   {
    "duration": 9,
    "start_time": "2022-05-16T08:52:28.096Z"
   },
   {
    "duration": 16,
    "start_time": "2022-05-16T08:52:28.108Z"
   },
   {
    "duration": 34,
    "start_time": "2022-05-16T08:52:28.127Z"
   },
   {
    "duration": 26,
    "start_time": "2022-05-16T08:52:28.163Z"
   },
   {
    "duration": 13,
    "start_time": "2022-05-16T08:52:28.191Z"
   },
   {
    "duration": 21,
    "start_time": "2022-05-16T08:52:28.207Z"
   },
   {
    "duration": 39,
    "start_time": "2022-05-16T08:52:28.252Z"
   },
   {
    "duration": 18,
    "start_time": "2022-05-16T08:52:28.293Z"
   },
   {
    "duration": 11,
    "start_time": "2022-05-16T08:52:28.313Z"
   },
   {
    "duration": 60,
    "start_time": "2022-05-16T08:52:28.326Z"
   },
   {
    "duration": 18,
    "start_time": "2022-05-16T08:52:28.389Z"
   },
   {
    "duration": 60,
    "start_time": "2022-05-16T08:52:28.410Z"
   },
   {
    "duration": 29,
    "start_time": "2022-05-16T08:52:28.473Z"
   },
   {
    "duration": 6,
    "start_time": "2022-05-16T08:52:28.505Z"
   },
   {
    "duration": 10,
    "start_time": "2022-05-16T08:52:28.513Z"
   },
   {
    "duration": 44,
    "start_time": "2022-05-16T08:52:28.526Z"
   },
   {
    "duration": 12,
    "start_time": "2022-05-16T08:52:28.572Z"
   },
   {
    "duration": 4,
    "start_time": "2022-05-16T08:52:28.586Z"
   },
   {
    "duration": 13,
    "start_time": "2022-05-16T08:52:28.592Z"
   },
   {
    "duration": 11,
    "start_time": "2022-05-16T08:54:03.155Z"
   },
   {
    "duration": 9,
    "start_time": "2022-05-16T08:54:14.519Z"
   },
   {
    "duration": 9,
    "start_time": "2022-05-16T08:54:24.890Z"
   },
   {
    "duration": 89,
    "start_time": "2022-05-16T08:54:33.083Z"
   },
   {
    "duration": 11,
    "start_time": "2022-05-16T08:54:33.175Z"
   },
   {
    "duration": 14,
    "start_time": "2022-05-16T08:54:33.188Z"
   },
   {
    "duration": 9,
    "start_time": "2022-05-16T08:54:33.204Z"
   },
   {
    "duration": 39,
    "start_time": "2022-05-16T08:54:33.217Z"
   },
   {
    "duration": 15,
    "start_time": "2022-05-16T08:54:33.259Z"
   },
   {
    "duration": 6,
    "start_time": "2022-05-16T08:54:33.277Z"
   },
   {
    "duration": 10,
    "start_time": "2022-05-16T08:54:33.285Z"
   },
   {
    "duration": 10,
    "start_time": "2022-05-16T08:54:33.297Z"
   },
   {
    "duration": 60,
    "start_time": "2022-05-16T08:54:33.310Z"
   },
   {
    "duration": 23,
    "start_time": "2022-05-16T08:54:33.373Z"
   },
   {
    "duration": 25,
    "start_time": "2022-05-16T08:54:33.399Z"
   },
   {
    "duration": 56,
    "start_time": "2022-05-16T08:54:33.452Z"
   },
   {
    "duration": 10,
    "start_time": "2022-05-16T08:54:33.512Z"
   },
   {
    "duration": 52,
    "start_time": "2022-05-16T08:54:33.524Z"
   },
   {
    "duration": 10,
    "start_time": "2022-05-16T08:54:33.578Z"
   },
   {
    "duration": 20,
    "start_time": "2022-05-16T08:54:33.590Z"
   },
   {
    "duration": 43,
    "start_time": "2022-05-16T08:54:33.613Z"
   },
   {
    "duration": 13,
    "start_time": "2022-05-16T08:54:33.665Z"
   },
   {
    "duration": 12,
    "start_time": "2022-05-16T08:54:33.681Z"
   },
   {
    "duration": 18,
    "start_time": "2022-05-16T08:54:33.696Z"
   },
   {
    "duration": 14,
    "start_time": "2022-05-16T08:54:33.716Z"
   },
   {
    "duration": 19,
    "start_time": "2022-05-16T08:54:33.751Z"
   },
   {
    "duration": 30,
    "start_time": "2022-05-16T08:54:33.773Z"
   },
   {
    "duration": 24,
    "start_time": "2022-05-16T08:54:33.805Z"
   },
   {
    "duration": 59,
    "start_time": "2022-05-16T08:54:33.831Z"
   },
   {
    "duration": 19,
    "start_time": "2022-05-16T08:54:33.893Z"
   },
   {
    "duration": 5,
    "start_time": "2022-05-16T08:54:33.915Z"
   },
   {
    "duration": 61,
    "start_time": "2022-05-16T08:54:33.923Z"
   },
   {
    "duration": 18,
    "start_time": "2022-05-16T08:54:33.987Z"
   },
   {
    "duration": 17,
    "start_time": "2022-05-16T08:54:34.007Z"
   },
   {
    "duration": 37,
    "start_time": "2022-05-16T08:54:34.052Z"
   },
   {
    "duration": 8,
    "start_time": "2022-05-16T08:54:34.091Z"
   },
   {
    "duration": 8,
    "start_time": "2022-05-16T08:54:34.102Z"
   },
   {
    "duration": 48,
    "start_time": "2022-05-16T08:54:34.112Z"
   },
   {
    "duration": 26,
    "start_time": "2022-05-16T08:54:34.162Z"
   },
   {
    "duration": 3,
    "start_time": "2022-05-16T08:54:34.191Z"
   },
   {
    "duration": 17,
    "start_time": "2022-05-16T08:54:34.196Z"
   },
   {
    "duration": 32,
    "start_time": "2022-05-16T08:56:55.575Z"
   },
   {
    "duration": 14,
    "start_time": "2022-05-16T08:57:57.588Z"
   },
   {
    "duration": 34,
    "start_time": "2022-05-16T08:58:23.794Z"
   },
   {
    "duration": 21,
    "start_time": "2022-05-16T08:59:04.440Z"
   },
   {
    "duration": 34,
    "start_time": "2022-05-16T08:59:25.484Z"
   },
   {
    "duration": 16,
    "start_time": "2022-05-16T09:00:30.268Z"
   },
   {
    "duration": 91,
    "start_time": "2022-05-16T09:00:34.834Z"
   },
   {
    "duration": 37,
    "start_time": "2022-05-16T09:00:34.928Z"
   },
   {
    "duration": 6,
    "start_time": "2022-05-16T09:00:34.967Z"
   },
   {
    "duration": 7,
    "start_time": "2022-05-16T09:00:34.975Z"
   },
   {
    "duration": 10,
    "start_time": "2022-05-16T09:00:34.986Z"
   },
   {
    "duration": 53,
    "start_time": "2022-05-16T09:00:34.999Z"
   },
   {
    "duration": 11,
    "start_time": "2022-05-16T09:00:35.057Z"
   },
   {
    "duration": 10,
    "start_time": "2022-05-16T09:00:35.071Z"
   },
   {
    "duration": 11,
    "start_time": "2022-05-16T09:00:35.084Z"
   },
   {
    "duration": 13,
    "start_time": "2022-05-16T09:00:35.097Z"
   },
   {
    "duration": 22,
    "start_time": "2022-05-16T09:00:35.163Z"
   },
   {
    "duration": 26,
    "start_time": "2022-05-16T09:00:35.187Z"
   },
   {
    "duration": 75,
    "start_time": "2022-05-16T09:00:35.215Z"
   },
   {
    "duration": 10,
    "start_time": "2022-05-16T09:00:35.296Z"
   },
   {
    "duration": 52,
    "start_time": "2022-05-16T09:00:35.308Z"
   },
   {
    "duration": 11,
    "start_time": "2022-05-16T09:00:35.362Z"
   },
   {
    "duration": 22,
    "start_time": "2022-05-16T09:00:35.375Z"
   },
   {
    "duration": 5,
    "start_time": "2022-05-16T09:00:35.399Z"
   },
   {
    "duration": 13,
    "start_time": "2022-05-16T09:00:35.407Z"
   },
   {
    "duration": 36,
    "start_time": "2022-05-16T09:00:35.422Z"
   },
   {
    "duration": 12,
    "start_time": "2022-05-16T09:00:35.460Z"
   },
   {
    "duration": 16,
    "start_time": "2022-05-16T09:00:35.477Z"
   },
   {
    "duration": 23,
    "start_time": "2022-05-16T09:00:35.495Z"
   },
   {
    "duration": 41,
    "start_time": "2022-05-16T09:00:35.521Z"
   },
   {
    "duration": 40,
    "start_time": "2022-05-16T09:00:35.565Z"
   },
   {
    "duration": 44,
    "start_time": "2022-05-16T09:00:35.607Z"
   },
   {
    "duration": 33,
    "start_time": "2022-05-16T09:00:35.655Z"
   },
   {
    "duration": 20,
    "start_time": "2022-05-16T09:00:35.690Z"
   },
   {
    "duration": 50,
    "start_time": "2022-05-16T09:00:35.712Z"
   },
   {
    "duration": 35,
    "start_time": "2022-05-16T09:00:35.765Z"
   },
   {
    "duration": 40,
    "start_time": "2022-05-16T09:00:35.802Z"
   },
   {
    "duration": 48,
    "start_time": "2022-05-16T09:00:35.844Z"
   },
   {
    "duration": 11,
    "start_time": "2022-05-16T09:00:35.894Z"
   },
   {
    "duration": 34,
    "start_time": "2022-05-16T09:00:35.907Z"
   },
   {
    "duration": 28,
    "start_time": "2022-05-16T09:00:35.943Z"
   },
   {
    "duration": 15,
    "start_time": "2022-05-16T09:00:35.974Z"
   },
   {
    "duration": 6,
    "start_time": "2022-05-16T09:00:35.991Z"
   },
   {
    "duration": 18,
    "start_time": "2022-05-16T09:00:35.999Z"
   },
   {
    "duration": 14,
    "start_time": "2022-05-16T09:54:29.728Z"
   },
   {
    "duration": 10,
    "start_time": "2022-05-16T10:14:39.788Z"
   },
   {
    "duration": 11,
    "start_time": "2022-05-16T10:15:11.027Z"
   },
   {
    "duration": 11,
    "start_time": "2022-05-16T10:16:07.457Z"
   },
   {
    "duration": 15,
    "start_time": "2022-05-16T10:21:18.597Z"
   },
   {
    "duration": 16,
    "start_time": "2022-05-16T10:23:12.153Z"
   },
   {
    "duration": 16,
    "start_time": "2022-05-16T10:23:41.232Z"
   },
   {
    "duration": 13,
    "start_time": "2022-05-16T10:24:10.440Z"
   },
   {
    "duration": 16,
    "start_time": "2022-05-16T10:25:52.418Z"
   },
   {
    "duration": 94,
    "start_time": "2022-05-16T10:26:05.878Z"
   },
   {
    "duration": 342,
    "start_time": "2022-05-16T10:26:49.775Z"
   },
   {
    "duration": 8,
    "start_time": "2022-05-16T10:26:57.798Z"
   },
   {
    "duration": 9,
    "start_time": "2022-05-16T10:27:33.514Z"
   },
   {
    "duration": 10,
    "start_time": "2022-05-16T10:28:23.749Z"
   },
   {
    "duration": 29,
    "start_time": "2022-05-16T10:34:12.322Z"
   },
   {
    "duration": 32,
    "start_time": "2022-05-16T10:34:34.055Z"
   },
   {
    "duration": 39,
    "start_time": "2022-05-16T10:35:04.139Z"
   },
   {
    "duration": 33,
    "start_time": "2022-05-16T10:35:54.998Z"
   },
   {
    "duration": 1620,
    "start_time": "2022-05-16T11:13:33.046Z"
   },
   {
    "duration": 102,
    "start_time": "2022-05-16T11:13:53.750Z"
   },
   {
    "duration": 16,
    "start_time": "2022-05-16T11:13:53.856Z"
   },
   {
    "duration": 11,
    "start_time": "2022-05-16T11:13:53.875Z"
   },
   {
    "duration": 18,
    "start_time": "2022-05-16T11:13:53.891Z"
   },
   {
    "duration": 19,
    "start_time": "2022-05-16T11:13:53.912Z"
   },
   {
    "duration": 19,
    "start_time": "2022-05-16T11:13:53.951Z"
   },
   {
    "duration": 25,
    "start_time": "2022-05-16T11:13:53.972Z"
   },
   {
    "duration": 34,
    "start_time": "2022-05-16T11:13:53.999Z"
   },
   {
    "duration": 32,
    "start_time": "2022-05-16T11:13:54.035Z"
   },
   {
    "duration": 25,
    "start_time": "2022-05-16T11:13:54.073Z"
   },
   {
    "duration": 32,
    "start_time": "2022-05-16T11:13:54.101Z"
   },
   {
    "duration": 40,
    "start_time": "2022-05-16T11:13:54.135Z"
   },
   {
    "duration": 50,
    "start_time": "2022-05-16T11:13:54.177Z"
   },
   {
    "duration": 30,
    "start_time": "2022-05-16T11:13:54.229Z"
   },
   {
    "duration": 39,
    "start_time": "2022-05-16T11:13:54.263Z"
   },
   {
    "duration": 26,
    "start_time": "2022-05-16T11:13:54.305Z"
   },
   {
    "duration": 43,
    "start_time": "2022-05-16T11:13:54.333Z"
   },
   {
    "duration": 7,
    "start_time": "2022-05-16T11:13:54.378Z"
   },
   {
    "duration": 29,
    "start_time": "2022-05-16T11:13:54.387Z"
   },
   {
    "duration": 26,
    "start_time": "2022-05-16T11:13:54.418Z"
   },
   {
    "duration": 25,
    "start_time": "2022-05-16T11:13:54.446Z"
   },
   {
    "duration": 19,
    "start_time": "2022-05-16T11:13:54.474Z"
   },
   {
    "duration": 30,
    "start_time": "2022-05-16T11:13:54.495Z"
   },
   {
    "duration": 18,
    "start_time": "2022-05-16T11:13:54.527Z"
   },
   {
    "duration": 35,
    "start_time": "2022-05-16T11:13:54.547Z"
   },
   {
    "duration": 28,
    "start_time": "2022-05-16T11:13:54.584Z"
   },
   {
    "duration": 23,
    "start_time": "2022-05-16T11:13:54.614Z"
   },
   {
    "duration": 18,
    "start_time": "2022-05-16T11:13:54.655Z"
   },
   {
    "duration": 45,
    "start_time": "2022-05-16T11:13:54.675Z"
   },
   {
    "duration": 16,
    "start_time": "2022-05-16T11:13:54.722Z"
   },
   {
    "duration": 25,
    "start_time": "2022-05-16T11:13:54.740Z"
   },
   {
    "duration": 34,
    "start_time": "2022-05-16T11:13:54.769Z"
   },
   {
    "duration": 7,
    "start_time": "2022-05-16T11:13:54.806Z"
   },
   {
    "duration": 42,
    "start_time": "2022-05-16T11:13:54.815Z"
   },
   {
    "duration": 23,
    "start_time": "2022-05-16T11:13:54.861Z"
   },
   {
    "duration": 12,
    "start_time": "2022-05-16T11:13:54.886Z"
   },
   {
    "duration": 29,
    "start_time": "2022-05-16T11:13:54.900Z"
   },
   {
    "duration": 10,
    "start_time": "2022-05-16T11:13:54.931Z"
   },
   {
    "duration": 1575,
    "start_time": "2022-05-16T11:13:54.942Z"
   },
   {
    "duration": 2529,
    "start_time": "2022-05-16T11:14:41.839Z"
   },
   {
    "duration": 11,
    "start_time": "2022-05-16T11:24:02.264Z"
   },
   {
    "duration": 121,
    "start_time": "2022-05-16T11:24:21.769Z"
   },
   {
    "duration": 13,
    "start_time": "2022-05-16T11:24:21.894Z"
   },
   {
    "duration": 9,
    "start_time": "2022-05-16T11:24:21.909Z"
   },
   {
    "duration": 31,
    "start_time": "2022-05-16T11:24:21.921Z"
   },
   {
    "duration": 20,
    "start_time": "2022-05-16T11:24:21.958Z"
   },
   {
    "duration": 17,
    "start_time": "2022-05-16T11:24:21.980Z"
   },
   {
    "duration": 35,
    "start_time": "2022-05-16T11:24:22.000Z"
   },
   {
    "duration": 11,
    "start_time": "2022-05-16T11:24:22.037Z"
   },
   {
    "duration": 34,
    "start_time": "2022-05-16T11:24:22.051Z"
   },
   {
    "duration": 13,
    "start_time": "2022-05-16T11:24:22.088Z"
   },
   {
    "duration": 28,
    "start_time": "2022-05-16T11:24:22.104Z"
   },
   {
    "duration": 34,
    "start_time": "2022-05-16T11:24:22.151Z"
   },
   {
    "duration": 90,
    "start_time": "2022-05-16T11:24:22.188Z"
   },
   {
    "duration": 13,
    "start_time": "2022-05-16T11:24:22.283Z"
   },
   {
    "duration": 54,
    "start_time": "2022-05-16T11:24:22.298Z"
   },
   {
    "duration": 13,
    "start_time": "2022-05-16T11:24:22.354Z"
   },
   {
    "duration": 19,
    "start_time": "2022-05-16T11:24:22.370Z"
   },
   {
    "duration": 12,
    "start_time": "2022-05-16T11:24:22.391Z"
   },
   {
    "duration": 11,
    "start_time": "2022-05-16T11:24:22.406Z"
   },
   {
    "duration": 42,
    "start_time": "2022-05-16T11:24:22.419Z"
   },
   {
    "duration": 18,
    "start_time": "2022-05-16T11:24:22.464Z"
   },
   {
    "duration": 10,
    "start_time": "2022-05-16T11:24:22.484Z"
   },
   {
    "duration": 16,
    "start_time": "2022-05-16T11:24:22.496Z"
   },
   {
    "duration": 42,
    "start_time": "2022-05-16T11:24:22.514Z"
   },
   {
    "duration": 34,
    "start_time": "2022-05-16T11:24:22.561Z"
   },
   {
    "duration": 30,
    "start_time": "2022-05-16T11:24:22.597Z"
   },
   {
    "duration": 51,
    "start_time": "2022-05-16T11:24:22.629Z"
   },
   {
    "duration": 3,
    "start_time": "2022-05-16T11:24:22.682Z"
   },
   {
    "duration": 35,
    "start_time": "2022-05-16T11:24:22.687Z"
   },
   {
    "duration": 48,
    "start_time": "2022-05-16T11:24:22.724Z"
   },
   {
    "duration": 16,
    "start_time": "2022-05-16T11:24:22.774Z"
   },
   {
    "duration": 62,
    "start_time": "2022-05-16T11:24:22.792Z"
   },
   {
    "duration": 11,
    "start_time": "2022-05-16T11:24:22.858Z"
   },
   {
    "duration": 11,
    "start_time": "2022-05-16T11:24:22.873Z"
   },
   {
    "duration": 11,
    "start_time": "2022-05-16T11:24:22.887Z"
   },
   {
    "duration": 56,
    "start_time": "2022-05-16T11:24:22.901Z"
   },
   {
    "duration": 14,
    "start_time": "2022-05-16T11:24:22.960Z"
   },
   {
    "duration": 7,
    "start_time": "2022-05-16T11:24:22.977Z"
   },
   {
    "duration": 11,
    "start_time": "2022-05-16T11:28:41.691Z"
   },
   {
    "duration": 11,
    "start_time": "2022-05-16T12:11:18.183Z"
   },
   {
    "duration": 15,
    "start_time": "2022-05-16T12:11:49.216Z"
   },
   {
    "duration": 38,
    "start_time": "2022-05-16T12:14:00.535Z"
   },
   {
    "duration": 15,
    "start_time": "2022-05-16T12:15:00.570Z"
   },
   {
    "duration": 17,
    "start_time": "2022-05-16T12:25:27.698Z"
   },
   {
    "duration": 177,
    "start_time": "2022-05-16T12:26:00.349Z"
   },
   {
    "duration": 15,
    "start_time": "2022-05-16T12:26:54.191Z"
   },
   {
    "duration": 24,
    "start_time": "2022-05-16T12:29:35.492Z"
   },
   {
    "duration": 18,
    "start_time": "2022-05-16T12:29:59.047Z"
   },
   {
    "duration": 16,
    "start_time": "2022-05-16T12:30:56.888Z"
   },
   {
    "duration": 135,
    "start_time": "2022-05-16T12:47:13.170Z"
   },
   {
    "duration": 94,
    "start_time": "2022-05-16T12:47:25.029Z"
   },
   {
    "duration": 122,
    "start_time": "2022-05-16T12:47:34.662Z"
   },
   {
    "duration": 15,
    "start_time": "2022-05-16T12:47:46.679Z"
   },
   {
    "duration": 19,
    "start_time": "2022-05-16T12:50:52.873Z"
   },
   {
    "duration": 18,
    "start_time": "2022-05-16T12:51:53.583Z"
   },
   {
    "duration": 151,
    "start_time": "2022-05-16T12:57:44.883Z"
   },
   {
    "duration": 18,
    "start_time": "2022-05-16T12:59:00.017Z"
   },
   {
    "duration": 151,
    "start_time": "2022-05-16T13:00:29.694Z"
   },
   {
    "duration": 82,
    "start_time": "2022-05-16T13:00:37.516Z"
   },
   {
    "duration": 12,
    "start_time": "2022-05-16T13:00:37.601Z"
   },
   {
    "duration": 39,
    "start_time": "2022-05-16T13:00:37.615Z"
   },
   {
    "duration": 10,
    "start_time": "2022-05-16T13:00:37.656Z"
   },
   {
    "duration": 23,
    "start_time": "2022-05-16T13:00:37.669Z"
   },
   {
    "duration": 13,
    "start_time": "2022-05-16T13:00:37.694Z"
   },
   {
    "duration": 8,
    "start_time": "2022-05-16T13:00:37.710Z"
   },
   {
    "duration": 38,
    "start_time": "2022-05-16T13:00:37.720Z"
   },
   {
    "duration": 13,
    "start_time": "2022-05-16T13:00:37.760Z"
   },
   {
    "duration": 13,
    "start_time": "2022-05-16T13:00:37.775Z"
   },
   {
    "duration": 21,
    "start_time": "2022-05-16T13:00:37.790Z"
   },
   {
    "duration": 60,
    "start_time": "2022-05-16T13:00:37.814Z"
   },
   {
    "duration": 47,
    "start_time": "2022-05-16T13:00:37.876Z"
   },
   {
    "duration": 10,
    "start_time": "2022-05-16T13:00:37.952Z"
   },
   {
    "duration": 23,
    "start_time": "2022-05-16T13:00:37.964Z"
   },
   {
    "duration": 9,
    "start_time": "2022-05-16T13:00:37.989Z"
   },
   {
    "duration": 15,
    "start_time": "2022-05-16T13:00:38.001Z"
   },
   {
    "duration": 7,
    "start_time": "2022-05-16T13:00:38.053Z"
   },
   {
    "duration": 16,
    "start_time": "2022-05-16T13:00:38.062Z"
   },
   {
    "duration": 292,
    "start_time": "2022-05-16T13:00:38.080Z"
   },
   {
    "duration": 0,
    "start_time": "2022-05-16T13:00:38.374Z"
   },
   {
    "duration": 0,
    "start_time": "2022-05-16T13:00:38.376Z"
   },
   {
    "duration": 0,
    "start_time": "2022-05-16T13:00:38.378Z"
   },
   {
    "duration": 0,
    "start_time": "2022-05-16T13:00:38.379Z"
   },
   {
    "duration": 0,
    "start_time": "2022-05-16T13:00:38.380Z"
   },
   {
    "duration": 0,
    "start_time": "2022-05-16T13:00:38.382Z"
   },
   {
    "duration": 0,
    "start_time": "2022-05-16T13:00:38.383Z"
   },
   {
    "duration": 0,
    "start_time": "2022-05-16T13:00:38.384Z"
   },
   {
    "duration": 0,
    "start_time": "2022-05-16T13:00:38.385Z"
   },
   {
    "duration": 0,
    "start_time": "2022-05-16T13:00:38.386Z"
   },
   {
    "duration": 0,
    "start_time": "2022-05-16T13:00:38.387Z"
   },
   {
    "duration": 0,
    "start_time": "2022-05-16T13:00:38.389Z"
   },
   {
    "duration": 0,
    "start_time": "2022-05-16T13:00:38.390Z"
   },
   {
    "duration": 0,
    "start_time": "2022-05-16T13:00:38.391Z"
   },
   {
    "duration": 0,
    "start_time": "2022-05-16T13:00:38.393Z"
   },
   {
    "duration": 0,
    "start_time": "2022-05-16T13:00:38.394Z"
   },
   {
    "duration": 0,
    "start_time": "2022-05-16T13:00:38.396Z"
   },
   {
    "duration": 0,
    "start_time": "2022-05-16T13:00:38.398Z"
   },
   {
    "duration": 0,
    "start_time": "2022-05-16T13:00:38.400Z"
   },
   {
    "duration": 0,
    "start_time": "2022-05-16T13:00:38.401Z"
   },
   {
    "duration": 0,
    "start_time": "2022-05-16T13:00:38.402Z"
   },
   {
    "duration": 0,
    "start_time": "2022-05-16T13:00:38.404Z"
   },
   {
    "duration": 0,
    "start_time": "2022-05-16T13:00:38.406Z"
   },
   {
    "duration": 15,
    "start_time": "2022-05-16T13:01:05.919Z"
   },
   {
    "duration": 85,
    "start_time": "2022-05-16T13:01:09.507Z"
   },
   {
    "duration": 11,
    "start_time": "2022-05-16T13:01:09.595Z"
   },
   {
    "duration": 22,
    "start_time": "2022-05-16T13:01:09.608Z"
   },
   {
    "duration": 6,
    "start_time": "2022-05-16T13:01:09.653Z"
   },
   {
    "duration": 34,
    "start_time": "2022-05-16T13:01:09.661Z"
   },
   {
    "duration": 23,
    "start_time": "2022-05-16T13:01:09.697Z"
   },
   {
    "duration": 18,
    "start_time": "2022-05-16T13:01:09.722Z"
   },
   {
    "duration": 19,
    "start_time": "2022-05-16T13:01:09.742Z"
   },
   {
    "duration": 14,
    "start_time": "2022-05-16T13:01:09.763Z"
   },
   {
    "duration": 23,
    "start_time": "2022-05-16T13:01:09.781Z"
   },
   {
    "duration": 23,
    "start_time": "2022-05-16T13:01:09.806Z"
   },
   {
    "duration": 40,
    "start_time": "2022-05-16T13:01:09.831Z"
   },
   {
    "duration": 50,
    "start_time": "2022-05-16T13:01:09.873Z"
   },
   {
    "duration": 29,
    "start_time": "2022-05-16T13:01:09.925Z"
   },
   {
    "duration": 42,
    "start_time": "2022-05-16T13:01:09.957Z"
   },
   {
    "duration": 22,
    "start_time": "2022-05-16T13:01:10.002Z"
   },
   {
    "duration": 22,
    "start_time": "2022-05-16T13:01:10.026Z"
   },
   {
    "duration": 17,
    "start_time": "2022-05-16T13:01:10.050Z"
   },
   {
    "duration": 38,
    "start_time": "2022-05-16T13:01:10.070Z"
   },
   {
    "duration": 139,
    "start_time": "2022-05-16T13:01:10.110Z"
   },
   {
    "duration": 0,
    "start_time": "2022-05-16T13:01:10.252Z"
   },
   {
    "duration": 0,
    "start_time": "2022-05-16T13:01:10.254Z"
   },
   {
    "duration": 0,
    "start_time": "2022-05-16T13:01:10.256Z"
   },
   {
    "duration": 0,
    "start_time": "2022-05-16T13:01:10.258Z"
   },
   {
    "duration": 0,
    "start_time": "2022-05-16T13:01:10.260Z"
   },
   {
    "duration": 0,
    "start_time": "2022-05-16T13:01:10.261Z"
   },
   {
    "duration": 0,
    "start_time": "2022-05-16T13:01:10.263Z"
   },
   {
    "duration": 0,
    "start_time": "2022-05-16T13:01:10.264Z"
   },
   {
    "duration": 0,
    "start_time": "2022-05-16T13:01:10.266Z"
   },
   {
    "duration": 0,
    "start_time": "2022-05-16T13:01:10.267Z"
   },
   {
    "duration": 0,
    "start_time": "2022-05-16T13:01:10.268Z"
   },
   {
    "duration": 0,
    "start_time": "2022-05-16T13:01:10.270Z"
   },
   {
    "duration": 0,
    "start_time": "2022-05-16T13:01:10.272Z"
   },
   {
    "duration": 0,
    "start_time": "2022-05-16T13:01:10.273Z"
   },
   {
    "duration": 0,
    "start_time": "2022-05-16T13:01:10.275Z"
   },
   {
    "duration": 0,
    "start_time": "2022-05-16T13:01:10.277Z"
   },
   {
    "duration": 0,
    "start_time": "2022-05-16T13:01:10.279Z"
   },
   {
    "duration": 0,
    "start_time": "2022-05-16T13:01:10.280Z"
   },
   {
    "duration": 0,
    "start_time": "2022-05-16T13:01:10.281Z"
   },
   {
    "duration": 0,
    "start_time": "2022-05-16T13:01:10.283Z"
   },
   {
    "duration": 0,
    "start_time": "2022-05-16T13:01:10.284Z"
   },
   {
    "duration": 0,
    "start_time": "2022-05-16T13:01:10.285Z"
   },
   {
    "duration": 0,
    "start_time": "2022-05-16T13:01:10.287Z"
   },
   {
    "duration": 114,
    "start_time": "2022-05-16T13:01:16.451Z"
   },
   {
    "duration": 11,
    "start_time": "2022-05-16T13:01:16.567Z"
   },
   {
    "duration": 12,
    "start_time": "2022-05-16T13:01:16.581Z"
   },
   {
    "duration": 10,
    "start_time": "2022-05-16T13:01:16.595Z"
   },
   {
    "duration": 49,
    "start_time": "2022-05-16T13:01:16.609Z"
   },
   {
    "duration": 14,
    "start_time": "2022-05-16T13:01:16.660Z"
   },
   {
    "duration": 11,
    "start_time": "2022-05-16T13:01:16.677Z"
   },
   {
    "duration": 10,
    "start_time": "2022-05-16T13:01:16.691Z"
   },
   {
    "duration": 53,
    "start_time": "2022-05-16T13:01:16.704Z"
   },
   {
    "duration": 15,
    "start_time": "2022-05-16T13:01:16.760Z"
   },
   {
    "duration": 25,
    "start_time": "2022-05-16T13:01:16.777Z"
   },
   {
    "duration": 57,
    "start_time": "2022-05-16T13:01:16.804Z"
   },
   {
    "duration": 50,
    "start_time": "2022-05-16T13:01:16.863Z"
   },
   {
    "duration": 10,
    "start_time": "2022-05-16T13:01:16.917Z"
   },
   {
    "duration": 23,
    "start_time": "2022-05-16T13:01:16.952Z"
   },
   {
    "duration": 11,
    "start_time": "2022-05-16T13:01:16.977Z"
   },
   {
    "duration": 15,
    "start_time": "2022-05-16T13:01:16.991Z"
   },
   {
    "duration": 6,
    "start_time": "2022-05-16T13:01:17.008Z"
   },
   {
    "duration": 11,
    "start_time": "2022-05-16T13:01:17.051Z"
   },
   {
    "duration": 99,
    "start_time": "2022-05-16T13:01:17.065Z"
   },
   {
    "duration": 0,
    "start_time": "2022-05-16T13:01:17.167Z"
   },
   {
    "duration": 0,
    "start_time": "2022-05-16T13:01:17.168Z"
   },
   {
    "duration": 1,
    "start_time": "2022-05-16T13:01:17.169Z"
   },
   {
    "duration": 0,
    "start_time": "2022-05-16T13:01:17.171Z"
   },
   {
    "duration": 0,
    "start_time": "2022-05-16T13:01:17.173Z"
   },
   {
    "duration": 0,
    "start_time": "2022-05-16T13:01:17.175Z"
   },
   {
    "duration": 0,
    "start_time": "2022-05-16T13:01:17.176Z"
   },
   {
    "duration": 0,
    "start_time": "2022-05-16T13:01:17.178Z"
   },
   {
    "duration": 0,
    "start_time": "2022-05-16T13:01:17.180Z"
   },
   {
    "duration": 0,
    "start_time": "2022-05-16T13:01:17.181Z"
   },
   {
    "duration": 0,
    "start_time": "2022-05-16T13:01:17.183Z"
   },
   {
    "duration": 0,
    "start_time": "2022-05-16T13:01:17.184Z"
   },
   {
    "duration": 0,
    "start_time": "2022-05-16T13:01:17.186Z"
   },
   {
    "duration": 0,
    "start_time": "2022-05-16T13:01:17.188Z"
   },
   {
    "duration": 0,
    "start_time": "2022-05-16T13:01:17.189Z"
   },
   {
    "duration": 0,
    "start_time": "2022-05-16T13:01:17.191Z"
   },
   {
    "duration": 0,
    "start_time": "2022-05-16T13:01:17.192Z"
   },
   {
    "duration": 0,
    "start_time": "2022-05-16T13:01:17.194Z"
   },
   {
    "duration": 0,
    "start_time": "2022-05-16T13:01:17.195Z"
   },
   {
    "duration": 0,
    "start_time": "2022-05-16T13:01:17.196Z"
   },
   {
    "duration": 0,
    "start_time": "2022-05-16T13:01:17.198Z"
   },
   {
    "duration": 0,
    "start_time": "2022-05-16T13:01:17.199Z"
   },
   {
    "duration": 0,
    "start_time": "2022-05-16T13:01:17.200Z"
   },
   {
    "duration": 85,
    "start_time": "2022-05-16T13:01:33.985Z"
   },
   {
    "duration": 12,
    "start_time": "2022-05-16T13:01:34.073Z"
   },
   {
    "duration": 16,
    "start_time": "2022-05-16T13:01:34.087Z"
   },
   {
    "duration": 22,
    "start_time": "2022-05-16T13:01:34.105Z"
   },
   {
    "duration": 27,
    "start_time": "2022-05-16T13:01:34.129Z"
   },
   {
    "duration": 25,
    "start_time": "2022-05-16T13:01:34.158Z"
   },
   {
    "duration": 28,
    "start_time": "2022-05-16T13:01:34.185Z"
   },
   {
    "duration": 17,
    "start_time": "2022-05-16T13:01:34.215Z"
   },
   {
    "duration": 16,
    "start_time": "2022-05-16T13:01:34.234Z"
   },
   {
    "duration": 12,
    "start_time": "2022-05-16T13:01:34.254Z"
   },
   {
    "duration": 37,
    "start_time": "2022-05-16T13:01:34.268Z"
   },
   {
    "duration": 25,
    "start_time": "2022-05-16T13:01:34.307Z"
   },
   {
    "duration": 62,
    "start_time": "2022-05-16T13:01:34.334Z"
   },
   {
    "duration": 9,
    "start_time": "2022-05-16T13:01:34.398Z"
   },
   {
    "duration": 44,
    "start_time": "2022-05-16T13:01:34.409Z"
   },
   {
    "duration": 9,
    "start_time": "2022-05-16T13:01:34.455Z"
   },
   {
    "duration": 32,
    "start_time": "2022-05-16T13:01:34.466Z"
   },
   {
    "duration": 18,
    "start_time": "2022-05-16T13:01:34.500Z"
   },
   {
    "duration": 29,
    "start_time": "2022-05-16T13:01:34.520Z"
   },
   {
    "duration": 121,
    "start_time": "2022-05-16T13:01:34.551Z"
   },
   {
    "duration": 0,
    "start_time": "2022-05-16T13:01:34.675Z"
   },
   {
    "duration": 0,
    "start_time": "2022-05-16T13:01:34.676Z"
   },
   {
    "duration": 0,
    "start_time": "2022-05-16T13:01:34.678Z"
   },
   {
    "duration": 0,
    "start_time": "2022-05-16T13:01:34.679Z"
   },
   {
    "duration": 0,
    "start_time": "2022-05-16T13:01:34.681Z"
   },
   {
    "duration": 0,
    "start_time": "2022-05-16T13:01:34.682Z"
   },
   {
    "duration": 0,
    "start_time": "2022-05-16T13:01:34.684Z"
   },
   {
    "duration": 0,
    "start_time": "2022-05-16T13:01:34.685Z"
   },
   {
    "duration": 0,
    "start_time": "2022-05-16T13:01:34.687Z"
   },
   {
    "duration": 0,
    "start_time": "2022-05-16T13:01:34.688Z"
   },
   {
    "duration": 0,
    "start_time": "2022-05-16T13:01:34.690Z"
   },
   {
    "duration": 0,
    "start_time": "2022-05-16T13:01:34.691Z"
   },
   {
    "duration": 0,
    "start_time": "2022-05-16T13:01:34.693Z"
   },
   {
    "duration": 1,
    "start_time": "2022-05-16T13:01:34.694Z"
   },
   {
    "duration": 0,
    "start_time": "2022-05-16T13:01:34.696Z"
   },
   {
    "duration": 0,
    "start_time": "2022-05-16T13:01:34.697Z"
   },
   {
    "duration": 0,
    "start_time": "2022-05-16T13:01:34.699Z"
   },
   {
    "duration": 0,
    "start_time": "2022-05-16T13:01:34.700Z"
   },
   {
    "duration": 0,
    "start_time": "2022-05-16T13:01:34.702Z"
   },
   {
    "duration": 0,
    "start_time": "2022-05-16T13:01:34.703Z"
   },
   {
    "duration": 0,
    "start_time": "2022-05-16T13:01:34.705Z"
   },
   {
    "duration": 0,
    "start_time": "2022-05-16T13:01:34.706Z"
   },
   {
    "duration": 14,
    "start_time": "2022-05-16T13:01:52.096Z"
   },
   {
    "duration": 93,
    "start_time": "2022-05-16T13:02:10.128Z"
   },
   {
    "duration": 39,
    "start_time": "2022-05-16T13:02:10.224Z"
   },
   {
    "duration": 8,
    "start_time": "2022-05-16T13:02:10.266Z"
   },
   {
    "duration": 7,
    "start_time": "2022-05-16T13:02:10.278Z"
   },
   {
    "duration": 12,
    "start_time": "2022-05-16T13:02:10.288Z"
   },
   {
    "duration": 63,
    "start_time": "2022-05-16T13:02:10.302Z"
   },
   {
    "duration": 9,
    "start_time": "2022-05-16T13:02:10.367Z"
   },
   {
    "duration": 14,
    "start_time": "2022-05-16T13:02:10.379Z"
   },
   {
    "duration": 12,
    "start_time": "2022-05-16T13:02:10.396Z"
   },
   {
    "duration": 53,
    "start_time": "2022-05-16T13:02:10.412Z"
   },
   {
    "duration": 26,
    "start_time": "2022-05-16T13:02:10.468Z"
   },
   {
    "duration": 67,
    "start_time": "2022-05-16T13:02:10.497Z"
   },
   {
    "duration": 47,
    "start_time": "2022-05-16T13:02:10.567Z"
   },
   {
    "duration": 8,
    "start_time": "2022-05-16T13:02:10.617Z"
   },
   {
    "duration": 43,
    "start_time": "2022-05-16T13:02:10.627Z"
   },
   {
    "duration": 11,
    "start_time": "2022-05-16T13:02:10.672Z"
   },
   {
    "duration": 14,
    "start_time": "2022-05-16T13:02:10.685Z"
   },
   {
    "duration": 6,
    "start_time": "2022-05-16T13:02:10.701Z"
   },
   {
    "duration": 48,
    "start_time": "2022-05-16T13:02:10.710Z"
   },
   {
    "duration": 147,
    "start_time": "2022-05-16T13:02:10.760Z"
   },
   {
    "duration": 0,
    "start_time": "2022-05-16T13:02:10.909Z"
   },
   {
    "duration": 0,
    "start_time": "2022-05-16T13:02:10.911Z"
   },
   {
    "duration": 1,
    "start_time": "2022-05-16T13:02:10.912Z"
   },
   {
    "duration": 0,
    "start_time": "2022-05-16T13:02:10.914Z"
   },
   {
    "duration": 0,
    "start_time": "2022-05-16T13:02:10.916Z"
   },
   {
    "duration": 0,
    "start_time": "2022-05-16T13:02:10.917Z"
   },
   {
    "duration": 0,
    "start_time": "2022-05-16T13:02:10.918Z"
   },
   {
    "duration": 0,
    "start_time": "2022-05-16T13:02:10.920Z"
   },
   {
    "duration": 0,
    "start_time": "2022-05-16T13:02:10.922Z"
   },
   {
    "duration": 0,
    "start_time": "2022-05-16T13:02:10.923Z"
   },
   {
    "duration": 0,
    "start_time": "2022-05-16T13:02:10.925Z"
   },
   {
    "duration": 0,
    "start_time": "2022-05-16T13:02:10.926Z"
   },
   {
    "duration": 0,
    "start_time": "2022-05-16T13:02:10.927Z"
   },
   {
    "duration": 1,
    "start_time": "2022-05-16T13:02:10.928Z"
   },
   {
    "duration": 0,
    "start_time": "2022-05-16T13:02:10.931Z"
   },
   {
    "duration": 0,
    "start_time": "2022-05-16T13:02:10.932Z"
   },
   {
    "duration": 0,
    "start_time": "2022-05-16T13:02:10.934Z"
   },
   {
    "duration": 0,
    "start_time": "2022-05-16T13:02:10.936Z"
   },
   {
    "duration": 0,
    "start_time": "2022-05-16T13:02:10.937Z"
   },
   {
    "duration": 0,
    "start_time": "2022-05-16T13:02:10.938Z"
   },
   {
    "duration": 0,
    "start_time": "2022-05-16T13:02:10.940Z"
   },
   {
    "duration": 0,
    "start_time": "2022-05-16T13:02:10.941Z"
   },
   {
    "duration": 14,
    "start_time": "2022-05-16T13:02:23.218Z"
   },
   {
    "duration": 85,
    "start_time": "2022-05-16T13:02:33.445Z"
   },
   {
    "duration": 27,
    "start_time": "2022-05-16T13:02:33.533Z"
   },
   {
    "duration": 8,
    "start_time": "2022-05-16T13:02:33.563Z"
   },
   {
    "duration": 8,
    "start_time": "2022-05-16T13:02:33.574Z"
   },
   {
    "duration": 11,
    "start_time": "2022-05-16T13:02:33.587Z"
   },
   {
    "duration": 59,
    "start_time": "2022-05-16T13:02:33.601Z"
   },
   {
    "duration": 7,
    "start_time": "2022-05-16T13:02:33.663Z"
   },
   {
    "duration": 9,
    "start_time": "2022-05-16T13:02:33.673Z"
   },
   {
    "duration": 18,
    "start_time": "2022-05-16T13:02:33.684Z"
   },
   {
    "duration": 48,
    "start_time": "2022-05-16T13:02:33.705Z"
   },
   {
    "duration": 23,
    "start_time": "2022-05-16T13:02:33.755Z"
   },
   {
    "duration": 26,
    "start_time": "2022-05-16T13:02:33.780Z"
   },
   {
    "duration": 87,
    "start_time": "2022-05-16T13:02:33.808Z"
   },
   {
    "duration": 9,
    "start_time": "2022-05-16T13:02:33.900Z"
   },
   {
    "duration": 44,
    "start_time": "2022-05-16T13:02:33.911Z"
   },
   {
    "duration": 9,
    "start_time": "2022-05-16T13:02:33.957Z"
   },
   {
    "duration": 15,
    "start_time": "2022-05-16T13:02:33.968Z"
   },
   {
    "duration": 9,
    "start_time": "2022-05-16T13:02:33.985Z"
   },
   {
    "duration": 10,
    "start_time": "2022-05-16T13:02:33.996Z"
   },
   {
    "duration": 93,
    "start_time": "2022-05-16T13:02:34.008Z"
   },
   {
    "duration": 0,
    "start_time": "2022-05-16T13:02:34.103Z"
   },
   {
    "duration": 0,
    "start_time": "2022-05-16T13:02:34.106Z"
   },
   {
    "duration": 0,
    "start_time": "2022-05-16T13:02:34.108Z"
   },
   {
    "duration": 0,
    "start_time": "2022-05-16T13:02:34.110Z"
   },
   {
    "duration": 0,
    "start_time": "2022-05-16T13:02:34.111Z"
   },
   {
    "duration": 0,
    "start_time": "2022-05-16T13:02:34.112Z"
   },
   {
    "duration": 0,
    "start_time": "2022-05-16T13:02:34.114Z"
   },
   {
    "duration": 0,
    "start_time": "2022-05-16T13:02:34.115Z"
   },
   {
    "duration": 0,
    "start_time": "2022-05-16T13:02:34.116Z"
   },
   {
    "duration": 0,
    "start_time": "2022-05-16T13:02:34.118Z"
   },
   {
    "duration": 0,
    "start_time": "2022-05-16T13:02:34.119Z"
   },
   {
    "duration": 0,
    "start_time": "2022-05-16T13:02:34.121Z"
   },
   {
    "duration": 0,
    "start_time": "2022-05-16T13:02:34.122Z"
   },
   {
    "duration": 0,
    "start_time": "2022-05-16T13:02:34.125Z"
   },
   {
    "duration": 0,
    "start_time": "2022-05-16T13:02:34.126Z"
   },
   {
    "duration": 0,
    "start_time": "2022-05-16T13:02:34.128Z"
   },
   {
    "duration": 0,
    "start_time": "2022-05-16T13:02:34.129Z"
   },
   {
    "duration": 0,
    "start_time": "2022-05-16T13:02:34.131Z"
   },
   {
    "duration": 0,
    "start_time": "2022-05-16T13:02:34.132Z"
   },
   {
    "duration": 0,
    "start_time": "2022-05-16T13:02:34.134Z"
   },
   {
    "duration": 0,
    "start_time": "2022-05-16T13:02:34.135Z"
   },
   {
    "duration": 0,
    "start_time": "2022-05-16T13:02:34.137Z"
   },
   {
    "duration": 15,
    "start_time": "2022-05-16T13:03:07.071Z"
   },
   {
    "duration": 92,
    "start_time": "2022-05-16T13:03:22.011Z"
   },
   {
    "duration": 13,
    "start_time": "2022-05-16T13:03:22.106Z"
   },
   {
    "duration": 9,
    "start_time": "2022-05-16T13:03:22.152Z"
   },
   {
    "duration": 7,
    "start_time": "2022-05-16T13:03:22.165Z"
   },
   {
    "duration": 14,
    "start_time": "2022-05-16T13:03:22.174Z"
   },
   {
    "duration": 18,
    "start_time": "2022-05-16T13:03:22.190Z"
   },
   {
    "duration": 43,
    "start_time": "2022-05-16T13:03:22.210Z"
   },
   {
    "duration": 10,
    "start_time": "2022-05-16T13:03:22.255Z"
   },
   {
    "duration": 9,
    "start_time": "2022-05-16T13:03:22.268Z"
   },
   {
    "duration": 12,
    "start_time": "2022-05-16T13:03:22.281Z"
   },
   {
    "duration": 57,
    "start_time": "2022-05-16T13:03:22.295Z"
   },
   {
    "duration": 26,
    "start_time": "2022-05-16T13:03:22.354Z"
   },
   {
    "duration": 71,
    "start_time": "2022-05-16T13:03:22.382Z"
   },
   {
    "duration": 9,
    "start_time": "2022-05-16T13:03:22.455Z"
   },
   {
    "duration": 29,
    "start_time": "2022-05-16T13:03:22.466Z"
   },
   {
    "duration": 14,
    "start_time": "2022-05-16T13:03:22.497Z"
   },
   {
    "duration": 15,
    "start_time": "2022-05-16T13:03:22.513Z"
   },
   {
    "duration": 27,
    "start_time": "2022-05-16T13:03:22.530Z"
   },
   {
    "duration": 13,
    "start_time": "2022-05-16T13:03:22.559Z"
   },
   {
    "duration": 190,
    "start_time": "2022-05-16T13:03:22.574Z"
   },
   {
    "duration": 0,
    "start_time": "2022-05-16T13:03:22.766Z"
   },
   {
    "duration": 0,
    "start_time": "2022-05-16T13:03:22.768Z"
   },
   {
    "duration": 0,
    "start_time": "2022-05-16T13:03:22.771Z"
   },
   {
    "duration": 0,
    "start_time": "2022-05-16T13:03:22.772Z"
   },
   {
    "duration": 0,
    "start_time": "2022-05-16T13:03:22.774Z"
   },
   {
    "duration": 0,
    "start_time": "2022-05-16T13:03:22.775Z"
   },
   {
    "duration": 0,
    "start_time": "2022-05-16T13:03:22.777Z"
   },
   {
    "duration": 0,
    "start_time": "2022-05-16T13:03:22.779Z"
   },
   {
    "duration": 0,
    "start_time": "2022-05-16T13:03:22.781Z"
   },
   {
    "duration": 0,
    "start_time": "2022-05-16T13:03:22.782Z"
   },
   {
    "duration": 0,
    "start_time": "2022-05-16T13:03:22.784Z"
   },
   {
    "duration": 0,
    "start_time": "2022-05-16T13:03:22.786Z"
   },
   {
    "duration": 0,
    "start_time": "2022-05-16T13:03:22.788Z"
   },
   {
    "duration": 0,
    "start_time": "2022-05-16T13:03:22.790Z"
   },
   {
    "duration": 0,
    "start_time": "2022-05-16T13:03:22.792Z"
   },
   {
    "duration": 0,
    "start_time": "2022-05-16T13:03:22.794Z"
   },
   {
    "duration": 0,
    "start_time": "2022-05-16T13:03:22.796Z"
   },
   {
    "duration": 0,
    "start_time": "2022-05-16T13:03:22.798Z"
   },
   {
    "duration": 0,
    "start_time": "2022-05-16T13:03:22.800Z"
   },
   {
    "duration": 0,
    "start_time": "2022-05-16T13:03:22.802Z"
   },
   {
    "duration": 0,
    "start_time": "2022-05-16T13:03:22.853Z"
   },
   {
    "duration": 13,
    "start_time": "2022-05-16T13:03:34.319Z"
   },
   {
    "duration": 14,
    "start_time": "2022-05-16T13:04:12.585Z"
   },
   {
    "duration": 88,
    "start_time": "2022-05-16T13:04:17.491Z"
   },
   {
    "duration": 12,
    "start_time": "2022-05-16T13:04:17.582Z"
   },
   {
    "duration": 9,
    "start_time": "2022-05-16T13:04:17.596Z"
   },
   {
    "duration": 44,
    "start_time": "2022-05-16T13:04:17.608Z"
   },
   {
    "duration": 11,
    "start_time": "2022-05-16T13:04:17.654Z"
   },
   {
    "duration": 19,
    "start_time": "2022-05-16T13:04:17.667Z"
   },
   {
    "duration": 6,
    "start_time": "2022-05-16T13:04:17.688Z"
   },
   {
    "duration": 12,
    "start_time": "2022-05-16T13:04:17.696Z"
   },
   {
    "duration": 47,
    "start_time": "2022-05-16T13:04:17.710Z"
   },
   {
    "duration": 13,
    "start_time": "2022-05-16T13:04:17.762Z"
   },
   {
    "duration": 23,
    "start_time": "2022-05-16T13:04:17.777Z"
   },
   {
    "duration": 59,
    "start_time": "2022-05-16T13:04:17.802Z"
   },
   {
    "duration": 54,
    "start_time": "2022-05-16T13:04:17.864Z"
   },
   {
    "duration": 38,
    "start_time": "2022-05-16T13:04:17.921Z"
   },
   {
    "duration": 63,
    "start_time": "2022-05-16T13:04:17.962Z"
   },
   {
    "duration": 43,
    "start_time": "2022-05-16T13:04:18.027Z"
   },
   {
    "duration": 48,
    "start_time": "2022-05-16T13:04:18.073Z"
   },
   {
    "duration": 39,
    "start_time": "2022-05-16T13:04:18.123Z"
   },
   {
    "duration": 48,
    "start_time": "2022-05-16T13:04:18.165Z"
   },
   {
    "duration": 155,
    "start_time": "2022-05-16T13:04:18.216Z"
   },
   {
    "duration": 0,
    "start_time": "2022-05-16T13:04:18.375Z"
   },
   {
    "duration": 0,
    "start_time": "2022-05-16T13:04:18.377Z"
   },
   {
    "duration": 0,
    "start_time": "2022-05-16T13:04:18.379Z"
   },
   {
    "duration": 0,
    "start_time": "2022-05-16T13:04:18.380Z"
   },
   {
    "duration": 0,
    "start_time": "2022-05-16T13:04:18.381Z"
   },
   {
    "duration": 0,
    "start_time": "2022-05-16T13:04:18.383Z"
   },
   {
    "duration": 0,
    "start_time": "2022-05-16T13:04:18.385Z"
   },
   {
    "duration": 0,
    "start_time": "2022-05-16T13:04:18.386Z"
   },
   {
    "duration": 0,
    "start_time": "2022-05-16T13:04:18.388Z"
   },
   {
    "duration": 0,
    "start_time": "2022-05-16T13:04:18.389Z"
   },
   {
    "duration": 0,
    "start_time": "2022-05-16T13:04:18.391Z"
   },
   {
    "duration": 0,
    "start_time": "2022-05-16T13:04:18.392Z"
   },
   {
    "duration": 0,
    "start_time": "2022-05-16T13:04:18.393Z"
   },
   {
    "duration": 0,
    "start_time": "2022-05-16T13:04:18.395Z"
   },
   {
    "duration": 0,
    "start_time": "2022-05-16T13:04:18.396Z"
   },
   {
    "duration": 0,
    "start_time": "2022-05-16T13:04:18.397Z"
   },
   {
    "duration": 0,
    "start_time": "2022-05-16T13:04:18.399Z"
   },
   {
    "duration": 0,
    "start_time": "2022-05-16T13:04:18.400Z"
   },
   {
    "duration": 0,
    "start_time": "2022-05-16T13:04:18.401Z"
   },
   {
    "duration": 0,
    "start_time": "2022-05-16T13:04:18.402Z"
   },
   {
    "duration": 0,
    "start_time": "2022-05-16T13:04:18.404Z"
   },
   {
    "duration": 15,
    "start_time": "2022-05-16T13:04:30.811Z"
   },
   {
    "duration": 82,
    "start_time": "2022-05-16T13:04:37.074Z"
   },
   {
    "duration": 12,
    "start_time": "2022-05-16T13:04:37.159Z"
   },
   {
    "duration": 7,
    "start_time": "2022-05-16T13:04:37.173Z"
   },
   {
    "duration": 6,
    "start_time": "2022-05-16T13:04:37.182Z"
   },
   {
    "duration": 10,
    "start_time": "2022-05-16T13:04:37.190Z"
   },
   {
    "duration": 61,
    "start_time": "2022-05-16T13:04:37.202Z"
   },
   {
    "duration": 7,
    "start_time": "2022-05-16T13:04:37.265Z"
   },
   {
    "duration": 11,
    "start_time": "2022-05-16T13:04:37.274Z"
   },
   {
    "duration": 11,
    "start_time": "2022-05-16T13:04:37.288Z"
   },
   {
    "duration": 53,
    "start_time": "2022-05-16T13:04:37.303Z"
   },
   {
    "duration": 22,
    "start_time": "2022-05-16T13:04:37.358Z"
   },
   {
    "duration": 25,
    "start_time": "2022-05-16T13:04:37.382Z"
   },
   {
    "duration": 86,
    "start_time": "2022-05-16T13:04:37.409Z"
   },
   {
    "duration": 9,
    "start_time": "2022-05-16T13:04:37.497Z"
   },
   {
    "duration": 23,
    "start_time": "2022-05-16T13:04:37.508Z"
   },
   {
    "duration": 10,
    "start_time": "2022-05-16T13:04:37.552Z"
   },
   {
    "duration": 14,
    "start_time": "2022-05-16T13:04:37.564Z"
   },
   {
    "duration": 6,
    "start_time": "2022-05-16T13:04:37.580Z"
   },
   {
    "duration": 11,
    "start_time": "2022-05-16T13:04:37.588Z"
   },
   {
    "duration": 146,
    "start_time": "2022-05-16T13:04:37.601Z"
   },
   {
    "duration": 0,
    "start_time": "2022-05-16T13:04:37.749Z"
   },
   {
    "duration": 1,
    "start_time": "2022-05-16T13:04:37.751Z"
   },
   {
    "duration": 0,
    "start_time": "2022-05-16T13:04:37.753Z"
   },
   {
    "duration": 0,
    "start_time": "2022-05-16T13:04:37.754Z"
   },
   {
    "duration": 0,
    "start_time": "2022-05-16T13:04:37.756Z"
   },
   {
    "duration": 0,
    "start_time": "2022-05-16T13:04:37.757Z"
   },
   {
    "duration": 0,
    "start_time": "2022-05-16T13:04:37.759Z"
   },
   {
    "duration": 0,
    "start_time": "2022-05-16T13:04:37.760Z"
   },
   {
    "duration": 0,
    "start_time": "2022-05-16T13:04:37.762Z"
   },
   {
    "duration": 1,
    "start_time": "2022-05-16T13:04:37.763Z"
   },
   {
    "duration": 0,
    "start_time": "2022-05-16T13:04:37.765Z"
   },
   {
    "duration": 0,
    "start_time": "2022-05-16T13:04:37.766Z"
   },
   {
    "duration": 0,
    "start_time": "2022-05-16T13:04:37.768Z"
   },
   {
    "duration": 0,
    "start_time": "2022-05-16T13:04:37.769Z"
   },
   {
    "duration": 0,
    "start_time": "2022-05-16T13:04:37.771Z"
   },
   {
    "duration": 0,
    "start_time": "2022-05-16T13:04:37.772Z"
   },
   {
    "duration": 0,
    "start_time": "2022-05-16T13:04:37.774Z"
   },
   {
    "duration": 0,
    "start_time": "2022-05-16T13:04:37.776Z"
   },
   {
    "duration": 0,
    "start_time": "2022-05-16T13:04:37.777Z"
   },
   {
    "duration": 0,
    "start_time": "2022-05-16T13:04:37.779Z"
   },
   {
    "duration": 0,
    "start_time": "2022-05-16T13:04:37.780Z"
   },
   {
    "duration": 13,
    "start_time": "2022-05-16T13:04:41.370Z"
   },
   {
    "duration": 18,
    "start_time": "2022-05-16T13:05:39.635Z"
   },
   {
    "duration": 15,
    "start_time": "2022-05-16T13:05:47.305Z"
   },
   {
    "duration": 2154,
    "start_time": "2022-05-16T13:09:46.740Z"
   },
   {
    "duration": 83,
    "start_time": "2022-05-16T13:10:01.438Z"
   },
   {
    "duration": 34,
    "start_time": "2022-05-16T13:10:01.524Z"
   },
   {
    "duration": 37,
    "start_time": "2022-05-16T13:10:01.560Z"
   },
   {
    "duration": 29,
    "start_time": "2022-05-16T13:10:01.600Z"
   },
   {
    "duration": 31,
    "start_time": "2022-05-16T13:10:01.633Z"
   },
   {
    "duration": 22,
    "start_time": "2022-05-16T13:10:01.666Z"
   },
   {
    "duration": 45,
    "start_time": "2022-05-16T13:10:01.690Z"
   },
   {
    "duration": 26,
    "start_time": "2022-05-16T13:10:01.737Z"
   },
   {
    "duration": 17,
    "start_time": "2022-05-16T13:10:01.765Z"
   },
   {
    "duration": 32,
    "start_time": "2022-05-16T13:10:01.784Z"
   },
   {
    "duration": 39,
    "start_time": "2022-05-16T13:10:01.818Z"
   },
   {
    "duration": 25,
    "start_time": "2022-05-16T13:10:01.859Z"
   },
   {
    "duration": 74,
    "start_time": "2022-05-16T13:10:01.887Z"
   },
   {
    "duration": 9,
    "start_time": "2022-05-16T13:10:01.966Z"
   },
   {
    "duration": 35,
    "start_time": "2022-05-16T13:10:01.977Z"
   },
   {
    "duration": 11,
    "start_time": "2022-05-16T13:10:02.014Z"
   },
   {
    "duration": 35,
    "start_time": "2022-05-16T13:10:02.027Z"
   },
   {
    "duration": 15,
    "start_time": "2022-05-16T13:10:02.064Z"
   },
   {
    "duration": 24,
    "start_time": "2022-05-16T13:10:02.081Z"
   },
   {
    "duration": 144,
    "start_time": "2022-05-16T13:10:02.107Z"
   },
   {
    "duration": 0,
    "start_time": "2022-05-16T13:10:02.254Z"
   },
   {
    "duration": 0,
    "start_time": "2022-05-16T13:10:02.255Z"
   },
   {
    "duration": 0,
    "start_time": "2022-05-16T13:10:02.258Z"
   },
   {
    "duration": 0,
    "start_time": "2022-05-16T13:10:02.260Z"
   },
   {
    "duration": 0,
    "start_time": "2022-05-16T13:10:02.262Z"
   },
   {
    "duration": 0,
    "start_time": "2022-05-16T13:10:02.263Z"
   },
   {
    "duration": 0,
    "start_time": "2022-05-16T13:10:02.265Z"
   },
   {
    "duration": 0,
    "start_time": "2022-05-16T13:10:02.266Z"
   },
   {
    "duration": 0,
    "start_time": "2022-05-16T13:10:02.267Z"
   },
   {
    "duration": 0,
    "start_time": "2022-05-16T13:10:02.268Z"
   },
   {
    "duration": 0,
    "start_time": "2022-05-16T13:10:02.269Z"
   },
   {
    "duration": 0,
    "start_time": "2022-05-16T13:10:02.271Z"
   },
   {
    "duration": 0,
    "start_time": "2022-05-16T13:10:02.272Z"
   },
   {
    "duration": 0,
    "start_time": "2022-05-16T13:10:02.274Z"
   },
   {
    "duration": 0,
    "start_time": "2022-05-16T13:10:02.275Z"
   },
   {
    "duration": 0,
    "start_time": "2022-05-16T13:10:02.277Z"
   },
   {
    "duration": 0,
    "start_time": "2022-05-16T13:10:02.278Z"
   },
   {
    "duration": 0,
    "start_time": "2022-05-16T13:10:02.280Z"
   },
   {
    "duration": 0,
    "start_time": "2022-05-16T13:10:02.281Z"
   },
   {
    "duration": 0,
    "start_time": "2022-05-16T13:10:02.283Z"
   },
   {
    "duration": 0,
    "start_time": "2022-05-16T13:10:02.284Z"
   },
   {
    "duration": 15,
    "start_time": "2022-05-16T13:10:19.283Z"
   },
   {
    "duration": 88,
    "start_time": "2022-05-16T13:11:28.897Z"
   },
   {
    "duration": 12,
    "start_time": "2022-05-16T13:11:28.987Z"
   },
   {
    "duration": 9,
    "start_time": "2022-05-16T13:11:29.001Z"
   },
   {
    "duration": 7,
    "start_time": "2022-05-16T13:11:29.013Z"
   },
   {
    "duration": 12,
    "start_time": "2022-05-16T13:11:29.051Z"
   },
   {
    "duration": 14,
    "start_time": "2022-05-16T13:11:29.066Z"
   },
   {
    "duration": 8,
    "start_time": "2022-05-16T13:11:29.083Z"
   },
   {
    "duration": 10,
    "start_time": "2022-05-16T13:11:29.094Z"
   },
   {
    "duration": 13,
    "start_time": "2022-05-16T13:11:29.153Z"
   },
   {
    "duration": 15,
    "start_time": "2022-05-16T13:11:29.171Z"
   },
   {
    "duration": 65,
    "start_time": "2022-05-16T13:11:29.188Z"
   },
   {
    "duration": 26,
    "start_time": "2022-05-16T13:11:29.256Z"
   },
   {
    "duration": 74,
    "start_time": "2022-05-16T13:11:29.285Z"
   },
   {
    "duration": 10,
    "start_time": "2022-05-16T13:11:29.362Z"
   },
   {
    "duration": 22,
    "start_time": "2022-05-16T13:11:29.374Z"
   },
   {
    "duration": 9,
    "start_time": "2022-05-16T13:11:29.398Z"
   },
   {
    "duration": 46,
    "start_time": "2022-05-16T13:11:29.409Z"
   },
   {
    "duration": 5,
    "start_time": "2022-05-16T13:11:29.458Z"
   },
   {
    "duration": 12,
    "start_time": "2022-05-16T13:11:29.465Z"
   },
   {
    "duration": 141,
    "start_time": "2022-05-16T13:11:29.479Z"
   },
   {
    "duration": 0,
    "start_time": "2022-05-16T13:11:29.623Z"
   },
   {
    "duration": 0,
    "start_time": "2022-05-16T13:11:29.625Z"
   },
   {
    "duration": 0,
    "start_time": "2022-05-16T13:11:29.627Z"
   },
   {
    "duration": 0,
    "start_time": "2022-05-16T13:11:29.628Z"
   },
   {
    "duration": 0,
    "start_time": "2022-05-16T13:11:29.629Z"
   },
   {
    "duration": 0,
    "start_time": "2022-05-16T13:11:29.631Z"
   },
   {
    "duration": 0,
    "start_time": "2022-05-16T13:11:29.632Z"
   },
   {
    "duration": 0,
    "start_time": "2022-05-16T13:11:29.633Z"
   },
   {
    "duration": 0,
    "start_time": "2022-05-16T13:11:29.635Z"
   },
   {
    "duration": 0,
    "start_time": "2022-05-16T13:11:29.636Z"
   },
   {
    "duration": 0,
    "start_time": "2022-05-16T13:11:29.637Z"
   },
   {
    "duration": 0,
    "start_time": "2022-05-16T13:11:29.638Z"
   },
   {
    "duration": 0,
    "start_time": "2022-05-16T13:11:29.640Z"
   },
   {
    "duration": 0,
    "start_time": "2022-05-16T13:11:29.641Z"
   },
   {
    "duration": 0,
    "start_time": "2022-05-16T13:11:29.642Z"
   },
   {
    "duration": 0,
    "start_time": "2022-05-16T13:11:29.643Z"
   },
   {
    "duration": 0,
    "start_time": "2022-05-16T13:11:29.644Z"
   },
   {
    "duration": 0,
    "start_time": "2022-05-16T13:11:29.646Z"
   },
   {
    "duration": 0,
    "start_time": "2022-05-16T13:11:29.647Z"
   },
   {
    "duration": 0,
    "start_time": "2022-05-16T13:11:29.649Z"
   },
   {
    "duration": 0,
    "start_time": "2022-05-16T13:11:29.650Z"
   },
   {
    "duration": 19,
    "start_time": "2022-05-16T13:11:35.259Z"
   },
   {
    "duration": 1853,
    "start_time": "2022-05-16T13:11:41.868Z"
   },
   {
    "duration": 1904,
    "start_time": "2022-05-16T13:11:47.519Z"
   },
   {
    "duration": 16,
    "start_time": "2022-05-16T13:12:13.032Z"
   },
   {
    "duration": 2335,
    "start_time": "2022-05-16T13:12:38.931Z"
   },
   {
    "duration": 117,
    "start_time": "2022-05-16T13:12:44.940Z"
   },
   {
    "duration": 11,
    "start_time": "2022-05-16T13:12:45.060Z"
   },
   {
    "duration": 10,
    "start_time": "2022-05-16T13:12:45.073Z"
   },
   {
    "duration": 7,
    "start_time": "2022-05-16T13:12:45.085Z"
   },
   {
    "duration": 13,
    "start_time": "2022-05-16T13:12:45.093Z"
   },
   {
    "duration": 52,
    "start_time": "2022-05-16T13:12:45.108Z"
   },
   {
    "duration": 11,
    "start_time": "2022-05-16T13:12:45.162Z"
   },
   {
    "duration": 10,
    "start_time": "2022-05-16T13:12:45.175Z"
   },
   {
    "duration": 13,
    "start_time": "2022-05-16T13:12:45.187Z"
   },
   {
    "duration": 13,
    "start_time": "2022-05-16T13:12:45.204Z"
   },
   {
    "duration": 52,
    "start_time": "2022-05-16T13:12:45.219Z"
   },
   {
    "duration": 28,
    "start_time": "2022-05-16T13:12:45.273Z"
   },
   {
    "duration": 76,
    "start_time": "2022-05-16T13:12:45.303Z"
   },
   {
    "duration": 10,
    "start_time": "2022-05-16T13:12:45.381Z"
   },
   {
    "duration": 27,
    "start_time": "2022-05-16T13:12:45.394Z"
   },
   {
    "duration": 31,
    "start_time": "2022-05-16T13:12:45.424Z"
   },
   {
    "duration": 13,
    "start_time": "2022-05-16T13:12:45.457Z"
   },
   {
    "duration": 6,
    "start_time": "2022-05-16T13:12:45.472Z"
   },
   {
    "duration": 10,
    "start_time": "2022-05-16T13:12:45.481Z"
   },
   {
    "duration": 108,
    "start_time": "2022-05-16T13:12:45.493Z"
   },
   {
    "duration": 0,
    "start_time": "2022-05-16T13:12:45.603Z"
   },
   {
    "duration": 0,
    "start_time": "2022-05-16T13:12:45.605Z"
   },
   {
    "duration": 0,
    "start_time": "2022-05-16T13:12:45.606Z"
   },
   {
    "duration": 0,
    "start_time": "2022-05-16T13:12:45.608Z"
   },
   {
    "duration": 0,
    "start_time": "2022-05-16T13:12:45.609Z"
   },
   {
    "duration": 0,
    "start_time": "2022-05-16T13:12:45.610Z"
   },
   {
    "duration": 0,
    "start_time": "2022-05-16T13:12:45.612Z"
   },
   {
    "duration": 0,
    "start_time": "2022-05-16T13:12:45.613Z"
   },
   {
    "duration": 0,
    "start_time": "2022-05-16T13:12:45.615Z"
   },
   {
    "duration": 0,
    "start_time": "2022-05-16T13:12:45.616Z"
   },
   {
    "duration": 0,
    "start_time": "2022-05-16T13:12:45.617Z"
   },
   {
    "duration": 0,
    "start_time": "2022-05-16T13:12:45.618Z"
   },
   {
    "duration": 0,
    "start_time": "2022-05-16T13:12:45.619Z"
   },
   {
    "duration": 0,
    "start_time": "2022-05-16T13:12:45.621Z"
   },
   {
    "duration": 0,
    "start_time": "2022-05-16T13:12:45.622Z"
   },
   {
    "duration": 1,
    "start_time": "2022-05-16T13:12:45.623Z"
   },
   {
    "duration": 0,
    "start_time": "2022-05-16T13:12:45.625Z"
   },
   {
    "duration": 0,
    "start_time": "2022-05-16T13:12:45.626Z"
   },
   {
    "duration": 0,
    "start_time": "2022-05-16T13:12:45.627Z"
   },
   {
    "duration": 0,
    "start_time": "2022-05-16T13:12:45.628Z"
   },
   {
    "duration": 0,
    "start_time": "2022-05-16T13:12:45.629Z"
   },
   {
    "duration": 16,
    "start_time": "2022-05-16T13:13:00.586Z"
   },
   {
    "duration": 88,
    "start_time": "2022-05-16T13:13:03.631Z"
   },
   {
    "duration": 42,
    "start_time": "2022-05-16T13:13:03.722Z"
   },
   {
    "duration": 8,
    "start_time": "2022-05-16T13:13:03.766Z"
   },
   {
    "duration": 7,
    "start_time": "2022-05-16T13:13:03.777Z"
   },
   {
    "duration": 10,
    "start_time": "2022-05-16T13:13:03.789Z"
   },
   {
    "duration": 59,
    "start_time": "2022-05-16T13:13:03.802Z"
   },
   {
    "duration": 8,
    "start_time": "2022-05-16T13:13:03.864Z"
   },
   {
    "duration": 10,
    "start_time": "2022-05-16T13:13:03.875Z"
   },
   {
    "duration": 13,
    "start_time": "2022-05-16T13:13:03.887Z"
   },
   {
    "duration": 15,
    "start_time": "2022-05-16T13:13:03.951Z"
   },
   {
    "duration": 22,
    "start_time": "2022-05-16T13:13:03.969Z"
   },
   {
    "duration": 59,
    "start_time": "2022-05-16T13:13:03.994Z"
   },
   {
    "duration": 51,
    "start_time": "2022-05-16T13:13:04.055Z"
   },
   {
    "duration": 10,
    "start_time": "2022-05-16T13:13:04.112Z"
   },
   {
    "duration": 23,
    "start_time": "2022-05-16T13:13:04.152Z"
   },
   {
    "duration": 13,
    "start_time": "2022-05-16T13:13:04.178Z"
   },
   {
    "duration": 14,
    "start_time": "2022-05-16T13:13:04.194Z"
   },
   {
    "duration": 45,
    "start_time": "2022-05-16T13:13:04.210Z"
   },
   {
    "duration": 12,
    "start_time": "2022-05-16T13:13:04.258Z"
   },
   {
    "duration": 112,
    "start_time": "2022-05-16T13:13:04.273Z"
   },
   {
    "duration": 0,
    "start_time": "2022-05-16T13:13:04.388Z"
   },
   {
    "duration": 0,
    "start_time": "2022-05-16T13:13:04.389Z"
   },
   {
    "duration": 0,
    "start_time": "2022-05-16T13:13:04.392Z"
   },
   {
    "duration": 0,
    "start_time": "2022-05-16T13:13:04.394Z"
   },
   {
    "duration": 0,
    "start_time": "2022-05-16T13:13:04.396Z"
   },
   {
    "duration": 0,
    "start_time": "2022-05-16T13:13:04.398Z"
   },
   {
    "duration": 0,
    "start_time": "2022-05-16T13:13:04.400Z"
   },
   {
    "duration": 0,
    "start_time": "2022-05-16T13:13:04.403Z"
   },
   {
    "duration": 0,
    "start_time": "2022-05-16T13:13:04.405Z"
   },
   {
    "duration": 0,
    "start_time": "2022-05-16T13:13:04.407Z"
   },
   {
    "duration": 0,
    "start_time": "2022-05-16T13:13:04.409Z"
   },
   {
    "duration": 0,
    "start_time": "2022-05-16T13:13:04.411Z"
   },
   {
    "duration": 0,
    "start_time": "2022-05-16T13:13:04.414Z"
   },
   {
    "duration": 0,
    "start_time": "2022-05-16T13:13:04.416Z"
   },
   {
    "duration": 0,
    "start_time": "2022-05-16T13:13:04.418Z"
   },
   {
    "duration": 0,
    "start_time": "2022-05-16T13:13:04.420Z"
   },
   {
    "duration": 0,
    "start_time": "2022-05-16T13:13:04.422Z"
   },
   {
    "duration": 0,
    "start_time": "2022-05-16T13:13:04.424Z"
   },
   {
    "duration": 0,
    "start_time": "2022-05-16T13:13:04.452Z"
   },
   {
    "duration": 0,
    "start_time": "2022-05-16T13:13:04.455Z"
   },
   {
    "duration": 0,
    "start_time": "2022-05-16T13:13:04.457Z"
   },
   {
    "duration": 19,
    "start_time": "2022-05-16T13:13:10.999Z"
   },
   {
    "duration": 16,
    "start_time": "2022-05-16T13:13:18.099Z"
   },
   {
    "duration": 112,
    "start_time": "2022-05-16T13:18:06.157Z"
   },
   {
    "duration": 17,
    "start_time": "2022-05-16T13:18:06.273Z"
   },
   {
    "duration": 8,
    "start_time": "2022-05-16T13:18:06.293Z"
   },
   {
    "duration": 38,
    "start_time": "2022-05-16T13:18:06.303Z"
   },
   {
    "duration": 64,
    "start_time": "2022-05-16T13:18:06.355Z"
   },
   {
    "duration": 43,
    "start_time": "2022-05-16T13:18:06.436Z"
   },
   {
    "duration": 8,
    "start_time": "2022-05-16T13:18:06.481Z"
   },
   {
    "duration": 10,
    "start_time": "2022-05-16T13:18:06.491Z"
   },
   {
    "duration": 10,
    "start_time": "2022-05-16T13:18:06.503Z"
   },
   {
    "duration": 13,
    "start_time": "2022-05-16T13:18:06.516Z"
   },
   {
    "duration": 30,
    "start_time": "2022-05-16T13:18:06.552Z"
   },
   {
    "duration": 34,
    "start_time": "2022-05-16T13:18:06.585Z"
   },
   {
    "duration": 94,
    "start_time": "2022-05-16T13:18:06.622Z"
   },
   {
    "duration": 13,
    "start_time": "2022-05-16T13:18:06.722Z"
   },
   {
    "duration": 23,
    "start_time": "2022-05-16T13:18:06.752Z"
   },
   {
    "duration": 14,
    "start_time": "2022-05-16T13:18:06.778Z"
   },
   {
    "duration": 17,
    "start_time": "2022-05-16T13:18:06.794Z"
   },
   {
    "duration": 39,
    "start_time": "2022-05-16T13:18:06.813Z"
   },
   {
    "duration": 25,
    "start_time": "2022-05-16T13:18:06.854Z"
   },
   {
    "duration": 123,
    "start_time": "2022-05-16T13:18:06.881Z"
   },
   {
    "duration": 0,
    "start_time": "2022-05-16T13:18:07.007Z"
   },
   {
    "duration": 0,
    "start_time": "2022-05-16T13:18:07.008Z"
   },
   {
    "duration": 0,
    "start_time": "2022-05-16T13:18:07.010Z"
   },
   {
    "duration": 0,
    "start_time": "2022-05-16T13:18:07.011Z"
   },
   {
    "duration": 0,
    "start_time": "2022-05-16T13:18:07.013Z"
   },
   {
    "duration": 0,
    "start_time": "2022-05-16T13:18:07.015Z"
   },
   {
    "duration": 0,
    "start_time": "2022-05-16T13:18:07.016Z"
   },
   {
    "duration": 0,
    "start_time": "2022-05-16T13:18:07.018Z"
   },
   {
    "duration": 0,
    "start_time": "2022-05-16T13:18:07.020Z"
   },
   {
    "duration": 0,
    "start_time": "2022-05-16T13:18:07.021Z"
   },
   {
    "duration": 0,
    "start_time": "2022-05-16T13:18:07.023Z"
   },
   {
    "duration": 0,
    "start_time": "2022-05-16T13:18:07.024Z"
   },
   {
    "duration": 0,
    "start_time": "2022-05-16T13:18:07.025Z"
   },
   {
    "duration": 0,
    "start_time": "2022-05-16T13:18:07.027Z"
   },
   {
    "duration": 0,
    "start_time": "2022-05-16T13:18:07.028Z"
   },
   {
    "duration": 0,
    "start_time": "2022-05-16T13:18:07.030Z"
   },
   {
    "duration": 0,
    "start_time": "2022-05-16T13:18:07.032Z"
   },
   {
    "duration": 0,
    "start_time": "2022-05-16T13:18:07.035Z"
   },
   {
    "duration": 0,
    "start_time": "2022-05-16T13:18:07.036Z"
   },
   {
    "duration": 0,
    "start_time": "2022-05-16T13:18:07.038Z"
   },
   {
    "duration": 0,
    "start_time": "2022-05-16T13:18:07.040Z"
   },
   {
    "duration": 20,
    "start_time": "2022-05-16T13:21:42.695Z"
   },
   {
    "duration": 85,
    "start_time": "2022-05-16T13:21:46.208Z"
   },
   {
    "duration": 12,
    "start_time": "2022-05-16T13:21:46.296Z"
   },
   {
    "duration": 12,
    "start_time": "2022-05-16T13:21:46.310Z"
   },
   {
    "duration": 29,
    "start_time": "2022-05-16T13:21:46.325Z"
   },
   {
    "duration": 16,
    "start_time": "2022-05-16T13:21:46.358Z"
   },
   {
    "duration": 17,
    "start_time": "2022-05-16T13:21:46.377Z"
   },
   {
    "duration": 9,
    "start_time": "2022-05-16T13:21:46.397Z"
   },
   {
    "duration": 49,
    "start_time": "2022-05-16T13:21:46.409Z"
   },
   {
    "duration": 13,
    "start_time": "2022-05-16T13:21:46.460Z"
   },
   {
    "duration": 16,
    "start_time": "2022-05-16T13:21:46.475Z"
   },
   {
    "duration": 26,
    "start_time": "2022-05-16T13:21:46.493Z"
   },
   {
    "duration": 26,
    "start_time": "2022-05-16T13:21:46.552Z"
   },
   {
    "duration": 73,
    "start_time": "2022-05-16T13:21:46.580Z"
   },
   {
    "duration": 10,
    "start_time": "2022-05-16T13:21:46.658Z"
   },
   {
    "duration": 34,
    "start_time": "2022-05-16T13:21:46.671Z"
   },
   {
    "duration": 10,
    "start_time": "2022-05-16T13:21:46.708Z"
   },
   {
    "duration": 13,
    "start_time": "2022-05-16T13:21:46.752Z"
   },
   {
    "duration": 8,
    "start_time": "2022-05-16T13:21:46.768Z"
   },
   {
    "duration": 12,
    "start_time": "2022-05-16T13:21:46.778Z"
   },
   {
    "duration": 112,
    "start_time": "2022-05-16T13:21:46.793Z"
   },
   {
    "duration": 0,
    "start_time": "2022-05-16T13:21:46.907Z"
   },
   {
    "duration": 0,
    "start_time": "2022-05-16T13:21:46.908Z"
   },
   {
    "duration": 0,
    "start_time": "2022-05-16T13:21:46.910Z"
   },
   {
    "duration": 0,
    "start_time": "2022-05-16T13:21:46.911Z"
   },
   {
    "duration": 0,
    "start_time": "2022-05-16T13:21:46.913Z"
   },
   {
    "duration": 1,
    "start_time": "2022-05-16T13:21:46.914Z"
   },
   {
    "duration": 0,
    "start_time": "2022-05-16T13:21:46.916Z"
   },
   {
    "duration": 0,
    "start_time": "2022-05-16T13:21:46.918Z"
   },
   {
    "duration": 0,
    "start_time": "2022-05-16T13:21:46.919Z"
   },
   {
    "duration": 0,
    "start_time": "2022-05-16T13:21:46.921Z"
   },
   {
    "duration": 0,
    "start_time": "2022-05-16T13:21:46.922Z"
   },
   {
    "duration": 0,
    "start_time": "2022-05-16T13:21:46.923Z"
   },
   {
    "duration": 0,
    "start_time": "2022-05-16T13:21:46.924Z"
   },
   {
    "duration": 0,
    "start_time": "2022-05-16T13:21:46.925Z"
   },
   {
    "duration": 0,
    "start_time": "2022-05-16T13:21:46.927Z"
   },
   {
    "duration": 0,
    "start_time": "2022-05-16T13:21:46.928Z"
   },
   {
    "duration": 0,
    "start_time": "2022-05-16T13:21:46.929Z"
   },
   {
    "duration": 0,
    "start_time": "2022-05-16T13:21:46.931Z"
   },
   {
    "duration": 0,
    "start_time": "2022-05-16T13:21:46.932Z"
   },
   {
    "duration": 0,
    "start_time": "2022-05-16T13:21:46.933Z"
   },
   {
    "duration": 0,
    "start_time": "2022-05-16T13:21:46.934Z"
   },
   {
    "duration": 0,
    "start_time": "2022-05-16T13:21:46.936Z"
   },
   {
    "duration": 14,
    "start_time": "2022-05-16T13:22:25.660Z"
   },
   {
    "duration": 87,
    "start_time": "2022-05-16T13:22:28.713Z"
   },
   {
    "duration": 11,
    "start_time": "2022-05-16T13:22:28.803Z"
   },
   {
    "duration": 37,
    "start_time": "2022-05-16T13:22:28.816Z"
   },
   {
    "duration": 9,
    "start_time": "2022-05-16T13:22:28.855Z"
   },
   {
    "duration": 14,
    "start_time": "2022-05-16T13:22:28.867Z"
   },
   {
    "duration": 11,
    "start_time": "2022-05-16T13:22:28.883Z"
   },
   {
    "duration": 7,
    "start_time": "2022-05-16T13:22:28.896Z"
   },
   {
    "duration": 8,
    "start_time": "2022-05-16T13:22:28.953Z"
   },
   {
    "duration": 12,
    "start_time": "2022-05-16T13:22:28.964Z"
   },
   {
    "duration": 13,
    "start_time": "2022-05-16T13:22:28.978Z"
   },
   {
    "duration": 71,
    "start_time": "2022-05-16T13:22:28.994Z"
   },
   {
    "duration": 33,
    "start_time": "2022-05-16T13:22:29.068Z"
   },
   {
    "duration": 88,
    "start_time": "2022-05-16T13:22:29.104Z"
   },
   {
    "duration": 12,
    "start_time": "2022-05-16T13:22:29.198Z"
   },
   {
    "duration": 54,
    "start_time": "2022-05-16T13:22:29.213Z"
   },
   {
    "duration": 12,
    "start_time": "2022-05-16T13:22:29.269Z"
   },
   {
    "duration": 17,
    "start_time": "2022-05-16T13:22:29.284Z"
   },
   {
    "duration": 7,
    "start_time": "2022-05-16T13:22:29.304Z"
   },
   {
    "duration": 47,
    "start_time": "2022-05-16T13:22:29.313Z"
   },
   {
    "duration": 102,
    "start_time": "2022-05-16T13:22:29.363Z"
   },
   {
    "duration": 0,
    "start_time": "2022-05-16T13:22:29.468Z"
   },
   {
    "duration": 0,
    "start_time": "2022-05-16T13:22:29.470Z"
   },
   {
    "duration": 0,
    "start_time": "2022-05-16T13:22:29.472Z"
   },
   {
    "duration": 0,
    "start_time": "2022-05-16T13:22:29.474Z"
   },
   {
    "duration": 0,
    "start_time": "2022-05-16T13:22:29.477Z"
   },
   {
    "duration": 0,
    "start_time": "2022-05-16T13:22:29.478Z"
   },
   {
    "duration": 0,
    "start_time": "2022-05-16T13:22:29.481Z"
   },
   {
    "duration": 0,
    "start_time": "2022-05-16T13:22:29.483Z"
   },
   {
    "duration": 0,
    "start_time": "2022-05-16T13:22:29.484Z"
   },
   {
    "duration": 0,
    "start_time": "2022-05-16T13:22:29.486Z"
   },
   {
    "duration": 0,
    "start_time": "2022-05-16T13:22:29.488Z"
   },
   {
    "duration": 0,
    "start_time": "2022-05-16T13:22:29.490Z"
   },
   {
    "duration": 0,
    "start_time": "2022-05-16T13:22:29.492Z"
   },
   {
    "duration": 0,
    "start_time": "2022-05-16T13:22:29.494Z"
   },
   {
    "duration": 0,
    "start_time": "2022-05-16T13:22:29.496Z"
   },
   {
    "duration": 0,
    "start_time": "2022-05-16T13:22:29.497Z"
   },
   {
    "duration": 0,
    "start_time": "2022-05-16T13:22:29.499Z"
   },
   {
    "duration": 0,
    "start_time": "2022-05-16T13:22:29.501Z"
   },
   {
    "duration": 0,
    "start_time": "2022-05-16T13:22:29.502Z"
   },
   {
    "duration": 0,
    "start_time": "2022-05-16T13:22:29.504Z"
   },
   {
    "duration": 1,
    "start_time": "2022-05-16T13:22:29.505Z"
   },
   {
    "duration": 0,
    "start_time": "2022-05-16T13:22:29.507Z"
   },
   {
    "duration": 19,
    "start_time": "2022-05-16T13:22:37.473Z"
   },
   {
    "duration": 141,
    "start_time": "2022-05-16T13:22:45.366Z"
   },
   {
    "duration": 20,
    "start_time": "2022-05-16T13:22:52.443Z"
   },
   {
    "duration": 16,
    "start_time": "2022-05-16T13:23:06.103Z"
   },
   {
    "duration": 23,
    "start_time": "2022-05-16T13:23:24.753Z"
   },
   {
    "duration": 122,
    "start_time": "2022-05-16T13:23:29.065Z"
   },
   {
    "duration": 12,
    "start_time": "2022-05-16T13:23:29.190Z"
   },
   {
    "duration": 10,
    "start_time": "2022-05-16T13:23:29.204Z"
   },
   {
    "duration": 35,
    "start_time": "2022-05-16T13:23:29.217Z"
   },
   {
    "duration": 15,
    "start_time": "2022-05-16T13:23:29.257Z"
   },
   {
    "duration": 13,
    "start_time": "2022-05-16T13:23:29.274Z"
   },
   {
    "duration": 7,
    "start_time": "2022-05-16T13:23:29.289Z"
   },
   {
    "duration": 10,
    "start_time": "2022-05-16T13:23:29.298Z"
   },
   {
    "duration": 58,
    "start_time": "2022-05-16T13:23:29.310Z"
   },
   {
    "duration": 16,
    "start_time": "2022-05-16T13:23:29.371Z"
   },
   {
    "duration": 22,
    "start_time": "2022-05-16T13:23:29.390Z"
   },
   {
    "duration": 71,
    "start_time": "2022-05-16T13:23:29.415Z"
   },
   {
    "duration": 71,
    "start_time": "2022-05-16T13:23:29.489Z"
   },
   {
    "duration": 12,
    "start_time": "2022-05-16T13:23:29.567Z"
   },
   {
    "duration": 35,
    "start_time": "2022-05-16T13:23:29.582Z"
   },
   {
    "duration": 42,
    "start_time": "2022-05-16T13:23:29.621Z"
   },
   {
    "duration": 25,
    "start_time": "2022-05-16T13:23:29.666Z"
   },
   {
    "duration": 6,
    "start_time": "2022-05-16T13:23:29.693Z"
   },
   {
    "duration": 11,
    "start_time": "2022-05-16T13:23:29.701Z"
   },
   {
    "duration": 111,
    "start_time": "2022-05-16T13:23:29.714Z"
   },
   {
    "duration": 0,
    "start_time": "2022-05-16T13:23:29.827Z"
   },
   {
    "duration": 0,
    "start_time": "2022-05-16T13:23:29.829Z"
   },
   {
    "duration": 0,
    "start_time": "2022-05-16T13:23:29.831Z"
   },
   {
    "duration": 0,
    "start_time": "2022-05-16T13:23:29.832Z"
   },
   {
    "duration": 0,
    "start_time": "2022-05-16T13:23:29.834Z"
   },
   {
    "duration": 0,
    "start_time": "2022-05-16T13:23:29.835Z"
   },
   {
    "duration": 0,
    "start_time": "2022-05-16T13:23:29.837Z"
   },
   {
    "duration": 0,
    "start_time": "2022-05-16T13:23:29.838Z"
   },
   {
    "duration": 0,
    "start_time": "2022-05-16T13:23:29.840Z"
   },
   {
    "duration": 0,
    "start_time": "2022-05-16T13:23:29.842Z"
   },
   {
    "duration": 0,
    "start_time": "2022-05-16T13:23:29.844Z"
   },
   {
    "duration": 0,
    "start_time": "2022-05-16T13:23:29.845Z"
   },
   {
    "duration": 0,
    "start_time": "2022-05-16T13:23:29.846Z"
   },
   {
    "duration": 0,
    "start_time": "2022-05-16T13:23:29.847Z"
   },
   {
    "duration": 0,
    "start_time": "2022-05-16T13:23:29.848Z"
   },
   {
    "duration": 0,
    "start_time": "2022-05-16T13:23:29.849Z"
   },
   {
    "duration": 0,
    "start_time": "2022-05-16T13:23:29.851Z"
   },
   {
    "duration": 0,
    "start_time": "2022-05-16T13:23:29.854Z"
   },
   {
    "duration": 0,
    "start_time": "2022-05-16T13:23:29.857Z"
   },
   {
    "duration": 0,
    "start_time": "2022-05-16T13:23:29.860Z"
   },
   {
    "duration": 0,
    "start_time": "2022-05-16T13:23:29.862Z"
   },
   {
    "duration": 0,
    "start_time": "2022-05-16T13:23:29.865Z"
   },
   {
    "duration": 19,
    "start_time": "2022-05-16T13:23:48.174Z"
   },
   {
    "duration": 98,
    "start_time": "2022-05-16T13:26:21.946Z"
   },
   {
    "duration": 21,
    "start_time": "2022-05-16T13:26:22.054Z"
   },
   {
    "duration": 24,
    "start_time": "2022-05-16T13:26:22.077Z"
   },
   {
    "duration": 19,
    "start_time": "2022-05-16T13:26:22.103Z"
   },
   {
    "duration": 16,
    "start_time": "2022-05-16T13:26:22.127Z"
   },
   {
    "duration": 40,
    "start_time": "2022-05-16T13:26:22.152Z"
   },
   {
    "duration": 18,
    "start_time": "2022-05-16T13:26:22.195Z"
   },
   {
    "duration": 22,
    "start_time": "2022-05-16T13:26:22.215Z"
   },
   {
    "duration": 36,
    "start_time": "2022-05-16T13:26:22.239Z"
   },
   {
    "duration": 21,
    "start_time": "2022-05-16T13:26:22.278Z"
   },
   {
    "duration": 42,
    "start_time": "2022-05-16T13:26:22.301Z"
   },
   {
    "duration": 42,
    "start_time": "2022-05-16T13:26:22.345Z"
   },
   {
    "duration": 53,
    "start_time": "2022-05-16T13:26:22.389Z"
   },
   {
    "duration": 11,
    "start_time": "2022-05-16T13:26:22.455Z"
   },
   {
    "duration": 32,
    "start_time": "2022-05-16T13:26:22.471Z"
   },
   {
    "duration": 14,
    "start_time": "2022-05-16T13:26:22.505Z"
   },
   {
    "duration": 41,
    "start_time": "2022-05-16T13:26:22.521Z"
   },
   {
    "duration": 7,
    "start_time": "2022-05-16T13:26:22.565Z"
   },
   {
    "duration": 40,
    "start_time": "2022-05-16T13:26:22.576Z"
   },
   {
    "duration": 146,
    "start_time": "2022-05-16T13:26:22.619Z"
   },
   {
    "duration": 0,
    "start_time": "2022-05-16T13:26:22.768Z"
   },
   {
    "duration": 0,
    "start_time": "2022-05-16T13:26:22.770Z"
   },
   {
    "duration": 0,
    "start_time": "2022-05-16T13:26:22.772Z"
   },
   {
    "duration": 0,
    "start_time": "2022-05-16T13:26:22.774Z"
   },
   {
    "duration": 0,
    "start_time": "2022-05-16T13:26:22.776Z"
   },
   {
    "duration": 0,
    "start_time": "2022-05-16T13:26:22.778Z"
   },
   {
    "duration": 0,
    "start_time": "2022-05-16T13:26:22.779Z"
   },
   {
    "duration": 0,
    "start_time": "2022-05-16T13:26:22.781Z"
   },
   {
    "duration": 0,
    "start_time": "2022-05-16T13:26:22.783Z"
   },
   {
    "duration": 0,
    "start_time": "2022-05-16T13:26:22.786Z"
   },
   {
    "duration": 1,
    "start_time": "2022-05-16T13:26:22.787Z"
   },
   {
    "duration": 0,
    "start_time": "2022-05-16T13:26:22.790Z"
   },
   {
    "duration": 0,
    "start_time": "2022-05-16T13:26:22.791Z"
   },
   {
    "duration": 0,
    "start_time": "2022-05-16T13:26:22.793Z"
   },
   {
    "duration": 0,
    "start_time": "2022-05-16T13:26:22.795Z"
   },
   {
    "duration": 0,
    "start_time": "2022-05-16T13:26:22.797Z"
   },
   {
    "duration": 0,
    "start_time": "2022-05-16T13:26:22.799Z"
   },
   {
    "duration": 0,
    "start_time": "2022-05-16T13:26:22.800Z"
   },
   {
    "duration": 0,
    "start_time": "2022-05-16T13:26:22.802Z"
   },
   {
    "duration": 0,
    "start_time": "2022-05-16T13:26:22.804Z"
   },
   {
    "duration": 0,
    "start_time": "2022-05-16T13:26:22.806Z"
   },
   {
    "duration": 0,
    "start_time": "2022-05-16T13:26:22.853Z"
   },
   {
    "duration": 101,
    "start_time": "2022-05-16T13:26:45.994Z"
   },
   {
    "duration": 12,
    "start_time": "2022-05-16T13:26:46.099Z"
   },
   {
    "duration": 9,
    "start_time": "2022-05-16T13:26:46.113Z"
   },
   {
    "duration": 36,
    "start_time": "2022-05-16T13:26:46.125Z"
   },
   {
    "duration": 14,
    "start_time": "2022-05-16T13:26:46.167Z"
   },
   {
    "duration": 17,
    "start_time": "2022-05-16T13:26:46.184Z"
   },
   {
    "duration": 8,
    "start_time": "2022-05-16T13:26:46.204Z"
   },
   {
    "duration": 52,
    "start_time": "2022-05-16T13:26:46.215Z"
   },
   {
    "duration": 24,
    "start_time": "2022-05-16T13:26:46.270Z"
   },
   {
    "duration": 28,
    "start_time": "2022-05-16T13:26:46.297Z"
   },
   {
    "duration": 58,
    "start_time": "2022-05-16T13:26:46.328Z"
   },
   {
    "duration": 46,
    "start_time": "2022-05-16T13:26:46.389Z"
   },
   {
    "duration": 62,
    "start_time": "2022-05-16T13:26:46.437Z"
   },
   {
    "duration": 10,
    "start_time": "2022-05-16T13:26:46.503Z"
   },
   {
    "duration": 42,
    "start_time": "2022-05-16T13:26:46.515Z"
   },
   {
    "duration": 11,
    "start_time": "2022-05-16T13:26:46.561Z"
   },
   {
    "duration": 40,
    "start_time": "2022-05-16T13:26:46.574Z"
   },
   {
    "duration": 7,
    "start_time": "2022-05-16T13:26:46.617Z"
   },
   {
    "duration": 33,
    "start_time": "2022-05-16T13:26:46.626Z"
   },
   {
    "duration": 127,
    "start_time": "2022-05-16T13:26:46.663Z"
   },
   {
    "duration": 0,
    "start_time": "2022-05-16T13:26:46.793Z"
   },
   {
    "duration": 0,
    "start_time": "2022-05-16T13:26:46.795Z"
   },
   {
    "duration": 0,
    "start_time": "2022-05-16T13:26:46.797Z"
   },
   {
    "duration": 0,
    "start_time": "2022-05-16T13:26:46.799Z"
   },
   {
    "duration": 0,
    "start_time": "2022-05-16T13:26:46.800Z"
   },
   {
    "duration": 0,
    "start_time": "2022-05-16T13:26:46.802Z"
   },
   {
    "duration": 0,
    "start_time": "2022-05-16T13:26:46.804Z"
   },
   {
    "duration": 0,
    "start_time": "2022-05-16T13:26:46.806Z"
   },
   {
    "duration": 0,
    "start_time": "2022-05-16T13:26:46.807Z"
   },
   {
    "duration": 0,
    "start_time": "2022-05-16T13:26:46.809Z"
   },
   {
    "duration": 1,
    "start_time": "2022-05-16T13:26:46.811Z"
   },
   {
    "duration": 0,
    "start_time": "2022-05-16T13:26:46.814Z"
   },
   {
    "duration": 0,
    "start_time": "2022-05-16T13:26:46.816Z"
   },
   {
    "duration": 0,
    "start_time": "2022-05-16T13:26:46.819Z"
   },
   {
    "duration": 0,
    "start_time": "2022-05-16T13:26:46.821Z"
   },
   {
    "duration": 0,
    "start_time": "2022-05-16T13:26:46.823Z"
   },
   {
    "duration": 0,
    "start_time": "2022-05-16T13:26:46.825Z"
   },
   {
    "duration": 1,
    "start_time": "2022-05-16T13:26:46.827Z"
   },
   {
    "duration": 0,
    "start_time": "2022-05-16T13:26:46.830Z"
   },
   {
    "duration": 0,
    "start_time": "2022-05-16T13:26:46.832Z"
   },
   {
    "duration": 0,
    "start_time": "2022-05-16T13:26:46.854Z"
   },
   {
    "duration": 0,
    "start_time": "2022-05-16T13:26:46.856Z"
   },
   {
    "duration": 14,
    "start_time": "2022-05-16T13:26:52.850Z"
   },
   {
    "duration": 91,
    "start_time": "2022-05-16T13:26:55.579Z"
   },
   {
    "duration": 13,
    "start_time": "2022-05-16T13:26:55.673Z"
   },
   {
    "duration": 9,
    "start_time": "2022-05-16T13:26:55.688Z"
   },
   {
    "duration": 8,
    "start_time": "2022-05-16T13:26:55.700Z"
   },
   {
    "duration": 49,
    "start_time": "2022-05-16T13:26:55.712Z"
   },
   {
    "duration": 15,
    "start_time": "2022-05-16T13:26:55.764Z"
   },
   {
    "duration": 8,
    "start_time": "2022-05-16T13:26:55.781Z"
   },
   {
    "duration": 10,
    "start_time": "2022-05-16T13:26:55.791Z"
   },
   {
    "duration": 57,
    "start_time": "2022-05-16T13:26:55.803Z"
   },
   {
    "duration": 15,
    "start_time": "2022-05-16T13:26:55.863Z"
   },
   {
    "duration": 23,
    "start_time": "2022-05-16T13:26:55.881Z"
   },
   {
    "duration": 63,
    "start_time": "2022-05-16T13:26:55.907Z"
   },
   {
    "duration": 53,
    "start_time": "2022-05-16T13:26:55.972Z"
   },
   {
    "duration": 9,
    "start_time": "2022-05-16T13:26:56.051Z"
   },
   {
    "duration": 24,
    "start_time": "2022-05-16T13:26:56.062Z"
   },
   {
    "duration": 9,
    "start_time": "2022-05-16T13:26:56.089Z"
   },
   {
    "duration": 14,
    "start_time": "2022-05-16T13:26:56.101Z"
   },
   {
    "duration": 39,
    "start_time": "2022-05-16T13:26:56.117Z"
   },
   {
    "duration": 17,
    "start_time": "2022-05-16T13:26:56.158Z"
   },
   {
    "duration": 234,
    "start_time": "2022-05-16T13:26:56.178Z"
   },
   {
    "duration": 0,
    "start_time": "2022-05-16T13:26:56.414Z"
   },
   {
    "duration": 0,
    "start_time": "2022-05-16T13:26:56.416Z"
   },
   {
    "duration": 0,
    "start_time": "2022-05-16T13:26:56.417Z"
   },
   {
    "duration": 0,
    "start_time": "2022-05-16T13:26:56.420Z"
   },
   {
    "duration": 0,
    "start_time": "2022-05-16T13:26:56.421Z"
   },
   {
    "duration": 0,
    "start_time": "2022-05-16T13:26:56.423Z"
   },
   {
    "duration": 0,
    "start_time": "2022-05-16T13:26:56.425Z"
   },
   {
    "duration": 0,
    "start_time": "2022-05-16T13:26:56.427Z"
   },
   {
    "duration": 0,
    "start_time": "2022-05-16T13:26:56.428Z"
   },
   {
    "duration": 0,
    "start_time": "2022-05-16T13:26:56.429Z"
   },
   {
    "duration": 1,
    "start_time": "2022-05-16T13:26:56.430Z"
   },
   {
    "duration": 0,
    "start_time": "2022-05-16T13:26:56.433Z"
   },
   {
    "duration": 0,
    "start_time": "2022-05-16T13:26:56.434Z"
   },
   {
    "duration": 0,
    "start_time": "2022-05-16T13:26:56.436Z"
   },
   {
    "duration": 0,
    "start_time": "2022-05-16T13:26:56.437Z"
   },
   {
    "duration": 0,
    "start_time": "2022-05-16T13:26:56.438Z"
   },
   {
    "duration": 0,
    "start_time": "2022-05-16T13:26:56.439Z"
   },
   {
    "duration": 0,
    "start_time": "2022-05-16T13:26:56.441Z"
   },
   {
    "duration": 0,
    "start_time": "2022-05-16T13:26:56.443Z"
   },
   {
    "duration": 0,
    "start_time": "2022-05-16T13:26:56.444Z"
   },
   {
    "duration": 0,
    "start_time": "2022-05-16T13:26:56.445Z"
   },
   {
    "duration": 0,
    "start_time": "2022-05-16T13:26:56.447Z"
   },
   {
    "duration": 18,
    "start_time": "2022-05-16T13:27:03.440Z"
   },
   {
    "duration": 108,
    "start_time": "2022-05-16T13:27:09.456Z"
   },
   {
    "duration": 11,
    "start_time": "2022-05-16T13:27:09.567Z"
   },
   {
    "duration": 12,
    "start_time": "2022-05-16T13:27:09.580Z"
   },
   {
    "duration": 5,
    "start_time": "2022-05-16T13:27:09.595Z"
   },
   {
    "duration": 10,
    "start_time": "2022-05-16T13:27:09.602Z"
   },
   {
    "duration": 44,
    "start_time": "2022-05-16T13:27:09.614Z"
   },
   {
    "duration": 8,
    "start_time": "2022-05-16T13:27:09.660Z"
   },
   {
    "duration": 12,
    "start_time": "2022-05-16T13:27:09.670Z"
   },
   {
    "duration": 10,
    "start_time": "2022-05-16T13:27:09.684Z"
   },
   {
    "duration": 13,
    "start_time": "2022-05-16T13:27:09.698Z"
   },
   {
    "duration": 59,
    "start_time": "2022-05-16T13:27:09.713Z"
   },
   {
    "duration": 25,
    "start_time": "2022-05-16T13:27:09.775Z"
   },
   {
    "duration": 78,
    "start_time": "2022-05-16T13:27:09.802Z"
   },
   {
    "duration": 10,
    "start_time": "2022-05-16T13:27:09.882Z"
   },
   {
    "duration": 25,
    "start_time": "2022-05-16T13:27:09.894Z"
   },
   {
    "duration": 36,
    "start_time": "2022-05-16T13:27:09.921Z"
   },
   {
    "duration": 16,
    "start_time": "2022-05-16T13:27:09.959Z"
   },
   {
    "duration": 5,
    "start_time": "2022-05-16T13:27:09.977Z"
   },
   {
    "duration": 11,
    "start_time": "2022-05-16T13:27:09.984Z"
   },
   {
    "duration": 150,
    "start_time": "2022-05-16T13:27:09.997Z"
   },
   {
    "duration": 0,
    "start_time": "2022-05-16T13:27:10.150Z"
   },
   {
    "duration": 0,
    "start_time": "2022-05-16T13:27:10.152Z"
   },
   {
    "duration": 0,
    "start_time": "2022-05-16T13:27:10.153Z"
   },
   {
    "duration": 0,
    "start_time": "2022-05-16T13:27:10.155Z"
   },
   {
    "duration": 0,
    "start_time": "2022-05-16T13:27:10.156Z"
   },
   {
    "duration": 0,
    "start_time": "2022-05-16T13:27:10.158Z"
   },
   {
    "duration": 0,
    "start_time": "2022-05-16T13:27:10.159Z"
   },
   {
    "duration": 0,
    "start_time": "2022-05-16T13:27:10.161Z"
   },
   {
    "duration": 0,
    "start_time": "2022-05-16T13:27:10.163Z"
   },
   {
    "duration": 0,
    "start_time": "2022-05-16T13:27:10.164Z"
   },
   {
    "duration": 0,
    "start_time": "2022-05-16T13:27:10.165Z"
   },
   {
    "duration": 0,
    "start_time": "2022-05-16T13:27:10.167Z"
   },
   {
    "duration": 0,
    "start_time": "2022-05-16T13:27:10.168Z"
   },
   {
    "duration": 0,
    "start_time": "2022-05-16T13:27:10.170Z"
   },
   {
    "duration": 0,
    "start_time": "2022-05-16T13:27:10.172Z"
   },
   {
    "duration": 0,
    "start_time": "2022-05-16T13:27:10.173Z"
   },
   {
    "duration": 0,
    "start_time": "2022-05-16T13:27:10.175Z"
   },
   {
    "duration": 0,
    "start_time": "2022-05-16T13:27:10.176Z"
   },
   {
    "duration": 0,
    "start_time": "2022-05-16T13:27:10.178Z"
   },
   {
    "duration": 0,
    "start_time": "2022-05-16T13:27:10.180Z"
   },
   {
    "duration": 0,
    "start_time": "2022-05-16T13:27:10.181Z"
   },
   {
    "duration": 0,
    "start_time": "2022-05-16T13:27:10.183Z"
   },
   {
    "duration": 13,
    "start_time": "2022-05-16T13:27:14.015Z"
   },
   {
    "duration": 105,
    "start_time": "2022-05-16T13:27:16.576Z"
   },
   {
    "duration": 13,
    "start_time": "2022-05-16T13:27:16.684Z"
   },
   {
    "duration": 8,
    "start_time": "2022-05-16T13:27:16.700Z"
   },
   {
    "duration": 9,
    "start_time": "2022-05-16T13:27:16.711Z"
   },
   {
    "duration": 12,
    "start_time": "2022-05-16T13:27:16.754Z"
   },
   {
    "duration": 18,
    "start_time": "2022-05-16T13:27:16.769Z"
   },
   {
    "duration": 9,
    "start_time": "2022-05-16T13:27:16.790Z"
   },
   {
    "duration": 14,
    "start_time": "2022-05-16T13:27:16.801Z"
   },
   {
    "duration": 42,
    "start_time": "2022-05-16T13:27:16.817Z"
   },
   {
    "duration": 13,
    "start_time": "2022-05-16T13:27:16.861Z"
   },
   {
    "duration": 21,
    "start_time": "2022-05-16T13:27:16.876Z"
   },
   {
    "duration": 63,
    "start_time": "2022-05-16T13:27:16.899Z"
   },
   {
    "duration": 50,
    "start_time": "2022-05-16T13:27:16.964Z"
   },
   {
    "duration": 9,
    "start_time": "2022-05-16T13:27:17.018Z"
   },
   {
    "duration": 22,
    "start_time": "2022-05-16T13:27:17.051Z"
   },
   {
    "duration": 14,
    "start_time": "2022-05-16T13:27:17.076Z"
   },
   {
    "duration": 17,
    "start_time": "2022-05-16T13:27:17.092Z"
   },
   {
    "duration": 8,
    "start_time": "2022-05-16T13:27:17.112Z"
   },
   {
    "duration": 10,
    "start_time": "2022-05-16T13:27:17.152Z"
   },
   {
    "duration": 121,
    "start_time": "2022-05-16T13:27:17.164Z"
   },
   {
    "duration": 0,
    "start_time": "2022-05-16T13:27:17.287Z"
   },
   {
    "duration": 0,
    "start_time": "2022-05-16T13:27:17.288Z"
   },
   {
    "duration": 0,
    "start_time": "2022-05-16T13:27:17.290Z"
   },
   {
    "duration": 0,
    "start_time": "2022-05-16T13:27:17.291Z"
   },
   {
    "duration": 0,
    "start_time": "2022-05-16T13:27:17.293Z"
   },
   {
    "duration": 0,
    "start_time": "2022-05-16T13:27:17.294Z"
   },
   {
    "duration": 0,
    "start_time": "2022-05-16T13:27:17.296Z"
   },
   {
    "duration": 0,
    "start_time": "2022-05-16T13:27:17.297Z"
   },
   {
    "duration": 0,
    "start_time": "2022-05-16T13:27:17.298Z"
   },
   {
    "duration": 0,
    "start_time": "2022-05-16T13:27:17.300Z"
   },
   {
    "duration": 0,
    "start_time": "2022-05-16T13:27:17.301Z"
   },
   {
    "duration": 0,
    "start_time": "2022-05-16T13:27:17.302Z"
   },
   {
    "duration": 1,
    "start_time": "2022-05-16T13:27:17.303Z"
   },
   {
    "duration": 0,
    "start_time": "2022-05-16T13:27:17.305Z"
   },
   {
    "duration": 0,
    "start_time": "2022-05-16T13:27:17.306Z"
   },
   {
    "duration": 0,
    "start_time": "2022-05-16T13:27:17.307Z"
   },
   {
    "duration": 0,
    "start_time": "2022-05-16T13:27:17.309Z"
   },
   {
    "duration": 0,
    "start_time": "2022-05-16T13:27:17.310Z"
   },
   {
    "duration": 0,
    "start_time": "2022-05-16T13:27:17.311Z"
   },
   {
    "duration": 0,
    "start_time": "2022-05-16T13:27:17.312Z"
   },
   {
    "duration": 0,
    "start_time": "2022-05-16T13:27:17.314Z"
   },
   {
    "duration": 0,
    "start_time": "2022-05-16T13:27:17.315Z"
   },
   {
    "duration": 84,
    "start_time": "2022-05-16T13:27:26.321Z"
   },
   {
    "duration": 11,
    "start_time": "2022-05-16T13:27:26.407Z"
   },
   {
    "duration": 32,
    "start_time": "2022-05-16T13:27:26.420Z"
   },
   {
    "duration": 7,
    "start_time": "2022-05-16T13:27:26.454Z"
   },
   {
    "duration": 12,
    "start_time": "2022-05-16T13:27:26.464Z"
   },
   {
    "duration": 15,
    "start_time": "2022-05-16T13:27:26.478Z"
   },
   {
    "duration": 7,
    "start_time": "2022-05-16T13:27:26.495Z"
   },
   {
    "duration": 11,
    "start_time": "2022-05-16T13:27:26.504Z"
   },
   {
    "duration": 10,
    "start_time": "2022-05-16T13:27:26.553Z"
   },
   {
    "duration": 14,
    "start_time": "2022-05-16T13:27:26.566Z"
   },
   {
    "duration": 26,
    "start_time": "2022-05-16T13:27:26.582Z"
   },
   {
    "duration": 63,
    "start_time": "2022-05-16T13:27:26.610Z"
   },
   {
    "duration": 50,
    "start_time": "2022-05-16T13:27:26.675Z"
   },
   {
    "duration": 30,
    "start_time": "2022-05-16T13:27:26.730Z"
   },
   {
    "duration": 23,
    "start_time": "2022-05-16T13:27:26.763Z"
   },
   {
    "duration": 10,
    "start_time": "2022-05-16T13:27:26.788Z"
   },
   {
    "duration": 15,
    "start_time": "2022-05-16T13:27:26.800Z"
   },
   {
    "duration": 7,
    "start_time": "2022-05-16T13:27:26.852Z"
   },
   {
    "duration": 12,
    "start_time": "2022-05-16T13:27:26.862Z"
   },
   {
    "duration": 91,
    "start_time": "2022-05-16T13:27:26.876Z"
   },
   {
    "duration": 0,
    "start_time": "2022-05-16T13:27:26.970Z"
   },
   {
    "duration": 0,
    "start_time": "2022-05-16T13:27:26.971Z"
   },
   {
    "duration": 0,
    "start_time": "2022-05-16T13:27:26.972Z"
   },
   {
    "duration": 0,
    "start_time": "2022-05-16T13:27:26.975Z"
   },
   {
    "duration": 0,
    "start_time": "2022-05-16T13:27:26.976Z"
   },
   {
    "duration": 0,
    "start_time": "2022-05-16T13:27:26.978Z"
   },
   {
    "duration": 0,
    "start_time": "2022-05-16T13:27:26.979Z"
   },
   {
    "duration": 0,
    "start_time": "2022-05-16T13:27:26.981Z"
   },
   {
    "duration": 0,
    "start_time": "2022-05-16T13:27:26.983Z"
   },
   {
    "duration": 0,
    "start_time": "2022-05-16T13:27:26.984Z"
   },
   {
    "duration": 0,
    "start_time": "2022-05-16T13:27:26.985Z"
   },
   {
    "duration": 0,
    "start_time": "2022-05-16T13:27:26.987Z"
   },
   {
    "duration": 0,
    "start_time": "2022-05-16T13:27:26.988Z"
   },
   {
    "duration": 0,
    "start_time": "2022-05-16T13:27:26.990Z"
   },
   {
    "duration": 0,
    "start_time": "2022-05-16T13:27:26.991Z"
   },
   {
    "duration": 0,
    "start_time": "2022-05-16T13:27:26.993Z"
   },
   {
    "duration": 0,
    "start_time": "2022-05-16T13:27:26.995Z"
   },
   {
    "duration": 0,
    "start_time": "2022-05-16T13:27:26.996Z"
   },
   {
    "duration": 1,
    "start_time": "2022-05-16T13:27:26.997Z"
   },
   {
    "duration": 0,
    "start_time": "2022-05-16T13:27:26.999Z"
   },
   {
    "duration": 0,
    "start_time": "2022-05-16T13:27:27.000Z"
   },
   {
    "duration": 1,
    "start_time": "2022-05-16T13:27:27.001Z"
   },
   {
    "duration": 83,
    "start_time": "2022-05-16T13:27:32.608Z"
   },
   {
    "duration": 11,
    "start_time": "2022-05-16T13:27:32.693Z"
   },
   {
    "duration": 7,
    "start_time": "2022-05-16T13:27:32.707Z"
   },
   {
    "duration": 36,
    "start_time": "2022-05-16T13:27:32.716Z"
   },
   {
    "duration": 10,
    "start_time": "2022-05-16T13:27:32.755Z"
   },
   {
    "duration": 11,
    "start_time": "2022-05-16T13:27:32.767Z"
   },
   {
    "duration": 16,
    "start_time": "2022-05-16T13:27:32.780Z"
   },
   {
    "duration": 20,
    "start_time": "2022-05-16T13:27:32.798Z"
   },
   {
    "duration": 39,
    "start_time": "2022-05-16T13:27:32.819Z"
   },
   {
    "duration": 13,
    "start_time": "2022-05-16T13:27:32.860Z"
   },
   {
    "duration": 49,
    "start_time": "2022-05-16T13:27:32.874Z"
   },
   {
    "duration": 29,
    "start_time": "2022-05-16T13:27:32.925Z"
   },
   {
    "duration": 50,
    "start_time": "2022-05-16T13:27:32.956Z"
   },
   {
    "duration": 10,
    "start_time": "2022-05-16T13:27:33.010Z"
   },
   {
    "duration": 46,
    "start_time": "2022-05-16T13:27:33.022Z"
   },
   {
    "duration": 9,
    "start_time": "2022-05-16T13:27:33.070Z"
   },
   {
    "duration": 20,
    "start_time": "2022-05-16T13:27:33.081Z"
   },
   {
    "duration": 22,
    "start_time": "2022-05-16T13:27:33.103Z"
   },
   {
    "duration": 26,
    "start_time": "2022-05-16T13:27:33.127Z"
   },
   {
    "duration": 147,
    "start_time": "2022-05-16T13:27:33.155Z"
   },
   {
    "duration": 0,
    "start_time": "2022-05-16T13:27:33.305Z"
   },
   {
    "duration": 0,
    "start_time": "2022-05-16T13:27:33.307Z"
   },
   {
    "duration": 0,
    "start_time": "2022-05-16T13:27:33.309Z"
   },
   {
    "duration": 0,
    "start_time": "2022-05-16T13:27:33.310Z"
   },
   {
    "duration": 0,
    "start_time": "2022-05-16T13:27:33.313Z"
   },
   {
    "duration": 0,
    "start_time": "2022-05-16T13:27:33.314Z"
   },
   {
    "duration": 0,
    "start_time": "2022-05-16T13:27:33.316Z"
   },
   {
    "duration": 0,
    "start_time": "2022-05-16T13:27:33.317Z"
   },
   {
    "duration": 0,
    "start_time": "2022-05-16T13:27:33.319Z"
   },
   {
    "duration": 0,
    "start_time": "2022-05-16T13:27:33.320Z"
   },
   {
    "duration": 0,
    "start_time": "2022-05-16T13:27:33.321Z"
   },
   {
    "duration": 0,
    "start_time": "2022-05-16T13:27:33.323Z"
   },
   {
    "duration": 0,
    "start_time": "2022-05-16T13:27:33.324Z"
   },
   {
    "duration": 0,
    "start_time": "2022-05-16T13:27:33.326Z"
   },
   {
    "duration": 0,
    "start_time": "2022-05-16T13:27:33.327Z"
   },
   {
    "duration": 0,
    "start_time": "2022-05-16T13:27:33.328Z"
   },
   {
    "duration": 0,
    "start_time": "2022-05-16T13:27:33.330Z"
   },
   {
    "duration": 0,
    "start_time": "2022-05-16T13:27:33.331Z"
   },
   {
    "duration": 0,
    "start_time": "2022-05-16T13:27:33.332Z"
   },
   {
    "duration": 0,
    "start_time": "2022-05-16T13:27:33.334Z"
   },
   {
    "duration": 0,
    "start_time": "2022-05-16T13:27:33.335Z"
   },
   {
    "duration": 0,
    "start_time": "2022-05-16T13:27:33.337Z"
   },
   {
    "duration": 19,
    "start_time": "2022-05-16T13:27:37.717Z"
   },
   {
    "duration": 23,
    "start_time": "2022-05-16T13:27:41.682Z"
   },
   {
    "duration": 35,
    "start_time": "2022-05-16T13:28:56.772Z"
   },
   {
    "duration": 26,
    "start_time": "2022-05-16T13:30:00.269Z"
   },
   {
    "duration": 92,
    "start_time": "2022-05-16T13:30:13.278Z"
   },
   {
    "duration": 12,
    "start_time": "2022-05-16T13:30:13.373Z"
   },
   {
    "duration": 10,
    "start_time": "2022-05-16T13:30:13.387Z"
   },
   {
    "duration": 24,
    "start_time": "2022-05-16T13:30:13.400Z"
   },
   {
    "duration": 26,
    "start_time": "2022-05-16T13:30:13.427Z"
   },
   {
    "duration": 17,
    "start_time": "2022-05-16T13:30:13.458Z"
   },
   {
    "duration": 10,
    "start_time": "2022-05-16T13:30:13.477Z"
   },
   {
    "duration": 16,
    "start_time": "2022-05-16T13:30:13.489Z"
   },
   {
    "duration": 11,
    "start_time": "2022-05-16T13:30:13.507Z"
   },
   {
    "duration": 18,
    "start_time": "2022-05-16T13:30:13.554Z"
   },
   {
    "duration": 25,
    "start_time": "2022-05-16T13:30:13.574Z"
   },
   {
    "duration": 25,
    "start_time": "2022-05-16T13:30:13.601Z"
   },
   {
    "duration": 55,
    "start_time": "2022-05-16T13:30:13.652Z"
   },
   {
    "duration": 9,
    "start_time": "2022-05-16T13:30:13.709Z"
   },
   {
    "duration": 53,
    "start_time": "2022-05-16T13:30:13.721Z"
   },
   {
    "duration": 9,
    "start_time": "2022-05-16T13:30:13.776Z"
   },
   {
    "duration": 14,
    "start_time": "2022-05-16T13:30:13.787Z"
   },
   {
    "duration": 6,
    "start_time": "2022-05-16T13:30:13.803Z"
   },
   {
    "duration": 49,
    "start_time": "2022-05-16T13:30:13.811Z"
   },
   {
    "duration": 117,
    "start_time": "2022-05-16T13:30:13.862Z"
   },
   {
    "duration": 0,
    "start_time": "2022-05-16T13:30:13.983Z"
   },
   {
    "duration": 0,
    "start_time": "2022-05-16T13:30:13.985Z"
   },
   {
    "duration": 0,
    "start_time": "2022-05-16T13:30:13.987Z"
   },
   {
    "duration": 0,
    "start_time": "2022-05-16T13:30:13.988Z"
   },
   {
    "duration": 0,
    "start_time": "2022-05-16T13:30:13.990Z"
   },
   {
    "duration": 0,
    "start_time": "2022-05-16T13:30:13.992Z"
   },
   {
    "duration": 0,
    "start_time": "2022-05-16T13:30:13.994Z"
   },
   {
    "duration": 0,
    "start_time": "2022-05-16T13:30:13.996Z"
   },
   {
    "duration": 0,
    "start_time": "2022-05-16T13:30:13.998Z"
   },
   {
    "duration": 0,
    "start_time": "2022-05-16T13:30:13.999Z"
   },
   {
    "duration": 0,
    "start_time": "2022-05-16T13:30:14.000Z"
   },
   {
    "duration": 0,
    "start_time": "2022-05-16T13:30:14.001Z"
   },
   {
    "duration": 0,
    "start_time": "2022-05-16T13:30:14.003Z"
   },
   {
    "duration": 0,
    "start_time": "2022-05-16T13:30:14.004Z"
   },
   {
    "duration": 0,
    "start_time": "2022-05-16T13:30:14.006Z"
   },
   {
    "duration": 0,
    "start_time": "2022-05-16T13:30:14.007Z"
   },
   {
    "duration": 0,
    "start_time": "2022-05-16T13:30:14.009Z"
   },
   {
    "duration": 0,
    "start_time": "2022-05-16T13:30:14.010Z"
   },
   {
    "duration": 0,
    "start_time": "2022-05-16T13:30:14.011Z"
   },
   {
    "duration": 0,
    "start_time": "2022-05-16T13:30:14.013Z"
   },
   {
    "duration": 0,
    "start_time": "2022-05-16T13:30:14.014Z"
   },
   {
    "duration": 0,
    "start_time": "2022-05-16T13:30:14.016Z"
   },
   {
    "duration": 14,
    "start_time": "2022-05-16T13:30:18.612Z"
   },
   {
    "duration": 110,
    "start_time": "2022-05-16T13:30:21.651Z"
   },
   {
    "duration": 12,
    "start_time": "2022-05-16T13:30:21.764Z"
   },
   {
    "duration": 6,
    "start_time": "2022-05-16T13:30:21.778Z"
   },
   {
    "duration": 8,
    "start_time": "2022-05-16T13:30:21.786Z"
   },
   {
    "duration": 11,
    "start_time": "2022-05-16T13:30:21.798Z"
   },
   {
    "duration": 60,
    "start_time": "2022-05-16T13:30:21.811Z"
   },
   {
    "duration": 8,
    "start_time": "2022-05-16T13:30:21.873Z"
   },
   {
    "duration": 10,
    "start_time": "2022-05-16T13:30:21.883Z"
   },
   {
    "duration": 56,
    "start_time": "2022-05-16T13:30:21.895Z"
   },
   {
    "duration": 20,
    "start_time": "2022-05-16T13:30:21.954Z"
   },
   {
    "duration": 22,
    "start_time": "2022-05-16T13:30:21.977Z"
   },
   {
    "duration": 62,
    "start_time": "2022-05-16T13:30:22.002Z"
   },
   {
    "duration": 50,
    "start_time": "2022-05-16T13:30:22.067Z"
   },
   {
    "duration": 30,
    "start_time": "2022-05-16T13:30:22.123Z"
   },
   {
    "duration": 31,
    "start_time": "2022-05-16T13:30:22.156Z"
   },
   {
    "duration": 10,
    "start_time": "2022-05-16T13:30:22.190Z"
   },
   {
    "duration": 17,
    "start_time": "2022-05-16T13:30:22.203Z"
   },
   {
    "duration": 6,
    "start_time": "2022-05-16T13:30:22.251Z"
   },
   {
    "duration": 29,
    "start_time": "2022-05-16T13:30:22.260Z"
   },
   {
    "duration": 166,
    "start_time": "2022-05-16T13:30:22.292Z"
   },
   {
    "duration": 0,
    "start_time": "2022-05-16T13:30:22.461Z"
   },
   {
    "duration": 0,
    "start_time": "2022-05-16T13:30:22.464Z"
   },
   {
    "duration": 0,
    "start_time": "2022-05-16T13:30:22.466Z"
   },
   {
    "duration": 0,
    "start_time": "2022-05-16T13:30:22.468Z"
   },
   {
    "duration": 0,
    "start_time": "2022-05-16T13:30:22.471Z"
   },
   {
    "duration": 0,
    "start_time": "2022-05-16T13:30:22.473Z"
   },
   {
    "duration": 0,
    "start_time": "2022-05-16T13:30:22.475Z"
   },
   {
    "duration": 0,
    "start_time": "2022-05-16T13:30:22.477Z"
   },
   {
    "duration": 0,
    "start_time": "2022-05-16T13:30:22.478Z"
   },
   {
    "duration": 0,
    "start_time": "2022-05-16T13:30:22.480Z"
   },
   {
    "duration": 0,
    "start_time": "2022-05-16T13:30:22.481Z"
   },
   {
    "duration": 0,
    "start_time": "2022-05-16T13:30:22.483Z"
   },
   {
    "duration": 0,
    "start_time": "2022-05-16T13:30:22.484Z"
   },
   {
    "duration": 0,
    "start_time": "2022-05-16T13:30:22.485Z"
   },
   {
    "duration": 0,
    "start_time": "2022-05-16T13:30:22.487Z"
   },
   {
    "duration": 0,
    "start_time": "2022-05-16T13:30:22.489Z"
   },
   {
    "duration": 0,
    "start_time": "2022-05-16T13:30:22.490Z"
   },
   {
    "duration": 0,
    "start_time": "2022-05-16T13:30:22.491Z"
   },
   {
    "duration": 0,
    "start_time": "2022-05-16T13:30:22.493Z"
   },
   {
    "duration": 0,
    "start_time": "2022-05-16T13:30:22.496Z"
   },
   {
    "duration": 0,
    "start_time": "2022-05-16T13:30:22.551Z"
   },
   {
    "duration": 0,
    "start_time": "2022-05-16T13:30:22.553Z"
   },
   {
    "duration": 113,
    "start_time": "2022-05-16T13:30:32.366Z"
   },
   {
    "duration": 13,
    "start_time": "2022-05-16T13:30:32.482Z"
   },
   {
    "duration": 13,
    "start_time": "2022-05-16T13:30:32.497Z"
   },
   {
    "duration": 13,
    "start_time": "2022-05-16T13:30:32.513Z"
   },
   {
    "duration": 34,
    "start_time": "2022-05-16T13:30:32.529Z"
   },
   {
    "duration": 13,
    "start_time": "2022-05-16T13:30:32.566Z"
   },
   {
    "duration": 7,
    "start_time": "2022-05-16T13:30:32.581Z"
   },
   {
    "duration": 12,
    "start_time": "2022-05-16T13:30:32.590Z"
   },
   {
    "duration": 50,
    "start_time": "2022-05-16T13:30:32.605Z"
   },
   {
    "duration": 14,
    "start_time": "2022-05-16T13:30:32.658Z"
   },
   {
    "duration": 21,
    "start_time": "2022-05-16T13:30:32.674Z"
   },
   {
    "duration": 62,
    "start_time": "2022-05-16T13:30:32.698Z"
   },
   {
    "duration": 50,
    "start_time": "2022-05-16T13:30:32.762Z"
   },
   {
    "duration": 10,
    "start_time": "2022-05-16T13:30:32.816Z"
   },
   {
    "duration": 43,
    "start_time": "2022-05-16T13:30:32.828Z"
   },
   {
    "duration": 14,
    "start_time": "2022-05-16T13:30:32.873Z"
   },
   {
    "duration": 14,
    "start_time": "2022-05-16T13:30:32.889Z"
   },
   {
    "duration": 6,
    "start_time": "2022-05-16T13:30:32.905Z"
   },
   {
    "duration": 40,
    "start_time": "2022-05-16T13:30:32.913Z"
   },
   {
    "duration": 170,
    "start_time": "2022-05-16T13:30:32.955Z"
   },
   {
    "duration": 0,
    "start_time": "2022-05-16T13:30:33.127Z"
   },
   {
    "duration": 0,
    "start_time": "2022-05-16T13:30:33.129Z"
   },
   {
    "duration": 0,
    "start_time": "2022-05-16T13:30:33.130Z"
   },
   {
    "duration": 0,
    "start_time": "2022-05-16T13:30:33.132Z"
   },
   {
    "duration": 0,
    "start_time": "2022-05-16T13:30:33.133Z"
   },
   {
    "duration": 0,
    "start_time": "2022-05-16T13:30:33.134Z"
   },
   {
    "duration": 0,
    "start_time": "2022-05-16T13:30:33.136Z"
   },
   {
    "duration": 0,
    "start_time": "2022-05-16T13:30:33.137Z"
   },
   {
    "duration": 0,
    "start_time": "2022-05-16T13:30:33.138Z"
   },
   {
    "duration": 0,
    "start_time": "2022-05-16T13:30:33.140Z"
   },
   {
    "duration": 0,
    "start_time": "2022-05-16T13:30:33.141Z"
   },
   {
    "duration": 0,
    "start_time": "2022-05-16T13:30:33.143Z"
   },
   {
    "duration": 0,
    "start_time": "2022-05-16T13:30:33.144Z"
   },
   {
    "duration": 0,
    "start_time": "2022-05-16T13:30:33.145Z"
   },
   {
    "duration": 0,
    "start_time": "2022-05-16T13:30:33.146Z"
   },
   {
    "duration": 0,
    "start_time": "2022-05-16T13:30:33.148Z"
   },
   {
    "duration": 0,
    "start_time": "2022-05-16T13:30:33.149Z"
   },
   {
    "duration": 0,
    "start_time": "2022-05-16T13:30:33.151Z"
   },
   {
    "duration": 0,
    "start_time": "2022-05-16T13:30:33.152Z"
   },
   {
    "duration": 0,
    "start_time": "2022-05-16T13:30:33.153Z"
   },
   {
    "duration": 0,
    "start_time": "2022-05-16T13:30:33.155Z"
   },
   {
    "duration": 0,
    "start_time": "2022-05-16T13:30:33.157Z"
   },
   {
    "duration": 18,
    "start_time": "2022-05-16T13:31:02.406Z"
   },
   {
    "duration": 26,
    "start_time": "2022-05-16T13:31:10.762Z"
   },
   {
    "duration": 35,
    "start_time": "2022-05-16T13:31:28.651Z"
   },
   {
    "duration": 12,
    "start_time": "2022-05-16T13:32:12.398Z"
   },
   {
    "duration": 30,
    "start_time": "2022-05-16T13:32:17.549Z"
   },
   {
    "duration": 7,
    "start_time": "2022-05-16T13:32:26.413Z"
   },
   {
    "duration": 9,
    "start_time": "2022-05-16T13:32:28.326Z"
   },
   {
    "duration": 10,
    "start_time": "2022-05-16T13:32:30.605Z"
   },
   {
    "duration": 9,
    "start_time": "2022-05-16T13:32:32.217Z"
   },
   {
    "duration": 16,
    "start_time": "2022-05-16T13:32:42.874Z"
   },
   {
    "duration": 15,
    "start_time": "2022-05-16T13:36:06.694Z"
   },
   {
    "duration": 14,
    "start_time": "2022-05-16T13:36:25.914Z"
   },
   {
    "duration": 17,
    "start_time": "2022-05-16T13:39:24.692Z"
   },
   {
    "duration": 1685,
    "start_time": "2022-05-16T14:08:42.609Z"
   },
   {
    "duration": 2202,
    "start_time": "2022-05-16T14:09:04.037Z"
   },
   {
    "duration": 17,
    "start_time": "2022-05-16T14:09:14.711Z"
   },
   {
    "duration": 25,
    "start_time": "2022-05-16T14:16:41.965Z"
   },
   {
    "duration": 33,
    "start_time": "2022-05-16T14:21:23.815Z"
   },
   {
    "duration": 33,
    "start_time": "2022-05-16T14:21:49.361Z"
   },
   {
    "duration": 33,
    "start_time": "2022-05-16T14:22:47.256Z"
   },
   {
    "duration": 15,
    "start_time": "2022-05-16T14:25:30.937Z"
   },
   {
    "duration": 33,
    "start_time": "2022-05-16T14:26:36.050Z"
   },
   {
    "duration": 22,
    "start_time": "2022-05-16T14:28:29.178Z"
   },
   {
    "duration": 19,
    "start_time": "2022-05-16T14:34:24.761Z"
   },
   {
    "duration": 15,
    "start_time": "2022-05-16T14:50:55.937Z"
   },
   {
    "duration": 101,
    "start_time": "2022-05-16T15:04:03.425Z"
   },
   {
    "duration": 10,
    "start_time": "2022-05-16T15:04:11.484Z"
   },
   {
    "duration": 92,
    "start_time": "2022-05-16T15:04:17.470Z"
   },
   {
    "duration": 12,
    "start_time": "2022-05-16T15:04:17.565Z"
   },
   {
    "duration": 8,
    "start_time": "2022-05-16T15:04:17.579Z"
   },
   {
    "duration": 8,
    "start_time": "2022-05-16T15:04:17.590Z"
   },
   {
    "duration": 14,
    "start_time": "2022-05-16T15:04:17.601Z"
   },
   {
    "duration": 46,
    "start_time": "2022-05-16T15:04:17.617Z"
   },
   {
    "duration": 8,
    "start_time": "2022-05-16T15:04:17.667Z"
   },
   {
    "duration": 10,
    "start_time": "2022-05-16T15:04:17.678Z"
   },
   {
    "duration": 61,
    "start_time": "2022-05-16T15:04:17.691Z"
   },
   {
    "duration": 17,
    "start_time": "2022-05-16T15:04:17.755Z"
   },
   {
    "duration": 21,
    "start_time": "2022-05-16T15:04:17.775Z"
   },
   {
    "duration": 58,
    "start_time": "2022-05-16T15:04:17.799Z"
   },
   {
    "duration": 50,
    "start_time": "2022-05-16T15:04:17.859Z"
   },
   {
    "duration": 9,
    "start_time": "2022-05-16T15:04:17.914Z"
   },
   {
    "duration": 23,
    "start_time": "2022-05-16T15:04:17.952Z"
   },
   {
    "duration": 10,
    "start_time": "2022-05-16T15:04:17.977Z"
   },
   {
    "duration": 14,
    "start_time": "2022-05-16T15:04:17.991Z"
   },
   {
    "duration": 44,
    "start_time": "2022-05-16T15:04:18.008Z"
   },
   {
    "duration": 12,
    "start_time": "2022-05-16T15:04:18.054Z"
   },
   {
    "duration": 102,
    "start_time": "2022-05-16T15:04:18.070Z"
   },
   {
    "duration": 0,
    "start_time": "2022-05-16T15:04:18.175Z"
   },
   {
    "duration": 0,
    "start_time": "2022-05-16T15:04:18.177Z"
   },
   {
    "duration": 0,
    "start_time": "2022-05-16T15:04:18.179Z"
   },
   {
    "duration": 0,
    "start_time": "2022-05-16T15:04:18.181Z"
   },
   {
    "duration": 0,
    "start_time": "2022-05-16T15:04:18.182Z"
   },
   {
    "duration": 0,
    "start_time": "2022-05-16T15:04:18.185Z"
   },
   {
    "duration": 0,
    "start_time": "2022-05-16T15:04:18.187Z"
   },
   {
    "duration": 0,
    "start_time": "2022-05-16T15:04:18.189Z"
   },
   {
    "duration": 0,
    "start_time": "2022-05-16T15:04:18.190Z"
   },
   {
    "duration": 0,
    "start_time": "2022-05-16T15:04:18.192Z"
   },
   {
    "duration": 0,
    "start_time": "2022-05-16T15:04:18.193Z"
   },
   {
    "duration": 0,
    "start_time": "2022-05-16T15:04:18.195Z"
   },
   {
    "duration": 0,
    "start_time": "2022-05-16T15:04:18.197Z"
   },
   {
    "duration": 0,
    "start_time": "2022-05-16T15:04:18.198Z"
   },
   {
    "duration": 0,
    "start_time": "2022-05-16T15:04:18.200Z"
   },
   {
    "duration": 0,
    "start_time": "2022-05-16T15:04:18.202Z"
   },
   {
    "duration": 0,
    "start_time": "2022-05-16T15:04:18.203Z"
   },
   {
    "duration": 0,
    "start_time": "2022-05-16T15:04:18.205Z"
   },
   {
    "duration": 0,
    "start_time": "2022-05-16T15:04:18.207Z"
   },
   {
    "duration": 0,
    "start_time": "2022-05-16T15:04:18.211Z"
   },
   {
    "duration": 0,
    "start_time": "2022-05-16T15:04:18.252Z"
   },
   {
    "duration": 0,
    "start_time": "2022-05-16T15:04:18.253Z"
   },
   {
    "duration": 9,
    "start_time": "2022-05-16T15:04:43.712Z"
   },
   {
    "duration": 10,
    "start_time": "2022-05-16T15:04:46.802Z"
   },
   {
    "duration": 11,
    "start_time": "2022-05-16T15:04:50.532Z"
   },
   {
    "duration": 16,
    "start_time": "2022-05-16T15:04:57.518Z"
   },
   {
    "duration": 14,
    "start_time": "2022-05-16T15:04:59.248Z"
   },
   {
    "duration": 24,
    "start_time": "2022-05-16T15:05:03.176Z"
   },
   {
    "duration": 20,
    "start_time": "2022-05-16T15:05:07.888Z"
   },
   {
    "duration": 19,
    "start_time": "2022-05-16T15:05:14.102Z"
   },
   {
    "duration": 34,
    "start_time": "2022-05-16T15:05:17.192Z"
   },
   {
    "duration": 28,
    "start_time": "2022-05-16T15:05:20.841Z"
   },
   {
    "duration": 104,
    "start_time": "2022-05-16T15:05:26.665Z"
   },
   {
    "duration": 8,
    "start_time": "2022-05-16T15:05:33.470Z"
   },
   {
    "duration": 9,
    "start_time": "2022-05-16T15:05:55.882Z"
   },
   {
    "duration": 110,
    "start_time": "2022-05-16T15:06:38.559Z"
   },
   {
    "duration": 10,
    "start_time": "2022-05-16T15:07:08.811Z"
   },
   {
    "duration": 9,
    "start_time": "2022-05-16T15:07:15.611Z"
   },
   {
    "duration": 32,
    "start_time": "2022-05-16T15:07:26.335Z"
   },
   {
    "duration": 17,
    "start_time": "2022-05-16T15:08:13.336Z"
   },
   {
    "duration": 18,
    "start_time": "2022-05-16T15:08:20.066Z"
   },
   {
    "duration": 18,
    "start_time": "2022-05-16T15:08:23.924Z"
   },
   {
    "duration": 15,
    "start_time": "2022-05-16T15:08:27.487Z"
   },
   {
    "duration": 34,
    "start_time": "2022-05-16T15:10:17.431Z"
   },
   {
    "duration": 113,
    "start_time": "2022-05-16T15:37:54.943Z"
   },
   {
    "duration": 18,
    "start_time": "2022-05-16T15:40:24.728Z"
   },
   {
    "duration": 33,
    "start_time": "2022-05-16T15:42:12.316Z"
   },
   {
    "duration": 18,
    "start_time": "2022-05-16T16:06:10.206Z"
   },
   {
    "duration": 1649,
    "start_time": "2022-05-16T16:13:05.883Z"
   },
   {
    "duration": 21,
    "start_time": "2022-05-16T16:13:23.391Z"
   },
   {
    "duration": 10,
    "start_time": "2022-05-16T16:15:16.064Z"
   },
   {
    "duration": 20,
    "start_time": "2022-05-16T16:15:34.980Z"
   },
   {
    "duration": 19,
    "start_time": "2022-05-16T16:16:22.850Z"
   },
   {
    "duration": 91,
    "start_time": "2022-05-16T16:51:59.027Z"
   },
   {
    "duration": 95,
    "start_time": "2022-05-16T16:52:23.707Z"
   },
   {
    "duration": 96,
    "start_time": "2022-05-16T16:52:43.709Z"
   },
   {
    "duration": 90,
    "start_time": "2022-05-16T16:53:24.506Z"
   },
   {
    "duration": 12,
    "start_time": "2022-05-16T16:53:24.599Z"
   },
   {
    "duration": 9,
    "start_time": "2022-05-16T16:53:24.613Z"
   },
   {
    "duration": 32,
    "start_time": "2022-05-16T16:53:24.625Z"
   },
   {
    "duration": 12,
    "start_time": "2022-05-16T16:53:24.661Z"
   },
   {
    "duration": 14,
    "start_time": "2022-05-16T16:53:24.676Z"
   },
   {
    "duration": 7,
    "start_time": "2022-05-16T16:53:24.692Z"
   },
   {
    "duration": 93,
    "start_time": "2022-05-16T16:53:24.701Z"
   },
   {
    "duration": 0,
    "start_time": "2022-05-16T16:53:24.798Z"
   },
   {
    "duration": 0,
    "start_time": "2022-05-16T16:53:24.799Z"
   },
   {
    "duration": 0,
    "start_time": "2022-05-16T16:53:24.801Z"
   },
   {
    "duration": 0,
    "start_time": "2022-05-16T16:53:24.802Z"
   },
   {
    "duration": 0,
    "start_time": "2022-05-16T16:53:24.803Z"
   },
   {
    "duration": 0,
    "start_time": "2022-05-16T16:53:24.804Z"
   },
   {
    "duration": 0,
    "start_time": "2022-05-16T16:53:24.806Z"
   },
   {
    "duration": 0,
    "start_time": "2022-05-16T16:53:24.807Z"
   },
   {
    "duration": 0,
    "start_time": "2022-05-16T16:53:24.808Z"
   },
   {
    "duration": 0,
    "start_time": "2022-05-16T16:53:24.810Z"
   },
   {
    "duration": 0,
    "start_time": "2022-05-16T16:53:24.811Z"
   },
   {
    "duration": 0,
    "start_time": "2022-05-16T16:53:24.812Z"
   },
   {
    "duration": 0,
    "start_time": "2022-05-16T16:53:24.813Z"
   },
   {
    "duration": 0,
    "start_time": "2022-05-16T16:53:24.815Z"
   },
   {
    "duration": 0,
    "start_time": "2022-05-16T16:53:24.816Z"
   },
   {
    "duration": 0,
    "start_time": "2022-05-16T16:53:24.817Z"
   },
   {
    "duration": 0,
    "start_time": "2022-05-16T16:53:24.819Z"
   },
   {
    "duration": 0,
    "start_time": "2022-05-16T16:53:24.820Z"
   },
   {
    "duration": 0,
    "start_time": "2022-05-16T16:53:24.822Z"
   },
   {
    "duration": 0,
    "start_time": "2022-05-16T16:53:24.823Z"
   },
   {
    "duration": 0,
    "start_time": "2022-05-16T16:53:24.825Z"
   },
   {
    "duration": 0,
    "start_time": "2022-05-16T16:53:24.827Z"
   },
   {
    "duration": 0,
    "start_time": "2022-05-16T16:53:24.828Z"
   },
   {
    "duration": 0,
    "start_time": "2022-05-16T16:53:24.830Z"
   },
   {
    "duration": 94,
    "start_time": "2022-05-16T16:55:24.658Z"
   },
   {
    "duration": 9,
    "start_time": "2022-05-16T16:56:39.096Z"
   },
   {
    "duration": 12,
    "start_time": "2022-05-16T16:57:00.008Z"
   },
   {
    "duration": 13,
    "start_time": "2022-05-16T16:57:35.484Z"
   },
   {
    "duration": 10,
    "start_time": "2022-05-16T16:57:40.850Z"
   },
   {
    "duration": 9,
    "start_time": "2022-05-16T16:57:53.068Z"
   },
   {
    "duration": 20,
    "start_time": "2022-05-16T16:57:56.672Z"
   },
   {
    "duration": 10,
    "start_time": "2022-05-16T16:58:00.374Z"
   },
   {
    "duration": 82,
    "start_time": "2022-05-16T16:58:09.745Z"
   },
   {
    "duration": 12,
    "start_time": "2022-05-16T16:58:09.852Z"
   },
   {
    "duration": 9,
    "start_time": "2022-05-16T16:58:09.866Z"
   },
   {
    "duration": 6,
    "start_time": "2022-05-16T16:58:09.877Z"
   },
   {
    "duration": 11,
    "start_time": "2022-05-16T16:58:09.886Z"
   },
   {
    "duration": 54,
    "start_time": "2022-05-16T16:58:09.898Z"
   },
   {
    "duration": 7,
    "start_time": "2022-05-16T16:58:09.954Z"
   },
   {
    "duration": 10,
    "start_time": "2022-05-16T16:58:09.964Z"
   },
   {
    "duration": 11,
    "start_time": "2022-05-16T16:58:09.976Z"
   },
   {
    "duration": 16,
    "start_time": "2022-05-16T16:58:09.989Z"
   },
   {
    "duration": 66,
    "start_time": "2022-05-16T16:58:10.007Z"
   },
   {
    "duration": 27,
    "start_time": "2022-05-16T16:58:10.075Z"
   },
   {
    "duration": 75,
    "start_time": "2022-05-16T16:58:10.104Z"
   },
   {
    "duration": 10,
    "start_time": "2022-05-16T16:58:10.183Z"
   },
   {
    "duration": 22,
    "start_time": "2022-05-16T16:58:10.195Z"
   },
   {
    "duration": 39,
    "start_time": "2022-05-16T16:58:10.219Z"
   },
   {
    "duration": 13,
    "start_time": "2022-05-16T16:58:10.260Z"
   },
   {
    "duration": 9,
    "start_time": "2022-05-16T16:58:10.275Z"
   },
   {
    "duration": 11,
    "start_time": "2022-05-16T16:58:10.286Z"
   },
   {
    "duration": 9,
    "start_time": "2022-05-16T16:58:10.300Z"
   },
   {
    "duration": 49,
    "start_time": "2022-05-16T16:58:10.311Z"
   },
   {
    "duration": 13,
    "start_time": "2022-05-16T16:58:10.362Z"
   },
   {
    "duration": 16,
    "start_time": "2022-05-16T16:58:10.377Z"
   },
   {
    "duration": 12,
    "start_time": "2022-05-16T16:58:10.395Z"
   },
   {
    "duration": 64,
    "start_time": "2022-05-16T16:58:10.409Z"
   },
   {
    "duration": 19,
    "start_time": "2022-05-16T16:58:10.475Z"
   },
   {
    "duration": 18,
    "start_time": "2022-05-16T16:58:10.496Z"
   },
   {
    "duration": 48,
    "start_time": "2022-05-16T16:58:10.516Z"
   },
   {
    "duration": 17,
    "start_time": "2022-05-16T16:58:10.566Z"
   },
   {
    "duration": 34,
    "start_time": "2022-05-16T16:58:10.586Z"
   },
   {
    "duration": 18,
    "start_time": "2022-05-16T16:58:10.652Z"
   },
   {
    "duration": 18,
    "start_time": "2022-05-16T16:58:10.673Z"
   },
   {
    "duration": 884,
    "start_time": "2022-05-16T17:05:06.619Z"
   },
   {
    "duration": 291,
    "start_time": "2022-05-16T17:05:24.875Z"
   },
   {
    "duration": 115,
    "start_time": "2022-05-16T17:06:09.622Z"
   },
   {
    "duration": 98,
    "start_time": "2022-05-16T17:06:37.708Z"
   },
   {
    "duration": 95,
    "start_time": "2022-05-16T17:12:20.731Z"
   },
   {
    "duration": 11,
    "start_time": "2022-05-16T17:13:14.077Z"
   },
   {
    "duration": 7,
    "start_time": "2022-05-16T17:13:14.091Z"
   },
   {
    "duration": 8,
    "start_time": "2022-05-16T17:13:14.100Z"
   },
   {
    "duration": 42,
    "start_time": "2022-05-16T17:13:14.110Z"
   },
   {
    "duration": 12,
    "start_time": "2022-05-16T17:13:14.154Z"
   },
   {
    "duration": 10,
    "start_time": "2022-05-16T17:13:14.168Z"
   },
   {
    "duration": 15,
    "start_time": "2022-05-16T17:13:14.180Z"
   },
   {
    "duration": 11,
    "start_time": "2022-05-16T17:13:14.197Z"
   },
   {
    "duration": 47,
    "start_time": "2022-05-16T17:13:14.210Z"
   },
   {
    "duration": 22,
    "start_time": "2022-05-16T17:13:14.259Z"
   },
   {
    "duration": 23,
    "start_time": "2022-05-16T17:13:14.284Z"
   },
   {
    "duration": 81,
    "start_time": "2022-05-16T17:13:14.310Z"
   },
   {
    "duration": 9,
    "start_time": "2022-05-16T17:13:14.394Z"
   },
   {
    "duration": 46,
    "start_time": "2022-05-16T17:13:14.405Z"
   },
   {
    "duration": 9,
    "start_time": "2022-05-16T17:13:14.454Z"
   },
   {
    "duration": 54673,
    "start_time": "2022-05-16T17:13:14.466Z"
   },
   {
    "duration": 13,
    "start_time": "2022-05-16T17:14:09.141Z"
   },
   {
    "duration": 11,
    "start_time": "2022-05-16T17:14:09.156Z"
   },
   {
    "duration": 12,
    "start_time": "2022-05-16T17:14:09.169Z"
   },
   {
    "duration": 9,
    "start_time": "2022-05-16T17:14:09.183Z"
   },
   {
    "duration": 16,
    "start_time": "2022-05-16T17:14:09.194Z"
   },
   {
    "duration": 45,
    "start_time": "2022-05-16T17:14:09.212Z"
   },
   {
    "duration": 16,
    "start_time": "2022-05-16T17:14:09.259Z"
   },
   {
    "duration": 13,
    "start_time": "2022-05-16T17:14:09.277Z"
   },
   {
    "duration": 64,
    "start_time": "2022-05-16T17:14:09.293Z"
   },
   {
    "duration": 19,
    "start_time": "2022-05-16T17:14:09.359Z"
   },
   {
    "duration": 21,
    "start_time": "2022-05-16T17:14:09.381Z"
   },
   {
    "duration": 59,
    "start_time": "2022-05-16T17:14:09.405Z"
   },
   {
    "duration": 17,
    "start_time": "2022-05-16T17:14:09.467Z"
   },
   {
    "duration": 66,
    "start_time": "2022-05-16T17:14:09.487Z"
   },
   {
    "duration": 18,
    "start_time": "2022-05-16T17:14:09.556Z"
   },
   {
    "duration": 17,
    "start_time": "2022-05-16T17:14:09.576Z"
   },
   {
    "duration": 92,
    "start_time": "2022-05-16T17:14:09.893Z"
   },
   {
    "duration": 7,
    "start_time": "2022-05-16T17:14:10.434Z"
   },
   {
    "duration": 24,
    "start_time": "2022-05-16T18:36:09.979Z"
   },
   {
    "duration": 1834,
    "start_time": "2022-05-16T18:37:53.016Z"
   },
   {
    "duration": 1538,
    "start_time": "2022-05-16T18:37:56.549Z"
   },
   {
    "duration": 93,
    "start_time": "2022-05-16T18:38:03.766Z"
   },
   {
    "duration": 14,
    "start_time": "2022-05-16T18:38:03.862Z"
   },
   {
    "duration": 10,
    "start_time": "2022-05-16T18:38:03.879Z"
   },
   {
    "duration": 7,
    "start_time": "2022-05-16T18:38:03.892Z"
   },
   {
    "duration": 52,
    "start_time": "2022-05-16T18:38:03.904Z"
   },
   {
    "duration": 18,
    "start_time": "2022-05-16T18:38:03.959Z"
   },
   {
    "duration": 9,
    "start_time": "2022-05-16T18:38:03.980Z"
   },
   {
    "duration": 8,
    "start_time": "2022-05-16T18:38:03.992Z"
   },
   {
    "duration": 59,
    "start_time": "2022-05-16T18:38:04.002Z"
   },
   {
    "duration": 20,
    "start_time": "2022-05-16T18:38:04.064Z"
   },
   {
    "duration": 33,
    "start_time": "2022-05-16T18:38:04.087Z"
   },
   {
    "duration": 26,
    "start_time": "2022-05-16T18:38:04.152Z"
   },
   {
    "duration": 76,
    "start_time": "2022-05-16T18:38:04.181Z"
   },
   {
    "duration": 10,
    "start_time": "2022-05-16T18:38:04.262Z"
   },
   {
    "duration": 27,
    "start_time": "2022-05-16T18:38:04.275Z"
   },
   {
    "duration": 23,
    "start_time": "2022-05-16T18:38:04.305Z"
   },
   {
    "duration": 0,
    "start_time": "2022-05-16T18:39:06.024Z"
   },
   {
    "duration": 0,
    "start_time": "2022-05-16T18:39:06.025Z"
   },
   {
    "duration": 0,
    "start_time": "2022-05-16T18:39:06.027Z"
   },
   {
    "duration": 0,
    "start_time": "2022-05-16T18:39:06.029Z"
   },
   {
    "duration": 0,
    "start_time": "2022-05-16T18:39:06.030Z"
   },
   {
    "duration": 0,
    "start_time": "2022-05-16T18:39:06.032Z"
   },
   {
    "duration": 0,
    "start_time": "2022-05-16T18:39:06.033Z"
   },
   {
    "duration": 0,
    "start_time": "2022-05-16T18:39:06.035Z"
   },
   {
    "duration": 0,
    "start_time": "2022-05-16T18:39:06.036Z"
   },
   {
    "duration": 0,
    "start_time": "2022-05-16T18:39:06.038Z"
   },
   {
    "duration": 0,
    "start_time": "2022-05-16T18:39:06.039Z"
   },
   {
    "duration": 0,
    "start_time": "2022-05-16T18:39:06.041Z"
   },
   {
    "duration": 0,
    "start_time": "2022-05-16T18:39:06.043Z"
   },
   {
    "duration": 0,
    "start_time": "2022-05-16T18:39:06.052Z"
   },
   {
    "duration": 0,
    "start_time": "2022-05-16T18:39:06.054Z"
   },
   {
    "duration": 0,
    "start_time": "2022-05-16T18:39:06.056Z"
   },
   {
    "duration": 0,
    "start_time": "2022-05-16T18:39:06.057Z"
   },
   {
    "duration": 0,
    "start_time": "2022-05-16T18:39:06.059Z"
   },
   {
    "duration": 0,
    "start_time": "2022-05-16T18:39:06.061Z"
   },
   {
    "duration": 0,
    "start_time": "2022-05-16T18:39:06.062Z"
   },
   {
    "duration": 0,
    "start_time": "2022-05-16T18:39:06.064Z"
   },
   {
    "duration": 0,
    "start_time": "2022-05-16T18:39:06.065Z"
   },
   {
    "duration": 0,
    "start_time": "2022-05-16T18:39:06.067Z"
   },
   {
    "duration": 0,
    "start_time": "2022-05-16T18:39:06.068Z"
   },
   {
    "duration": 0,
    "start_time": "2022-05-16T18:39:06.070Z"
   },
   {
    "duration": 0,
    "start_time": "2022-05-16T18:39:06.071Z"
   },
   {
    "duration": 0,
    "start_time": "2022-05-16T18:39:06.073Z"
   },
   {
    "duration": 0,
    "start_time": "2022-05-16T18:39:06.074Z"
   },
   {
    "duration": 0,
    "start_time": "2022-05-16T18:39:06.077Z"
   },
   {
    "duration": 0,
    "start_time": "2022-05-16T18:39:06.078Z"
   },
   {
    "duration": 0,
    "start_time": "2022-05-16T18:39:06.080Z"
   },
   {
    "duration": 0,
    "start_time": "2022-05-16T18:39:06.081Z"
   },
   {
    "duration": 0,
    "start_time": "2022-05-16T18:39:06.083Z"
   },
   {
    "duration": 104,
    "start_time": "2022-05-16T18:39:08.350Z"
   },
   {
    "duration": 13,
    "start_time": "2022-05-16T18:39:08.457Z"
   },
   {
    "duration": 8,
    "start_time": "2022-05-16T18:39:08.472Z"
   },
   {
    "duration": 8,
    "start_time": "2022-05-16T18:39:08.482Z"
   },
   {
    "duration": 59,
    "start_time": "2022-05-16T18:39:08.493Z"
   },
   {
    "duration": 19,
    "start_time": "2022-05-16T18:39:08.555Z"
   },
   {
    "duration": 8,
    "start_time": "2022-05-16T18:39:08.576Z"
   },
   {
    "duration": 12,
    "start_time": "2022-05-16T18:39:08.587Z"
   },
   {
    "duration": 57,
    "start_time": "2022-05-16T18:39:08.601Z"
   },
   {
    "duration": 20,
    "start_time": "2022-05-16T18:39:08.661Z"
   },
   {
    "duration": 29,
    "start_time": "2022-05-16T18:39:08.684Z"
   },
   {
    "duration": 60,
    "start_time": "2022-05-16T18:39:08.715Z"
   },
   {
    "duration": 76,
    "start_time": "2022-05-16T18:39:08.777Z"
   },
   {
    "duration": 13,
    "start_time": "2022-05-16T18:39:08.859Z"
   },
   {
    "duration": 26,
    "start_time": "2022-05-16T18:39:08.874Z"
   },
   {
    "duration": 10,
    "start_time": "2022-05-16T18:39:08.903Z"
   },
   {
    "duration": 8,
    "start_time": "2022-05-16T18:40:15.028Z"
   },
   {
    "duration": 11,
    "start_time": "2022-05-16T18:40:15.059Z"
   },
   {
    "duration": 10,
    "start_time": "2022-05-16T18:40:15.072Z"
   },
   {
    "duration": 14,
    "start_time": "2022-05-16T18:40:15.084Z"
   },
   {
    "duration": 57,
    "start_time": "2022-05-16T18:40:15.102Z"
   },
   {
    "duration": 21,
    "start_time": "2022-05-16T18:40:15.162Z"
   },
   {
    "duration": 17,
    "start_time": "2022-05-16T18:40:15.186Z"
   },
   {
    "duration": 68,
    "start_time": "2022-05-16T18:40:15.206Z"
   },
   {
    "duration": 22,
    "start_time": "2022-05-16T18:40:15.277Z"
   },
   {
    "duration": 20,
    "start_time": "2022-05-16T18:40:15.302Z"
   },
   {
    "duration": 46,
    "start_time": "2022-05-16T18:40:15.324Z"
   },
   {
    "duration": 1469,
    "start_time": "2022-05-16T18:40:15.373Z"
   },
   {
    "duration": 0,
    "start_time": "2022-05-16T18:40:16.845Z"
   },
   {
    "duration": 0,
    "start_time": "2022-05-16T18:40:16.847Z"
   },
   {
    "duration": 0,
    "start_time": "2022-05-16T18:40:16.850Z"
   },
   {
    "duration": 0,
    "start_time": "2022-05-16T18:40:16.854Z"
   },
   {
    "duration": 0,
    "start_time": "2022-05-16T18:40:16.856Z"
   },
   {
    "duration": 7,
    "start_time": "2022-05-16T18:40:26.496Z"
   },
   {
    "duration": 1656,
    "start_time": "2022-05-16T18:43:54.999Z"
   },
   {
    "duration": 20,
    "start_time": "2022-05-16T18:44:17.939Z"
   },
   {
    "duration": 35,
    "start_time": "2022-05-16T18:46:30.200Z"
   },
   {
    "duration": 17,
    "start_time": "2022-05-16T18:47:34.044Z"
   },
   {
    "duration": 17,
    "start_time": "2022-05-16T18:48:11.625Z"
   },
   {
    "duration": 1690,
    "start_time": "2022-05-16T18:48:36.000Z"
   },
   {
    "duration": 1531,
    "start_time": "2022-05-16T18:48:40.056Z"
   },
   {
    "duration": 13,
    "start_time": "2022-05-16T18:48:56.054Z"
   },
   {
    "duration": 20,
    "start_time": "2022-05-16T18:49:11.744Z"
   },
   {
    "duration": 26,
    "start_time": "2022-05-16T18:49:19.789Z"
   },
   {
    "duration": 14,
    "start_time": "2022-05-16T18:51:04.780Z"
   },
   {
    "duration": 77,
    "start_time": "2022-05-16T18:51:45.254Z"
   },
   {
    "duration": 69,
    "start_time": "2022-05-16T18:51:48.486Z"
   },
   {
    "duration": 95,
    "start_time": "2022-05-16T18:52:20.188Z"
   },
   {
    "duration": 132,
    "start_time": "2022-05-16T18:53:01.044Z"
   },
   {
    "duration": 35,
    "start_time": "2022-05-16T19:42:59.721Z"
   },
   {
    "duration": 21,
    "start_time": "2022-05-16T19:43:11.104Z"
   },
   {
    "duration": 15,
    "start_time": "2022-05-16T19:43:22.803Z"
   },
   {
    "duration": 89,
    "start_time": "2022-05-16T19:43:31.030Z"
   },
   {
    "duration": 33,
    "start_time": "2022-05-16T19:43:31.122Z"
   },
   {
    "duration": 7,
    "start_time": "2022-05-16T19:43:31.157Z"
   },
   {
    "duration": 8,
    "start_time": "2022-05-16T19:43:31.167Z"
   },
   {
    "duration": 15,
    "start_time": "2022-05-16T19:43:31.179Z"
   },
   {
    "duration": 15,
    "start_time": "2022-05-16T19:43:31.196Z"
   },
   {
    "duration": 42,
    "start_time": "2022-05-16T19:43:31.213Z"
   },
   {
    "duration": 20,
    "start_time": "2022-05-16T19:43:31.257Z"
   },
   {
    "duration": 21,
    "start_time": "2022-05-16T19:43:31.279Z"
   },
   {
    "duration": 15,
    "start_time": "2022-05-16T19:43:31.302Z"
   },
   {
    "duration": 45,
    "start_time": "2022-05-16T19:43:31.320Z"
   },
   {
    "duration": 25,
    "start_time": "2022-05-16T19:43:31.367Z"
   },
   {
    "duration": 74,
    "start_time": "2022-05-16T19:43:31.394Z"
   },
   {
    "duration": 9,
    "start_time": "2022-05-16T19:43:31.473Z"
   },
   {
    "duration": 39,
    "start_time": "2022-05-16T19:43:31.484Z"
   },
   {
    "duration": 10,
    "start_time": "2022-05-16T19:43:31.525Z"
   },
   {
    "duration": 101,
    "start_time": "2022-05-16T19:48:11.481Z"
   },
   {
    "duration": 29,
    "start_time": "2022-05-16T19:48:11.593Z"
   },
   {
    "duration": 8,
    "start_time": "2022-05-16T19:48:11.652Z"
   },
   {
    "duration": 21,
    "start_time": "2022-05-16T19:48:11.698Z"
   },
   {
    "duration": 12,
    "start_time": "2022-05-16T19:48:11.746Z"
   },
   {
    "duration": 29,
    "start_time": "2022-05-16T19:48:11.772Z"
   },
   {
    "duration": 22,
    "start_time": "2022-05-16T19:48:11.846Z"
   },
   {
    "duration": 25,
    "start_time": "2022-05-16T19:48:11.902Z"
   },
   {
    "duration": 37,
    "start_time": "2022-05-16T19:48:11.959Z"
   },
   {
    "duration": 15,
    "start_time": "2022-05-16T19:48:12.044Z"
   },
   {
    "duration": 22,
    "start_time": "2022-05-16T19:48:12.102Z"
   },
   {
    "duration": 30,
    "start_time": "2022-05-16T19:48:12.188Z"
   },
   {
    "duration": 76,
    "start_time": "2022-05-16T19:48:12.258Z"
   },
   {
    "duration": 64,
    "start_time": "2022-05-16T19:48:12.360Z"
   },
   {
    "duration": 83,
    "start_time": "2022-05-16T19:48:12.483Z"
   },
   {
    "duration": 11,
    "start_time": "2022-05-16T19:49:59.858Z"
   },
   {
    "duration": 6,
    "start_time": "2022-05-16T19:49:59.886Z"
   },
   {
    "duration": 11,
    "start_time": "2022-05-16T19:49:59.955Z"
   },
   {
    "duration": 11,
    "start_time": "2022-05-16T19:49:59.983Z"
   },
   {
    "duration": 45,
    "start_time": "2022-05-16T19:50:00.011Z"
   },
   {
    "duration": 10,
    "start_time": "2022-05-16T19:50:00.085Z"
   },
   {
    "duration": 36,
    "start_time": "2022-05-16T19:50:00.117Z"
   },
   {
    "duration": 16,
    "start_time": "2022-05-16T19:50:00.253Z"
   },
   {
    "duration": 0,
    "start_time": "2022-05-16T19:50:00.273Z"
   },
   {
    "duration": 0,
    "start_time": "2022-05-16T19:50:00.275Z"
   },
   {
    "duration": 0,
    "start_time": "2022-05-16T19:50:00.278Z"
   },
   {
    "duration": 0,
    "start_time": "2022-05-16T19:50:00.281Z"
   },
   {
    "duration": 0,
    "start_time": "2022-05-16T19:50:00.283Z"
   },
   {
    "duration": 0,
    "start_time": "2022-05-16T19:50:00.286Z"
   },
   {
    "duration": 0,
    "start_time": "2022-05-16T19:50:00.289Z"
   },
   {
    "duration": 0,
    "start_time": "2022-05-16T19:50:00.381Z"
   },
   {
    "duration": 0,
    "start_time": "2022-05-16T19:50:00.382Z"
   },
   {
    "duration": 0,
    "start_time": "2022-05-16T19:50:00.384Z"
   },
   {
    "duration": 15,
    "start_time": "2022-05-16T19:50:29.428Z"
   },
   {
    "duration": 19,
    "start_time": "2022-05-16T19:50:47.551Z"
   },
   {
    "duration": 18,
    "start_time": "2022-05-16T19:50:53.473Z"
   },
   {
    "duration": 16,
    "start_time": "2022-05-16T19:51:04.433Z"
   },
   {
    "duration": 15,
    "start_time": "2022-05-16T19:51:11.569Z"
   },
   {
    "duration": 16,
    "start_time": "2022-05-16T19:51:24.767Z"
   },
   {
    "duration": 15,
    "start_time": "2022-05-16T19:51:29.094Z"
   },
   {
    "duration": 17,
    "start_time": "2022-05-16T19:52:01.781Z"
   },
   {
    "duration": 18,
    "start_time": "2022-05-16T19:52:25.050Z"
   },
   {
    "duration": 32,
    "start_time": "2022-05-16T19:52:36.641Z"
   },
   {
    "duration": 15,
    "start_time": "2022-05-16T19:52:42.365Z"
   },
   {
    "duration": 17,
    "start_time": "2022-05-16T19:52:52.567Z"
   },
   {
    "duration": 8,
    "start_time": "2022-05-16T19:56:53.354Z"
   },
   {
    "duration": 7,
    "start_time": "2022-05-16T19:56:56.353Z"
   },
   {
    "duration": 85,
    "start_time": "2022-05-16T19:57:03.805Z"
   },
   {
    "duration": 12,
    "start_time": "2022-05-16T19:57:03.893Z"
   },
   {
    "duration": 8,
    "start_time": "2022-05-16T19:57:03.907Z"
   },
   {
    "duration": 22,
    "start_time": "2022-05-16T19:57:03.917Z"
   },
   {
    "duration": 11,
    "start_time": "2022-05-16T19:57:03.953Z"
   },
   {
    "duration": 12,
    "start_time": "2022-05-16T19:57:03.966Z"
   },
   {
    "duration": 7,
    "start_time": "2022-05-16T19:57:03.980Z"
   },
   {
    "duration": 11,
    "start_time": "2022-05-16T19:57:03.989Z"
   },
   {
    "duration": 51,
    "start_time": "2022-05-16T19:57:04.002Z"
   },
   {
    "duration": 13,
    "start_time": "2022-05-16T19:57:04.056Z"
   },
   {
    "duration": 22,
    "start_time": "2022-05-16T19:57:04.071Z"
   },
   {
    "duration": 61,
    "start_time": "2022-05-16T19:57:04.095Z"
   },
   {
    "duration": 52,
    "start_time": "2022-05-16T19:57:04.159Z"
   },
   {
    "duration": 9,
    "start_time": "2022-05-16T19:57:04.215Z"
   },
   {
    "duration": 21,
    "start_time": "2022-05-16T19:57:04.254Z"
   },
   {
    "duration": 11,
    "start_time": "2022-05-16T19:57:04.278Z"
   },
   {
    "duration": 91,
    "start_time": "2022-05-16T19:59:33.993Z"
   },
   {
    "duration": 12,
    "start_time": "2022-05-16T19:59:34.087Z"
   },
   {
    "duration": 8,
    "start_time": "2022-05-16T19:59:34.101Z"
   },
   {
    "duration": 7,
    "start_time": "2022-05-16T19:59:34.112Z"
   },
   {
    "duration": 39,
    "start_time": "2022-05-16T19:59:34.121Z"
   },
   {
    "duration": 13,
    "start_time": "2022-05-16T19:59:34.162Z"
   },
   {
    "duration": 8,
    "start_time": "2022-05-16T19:59:34.177Z"
   },
   {
    "duration": 9,
    "start_time": "2022-05-16T19:59:34.188Z"
   },
   {
    "duration": 55,
    "start_time": "2022-05-16T19:59:34.199Z"
   },
   {
    "duration": 14,
    "start_time": "2022-05-16T19:59:34.257Z"
   },
   {
    "duration": 22,
    "start_time": "2022-05-16T19:59:34.273Z"
   },
   {
    "duration": 57,
    "start_time": "2022-05-16T19:59:34.297Z"
   },
   {
    "duration": 48,
    "start_time": "2022-05-16T19:59:34.356Z"
   },
   {
    "duration": 9,
    "start_time": "2022-05-16T19:59:34.406Z"
   },
   {
    "duration": 49,
    "start_time": "2022-05-16T19:59:34.417Z"
   },
   {
    "duration": 9,
    "start_time": "2022-05-16T19:59:34.468Z"
   },
   {
    "duration": 11,
    "start_time": "2022-05-16T20:00:32.052Z"
   },
   {
    "duration": 19,
    "start_time": "2022-05-16T20:00:32.066Z"
   },
   {
    "duration": 12,
    "start_time": "2022-05-16T20:00:32.087Z"
   },
   {
    "duration": 13,
    "start_time": "2022-05-16T20:00:32.101Z"
   },
   {
    "duration": 40,
    "start_time": "2022-05-16T20:00:32.116Z"
   },
   {
    "duration": 22,
    "start_time": "2022-05-16T20:00:32.158Z"
   },
   {
    "duration": 17,
    "start_time": "2022-05-16T20:00:32.183Z"
   },
   {
    "duration": 12,
    "start_time": "2022-05-16T20:00:32.202Z"
   },
   {
    "duration": 47,
    "start_time": "2022-05-16T20:00:32.217Z"
   },
   {
    "duration": 21,
    "start_time": "2022-05-16T20:00:32.267Z"
   },
   {
    "duration": 22,
    "start_time": "2022-05-16T20:00:32.293Z"
   },
   {
    "duration": 45,
    "start_time": "2022-05-16T20:00:32.318Z"
   },
   {
    "duration": 19,
    "start_time": "2022-05-16T20:00:32.365Z"
   },
   {
    "duration": 66,
    "start_time": "2022-05-16T20:00:32.387Z"
   },
   {
    "duration": 20,
    "start_time": "2022-05-16T20:00:32.458Z"
   },
   {
    "duration": 19,
    "start_time": "2022-05-16T20:00:32.481Z"
   },
   {
    "duration": 8,
    "start_time": "2022-05-16T20:00:32.502Z"
   },
   {
    "duration": 65954,
    "start_time": "2022-05-16T20:00:32.513Z"
   },
   {
    "duration": 11,
    "start_time": "2022-05-16T20:01:52.502Z"
   },
   {
    "duration": 13,
    "start_time": "2022-05-16T20:03:22.442Z"
   },
   {
    "duration": 17,
    "start_time": "2022-05-16T20:04:16.209Z"
   },
   {
    "duration": 16,
    "start_time": "2022-05-16T20:06:08.166Z"
   },
   {
    "duration": 17,
    "start_time": "2022-05-16T20:06:32.516Z"
   },
   {
    "duration": 25,
    "start_time": "2022-05-16T20:11:44.874Z"
   },
   {
    "duration": 35,
    "start_time": "2022-05-16T20:13:40.041Z"
   },
   {
    "duration": 35,
    "start_time": "2022-05-16T20:13:58.538Z"
   },
   {
    "duration": 35,
    "start_time": "2022-05-16T20:18:48.238Z"
   },
   {
    "duration": 17,
    "start_time": "2022-05-16T20:19:11.706Z"
   },
   {
    "duration": 30,
    "start_time": "2022-05-16T20:23:28.155Z"
   },
   {
    "duration": 19,
    "start_time": "2022-05-16T20:26:08.269Z"
   },
   {
    "duration": 20,
    "start_time": "2022-05-16T20:27:56.952Z"
   },
   {
    "duration": 17,
    "start_time": "2022-05-16T20:28:46.249Z"
   },
   {
    "duration": 19,
    "start_time": "2022-05-16T20:30:47.430Z"
   },
   {
    "duration": 19,
    "start_time": "2022-05-16T20:32:00.538Z"
   },
   {
    "duration": 34,
    "start_time": "2022-05-16T20:32:34.111Z"
   },
   {
    "duration": 30,
    "start_time": "2022-05-16T20:35:24.590Z"
   },
   {
    "duration": 39,
    "start_time": "2022-05-16T20:36:42.586Z"
   },
   {
    "duration": 41,
    "start_time": "2022-05-16T20:37:25.775Z"
   },
   {
    "duration": 18,
    "start_time": "2022-05-16T20:42:53.919Z"
   },
   {
    "duration": 18,
    "start_time": "2022-05-16T20:47:27.971Z"
   },
   {
    "duration": 29,
    "start_time": "2022-05-16T20:49:02.937Z"
   },
   {
    "duration": 26,
    "start_time": "2022-05-16T20:54:05.047Z"
   },
   {
    "duration": 24,
    "start_time": "2022-05-16T20:55:08.185Z"
   },
   {
    "duration": 657,
    "start_time": "2022-05-16T20:56:04.823Z"
   },
   {
    "duration": 20,
    "start_time": "2022-05-16T20:56:40.100Z"
   },
   {
    "duration": 23,
    "start_time": "2022-05-16T20:58:15.405Z"
   },
   {
    "duration": 24,
    "start_time": "2022-05-16T20:58:41.728Z"
   },
   {
    "duration": 607,
    "start_time": "2022-05-17T07:03:38.740Z"
   },
   {
    "duration": 15,
    "start_time": "2022-05-17T07:03:39.350Z"
   },
   {
    "duration": 30,
    "start_time": "2022-05-17T07:03:39.367Z"
   },
   {
    "duration": 21,
    "start_time": "2022-05-17T07:03:39.399Z"
   },
   {
    "duration": 47,
    "start_time": "2022-05-17T07:03:39.423Z"
   },
   {
    "duration": 12,
    "start_time": "2022-05-17T07:03:39.473Z"
   },
   {
    "duration": 11,
    "start_time": "2022-05-17T07:03:39.488Z"
   },
   {
    "duration": 15,
    "start_time": "2022-05-17T07:03:39.502Z"
   },
   {
    "duration": 40,
    "start_time": "2022-05-17T07:03:39.520Z"
   },
   {
    "duration": 15,
    "start_time": "2022-05-17T07:03:39.562Z"
   },
   {
    "duration": 21,
    "start_time": "2022-05-17T07:03:39.579Z"
   },
   {
    "duration": 54,
    "start_time": "2022-05-17T07:03:39.603Z"
   },
   {
    "duration": 54,
    "start_time": "2022-05-17T07:03:39.659Z"
   },
   {
    "duration": 9,
    "start_time": "2022-05-17T07:03:39.717Z"
   },
   {
    "duration": 53,
    "start_time": "2022-05-17T07:03:39.728Z"
   },
   {
    "duration": 9,
    "start_time": "2022-05-17T07:03:39.784Z"
   },
   {
    "duration": 12,
    "start_time": "2022-05-17T07:04:37.642Z"
   },
   {
    "duration": 5,
    "start_time": "2022-05-17T07:04:37.656Z"
   },
   {
    "duration": 24,
    "start_time": "2022-05-17T07:04:37.663Z"
   },
   {
    "duration": 8,
    "start_time": "2022-05-17T07:04:37.690Z"
   },
   {
    "duration": 12,
    "start_time": "2022-05-17T07:04:37.701Z"
   },
   {
    "duration": 55,
    "start_time": "2022-05-17T07:04:37.715Z"
   },
   {
    "duration": 24,
    "start_time": "2022-05-17T07:04:37.773Z"
   },
   {
    "duration": 21,
    "start_time": "2022-05-17T07:04:37.800Z"
   },
   {
    "duration": 59,
    "start_time": "2022-05-17T07:04:37.823Z"
   },
   {
    "duration": 31,
    "start_time": "2022-05-17T07:04:37.885Z"
   },
   {
    "duration": 34,
    "start_time": "2022-05-17T07:04:37.918Z"
   },
   {
    "duration": 45,
    "start_time": "2022-05-17T07:04:37.955Z"
   },
   {
    "duration": 32,
    "start_time": "2022-05-17T07:04:38.002Z"
   },
   {
    "duration": 40,
    "start_time": "2022-05-17T07:04:38.037Z"
   },
   {
    "duration": 21,
    "start_time": "2022-05-17T07:04:38.079Z"
   },
   {
    "duration": 56,
    "start_time": "2022-05-17T07:04:38.103Z"
   },
   {
    "duration": 24,
    "start_time": "2022-05-17T07:04:38.161Z"
   },
   {
    "duration": 11,
    "start_time": "2022-05-17T07:04:38.187Z"
   },
   {
    "duration": 54985,
    "start_time": "2022-05-17T07:04:38.202Z"
   },
   {
    "duration": 102,
    "start_time": "2022-05-17T07:07:31.708Z"
   },
   {
    "duration": 41,
    "start_time": "2022-05-17T07:07:47.574Z"
   },
   {
    "duration": 35,
    "start_time": "2022-05-17T07:08:17.439Z"
   },
   {
    "duration": 14,
    "start_time": "2022-05-17T07:08:55.886Z"
   },
   {
    "duration": 4,
    "start_time": "2022-05-17T07:15:30.023Z"
   },
   {
    "duration": 4,
    "start_time": "2022-05-17T07:15:33.032Z"
   },
   {
    "duration": 4,
    "start_time": "2022-05-17T07:15:59.349Z"
   },
   {
    "duration": 4,
    "start_time": "2022-05-17T07:16:36.344Z"
   },
   {
    "duration": 82,
    "start_time": "2022-05-17T07:16:42.417Z"
   },
   {
    "duration": 12,
    "start_time": "2022-05-17T07:16:42.501Z"
   },
   {
    "duration": 7,
    "start_time": "2022-05-17T07:16:42.515Z"
   },
   {
    "duration": 6,
    "start_time": "2022-05-17T07:16:42.553Z"
   },
   {
    "duration": 13,
    "start_time": "2022-05-17T07:16:42.562Z"
   },
   {
    "duration": 12,
    "start_time": "2022-05-17T07:16:42.577Z"
   },
   {
    "duration": 7,
    "start_time": "2022-05-17T07:16:42.591Z"
   },
   {
    "duration": 54,
    "start_time": "2022-05-17T07:16:42.600Z"
   },
   {
    "duration": 10,
    "start_time": "2022-05-17T07:16:42.657Z"
   },
   {
    "duration": 14,
    "start_time": "2022-05-17T07:16:42.670Z"
   },
   {
    "duration": 21,
    "start_time": "2022-05-17T07:16:42.686Z"
   },
   {
    "duration": 64,
    "start_time": "2022-05-17T07:16:42.709Z"
   },
   {
    "duration": 49,
    "start_time": "2022-05-17T07:16:42.775Z"
   },
   {
    "duration": 30,
    "start_time": "2022-05-17T07:16:42.828Z"
   },
   {
    "duration": 25,
    "start_time": "2022-05-17T07:16:42.860Z"
   },
   {
    "duration": 8,
    "start_time": "2022-05-17T07:16:42.887Z"
   },
   {
    "duration": 52603,
    "start_time": "2022-05-17T07:16:42.897Z"
   },
   {
    "duration": 8,
    "start_time": "2022-05-17T07:17:35.553Z"
   },
   {
    "duration": 12,
    "start_time": "2022-05-17T07:17:35.563Z"
   },
   {
    "duration": 12,
    "start_time": "2022-05-17T07:17:35.576Z"
   },
   {
    "duration": 63,
    "start_time": "2022-05-17T07:17:35.590Z"
   },
   {
    "duration": 14,
    "start_time": "2022-05-17T07:17:35.655Z"
   },
   {
    "duration": 18,
    "start_time": "2022-05-17T07:17:35.671Z"
   },
   {
    "duration": 61,
    "start_time": "2022-05-17T07:17:35.691Z"
   },
   {
    "duration": 13,
    "start_time": "2022-05-17T07:17:35.754Z"
   },
   {
    "duration": 22,
    "start_time": "2022-05-17T07:17:35.770Z"
   },
   {
    "duration": 20,
    "start_time": "2022-05-17T07:17:35.851Z"
   },
   {
    "duration": 22,
    "start_time": "2022-05-17T07:17:35.873Z"
   },
   {
    "duration": 15,
    "start_time": "2022-05-17T07:17:35.953Z"
   },
   {
    "duration": 31,
    "start_time": "2022-05-17T07:17:35.970Z"
   },
   {
    "duration": 76,
    "start_time": "2022-05-17T07:17:36.003Z"
   },
   {
    "duration": 17,
    "start_time": "2022-05-17T07:17:36.081Z"
   },
   {
    "duration": 53,
    "start_time": "2022-05-17T07:17:36.100Z"
   },
   {
    "duration": 13,
    "start_time": "2022-05-17T07:17:36.156Z"
   },
   {
    "duration": 9,
    "start_time": "2022-05-17T07:17:36.171Z"
   },
   {
    "duration": 4,
    "start_time": "2022-05-17T07:17:36.183Z"
   },
   {
    "duration": 9,
    "start_time": "2022-05-17T07:18:01.148Z"
   },
   {
    "duration": 23,
    "start_time": "2022-05-17T07:20:20.017Z"
   },
   {
    "duration": 34,
    "start_time": "2022-05-17T07:21:40.022Z"
   },
   {
    "duration": 9,
    "start_time": "2022-05-17T07:40:16.720Z"
   },
   {
    "duration": 6,
    "start_time": "2022-05-17T07:40:51.125Z"
   },
   {
    "duration": 23,
    "start_time": "2022-05-17T07:41:16.777Z"
   },
   {
    "duration": 10,
    "start_time": "2022-05-17T07:43:01.672Z"
   },
   {
    "duration": 11,
    "start_time": "2022-05-17T07:43:06.417Z"
   },
   {
    "duration": 33,
    "start_time": "2022-05-17T07:43:51.717Z"
   },
   {
    "duration": 35,
    "start_time": "2022-05-17T07:52:47.761Z"
   },
   {
    "duration": 29,
    "start_time": "2022-05-17T07:53:14.010Z"
   },
   {
    "duration": 110,
    "start_time": "2022-05-17T07:56:32.673Z"
   },
   {
    "duration": 6,
    "start_time": "2022-05-17T07:56:59.183Z"
   },
   {
    "duration": 21,
    "start_time": "2022-05-17T08:00:26.242Z"
   },
   {
    "duration": 29,
    "start_time": "2022-05-17T08:00:53.407Z"
   },
   {
    "duration": 8,
    "start_time": "2022-05-17T08:01:43.582Z"
   },
   {
    "duration": 23,
    "start_time": "2022-05-17T08:02:07.791Z"
   },
   {
    "duration": 421,
    "start_time": "2022-05-17T08:02:43.103Z"
   },
   {
    "duration": 386,
    "start_time": "2022-05-17T08:06:28.548Z"
   },
   {
    "duration": 105,
    "start_time": "2022-05-17T08:07:56.486Z"
   },
   {
    "duration": 523,
    "start_time": "2022-05-17T08:08:06.624Z"
   },
   {
    "duration": 8,
    "start_time": "2022-05-17T08:13:25.116Z"
   },
   {
    "duration": 110,
    "start_time": "2022-05-17T08:14:24.984Z"
   },
   {
    "duration": 125,
    "start_time": "2022-05-17T08:14:49.688Z"
   },
   {
    "duration": 589,
    "start_time": "2022-05-17T08:51:02.320Z"
   },
   {
    "duration": 8,
    "start_time": "2022-05-17T08:51:02.912Z"
   },
   {
    "duration": 13,
    "start_time": "2022-05-17T08:51:02.922Z"
   },
   {
    "duration": 21,
    "start_time": "2022-05-17T08:51:02.938Z"
   },
   {
    "duration": 12,
    "start_time": "2022-05-17T08:51:02.962Z"
   },
   {
    "duration": 8,
    "start_time": "2022-05-17T08:51:03.010Z"
   },
   {
    "duration": 18,
    "start_time": "2022-05-17T08:51:03.021Z"
   },
   {
    "duration": 14,
    "start_time": "2022-05-17T08:51:03.042Z"
   },
   {
    "duration": 20,
    "start_time": "2022-05-17T08:51:03.059Z"
   },
   {
    "duration": 36,
    "start_time": "2022-05-17T08:51:03.113Z"
   },
   {
    "duration": 27,
    "start_time": "2022-05-17T08:51:03.151Z"
   },
   {
    "duration": 76,
    "start_time": "2022-05-17T08:51:03.181Z"
   },
   {
    "duration": 9,
    "start_time": "2022-05-17T08:51:03.260Z"
   },
   {
    "duration": 53,
    "start_time": "2022-05-17T08:51:03.271Z"
   },
   {
    "duration": 10,
    "start_time": "2022-05-17T08:51:03.326Z"
   },
   {
    "duration": 56640,
    "start_time": "2022-05-17T08:51:03.339Z"
   },
   {
    "duration": 9,
    "start_time": "2022-05-17T08:51:59.981Z"
   },
   {
    "duration": 36,
    "start_time": "2022-05-17T08:51:59.992Z"
   },
   {
    "duration": 24,
    "start_time": "2022-05-17T08:52:00.031Z"
   },
   {
    "duration": 14,
    "start_time": "2022-05-17T08:52:00.057Z"
   },
   {
    "duration": 25,
    "start_time": "2022-05-17T08:52:00.074Z"
   },
   {
    "duration": 27,
    "start_time": "2022-05-17T08:52:00.101Z"
   },
   {
    "duration": 40,
    "start_time": "2022-05-17T08:52:00.131Z"
   },
   {
    "duration": 25,
    "start_time": "2022-05-17T08:52:00.174Z"
   },
   {
    "duration": 29,
    "start_time": "2022-05-17T08:52:00.202Z"
   },
   {
    "duration": 26,
    "start_time": "2022-05-17T08:52:00.233Z"
   },
   {
    "duration": 27,
    "start_time": "2022-05-17T08:52:00.261Z"
   },
   {
    "duration": 38,
    "start_time": "2022-05-17T08:52:00.293Z"
   },
   {
    "duration": 39,
    "start_time": "2022-05-17T08:52:00.333Z"
   },
   {
    "duration": 44,
    "start_time": "2022-05-17T08:52:00.374Z"
   },
   {
    "duration": 18,
    "start_time": "2022-05-17T08:52:00.420Z"
   },
   {
    "duration": 16,
    "start_time": "2022-05-17T08:52:00.441Z"
   },
   {
    "duration": 625,
    "start_time": "2022-05-17T08:56:08.171Z"
   },
   {
    "duration": 13,
    "start_time": "2022-05-17T08:56:08.799Z"
   },
   {
    "duration": 12,
    "start_time": "2022-05-17T08:56:08.814Z"
   },
   {
    "duration": 24,
    "start_time": "2022-05-17T08:56:08.829Z"
   },
   {
    "duration": 13,
    "start_time": "2022-05-17T08:56:08.855Z"
   },
   {
    "duration": 41,
    "start_time": "2022-05-17T08:56:08.870Z"
   },
   {
    "duration": 10,
    "start_time": "2022-05-17T08:56:08.913Z"
   },
   {
    "duration": 15,
    "start_time": "2022-05-17T08:56:08.925Z"
   },
   {
    "duration": 16,
    "start_time": "2022-05-17T08:56:08.942Z"
   },
   {
    "duration": 64,
    "start_time": "2022-05-17T08:56:08.963Z"
   },
   {
    "duration": 29,
    "start_time": "2022-05-17T08:56:09.029Z"
   },
   {
    "duration": 78,
    "start_time": "2022-05-17T08:56:09.060Z"
   },
   {
    "duration": 9,
    "start_time": "2022-05-17T08:56:09.141Z"
   },
   {
    "duration": 58,
    "start_time": "2022-05-17T08:56:09.153Z"
   },
   {
    "duration": 14,
    "start_time": "2022-05-17T08:56:09.213Z"
   },
   {
    "duration": 60803,
    "start_time": "2022-05-17T08:56:09.232Z"
   },
   {
    "duration": 9,
    "start_time": "2022-05-17T08:57:10.037Z"
   },
   {
    "duration": 22,
    "start_time": "2022-05-17T08:57:10.049Z"
   },
   {
    "duration": 28,
    "start_time": "2022-05-17T08:57:10.074Z"
   },
   {
    "duration": 13,
    "start_time": "2022-05-17T08:57:10.109Z"
   },
   {
    "duration": 22,
    "start_time": "2022-05-17T08:57:10.125Z"
   },
   {
    "duration": 17,
    "start_time": "2022-05-17T08:57:10.150Z"
   },
   {
    "duration": 56,
    "start_time": "2022-05-17T08:57:10.170Z"
   },
   {
    "duration": 19,
    "start_time": "2022-05-17T08:57:10.229Z"
   },
   {
    "duration": 24,
    "start_time": "2022-05-17T08:57:10.250Z"
   },
   {
    "duration": 25,
    "start_time": "2022-05-17T08:57:10.308Z"
   },
   {
    "duration": 50,
    "start_time": "2022-05-17T08:57:10.337Z"
   },
   {
    "duration": 28,
    "start_time": "2022-05-17T08:57:10.392Z"
   },
   {
    "duration": 37,
    "start_time": "2022-05-17T08:57:10.423Z"
   },
   {
    "duration": 70,
    "start_time": "2022-05-17T08:57:10.462Z"
   },
   {
    "duration": 17,
    "start_time": "2022-05-17T08:57:10.535Z"
   },
   {
    "duration": 15,
    "start_time": "2022-05-17T08:57:10.555Z"
   },
   {
    "duration": 38,
    "start_time": "2022-05-17T08:57:10.572Z"
   },
   {
    "duration": 14,
    "start_time": "2022-05-17T09:00:10.063Z"
   },
   {
    "duration": 26,
    "start_time": "2022-05-17T09:00:38.019Z"
   },
   {
    "duration": 22,
    "start_time": "2022-05-17T09:00:53.237Z"
   },
   {
    "duration": 23,
    "start_time": "2022-05-17T09:03:56.638Z"
   },
   {
    "duration": 30,
    "start_time": "2022-05-17T09:04:18.851Z"
   },
   {
    "duration": 23,
    "start_time": "2022-05-17T09:07:07.590Z"
   },
   {
    "duration": 21,
    "start_time": "2022-05-17T09:07:46.989Z"
   },
   {
    "duration": 26,
    "start_time": "2022-05-17T09:12:48.580Z"
   },
   {
    "duration": 115,
    "start_time": "2022-05-17T09:14:37.020Z"
   },
   {
    "duration": 110,
    "start_time": "2022-05-17T09:14:59.414Z"
   },
   {
    "duration": 125,
    "start_time": "2022-05-17T09:15:31.804Z"
   },
   {
    "duration": 115,
    "start_time": "2022-05-17T09:16:06.779Z"
   },
   {
    "duration": 19,
    "start_time": "2022-05-17T09:16:19.884Z"
   },
   {
    "duration": 20,
    "start_time": "2022-05-17T09:16:42.389Z"
   },
   {
    "duration": 181,
    "start_time": "2022-05-17T09:17:11.455Z"
   },
   {
    "duration": 95,
    "start_time": "2022-05-17T09:18:08.322Z"
   },
   {
    "duration": 7,
    "start_time": "2022-05-17T09:18:39.715Z"
   },
   {
    "duration": 5,
    "start_time": "2022-05-17T09:18:55.444Z"
   },
   {
    "duration": 6,
    "start_time": "2022-05-17T09:19:30.983Z"
   },
   {
    "duration": 4,
    "start_time": "2022-05-17T09:19:34.442Z"
   },
   {
    "duration": 5,
    "start_time": "2022-05-17T09:19:43.232Z"
   },
   {
    "duration": 5,
    "start_time": "2022-05-17T09:20:19.764Z"
   },
   {
    "duration": 103,
    "start_time": "2022-05-17T09:21:34.598Z"
   },
   {
    "duration": 5,
    "start_time": "2022-05-17T09:21:42.077Z"
   },
   {
    "duration": 99,
    "start_time": "2022-05-17T09:24:27.097Z"
   },
   {
    "duration": 31,
    "start_time": "2022-05-17T09:25:08.209Z"
   },
   {
    "duration": 11,
    "start_time": "2022-05-17T09:25:42.621Z"
   },
   {
    "duration": 12,
    "start_time": "2022-05-17T09:26:01.255Z"
   },
   {
    "duration": 51,
    "start_time": "2022-05-17T09:26:26.079Z"
   },
   {
    "duration": 51,
    "start_time": "2022-05-17T14:06:53.522Z"
   },
   {
    "duration": 487,
    "start_time": "2022-05-17T14:08:03.719Z"
   },
   {
    "duration": 5,
    "start_time": "2022-05-17T14:08:04.208Z"
   },
   {
    "duration": 22,
    "start_time": "2022-05-17T14:08:04.214Z"
   },
   {
    "duration": 21,
    "start_time": "2022-05-17T14:08:04.238Z"
   },
   {
    "duration": 22,
    "start_time": "2022-05-17T14:08:04.261Z"
   },
   {
    "duration": 14,
    "start_time": "2022-05-17T14:08:04.285Z"
   },
   {
    "duration": 19,
    "start_time": "2022-05-17T14:08:04.301Z"
   },
   {
    "duration": 14,
    "start_time": "2022-05-17T14:08:04.322Z"
   },
   {
    "duration": 21,
    "start_time": "2022-05-17T14:08:04.337Z"
   },
   {
    "duration": 31,
    "start_time": "2022-05-17T14:08:04.361Z"
   },
   {
    "duration": 19,
    "start_time": "2022-05-17T14:08:04.393Z"
   },
   {
    "duration": 38,
    "start_time": "2022-05-17T14:08:04.413Z"
   },
   {
    "duration": 7,
    "start_time": "2022-05-17T14:08:04.453Z"
   },
   {
    "duration": 39,
    "start_time": "2022-05-17T14:08:04.462Z"
   },
   {
    "duration": 24,
    "start_time": "2022-05-17T14:08:04.503Z"
   },
   {
    "duration": 462,
    "start_time": "2022-05-17T14:08:24.633Z"
   },
   {
    "duration": 5,
    "start_time": "2022-05-17T14:08:25.097Z"
   },
   {
    "duration": 7,
    "start_time": "2022-05-17T14:08:25.104Z"
   },
   {
    "duration": 13,
    "start_time": "2022-05-17T14:08:25.114Z"
   },
   {
    "duration": 10,
    "start_time": "2022-05-17T14:08:25.129Z"
   },
   {
    "duration": 5,
    "start_time": "2022-05-17T14:08:25.140Z"
   },
   {
    "duration": 6,
    "start_time": "2022-05-17T14:08:25.147Z"
   },
   {
    "duration": 45,
    "start_time": "2022-05-17T14:08:25.155Z"
   },
   {
    "duration": 10,
    "start_time": "2022-05-17T14:08:25.202Z"
   },
   {
    "duration": 16,
    "start_time": "2022-05-17T14:08:25.216Z"
   },
   {
    "duration": 18,
    "start_time": "2022-05-17T14:08:25.234Z"
   },
   {
    "duration": 70,
    "start_time": "2022-05-17T14:08:25.254Z"
   },
   {
    "duration": 7,
    "start_time": "2022-05-17T14:08:25.326Z"
   },
   {
    "duration": 17,
    "start_time": "2022-05-17T14:08:25.334Z"
   },
   {
    "duration": 7,
    "start_time": "2022-05-17T14:08:25.353Z"
   },
   {
    "duration": 34208,
    "start_time": "2022-05-17T14:08:25.362Z"
   },
   {
    "duration": 7,
    "start_time": "2022-05-17T14:08:59.572Z"
   },
   {
    "duration": 17,
    "start_time": "2022-05-17T14:08:59.581Z"
   },
   {
    "duration": 10,
    "start_time": "2022-05-17T14:08:59.600Z"
   },
   {
    "duration": 8,
    "start_time": "2022-05-17T14:08:59.612Z"
   },
   {
    "duration": 9,
    "start_time": "2022-05-17T14:08:59.622Z"
   },
   {
    "duration": 10,
    "start_time": "2022-05-17T14:08:59.633Z"
   },
   {
    "duration": 16,
    "start_time": "2022-05-17T14:08:59.645Z"
   },
   {
    "duration": 44,
    "start_time": "2022-05-17T14:08:59.662Z"
   },
   {
    "duration": 18,
    "start_time": "2022-05-17T14:08:59.708Z"
   },
   {
    "duration": 15,
    "start_time": "2022-05-17T14:08:59.727Z"
   },
   {
    "duration": 14,
    "start_time": "2022-05-17T14:08:59.743Z"
   },
   {
    "duration": 52,
    "start_time": "2022-05-17T14:08:59.760Z"
   },
   {
    "duration": 19,
    "start_time": "2022-05-17T14:08:59.814Z"
   },
   {
    "duration": 26,
    "start_time": "2022-05-17T14:08:59.835Z"
   },
   {
    "duration": 38,
    "start_time": "2022-05-17T14:08:59.863Z"
   },
   {
    "duration": 20,
    "start_time": "2022-05-17T14:08:59.904Z"
   },
   {
    "duration": 5,
    "start_time": "2022-05-17T14:08:59.926Z"
   },
   {
    "duration": 26,
    "start_time": "2022-05-17T14:12:00.914Z"
   },
   {
    "duration": 16,
    "start_time": "2022-05-17T14:14:01.265Z"
   },
   {
    "duration": 26,
    "start_time": "2022-05-17T14:31:25.685Z"
   },
   {
    "duration": 14,
    "start_time": "2022-05-17T14:31:44.577Z"
   },
   {
    "duration": 16,
    "start_time": "2022-05-17T14:34:21.564Z"
   },
   {
    "duration": 16,
    "start_time": "2022-05-17T14:45:41.045Z"
   },
   {
    "duration": 1074,
    "start_time": "2022-05-17T14:52:02.483Z"
   },
   {
    "duration": 1120,
    "start_time": "2022-05-17T14:52:42.984Z"
   },
   {
    "duration": 59,
    "start_time": "2022-05-17T14:53:11.899Z"
   },
   {
    "duration": 71,
    "start_time": "2022-05-17T14:53:29.476Z"
   },
   {
    "duration": 16,
    "start_time": "2022-05-17T14:55:17.944Z"
   },
   {
    "duration": 74,
    "start_time": "2022-05-17T14:55:59.625Z"
   },
   {
    "duration": 63,
    "start_time": "2022-05-17T14:56:19.722Z"
   },
   {
    "duration": 72,
    "start_time": "2022-05-17T15:05:16.482Z"
   },
   {
    "duration": 17,
    "start_time": "2022-05-17T15:05:50.098Z"
   },
   {
    "duration": 22,
    "start_time": "2022-05-17T15:25:42.913Z"
   },
   {
    "duration": 23,
    "start_time": "2022-05-17T15:28:20.982Z"
   },
   {
    "duration": 42,
    "start_time": "2022-05-17T17:41:15.807Z"
   },
   {
    "duration": 3,
    "start_time": "2022-05-17T17:46:21.077Z"
   },
   {
    "duration": 4,
    "start_time": "2022-05-17T17:46:45.229Z"
   },
   {
    "duration": 6,
    "start_time": "2022-05-17T17:48:20.482Z"
   },
   {
    "duration": 519,
    "start_time": "2022-05-17T17:48:33.446Z"
   },
   {
    "duration": 5,
    "start_time": "2022-05-17T17:48:33.967Z"
   },
   {
    "duration": 10,
    "start_time": "2022-05-17T17:48:33.974Z"
   },
   {
    "duration": 18,
    "start_time": "2022-05-17T17:48:33.986Z"
   },
   {
    "duration": 13,
    "start_time": "2022-05-17T17:48:34.006Z"
   },
   {
    "duration": 7,
    "start_time": "2022-05-17T17:48:34.020Z"
   },
   {
    "duration": 8,
    "start_time": "2022-05-17T17:48:34.028Z"
   },
   {
    "duration": 30,
    "start_time": "2022-05-17T17:48:34.037Z"
   },
   {
    "duration": 14,
    "start_time": "2022-05-17T17:48:34.069Z"
   },
   {
    "duration": 15,
    "start_time": "2022-05-17T17:48:34.084Z"
   },
   {
    "duration": 15,
    "start_time": "2022-05-17T17:48:34.101Z"
   },
   {
    "duration": 56,
    "start_time": "2022-05-17T17:48:34.117Z"
   },
   {
    "duration": 9,
    "start_time": "2022-05-17T17:48:34.175Z"
   },
   {
    "duration": 18,
    "start_time": "2022-05-17T17:48:34.186Z"
   },
   {
    "duration": 10,
    "start_time": "2022-05-17T17:48:34.205Z"
   },
   {
    "duration": 37401,
    "start_time": "2022-05-17T17:48:34.217Z"
   },
   {
    "duration": 7,
    "start_time": "2022-05-17T17:49:11.620Z"
   },
   {
    "duration": 9,
    "start_time": "2022-05-17T17:49:11.629Z"
   },
   {
    "duration": 15,
    "start_time": "2022-05-17T17:49:11.640Z"
   },
   {
    "duration": 15,
    "start_time": "2022-05-17T17:49:11.656Z"
   },
   {
    "duration": 28,
    "start_time": "2022-05-17T17:49:11.673Z"
   },
   {
    "duration": 11,
    "start_time": "2022-05-17T17:49:11.703Z"
   },
   {
    "duration": 15,
    "start_time": "2022-05-17T17:49:11.716Z"
   },
   {
    "duration": 8,
    "start_time": "2022-05-17T17:49:11.732Z"
   },
   {
    "duration": 14,
    "start_time": "2022-05-17T17:49:11.742Z"
   },
   {
    "duration": 16,
    "start_time": "2022-05-17T17:49:11.763Z"
   },
   {
    "duration": 21,
    "start_time": "2022-05-17T17:49:11.781Z"
   },
   {
    "duration": 14,
    "start_time": "2022-05-17T17:49:11.804Z"
   },
   {
    "duration": 18,
    "start_time": "2022-05-17T17:49:11.819Z"
   },
   {
    "duration": 3,
    "start_time": "2022-05-17T17:49:11.838Z"
   },
   {
    "duration": 34,
    "start_time": "2022-05-17T17:49:11.843Z"
   },
   {
    "duration": 13,
    "start_time": "2022-05-17T17:49:11.879Z"
   },
   {
    "duration": 20,
    "start_time": "2022-05-17T17:49:11.894Z"
   },
   {
    "duration": 12,
    "start_time": "2022-05-17T17:49:11.915Z"
   },
   {
    "duration": 51,
    "start_time": "2022-05-17T17:49:11.929Z"
   },
   {
    "duration": 4,
    "start_time": "2022-05-17T17:51:11.323Z"
   },
   {
    "duration": 27,
    "start_time": "2022-05-17T17:52:22.622Z"
   },
   {
    "duration": 26,
    "start_time": "2022-05-17T17:53:08.372Z"
   },
   {
    "duration": 216,
    "start_time": "2022-05-17T17:56:43.521Z"
   },
   {
    "duration": 215,
    "start_time": "2022-05-17T17:57:00.082Z"
   },
   {
    "duration": 7,
    "start_time": "2022-05-17T17:57:06.570Z"
   },
   {
    "duration": 8,
    "start_time": "2022-05-17T17:58:09.657Z"
   },
   {
    "duration": 234,
    "start_time": "2022-05-17T17:59:12.157Z"
   },
   {
    "duration": 10,
    "start_time": "2022-05-17T18:03:51.769Z"
   },
   {
    "duration": 9,
    "start_time": "2022-05-17T18:04:12.066Z"
   },
   {
    "duration": 15,
    "start_time": "2022-05-17T18:04:29.868Z"
   },
   {
    "duration": 7,
    "start_time": "2022-05-17T18:04:43.796Z"
   },
   {
    "duration": 20,
    "start_time": "2022-05-17T18:04:59.639Z"
   },
   {
    "duration": 14,
    "start_time": "2022-05-17T18:08:33.408Z"
   },
   {
    "duration": 8,
    "start_time": "2022-05-17T18:09:49.047Z"
   },
   {
    "duration": 32,
    "start_time": "2022-05-17T18:10:03.549Z"
   },
   {
    "duration": 5,
    "start_time": "2022-05-17T18:28:57.785Z"
   },
   {
    "duration": 72,
    "start_time": "2022-05-17T18:29:31.449Z"
   },
   {
    "duration": 9,
    "start_time": "2022-05-17T18:31:31.781Z"
   },
   {
    "duration": 5,
    "start_time": "2022-05-17T18:31:36.151Z"
   },
   {
    "duration": 77,
    "start_time": "2022-05-17T18:31:50.409Z"
   },
   {
    "duration": 8,
    "start_time": "2022-05-17T18:31:50.488Z"
   },
   {
    "duration": 10,
    "start_time": "2022-05-17T18:31:50.498Z"
   },
   {
    "duration": 6,
    "start_time": "2022-05-17T18:31:50.510Z"
   },
   {
    "duration": 12,
    "start_time": "2022-05-17T18:31:50.518Z"
   },
   {
    "duration": 12,
    "start_time": "2022-05-17T18:31:50.531Z"
   },
   {
    "duration": 6,
    "start_time": "2022-05-17T18:31:50.545Z"
   },
   {
    "duration": 13,
    "start_time": "2022-05-17T18:31:50.564Z"
   },
   {
    "duration": 9,
    "start_time": "2022-05-17T18:31:50.578Z"
   },
   {
    "duration": 11,
    "start_time": "2022-05-17T18:31:50.588Z"
   },
   {
    "duration": 18,
    "start_time": "2022-05-17T18:31:50.601Z"
   },
   {
    "duration": 15,
    "start_time": "2022-05-17T18:31:50.620Z"
   },
   {
    "duration": 57,
    "start_time": "2022-05-17T18:31:50.637Z"
   },
   {
    "duration": 6,
    "start_time": "2022-05-17T18:31:50.697Z"
   },
   {
    "duration": 19,
    "start_time": "2022-05-17T18:31:50.705Z"
   },
   {
    "duration": 8,
    "start_time": "2022-05-17T18:31:50.725Z"
   },
   {
    "duration": 33740,
    "start_time": "2022-05-17T18:31:50.734Z"
   },
   {
    "duration": 7,
    "start_time": "2022-05-17T18:32:24.476Z"
   },
   {
    "duration": 8,
    "start_time": "2022-05-17T18:32:24.485Z"
   },
   {
    "duration": 8,
    "start_time": "2022-05-17T18:32:24.495Z"
   },
   {
    "duration": 6,
    "start_time": "2022-05-17T18:32:24.505Z"
   },
   {
    "duration": 8,
    "start_time": "2022-05-17T18:32:24.512Z"
   },
   {
    "duration": 9,
    "start_time": "2022-05-17T18:32:24.521Z"
   },
   {
    "duration": 39,
    "start_time": "2022-05-17T18:32:24.532Z"
   },
   {
    "duration": 10,
    "start_time": "2022-05-17T18:32:24.572Z"
   },
   {
    "duration": 14,
    "start_time": "2022-05-17T18:32:24.584Z"
   },
   {
    "duration": 13,
    "start_time": "2022-05-17T18:32:24.600Z"
   },
   {
    "duration": 16,
    "start_time": "2022-05-17T18:32:24.615Z"
   },
   {
    "duration": 34,
    "start_time": "2022-05-17T18:32:24.633Z"
   },
   {
    "duration": 22,
    "start_time": "2022-05-17T18:32:24.671Z"
   },
   {
    "duration": 12,
    "start_time": "2022-05-17T18:32:24.695Z"
   },
   {
    "duration": 14,
    "start_time": "2022-05-17T18:32:24.708Z"
   },
   {
    "duration": 20,
    "start_time": "2022-05-17T18:32:24.723Z"
   },
   {
    "duration": 26,
    "start_time": "2022-05-17T18:32:24.744Z"
   },
   {
    "duration": 14,
    "start_time": "2022-05-17T18:32:24.776Z"
   },
   {
    "duration": 48,
    "start_time": "2022-05-19T07:35:12.898Z"
   },
   {
    "duration": 51,
    "start_time": "2022-05-19T09:00:57.314Z"
   },
   {
    "duration": 505,
    "start_time": "2022-05-19T09:01:19.944Z"
   },
   {
    "duration": 9,
    "start_time": "2022-05-19T09:01:20.450Z"
   },
   {
    "duration": 37,
    "start_time": "2022-05-19T09:01:20.460Z"
   },
   {
    "duration": 36,
    "start_time": "2022-05-19T09:01:20.506Z"
   },
   {
    "duration": 45,
    "start_time": "2022-05-19T09:01:20.544Z"
   },
   {
    "duration": 39,
    "start_time": "2022-05-19T09:01:20.591Z"
   },
   {
    "duration": 44,
    "start_time": "2022-05-19T09:01:20.631Z"
   },
   {
    "duration": 65,
    "start_time": "2022-05-19T09:01:20.677Z"
   },
   {
    "duration": 25,
    "start_time": "2022-05-19T09:01:20.744Z"
   },
   {
    "duration": 49,
    "start_time": "2022-05-19T09:01:20.771Z"
   },
   {
    "duration": 28,
    "start_time": "2022-05-19T09:01:20.821Z"
   },
   {
    "duration": 53,
    "start_time": "2022-05-19T09:01:20.850Z"
   },
   {
    "duration": 42,
    "start_time": "2022-05-19T09:01:20.906Z"
   },
   {
    "duration": 6,
    "start_time": "2022-05-19T09:01:20.949Z"
   },
   {
    "duration": 58,
    "start_time": "2022-05-19T09:01:20.957Z"
   },
   {
    "duration": 28,
    "start_time": "2022-05-19T09:01:21.016Z"
   },
   {
    "duration": 37477,
    "start_time": "2022-05-19T09:01:21.045Z"
   },
   {
    "duration": 7,
    "start_time": "2022-05-19T09:01:58.529Z"
   },
   {
    "duration": 7,
    "start_time": "2022-05-19T09:01:58.538Z"
   },
   {
    "duration": 12,
    "start_time": "2022-05-19T09:01:58.547Z"
   },
   {
    "duration": 6,
    "start_time": "2022-05-19T09:01:58.560Z"
   },
   {
    "duration": 16,
    "start_time": "2022-05-19T09:01:58.567Z"
   },
   {
    "duration": 41,
    "start_time": "2022-05-19T09:01:58.585Z"
   },
   {
    "duration": 15,
    "start_time": "2022-05-19T09:01:58.628Z"
   },
   {
    "duration": 16,
    "start_time": "2022-05-19T09:01:58.645Z"
   },
   {
    "duration": 11,
    "start_time": "2022-05-19T09:01:58.663Z"
   },
   {
    "duration": 16,
    "start_time": "2022-05-19T09:01:58.676Z"
   },
   {
    "duration": 26,
    "start_time": "2022-05-19T09:01:58.699Z"
   },
   {
    "duration": 20,
    "start_time": "2022-05-19T09:01:58.726Z"
   },
   {
    "duration": 11,
    "start_time": "2022-05-19T09:01:58.747Z"
   },
   {
    "duration": 27,
    "start_time": "2022-05-19T09:01:58.760Z"
   },
   {
    "duration": 20,
    "start_time": "2022-05-19T09:01:58.789Z"
   },
   {
    "duration": 27,
    "start_time": "2022-05-19T09:01:58.811Z"
   },
   {
    "duration": 30,
    "start_time": "2022-05-19T09:01:58.840Z"
   },
   {
    "duration": 34,
    "start_time": "2022-05-19T09:01:58.872Z"
   },
   {
    "duration": 39,
    "start_time": "2022-05-19T09:01:58.908Z"
   },
   {
    "duration": 7,
    "start_time": "2022-05-19T09:27:23.478Z"
   },
   {
    "duration": 10,
    "start_time": "2022-05-19T09:29:26.216Z"
   },
   {
    "duration": 6,
    "start_time": "2022-05-19T09:30:52.715Z"
   },
   {
    "duration": 6,
    "start_time": "2022-05-19T09:31:30.872Z"
   },
   {
    "duration": 6,
    "start_time": "2022-05-19T09:32:15.382Z"
   },
   {
    "duration": 6,
    "start_time": "2022-05-19T09:43:41.383Z"
   },
   {
    "duration": 74,
    "start_time": "2022-05-19T09:55:14.852Z"
   },
   {
    "duration": 8,
    "start_time": "2022-05-19T09:55:14.928Z"
   },
   {
    "duration": 15,
    "start_time": "2022-05-19T09:55:14.937Z"
   },
   {
    "duration": 9,
    "start_time": "2022-05-19T09:55:14.954Z"
   },
   {
    "duration": 20,
    "start_time": "2022-05-19T09:55:14.965Z"
   },
   {
    "duration": 16,
    "start_time": "2022-05-19T09:55:14.987Z"
   },
   {
    "duration": 30,
    "start_time": "2022-05-19T09:55:15.005Z"
   },
   {
    "duration": 21,
    "start_time": "2022-05-19T09:55:15.037Z"
   },
   {
    "duration": 17,
    "start_time": "2022-05-19T09:55:15.059Z"
   },
   {
    "duration": 26,
    "start_time": "2022-05-19T09:55:15.078Z"
   },
   {
    "duration": 35,
    "start_time": "2022-05-19T09:55:15.105Z"
   },
   {
    "duration": 16,
    "start_time": "2022-05-19T09:55:15.142Z"
   },
   {
    "duration": 25,
    "start_time": "2022-05-19T09:55:15.159Z"
   },
   {
    "duration": 26,
    "start_time": "2022-05-19T09:55:15.187Z"
   },
   {
    "duration": 13,
    "start_time": "2022-05-19T09:55:15.215Z"
   },
   {
    "duration": 18,
    "start_time": "2022-05-19T09:55:15.229Z"
   },
   {
    "duration": 23,
    "start_time": "2022-05-19T09:55:15.249Z"
   },
   {
    "duration": 56,
    "start_time": "2022-05-19T09:55:15.274Z"
   },
   {
    "duration": 7,
    "start_time": "2022-05-19T09:55:15.331Z"
   },
   {
    "duration": 30,
    "start_time": "2022-05-19T09:55:15.339Z"
   },
   {
    "duration": 27,
    "start_time": "2022-05-19T09:55:15.370Z"
   },
   {
    "duration": 31572,
    "start_time": "2022-05-19T09:55:15.399Z"
   },
   {
    "duration": 6,
    "start_time": "2022-05-19T09:55:46.973Z"
   },
   {
    "duration": 24,
    "start_time": "2022-05-19T09:55:46.981Z"
   },
   {
    "duration": 13,
    "start_time": "2022-05-19T09:55:47.007Z"
   },
   {
    "duration": 7,
    "start_time": "2022-05-19T09:55:47.022Z"
   },
   {
    "duration": 10,
    "start_time": "2022-05-19T09:55:47.030Z"
   },
   {
    "duration": 9,
    "start_time": "2022-05-19T09:55:47.041Z"
   },
   {
    "duration": 16,
    "start_time": "2022-05-19T09:55:47.052Z"
   },
   {
    "duration": 9,
    "start_time": "2022-05-19T09:55:47.069Z"
   },
   {
    "duration": 26,
    "start_time": "2022-05-19T09:55:47.080Z"
   },
   {
    "duration": 24,
    "start_time": "2022-05-19T09:55:47.107Z"
   },
   {
    "duration": 20,
    "start_time": "2022-05-19T09:55:47.133Z"
   },
   {
    "duration": 22,
    "start_time": "2022-05-19T09:55:47.155Z"
   },
   {
    "duration": 23,
    "start_time": "2022-05-19T09:55:47.179Z"
   },
   {
    "duration": 26,
    "start_time": "2022-05-19T09:55:47.204Z"
   },
   {
    "duration": 34,
    "start_time": "2022-05-19T09:55:47.231Z"
   },
   {
    "duration": 34,
    "start_time": "2022-05-19T09:55:47.266Z"
   },
   {
    "duration": 15,
    "start_time": "2022-05-19T09:55:47.301Z"
   },
   {
    "duration": 25,
    "start_time": "2022-05-19T09:55:47.317Z"
   },
   {
    "duration": 15,
    "start_time": "2022-05-19T09:57:25.486Z"
   },
   {
    "duration": 17,
    "start_time": "2022-05-19T09:58:19.339Z"
   },
   {
    "duration": 15,
    "start_time": "2022-05-19T09:59:37.321Z"
   },
   {
    "duration": 33,
    "start_time": "2022-05-19T10:00:37.456Z"
   },
   {
    "duration": 3,
    "start_time": "2022-05-19T10:02:49.254Z"
   },
   {
    "duration": 2,
    "start_time": "2022-05-19T10:02:53.387Z"
   },
   {
    "duration": 26,
    "start_time": "2022-05-19T10:03:54.577Z"
   },
   {
    "duration": 36,
    "start_time": "2022-05-19T10:03:58.522Z"
   },
   {
    "duration": 49,
    "start_time": "2022-05-19T10:09:57.557Z"
   },
   {
    "duration": 52,
    "start_time": "2022-05-19T10:16:45.875Z"
   },
   {
    "duration": 16,
    "start_time": "2022-05-19T10:19:23.907Z"
   },
   {
    "duration": 37,
    "start_time": "2022-05-19T10:20:26.082Z"
   },
   {
    "duration": 27,
    "start_time": "2022-05-19T10:20:37.106Z"
   },
   {
    "duration": 2,
    "start_time": "2022-05-19T10:21:05.989Z"
   },
   {
    "duration": 16,
    "start_time": "2022-05-19T10:21:31.413Z"
   },
   {
    "duration": 63,
    "start_time": "2022-05-19T10:21:46.388Z"
   },
   {
    "duration": 9,
    "start_time": "2022-05-19T10:21:46.453Z"
   },
   {
    "duration": 9,
    "start_time": "2022-05-19T10:21:46.463Z"
   },
   {
    "duration": 20,
    "start_time": "2022-05-19T10:21:46.474Z"
   },
   {
    "duration": 16,
    "start_time": "2022-05-19T10:21:46.496Z"
   },
   {
    "duration": 20,
    "start_time": "2022-05-19T10:21:46.515Z"
   },
   {
    "duration": 16,
    "start_time": "2022-05-19T10:21:46.536Z"
   },
   {
    "duration": 26,
    "start_time": "2022-05-19T10:21:46.553Z"
   },
   {
    "duration": 17,
    "start_time": "2022-05-19T10:21:46.580Z"
   },
   {
    "duration": 23,
    "start_time": "2022-05-19T10:21:46.600Z"
   },
   {
    "duration": 15,
    "start_time": "2022-05-19T10:21:46.624Z"
   },
   {
    "duration": 20,
    "start_time": "2022-05-19T10:21:46.640Z"
   },
   {
    "duration": 24,
    "start_time": "2022-05-19T10:21:46.661Z"
   },
   {
    "duration": 16,
    "start_time": "2022-05-19T10:21:46.686Z"
   },
   {
    "duration": 20,
    "start_time": "2022-05-19T10:21:46.703Z"
   },
   {
    "duration": 26,
    "start_time": "2022-05-19T10:21:46.725Z"
   },
   {
    "duration": 17,
    "start_time": "2022-05-19T10:21:46.753Z"
   },
   {
    "duration": 10,
    "start_time": "2022-05-19T10:21:46.771Z"
   },
   {
    "duration": 13,
    "start_time": "2022-05-19T10:21:46.782Z"
   },
   {
    "duration": 29,
    "start_time": "2022-05-19T10:21:46.796Z"
   },
   {
    "duration": 0,
    "start_time": "2022-05-19T10:21:46.827Z"
   },
   {
    "duration": 0,
    "start_time": "2022-05-19T10:21:46.829Z"
   },
   {
    "duration": 0,
    "start_time": "2022-05-19T10:21:46.830Z"
   },
   {
    "duration": 0,
    "start_time": "2022-05-19T10:21:46.831Z"
   },
   {
    "duration": 0,
    "start_time": "2022-05-19T10:21:46.832Z"
   },
   {
    "duration": 0,
    "start_time": "2022-05-19T10:21:46.833Z"
   },
   {
    "duration": 0,
    "start_time": "2022-05-19T10:21:46.834Z"
   },
   {
    "duration": 0,
    "start_time": "2022-05-19T10:21:46.835Z"
   },
   {
    "duration": 0,
    "start_time": "2022-05-19T10:21:46.837Z"
   },
   {
    "duration": 0,
    "start_time": "2022-05-19T10:21:46.837Z"
   },
   {
    "duration": 0,
    "start_time": "2022-05-19T10:21:46.838Z"
   },
   {
    "duration": 0,
    "start_time": "2022-05-19T10:21:46.839Z"
   },
   {
    "duration": 0,
    "start_time": "2022-05-19T10:21:46.840Z"
   },
   {
    "duration": 0,
    "start_time": "2022-05-19T10:21:46.841Z"
   },
   {
    "duration": 0,
    "start_time": "2022-05-19T10:21:46.842Z"
   },
   {
    "duration": 0,
    "start_time": "2022-05-19T10:21:46.843Z"
   },
   {
    "duration": 0,
    "start_time": "2022-05-19T10:21:46.844Z"
   },
   {
    "duration": 0,
    "start_time": "2022-05-19T10:21:46.845Z"
   },
   {
    "duration": 0,
    "start_time": "2022-05-19T10:21:46.846Z"
   },
   {
    "duration": 0,
    "start_time": "2022-05-19T10:21:46.846Z"
   },
   {
    "duration": 0,
    "start_time": "2022-05-19T10:21:46.847Z"
   },
   {
    "duration": 0,
    "start_time": "2022-05-19T10:21:46.848Z"
   },
   {
    "duration": 0,
    "start_time": "2022-05-19T10:21:46.849Z"
   },
   {
    "duration": 0,
    "start_time": "2022-05-19T10:21:46.850Z"
   },
   {
    "duration": 0,
    "start_time": "2022-05-19T10:21:46.851Z"
   },
   {
    "duration": 26,
    "start_time": "2022-05-19T10:25:11.800Z"
   },
   {
    "duration": 30645,
    "start_time": "2022-05-19T10:25:57.892Z"
   },
   {
    "duration": 6,
    "start_time": "2022-05-19T10:27:05.305Z"
   },
   {
    "duration": 15,
    "start_time": "2022-05-19T10:27:11.951Z"
   },
   {
    "duration": 6,
    "start_time": "2022-05-19T10:27:14.759Z"
   },
   {
    "duration": 4,
    "start_time": "2022-05-19T10:28:20.468Z"
   },
   {
    "duration": 31324,
    "start_time": "2022-05-19T10:28:20.473Z"
   },
   {
    "duration": 7,
    "start_time": "2022-05-19T10:31:48.224Z"
   },
   {
    "duration": 7,
    "start_time": "2022-05-19T10:31:52.931Z"
   },
   {
    "duration": 6,
    "start_time": "2022-05-19T10:31:56.378Z"
   },
   {
    "duration": 8,
    "start_time": "2022-05-19T10:32:00.678Z"
   },
   {
    "duration": 31045,
    "start_time": "2022-05-19T10:32:09.969Z"
   },
   {
    "duration": 16,
    "start_time": "2022-05-19T10:33:05.645Z"
   },
   {
    "duration": 6,
    "start_time": "2022-05-19T10:35:00.582Z"
   },
   {
    "duration": 73,
    "start_time": "2022-05-19T10:35:08.922Z"
   },
   {
    "duration": 8,
    "start_time": "2022-05-19T10:35:12.758Z"
   },
   {
    "duration": 5,
    "start_time": "2022-05-19T10:35:16.801Z"
   },
   {
    "duration": 4,
    "start_time": "2022-05-19T10:35:20.996Z"
   },
   {
    "duration": 8,
    "start_time": "2022-05-19T10:35:24.569Z"
   },
   {
    "duration": 12,
    "start_time": "2022-05-19T10:35:29.579Z"
   },
   {
    "duration": 6,
    "start_time": "2022-05-19T10:35:32.967Z"
   },
   {
    "duration": 5,
    "start_time": "2022-05-19T10:35:36.380Z"
   },
   {
    "duration": 8,
    "start_time": "2022-05-19T10:35:42.213Z"
   },
   {
    "duration": 10,
    "start_time": "2022-05-19T10:35:47.379Z"
   },
   {
    "duration": 6,
    "start_time": "2022-05-19T10:35:53.893Z"
   },
   {
    "duration": 6,
    "start_time": "2022-05-19T10:35:57.804Z"
   },
   {
    "duration": 6,
    "start_time": "2022-05-19T10:36:01.066Z"
   },
   {
    "duration": 5,
    "start_time": "2022-05-19T10:36:07.106Z"
   },
   {
    "duration": 6,
    "start_time": "2022-05-19T10:36:10.141Z"
   },
   {
    "duration": 15,
    "start_time": "2022-05-19T10:36:16.375Z"
   },
   {
    "duration": 17,
    "start_time": "2022-05-19T10:36:25.323Z"
   },
   {
    "duration": 6,
    "start_time": "2022-05-19T10:36:34.299Z"
   },
   {
    "duration": 15,
    "start_time": "2022-05-19T10:36:38.737Z"
   },
   {
    "duration": 9,
    "start_time": "2022-05-19T10:36:42.608Z"
   },
   {
    "duration": 31283,
    "start_time": "2022-05-19T10:36:47.365Z"
   },
   {
    "duration": 10,
    "start_time": "2022-05-19T10:37:18.655Z"
   },
   {
    "duration": 5,
    "start_time": "2022-05-19T10:37:56.696Z"
   },
   {
    "duration": 31956,
    "start_time": "2022-05-19T10:38:27.739Z"
   },
   {
    "duration": 9,
    "start_time": "2022-05-19T10:38:59.706Z"
   },
   {
    "duration": 17,
    "start_time": "2022-05-19T10:45:58.186Z"
   },
   {
    "duration": 19,
    "start_time": "2022-05-19T10:46:32.124Z"
   },
   {
    "duration": 16,
    "start_time": "2022-05-19T10:47:48.125Z"
   },
   {
    "duration": 30,
    "start_time": "2022-05-19T10:52:59.356Z"
   },
   {
    "duration": 8,
    "start_time": "2022-05-19T10:53:09.907Z"
   },
   {
    "duration": 9,
    "start_time": "2022-05-19T10:53:18.368Z"
   },
   {
    "duration": 17,
    "start_time": "2022-05-19T10:53:39.158Z"
   },
   {
    "duration": 12,
    "start_time": "2022-05-19T10:53:50.721Z"
   },
   {
    "duration": 19,
    "start_time": "2022-05-19T10:53:55.829Z"
   },
   {
    "duration": 11,
    "start_time": "2022-05-19T10:54:01.197Z"
   },
   {
    "duration": 15,
    "start_time": "2022-05-19T10:54:06.899Z"
   },
   {
    "duration": 71,
    "start_time": "2022-05-19T10:55:18.550Z"
   },
   {
    "duration": 38,
    "start_time": "2022-05-19T10:55:51.314Z"
   },
   {
    "duration": 53,
    "start_time": "2022-05-19T10:56:07.182Z"
   },
   {
    "duration": 29,
    "start_time": "2022-05-19T10:56:23.411Z"
   },
   {
    "duration": 17,
    "start_time": "2022-05-19T10:56:52.306Z"
   },
   {
    "duration": 14,
    "start_time": "2022-05-19T10:57:18.295Z"
   },
   {
    "duration": 3,
    "start_time": "2022-05-19T10:57:54.978Z"
   },
   {
    "duration": 20,
    "start_time": "2022-05-19T11:01:40.087Z"
   },
   {
    "duration": 27,
    "start_time": "2022-05-19T11:04:36.422Z"
   },
   {
    "duration": 2,
    "start_time": "2022-05-19T11:05:08.384Z"
   },
   {
    "duration": 20,
    "start_time": "2022-05-19T11:06:08.661Z"
   },
   {
    "duration": 24,
    "start_time": "2022-05-19T11:07:07.532Z"
   },
   {
    "duration": 15,
    "start_time": "2022-05-19T11:07:10.612Z"
   },
   {
    "duration": 3,
    "start_time": "2022-05-19T11:07:36.229Z"
   },
   {
    "duration": 29,
    "start_time": "2022-05-19T11:08:30.821Z"
   },
   {
    "duration": 15,
    "start_time": "2022-05-19T11:08:33.013Z"
   },
   {
    "duration": 3,
    "start_time": "2022-05-19T11:08:50.787Z"
   },
   {
    "duration": 43,
    "start_time": "2022-05-19T12:32:08.967Z"
   },
   {
    "duration": 72,
    "start_time": "2022-05-19T14:15:06.866Z"
   },
   {
    "duration": 44,
    "start_time": "2022-05-19T14:50:00.167Z"
   },
   {
    "duration": 41,
    "start_time": "2022-05-19T15:02:51.020Z"
   },
   {
    "duration": 33,
    "start_time": "2022-05-19T15:04:19.345Z"
   }
  ],
  "kernelspec": {
   "display_name": "Python 3 (ipykernel)",
   "language": "python",
   "name": "python3"
  },
  "language_info": {
   "codemirror_mode": {
    "name": "ipython",
    "version": 3
   },
   "file_extension": ".py",
   "mimetype": "text/x-python",
   "name": "python",
   "nbconvert_exporter": "python",
   "pygments_lexer": "ipython3",
   "version": "3.9.13"
  },
  "toc": {
   "base_numbering": 1,
   "nav_menu": {},
   "number_sections": true,
   "sideBar": true,
   "skip_h1_title": true,
   "title_cell": "Table of Contents",
   "title_sidebar": "Contents",
   "toc_cell": false,
   "toc_position": {},
   "toc_section_display": true,
   "toc_window_display": false
  }
 },
 "nbformat": 4,
 "nbformat_minor": 5
}
