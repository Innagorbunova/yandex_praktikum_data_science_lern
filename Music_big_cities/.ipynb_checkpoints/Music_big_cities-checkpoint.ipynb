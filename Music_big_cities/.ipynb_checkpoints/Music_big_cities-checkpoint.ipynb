{
 "cells": [
  {
   "cell_type": "markdown",
   "metadata": {
    "id": "E0vqbgi9ay0H"
   },
   "source": [
    "# Яндекс.Музыка"
   ]
  },
  {
   "cell_type": "markdown",
   "metadata": {
    "id": "VUC88oWjTJw2"
   },
   "source": [
    "Целью проекта является определить как меняются предпочтения слушателей Яндекс.Музыки в г.Москве и г.Санкт-Петербурге  в зависимости от дня недели."
   ]
  },
  {
   "cell_type": "markdown",
   "metadata": {
    "id": "Ml1hmfXC_Zcs"
   },
   "source": [
    "## Импорт библиотек и изучение данных"
   ]
  },
  {
   "cell_type": "code",
   "execution_count": 1,
   "metadata": {
    "id": "AXN7PHPN_Zcs"
   },
   "outputs": [],
   "source": [
    "import pandas as pd "
   ]
  },
  {
   "cell_type": "code",
   "execution_count": 3,
   "metadata": {
    "id": "fFVu7vqh_Zct"
   },
   "outputs": [],
   "source": [
    "df = pd.read_csv('/datasets/yandex_music_project.csv') "
   ]
  },
  {
   "cell_type": "code",
   "execution_count": 6,
   "metadata": {},
   "outputs": [
    {
     "data": {
      "text/html": [
       "<div>\n",
       "<style scoped>\n",
       "    .dataframe tbody tr th:only-of-type {\n",
       "        vertical-align: middle;\n",
       "    }\n",
       "\n",
       "    .dataframe tbody tr th {\n",
       "        vertical-align: top;\n",
       "    }\n",
       "\n",
       "    .dataframe thead th {\n",
       "        text-align: right;\n",
       "    }\n",
       "</style>\n",
       "<table border=\"1\" class=\"dataframe\">\n",
       "  <thead>\n",
       "    <tr style=\"text-align: right;\">\n",
       "      <th></th>\n",
       "      <th>userID</th>\n",
       "      <th>Track</th>\n",
       "      <th>artist</th>\n",
       "      <th>genre</th>\n",
       "      <th>City</th>\n",
       "      <th>time</th>\n",
       "      <th>Day</th>\n",
       "    </tr>\n",
       "  </thead>\n",
       "  <tbody>\n",
       "    <tr>\n",
       "      <th>0</th>\n",
       "      <td>FFB692EC</td>\n",
       "      <td>Kamigata To Boots</td>\n",
       "      <td>The Mass Missile</td>\n",
       "      <td>rock</td>\n",
       "      <td>Saint-Petersburg</td>\n",
       "      <td>20:28:33</td>\n",
       "      <td>Wednesday</td>\n",
       "    </tr>\n",
       "    <tr>\n",
       "      <th>1</th>\n",
       "      <td>55204538</td>\n",
       "      <td>Delayed Because of Accident</td>\n",
       "      <td>Andreas Rönnberg</td>\n",
       "      <td>rock</td>\n",
       "      <td>Moscow</td>\n",
       "      <td>14:07:09</td>\n",
       "      <td>Friday</td>\n",
       "    </tr>\n",
       "    <tr>\n",
       "      <th>2</th>\n",
       "      <td>20EC38</td>\n",
       "      <td>Funiculì funiculà</td>\n",
       "      <td>Mario Lanza</td>\n",
       "      <td>pop</td>\n",
       "      <td>Saint-Petersburg</td>\n",
       "      <td>20:58:07</td>\n",
       "      <td>Wednesday</td>\n",
       "    </tr>\n",
       "  </tbody>\n",
       "</table>\n",
       "</div>"
      ],
      "text/plain": [
       "     userID                        Track            artist genre  \\\n",
       "0  FFB692EC            Kamigata To Boots  The Mass Missile  rock   \n",
       "1  55204538  Delayed Because of Accident  Andreas Rönnberg  rock   \n",
       "2    20EC38            Funiculì funiculà       Mario Lanza   pop   \n",
       "\n",
       "             City        time        Day  \n",
       "0  Saint-Petersburg  20:28:33  Wednesday  \n",
       "1            Moscow  14:07:09     Friday  \n",
       "2  Saint-Petersburg  20:58:07  Wednesday  "
      ]
     },
     "metadata": {},
     "output_type": "display_data"
    }
   ],
   "source": [
    "display(df.head(3))"
   ]
  },
  {
   "cell_type": "code",
   "execution_count": 10,
   "metadata": {
    "id": "DSf2kIb-_Zct"
   },
   "outputs": [
    {
     "name": "stdout",
     "output_type": "stream",
     "text": [
      "<class 'pandas.core.frame.DataFrame'>\n",
      "RangeIndex: 65079 entries, 0 to 65078\n",
      "Data columns (total 7 columns):\n",
      " #   Column    Non-Null Count  Dtype \n",
      "---  ------    --------------  ----- \n",
      " 0     userID  65079 non-null  object\n",
      " 1   Track     63848 non-null  object\n",
      " 2   artist    57876 non-null  object\n",
      " 3   genre     63881 non-null  object\n",
      " 4     City    65079 non-null  object\n",
      " 5   time      65079 non-null  object\n",
      " 6   Day       65079 non-null  object\n",
      "dtypes: object(7)\n",
      "memory usage: 3.5+ MB\n"
     ]
    }
   ],
   "source": [
    "df.info() "
   ]
  },
  {
   "cell_type": "markdown",
   "metadata": {
    "id": "TaQ2Iwbr_Zct"
   },
   "source": [
    "Итак, в таблице семь столбцов. Тип данных во всех столбцах — `object`.\n",
    "\n",
    "Согласно документации к данным:\n",
    "* `userID` — идентификатор пользователя;\n",
    "* `Track` — название трека;  \n",
    "* `artist` — имя исполнителя;\n",
    "* `genre` — название жанра;\n",
    "* `City` — город пользователя;\n",
    "* `time` — время начала прослушивания;\n",
    "* `Day` — день недели.\n",
    "\n",
    "В названиях колонок видны три нарушения стиля:\n",
    "1. Строчные буквы сочетаются с прописными.\n",
    "2. Встречаются пробелы.\n",
    "3. Найдите ещё одну проблему в названии колонок и опишите её в этом пункте: при написании наименований столбцов идентификатор пользователя `userID` и город пользователя `City` в начале допущены пробелы. \n",
    "\n",
    "\n",
    "\n",
    "Количество значений в столбцах различается. Значит, в данных есть пропущенные значения.\n"
   ]
  },
  {
   "cell_type": "markdown",
   "metadata": {
    "id": "SjYF6Ub9_Zct"
   },
   "source": [
    "## Предобработка данных"
   ]
  },
  {
   "cell_type": "markdown",
   "metadata": {
    "id": "dIaKXr29_Zct"
   },
   "source": [
    "### Стиль заголовков"
   ]
  },
  {
   "cell_type": "code",
   "execution_count": 11,
   "metadata": {
    "id": "oKOTdF_Q_Zct"
   },
   "outputs": [
    {
     "data": {
      "text/plain": [
       "Index(['  userID', 'Track', 'artist', 'genre', '  City  ', 'time', 'Day'], dtype='object')"
      ]
     },
     "execution_count": 11,
     "metadata": {},
     "output_type": "execute_result"
    }
   ],
   "source": [
    "(df.columns)"
   ]
  },
  {
   "cell_type": "markdown",
   "metadata": {
    "id": "zj5534cv_Zct"
   },
   "source": [
    "Приводим названия в соответствие с хорошим стилем:"
   ]
  },
  {
   "cell_type": "code",
   "execution_count": 12,
   "metadata": {
    "id": "ISlFqs5y_Zct"
   },
   "outputs": [],
   "source": [
    "df = df.rename(columns = {'  userID':'user_id','Track' : 'track','  City  ' : 'city','Day' : 'day'})"
   ]
  },
  {
   "cell_type": "code",
   "execution_count": 13,
   "metadata": {
    "id": "d4NOAmTW_Zct"
   },
   "outputs": [
    {
     "name": "stdout",
     "output_type": "stream",
     "text": [
      "Index(['user_id', 'track', 'artist', 'genre', 'city', 'time', 'day'], dtype='object')\n"
     ]
    }
   ],
   "source": [
    "print(df.columns)"
   ]
  },
  {
   "cell_type": "markdown",
   "metadata": {
    "id": "5ISfbcfY_Zct"
   },
   "source": [
    "### Пропуски значений"
   ]
  },
  {
   "cell_type": "code",
   "execution_count": 14,
   "metadata": {
    "id": "RskX29qr_Zct"
   },
   "outputs": [
    {
     "name": "stdout",
     "output_type": "stream",
     "text": [
      "user_id       0\n",
      "track      1231\n",
      "artist     7203\n",
      "genre      1198\n",
      "city          0\n",
      "time          0\n",
      "day           0\n",
      "dtype: int64\n"
     ]
    }
   ],
   "source": [
    "print(df.isna().sum())"
   ]
  },
  {
   "cell_type": "markdown",
   "metadata": {
    "id": "fSv2laPA_Zct"
   },
   "source": [
    "Заменяем пропущенные значения в столбцах `track`, `artist` и `genre` на строку `'unknown'`. Для этого создаем список `columns_to_replace`, переберем его элементы циклом `for` и для каждого столбца выполним замену пропущенных значений:"
   ]
  },
  {
   "cell_type": "code",
   "execution_count": 15,
   "metadata": {
    "id": "KplB5qWs_Zct"
   },
   "outputs": [],
   "source": [
    "columns_to_replace = ['track', 'artist', 'genre']\n",
    "for i in columns_to_replace:\n",
    "    df[i] = df[i].fillna('unknown')"
   ]
  },
  {
   "cell_type": "code",
   "execution_count": 16,
   "metadata": {
    "id": "Tq4nYRX4_Zct"
   },
   "outputs": [
    {
     "name": "stdout",
     "output_type": "stream",
     "text": [
      "user_id    0\n",
      "track      0\n",
      "artist     0\n",
      "genre      0\n",
      "city       0\n",
      "time       0\n",
      "day        0\n",
      "dtype: int64\n"
     ]
    }
   ],
   "source": [
    "print(df.isna().sum())# подсчёт пропусков"
   ]
  },
  {
   "cell_type": "markdown",
   "metadata": {
    "id": "BWKRtBJ3_Zct"
   },
   "source": [
    "### Дубликаты\n"
   ]
  },
  {
   "cell_type": "code",
   "execution_count": 17,
   "metadata": {
    "id": "36eES_S0_Zct"
   },
   "outputs": [
    {
     "name": "stdout",
     "output_type": "stream",
     "text": [
      "3826\n"
     ]
    }
   ],
   "source": [
    "print(df.duplicated().sum()) "
   ]
  },
  {
   "cell_type": "code",
   "execution_count": 18,
   "metadata": {
    "id": "exFHq6tt_Zct"
   },
   "outputs": [],
   "source": [
    "df = df.drop_duplicates().reset_index(drop = True)"
   ]
  },
  {
   "cell_type": "code",
   "execution_count": 19,
   "metadata": {
    "id": "-8PuNWQ0_Zct"
   },
   "outputs": [
    {
     "name": "stdout",
     "output_type": "stream",
     "text": [
      "0\n"
     ]
    }
   ],
   "source": [
    "print(df.duplicated().sum())"
   ]
  },
  {
   "cell_type": "markdown",
   "metadata": {
    "id": "QlFBsxAr_Zct"
   },
   "source": [
    "Явные дубликаты удалили.\n",
    "\n",
    "Теперь избавимся от неявных дубликатов в колонке `genre`. "
   ]
  },
  {
   "cell_type": "code",
   "execution_count": 20,
   "metadata": {
    "id": "JIUcqzZN_Zct"
   },
   "outputs": [
    {
     "name": "stdout",
     "output_type": "stream",
     "text": [
      "['acid' 'acoustic' 'action' 'adult' 'africa' 'afrikaans' 'alternative'\n",
      " 'alternativepunk' 'ambient' 'americana' 'animated' 'anime' 'arabesk'\n",
      " 'arabic' 'arena' 'argentinetango' 'art' 'audiobook' 'author' 'avantgarde'\n",
      " 'axé' 'baile' 'balkan' 'beats' 'bigroom' 'black' 'bluegrass' 'blues'\n",
      " 'bollywood' 'bossa' 'brazilian' 'breakbeat' 'breaks' 'broadway'\n",
      " 'cantautori' 'cantopop' 'canzone' 'caribbean' 'caucasian' 'celtic'\n",
      " 'chamber' 'chanson' 'children' 'chill' 'chinese' 'choral' 'christian'\n",
      " 'christmas' 'classical' 'classicmetal' 'club' 'colombian' 'comedy'\n",
      " 'conjazz' 'contemporary' 'country' 'cuban' 'dance' 'dancehall' 'dancepop'\n",
      " 'dark' 'death' 'deep' 'deutschrock' 'deutschspr' 'dirty' 'disco' 'dnb'\n",
      " 'documentary' 'downbeat' 'downtempo' 'drum' 'dub' 'dubstep' 'eastern'\n",
      " 'easy' 'electronic' 'electropop' 'emo' 'entehno' 'epicmetal' 'estrada'\n",
      " 'ethnic' 'eurofolk' 'european' 'experimental' 'extrememetal' 'fado'\n",
      " 'fairytail' 'film' 'fitness' 'flamenco' 'folk' 'folklore' 'folkmetal'\n",
      " 'folkrock' 'folktronica' 'forró' 'frankreich' 'französisch' 'french'\n",
      " 'funk' 'future' 'gangsta' 'garage' 'german' 'ghazal' 'gitarre' 'glitch'\n",
      " 'gospel' 'gothic' 'grime' 'grunge' 'gypsy' 'handsup' \"hard'n'heavy\"\n",
      " 'hardcore' 'hardstyle' 'hardtechno' 'hip' 'hip-hop' 'hiphop' 'historisch'\n",
      " 'holiday' 'hop' 'horror' 'house' 'hymn' 'idm' 'independent' 'indian'\n",
      " 'indie' 'indipop' 'industrial' 'inspirational' 'instrumental'\n",
      " 'international' 'irish' 'jam' 'japanese' 'jazz' 'jewish' 'jpop' 'jungle'\n",
      " 'k-pop' 'karadeniz' 'karaoke' 'kayokyoku' 'korean' 'laiko' 'latin'\n",
      " 'latino' 'leftfield' 'local' 'lounge' 'loungeelectronic' 'lovers'\n",
      " 'malaysian' 'mandopop' 'marschmusik' 'meditative' 'mediterranean'\n",
      " 'melodic' 'metal' 'metalcore' 'mexican' 'middle' 'minimal'\n",
      " 'miscellaneous' 'modern' 'mood' 'mpb' 'muslim' 'native' 'neoklassik'\n",
      " 'neue' 'new' 'newage' 'newwave' 'nu' 'nujazz' 'numetal' 'oceania' 'old'\n",
      " 'opera' 'orchestral' 'other' 'piano' 'podcasts' 'pop' 'popdance'\n",
      " 'popelectronic' 'popeurodance' 'poprussian' 'post' 'posthardcore'\n",
      " 'postrock' 'power' 'progmetal' 'progressive' 'psychedelic' 'punjabi'\n",
      " 'punk' 'quebecois' 'ragga' 'ram' 'rancheras' 'rap' 'rave' 'reggae'\n",
      " 'reggaeton' 'regional' 'relax' 'religious' 'retro' 'rhythm' 'rnb' 'rnr'\n",
      " 'rock' 'rockabilly' 'rockalternative' 'rockindie' 'rockother' 'romance'\n",
      " 'roots' 'ruspop' 'rusrap' 'rusrock' 'russian' 'salsa' 'samba' 'scenic'\n",
      " 'schlager' 'self' 'sertanejo' 'shanson' 'shoegazing' 'showtunes' 'singer'\n",
      " 'ska' 'skarock' 'slow' 'smooth' 'soft' 'soul' 'soulful' 'sound'\n",
      " 'soundtrack' 'southern' 'specialty' 'speech' 'spiritual' 'sport'\n",
      " 'stonerrock' 'surf' 'swing' 'synthpop' 'synthrock' 'sängerportrait'\n",
      " 'tango' 'tanzorchester' 'taraftar' 'tatar' 'tech' 'techno' 'teen'\n",
      " 'thrash' 'top' 'traditional' 'tradjazz' 'trance' 'tribal' 'trip'\n",
      " 'triphop' 'tropical' 'türk' 'türkçe' 'ukrrock' 'unknown' 'urban' 'uzbek'\n",
      " 'variété' 'vi' 'videogame' 'vocal' 'western' 'world' 'worldbeat' 'ïîï'\n",
      " 'электроника']\n"
     ]
    }
   ],
   "source": [
    "print(df['genre'].sort_values().unique())"
   ]
  },
  {
   "cell_type": "markdown",
   "metadata": {
    "id": "qej-Qmuo_Zct"
   },
   "source": [
    "Для устранения неявных дубликатов \n",
    "* *hip*,\n",
    "* *hop*,\n",
    "* *hip-hop*.\n",
    "\n",
    "создадим  функцию `replace_wrong_genres()` с двумя параметрами: \n",
    "* `wrong_genres` — список дубликатов,\n",
    "* `correct_genre` — строка с правильным значением.\n",
    "\n",
    "Функция должна исправить колонку `genre` в таблице `df`: заменить каждое значение из списка `wrong_genres` на значение из `correct_genre`."
   ]
  },
  {
   "cell_type": "code",
   "execution_count": 21,
   "metadata": {
    "id": "ErNDkmns_Zct"
   },
   "outputs": [],
   "source": [
    "def replace_wrong_genres(wrong_genres,correct_genre):\n",
    "    df['genre'] = df['genre'].replace(wrong_genres, correct_genre)   \n",
    "    \n",
    "    "
   ]
  },
  {
   "cell_type": "code",
   "execution_count": 22,
   "metadata": {
    "id": "YN5i2hpmSo09",
    "scrolled": true
   },
   "outputs": [],
   "source": [
    "replace_wrong_genres(['hip', 'hop', 'hip-hop'],'hiphop')"
   ]
  },
  {
   "cell_type": "code",
   "execution_count": 23,
   "metadata": {
    "id": "wvixALnFG15m"
   },
   "outputs": [
    {
     "name": "stdout",
     "output_type": "stream",
     "text": [
      "['acid' 'acoustic' 'action' 'adult' 'africa' 'afrikaans' 'alternative'\n",
      " 'alternativepunk' 'ambient' 'americana' 'animated' 'anime' 'arabesk'\n",
      " 'arabic' 'arena' 'argentinetango' 'art' 'audiobook' 'author' 'avantgarde'\n",
      " 'axé' 'baile' 'balkan' 'beats' 'bigroom' 'black' 'bluegrass' 'blues'\n",
      " 'bollywood' 'bossa' 'brazilian' 'breakbeat' 'breaks' 'broadway'\n",
      " 'cantautori' 'cantopop' 'canzone' 'caribbean' 'caucasian' 'celtic'\n",
      " 'chamber' 'chanson' 'children' 'chill' 'chinese' 'choral' 'christian'\n",
      " 'christmas' 'classical' 'classicmetal' 'club' 'colombian' 'comedy'\n",
      " 'conjazz' 'contemporary' 'country' 'cuban' 'dance' 'dancehall' 'dancepop'\n",
      " 'dark' 'death' 'deep' 'deutschrock' 'deutschspr' 'dirty' 'disco' 'dnb'\n",
      " 'documentary' 'downbeat' 'downtempo' 'drum' 'dub' 'dubstep' 'eastern'\n",
      " 'easy' 'electronic' 'electropop' 'emo' 'entehno' 'epicmetal' 'estrada'\n",
      " 'ethnic' 'eurofolk' 'european' 'experimental' 'extrememetal' 'fado'\n",
      " 'fairytail' 'film' 'fitness' 'flamenco' 'folk' 'folklore' 'folkmetal'\n",
      " 'folkrock' 'folktronica' 'forró' 'frankreich' 'französisch' 'french'\n",
      " 'funk' 'future' 'gangsta' 'garage' 'german' 'ghazal' 'gitarre' 'glitch'\n",
      " 'gospel' 'gothic' 'grime' 'grunge' 'gypsy' 'handsup' \"hard'n'heavy\"\n",
      " 'hardcore' 'hardstyle' 'hardtechno' 'hiphop' 'historisch' 'holiday'\n",
      " 'horror' 'house' 'hymn' 'idm' 'independent' 'indian' 'indie' 'indipop'\n",
      " 'industrial' 'inspirational' 'instrumental' 'international' 'irish' 'jam'\n",
      " 'japanese' 'jazz' 'jewish' 'jpop' 'jungle' 'k-pop' 'karadeniz' 'karaoke'\n",
      " 'kayokyoku' 'korean' 'laiko' 'latin' 'latino' 'leftfield' 'local'\n",
      " 'lounge' 'loungeelectronic' 'lovers' 'malaysian' 'mandopop' 'marschmusik'\n",
      " 'meditative' 'mediterranean' 'melodic' 'metal' 'metalcore' 'mexican'\n",
      " 'middle' 'minimal' 'miscellaneous' 'modern' 'mood' 'mpb' 'muslim'\n",
      " 'native' 'neoklassik' 'neue' 'new' 'newage' 'newwave' 'nu' 'nujazz'\n",
      " 'numetal' 'oceania' 'old' 'opera' 'orchestral' 'other' 'piano' 'podcasts'\n",
      " 'pop' 'popdance' 'popelectronic' 'popeurodance' 'poprussian' 'post'\n",
      " 'posthardcore' 'postrock' 'power' 'progmetal' 'progressive' 'psychedelic'\n",
      " 'punjabi' 'punk' 'quebecois' 'ragga' 'ram' 'rancheras' 'rap' 'rave'\n",
      " 'reggae' 'reggaeton' 'regional' 'relax' 'religious' 'retro' 'rhythm'\n",
      " 'rnb' 'rnr' 'rock' 'rockabilly' 'rockalternative' 'rockindie' 'rockother'\n",
      " 'romance' 'roots' 'ruspop' 'rusrap' 'rusrock' 'russian' 'salsa' 'samba'\n",
      " 'scenic' 'schlager' 'self' 'sertanejo' 'shanson' 'shoegazing' 'showtunes'\n",
      " 'singer' 'ska' 'skarock' 'slow' 'smooth' 'soft' 'soul' 'soulful' 'sound'\n",
      " 'soundtrack' 'southern' 'specialty' 'speech' 'spiritual' 'sport'\n",
      " 'stonerrock' 'surf' 'swing' 'synthpop' 'synthrock' 'sängerportrait'\n",
      " 'tango' 'tanzorchester' 'taraftar' 'tatar' 'tech' 'techno' 'teen'\n",
      " 'thrash' 'top' 'traditional' 'tradjazz' 'trance' 'tribal' 'trip'\n",
      " 'triphop' 'tropical' 'türk' 'türkçe' 'ukrrock' 'unknown' 'urban' 'uzbek'\n",
      " 'variété' 'vi' 'videogame' 'vocal' 'western' 'world' 'worldbeat' 'ïîï'\n",
      " 'электроника']\n"
     ]
    }
   ],
   "source": [
    "print(df['genre'].sort_values().unique())  "
   ]
  },
  {
   "cell_type": "markdown",
   "metadata": {
    "id": "jz6a9-7HQUDd"
   },
   "source": [
    "**Выводы**\n",
    "\n",
    "Предобработка обнаружила три проблемы в данных:\n",
    "\n",
    "- нарушения в стиле заголовков,\n",
    "- пропущенные значения,\n",
    "- дубликаты — явные и неявные.\n",
    "\n",
    "Мы исправили заголовки, чтобы упростить работу с таблицей. \n",
    "Пропущенные значения заменили на `'unknown'`. \n",
    "Теперь можно перейти к проверке гипотез. "
   ]
  },
  {
   "cell_type": "markdown",
   "metadata": {
    "id": "WttZHXH0SqKk"
   },
   "source": [
    "## Проверка гипотез"
   ]
  },
  {
   "cell_type": "markdown",
   "metadata": {
    "id": "Im936VVi_Zcu"
   },
   "source": [
    "### Сравнение поведения пользователей двух столиц"
   ]
  },
  {
   "cell_type": "markdown",
   "metadata": {
    "id": "nwt_MuaL_Zcu"
   },
   "source": [
    "Первая гипотеза утверждает, что пользователи по-разному слушают музыку в Москве и Санкт-Петербурге. Проверим это предположение по данным о трёх днях недели — понедельнике, среде и пятнице. Для этого:\n",
    "\n",
    "* Разделим пользователей Москвы и Санкт-Петербурга\n",
    "* Сравним, сколько треков послушала каждая группа пользователей в понедельник, среду и пятницу.\n"
   ]
  },
  {
   "cell_type": "markdown",
   "metadata": {
    "id": "8Dw_YMmT_Zcu"
   },
   "source": [
    "Сначала оценим активность пользователей в каждом городе. Для этого сгруппируем данные по городу и посчитаем прослушивания в каждой группе."
   ]
  },
  {
   "cell_type": "code",
   "execution_count": 24,
   "metadata": {
    "id": "0_Qs96oh_Zcu"
   },
   "outputs": [
    {
     "name": "stdout",
     "output_type": "stream",
     "text": [
      "city\n",
      "Moscow              42741\n",
      "Saint-Petersburg    18512\n",
      "Name: genre, dtype: int64\n"
     ]
    }
   ],
   "source": [
    " print(df.groupby('city')['genre'].count())      "
   ]
  },
  {
   "cell_type": "markdown",
   "metadata": {
    "id": "dzli3w8o_Zcu"
   },
   "source": [
    "В Москве прослушиваний больше, чем в Петербурге. Из этого не следует, что московские пользователи чаще слушают музыку. Просто самих пользователей в Москве больше.\n",
    "\n",
    "Теперь сгруппируем данные по дню недели и подсчитаем прослушивания в понедельник, среду и пятницу. "
   ]
  },
  {
   "cell_type": "code",
   "execution_count": 25,
   "metadata": {
    "id": "uZMKjiJz_Zcu",
    "scrolled": false
   },
   "outputs": [
    {
     "name": "stdout",
     "output_type": "stream",
     "text": [
      "day\n",
      "Friday       21840\n",
      "Monday       21354\n",
      "Wednesday    18059\n",
      "Name: genre, dtype: int64\n"
     ]
    }
   ],
   "source": [
    " print(df.groupby('day')['genre'].count())"
   ]
  },
  {
   "cell_type": "markdown",
   "metadata": {
    "id": "cC2tNrlL_Zcu"
   },
   "source": [
    "В среднем пользователи из двух городов менее активны по средам. Но картина может измениться, если рассмотреть каждый город в отдельности."
   ]
  },
  {
   "cell_type": "markdown",
   "metadata": {
    "id": "POzs8bGa_Zcu"
   },
   "source": [
    "Теперь создадим функцию `number_tracks()`, которая посчитает прослушивания для заданного дня и города. Ей понадобятся два параметра:\n",
    "* день недели,\n",
    "* название города."
   ]
  },
  {
   "cell_type": "code",
   "execution_count": 26,
   "metadata": {
    "id": "Nz3GdQB1_Zcu"
   },
   "outputs": [],
   "source": [
    "def number_tracks(day,city): \n",
    "    track_list = df[df['day'] ==  day] \n",
    "    track_list = track_list[track_list['city'] == city] \n",
    "    track_list_count = track_list['user_id'].count() "
   ]
  },
  {
   "cell_type": "markdown",
   "metadata": {
    "id": "ytf7xFrFJQ2r"
   },
   "source": [
    "Чтобы получить данные для каждого города в каждый из трёх дней вызовем `number_tracks()` шесть раз, меняя значение параметров."
   ]
  },
  {
   "cell_type": "code",
   "execution_count": 27,
   "metadata": {
    "id": "rJcRATNQ_Zcu"
   },
   "outputs": [
    {
     "data": {
      "text/plain": [
       "15740"
      ]
     },
     "execution_count": 27,
     "metadata": {},
     "output_type": "execute_result"
    }
   ],
   "source": [
    "\n",
    "number_tracks('Monday','Moscow') "
   ]
  },
  {
   "cell_type": "code",
   "execution_count": 28,
   "metadata": {
    "id": "hq_ncZ5T_Zcu"
   },
   "outputs": [
    {
     "data": {
      "text/plain": [
       "5614"
      ]
     },
     "execution_count": 28,
     "metadata": {},
     "output_type": "execute_result"
    }
   ],
   "source": [
    "number_tracks('Monday','Saint-Petersburg')"
   ]
  },
  {
   "cell_type": "code",
   "execution_count": 29,
   "metadata": {
    "id": "_NTy2VPU_Zcu"
   },
   "outputs": [
    {
     "data": {
      "text/plain": [
       "11056"
      ]
     },
     "execution_count": 29,
     "metadata": {},
     "output_type": "execute_result"
    }
   ],
   "source": [
    "number_tracks('Wednesday','Moscow')"
   ]
  },
  {
   "cell_type": "code",
   "execution_count": 30,
   "metadata": {
    "id": "j2y3TAwo_Zcu"
   },
   "outputs": [
    {
     "data": {
      "text/plain": [
       "7003"
      ]
     },
     "execution_count": 30,
     "metadata": {},
     "output_type": "execute_result"
    }
   ],
   "source": [
    "number_tracks('Wednesday','Saint-Petersburg')"
   ]
  },
  {
   "cell_type": "code",
   "execution_count": 31,
   "metadata": {
    "id": "vYDw5u_K_Zcu"
   },
   "outputs": [
    {
     "data": {
      "text/plain": [
       "15945"
      ]
     },
     "execution_count": 31,
     "metadata": {},
     "output_type": "execute_result"
    }
   ],
   "source": [
    "number_tracks('Friday','Moscow')"
   ]
  },
  {
   "cell_type": "code",
   "execution_count": 32,
   "metadata": {
    "id": "8_yzFtW3_Zcu"
   },
   "outputs": [
    {
     "data": {
      "text/plain": [
       "5895"
      ]
     },
     "execution_count": 32,
     "metadata": {},
     "output_type": "execute_result"
    }
   ],
   "source": [
    "number_tracks('Friday','Saint-Petersburg')"
   ]
  },
  {
   "cell_type": "markdown",
   "metadata": {
    "id": "7QXffbO-_Zcu"
   },
   "source": [
    "Для визуализации полученных результатов создаем датафрейм, где\n",
    "* названия колонок — `['city', 'monday', 'wednesday', 'friday']`;\n",
    "* данные — результаты, которые вы получили с помощью `number_tracks`."
   ]
  },
  {
   "cell_type": "code",
   "execution_count": 33,
   "metadata": {
    "id": "APAcLpOr_Zcu"
   },
   "outputs": [
    {
     "data": {
      "text/html": [
       "<div>\n",
       "<style scoped>\n",
       "    .dataframe tbody tr th:only-of-type {\n",
       "        vertical-align: middle;\n",
       "    }\n",
       "\n",
       "    .dataframe tbody tr th {\n",
       "        vertical-align: top;\n",
       "    }\n",
       "\n",
       "    .dataframe thead th {\n",
       "        text-align: right;\n",
       "    }\n",
       "</style>\n",
       "<table border=\"1\" class=\"dataframe\">\n",
       "  <thead>\n",
       "    <tr style=\"text-align: right;\">\n",
       "      <th></th>\n",
       "      <th>city</th>\n",
       "      <th>monday</th>\n",
       "      <th>wednesday</th>\n",
       "      <th>friday</th>\n",
       "    </tr>\n",
       "  </thead>\n",
       "  <tbody>\n",
       "    <tr>\n",
       "      <th>0</th>\n",
       "      <td>Moscow</td>\n",
       "      <td>15740</td>\n",
       "      <td>11056</td>\n",
       "      <td>15945</td>\n",
       "    </tr>\n",
       "    <tr>\n",
       "      <th>1</th>\n",
       "      <td>Saint-Petersburg</td>\n",
       "      <td>5614</td>\n",
       "      <td>7003</td>\n",
       "      <td>5895</td>\n",
       "    </tr>\n",
       "  </tbody>\n",
       "</table>\n",
       "</div>"
      ],
      "text/plain": [
       "               city  monday  wednesday  friday\n",
       "0            Moscow   15740      11056   15945\n",
       "1  Saint-Petersburg    5614       7003    5895"
      ]
     },
     "execution_count": 33,
     "metadata": {},
     "output_type": "execute_result"
    }
   ],
   "source": [
    "pd.DataFrame(data = [['Moscow', 15740, 11056, 15945], ['Saint-Petersburg', 5614, 7003, 5895]\n",
    "                    ], columns = ['city', 'monday', 'wednesday', 'friday'])\n"
   ]
  },
  {
   "cell_type": "markdown",
   "metadata": {
    "id": "-EgPIHYu_Zcu"
   },
   "source": [
    "**Выводы**\n",
    "\n",
    "Данные показывают разницу поведения пользователей:\n",
    "\n",
    "- В Москве пик прослушиваний приходится на понедельник и пятницу, а в среду заметен спад.\n",
    "- В Петербурге, наоборот, больше слушают музыку по средам. Активность в понедельник и пятницу здесь почти в равной мере уступает среде.\n",
    "\n",
    "Значит, данные говорят в пользу первой гипотезы."
   ]
  },
  {
   "cell_type": "markdown",
   "metadata": {
    "id": "atZAxtq4_Zcu"
   },
   "source": [
    "### Музыка в начале и в конце недели"
   ]
  },
  {
   "cell_type": "markdown",
   "metadata": {
    "id": "eXrQqXFH_Zcu"
   },
   "source": [
    "Согласно второй гипотезе, утром в понедельник в Москве преобладают одни жанры, а в Петербурге — другие. Так же и вечером пятницы преобладают разные жанры — в зависимости от города."
   ]
  },
  {
   "cell_type": "markdown",
   "metadata": {
    "id": "S8UcW6Hw_Zcu"
   },
   "source": [
    "Сохраним таблицы с данными в две переменные:\n",
    "* по Москве — в `moscow_general`;\n",
    "* по Санкт-Петербургу — в `spb_general`."
   ]
  },
  {
   "cell_type": "code",
   "execution_count": 34,
   "metadata": {
    "id": "qeaFfM_P_Zcu"
   },
   "outputs": [],
   "source": [
    "moscow_general = df[df['city'] == 'Moscow'] "
   ]
  },
  {
   "cell_type": "code",
   "execution_count": 35,
   "metadata": {
    "id": "ORaVRKto_Zcu",
    "scrolled": true
   },
   "outputs": [],
   "source": [
    "spb_general = df[df['city'] == 'Saint-Petersburg'] "
   ]
  },
  {
   "cell_type": "markdown",
   "metadata": {
    "id": "MEJV-CX2_Zcu"
   },
   "source": [
    "Создадим функцию `genre_weekday()` с четырьмя параметрами:\n",
    "* таблица (датафрейм) с данными,\n",
    "* день недели,\n",
    "* начальная временная метка в формате 'hh:mm', \n",
    "* последняя временная метка в формате 'hh:mm'.\n",
    "\n",
    "Функция вернет информацию о топ-10 жанров тех треков, которые прослушивали в указанный день, в промежутке между двумя отметками времени."
   ]
  },
  {
   "cell_type": "code",
   "execution_count": 36,
   "metadata": {
    "id": "laJT9BYl_Zcu"
   },
   "outputs": [],
   "source": [
    "def genre_weekday(table, day, time1, time2): \n",
    "    genre_df = table[(table['day']== day) & (table['time'] > time1) & (table['time'] < time2)]#  1) в переменную genre_df сохраняются те строки переданного датафрейма table, для\n",
    "    genre_df_count = genre_df.groupby('genre')['city'].count() \n",
    "    genre_df_sorted = genre_df_count.sort_values(ascending = False)\n",
    "    return genre_df_sorted.head(10) "
   ]
  },
  {
   "cell_type": "markdown",
   "metadata": {
    "id": "la2s2_PF_Zcu"
   },
   "source": [
    "Cравним результаты функции `genre_weekday()` для Москвы и Санкт-Петербурга в понедельник утром (с 7:00 до 11:00) и в пятницу вечером (с 17:00 до 23:00):"
   ]
  },
  {
   "cell_type": "code",
   "execution_count": 37,
   "metadata": {
    "id": "yz7itPUQ_Zcu"
   },
   "outputs": [
    {
     "data": {
      "text/plain": [
       "genre\n",
       "pop            781\n",
       "dance          549\n",
       "electronic     480\n",
       "rock           474\n",
       "hiphop         286\n",
       "ruspop         186\n",
       "world          181\n",
       "rusrap         175\n",
       "alternative    164\n",
       "unknown        161\n",
       "Name: city, dtype: int64"
      ]
     },
     "execution_count": 37,
     "metadata": {},
     "output_type": "execute_result"
    }
   ],
   "source": [
    "    genre_weekday(moscow_general, 'Monday', '07:00', '11:00') "
   ]
  },
  {
   "cell_type": "code",
   "execution_count": 38,
   "metadata": {
    "id": "kwUcHPdy_Zcu",
    "scrolled": true
   },
   "outputs": [
    {
     "data": {
      "text/plain": [
       "genre\n",
       "pop            218\n",
       "dance          182\n",
       "rock           162\n",
       "electronic     147\n",
       "hiphop          80\n",
       "ruspop          64\n",
       "alternative     58\n",
       "rusrap          55\n",
       "jazz            44\n",
       "classical       40\n",
       "Name: city, dtype: int64"
      ]
     },
     "execution_count": 38,
     "metadata": {},
     "output_type": "execute_result"
    }
   ],
   "source": [
    "    genre_weekday(spb_general,'Monday', '07:00', '11:00') "
   ]
  },
  {
   "cell_type": "code",
   "execution_count": 39,
   "metadata": {
    "id": "EzXVRE1o_Zcu"
   },
   "outputs": [
    {
     "data": {
      "text/plain": [
       "genre\n",
       "pop            713\n",
       "rock           517\n",
       "dance          495\n",
       "electronic     482\n",
       "hiphop         273\n",
       "world          208\n",
       "ruspop         170\n",
       "alternative    163\n",
       "classical      163\n",
       "rusrap         142\n",
       "Name: city, dtype: int64"
      ]
     },
     "execution_count": 39,
     "metadata": {},
     "output_type": "execute_result"
    }
   ],
   "source": [
    "    genre_weekday(moscow_general, 'Friday', '17:00', '23:00')"
   ]
  },
  {
   "cell_type": "code",
   "execution_count": 40,
   "metadata": {
    "id": "JZaEKu5v_Zcu"
   },
   "outputs": [
    {
     "data": {
      "text/plain": [
       "genre\n",
       "pop            256\n",
       "electronic     216\n",
       "rock           216\n",
       "dance          210\n",
       "hiphop          97\n",
       "alternative     63\n",
       "jazz            61\n",
       "classical       60\n",
       "rusrap          59\n",
       "world           54\n",
       "Name: city, dtype: int64"
      ]
     },
     "execution_count": 40,
     "metadata": {},
     "output_type": "execute_result"
    }
   ],
   "source": [
    "    genre_weekday(spb_general, 'Friday', '17:00', '23:00')"
   ]
  },
  {
   "cell_type": "markdown",
   "metadata": {
    "id": "wrCe4MNX_Zcu"
   },
   "source": [
    "**Выводы**\n",
    "\n",
    "Если сравнить топ-10 жанров в понедельник утром, можно сделать такие выводы:\n",
    "\n",
    "1. В Москве и Петербурге слушают похожую музыку. Единственное отличие — в московский рейтинг вошёл жанр “world”, а в петербургский — джаз и классика.\n",
    "\n",
    "2. В Москве пропущенных значений оказалось так много, что значение `'unknown'` заняло десятое место среди самых популярных жанров. Значит, пропущенные значения занимают существенную долю в данных и угрожают достоверности исследования.\n",
    "\n",
    "Вечер пятницы не меняет эту картину. Некоторые жанры поднимаются немного выше, другие спускаются, но в целом топ-10 остаётся тем же самым.\n",
    "\n",
    "Таким образом, вторая гипотеза подтвердилась лишь частично:\n",
    "* Пользователи слушают похожую музыку в начале недели и в конце.\n",
    "* Разница между Москвой и Петербургом не слишком выражена. В Москве чаще слушают русскую популярную музыку, в Петербурге — джаз.\n",
    "\n",
    "Однако пропуски в данных ставят под сомнение этот результат. В Москве их так много, что рейтинг топ-10 мог бы выглядеть иначе, если бы не утерянные  данные о жанрах."
   ]
  },
  {
   "cell_type": "markdown",
   "metadata": {
    "id": "JolODAqr_Zcu"
   },
   "source": [
    "### Жанровые предпочтения в Москве и Петербурге\n",
    "\n",
    "Гипотеза: Петербург — столица рэпа, музыку этого жанра там слушают чаще, чем в Москве.  А Москва — город контрастов, в котором, тем не менее, преобладает поп-музыка."
   ]
  },
  {
   "cell_type": "markdown",
   "metadata": {
    "id": "DlegSvaT_Zcu"
   },
   "source": [
    "Сгруппируем таблицу `moscow_general` по жанру и посчитаем прослушивания треков каждого жанра методом `count()`. Затем отсортируем результат в порядке убывания и сохраним его в таблице `moscow_genres`."
   ]
  },
  {
   "cell_type": "code",
   "execution_count": 41,
   "metadata": {
    "id": "r19lIPke_Zcu",
    "scrolled": true
   },
   "outputs": [],
   "source": [
    "moscow_genres = moscow_general.groupby('genre')['city'].count().sort_values(ascending = False) "
   ]
  },
  {
   "cell_type": "code",
   "execution_count": 42,
   "metadata": {
    "id": "WhCSooF8_Zcv"
   },
   "outputs": [
    {
     "data": {
      "text/plain": [
       "genre\n",
       "pop            5892\n",
       "dance          4435\n",
       "rock           3965\n",
       "electronic     3786\n",
       "hiphop         2096\n",
       "classical      1616\n",
       "world          1432\n",
       "alternative    1379\n",
       "ruspop         1372\n",
       "rusrap         1161\n",
       "Name: city, dtype: int64"
      ]
     },
     "metadata": {},
     "output_type": "display_data"
    }
   ],
   "source": [
    "display(moscow_genres.head(10)) "
   ]
  },
  {
   "cell_type": "markdown",
   "metadata": {
    "id": "cnPG2vnN_Zcv"
   },
   "source": [
    "Повторим то же и для Петербурга."
   ]
  },
  {
   "cell_type": "code",
   "execution_count": 43,
   "metadata": {
    "id": "gluLIpE7_Zcv"
   },
   "outputs": [],
   "source": [
    "spb_genres = spb_general.groupby('genre')['city'].count().sort_values(ascending = False)"
   ]
  },
  {
   "cell_type": "code",
   "execution_count": 44,
   "metadata": {
    "id": "uaGJHjVU_Zcv"
   },
   "outputs": [
    {
     "data": {
      "text/plain": [
       "genre\n",
       "pop            2431\n",
       "dance          1932\n",
       "rock           1879\n",
       "electronic     1736\n",
       "hiphop          960\n",
       "alternative     649\n",
       "classical       646\n",
       "rusrap          564\n",
       "ruspop          538\n",
       "world           515\n",
       "Name: city, dtype: int64"
      ]
     },
     "metadata": {},
     "output_type": "display_data"
    }
   ],
   "source": [
    "display(spb_genres.head(10)) "
   ]
  },
  {
   "cell_type": "markdown",
   "metadata": {
    "id": "RY51YJYu_Zcv"
   },
   "source": [
    "**Выводы**"
   ]
  },
  {
   "cell_type": "markdown",
   "metadata": {
    "id": "nVhnJEm__Zcv"
   },
   "source": [
    "Гипотеза частично подтвердилась:\n",
    "* Поп-музыка — самый популярный жанр в Москве, как и предполагала гипотеза. Более того, в топ-10 жанров встречается близкий жанр — русская популярная музыка.\n",
    "* Вопреки ожиданиям, рэп одинаково популярен в Москве и Петербурге. \n"
   ]
  },
  {
   "cell_type": "markdown",
   "metadata": {
    "id": "ykKQ0N65_Zcv"
   },
   "source": [
    "## Итоги исследования"
   ]
  },
  {
   "cell_type": "markdown",
   "metadata": {
    "id": "tjUwbHb3_Zcv"
   },
   "source": [
    "Мы провели исследование как меняются предпочтения слушателей Яндекс.Музыки в г.Москве и г.Санкт-Петербурге в зависимости от дня недели и установили:\n",
    "\n",
    "1. День недели по-разному влияет на активность пользователей в Москве и Петербурге. \n",
    "\n",
    "2. Музыкальные предпочтения не сильно меняются в течение недели — будь то Москва или Петербург. Небольшие различия заметны в начале недели, по понедельникам:\n",
    "* в Москве слушают музыку жанра “world”,\n",
    "* в Петербурге — джаз и классику.\n",
    "\n",
    "3. Во вкусах пользователей Москвы и Петербурга больше общего чем различий. Вопреки ожиданиям, предпочтения жанров в Петербурге напоминают московские.\n"
   ]
  }
 ],
 "metadata": {
  "ExecuteTimeLog": [
   {
    "duration": 490,
    "start_time": "2022-04-22T05:58:34.641Z"
   },
   {
    "duration": 198,
    "start_time": "2022-04-22T05:58:41.985Z"
   },
   {
    "duration": 90,
    "start_time": "2022-04-22T05:58:51.924Z"
   },
   {
    "duration": 12,
    "start_time": "2022-04-22T05:59:40.458Z"
   },
   {
    "duration": 4,
    "start_time": "2022-04-22T05:59:51.325Z"
   },
   {
    "duration": 200,
    "start_time": "2022-04-22T05:59:57.945Z"
   },
   {
    "duration": 39,
    "start_time": "2022-04-22T06:00:33.226Z"
   },
   {
    "duration": 1717,
    "start_time": "2022-04-22T06:23:38.635Z"
   },
   {
    "duration": 28,
    "start_time": "2022-04-22T06:26:05.760Z"
   },
   {
    "duration": 10,
    "start_time": "2022-04-22T06:26:38.302Z"
   },
   {
    "duration": 10,
    "start_time": "2022-04-22T06:27:19.184Z"
   },
   {
    "duration": 10,
    "start_time": "2022-04-22T06:28:00.936Z"
   },
   {
    "duration": 16,
    "start_time": "2022-04-22T06:29:26.047Z"
   },
   {
    "duration": 4,
    "start_time": "2022-04-22T06:34:23.828Z"
   },
   {
    "duration": 14,
    "start_time": "2022-04-22T06:40:09.774Z"
   },
   {
    "duration": 6,
    "start_time": "2022-04-22T06:40:44.112Z"
   },
   {
    "duration": 37,
    "start_time": "2022-04-22T06:54:30.846Z"
   },
   {
    "duration": 34,
    "start_time": "2022-04-22T06:55:35.644Z"
   },
   {
    "duration": 52,
    "start_time": "2022-04-22T06:55:43.910Z"
   },
   {
    "duration": 34,
    "start_time": "2022-04-22T06:55:57.546Z"
   },
   {
    "duration": 12,
    "start_time": "2022-04-22T07:09:03.391Z"
   },
   {
    "duration": 25,
    "start_time": "2022-04-22T07:12:39.781Z"
   },
   {
    "duration": 23,
    "start_time": "2022-04-22T07:12:50.936Z"
   },
   {
    "duration": 34,
    "start_time": "2022-04-22T07:12:59.722Z"
   },
   {
    "duration": 101,
    "start_time": "2022-04-22T07:15:39.227Z"
   },
   {
    "duration": 110,
    "start_time": "2022-04-22T07:17:45.816Z"
   },
   {
    "duration": 88,
    "start_time": "2022-04-22T08:07:33.275Z"
   },
   {
    "duration": 10,
    "start_time": "2022-04-22T08:45:41.487Z"
   },
   {
    "duration": 200,
    "start_time": "2022-04-22T09:56:31.722Z"
   },
   {
    "duration": 211,
    "start_time": "2022-04-22T09:57:36.382Z"
   },
   {
    "duration": 217,
    "start_time": "2022-04-22T09:59:43.812Z"
   },
   {
    "duration": 215,
    "start_time": "2022-04-22T10:03:40.668Z"
   },
   {
    "duration": 218,
    "start_time": "2022-04-22T10:05:27.044Z"
   },
   {
    "duration": 229,
    "start_time": "2022-04-22T10:05:42.222Z"
   },
   {
    "duration": 206,
    "start_time": "2022-04-22T10:06:17.328Z"
   },
   {
    "duration": 4,
    "start_time": "2022-04-22T10:06:59.941Z"
   },
   {
    "duration": 5,
    "start_time": "2022-04-22T10:07:07.206Z"
   },
   {
    "duration": 14,
    "start_time": "2022-04-22T10:08:33.247Z"
   },
   {
    "duration": 12,
    "start_time": "2022-04-22T10:09:24.081Z"
   },
   {
    "duration": 23,
    "start_time": "2022-04-22T10:12:44.989Z"
   },
   {
    "duration": 12,
    "start_time": "2022-04-22T10:13:38.977Z"
   },
   {
    "duration": 4,
    "start_time": "2022-04-22T10:14:21.718Z"
   },
   {
    "duration": 21,
    "start_time": "2022-04-22T10:14:41.314Z"
   },
   {
    "duration": 6,
    "start_time": "2022-04-22T10:17:35.423Z"
   },
   {
    "duration": 8,
    "start_time": "2022-04-22T10:18:47.478Z"
   },
   {
    "duration": 10,
    "start_time": "2022-04-22T10:20:17.721Z"
   },
   {
    "duration": 14,
    "start_time": "2022-04-22T10:31:45.421Z"
   },
   {
    "duration": 3,
    "start_time": "2022-04-22T10:31:52.330Z"
   },
   {
    "duration": 189,
    "start_time": "2022-04-23T05:10:46.592Z"
   },
   {
    "duration": 46,
    "start_time": "2022-04-23T05:14:09.706Z"
   },
   {
    "duration": 7,
    "start_time": "2022-04-23T05:15:30.255Z"
   },
   {
    "duration": 6,
    "start_time": "2022-04-23T05:16:03.244Z"
   },
   {
    "duration": 7,
    "start_time": "2022-04-23T05:17:46.201Z"
   },
   {
    "duration": 7,
    "start_time": "2022-04-23T05:18:02.929Z"
   },
   {
    "duration": 7,
    "start_time": "2022-04-23T05:18:10.791Z"
   },
   {
    "duration": 439,
    "start_time": "2022-04-23T05:18:44.940Z"
   },
   {
    "duration": 183,
    "start_time": "2022-04-23T05:34:09.725Z"
   },
   {
    "duration": 19,
    "start_time": "2022-04-23T05:34:17.499Z"
   },
   {
    "duration": 34,
    "start_time": "2022-04-23T05:34:40.108Z"
   },
   {
    "duration": 11,
    "start_time": "2022-04-23T05:35:46.467Z"
   },
   {
    "duration": 10,
    "start_time": "2022-04-23T05:36:21.432Z"
   },
   {
    "duration": 12,
    "start_time": "2022-04-23T05:37:19.778Z"
   },
   {
    "duration": 11,
    "start_time": "2022-04-23T05:38:29.770Z"
   },
   {
    "duration": 11,
    "start_time": "2022-04-23T05:38:46.794Z"
   },
   {
    "duration": 11,
    "start_time": "2022-04-23T05:40:01.421Z"
   },
   {
    "duration": 11,
    "start_time": "2022-04-23T05:41:42.526Z"
   },
   {
    "duration": 10,
    "start_time": "2022-04-23T05:42:00.846Z"
   },
   {
    "duration": 12,
    "start_time": "2022-04-23T05:56:40.347Z"
   },
   {
    "duration": 162,
    "start_time": "2022-04-23T05:58:12.800Z"
   },
   {
    "duration": 498,
    "start_time": "2022-04-23T05:58:53.110Z"
   },
   {
    "duration": 11,
    "start_time": "2022-04-23T05:59:34.349Z"
   },
   {
    "duration": 2735,
    "start_time": "2022-04-23T06:01:14.766Z"
   },
   {
    "duration": 12,
    "start_time": "2022-04-23T06:04:50.862Z"
   },
   {
    "duration": 4,
    "start_time": "2022-04-23T06:05:59.744Z"
   },
   {
    "duration": 17,
    "start_time": "2022-04-23T06:06:39.028Z"
   },
   {
    "duration": 5,
    "start_time": "2022-04-23T06:06:49.994Z"
   },
   {
    "duration": 4,
    "start_time": "2022-04-23T06:06:55.767Z"
   },
   {
    "duration": 188,
    "start_time": "2022-04-23T06:07:38.725Z"
   },
   {
    "duration": 15,
    "start_time": "2022-04-23T06:08:05.227Z"
   },
   {
    "duration": 16,
    "start_time": "2022-04-23T06:08:54.599Z"
   },
   {
    "duration": 15,
    "start_time": "2022-04-23T06:09:08.279Z"
   },
   {
    "duration": 187,
    "start_time": "2022-04-23T06:09:33.008Z"
   },
   {
    "duration": 14,
    "start_time": "2022-04-23T06:09:42.643Z"
   },
   {
    "duration": 32,
    "start_time": "2022-04-23T06:09:50.179Z"
   },
   {
    "duration": 5,
    "start_time": "2022-04-23T06:10:06.767Z"
   },
   {
    "duration": 13,
    "start_time": "2022-04-23T06:10:13.293Z"
   },
   {
    "duration": 3,
    "start_time": "2022-04-23T06:10:17.109Z"
   },
   {
    "duration": 25,
    "start_time": "2022-04-23T06:10:21.485Z"
   },
   {
    "duration": 3,
    "start_time": "2022-04-23T06:10:40.317Z"
   },
   {
    "duration": 14,
    "start_time": "2022-04-23T06:10:45.597Z"
   },
   {
    "duration": 171,
    "start_time": "2022-04-23T06:26:26.822Z"
   },
   {
    "duration": 167,
    "start_time": "2022-04-23T06:27:36.075Z"
   },
   {
    "duration": 170,
    "start_time": "2022-04-23T06:30:20.612Z"
   },
   {
    "duration": 166,
    "start_time": "2022-04-23T06:31:37.866Z"
   },
   {
    "duration": 202,
    "start_time": "2022-04-23T06:31:52.141Z"
   },
   {
    "duration": 164,
    "start_time": "2022-04-23T06:32:48.798Z"
   },
   {
    "duration": 757,
    "start_time": "2022-04-23T06:36:09.712Z"
   },
   {
    "duration": 189,
    "start_time": "2022-04-23T06:37:12.448Z"
   },
   {
    "duration": 216,
    "start_time": "2022-04-23T06:39:07.485Z"
   },
   {
    "duration": 1566,
    "start_time": "2022-04-23T06:40:07.365Z"
   },
   {
    "duration": 170,
    "start_time": "2022-04-23T06:41:05.300Z"
   },
   {
    "duration": 163,
    "start_time": "2022-04-23T06:41:59.568Z"
   },
   {
    "duration": 193,
    "start_time": "2022-04-23T06:46:43.599Z"
   },
   {
    "duration": 172,
    "start_time": "2022-04-23T06:47:34.342Z"
   },
   {
    "duration": 168,
    "start_time": "2022-04-23T06:49:58.008Z"
   },
   {
    "duration": 171,
    "start_time": "2022-04-23T06:50:46.236Z"
   },
   {
    "duration": 175,
    "start_time": "2022-04-23T06:57:11.836Z"
   },
   {
    "duration": 168,
    "start_time": "2022-04-23T06:57:26.251Z"
   },
   {
    "duration": 165,
    "start_time": "2022-04-23T06:57:41.562Z"
   },
   {
    "duration": 165,
    "start_time": "2022-04-23T06:58:50.862Z"
   },
   {
    "duration": 165,
    "start_time": "2022-04-23T07:08:24.328Z"
   },
   {
    "duration": 168,
    "start_time": "2022-04-23T07:10:17.792Z"
   },
   {
    "duration": 4,
    "start_time": "2022-04-23T08:54:39.375Z"
   },
   {
    "duration": 181,
    "start_time": "2022-04-23T08:55:08.188Z"
   },
   {
    "duration": 9,
    "start_time": "2022-04-23T08:55:57.683Z"
   },
   {
    "duration": 4,
    "start_time": "2022-04-23T08:56:06.024Z"
   },
   {
    "duration": 169,
    "start_time": "2022-04-23T08:57:36.453Z"
   },
   {
    "duration": 13,
    "start_time": "2022-04-23T08:57:56.178Z"
   },
   {
    "duration": 3,
    "start_time": "2022-04-23T08:58:04.448Z"
   },
   {
    "duration": 2,
    "start_time": "2022-04-23T09:00:06.162Z"
   },
   {
    "duration": 172,
    "start_time": "2022-04-23T09:00:09.189Z"
   },
   {
    "duration": 12,
    "start_time": "2022-04-23T09:00:12.379Z"
   },
   {
    "duration": 32,
    "start_time": "2022-04-23T09:00:16.353Z"
   },
   {
    "duration": 4,
    "start_time": "2022-04-23T09:00:28.364Z"
   },
   {
    "duration": 4,
    "start_time": "2022-04-23T09:02:19.830Z"
   },
   {
    "duration": 9,
    "start_time": "2022-04-23T09:02:30.301Z"
   },
   {
    "duration": 4,
    "start_time": "2022-04-23T09:02:34.027Z"
   },
   {
    "duration": 27,
    "start_time": "2022-04-23T09:02:40.317Z"
   },
   {
    "duration": 20,
    "start_time": "2022-04-23T09:02:43.908Z"
   },
   {
    "duration": 28,
    "start_time": "2022-04-23T09:02:47.106Z"
   },
   {
    "duration": 73,
    "start_time": "2022-04-23T09:02:52.805Z"
   },
   {
    "duration": 74,
    "start_time": "2022-04-23T09:02:56.548Z"
   },
   {
    "duration": 63,
    "start_time": "2022-04-23T09:03:00.759Z"
   },
   {
    "duration": 9,
    "start_time": "2022-04-23T09:03:07.808Z"
   },
   {
    "duration": 3,
    "start_time": "2022-04-23T09:03:12.468Z"
   },
   {
    "duration": 11,
    "start_time": "2022-04-23T09:03:15.958Z"
   },
   {
    "duration": 7,
    "start_time": "2022-04-23T09:03:19.772Z"
   },
   {
    "duration": 13,
    "start_time": "2022-04-23T09:03:30.818Z"
   },
   {
    "duration": 174,
    "start_time": "2022-04-23T09:03:36.151Z"
   },
   {
    "duration": 168,
    "start_time": "2022-04-23T09:03:52.917Z"
   },
   {
    "duration": 11,
    "start_time": "2022-04-23T09:21:23.519Z"
   },
   {
    "duration": 172,
    "start_time": "2022-04-23T09:21:49.419Z"
   },
   {
    "duration": 165,
    "start_time": "2022-04-23T09:21:59.583Z"
   },
   {
    "duration": 4,
    "start_time": "2022-04-23T09:23:05.893Z"
   },
   {
    "duration": 195,
    "start_time": "2022-04-23T09:23:05.900Z"
   },
   {
    "duration": 13,
    "start_time": "2022-04-23T09:23:06.097Z"
   },
   {
    "duration": 44,
    "start_time": "2022-04-23T09:23:06.112Z"
   },
   {
    "duration": 4,
    "start_time": "2022-04-23T09:23:06.158Z"
   },
   {
    "duration": 12,
    "start_time": "2022-04-23T09:23:06.163Z"
   },
   {
    "duration": 5,
    "start_time": "2022-04-23T09:23:06.177Z"
   },
   {
    "duration": 71,
    "start_time": "2022-04-23T09:23:06.184Z"
   },
   {
    "duration": 21,
    "start_time": "2022-04-23T09:23:06.257Z"
   },
   {
    "duration": 31,
    "start_time": "2022-04-23T09:23:06.280Z"
   },
   {
    "duration": 89,
    "start_time": "2022-04-23T09:23:06.314Z"
   },
   {
    "duration": 86,
    "start_time": "2022-04-23T09:23:06.405Z"
   },
   {
    "duration": 72,
    "start_time": "2022-04-23T09:23:06.493Z"
   },
   {
    "duration": 255,
    "start_time": "2022-04-23T09:23:06.567Z"
   },
   {
    "duration": 6,
    "start_time": "2022-04-23T09:23:06.824Z"
   },
   {
    "duration": 14,
    "start_time": "2022-04-23T09:23:06.832Z"
   },
   {
    "duration": 7,
    "start_time": "2022-04-23T09:23:06.848Z"
   },
   {
    "duration": 12,
    "start_time": "2022-04-23T09:23:06.857Z"
   },
   {
    "duration": 162,
    "start_time": "2022-04-23T09:23:06.871Z"
   },
   {
    "duration": 167,
    "start_time": "2022-04-23T09:26:46.346Z"
   },
   {
    "duration": 180,
    "start_time": "2022-04-23T09:27:13.233Z"
   },
   {
    "duration": 360,
    "start_time": "2022-04-23T14:09:53.162Z"
   },
   {
    "duration": 173,
    "start_time": "2022-04-23T14:09:53.524Z"
   },
   {
    "duration": 15,
    "start_time": "2022-04-23T14:09:53.699Z"
   },
   {
    "duration": 50,
    "start_time": "2022-04-23T14:09:53.723Z"
   },
   {
    "duration": 5,
    "start_time": "2022-04-23T14:09:53.775Z"
   },
   {
    "duration": 16,
    "start_time": "2022-04-23T14:09:53.781Z"
   },
   {
    "duration": 27,
    "start_time": "2022-04-23T14:09:53.798Z"
   },
   {
    "duration": 47,
    "start_time": "2022-04-23T14:09:53.827Z"
   },
   {
    "duration": 33,
    "start_time": "2022-04-23T14:09:53.877Z"
   },
   {
    "duration": 49,
    "start_time": "2022-04-23T14:09:53.912Z"
   },
   {
    "duration": 128,
    "start_time": "2022-04-23T14:09:53.963Z"
   },
   {
    "duration": 163,
    "start_time": "2022-04-23T14:09:54.093Z"
   },
   {
    "duration": 97,
    "start_time": "2022-04-23T14:09:54.258Z"
   },
   {
    "duration": 11,
    "start_time": "2022-04-23T14:09:54.359Z"
   },
   {
    "duration": 4,
    "start_time": "2022-04-23T14:09:54.372Z"
   },
   {
    "duration": 16,
    "start_time": "2022-04-23T14:09:54.378Z"
   },
   {
    "duration": 33,
    "start_time": "2022-04-23T14:09:54.396Z"
   },
   {
    "duration": 12,
    "start_time": "2022-04-23T14:09:54.432Z"
   },
   {
    "duration": 148,
    "start_time": "2022-04-23T14:09:54.446Z"
   },
   {
    "duration": 0,
    "start_time": "2022-04-23T14:09:54.596Z"
   },
   {
    "duration": 0,
    "start_time": "2022-04-23T14:09:54.597Z"
   },
   {
    "duration": 0,
    "start_time": "2022-04-23T14:09:54.598Z"
   },
   {
    "duration": 0,
    "start_time": "2022-04-23T14:09:54.599Z"
   },
   {
    "duration": 0,
    "start_time": "2022-04-23T14:09:54.600Z"
   },
   {
    "duration": 0,
    "start_time": "2022-04-23T14:09:54.601Z"
   },
   {
    "duration": 0,
    "start_time": "2022-04-23T14:09:54.602Z"
   },
   {
    "duration": 0,
    "start_time": "2022-04-23T14:09:54.603Z"
   },
   {
    "duration": 0,
    "start_time": "2022-04-23T14:09:54.604Z"
   },
   {
    "duration": 0,
    "start_time": "2022-04-23T14:09:54.605Z"
   },
   {
    "duration": 0,
    "start_time": "2022-04-23T14:09:54.606Z"
   },
   {
    "duration": 0,
    "start_time": "2022-04-23T14:09:54.607Z"
   },
   {
    "duration": 0,
    "start_time": "2022-04-23T14:09:54.608Z"
   },
   {
    "duration": 0,
    "start_time": "2022-04-23T14:09:54.609Z"
   },
   {
    "duration": 0,
    "start_time": "2022-04-23T14:09:54.610Z"
   },
   {
    "duration": 0,
    "start_time": "2022-04-23T14:09:54.611Z"
   },
   {
    "duration": 0,
    "start_time": "2022-04-23T14:09:54.612Z"
   },
   {
    "duration": 0,
    "start_time": "2022-04-23T14:09:54.613Z"
   },
   {
    "duration": 0,
    "start_time": "2022-04-23T14:09:54.615Z"
   },
   {
    "duration": 134,
    "start_time": "2022-04-23T14:10:29.527Z"
   },
   {
    "duration": 15,
    "start_time": "2022-04-23T14:17:11.794Z"
   },
   {
    "duration": 134,
    "start_time": "2022-04-23T14:19:24.926Z"
   },
   {
    "duration": 135,
    "start_time": "2022-04-23T14:19:51.302Z"
   },
   {
    "duration": 10,
    "start_time": "2022-04-23T14:21:09.494Z"
   },
   {
    "duration": 12,
    "start_time": "2022-04-23T14:21:31.936Z"
   },
   {
    "duration": 9,
    "start_time": "2022-04-23T14:48:19.447Z"
   },
   {
    "duration": 3,
    "start_time": "2022-04-23T15:39:18.999Z"
   },
   {
    "duration": 165,
    "start_time": "2022-04-23T15:39:26.324Z"
   },
   {
    "duration": 3,
    "start_time": "2022-04-23T15:39:37.036Z"
   },
   {
    "duration": 137,
    "start_time": "2022-04-23T15:48:40.596Z"
   },
   {
    "duration": 3,
    "start_time": "2022-04-23T15:55:16.997Z"
   },
   {
    "duration": 61,
    "start_time": "2022-04-23T16:36:59.224Z"
   },
   {
    "duration": 4,
    "start_time": "2022-04-23T16:44:14.979Z"
   },
   {
    "duration": 16,
    "start_time": "2022-04-23T16:45:19.218Z"
   },
   {
    "duration": 3,
    "start_time": "2022-04-23T16:46:19.466Z"
   },
   {
    "duration": 3,
    "start_time": "2022-04-23T16:47:49.095Z"
   },
   {
    "duration": 152,
    "start_time": "2022-04-23T16:47:49.099Z"
   },
   {
    "duration": 10,
    "start_time": "2022-04-23T16:47:49.252Z"
   },
   {
    "duration": 27,
    "start_time": "2022-04-23T16:47:49.265Z"
   },
   {
    "duration": 3,
    "start_time": "2022-04-23T16:47:49.293Z"
   },
   {
    "duration": 32,
    "start_time": "2022-04-23T16:47:49.298Z"
   },
   {
    "duration": 4,
    "start_time": "2022-04-23T16:47:49.332Z"
   },
   {
    "duration": 23,
    "start_time": "2022-04-23T16:47:49.338Z"
   },
   {
    "duration": 17,
    "start_time": "2022-04-23T16:47:49.364Z"
   },
   {
    "duration": 20,
    "start_time": "2022-04-23T16:47:49.383Z"
   },
   {
    "duration": 84,
    "start_time": "2022-04-23T16:47:49.405Z"
   },
   {
    "duration": 77,
    "start_time": "2022-04-23T16:47:49.490Z"
   },
   {
    "duration": 62,
    "start_time": "2022-04-23T16:47:49.569Z"
   },
   {
    "duration": 8,
    "start_time": "2022-04-23T16:47:49.633Z"
   },
   {
    "duration": 3,
    "start_time": "2022-04-23T16:47:49.642Z"
   },
   {
    "duration": 12,
    "start_time": "2022-04-23T16:47:49.647Z"
   },
   {
    "duration": 6,
    "start_time": "2022-04-23T16:47:49.661Z"
   },
   {
    "duration": 12,
    "start_time": "2022-04-23T16:47:49.669Z"
   },
   {
    "duration": 9,
    "start_time": "2022-04-23T16:47:49.683Z"
   },
   {
    "duration": 35,
    "start_time": "2022-04-23T16:47:49.694Z"
   },
   {
    "duration": 23,
    "start_time": "2022-04-23T16:47:49.731Z"
   },
   {
    "duration": 0,
    "start_time": "2022-04-23T16:47:49.757Z"
   },
   {
    "duration": 0,
    "start_time": "2022-04-23T16:47:49.758Z"
   },
   {
    "duration": 0,
    "start_time": "2022-04-23T16:47:49.759Z"
   },
   {
    "duration": 0,
    "start_time": "2022-04-23T16:47:49.761Z"
   },
   {
    "duration": 0,
    "start_time": "2022-04-23T16:47:49.762Z"
   },
   {
    "duration": 0,
    "start_time": "2022-04-23T16:47:49.763Z"
   },
   {
    "duration": 0,
    "start_time": "2022-04-23T16:47:49.764Z"
   },
   {
    "duration": 0,
    "start_time": "2022-04-23T16:47:49.765Z"
   },
   {
    "duration": 0,
    "start_time": "2022-04-23T16:47:49.766Z"
   },
   {
    "duration": 0,
    "start_time": "2022-04-23T16:47:49.767Z"
   },
   {
    "duration": 0,
    "start_time": "2022-04-23T16:47:49.768Z"
   },
   {
    "duration": 0,
    "start_time": "2022-04-23T16:47:49.769Z"
   },
   {
    "duration": 0,
    "start_time": "2022-04-23T16:47:49.770Z"
   },
   {
    "duration": 0,
    "start_time": "2022-04-23T16:47:49.771Z"
   },
   {
    "duration": 0,
    "start_time": "2022-04-23T16:47:49.772Z"
   },
   {
    "duration": 0,
    "start_time": "2022-04-23T16:47:49.773Z"
   },
   {
    "duration": 0,
    "start_time": "2022-04-23T16:47:49.774Z"
   },
   {
    "duration": 3,
    "start_time": "2022-04-23T16:48:34.694Z"
   },
   {
    "duration": 7,
    "start_time": "2022-04-23T16:49:07.436Z"
   },
   {
    "duration": 7,
    "start_time": "2022-04-23T16:50:35.160Z"
   },
   {
    "duration": 7,
    "start_time": "2022-04-23T16:52:47.796Z"
   },
   {
    "duration": 4,
    "start_time": "2022-04-23T16:53:34.756Z"
   },
   {
    "duration": 8,
    "start_time": "2022-04-23T16:53:42.037Z"
   },
   {
    "duration": 6,
    "start_time": "2022-04-23T16:54:00.050Z"
   },
   {
    "duration": 6,
    "start_time": "2022-04-23T16:55:10.965Z"
   },
   {
    "duration": 6,
    "start_time": "2022-04-23T16:56:11.587Z"
   },
   {
    "duration": 3,
    "start_time": "2022-04-23T17:10:55.075Z"
   },
   {
    "duration": 4,
    "start_time": "2022-04-23T17:13:07.263Z"
   },
   {
    "duration": 7,
    "start_time": "2022-04-23T17:13:11.689Z"
   },
   {
    "duration": 7,
    "start_time": "2022-04-23T17:13:40.006Z"
   },
   {
    "duration": 158,
    "start_time": "2022-04-23T17:14:37.091Z"
   },
   {
    "duration": 9,
    "start_time": "2022-04-23T17:16:19.482Z"
   },
   {
    "duration": 2,
    "start_time": "2022-04-23T17:16:43.003Z"
   },
   {
    "duration": 173,
    "start_time": "2022-04-23T17:16:43.007Z"
   },
   {
    "duration": 10,
    "start_time": "2022-04-23T17:16:43.181Z"
   },
   {
    "duration": 47,
    "start_time": "2022-04-23T17:16:43.194Z"
   },
   {
    "duration": 8,
    "start_time": "2022-04-23T17:16:43.244Z"
   },
   {
    "duration": 19,
    "start_time": "2022-04-23T17:16:43.253Z"
   },
   {
    "duration": 9,
    "start_time": "2022-04-23T17:16:43.274Z"
   },
   {
    "duration": 23,
    "start_time": "2022-04-23T17:16:43.285Z"
   },
   {
    "duration": 24,
    "start_time": "2022-04-23T17:16:43.310Z"
   },
   {
    "duration": 35,
    "start_time": "2022-04-23T17:16:43.336Z"
   },
   {
    "duration": 71,
    "start_time": "2022-04-23T17:16:43.373Z"
   },
   {
    "duration": 65,
    "start_time": "2022-04-23T17:16:43.446Z"
   },
   {
    "duration": 70,
    "start_time": "2022-04-23T17:16:43.512Z"
   },
   {
    "duration": 6,
    "start_time": "2022-04-23T17:16:43.584Z"
   },
   {
    "duration": 4,
    "start_time": "2022-04-23T17:16:43.591Z"
   },
   {
    "duration": 15,
    "start_time": "2022-04-23T17:16:43.596Z"
   },
   {
    "duration": 21,
    "start_time": "2022-04-23T17:16:43.612Z"
   },
   {
    "duration": 13,
    "start_time": "2022-04-23T17:16:43.635Z"
   },
   {
    "duration": 10,
    "start_time": "2022-04-23T17:16:43.649Z"
   },
   {
    "duration": 4,
    "start_time": "2022-04-23T17:16:43.660Z"
   },
   {
    "duration": 12,
    "start_time": "2022-04-23T17:16:43.665Z"
   },
   {
    "duration": 0,
    "start_time": "2022-04-23T17:16:43.679Z"
   },
   {
    "duration": 0,
    "start_time": "2022-04-23T17:16:43.680Z"
   },
   {
    "duration": 0,
    "start_time": "2022-04-23T17:16:43.681Z"
   },
   {
    "duration": 0,
    "start_time": "2022-04-23T17:16:43.682Z"
   },
   {
    "duration": 0,
    "start_time": "2022-04-23T17:16:43.683Z"
   },
   {
    "duration": 0,
    "start_time": "2022-04-23T17:16:43.684Z"
   },
   {
    "duration": 0,
    "start_time": "2022-04-23T17:16:43.685Z"
   },
   {
    "duration": 0,
    "start_time": "2022-04-23T17:16:43.686Z"
   },
   {
    "duration": 0,
    "start_time": "2022-04-23T17:16:43.687Z"
   },
   {
    "duration": 0,
    "start_time": "2022-04-23T17:16:43.688Z"
   },
   {
    "duration": 0,
    "start_time": "2022-04-23T17:16:43.688Z"
   },
   {
    "duration": 0,
    "start_time": "2022-04-23T17:16:43.689Z"
   },
   {
    "duration": 0,
    "start_time": "2022-04-23T17:16:43.690Z"
   },
   {
    "duration": 0,
    "start_time": "2022-04-23T17:16:43.691Z"
   },
   {
    "duration": 0,
    "start_time": "2022-04-23T17:16:43.691Z"
   },
   {
    "duration": 0,
    "start_time": "2022-04-23T17:16:43.692Z"
   },
   {
    "duration": 0,
    "start_time": "2022-04-23T17:16:43.692Z"
   },
   {
    "duration": 3,
    "start_time": "2022-04-23T17:17:43.410Z"
   },
   {
    "duration": 13,
    "start_time": "2022-04-23T17:17:48.168Z"
   },
   {
    "duration": 3,
    "start_time": "2022-04-23T17:22:05.595Z"
   },
   {
    "duration": 4,
    "start_time": "2022-04-23T17:22:29.638Z"
   },
   {
    "duration": 12,
    "start_time": "2022-04-23T17:22:34.117Z"
   },
   {
    "duration": 13,
    "start_time": "2022-04-23T17:23:18.817Z"
   },
   {
    "duration": 11,
    "start_time": "2022-04-23T17:24:16.180Z"
   },
   {
    "duration": 16,
    "start_time": "2022-04-23T17:27:12.063Z"
   },
   {
    "duration": 14,
    "start_time": "2022-04-23T17:28:37.936Z"
   },
   {
    "duration": 14,
    "start_time": "2022-04-23T17:29:35.493Z"
   },
   {
    "duration": 14,
    "start_time": "2022-04-23T17:30:09.897Z"
   },
   {
    "duration": 17,
    "start_time": "2022-04-23T17:31:18.022Z"
   },
   {
    "duration": 16,
    "start_time": "2022-04-23T17:31:22.717Z"
   },
   {
    "duration": 12,
    "start_time": "2022-04-23T17:38:38.924Z"
   },
   {
    "duration": 16,
    "start_time": "2022-04-23T17:51:36.625Z"
   },
   {
    "duration": 18,
    "start_time": "2022-04-23T17:52:59.546Z"
   },
   {
    "duration": 7,
    "start_time": "2022-04-23T17:53:34.174Z"
   },
   {
    "duration": 8,
    "start_time": "2022-04-23T17:58:34.401Z"
   },
   {
    "duration": 572,
    "start_time": "2022-04-23T18:03:01.703Z"
   },
   {
    "duration": 11,
    "start_time": "2022-04-23T18:07:28.304Z"
   },
   {
    "duration": 12,
    "start_time": "2022-04-23T18:12:16.984Z"
   },
   {
    "duration": 11,
    "start_time": "2022-04-23T18:22:31.342Z"
   },
   {
    "duration": 14,
    "start_time": "2022-04-23T18:23:08.021Z"
   },
   {
    "duration": 12,
    "start_time": "2022-04-23T18:30:25.845Z"
   },
   {
    "duration": 3,
    "start_time": "2022-04-23T19:31:29.428Z"
   },
   {
    "duration": 197,
    "start_time": "2022-04-23T19:31:29.434Z"
   },
   {
    "duration": 12,
    "start_time": "2022-04-23T19:31:29.633Z"
   },
   {
    "duration": 27,
    "start_time": "2022-04-23T19:31:29.647Z"
   },
   {
    "duration": 3,
    "start_time": "2022-04-23T19:31:29.676Z"
   },
   {
    "duration": 10,
    "start_time": "2022-04-23T19:31:29.681Z"
   },
   {
    "duration": 4,
    "start_time": "2022-04-23T19:31:29.692Z"
   },
   {
    "duration": 52,
    "start_time": "2022-04-23T19:31:29.697Z"
   },
   {
    "duration": 20,
    "start_time": "2022-04-23T19:31:29.752Z"
   },
   {
    "duration": 53,
    "start_time": "2022-04-23T19:31:29.774Z"
   },
   {
    "duration": 66,
    "start_time": "2022-04-23T19:31:29.829Z"
   },
   {
    "duration": 95,
    "start_time": "2022-04-23T19:31:29.896Z"
   },
   {
    "duration": 66,
    "start_time": "2022-04-23T19:31:29.992Z"
   },
   {
    "duration": 6,
    "start_time": "2022-04-23T19:31:30.060Z"
   },
   {
    "duration": 6,
    "start_time": "2022-04-23T19:31:30.068Z"
   },
   {
    "duration": 13,
    "start_time": "2022-04-23T19:31:30.076Z"
   },
   {
    "duration": 10,
    "start_time": "2022-04-23T19:31:30.091Z"
   },
   {
    "duration": 31,
    "start_time": "2022-04-23T19:31:30.103Z"
   },
   {
    "duration": 17,
    "start_time": "2022-04-23T19:31:30.136Z"
   },
   {
    "duration": 7,
    "start_time": "2022-04-23T19:31:30.155Z"
   },
   {
    "duration": 32,
    "start_time": "2022-04-23T19:31:30.164Z"
   },
   {
    "duration": 31,
    "start_time": "2022-04-23T19:31:30.197Z"
   },
   {
    "duration": 24,
    "start_time": "2022-04-23T19:31:30.231Z"
   },
   {
    "duration": 21,
    "start_time": "2022-04-23T19:31:30.259Z"
   },
   {
    "duration": 24,
    "start_time": "2022-04-23T19:31:30.282Z"
   },
   {
    "duration": 22,
    "start_time": "2022-04-23T19:31:30.325Z"
   },
   {
    "duration": 2,
    "start_time": "2022-04-23T19:31:30.350Z"
   },
   {
    "duration": 9,
    "start_time": "2022-04-23T19:31:30.353Z"
   },
   {
    "duration": 8,
    "start_time": "2022-04-23T19:31:30.364Z"
   },
   {
    "duration": 9,
    "start_time": "2022-04-23T19:31:30.374Z"
   },
   {
    "duration": 10,
    "start_time": "2022-04-23T19:31:30.385Z"
   },
   {
    "duration": 20,
    "start_time": "2022-04-23T19:31:30.397Z"
   },
   {
    "duration": 25,
    "start_time": "2022-04-23T19:31:30.419Z"
   },
   {
    "duration": 12,
    "start_time": "2022-04-23T19:31:30.446Z"
   },
   {
    "duration": 8,
    "start_time": "2022-04-23T19:31:30.460Z"
   },
   {
    "duration": 6,
    "start_time": "2022-04-23T19:31:30.470Z"
   },
   {
    "duration": 12,
    "start_time": "2022-04-23T19:31:30.478Z"
   },
   {
    "duration": 9,
    "start_time": "2022-04-23T19:37:52.537Z"
   },
   {
    "duration": 8,
    "start_time": "2022-04-23T19:40:11.238Z"
   },
   {
    "duration": 412,
    "start_time": "2022-04-24T18:01:22.696Z"
   },
   {
    "duration": 170,
    "start_time": "2022-04-24T18:01:23.110Z"
   },
   {
    "duration": 25,
    "start_time": "2022-04-24T18:01:23.282Z"
   },
   {
    "duration": 48,
    "start_time": "2022-04-24T18:01:23.310Z"
   },
   {
    "duration": 25,
    "start_time": "2022-04-24T18:01:23.362Z"
   },
   {
    "duration": 19,
    "start_time": "2022-04-24T18:01:23.389Z"
   },
   {
    "duration": 8,
    "start_time": "2022-04-24T18:01:23.411Z"
   },
   {
    "duration": 52,
    "start_time": "2022-04-24T18:01:23.420Z"
   },
   {
    "duration": 25,
    "start_time": "2022-04-24T18:01:23.474Z"
   },
   {
    "duration": 21,
    "start_time": "2022-04-24T18:01:23.502Z"
   },
   {
    "duration": 105,
    "start_time": "2022-04-24T18:01:23.530Z"
   },
   {
    "duration": 93,
    "start_time": "2022-04-24T18:01:23.637Z"
   },
   {
    "duration": 94,
    "start_time": "2022-04-24T18:01:23.738Z"
   },
   {
    "duration": 9,
    "start_time": "2022-04-24T18:01:23.834Z"
   },
   {
    "duration": 36,
    "start_time": "2022-04-24T18:01:23.846Z"
   },
   {
    "duration": 13,
    "start_time": "2022-04-24T18:01:23.884Z"
   },
   {
    "duration": 6,
    "start_time": "2022-04-24T18:01:23.899Z"
   },
   {
    "duration": 9,
    "start_time": "2022-04-24T18:01:23.907Z"
   },
   {
    "duration": 42,
    "start_time": "2022-04-24T18:01:23.918Z"
   },
   {
    "duration": 22,
    "start_time": "2022-04-24T18:01:23.962Z"
   },
   {
    "duration": 18,
    "start_time": "2022-04-24T18:01:23.985Z"
   },
   {
    "duration": 30,
    "start_time": "2022-04-24T18:01:24.004Z"
   },
   {
    "duration": 24,
    "start_time": "2022-04-24T18:01:24.038Z"
   },
   {
    "duration": 28,
    "start_time": "2022-04-24T18:01:24.065Z"
   },
   {
    "duration": 17,
    "start_time": "2022-04-24T18:01:24.095Z"
   },
   {
    "duration": 18,
    "start_time": "2022-04-24T18:01:24.114Z"
   },
   {
    "duration": 51,
    "start_time": "2022-04-24T18:01:24.134Z"
   },
   {
    "duration": 4,
    "start_time": "2022-04-24T18:01:24.188Z"
   },
   {
    "duration": 5,
    "start_time": "2022-04-24T18:01:24.193Z"
   },
   {
    "duration": 8,
    "start_time": "2022-04-24T18:01:24.200Z"
   },
   {
    "duration": 8,
    "start_time": "2022-04-24T18:01:24.209Z"
   },
   {
    "duration": 6,
    "start_time": "2022-04-24T18:01:24.219Z"
   },
   {
    "duration": 56,
    "start_time": "2022-04-24T18:01:24.226Z"
   },
   {
    "duration": 7,
    "start_time": "2022-04-24T18:01:24.284Z"
   },
   {
    "duration": 6,
    "start_time": "2022-04-24T18:01:24.293Z"
   },
   {
    "duration": 5,
    "start_time": "2022-04-24T18:01:24.301Z"
   },
   {
    "duration": 8,
    "start_time": "2022-04-24T18:01:24.307Z"
   },
   {
    "duration": 5,
    "start_time": "2022-04-24T18:01:24.317Z"
   },
   {
    "duration": 6,
    "start_time": "2022-04-24T18:05:48.277Z"
   },
   {
    "duration": 8,
    "start_time": "2022-04-24T18:05:52.322Z"
   },
   {
    "duration": 6,
    "start_time": "2022-04-24T18:06:56.909Z"
   },
   {
    "duration": 13,
    "start_time": "2022-04-24T18:07:02.421Z"
   },
   {
    "duration": 19,
    "start_time": "2022-04-24T18:07:14.825Z"
   },
   {
    "duration": 412,
    "start_time": "2022-04-25T04:58:33.946Z"
   },
   {
    "duration": 157,
    "start_time": "2022-04-25T04:58:34.360Z"
   },
   {
    "duration": 19,
    "start_time": "2022-04-25T04:58:34.519Z"
   },
   {
    "duration": 32,
    "start_time": "2022-04-25T04:58:34.541Z"
   },
   {
    "duration": 4,
    "start_time": "2022-04-25T04:58:34.593Z"
   },
   {
    "duration": 15,
    "start_time": "2022-04-25T04:58:34.599Z"
   },
   {
    "duration": 5,
    "start_time": "2022-04-25T04:58:34.616Z"
   },
   {
    "duration": 28,
    "start_time": "2022-04-25T04:58:34.623Z"
   },
   {
    "duration": 48,
    "start_time": "2022-04-25T04:58:34.653Z"
   },
   {
    "duration": 24,
    "start_time": "2022-04-25T04:58:34.705Z"
   },
   {
    "duration": 83,
    "start_time": "2022-04-25T04:58:34.731Z"
   },
   {
    "duration": 91,
    "start_time": "2022-04-25T04:58:34.816Z"
   },
   {
    "duration": 62,
    "start_time": "2022-04-25T04:58:34.909Z"
   },
   {
    "duration": 20,
    "start_time": "2022-04-25T04:58:34.973Z"
   },
   {
    "duration": 3,
    "start_time": "2022-04-25T04:58:34.996Z"
   },
   {
    "duration": 18,
    "start_time": "2022-04-25T04:58:35.001Z"
   },
   {
    "duration": 11,
    "start_time": "2022-04-25T04:58:35.020Z"
   },
   {
    "duration": 13,
    "start_time": "2022-04-25T04:58:35.033Z"
   },
   {
    "duration": 13,
    "start_time": "2022-04-25T04:58:35.048Z"
   },
   {
    "duration": 5,
    "start_time": "2022-04-25T04:58:35.093Z"
   },
   {
    "duration": 26,
    "start_time": "2022-04-25T04:58:35.100Z"
   },
   {
    "duration": 28,
    "start_time": "2022-04-25T04:58:35.128Z"
   },
   {
    "duration": 16,
    "start_time": "2022-04-25T04:58:35.158Z"
   },
   {
    "duration": 29,
    "start_time": "2022-04-25T04:58:35.176Z"
   },
   {
    "duration": 18,
    "start_time": "2022-04-25T04:58:35.207Z"
   },
   {
    "duration": 16,
    "start_time": "2022-04-25T04:58:35.227Z"
   },
   {
    "duration": 9,
    "start_time": "2022-04-25T04:58:35.245Z"
   },
   {
    "duration": 7,
    "start_time": "2022-04-25T04:58:35.292Z"
   },
   {
    "duration": 9,
    "start_time": "2022-04-25T04:58:35.301Z"
   },
   {
    "duration": 4,
    "start_time": "2022-04-25T04:58:35.312Z"
   },
   {
    "duration": 8,
    "start_time": "2022-04-25T04:58:35.318Z"
   },
   {
    "duration": 5,
    "start_time": "2022-04-25T04:58:35.328Z"
   },
   {
    "duration": 11,
    "start_time": "2022-04-25T04:58:35.334Z"
   },
   {
    "duration": 10,
    "start_time": "2022-04-25T04:58:35.346Z"
   },
   {
    "duration": 8,
    "start_time": "2022-04-25T04:58:35.357Z"
   },
   {
    "duration": 8,
    "start_time": "2022-04-25T04:58:35.367Z"
   },
   {
    "duration": 8,
    "start_time": "2022-04-25T04:58:35.376Z"
   },
   {
    "duration": 11,
    "start_time": "2022-04-25T04:58:35.386Z"
   },
   {
    "duration": 147,
    "start_time": "2022-04-25T05:17:45.936Z"
   },
   {
    "duration": 217,
    "start_time": "2022-04-25T05:17:59.318Z"
   },
   {
    "duration": 3,
    "start_time": "2022-04-25T05:18:16.644Z"
   },
   {
    "duration": 4,
    "start_time": "2022-04-25T05:25:19.339Z"
   },
   {
    "duration": 169,
    "start_time": "2022-04-25T05:25:33.966Z"
   },
   {
    "duration": 5,
    "start_time": "2022-04-25T05:26:00.614Z"
   },
   {
    "duration": 3,
    "start_time": "2022-04-25T05:26:21.028Z"
   },
   {
    "duration": 4,
    "start_time": "2022-04-25T05:30:47.410Z"
   },
   {
    "duration": 5,
    "start_time": "2022-04-25T05:34:38.272Z"
   },
   {
    "duration": 4,
    "start_time": "2022-04-25T05:34:55.607Z"
   },
   {
    "duration": 75,
    "start_time": "2022-04-25T05:40:51.030Z"
   },
   {
    "duration": 5,
    "start_time": "2022-04-25T05:42:59.689Z"
   },
   {
    "duration": 12,
    "start_time": "2022-04-25T05:43:05.917Z"
   },
   {
    "duration": 5,
    "start_time": "2022-04-25T05:43:27.566Z"
   },
   {
    "duration": 11,
    "start_time": "2022-04-25T05:43:33.209Z"
   },
   {
    "duration": 12,
    "start_time": "2022-04-25T05:50:40.815Z"
   },
   {
    "duration": 9,
    "start_time": "2022-04-25T05:52:24.766Z"
   },
   {
    "duration": 22,
    "start_time": "2022-04-25T05:53:30.598Z"
   },
   {
    "duration": 10,
    "start_time": "2022-04-25T05:54:00.321Z"
   },
   {
    "duration": 6,
    "start_time": "2022-04-25T05:54:35.520Z"
   },
   {
    "duration": 4,
    "start_time": "2022-04-25T05:57:34.061Z"
   },
   {
    "duration": 13,
    "start_time": "2022-04-25T05:59:18.975Z"
   },
   {
    "duration": 2,
    "start_time": "2022-04-25T06:03:34.881Z"
   },
   {
    "duration": 162,
    "start_time": "2022-04-25T06:03:34.886Z"
   },
   {
    "duration": 12,
    "start_time": "2022-04-25T06:03:35.049Z"
   },
   {
    "duration": 42,
    "start_time": "2022-04-25T06:03:35.063Z"
   },
   {
    "duration": 3,
    "start_time": "2022-04-25T06:03:35.107Z"
   },
   {
    "duration": 12,
    "start_time": "2022-04-25T06:03:35.111Z"
   },
   {
    "duration": 3,
    "start_time": "2022-04-25T06:03:35.125Z"
   },
   {
    "duration": 27,
    "start_time": "2022-04-25T06:03:35.130Z"
   },
   {
    "duration": 43,
    "start_time": "2022-04-25T06:03:35.160Z"
   },
   {
    "duration": 34,
    "start_time": "2022-04-25T06:03:35.205Z"
   },
   {
    "duration": 81,
    "start_time": "2022-04-25T06:03:35.241Z"
   },
   {
    "duration": 74,
    "start_time": "2022-04-25T06:03:35.324Z"
   },
   {
    "duration": 60,
    "start_time": "2022-04-25T06:03:35.400Z"
   },
   {
    "duration": 7,
    "start_time": "2022-04-25T06:03:35.462Z"
   },
   {
    "duration": 24,
    "start_time": "2022-04-25T06:03:35.470Z"
   },
   {
    "duration": 19,
    "start_time": "2022-04-25T06:03:35.495Z"
   },
   {
    "duration": 7,
    "start_time": "2022-04-25T06:03:35.516Z"
   },
   {
    "duration": 11,
    "start_time": "2022-04-25T06:03:35.524Z"
   },
   {
    "duration": 11,
    "start_time": "2022-04-25T06:03:35.537Z"
   },
   {
    "duration": 4,
    "start_time": "2022-04-25T06:03:35.549Z"
   },
   {
    "duration": 48,
    "start_time": "2022-04-25T06:03:35.554Z"
   },
   {
    "duration": 15,
    "start_time": "2022-04-25T06:03:35.604Z"
   },
   {
    "duration": 14,
    "start_time": "2022-04-25T06:03:35.621Z"
   },
   {
    "duration": 13,
    "start_time": "2022-04-25T06:03:35.639Z"
   },
   {
    "duration": 45,
    "start_time": "2022-04-25T06:03:35.654Z"
   },
   {
    "duration": 16,
    "start_time": "2022-04-25T06:03:35.701Z"
   },
   {
    "duration": 9,
    "start_time": "2022-04-25T06:03:35.718Z"
   },
   {
    "duration": 9,
    "start_time": "2022-04-25T06:03:35.728Z"
   },
   {
    "duration": 13,
    "start_time": "2022-04-25T06:03:35.738Z"
   },
   {
    "duration": 9,
    "start_time": "2022-04-25T06:03:35.752Z"
   },
   {
    "duration": 41,
    "start_time": "2022-04-25T06:03:35.763Z"
   },
   {
    "duration": 0,
    "start_time": "2022-04-25T06:03:35.806Z"
   },
   {
    "duration": 0,
    "start_time": "2022-04-25T06:03:35.808Z"
   },
   {
    "duration": 0,
    "start_time": "2022-04-25T06:03:35.809Z"
   },
   {
    "duration": 0,
    "start_time": "2022-04-25T06:03:35.810Z"
   },
   {
    "duration": 0,
    "start_time": "2022-04-25T06:03:35.811Z"
   },
   {
    "duration": 0,
    "start_time": "2022-04-25T06:03:35.812Z"
   },
   {
    "duration": 0,
    "start_time": "2022-04-25T06:03:35.814Z"
   },
   {
    "duration": 6,
    "start_time": "2022-04-25T06:04:40.058Z"
   },
   {
    "duration": 14,
    "start_time": "2022-04-25T06:04:52.344Z"
   },
   {
    "duration": 4,
    "start_time": "2022-04-25T06:06:53.707Z"
   },
   {
    "duration": 12,
    "start_time": "2022-04-25T06:07:02.596Z"
   },
   {
    "duration": 4,
    "start_time": "2022-04-25T06:07:46.226Z"
   },
   {
    "duration": 13,
    "start_time": "2022-04-25T06:07:50.869Z"
   },
   {
    "duration": 11,
    "start_time": "2022-04-25T07:10:09.071Z"
   },
   {
    "duration": 166,
    "start_time": "2022-04-25T07:14:52.178Z"
   },
   {
    "duration": 11,
    "start_time": "2022-04-25T07:15:12.173Z"
   },
   {
    "duration": 4,
    "start_time": "2022-04-25T07:17:06.698Z"
   },
   {
    "duration": 12,
    "start_time": "2022-04-25T07:17:11.697Z"
   },
   {
    "duration": 14,
    "start_time": "2022-04-25T07:17:20.778Z"
   },
   {
    "duration": 4,
    "start_time": "2022-04-25T07:18:49.605Z"
   },
   {
    "duration": 13,
    "start_time": "2022-04-25T07:18:55.741Z"
   },
   {
    "duration": 5,
    "start_time": "2022-04-25T07:20:03.114Z"
   },
   {
    "duration": 13,
    "start_time": "2022-04-25T07:20:07.002Z"
   },
   {
    "duration": 4,
    "start_time": "2022-04-25T07:22:45.260Z"
   },
   {
    "duration": 12,
    "start_time": "2022-04-25T07:22:58.560Z"
   },
   {
    "duration": 5,
    "start_time": "2022-04-25T07:24:39.237Z"
   },
   {
    "duration": 12,
    "start_time": "2022-04-25T07:24:43.131Z"
   },
   {
    "duration": 4,
    "start_time": "2022-04-25T07:26:40.974Z"
   },
   {
    "duration": 11,
    "start_time": "2022-04-25T07:26:44.467Z"
   },
   {
    "duration": 4,
    "start_time": "2022-04-25T07:28:28.581Z"
   },
   {
    "duration": 12,
    "start_time": "2022-04-25T07:28:32.373Z"
   },
   {
    "duration": 4,
    "start_time": "2022-04-25T07:29:00.190Z"
   },
   {
    "duration": 13,
    "start_time": "2022-04-25T07:29:03.891Z"
   },
   {
    "duration": 4,
    "start_time": "2022-04-25T07:29:20.217Z"
   },
   {
    "duration": 11,
    "start_time": "2022-04-25T07:29:24.390Z"
   },
   {
    "duration": 5,
    "start_time": "2022-04-25T07:29:54.532Z"
   },
   {
    "duration": 27,
    "start_time": "2022-04-25T07:29:57.597Z"
   },
   {
    "duration": 146,
    "start_time": "2022-04-25T07:30:20.556Z"
   },
   {
    "duration": 4,
    "start_time": "2022-04-25T07:30:44.699Z"
   },
   {
    "duration": 24,
    "start_time": "2022-04-25T07:30:52.346Z"
   },
   {
    "duration": 25,
    "start_time": "2022-04-25T07:31:05.940Z"
   },
   {
    "duration": 5,
    "start_time": "2022-04-25T07:32:08.205Z"
   },
   {
    "duration": 10,
    "start_time": "2022-04-25T07:32:12.509Z"
   },
   {
    "duration": 11,
    "start_time": "2022-04-25T07:32:40.456Z"
   },
   {
    "duration": 11,
    "start_time": "2022-04-25T07:32:59.052Z"
   },
   {
    "duration": 10,
    "start_time": "2022-04-25T07:33:07.424Z"
   },
   {
    "duration": 4,
    "start_time": "2022-04-25T07:33:38.962Z"
   },
   {
    "duration": 22,
    "start_time": "2022-04-25T07:33:42.660Z"
   },
   {
    "duration": 23,
    "start_time": "2022-04-25T07:33:51.139Z"
   },
   {
    "duration": 4,
    "start_time": "2022-04-25T07:43:38.937Z"
   },
   {
    "duration": 15,
    "start_time": "2022-04-25T07:43:45.742Z"
   },
   {
    "duration": 5,
    "start_time": "2022-04-25T07:46:01.735Z"
   },
   {
    "duration": 10,
    "start_time": "2022-04-25T07:46:06.018Z"
   },
   {
    "duration": 4,
    "start_time": "2022-04-25T07:48:39.002Z"
   },
   {
    "duration": 14,
    "start_time": "2022-04-25T07:48:43.537Z"
   },
   {
    "duration": 4,
    "start_time": "2022-04-25T07:49:22.054Z"
   },
   {
    "duration": 15,
    "start_time": "2022-04-25T07:49:25.767Z"
   },
   {
    "duration": 538,
    "start_time": "2022-04-25T13:23:27.735Z"
   },
   {
    "duration": 227,
    "start_time": "2022-04-25T13:23:28.275Z"
   },
   {
    "duration": 24,
    "start_time": "2022-04-25T13:23:28.505Z"
   },
   {
    "duration": 65,
    "start_time": "2022-04-25T13:23:28.532Z"
   },
   {
    "duration": 8,
    "start_time": "2022-04-25T13:23:28.599Z"
   },
   {
    "duration": 24,
    "start_time": "2022-04-25T13:23:28.609Z"
   },
   {
    "duration": 7,
    "start_time": "2022-04-25T13:23:28.635Z"
   },
   {
    "duration": 29,
    "start_time": "2022-04-25T13:23:28.654Z"
   },
   {
    "duration": 25,
    "start_time": "2022-04-25T13:23:28.685Z"
   },
   {
    "duration": 45,
    "start_time": "2022-04-25T13:23:28.713Z"
   },
   {
    "duration": 80,
    "start_time": "2022-04-25T13:23:28.760Z"
   },
   {
    "duration": 85,
    "start_time": "2022-04-25T13:23:28.842Z"
   },
   {
    "duration": 111,
    "start_time": "2022-04-25T13:23:28.930Z"
   },
   {
    "duration": 10,
    "start_time": "2022-04-25T13:23:29.056Z"
   },
   {
    "duration": 7,
    "start_time": "2022-04-25T13:23:29.069Z"
   },
   {
    "duration": 32,
    "start_time": "2022-04-25T13:23:29.078Z"
   },
   {
    "duration": 8,
    "start_time": "2022-04-25T13:23:29.112Z"
   },
   {
    "duration": 34,
    "start_time": "2022-04-25T13:23:29.121Z"
   },
   {
    "duration": 21,
    "start_time": "2022-04-25T13:23:29.157Z"
   },
   {
    "duration": 19,
    "start_time": "2022-04-25T13:23:29.180Z"
   },
   {
    "duration": 27,
    "start_time": "2022-04-25T13:23:29.200Z"
   },
   {
    "duration": 16,
    "start_time": "2022-04-25T13:23:29.229Z"
   },
   {
    "duration": 29,
    "start_time": "2022-04-25T13:23:29.248Z"
   },
   {
    "duration": 23,
    "start_time": "2022-04-25T13:23:29.279Z"
   },
   {
    "duration": 51,
    "start_time": "2022-04-25T13:23:29.304Z"
   },
   {
    "duration": 16,
    "start_time": "2022-04-25T13:23:29.357Z"
   },
   {
    "duration": 9,
    "start_time": "2022-04-25T13:23:29.375Z"
   },
   {
    "duration": 11,
    "start_time": "2022-04-25T13:23:29.388Z"
   },
   {
    "duration": 9,
    "start_time": "2022-04-25T13:23:29.401Z"
   },
   {
    "duration": 12,
    "start_time": "2022-04-25T13:23:29.412Z"
   },
   {
    "duration": 94,
    "start_time": "2022-04-25T13:23:29.426Z"
   },
   {
    "duration": 0,
    "start_time": "2022-04-25T13:23:29.523Z"
   },
   {
    "duration": 0,
    "start_time": "2022-04-25T13:23:29.524Z"
   },
   {
    "duration": 0,
    "start_time": "2022-04-25T13:23:29.526Z"
   },
   {
    "duration": 0,
    "start_time": "2022-04-25T13:23:29.527Z"
   },
   {
    "duration": 0,
    "start_time": "2022-04-25T13:23:29.529Z"
   },
   {
    "duration": 0,
    "start_time": "2022-04-25T13:23:29.531Z"
   },
   {
    "duration": 0,
    "start_time": "2022-04-25T13:23:29.532Z"
   },
   {
    "duration": 7,
    "start_time": "2022-04-25T13:53:41.959Z"
   },
   {
    "duration": 19,
    "start_time": "2022-04-25T13:53:48.393Z"
   },
   {
    "duration": 18,
    "start_time": "2022-04-25T13:54:26.595Z"
   },
   {
    "duration": 5,
    "start_time": "2022-04-25T13:55:07.787Z"
   },
   {
    "duration": 24,
    "start_time": "2022-04-25T13:55:11.842Z"
   },
   {
    "duration": 17,
    "start_time": "2022-04-25T14:08:57.929Z"
   },
   {
    "duration": 3,
    "start_time": "2022-04-25T14:11:42.221Z"
   },
   {
    "duration": 201,
    "start_time": "2022-04-25T14:11:42.226Z"
   },
   {
    "duration": 12,
    "start_time": "2022-04-25T14:11:42.429Z"
   },
   {
    "duration": 50,
    "start_time": "2022-04-25T14:11:42.456Z"
   },
   {
    "duration": 4,
    "start_time": "2022-04-25T14:11:42.508Z"
   },
   {
    "duration": 14,
    "start_time": "2022-04-25T14:11:42.513Z"
   },
   {
    "duration": 31,
    "start_time": "2022-04-25T14:11:42.530Z"
   },
   {
    "duration": 51,
    "start_time": "2022-04-25T14:11:42.564Z"
   },
   {
    "duration": 21,
    "start_time": "2022-04-25T14:11:42.619Z"
   },
   {
    "duration": 37,
    "start_time": "2022-04-25T14:11:42.643Z"
   },
   {
    "duration": 78,
    "start_time": "2022-04-25T14:11:42.682Z"
   },
   {
    "duration": 84,
    "start_time": "2022-04-25T14:11:42.762Z"
   },
   {
    "duration": 73,
    "start_time": "2022-04-25T14:11:42.847Z"
   },
   {
    "duration": 11,
    "start_time": "2022-04-25T14:11:42.923Z"
   },
   {
    "duration": 3,
    "start_time": "2022-04-25T14:11:42.954Z"
   },
   {
    "duration": 17,
    "start_time": "2022-04-25T14:11:42.961Z"
   },
   {
    "duration": 10,
    "start_time": "2022-04-25T14:11:42.980Z"
   },
   {
    "duration": 17,
    "start_time": "2022-04-25T14:11:42.992Z"
   },
   {
    "duration": 46,
    "start_time": "2022-04-25T14:11:43.011Z"
   },
   {
    "duration": 12,
    "start_time": "2022-04-25T14:11:43.059Z"
   },
   {
    "duration": 38,
    "start_time": "2022-04-25T14:11:43.072Z"
   },
   {
    "duration": 24,
    "start_time": "2022-04-25T14:11:43.113Z"
   },
   {
    "duration": 31,
    "start_time": "2022-04-25T14:11:43.139Z"
   },
   {
    "duration": 28,
    "start_time": "2022-04-25T14:11:43.175Z"
   },
   {
    "duration": 23,
    "start_time": "2022-04-25T14:11:43.205Z"
   },
   {
    "duration": 45,
    "start_time": "2022-04-25T14:11:43.230Z"
   },
   {
    "duration": 11,
    "start_time": "2022-04-25T14:11:43.279Z"
   },
   {
    "duration": 19,
    "start_time": "2022-04-25T14:11:43.292Z"
   },
   {
    "duration": 14,
    "start_time": "2022-04-25T14:11:43.313Z"
   },
   {
    "duration": 8,
    "start_time": "2022-04-25T14:11:43.329Z"
   },
   {
    "duration": 29,
    "start_time": "2022-04-25T14:11:43.339Z"
   },
   {
    "duration": 0,
    "start_time": "2022-04-25T14:11:43.376Z"
   },
   {
    "duration": 0,
    "start_time": "2022-04-25T14:11:43.378Z"
   },
   {
    "duration": 0,
    "start_time": "2022-04-25T14:11:43.381Z"
   },
   {
    "duration": 0,
    "start_time": "2022-04-25T14:11:43.383Z"
   },
   {
    "duration": 0,
    "start_time": "2022-04-25T14:11:43.384Z"
   },
   {
    "duration": 0,
    "start_time": "2022-04-25T14:11:43.385Z"
   },
   {
    "duration": 0,
    "start_time": "2022-04-25T14:11:43.385Z"
   },
   {
    "duration": 4,
    "start_time": "2022-04-25T14:13:52.074Z"
   },
   {
    "duration": 1732,
    "start_time": "2022-04-25T14:13:56.793Z"
   },
   {
    "duration": 6,
    "start_time": "2022-04-25T14:15:51.329Z"
   },
   {
    "duration": 1828,
    "start_time": "2022-04-25T14:15:54.785Z"
   },
   {
    "duration": 4,
    "start_time": "2022-04-25T14:16:43.935Z"
   },
   {
    "duration": 1814,
    "start_time": "2022-04-25T14:16:48.704Z"
   },
   {
    "duration": 4,
    "start_time": "2022-04-25T14:17:07.227Z"
   },
   {
    "duration": 2047,
    "start_time": "2022-04-25T14:17:13.267Z"
   },
   {
    "duration": 7,
    "start_time": "2022-04-25T14:17:46.973Z"
   },
   {
    "duration": 32,
    "start_time": "2022-04-25T14:17:50.766Z"
   },
   {
    "duration": 6,
    "start_time": "2022-04-25T14:24:06.599Z"
   },
   {
    "duration": 34,
    "start_time": "2022-04-25T14:24:17.656Z"
   },
   {
    "duration": 3,
    "start_time": "2022-04-25T14:24:34.762Z"
   },
   {
    "duration": 183,
    "start_time": "2022-04-25T14:24:34.767Z"
   },
   {
    "duration": 18,
    "start_time": "2022-04-25T14:24:34.952Z"
   },
   {
    "duration": 38,
    "start_time": "2022-04-25T14:24:34.973Z"
   },
   {
    "duration": 3,
    "start_time": "2022-04-25T14:24:35.014Z"
   },
   {
    "duration": 12,
    "start_time": "2022-04-25T14:24:35.019Z"
   },
   {
    "duration": 23,
    "start_time": "2022-04-25T14:24:35.034Z"
   },
   {
    "duration": 45,
    "start_time": "2022-04-25T14:24:35.062Z"
   },
   {
    "duration": 23,
    "start_time": "2022-04-25T14:24:35.111Z"
   },
   {
    "duration": 47,
    "start_time": "2022-04-25T14:24:35.135Z"
   },
   {
    "duration": 103,
    "start_time": "2022-04-25T14:24:35.184Z"
   },
   {
    "duration": 88,
    "start_time": "2022-04-25T14:24:35.288Z"
   },
   {
    "duration": 104,
    "start_time": "2022-04-25T14:24:35.382Z"
   },
   {
    "duration": 8,
    "start_time": "2022-04-25T14:24:35.494Z"
   },
   {
    "duration": 14,
    "start_time": "2022-04-25T14:24:35.504Z"
   },
   {
    "duration": 21,
    "start_time": "2022-04-25T14:24:35.520Z"
   },
   {
    "duration": 23,
    "start_time": "2022-04-25T14:24:35.543Z"
   },
   {
    "duration": 32,
    "start_time": "2022-04-25T14:24:35.568Z"
   },
   {
    "duration": 26,
    "start_time": "2022-04-25T14:24:35.602Z"
   },
   {
    "duration": 5,
    "start_time": "2022-04-25T14:24:35.630Z"
   },
   {
    "duration": 31,
    "start_time": "2022-04-25T14:24:35.636Z"
   },
   {
    "duration": 19,
    "start_time": "2022-04-25T14:24:35.672Z"
   },
   {
    "duration": 17,
    "start_time": "2022-04-25T14:24:35.692Z"
   },
   {
    "duration": 20,
    "start_time": "2022-04-25T14:24:35.714Z"
   },
   {
    "duration": 25,
    "start_time": "2022-04-25T14:24:35.759Z"
   },
   {
    "duration": 18,
    "start_time": "2022-04-25T14:24:35.786Z"
   },
   {
    "duration": 10,
    "start_time": "2022-04-25T14:24:35.805Z"
   },
   {
    "duration": 9,
    "start_time": "2022-04-25T14:24:35.816Z"
   },
   {
    "duration": 35,
    "start_time": "2022-04-25T14:24:35.827Z"
   },
   {
    "duration": 14,
    "start_time": "2022-04-25T14:24:35.868Z"
   },
   {
    "duration": 41,
    "start_time": "2022-04-25T14:24:35.884Z"
   },
   {
    "duration": 0,
    "start_time": "2022-04-25T14:24:35.928Z"
   },
   {
    "duration": 0,
    "start_time": "2022-04-25T14:24:35.930Z"
   },
   {
    "duration": 0,
    "start_time": "2022-04-25T14:24:35.931Z"
   },
   {
    "duration": 0,
    "start_time": "2022-04-25T14:24:35.932Z"
   },
   {
    "duration": 0,
    "start_time": "2022-04-25T14:24:35.933Z"
   },
   {
    "duration": 0,
    "start_time": "2022-04-25T14:24:35.935Z"
   },
   {
    "duration": 0,
    "start_time": "2022-04-25T14:24:35.936Z"
   },
   {
    "duration": 28,
    "start_time": "2022-04-25T14:33:42.123Z"
   },
   {
    "duration": 4,
    "start_time": "2022-04-25T14:34:16.654Z"
   },
   {
    "duration": 3,
    "start_time": "2022-04-25T14:34:27.391Z"
   },
   {
    "duration": 12,
    "start_time": "2022-04-25T14:34:36.227Z"
   },
   {
    "duration": 12,
    "start_time": "2022-04-25T14:43:48.859Z"
   },
   {
    "duration": 3,
    "start_time": "2022-04-25T14:56:04.721Z"
   },
   {
    "duration": 192,
    "start_time": "2022-04-25T14:56:04.726Z"
   },
   {
    "duration": 11,
    "start_time": "2022-04-25T14:56:04.921Z"
   },
   {
    "duration": 60,
    "start_time": "2022-04-25T14:56:04.935Z"
   },
   {
    "duration": 4,
    "start_time": "2022-04-25T14:56:04.998Z"
   },
   {
    "duration": 24,
    "start_time": "2022-04-25T14:56:05.004Z"
   },
   {
    "duration": 8,
    "start_time": "2022-04-25T14:56:05.030Z"
   },
   {
    "duration": 60,
    "start_time": "2022-04-25T14:56:05.040Z"
   },
   {
    "duration": 27,
    "start_time": "2022-04-25T14:56:05.102Z"
   },
   {
    "duration": 52,
    "start_time": "2022-04-25T14:56:05.131Z"
   },
   {
    "duration": 82,
    "start_time": "2022-04-25T14:56:05.186Z"
   },
   {
    "duration": 96,
    "start_time": "2022-04-25T14:56:05.270Z"
   },
   {
    "duration": 62,
    "start_time": "2022-04-25T14:56:05.368Z"
   },
   {
    "duration": 28,
    "start_time": "2022-04-25T14:56:05.433Z"
   },
   {
    "duration": 8,
    "start_time": "2022-04-25T14:56:05.464Z"
   },
   {
    "duration": 21,
    "start_time": "2022-04-25T14:56:05.474Z"
   },
   {
    "duration": 10,
    "start_time": "2022-04-25T14:56:05.497Z"
   },
   {
    "duration": 17,
    "start_time": "2022-04-25T14:56:05.509Z"
   },
   {
    "duration": 45,
    "start_time": "2022-04-25T14:56:05.528Z"
   },
   {
    "duration": 5,
    "start_time": "2022-04-25T14:56:05.575Z"
   },
   {
    "duration": 37,
    "start_time": "2022-04-25T14:56:05.582Z"
   },
   {
    "duration": 17,
    "start_time": "2022-04-25T14:56:05.621Z"
   },
   {
    "duration": 32,
    "start_time": "2022-04-25T14:56:05.640Z"
   },
   {
    "duration": 27,
    "start_time": "2022-04-25T14:56:05.674Z"
   },
   {
    "duration": 20,
    "start_time": "2022-04-25T14:56:05.704Z"
   },
   {
    "duration": 16,
    "start_time": "2022-04-25T14:56:05.726Z"
   },
   {
    "duration": 34,
    "start_time": "2022-04-25T14:56:05.744Z"
   },
   {
    "duration": 26,
    "start_time": "2022-04-25T14:56:05.780Z"
   },
   {
    "duration": 17,
    "start_time": "2022-04-25T14:56:05.810Z"
   },
   {
    "duration": 22,
    "start_time": "2022-04-25T14:56:05.829Z"
   },
   {
    "duration": 50,
    "start_time": "2022-04-25T14:56:05.853Z"
   },
   {
    "duration": 0,
    "start_time": "2022-04-25T14:56:05.905Z"
   },
   {
    "duration": 0,
    "start_time": "2022-04-25T14:56:05.906Z"
   },
   {
    "duration": 0,
    "start_time": "2022-04-25T14:56:05.907Z"
   },
   {
    "duration": 0,
    "start_time": "2022-04-25T14:56:05.908Z"
   },
   {
    "duration": 0,
    "start_time": "2022-04-25T14:56:05.909Z"
   },
   {
    "duration": 0,
    "start_time": "2022-04-25T14:56:05.911Z"
   },
   {
    "duration": 0,
    "start_time": "2022-04-25T14:56:05.912Z"
   },
   {
    "duration": 14,
    "start_time": "2022-04-25T14:57:33.467Z"
   },
   {
    "duration": 13,
    "start_time": "2022-04-25T15:00:25.704Z"
   },
   {
    "duration": 3,
    "start_time": "2022-04-25T15:08:40.269Z"
   },
   {
    "duration": 182,
    "start_time": "2022-04-25T15:08:40.274Z"
   },
   {
    "duration": 12,
    "start_time": "2022-04-25T15:08:40.459Z"
   },
   {
    "duration": 40,
    "start_time": "2022-04-25T15:08:40.472Z"
   },
   {
    "duration": 3,
    "start_time": "2022-04-25T15:08:40.515Z"
   },
   {
    "duration": 43,
    "start_time": "2022-04-25T15:08:40.520Z"
   },
   {
    "duration": 4,
    "start_time": "2022-04-25T15:08:40.566Z"
   },
   {
    "duration": 52,
    "start_time": "2022-04-25T15:08:40.572Z"
   },
   {
    "duration": 24,
    "start_time": "2022-04-25T15:08:40.626Z"
   },
   {
    "duration": 36,
    "start_time": "2022-04-25T15:08:40.654Z"
   },
   {
    "duration": 121,
    "start_time": "2022-04-25T15:08:40.694Z"
   },
   {
    "duration": 90,
    "start_time": "2022-04-25T15:08:40.817Z"
   },
   {
    "duration": 71,
    "start_time": "2022-04-25T15:08:40.909Z"
   },
   {
    "duration": 8,
    "start_time": "2022-04-25T15:08:40.982Z"
   },
   {
    "duration": 5,
    "start_time": "2022-04-25T15:08:40.992Z"
   },
   {
    "duration": 17,
    "start_time": "2022-04-25T15:08:41.001Z"
   },
   {
    "duration": 7,
    "start_time": "2022-04-25T15:08:41.020Z"
   },
   {
    "duration": 38,
    "start_time": "2022-04-25T15:08:41.028Z"
   },
   {
    "duration": 16,
    "start_time": "2022-04-25T15:08:41.068Z"
   },
   {
    "duration": 4,
    "start_time": "2022-04-25T15:08:41.086Z"
   },
   {
    "duration": 35,
    "start_time": "2022-04-25T15:08:41.092Z"
   },
   {
    "duration": 44,
    "start_time": "2022-04-25T15:08:41.129Z"
   },
   {
    "duration": 27,
    "start_time": "2022-04-25T15:08:41.175Z"
   },
   {
    "duration": 24,
    "start_time": "2022-04-25T15:08:41.204Z"
   },
   {
    "duration": 46,
    "start_time": "2022-04-25T15:08:41.230Z"
   },
   {
    "duration": 26,
    "start_time": "2022-04-25T15:08:41.279Z"
   },
   {
    "duration": 13,
    "start_time": "2022-04-25T15:08:41.308Z"
   },
   {
    "duration": 37,
    "start_time": "2022-04-25T15:08:41.323Z"
   },
   {
    "duration": 19,
    "start_time": "2022-04-25T15:08:41.366Z"
   },
   {
    "duration": 12,
    "start_time": "2022-04-25T15:08:41.388Z"
   },
   {
    "duration": 19,
    "start_time": "2022-04-25T15:08:41.402Z"
   },
   {
    "duration": 0,
    "start_time": "2022-04-25T15:08:41.423Z"
   },
   {
    "duration": 0,
    "start_time": "2022-04-25T15:08:41.424Z"
   },
   {
    "duration": 0,
    "start_time": "2022-04-25T15:08:41.426Z"
   },
   {
    "duration": 0,
    "start_time": "2022-04-25T15:08:41.428Z"
   },
   {
    "duration": 0,
    "start_time": "2022-04-25T15:08:41.430Z"
   },
   {
    "duration": 0,
    "start_time": "2022-04-25T15:08:41.431Z"
   },
   {
    "duration": 0,
    "start_time": "2022-04-25T15:08:41.432Z"
   },
   {
    "duration": 3,
    "start_time": "2022-04-25T15:35:14.063Z"
   },
   {
    "duration": 169,
    "start_time": "2022-04-25T15:35:14.068Z"
   },
   {
    "duration": 11,
    "start_time": "2022-04-25T15:35:14.239Z"
   },
   {
    "duration": 34,
    "start_time": "2022-04-25T15:35:14.255Z"
   },
   {
    "duration": 3,
    "start_time": "2022-04-25T15:35:14.291Z"
   },
   {
    "duration": 12,
    "start_time": "2022-04-25T15:35:14.296Z"
   },
   {
    "duration": 4,
    "start_time": "2022-04-25T15:35:14.309Z"
   },
   {
    "duration": 54,
    "start_time": "2022-04-25T15:35:14.314Z"
   },
   {
    "duration": 20,
    "start_time": "2022-04-25T15:35:14.371Z"
   },
   {
    "duration": 28,
    "start_time": "2022-04-25T15:35:14.393Z"
   },
   {
    "duration": 83,
    "start_time": "2022-04-25T15:35:14.423Z"
   },
   {
    "duration": 80,
    "start_time": "2022-04-25T15:35:14.508Z"
   },
   {
    "duration": 65,
    "start_time": "2022-04-25T15:35:14.591Z"
   },
   {
    "duration": 7,
    "start_time": "2022-04-25T15:35:14.658Z"
   },
   {
    "duration": 5,
    "start_time": "2022-04-25T15:35:14.667Z"
   },
   {
    "duration": 18,
    "start_time": "2022-04-25T15:35:14.674Z"
   },
   {
    "duration": 9,
    "start_time": "2022-04-25T15:35:14.694Z"
   },
   {
    "duration": 24,
    "start_time": "2022-04-25T15:35:14.705Z"
   },
   {
    "duration": 11,
    "start_time": "2022-04-25T15:35:14.730Z"
   },
   {
    "duration": 4,
    "start_time": "2022-04-25T15:35:14.754Z"
   },
   {
    "duration": 32,
    "start_time": "2022-04-25T15:35:14.759Z"
   },
   {
    "duration": 17,
    "start_time": "2022-04-25T15:35:14.793Z"
   },
   {
    "duration": 16,
    "start_time": "2022-04-25T15:35:14.812Z"
   },
   {
    "duration": 33,
    "start_time": "2022-04-25T15:35:14.831Z"
   },
   {
    "duration": 20,
    "start_time": "2022-04-25T15:35:14.866Z"
   },
   {
    "duration": 18,
    "start_time": "2022-04-25T15:35:14.888Z"
   },
   {
    "duration": 9,
    "start_time": "2022-04-25T15:35:14.908Z"
   },
   {
    "duration": 38,
    "start_time": "2022-04-25T15:35:14.919Z"
   },
   {
    "duration": 10,
    "start_time": "2022-04-25T15:35:14.959Z"
   },
   {
    "duration": 6,
    "start_time": "2022-04-25T15:35:14.970Z"
   },
   {
    "duration": 26,
    "start_time": "2022-04-25T15:35:14.978Z"
   },
   {
    "duration": 0,
    "start_time": "2022-04-25T15:35:15.006Z"
   },
   {
    "duration": 0,
    "start_time": "2022-04-25T15:35:15.008Z"
   },
   {
    "duration": 0,
    "start_time": "2022-04-25T15:35:15.009Z"
   },
   {
    "duration": 0,
    "start_time": "2022-04-25T15:35:15.011Z"
   },
   {
    "duration": 0,
    "start_time": "2022-04-25T15:35:15.012Z"
   },
   {
    "duration": 0,
    "start_time": "2022-04-25T15:35:15.014Z"
   },
   {
    "duration": 0,
    "start_time": "2022-04-25T15:35:15.015Z"
   },
   {
    "duration": 9,
    "start_time": "2022-04-25T15:43:22.485Z"
   },
   {
    "duration": 9,
    "start_time": "2022-04-25T15:44:05.869Z"
   },
   {
    "duration": 5,
    "start_time": "2022-04-25T15:44:25.806Z"
   },
   {
    "duration": 3,
    "start_time": "2022-04-25T15:51:44.560Z"
   },
   {
    "duration": 169,
    "start_time": "2022-04-25T15:51:44.566Z"
   },
   {
    "duration": 17,
    "start_time": "2022-04-25T15:51:44.737Z"
   },
   {
    "duration": 38,
    "start_time": "2022-04-25T15:51:44.757Z"
   },
   {
    "duration": 3,
    "start_time": "2022-04-25T15:51:44.797Z"
   },
   {
    "duration": 11,
    "start_time": "2022-04-25T15:51:44.802Z"
   },
   {
    "duration": 3,
    "start_time": "2022-04-25T15:51:44.815Z"
   },
   {
    "duration": 50,
    "start_time": "2022-04-25T15:51:44.820Z"
   },
   {
    "duration": 21,
    "start_time": "2022-04-25T15:51:44.873Z"
   },
   {
    "duration": 29,
    "start_time": "2022-04-25T15:51:44.896Z"
   },
   {
    "duration": 87,
    "start_time": "2022-04-25T15:51:44.927Z"
   },
   {
    "duration": 83,
    "start_time": "2022-04-25T15:51:45.017Z"
   },
   {
    "duration": 81,
    "start_time": "2022-04-25T15:51:45.102Z"
   },
   {
    "duration": 6,
    "start_time": "2022-04-25T15:51:45.185Z"
   },
   {
    "duration": 4,
    "start_time": "2022-04-25T15:51:45.193Z"
   },
   {
    "duration": 17,
    "start_time": "2022-04-25T15:51:45.198Z"
   },
   {
    "duration": 7,
    "start_time": "2022-04-25T15:51:45.216Z"
   },
   {
    "duration": 33,
    "start_time": "2022-04-25T15:51:45.225Z"
   },
   {
    "duration": 11,
    "start_time": "2022-04-25T15:51:45.259Z"
   },
   {
    "duration": 4,
    "start_time": "2022-04-25T15:51:45.272Z"
   },
   {
    "duration": 27,
    "start_time": "2022-04-25T15:51:45.277Z"
   },
   {
    "duration": 15,
    "start_time": "2022-04-25T15:51:45.305Z"
   },
   {
    "duration": 40,
    "start_time": "2022-04-25T15:51:45.322Z"
   },
   {
    "duration": 13,
    "start_time": "2022-04-25T15:51:45.365Z"
   },
   {
    "duration": 16,
    "start_time": "2022-04-25T15:51:45.380Z"
   },
   {
    "duration": 13,
    "start_time": "2022-04-25T15:51:45.398Z"
   },
   {
    "duration": 8,
    "start_time": "2022-04-25T15:51:45.412Z"
   },
   {
    "duration": 36,
    "start_time": "2022-04-25T15:51:45.421Z"
   },
   {
    "duration": 10,
    "start_time": "2022-04-25T15:51:45.459Z"
   },
   {
    "duration": 8,
    "start_time": "2022-04-25T15:51:45.471Z"
   },
   {
    "duration": 18,
    "start_time": "2022-04-25T15:51:45.480Z"
   },
   {
    "duration": 0,
    "start_time": "2022-04-25T15:51:45.499Z"
   },
   {
    "duration": 0,
    "start_time": "2022-04-25T15:51:45.501Z"
   },
   {
    "duration": 0,
    "start_time": "2022-04-25T15:51:45.501Z"
   },
   {
    "duration": 0,
    "start_time": "2022-04-25T15:51:45.502Z"
   },
   {
    "duration": 0,
    "start_time": "2022-04-25T15:51:45.503Z"
   },
   {
    "duration": 0,
    "start_time": "2022-04-25T15:51:45.504Z"
   },
   {
    "duration": 0,
    "start_time": "2022-04-25T15:51:45.505Z"
   },
   {
    "duration": 11,
    "start_time": "2022-04-25T15:52:06.640Z"
   },
   {
    "duration": 396,
    "start_time": "2022-04-25T18:58:08.453Z"
   },
   {
    "duration": 182,
    "start_time": "2022-04-25T18:58:08.851Z"
   },
   {
    "duration": 16,
    "start_time": "2022-04-25T18:58:09.035Z"
   },
   {
    "duration": 27,
    "start_time": "2022-04-25T18:58:09.053Z"
   },
   {
    "duration": 4,
    "start_time": "2022-04-25T18:58:09.081Z"
   },
   {
    "duration": 15,
    "start_time": "2022-04-25T18:58:09.086Z"
   },
   {
    "duration": 7,
    "start_time": "2022-04-25T18:58:09.103Z"
   },
   {
    "duration": 44,
    "start_time": "2022-04-25T18:58:09.112Z"
   },
   {
    "duration": 17,
    "start_time": "2022-04-25T18:58:09.158Z"
   },
   {
    "duration": 23,
    "start_time": "2022-04-25T18:58:09.177Z"
   },
   {
    "duration": 76,
    "start_time": "2022-04-25T18:58:09.201Z"
   },
   {
    "duration": 80,
    "start_time": "2022-04-25T18:58:09.278Z"
   },
   {
    "duration": 53,
    "start_time": "2022-04-25T18:58:09.359Z"
   },
   {
    "duration": 7,
    "start_time": "2022-04-25T18:58:09.413Z"
   },
   {
    "duration": 26,
    "start_time": "2022-04-25T18:58:09.421Z"
   },
   {
    "duration": 13,
    "start_time": "2022-04-25T18:58:09.449Z"
   },
   {
    "duration": 8,
    "start_time": "2022-04-25T18:58:09.463Z"
   },
   {
    "duration": 10,
    "start_time": "2022-04-25T18:58:09.473Z"
   },
   {
    "duration": 10,
    "start_time": "2022-04-25T18:58:09.485Z"
   },
   {
    "duration": 4,
    "start_time": "2022-04-25T18:58:09.497Z"
   },
   {
    "duration": 48,
    "start_time": "2022-04-25T18:58:09.502Z"
   },
   {
    "duration": 13,
    "start_time": "2022-04-25T18:58:09.552Z"
   },
   {
    "duration": 13,
    "start_time": "2022-04-25T18:58:09.567Z"
   },
   {
    "duration": 11,
    "start_time": "2022-04-25T18:58:09.582Z"
   },
   {
    "duration": 17,
    "start_time": "2022-04-25T18:58:09.594Z"
   },
   {
    "duration": 45,
    "start_time": "2022-04-25T18:58:09.613Z"
   },
   {
    "duration": 8,
    "start_time": "2022-04-25T18:58:09.660Z"
   },
   {
    "duration": 7,
    "start_time": "2022-04-25T18:58:09.671Z"
   },
   {
    "duration": 8,
    "start_time": "2022-04-25T18:58:09.679Z"
   },
   {
    "duration": 4,
    "start_time": "2022-04-25T18:58:09.689Z"
   },
   {
    "duration": 93,
    "start_time": "2022-04-25T18:58:09.695Z"
   },
   {
    "duration": 0,
    "start_time": "2022-04-25T18:58:09.790Z"
   },
   {
    "duration": 0,
    "start_time": "2022-04-25T18:58:09.792Z"
   },
   {
    "duration": 0,
    "start_time": "2022-04-25T18:58:09.794Z"
   },
   {
    "duration": 0,
    "start_time": "2022-04-25T18:58:09.795Z"
   },
   {
    "duration": 0,
    "start_time": "2022-04-25T18:58:09.796Z"
   },
   {
    "duration": 0,
    "start_time": "2022-04-25T18:58:09.797Z"
   },
   {
    "duration": 0,
    "start_time": "2022-04-25T18:58:09.797Z"
   },
   {
    "duration": 103,
    "start_time": "2022-04-25T19:13:13.209Z"
   },
   {
    "duration": 5,
    "start_time": "2022-04-25T19:13:21.367Z"
   },
   {
    "duration": 11,
    "start_time": "2022-04-25T19:13:26.217Z"
   },
   {
    "duration": 4,
    "start_time": "2022-04-25T19:16:43.247Z"
   },
   {
    "duration": 27,
    "start_time": "2022-04-25T19:16:47.964Z"
   },
   {
    "duration": 4,
    "start_time": "2022-04-25T19:20:43.747Z"
   },
   {
    "duration": 20,
    "start_time": "2022-04-25T19:20:49.328Z"
   },
   {
    "duration": 5,
    "start_time": "2022-04-25T19:24:44.836Z"
   },
   {
    "duration": 24,
    "start_time": "2022-04-25T19:25:04.264Z"
   },
   {
    "duration": 6,
    "start_time": "2022-04-25T19:25:52.144Z"
   },
   {
    "duration": 37,
    "start_time": "2022-04-25T19:25:56.772Z"
   },
   {
    "duration": 4,
    "start_time": "2022-04-25T19:26:39.854Z"
   },
   {
    "duration": 29,
    "start_time": "2022-04-25T19:26:48.999Z"
   },
   {
    "duration": 29,
    "start_time": "2022-04-25T19:27:14.799Z"
   },
   {
    "duration": 29,
    "start_time": "2022-04-25T19:27:21.113Z"
   },
   {
    "duration": 5,
    "start_time": "2022-04-25T19:28:08.257Z"
   },
   {
    "duration": 35,
    "start_time": "2022-04-25T19:28:14.437Z"
   },
   {
    "duration": 34,
    "start_time": "2022-04-25T19:28:30.341Z"
   },
   {
    "duration": 4,
    "start_time": "2022-04-25T19:29:36.450Z"
   },
   {
    "duration": 11,
    "start_time": "2022-04-25T19:29:44.356Z"
   },
   {
    "duration": 11,
    "start_time": "2022-04-25T19:29:55.416Z"
   },
   {
    "duration": 3,
    "start_time": "2022-04-25T19:32:08.458Z"
   },
   {
    "duration": 12,
    "start_time": "2022-04-25T19:32:13.155Z"
   },
   {
    "duration": 4,
    "start_time": "2022-04-25T19:32:57.637Z"
   },
   {
    "duration": 12,
    "start_time": "2022-04-25T19:33:01.763Z"
   },
   {
    "duration": 4,
    "start_time": "2022-04-25T19:33:14.307Z"
   },
   {
    "duration": 14,
    "start_time": "2022-04-25T19:33:17.980Z"
   },
   {
    "duration": 128,
    "start_time": "2022-04-25T19:33:44.571Z"
   },
   {
    "duration": 109,
    "start_time": "2022-04-25T19:34:19.789Z"
   },
   {
    "duration": 5,
    "start_time": "2022-04-25T19:35:12.054Z"
   },
   {
    "duration": 11,
    "start_time": "2022-04-25T19:35:21.508Z"
   },
   {
    "duration": 9,
    "start_time": "2022-04-25T19:44:12.654Z"
   },
   {
    "duration": 7,
    "start_time": "2022-04-25T19:45:59.380Z"
   },
   {
    "duration": 10,
    "start_time": "2022-04-25T19:46:46.713Z"
   },
   {
    "duration": 9,
    "start_time": "2022-04-25T19:47:18.047Z"
   },
   {
    "duration": 391,
    "start_time": "2022-04-26T07:32:53.350Z"
   },
   {
    "duration": 167,
    "start_time": "2022-04-26T07:32:53.742Z"
   },
   {
    "duration": 18,
    "start_time": "2022-04-26T07:32:53.910Z"
   },
   {
    "duration": 30,
    "start_time": "2022-04-26T07:32:53.930Z"
   },
   {
    "duration": 4,
    "start_time": "2022-04-26T07:32:53.961Z"
   },
   {
    "duration": 20,
    "start_time": "2022-04-26T07:32:53.966Z"
   },
   {
    "duration": 7,
    "start_time": "2022-04-26T07:32:53.988Z"
   },
   {
    "duration": 47,
    "start_time": "2022-04-26T07:32:53.997Z"
   },
   {
    "duration": 17,
    "start_time": "2022-04-26T07:32:54.045Z"
   },
   {
    "duration": 24,
    "start_time": "2022-04-26T07:32:54.064Z"
   },
   {
    "duration": 79,
    "start_time": "2022-04-26T07:32:54.090Z"
   },
   {
    "duration": 84,
    "start_time": "2022-04-26T07:32:54.171Z"
   },
   {
    "duration": 65,
    "start_time": "2022-04-26T07:32:54.257Z"
   },
   {
    "duration": 7,
    "start_time": "2022-04-26T07:32:54.324Z"
   },
   {
    "duration": 3,
    "start_time": "2022-04-26T07:32:54.333Z"
   },
   {
    "duration": 12,
    "start_time": "2022-04-26T07:32:54.338Z"
   },
   {
    "duration": 8,
    "start_time": "2022-04-26T07:32:54.352Z"
   },
   {
    "duration": 11,
    "start_time": "2022-04-26T07:32:54.362Z"
   },
   {
    "duration": 52,
    "start_time": "2022-04-26T07:32:54.375Z"
   },
   {
    "duration": 4,
    "start_time": "2022-04-26T07:32:54.430Z"
   },
   {
    "duration": 19,
    "start_time": "2022-04-26T07:32:54.435Z"
   },
   {
    "duration": 15,
    "start_time": "2022-04-26T07:32:54.456Z"
   },
   {
    "duration": 18,
    "start_time": "2022-04-26T07:32:54.473Z"
   },
   {
    "duration": 16,
    "start_time": "2022-04-26T07:32:54.524Z"
   },
   {
    "duration": 18,
    "start_time": "2022-04-26T07:32:54.543Z"
   },
   {
    "duration": 17,
    "start_time": "2022-04-26T07:32:54.563Z"
   },
   {
    "duration": 42,
    "start_time": "2022-04-26T07:32:54.582Z"
   },
   {
    "duration": 7,
    "start_time": "2022-04-26T07:32:54.628Z"
   },
   {
    "duration": 11,
    "start_time": "2022-04-26T07:32:54.637Z"
   },
   {
    "duration": 5,
    "start_time": "2022-04-26T07:32:54.650Z"
   },
   {
    "duration": 94,
    "start_time": "2022-04-26T07:32:54.656Z"
   },
   {
    "duration": 0,
    "start_time": "2022-04-26T07:32:54.752Z"
   },
   {
    "duration": 0,
    "start_time": "2022-04-26T07:32:54.753Z"
   },
   {
    "duration": 0,
    "start_time": "2022-04-26T07:32:54.754Z"
   },
   {
    "duration": 0,
    "start_time": "2022-04-26T07:32:54.755Z"
   },
   {
    "duration": 0,
    "start_time": "2022-04-26T07:32:54.756Z"
   },
   {
    "duration": 0,
    "start_time": "2022-04-26T07:32:54.757Z"
   },
   {
    "duration": 0,
    "start_time": "2022-04-26T07:32:54.758Z"
   },
   {
    "duration": 14,
    "start_time": "2022-04-26T07:34:00.521Z"
   },
   {
    "duration": 12,
    "start_time": "2022-04-26T07:36:54.010Z"
   },
   {
    "duration": 20,
    "start_time": "2022-04-26T07:37:48.675Z"
   },
   {
    "duration": 9,
    "start_time": "2022-04-26T07:38:18.001Z"
   },
   {
    "duration": 11,
    "start_time": "2022-04-26T07:38:53.818Z"
   },
   {
    "duration": 13,
    "start_time": "2022-04-26T07:39:16.777Z"
   },
   {
    "duration": 4,
    "start_time": "2022-04-26T07:39:29.498Z"
   },
   {
    "duration": 18,
    "start_time": "2022-04-26T07:39:34.216Z"
   },
   {
    "duration": 13,
    "start_time": "2022-04-26T07:39:46.010Z"
   },
   {
    "duration": 16,
    "start_time": "2022-04-26T07:50:10.565Z"
   },
   {
    "duration": 11,
    "start_time": "2022-04-26T07:50:55.215Z"
   },
   {
    "duration": 5,
    "start_time": "2022-04-26T07:56:37.296Z"
   },
   {
    "duration": 16,
    "start_time": "2022-04-26T07:56:41.495Z"
   },
   {
    "duration": 4,
    "start_time": "2022-04-26T08:00:14.836Z"
   },
   {
    "duration": 19,
    "start_time": "2022-04-26T08:00:19.758Z"
   },
   {
    "duration": 26,
    "start_time": "2022-04-26T08:12:06.717Z"
   },
   {
    "duration": 10,
    "start_time": "2022-04-26T08:12:56.097Z"
   },
   {
    "duration": 11,
    "start_time": "2022-04-26T08:13:03.583Z"
   },
   {
    "duration": 21,
    "start_time": "2022-04-26T08:13:37.037Z"
   },
   {
    "duration": 12,
    "start_time": "2022-04-26T08:13:59.640Z"
   },
   {
    "duration": 11,
    "start_time": "2022-04-26T08:14:43.428Z"
   },
   {
    "duration": 11,
    "start_time": "2022-04-26T08:16:41.012Z"
   },
   {
    "duration": 13,
    "start_time": "2022-04-26T08:21:24.604Z"
   },
   {
    "duration": 13,
    "start_time": "2022-04-26T08:23:58.933Z"
   },
   {
    "duration": 15,
    "start_time": "2022-04-26T08:25:17.045Z"
   },
   {
    "duration": 34,
    "start_time": "2022-04-26T08:31:14.687Z"
   },
   {
    "duration": 36,
    "start_time": "2022-04-26T08:31:52.336Z"
   },
   {
    "duration": 39,
    "start_time": "2022-04-26T08:32:12.781Z"
   },
   {
    "duration": 8,
    "start_time": "2022-04-26T08:33:15.182Z"
   },
   {
    "duration": 11,
    "start_time": "2022-04-26T08:33:33.248Z"
   },
   {
    "duration": 51,
    "start_time": "2022-04-26T08:34:38.554Z"
   },
   {
    "duration": 29,
    "start_time": "2022-04-26T08:34:50.876Z"
   },
   {
    "duration": 14,
    "start_time": "2022-04-26T08:35:16.511Z"
   },
   {
    "duration": 12,
    "start_time": "2022-04-26T08:37:47.407Z"
   },
   {
    "duration": 10,
    "start_time": "2022-04-26T08:38:02.438Z"
   },
   {
    "duration": 186,
    "start_time": "2022-04-26T08:39:49.841Z"
   },
   {
    "duration": 12,
    "start_time": "2022-04-26T08:40:00.074Z"
   },
   {
    "duration": 7,
    "start_time": "2022-04-26T08:47:26.965Z"
   },
   {
    "duration": 5,
    "start_time": "2022-04-26T08:48:10.784Z"
   },
   {
    "duration": 9,
    "start_time": "2022-04-26T08:48:56.130Z"
   },
   {
    "duration": 5,
    "start_time": "2022-04-26T08:49:00.269Z"
   },
   {
    "duration": 6,
    "start_time": "2022-04-26T08:49:13.740Z"
   },
   {
    "duration": 3,
    "start_time": "2022-04-26T08:50:56.486Z"
   },
   {
    "duration": 165,
    "start_time": "2022-04-26T08:50:56.491Z"
   },
   {
    "duration": 10,
    "start_time": "2022-04-26T08:50:56.657Z"
   },
   {
    "duration": 28,
    "start_time": "2022-04-26T08:50:56.669Z"
   },
   {
    "duration": 3,
    "start_time": "2022-04-26T08:50:56.699Z"
   },
   {
    "duration": 9,
    "start_time": "2022-04-26T08:50:56.722Z"
   },
   {
    "duration": 4,
    "start_time": "2022-04-26T08:50:56.732Z"
   },
   {
    "duration": 27,
    "start_time": "2022-04-26T08:50:56.737Z"
   },
   {
    "duration": 17,
    "start_time": "2022-04-26T08:50:56.766Z"
   },
   {
    "duration": 52,
    "start_time": "2022-04-26T08:50:56.784Z"
   },
   {
    "duration": 59,
    "start_time": "2022-04-26T08:50:56.838Z"
   },
   {
    "duration": 80,
    "start_time": "2022-04-26T08:50:56.899Z"
   },
   {
    "duration": 68,
    "start_time": "2022-04-26T08:50:56.980Z"
   },
   {
    "duration": 7,
    "start_time": "2022-04-26T08:50:57.049Z"
   },
   {
    "duration": 3,
    "start_time": "2022-04-26T08:50:57.058Z"
   },
   {
    "duration": 17,
    "start_time": "2022-04-26T08:50:57.063Z"
   },
   {
    "duration": 18,
    "start_time": "2022-04-26T08:50:57.081Z"
   },
   {
    "duration": 22,
    "start_time": "2022-04-26T08:50:57.101Z"
   },
   {
    "duration": 13,
    "start_time": "2022-04-26T08:50:57.124Z"
   },
   {
    "duration": 4,
    "start_time": "2022-04-26T08:50:57.139Z"
   },
   {
    "duration": 25,
    "start_time": "2022-04-26T08:50:57.144Z"
   },
   {
    "duration": 20,
    "start_time": "2022-04-26T08:50:57.171Z"
   },
   {
    "duration": 46,
    "start_time": "2022-04-26T08:50:57.194Z"
   },
   {
    "duration": 21,
    "start_time": "2022-04-26T08:50:57.245Z"
   },
   {
    "duration": 26,
    "start_time": "2022-04-26T08:50:57.268Z"
   },
   {
    "duration": 40,
    "start_time": "2022-04-26T08:50:57.296Z"
   },
   {
    "duration": 8,
    "start_time": "2022-04-26T08:50:57.338Z"
   },
   {
    "duration": 16,
    "start_time": "2022-04-26T08:50:57.347Z"
   },
   {
    "duration": 11,
    "start_time": "2022-04-26T08:50:57.365Z"
   },
   {
    "duration": 3,
    "start_time": "2022-04-26T08:50:57.378Z"
   },
   {
    "duration": 49,
    "start_time": "2022-04-26T08:50:57.383Z"
   },
   {
    "duration": 12,
    "start_time": "2022-04-26T08:50:57.433Z"
   },
   {
    "duration": 16,
    "start_time": "2022-04-26T08:50:57.446Z"
   },
   {
    "duration": 12,
    "start_time": "2022-04-26T08:50:57.463Z"
   },
   {
    "duration": 8,
    "start_time": "2022-04-26T08:50:57.477Z"
   },
   {
    "duration": 37,
    "start_time": "2022-04-26T08:50:57.487Z"
   },
   {
    "duration": 15,
    "start_time": "2022-04-26T08:50:57.525Z"
   },
   {
    "duration": 5,
    "start_time": "2022-04-26T08:50:57.542Z"
   },
   {
    "duration": 4,
    "start_time": "2022-04-26T08:51:56.225Z"
   },
   {
    "duration": 10,
    "start_time": "2022-04-26T08:52:43.763Z"
   },
   {
    "duration": 40,
    "start_time": "2022-04-26T08:56:35.927Z"
   },
   {
    "duration": 19,
    "start_time": "2022-04-26T08:56:39.737Z"
   },
   {
    "duration": 19,
    "start_time": "2022-04-26T08:57:28.263Z"
   },
   {
    "duration": 15,
    "start_time": "2022-04-26T08:57:31.263Z"
   },
   {
    "duration": 15,
    "start_time": "2022-04-26T08:57:34.454Z"
   },
   {
    "duration": 15,
    "start_time": "2022-04-26T08:57:37.458Z"
   },
   {
    "duration": 70,
    "start_time": "2022-04-26T08:58:23.777Z"
   },
   {
    "duration": 470,
    "start_time": "2022-05-01T11:03:26.357Z"
   },
   {
    "duration": 167,
    "start_time": "2022-05-01T11:03:26.829Z"
   },
   {
    "duration": 19,
    "start_time": "2022-05-01T11:03:26.998Z"
   },
   {
    "duration": 32,
    "start_time": "2022-05-01T11:03:27.020Z"
   },
   {
    "duration": 3,
    "start_time": "2022-05-01T11:03:27.055Z"
   },
   {
    "duration": 42,
    "start_time": "2022-05-01T11:03:27.060Z"
   },
   {
    "duration": 7,
    "start_time": "2022-05-01T11:03:27.105Z"
   },
   {
    "duration": 44,
    "start_time": "2022-05-01T11:03:27.114Z"
   },
   {
    "duration": 45,
    "start_time": "2022-05-01T11:03:27.160Z"
   },
   {
    "duration": 41,
    "start_time": "2022-05-01T11:03:27.207Z"
   },
   {
    "duration": 113,
    "start_time": "2022-05-01T11:03:27.250Z"
   },
   {
    "duration": 126,
    "start_time": "2022-05-01T11:03:27.365Z"
   },
   {
    "duration": 58,
    "start_time": "2022-05-01T11:03:27.493Z"
   },
   {
    "duration": 8,
    "start_time": "2022-05-01T11:03:27.554Z"
   },
   {
    "duration": 5,
    "start_time": "2022-05-01T11:03:27.563Z"
   },
   {
    "duration": 29,
    "start_time": "2022-05-01T11:03:27.570Z"
   },
   {
    "duration": 17,
    "start_time": "2022-05-01T11:03:27.601Z"
   },
   {
    "duration": 14,
    "start_time": "2022-05-01T11:03:27.619Z"
   },
   {
    "duration": 23,
    "start_time": "2022-05-01T11:03:27.635Z"
   },
   {
    "duration": 4,
    "start_time": "2022-05-01T11:03:27.660Z"
   },
   {
    "duration": 34,
    "start_time": "2022-05-01T11:03:27.666Z"
   },
   {
    "duration": 15,
    "start_time": "2022-05-01T11:03:27.702Z"
   },
   {
    "duration": 17,
    "start_time": "2022-05-01T11:03:27.719Z"
   },
   {
    "duration": 16,
    "start_time": "2022-05-01T11:03:27.738Z"
   },
   {
    "duration": 51,
    "start_time": "2022-05-01T11:03:27.756Z"
   },
   {
    "duration": 17,
    "start_time": "2022-05-01T11:03:27.809Z"
   },
   {
    "duration": 10,
    "start_time": "2022-05-01T11:03:27.828Z"
   },
   {
    "duration": 17,
    "start_time": "2022-05-01T11:03:27.840Z"
   },
   {
    "duration": 41,
    "start_time": "2022-05-01T11:03:27.859Z"
   },
   {
    "duration": 6,
    "start_time": "2022-05-01T11:03:27.902Z"
   },
   {
    "duration": 23,
    "start_time": "2022-05-01T11:03:27.909Z"
   },
   {
    "duration": 12,
    "start_time": "2022-05-01T11:03:27.934Z"
   },
   {
    "duration": 17,
    "start_time": "2022-05-01T11:03:27.947Z"
   },
   {
    "duration": 37,
    "start_time": "2022-05-01T11:03:27.965Z"
   },
   {
    "duration": 9,
    "start_time": "2022-05-01T11:03:28.004Z"
   },
   {
    "duration": 7,
    "start_time": "2022-05-01T11:03:28.014Z"
   },
   {
    "duration": 11,
    "start_time": "2022-05-01T11:03:28.023Z"
   },
   {
    "duration": 7,
    "start_time": "2022-05-01T11:03:28.035Z"
   },
   {
    "duration": 69,
    "start_time": "2022-05-01T13:39:17.963Z"
   },
   {
    "duration": 499,
    "start_time": "2022-05-01T13:39:41.279Z"
   },
   {
    "duration": 288,
    "start_time": "2022-05-01T13:39:41.782Z"
   },
   {
    "duration": 23,
    "start_time": "2022-05-01T13:39:42.072Z"
   },
   {
    "duration": 62,
    "start_time": "2022-05-01T13:39:42.099Z"
   },
   {
    "duration": 5,
    "start_time": "2022-05-01T13:39:42.164Z"
   },
   {
    "duration": 39,
    "start_time": "2022-05-01T13:39:42.172Z"
   },
   {
    "duration": 7,
    "start_time": "2022-05-01T13:39:42.214Z"
   },
   {
    "duration": 78,
    "start_time": "2022-05-01T13:39:42.224Z"
   },
   {
    "duration": 30,
    "start_time": "2022-05-01T13:39:42.304Z"
   },
   {
    "duration": 58,
    "start_time": "2022-05-01T13:39:42.338Z"
   },
   {
    "duration": 111,
    "start_time": "2022-05-01T13:39:42.399Z"
   },
   {
    "duration": 126,
    "start_time": "2022-05-01T13:39:42.512Z"
   },
   {
    "duration": 100,
    "start_time": "2022-05-01T13:39:42.640Z"
   },
   {
    "duration": 10,
    "start_time": "2022-05-01T13:39:42.743Z"
   },
   {
    "duration": 6,
    "start_time": "2022-05-01T13:39:42.756Z"
   },
   {
    "duration": 39,
    "start_time": "2022-05-01T13:39:42.764Z"
   },
   {
    "duration": 13,
    "start_time": "2022-05-01T13:39:42.805Z"
   },
   {
    "duration": 18,
    "start_time": "2022-05-01T13:39:42.820Z"
   },
   {
    "duration": 52,
    "start_time": "2022-05-01T13:39:42.841Z"
   },
   {
    "duration": 6,
    "start_time": "2022-05-01T13:39:42.896Z"
   },
   {
    "duration": 38,
    "start_time": "2022-05-01T13:39:42.905Z"
   },
   {
    "duration": 51,
    "start_time": "2022-05-01T13:39:42.945Z"
   },
   {
    "duration": 19,
    "start_time": "2022-05-01T13:39:42.999Z"
   },
   {
    "duration": 18,
    "start_time": "2022-05-01T13:39:43.021Z"
   },
   {
    "duration": 56,
    "start_time": "2022-05-01T13:39:43.041Z"
   },
   {
    "duration": 19,
    "start_time": "2022-05-01T13:39:43.099Z"
   },
   {
    "duration": 13,
    "start_time": "2022-05-01T13:39:43.121Z"
   },
   {
    "duration": 15,
    "start_time": "2022-05-01T13:39:43.139Z"
   },
   {
    "duration": 45,
    "start_time": "2022-05-01T13:39:43.156Z"
   },
   {
    "duration": 6,
    "start_time": "2022-05-01T13:39:43.204Z"
   },
   {
    "duration": 39,
    "start_time": "2022-05-01T13:39:43.213Z"
   },
   {
    "duration": 43,
    "start_time": "2022-05-01T13:39:43.255Z"
   },
   {
    "duration": 21,
    "start_time": "2022-05-01T13:39:43.300Z"
   },
   {
    "duration": 15,
    "start_time": "2022-05-01T13:39:43.323Z"
   },
   {
    "duration": 11,
    "start_time": "2022-05-01T13:39:43.340Z"
   },
   {
    "duration": 44,
    "start_time": "2022-05-01T13:39:43.353Z"
   },
   {
    "duration": 12,
    "start_time": "2022-05-01T13:39:43.399Z"
   },
   {
    "duration": 6,
    "start_time": "2022-05-01T13:39:43.414Z"
   },
   {
    "duration": 5,
    "start_time": "2022-05-01T13:44:40.438Z"
   },
   {
    "duration": 50,
    "start_time": "2022-05-01T13:46:46.187Z"
   },
   {
    "duration": 47,
    "start_time": "2022-05-01T13:49:16.130Z"
   },
   {
    "duration": 74,
    "start_time": "2022-05-01T13:49:37.922Z"
   },
   {
    "duration": 52,
    "start_time": "2022-05-01T13:49:58.661Z"
   },
   {
    "duration": 11,
    "start_time": "2022-05-01T13:51:16.612Z"
   },
   {
    "duration": 53,
    "start_time": "2022-05-01T13:52:58.905Z"
   },
   {
    "duration": 91,
    "start_time": "2022-05-01T13:53:56.784Z"
   },
   {
    "duration": 7,
    "start_time": "2022-05-01T13:59:15.078Z"
   },
   {
    "duration": 7,
    "start_time": "2022-05-01T13:59:53.979Z"
   },
   {
    "duration": 9,
    "start_time": "2022-05-01T14:00:29.363Z"
   },
   {
    "duration": 8,
    "start_time": "2022-05-01T14:00:49.515Z"
   },
   {
    "duration": 4,
    "start_time": "2022-05-01T14:00:59.972Z"
   },
   {
    "duration": 238,
    "start_time": "2022-05-01T14:00:59.979Z"
   },
   {
    "duration": 10,
    "start_time": "2022-05-01T14:01:00.219Z"
   },
   {
    "duration": 67,
    "start_time": "2022-05-01T14:01:00.232Z"
   },
   {
    "duration": 6,
    "start_time": "2022-05-01T14:01:00.301Z"
   },
   {
    "duration": 22,
    "start_time": "2022-05-01T14:01:00.309Z"
   },
   {
    "duration": 6,
    "start_time": "2022-05-01T14:01:00.333Z"
   },
   {
    "duration": 64,
    "start_time": "2022-05-01T14:01:00.341Z"
   },
   {
    "duration": 28,
    "start_time": "2022-05-01T14:01:00.409Z"
   },
   {
    "duration": 57,
    "start_time": "2022-05-01T14:01:00.439Z"
   },
   {
    "duration": 117,
    "start_time": "2022-05-01T14:01:00.498Z"
   },
   {
    "duration": 131,
    "start_time": "2022-05-01T14:01:00.617Z"
   },
   {
    "duration": 107,
    "start_time": "2022-05-01T14:01:00.750Z"
   },
   {
    "duration": 65,
    "start_time": "2022-05-01T14:01:00.859Z"
   },
   {
    "duration": 4,
    "start_time": "2022-05-01T14:01:00.926Z"
   },
   {
    "duration": 29,
    "start_time": "2022-05-01T14:01:00.932Z"
   },
   {
    "duration": 71,
    "start_time": "2022-05-01T14:01:00.964Z"
   },
   {
    "duration": 31,
    "start_time": "2022-05-01T14:01:01.037Z"
   },
   {
    "duration": 28,
    "start_time": "2022-05-01T14:01:01.070Z"
   },
   {
    "duration": 6,
    "start_time": "2022-05-01T14:01:01.100Z"
   },
   {
    "duration": 37,
    "start_time": "2022-05-01T14:01:01.108Z"
   },
   {
    "duration": 47,
    "start_time": "2022-05-01T14:01:01.147Z"
   },
   {
    "duration": 21,
    "start_time": "2022-05-01T14:01:01.197Z"
   },
   {
    "duration": 20,
    "start_time": "2022-05-01T14:01:01.222Z"
   },
   {
    "duration": 64,
    "start_time": "2022-05-01T14:01:01.244Z"
   },
   {
    "duration": 32,
    "start_time": "2022-05-01T14:01:01.311Z"
   },
   {
    "duration": 25,
    "start_time": "2022-05-01T14:01:01.346Z"
   },
   {
    "duration": 31,
    "start_time": "2022-05-01T14:01:01.392Z"
   },
   {
    "duration": 17,
    "start_time": "2022-05-01T14:01:01.425Z"
   },
   {
    "duration": 25,
    "start_time": "2022-05-01T14:01:01.444Z"
   },
   {
    "duration": 36,
    "start_time": "2022-05-01T14:01:01.471Z"
   },
   {
    "duration": 37,
    "start_time": "2022-05-01T14:01:01.510Z"
   },
   {
    "duration": 44,
    "start_time": "2022-05-01T14:01:01.550Z"
   },
   {
    "duration": 24,
    "start_time": "2022-05-01T14:01:01.597Z"
   },
   {
    "duration": 22,
    "start_time": "2022-05-01T14:01:01.623Z"
   },
   {
    "duration": 28,
    "start_time": "2022-05-01T14:01:01.648Z"
   },
   {
    "duration": 19,
    "start_time": "2022-05-01T14:01:01.678Z"
   },
   {
    "duration": 8,
    "start_time": "2022-05-01T14:01:01.699Z"
   },
   {
    "duration": 53,
    "start_time": "2022-05-01T14:11:29.203Z"
   },
   {
    "duration": 15,
    "start_time": "2022-05-01T14:21:18.400Z"
   },
   {
    "duration": 14,
    "start_time": "2022-05-01T14:21:37.065Z"
   },
   {
    "duration": 52,
    "start_time": "2022-05-01T14:21:58.589Z"
   },
   {
    "duration": 47,
    "start_time": "2022-05-01T14:22:30.669Z"
   },
   {
    "duration": 52,
    "start_time": "2022-05-01T14:23:05.387Z"
   },
   {
    "duration": 51,
    "start_time": "2022-05-01T14:24:10.034Z"
   },
   {
    "duration": 4,
    "start_time": "2022-05-01T14:24:38.353Z"
   },
   {
    "duration": 249,
    "start_time": "2022-05-01T14:24:38.359Z"
   },
   {
    "duration": 10,
    "start_time": "2022-05-01T14:24:38.610Z"
   },
   {
    "duration": 52,
    "start_time": "2022-05-01T14:24:38.623Z"
   },
   {
    "duration": 6,
    "start_time": "2022-05-01T14:24:38.694Z"
   },
   {
    "duration": 14,
    "start_time": "2022-05-01T14:24:38.703Z"
   },
   {
    "duration": 9,
    "start_time": "2022-05-01T14:24:38.720Z"
   },
   {
    "duration": 66,
    "start_time": "2022-05-01T14:24:38.732Z"
   },
   {
    "duration": 30,
    "start_time": "2022-05-01T14:24:38.803Z"
   },
   {
    "duration": 66,
    "start_time": "2022-05-01T14:24:38.835Z"
   },
   {
    "duration": 117,
    "start_time": "2022-05-01T14:24:38.903Z"
   },
   {
    "duration": 170,
    "start_time": "2022-05-01T14:24:39.023Z"
   },
   {
    "duration": 139,
    "start_time": "2022-05-01T14:24:39.196Z"
   },
   {
    "duration": 68,
    "start_time": "2022-05-01T14:24:39.337Z"
   },
   {
    "duration": 5,
    "start_time": "2022-05-01T14:24:39.408Z"
   },
   {
    "duration": 27,
    "start_time": "2022-05-01T14:24:39.416Z"
   },
   {
    "duration": 81,
    "start_time": "2022-05-01T14:24:39.446Z"
   },
   {
    "duration": 17,
    "start_time": "2022-05-01T14:24:39.529Z"
   },
   {
    "duration": 47,
    "start_time": "2022-05-01T14:24:39.549Z"
   },
   {
    "duration": 7,
    "start_time": "2022-05-01T14:24:39.600Z"
   },
   {
    "duration": 37,
    "start_time": "2022-05-01T14:24:39.610Z"
   },
   {
    "duration": 46,
    "start_time": "2022-05-01T14:24:39.650Z"
   },
   {
    "duration": 31,
    "start_time": "2022-05-01T14:24:39.699Z"
   },
   {
    "duration": 65,
    "start_time": "2022-05-01T14:24:39.737Z"
   },
   {
    "duration": 30,
    "start_time": "2022-05-01T14:24:39.804Z"
   },
   {
    "duration": 21,
    "start_time": "2022-05-01T14:24:39.837Z"
   },
   {
    "duration": 50,
    "start_time": "2022-05-01T14:24:39.861Z"
   },
   {
    "duration": 26,
    "start_time": "2022-05-01T14:24:39.914Z"
   },
   {
    "duration": 23,
    "start_time": "2022-05-01T14:24:39.943Z"
   },
   {
    "duration": 30,
    "start_time": "2022-05-01T14:24:39.969Z"
   },
   {
    "duration": 41,
    "start_time": "2022-05-01T14:24:40.002Z"
   },
   {
    "duration": 16,
    "start_time": "2022-05-01T14:24:40.046Z"
   },
   {
    "duration": 53,
    "start_time": "2022-05-01T14:24:40.064Z"
   },
   {
    "duration": 21,
    "start_time": "2022-05-01T14:24:40.120Z"
   },
   {
    "duration": 48,
    "start_time": "2022-05-01T14:24:40.144Z"
   },
   {
    "duration": 9,
    "start_time": "2022-05-01T14:24:40.196Z"
   },
   {
    "duration": 11,
    "start_time": "2022-05-01T14:24:40.207Z"
   },
   {
    "duration": 11,
    "start_time": "2022-05-01T14:24:40.220Z"
   },
   {
    "duration": 664,
    "start_time": "2022-05-01T14:33:24.666Z"
   },
   {
    "duration": 291,
    "start_time": "2022-05-01T14:33:25.333Z"
   },
   {
    "duration": 74,
    "start_time": "2022-05-01T14:33:25.627Z"
   },
   {
    "duration": 18,
    "start_time": "2022-05-01T14:33:25.705Z"
   },
   {
    "duration": 22,
    "start_time": "2022-05-01T14:33:25.726Z"
   },
   {
    "duration": 11,
    "start_time": "2022-05-01T14:33:25.751Z"
   },
   {
    "duration": 43,
    "start_time": "2022-05-01T14:33:25.793Z"
   },
   {
    "duration": 58,
    "start_time": "2022-05-01T14:33:25.839Z"
   },
   {
    "duration": 32,
    "start_time": "2022-05-01T14:33:25.899Z"
   },
   {
    "duration": 119,
    "start_time": "2022-05-01T14:33:25.935Z"
   },
   {
    "duration": 140,
    "start_time": "2022-05-01T14:33:26.056Z"
   },
   {
    "duration": 95,
    "start_time": "2022-05-01T14:33:26.198Z"
   },
   {
    "duration": 52,
    "start_time": "2022-05-01T14:33:26.295Z"
   },
   {
    "duration": 5,
    "start_time": "2022-05-01T14:33:26.349Z"
   },
   {
    "duration": 42,
    "start_time": "2022-05-01T14:33:26.356Z"
   },
   {
    "duration": 51,
    "start_time": "2022-05-01T14:33:26.401Z"
   },
   {
    "duration": 39,
    "start_time": "2022-05-01T14:33:26.454Z"
   },
   {
    "duration": 17,
    "start_time": "2022-05-01T14:33:26.496Z"
   },
   {
    "duration": 6,
    "start_time": "2022-05-01T14:33:26.515Z"
   },
   {
    "duration": 25,
    "start_time": "2022-05-01T14:33:26.523Z"
   },
   {
    "duration": 52,
    "start_time": "2022-05-01T14:33:26.551Z"
   },
   {
    "duration": 22,
    "start_time": "2022-05-01T14:33:26.605Z"
   },
   {
    "duration": 19,
    "start_time": "2022-05-01T14:33:26.630Z"
   },
   {
    "duration": 58,
    "start_time": "2022-05-01T14:33:26.651Z"
   },
   {
    "duration": 20,
    "start_time": "2022-05-01T14:33:26.712Z"
   },
   {
    "duration": 14,
    "start_time": "2022-05-01T14:33:26.734Z"
   },
   {
    "duration": 53,
    "start_time": "2022-05-01T14:33:26.750Z"
   },
   {
    "duration": 13,
    "start_time": "2022-05-01T14:33:26.808Z"
   },
   {
    "duration": 6,
    "start_time": "2022-05-01T14:33:26.823Z"
   },
   {
    "duration": 28,
    "start_time": "2022-05-01T14:33:26.831Z"
   },
   {
    "duration": 38,
    "start_time": "2022-05-01T14:33:26.862Z"
   },
   {
    "duration": 22,
    "start_time": "2022-05-01T14:33:26.903Z"
   },
   {
    "duration": 24,
    "start_time": "2022-05-01T14:33:26.927Z"
   },
   {
    "duration": 13,
    "start_time": "2022-05-01T14:33:26.953Z"
   },
   {
    "duration": 6,
    "start_time": "2022-05-01T14:33:26.994Z"
   },
   {
    "duration": 11,
    "start_time": "2022-05-01T14:33:27.003Z"
   },
   {
    "duration": 6,
    "start_time": "2022-05-01T14:33:27.016Z"
   },
   {
    "duration": 10,
    "start_time": "2022-05-01T14:38:36.785Z"
   },
   {
    "duration": 228,
    "start_time": "2022-05-01T15:07:18.778Z"
   },
   {
    "duration": 257,
    "start_time": "2022-05-01T15:07:32.290Z"
   },
   {
    "duration": 569,
    "start_time": "2022-05-01T15:11:17.586Z"
   },
   {
    "duration": 247,
    "start_time": "2022-05-01T15:11:18.158Z"
   },
   {
    "duration": 18,
    "start_time": "2022-05-01T15:11:18.408Z"
   },
   {
    "duration": 49,
    "start_time": "2022-05-01T15:11:18.431Z"
   },
   {
    "duration": 29,
    "start_time": "2022-05-01T15:11:18.482Z"
   },
   {
    "duration": 19,
    "start_time": "2022-05-01T15:11:18.513Z"
   },
   {
    "duration": 9,
    "start_time": "2022-05-01T15:11:18.534Z"
   },
   {
    "duration": 73,
    "start_time": "2022-05-01T15:11:18.545Z"
   },
   {
    "duration": 25,
    "start_time": "2022-05-01T15:11:18.620Z"
   },
   {
    "duration": 60,
    "start_time": "2022-05-01T15:11:18.650Z"
   },
   {
    "duration": 117,
    "start_time": "2022-05-01T15:11:18.714Z"
   },
   {
    "duration": 124,
    "start_time": "2022-05-01T15:11:18.834Z"
   },
   {
    "duration": 107,
    "start_time": "2022-05-01T15:11:18.960Z"
   },
   {
    "duration": 68,
    "start_time": "2022-05-01T15:11:19.069Z"
   },
   {
    "duration": 4,
    "start_time": "2022-05-01T15:11:19.139Z"
   },
   {
    "duration": 22,
    "start_time": "2022-05-01T15:11:19.145Z"
   },
   {
    "duration": 71,
    "start_time": "2022-05-01T15:11:19.170Z"
   },
   {
    "duration": 15,
    "start_time": "2022-05-01T15:11:19.244Z"
   },
   {
    "duration": 48,
    "start_time": "2022-05-01T15:11:19.261Z"
   },
   {
    "duration": 7,
    "start_time": "2022-05-01T15:11:19.311Z"
   },
   {
    "duration": 30,
    "start_time": "2022-05-01T15:11:19.320Z"
   },
   {
    "duration": 49,
    "start_time": "2022-05-01T15:11:19.352Z"
   },
   {
    "duration": 23,
    "start_time": "2022-05-01T15:11:19.404Z"
   },
   {
    "duration": 20,
    "start_time": "2022-05-01T15:11:19.429Z"
   },
   {
    "duration": 53,
    "start_time": "2022-05-01T15:11:19.451Z"
   },
   {
    "duration": 31,
    "start_time": "2022-05-01T15:11:19.507Z"
   },
   {
    "duration": 17,
    "start_time": "2022-05-01T15:11:19.540Z"
   },
   {
    "duration": 53,
    "start_time": "2022-05-01T15:11:19.562Z"
   },
   {
    "duration": 12,
    "start_time": "2022-05-01T15:11:19.618Z"
   },
   {
    "duration": 7,
    "start_time": "2022-05-01T15:11:19.632Z"
   },
   {
    "duration": 55,
    "start_time": "2022-05-01T15:11:19.641Z"
   },
   {
    "duration": 21,
    "start_time": "2022-05-01T15:11:19.698Z"
   },
   {
    "duration": 23,
    "start_time": "2022-05-01T15:11:19.721Z"
   },
   {
    "duration": 52,
    "start_time": "2022-05-01T15:11:19.746Z"
   },
   {
    "duration": 17,
    "start_time": "2022-05-01T15:11:19.800Z"
   },
   {
    "duration": 8,
    "start_time": "2022-05-01T15:11:19.820Z"
   },
   {
    "duration": 11,
    "start_time": "2022-05-01T15:11:19.831Z"
   },
   {
    "duration": 8,
    "start_time": "2022-05-01T15:11:19.845Z"
   },
   {
    "duration": 607,
    "start_time": "2022-05-02T09:39:55.712Z"
   },
   {
    "duration": 310,
    "start_time": "2022-05-02T09:39:56.324Z"
   },
   {
    "duration": 14,
    "start_time": "2022-05-02T09:39:56.639Z"
   },
   {
    "duration": 26,
    "start_time": "2022-05-02T09:39:56.682Z"
   },
   {
    "duration": 14,
    "start_time": "2022-05-02T09:39:56.714Z"
   },
   {
    "duration": 9,
    "start_time": "2022-05-02T09:39:56.804Z"
   },
   {
    "duration": 12,
    "start_time": "2022-05-02T09:39:56.815Z"
   },
   {
    "duration": 31,
    "start_time": "2022-05-02T09:39:56.829Z"
   },
   {
    "duration": 65,
    "start_time": "2022-05-02T09:39:56.862Z"
   },
   {
    "duration": 5,
    "start_time": "2022-05-02T09:39:56.929Z"
   },
   {
    "duration": 19,
    "start_time": "2022-05-02T09:39:56.936Z"
   },
   {
    "duration": 30,
    "start_time": "2022-05-02T09:39:56.957Z"
   },
   {
    "duration": 50,
    "start_time": "2022-05-02T09:39:56.989Z"
   },
   {
    "duration": 30,
    "start_time": "2022-05-02T09:39:57.041Z"
   },
   {
    "duration": 41,
    "start_time": "2022-05-02T09:39:57.074Z"
   },
   {
    "duration": 117,
    "start_time": "2022-05-02T09:39:57.117Z"
   },
   {
    "duration": 129,
    "start_time": "2022-05-02T09:39:57.236Z"
   },
   {
    "duration": 98,
    "start_time": "2022-05-02T09:39:57.367Z"
   },
   {
    "duration": 72,
    "start_time": "2022-05-02T09:39:57.467Z"
   },
   {
    "duration": 4,
    "start_time": "2022-05-02T09:39:57.542Z"
   },
   {
    "duration": 37,
    "start_time": "2022-05-02T09:39:57.548Z"
   },
   {
    "duration": 63,
    "start_time": "2022-05-02T09:39:57.587Z"
   },
   {
    "duration": 38,
    "start_time": "2022-05-02T09:39:57.653Z"
   },
   {
    "duration": 18,
    "start_time": "2022-05-02T09:39:57.694Z"
   },
   {
    "duration": 5,
    "start_time": "2022-05-02T09:39:57.715Z"
   },
   {
    "duration": 35,
    "start_time": "2022-05-02T09:39:57.723Z"
   },
   {
    "duration": 47,
    "start_time": "2022-05-02T09:39:57.760Z"
   },
   {
    "duration": 19,
    "start_time": "2022-05-02T09:39:57.809Z"
   },
   {
    "duration": 18,
    "start_time": "2022-05-02T09:39:57.830Z"
   },
   {
    "duration": 48,
    "start_time": "2022-05-02T09:39:57.850Z"
   },
   {
    "duration": 26,
    "start_time": "2022-05-02T09:39:57.900Z"
   },
   {
    "duration": 12,
    "start_time": "2022-05-02T09:39:57.929Z"
   },
   {
    "duration": 45,
    "start_time": "2022-05-02T09:39:57.944Z"
   },
   {
    "duration": 15,
    "start_time": "2022-05-02T09:39:57.996Z"
   },
   {
    "duration": 6,
    "start_time": "2022-05-02T09:39:58.013Z"
   },
   {
    "duration": 26,
    "start_time": "2022-05-02T09:39:58.021Z"
   },
   {
    "duration": 39,
    "start_time": "2022-05-02T09:39:58.049Z"
   },
   {
    "duration": 25,
    "start_time": "2022-05-02T09:39:58.091Z"
   },
   {
    "duration": 17,
    "start_time": "2022-05-02T09:39:58.119Z"
   },
   {
    "duration": 52,
    "start_time": "2022-05-02T09:39:58.139Z"
   },
   {
    "duration": 12,
    "start_time": "2022-05-02T09:39:58.194Z"
   },
   {
    "duration": 9,
    "start_time": "2022-05-02T09:39:58.208Z"
   },
   {
    "duration": 7,
    "start_time": "2022-05-02T09:39:58.219Z"
   },
   {
    "duration": 12,
    "start_time": "2022-05-14T08:44:11.185Z"
   },
   {
    "duration": 47,
    "start_time": "2022-08-27T12:25:37.939Z"
   },
   {
    "duration": 410,
    "start_time": "2022-08-27T12:25:42.814Z"
   },
   {
    "duration": 232,
    "start_time": "2022-08-27T12:25:43.226Z"
   },
   {
    "duration": 9,
    "start_time": "2022-08-27T12:25:43.459Z"
   },
   {
    "duration": 17,
    "start_time": "2022-08-27T12:25:43.471Z"
   },
   {
    "duration": 14,
    "start_time": "2022-08-27T12:25:43.489Z"
   },
   {
    "duration": 7,
    "start_time": "2022-08-27T12:25:43.509Z"
   },
   {
    "duration": 6,
    "start_time": "2022-08-27T12:25:43.518Z"
   },
   {
    "duration": 15,
    "start_time": "2022-08-27T12:25:43.526Z"
   },
   {
    "duration": 35,
    "start_time": "2022-08-27T12:25:43.543Z"
   },
   {
    "duration": 3,
    "start_time": "2022-08-27T12:25:43.581Z"
   },
   {
    "duration": 11,
    "start_time": "2022-08-27T12:25:43.609Z"
   },
   {
    "duration": 15,
    "start_time": "2022-08-27T12:25:43.622Z"
   },
   {
    "duration": 33,
    "start_time": "2022-08-27T12:25:43.639Z"
   },
   {
    "duration": 22,
    "start_time": "2022-08-27T12:25:43.673Z"
   },
   {
    "duration": 29,
    "start_time": "2022-08-27T12:25:43.697Z"
   },
   {
    "duration": 82,
    "start_time": "2022-08-27T12:25:43.728Z"
   },
   {
    "duration": 75,
    "start_time": "2022-08-27T12:25:43.812Z"
   },
   {
    "duration": 69,
    "start_time": "2022-08-27T12:25:43.888Z"
   },
   {
    "duration": 64,
    "start_time": "2022-08-27T12:25:43.959Z"
   },
   {
    "duration": 3,
    "start_time": "2022-08-27T12:25:44.025Z"
   },
   {
    "duration": 15,
    "start_time": "2022-08-27T12:25:44.030Z"
   },
   {
    "duration": 37,
    "start_time": "2022-08-27T12:25:44.047Z"
   },
   {
    "duration": 23,
    "start_time": "2022-08-27T12:25:44.086Z"
   },
   {
    "duration": 10,
    "start_time": "2022-08-27T12:25:44.111Z"
   },
   {
    "duration": 4,
    "start_time": "2022-08-27T12:25:44.122Z"
   },
   {
    "duration": 24,
    "start_time": "2022-08-27T12:25:44.127Z"
   },
   {
    "duration": 14,
    "start_time": "2022-08-27T12:25:44.153Z"
   },
   {
    "duration": 40,
    "start_time": "2022-08-27T12:25:44.170Z"
   },
   {
    "duration": 15,
    "start_time": "2022-08-27T12:25:44.211Z"
   },
   {
    "duration": 23,
    "start_time": "2022-08-27T12:25:44.228Z"
   },
   {
    "duration": 14,
    "start_time": "2022-08-27T12:25:44.253Z"
   },
   {
    "duration": 8,
    "start_time": "2022-08-27T12:25:44.269Z"
   },
   {
    "duration": 36,
    "start_time": "2022-08-27T12:25:44.279Z"
   },
   {
    "duration": 10,
    "start_time": "2022-08-27T12:25:44.316Z"
   },
   {
    "duration": 4,
    "start_time": "2022-08-27T12:25:44.328Z"
   },
   {
    "duration": 21,
    "start_time": "2022-08-27T12:25:44.333Z"
   },
   {
    "duration": 11,
    "start_time": "2022-08-27T12:25:44.356Z"
   },
   {
    "duration": 40,
    "start_time": "2022-08-27T12:25:44.369Z"
   },
   {
    "duration": 11,
    "start_time": "2022-08-27T12:25:44.410Z"
   },
   {
    "duration": 22,
    "start_time": "2022-08-27T12:25:44.423Z"
   },
   {
    "duration": 9,
    "start_time": "2022-08-27T12:25:44.447Z"
   },
   {
    "duration": 29,
    "start_time": "2022-08-27T12:25:44.458Z"
   },
   {
    "duration": 20,
    "start_time": "2022-08-27T12:25:44.488Z"
   }
  ],
  "colab": {
   "collapsed_sections": [
    "E0vqbgi9ay0H",
    "VUC88oWjTJw2"
   ],
   "name": "yandex_music_project.ipynb",
   "provenance": []
  },
  "kernelspec": {
   "display_name": "Python 3 (ipykernel)",
   "language": "python",
   "name": "python3"
  },
  "language_info": {
   "codemirror_mode": {
    "name": "ipython",
    "version": 3
   },
   "file_extension": ".py",
   "mimetype": "text/x-python",
   "name": "python",
   "nbconvert_exporter": "python",
   "pygments_lexer": "ipython3",
   "version": "3.9.13"
  },
  "toc": {
   "base_numbering": 1,
   "nav_menu": {},
   "number_sections": true,
   "sideBar": true,
   "skip_h1_title": true,
   "title_cell": "Table of Contents",
   "title_sidebar": "Contents",
   "toc_cell": false,
   "toc_position": {
    "height": "calc(100% - 180px)",
    "left": "10px",
    "top": "150px",
    "width": "165px"
   },
   "toc_section_display": true,
   "toc_window_display": true
  }
 },
 "nbformat": 4,
 "nbformat_minor": 1
}
